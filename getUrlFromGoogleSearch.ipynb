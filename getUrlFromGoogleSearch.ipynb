{
 "cells": [
  {
   "cell_type": "code",
   "execution_count": 1,
   "metadata": {},
   "outputs": [
    {
     "name": "stdout",
     "output_type": "stream",
     "text": [
      "created virtual environment CPython3.10.0.candidate.2-64 in 35266ms\n",
      "  creator CPython3Windows(dest=C:\\Users\\tkdgu\\OneDrive\\문서\\Github\\idol_info_finder\\venv, clear=False, no_vcs_ignore=False, global=False)\n",
      "  seeder FromAppData(download=False, pip=bundle, setuptools=bundle, wheel=bundle, via=copy, app_data_dir=C:\\Users\\tkdgu\\AppData\\Local\\pypa\\virtualenv)\n",
      "    added seed packages: Babel==2.15.0, MarkupSafe==2.1.5, PyYAML==6.0.1, QtPy==2.4.1, Send2Trash==1.8.3, anyio==4.4.0, argon2_cffi==23.1.0, argon2_cffi_bindings==21.2.0, arrow==1.3.0, asttokens==2.4.1, async_lru==2.0.4, attrs==23.2.0, beautifulsoup4==4.12.3, bleach==6.1.0, cachetools==5.4.0, certifi==2024.7.4, cffi==1.16.0, charset_normalizer==3.3.2, colorama==0.4.6, comm==0.2.2, debugpy==1.8.2, decorator==5.1.1, defusedxml==0.7.1, entrypoints==0.4, exceptiongroup==1.2.2, executing==2.0.1, fastjsonschema==2.20.0, fqdn==1.5.1, google_api_core==2.19.1, google_api_python_client==2.137.0, google_auth==2.32.0, google_auth_httplib2==0.2.0, googleapis_common_protos==1.63.2, h11==0.14.0, httpcore==1.0.5, httplib2==0.22.0, httpx==0.27.0, idna==3.7, ipykernel==6.29.5, ipython==8.26.0, ipywidgets==8.1.3, isoduration==20.11.0, jedi==0.19.1, jinja2==3.1.4, json5==0.9.25, jsonpointer==3.0.0, jsonschema==4.23.0, jsonschema_specifications==2023.12.1, jupyter_client==7.4.9, jupyter_console==6.6.3, jupyter_core==5.7.2, jupyter_events==0.10.0, jupyter_lsp==2.2.5, jupyter_server==2.14.2, jupyter_server_terminals==0.5.3, jupyterlab_pygments==0.3.0, jupyterlab_server==2.27.3, jupyterlab_widgets==3.0.11, matplotlib_inline==0.1.7, mistune==3.0.2, nbclient==0.10.0, nbconvert==7.16.4, nbformat==5.10.4, nest_asyncio==1.6.0, notebook_shim==0.2.4, overrides==7.7.0, packaging==24.1, pandocfilters==1.5.1, parso==0.8.4, pip==24.1.2, platformdirs==4.2.2, prometheus_client==0.20.0, prompt_toolkit==3.0.47, proto_plus==1.24.0, protobuf==5.27.2, psutil==6.0.0, pure_eval==0.2.2, pyasn1==0.6.0, pyasn1_modules==0.4.0, pycparser==2.22, pygments==2.18.0, pyparsing==3.1.2, python_dateutil==2.9.0.post0, python_json_logger==2.0.7, pywin32==306, pywinpty==2.0.13, pyzmq==24.0.1, qtconsole==5.5.2, referencing==0.35.1, requests==2.32.3, rfc3339_validator==0.1.4, rfc3986_validator==0.1.1, rpds_py==0.19.0, rsa==4.9, setuptools==70.1.1, six==1.16.0, sniffio==1.3.1, soupsieve==2.5, stack_data==0.6.3, terminado==0.18.1, tinycss2==1.3.0, tomli==2.0.1, tornado==6.4.1, traitlets==5.14.3, types_python_dateutil==2.9.0.20240316, typing_extensions==4.12.2, uri_template==1.3.0, uritemplate==4.1.1, urllib3==2.2.2, wcwidth==0.2.13, webcolors==24.6.0, webencodings==0.5.1, websocket_client==1.8.0, wheel==0.43.0, widgetsnbextension==4.0.11\n",
      "  activators BashActivator,BatchActivator,FishActivator,NushellActivator,PowerShellActivator,PythonActivator\n",
      "\n",
      "c:\\Users\\tkdgu\\OneDrive\\����\\Github\\idol_info_finder>() \n",
      "Requirement already satisfied: google-api-python-client in c:\\users\\tkdgu\\onedrive\\문서\\github\\idol_info_finder\\venv\\lib\\site-packages (2.137.0)\n",
      "Requirement already satisfied: httplib2<1.dev0,>=0.19.0 in c:\\users\\tkdgu\\onedrive\\문서\\github\\idol_info_finder\\venv\\lib\\site-packages (from google-api-python-client) (0.22.0)\n",
      "Requirement already satisfied: google-auth!=2.24.0,!=2.25.0,<3.0.0.dev0,>=1.32.0 in c:\\users\\tkdgu\\onedrive\\문서\\github\\idol_info_finder\\venv\\lib\\site-packages (from google-api-python-client) (2.32.0)\n",
      "Requirement already satisfied: google-auth-httplib2<1.0.0,>=0.2.0 in c:\\users\\tkdgu\\onedrive\\문서\\github\\idol_info_finder\\venv\\lib\\site-packages (from google-api-python-client) (0.2.0)\n",
      "Requirement already satisfied: google-api-core!=2.0.*,!=2.1.*,!=2.2.*,!=2.3.0,<3.0.0.dev0,>=1.31.5 in c:\\users\\tkdgu\\onedrive\\문서\\github\\idol_info_finder\\venv\\lib\\site-packages (from google-api-python-client) (2.19.1)\n",
      "Requirement already satisfied: uritemplate<5,>=3.0.1 in c:\\users\\tkdgu\\onedrive\\문서\\github\\idol_info_finder\\venv\\lib\\site-packages (from google-api-python-client) (4.1.1)\n",
      "Requirement already satisfied: googleapis-common-protos<2.0.dev0,>=1.56.2 in c:\\users\\tkdgu\\onedrive\\문서\\github\\idol_info_finder\\venv\\lib\\site-packages (from google-api-core!=2.0.*,!=2.1.*,!=2.2.*,!=2.3.0,<3.0.0.dev0,>=1.31.5->google-api-python-client) (1.63.2)\n",
      "Requirement already satisfied: protobuf!=3.20.0,!=3.20.1,!=4.21.0,!=4.21.1,!=4.21.2,!=4.21.3,!=4.21.4,!=4.21.5,<6.0.0.dev0,>=3.19.5 in c:\\users\\tkdgu\\onedrive\\문서\\github\\idol_info_finder\\venv\\lib\\site-packages (from google-api-core!=2.0.*,!=2.1.*,!=2.2.*,!=2.3.0,<3.0.0.dev0,>=1.31.5->google-api-python-client) (5.27.2)\n",
      "Requirement already satisfied: proto-plus<2.0.0dev,>=1.22.3 in c:\\users\\tkdgu\\onedrive\\문서\\github\\idol_info_finder\\venv\\lib\\site-packages (from google-api-core!=2.0.*,!=2.1.*,!=2.2.*,!=2.3.0,<3.0.0.dev0,>=1.31.5->google-api-python-client) (1.24.0)\n",
      "Requirement already satisfied: requests<3.0.0.dev0,>=2.18.0 in c:\\users\\tkdgu\\onedrive\\문서\\github\\idol_info_finder\\venv\\lib\\site-packages (from google-api-core!=2.0.*,!=2.1.*,!=2.2.*,!=2.3.0,<3.0.0.dev0,>=1.31.5->google-api-python-client) (2.32.3)\n",
      "Requirement already satisfied: cachetools<6.0,>=2.0.0 in c:\\users\\tkdgu\\onedrive\\문서\\github\\idol_info_finder\\venv\\lib\\site-packages (from google-auth!=2.24.0,!=2.25.0,<3.0.0.dev0,>=1.32.0->google-api-python-client) (5.4.0)\n",
      "Requirement already satisfied: pyasn1-modules>=0.2.1 in c:\\users\\tkdgu\\onedrive\\문서\\github\\idol_info_finder\\venv\\lib\\site-packages (from google-auth!=2.24.0,!=2.25.0,<3.0.0.dev0,>=1.32.0->google-api-python-client) (0.4.0)\n",
      "Requirement already satisfied: rsa<5,>=3.1.4 in c:\\users\\tkdgu\\onedrive\\문서\\github\\idol_info_finder\\venv\\lib\\site-packages (from google-auth!=2.24.0,!=2.25.0,<3.0.0.dev0,>=1.32.0->google-api-python-client) (4.9)\n",
      "Requirement already satisfied: pyparsing!=3.0.0,!=3.0.1,!=3.0.2,!=3.0.3,<4,>=2.4.2 in c:\\users\\tkdgu\\onedrive\\문서\\github\\idol_info_finder\\venv\\lib\\site-packages (from httplib2<1.dev0,>=0.19.0->google-api-python-client) (3.1.2)\n",
      "Requirement already satisfied: pyasn1<0.7.0,>=0.4.6 in c:\\users\\tkdgu\\onedrive\\문서\\github\\idol_info_finder\\venv\\lib\\site-packages (from pyasn1-modules>=0.2.1->google-auth!=2.24.0,!=2.25.0,<3.0.0.dev0,>=1.32.0->google-api-python-client) (0.6.0)\n",
      "Requirement already satisfied: charset-normalizer<4,>=2 in c:\\users\\tkdgu\\onedrive\\문서\\github\\idol_info_finder\\venv\\lib\\site-packages (from requests<3.0.0.dev0,>=2.18.0->google-api-core!=2.0.*,!=2.1.*,!=2.2.*,!=2.3.0,<3.0.0.dev0,>=1.31.5->google-api-python-client) (3.3.2)\n",
      "Requirement already satisfied: idna<4,>=2.5 in c:\\users\\tkdgu\\onedrive\\문서\\github\\idol_info_finder\\venv\\lib\\site-packages (from requests<3.0.0.dev0,>=2.18.0->google-api-core!=2.0.*,!=2.1.*,!=2.2.*,!=2.3.0,<3.0.0.dev0,>=1.31.5->google-api-python-client) (3.7)\n",
      "Requirement already satisfied: urllib3<3,>=1.21.1 in c:\\users\\tkdgu\\onedrive\\문서\\github\\idol_info_finder\\venv\\lib\\site-packages (from requests<3.0.0.dev0,>=2.18.0->google-api-core!=2.0.*,!=2.1.*,!=2.2.*,!=2.3.0,<3.0.0.dev0,>=1.31.5->google-api-python-client) (2.2.2)\n",
      "Requirement already satisfied: certifi>=2017.4.17 in c:\\users\\tkdgu\\onedrive\\문서\\github\\idol_info_finder\\venv\\lib\\site-packages (from requests<3.0.0.dev0,>=2.18.0->google-api-core!=2.0.*,!=2.1.*,!=2.2.*,!=2.3.0,<3.0.0.dev0,>=1.31.5->google-api-python-client) (2024.7.4)\n"
     ]
    }
   ],
   "source": [
    "# 패키지 인스톨\n",
    "# https://github.com/googleapis/google-api-python-client?tab=readme-ov-file#windows\n",
    "\n",
    "# !pip install virtualenv\n",
    "!virtualenv venv\n",
    "!venv\\Scripts\\activate.bat\n",
    "# !venv\\Scripts\\pip.exe install google-api-python-client"
   ]
  },
  {
   "cell_type": "code",
   "execution_count": 2,
   "metadata": {},
   "outputs": [],
   "source": [
    "import os\n",
    "from dotenv import load_dotenv\n",
    "\n",
    "load_dotenv()  # .env 파일에서 환경 변수를 불러옵니다.\n",
    "\n",
    "# api_key = os.getenv(\"OPENAI_API_KEY\")\n",
    "# print(f\"API Key: {api_key}\")\n",
    "google_api_key = os.getenv(\"GOOGLE_API_KEY\")\n",
    "search_engine_key = os.getenv(\"GOOGLE_SEARCH_ENGINE\")"
   ]
  },
  {
   "cell_type": "code",
   "execution_count": 21,
   "metadata": {},
   "outputs": [
    {
     "name": "stdout",
     "output_type": "stream",
     "text": [
      "{'context': {'title': 'sanghyoon'},\n",
      " 'kind': 'customsearch#search',\n",
      " 'queries': {'request': [{'count': 10,\n",
      "                          'cx': '70fd894c0e18248de',\n",
      "                          'inputEncoding': 'utf8',\n",
      "                          'outputEncoding': 'utf8',\n",
      "                          'safe': 'off',\n",
      "                          'searchTerms': 'yungblad',\n",
      "                          'siteSearch': 'https://namu.wiki/w/',\n",
      "                          'siteSearchFilter': 'i',\n",
      "                          'startIndex': 1,\n",
      "                          'title': 'Google Custom Search - yungblad'}]},\n",
      " 'searchInformation': {'formattedSearchTime': '0.29',\n",
      "                       'formattedTotalResults': '0',\n",
      "                       'searchTime': 0.287064,\n",
      "                       'totalResults': '0'},\n",
      " 'spelling': {'correctedQuery': 'yungblud site:https://namu.wiki/w/',\n",
      "              'htmlCorrectedQuery': '<b><i>yungblud</i></b> '\n",
      "                                    'site:https://namu.wiki/w/'},\n",
      " 'url': {'template': 'https://www.googleapis.com/customsearch/v1?q={searchTerms}&num={count?}&start={startIndex?}&lr={language?}&safe={safe?}&cx={cx?}&sort={sort?}&filter={filter?}&gl={gl?}&cr={cr?}&googlehost={googleHost?}&c2coff={disableCnTwTranslation?}&hq={hq?}&hl={hl?}&siteSearch={siteSearch?}&siteSearchFilter={siteSearchFilter?}&exactTerms={exactTerms?}&excludeTerms={excludeTerms?}&linkSite={linkSite?}&orTerms={orTerms?}&dateRestrict={dateRestrict?}&lowRange={lowRange?}&highRange={highRange?}&searchType={searchType}&fileType={fileType?}&rights={rights?}&imgSize={imgSize?}&imgType={imgType?}&imgColorType={imgColorType?}&imgDominantColor={imgDominantColor?}&alt=json',\n",
      "         'type': 'application/json'}}\n"
     ]
    }
   ],
   "source": [
    "#!/usr/bin/env python\n",
    "# -*- coding: utf-8 -*-\n",
    "#\n",
    "# Copyright 2014 Google Inc. All Rights Reserved.\n",
    "#\n",
    "# Licensed under the Apache License, Version 2.0 (the \"License\");\n",
    "# you may not use this file except in compliance with the License.\n",
    "# You may obtain a copy of the License at\n",
    "#\n",
    "#      http://www.apache.org/licenses/LICENSE-2.0\n",
    "#\n",
    "# Unless required by applicable law or agreed to in writing, software\n",
    "# distributed under the License is distributed on an \"AS IS\" BASIS,\n",
    "# WITHOUT WARRANTIES OR CONDITIONS OF ANY KIND, either express or implied.\n",
    "# See the License for the specific language governing permissions and\n",
    "# limitations under the License.\n",
    "\n",
    "\"\"\"Simple command-line example for Custom Search.\n",
    "\n",
    "Command-line application that does a search.\n",
    "\"\"\"\n",
    "\n",
    "# __author__ = \"jcgregorio@google.com (Joe Gregorio)\"\n",
    "\n",
    "import pprint\n",
    "\n",
    "from googleapiclient.discovery import build\n",
    "\n",
    "\n",
    "# def main():\n",
    "# Build a service object for interacting with the API. Visit\n",
    "# the Google APIs Console <http://code.google.com/apis/console>\n",
    "# to get an API key for your own application.\n",
    "service = build(\n",
    "\"customsearch\", \"v1\", developerKey=google_api_key # init로 생성\n",
    ")\n",
    "\n",
    "query = 'yungblad' #입력\n",
    "siteDomain = \"https://namu.wiki/w/\" #입력 / default\n",
    "# siteDomain = \"https://ko.wikipedia.org/\"\n",
    "\n",
    "res = (\n",
    "service.cse()\n",
    ".list(\n",
    "    q=query,\n",
    "    cx=search_engine_key, #init로 생성\n",
    "    siteSearch=siteDomain,\n",
    "    siteSearchFilter='i'\n",
    "    \n",
    ")\n",
    ".execute()\n",
    ")\n",
    "pprint.pprint(res)\n",
    "\n",
    "\n",
    "# if __name__ == \"__main__\":\n",
    "#     main()"
   ]
  },
  {
   "cell_type": "code",
   "execution_count": null,
   "metadata": {},
   "outputs": [],
   "source": [
    "TODO\n",
    "첫 페이지만 검색해서 가져오면 될지?\n",
    "# 아니라면 wiki를 가져올 수 있는 API 패턴을 만들 수 있는지?\n"
   ]
  },
  {
   "cell_type": "code",
   "execution_count": 17,
   "metadata": {},
   "outputs": [
    {
     "ename": "ModuleNotFoundError",
     "evalue": "No module named 'pandas'",
     "output_type": "error",
     "traceback": [
      "\u001b[1;31m---------------------------------------------------------------------------\u001b[0m",
      "\u001b[1;31mModuleNotFoundError\u001b[0m                       Traceback (most recent call last)",
      "Cell \u001b[1;32mIn[17], line 1\u001b[0m\n\u001b[1;32m----> 1\u001b[0m \u001b[38;5;28;01mimport\u001b[39;00m \u001b[38;5;21;01mpandas\u001b[39;00m \u001b[38;5;28;01mas\u001b[39;00m \u001b[38;5;21;01mpd\u001b[39;00m\n",
      "\u001b[1;31mModuleNotFoundError\u001b[0m: No module named 'pandas'"
     ]
    }
   ],
   "source": [
    "import pandas as pd"
   ]
  },
  {
   "cell_type": "code",
   "execution_count": 113,
   "metadata": {},
   "outputs": [],
   "source": [
    "def get_url(query, siteDomain = \"https://namu.wiki/w/\"):\n",
    "    service = build(\n",
    "    \"customsearch\", \"v1\", developerKey=google_api_key # init로 생성\n",
    "    )\n",
    "\n",
    "    # query = 'yungblad' #입력\n",
    "    # siteDomain = \"https://namu.wiki/w/\" #입력 / default\n",
    "    # siteDomain = \"https://ko.wikipedia.org/\"\n",
    "    \n",
    "    res = (\n",
    "    service.cse()\n",
    "    .list(\n",
    "        q=query,\n",
    "        cx=search_engine_key, #init로 생성\n",
    "        siteSearch=siteDomain,\n",
    "        siteSearchFilter='i',\n",
    "        cr = 'countryKR' \n",
    "        \n",
    "    )\n",
    "    .execute()\n",
    "    )\n",
    "    \n",
    "    # if verbose == True:\n",
    "    #     pprint.pprint(res)\n",
    "    \n",
    "    if int(res['searchInformation']['totalResults']) == 0:\n",
    "        # Regular expression to capture everything before \" site\"\n",
    "        pattern = r'^(.*?) site'\n",
    "\n",
    "        try:\n",
    "            text = res['spelling']['correctedQuery']\n",
    "            \n",
    "            # Using re.search to find the match\n",
    "            match = re.search(pattern, text)\n",
    "\n",
    "            # Extracting and printing the result\n",
    "            if match:\n",
    "                adj_query = match.group(1)\n",
    "                \n",
    "                res = (\n",
    "                service.cse()\n",
    "                .list(\n",
    "                    q=adj_query,\n",
    "                    cx=search_engine_key, #init로 생성\n",
    "                    siteSearch=siteDomain,\n",
    "                    siteSearchFilter='i',\n",
    "                    cr = 'countryKR' \n",
    "                    \n",
    "                )\n",
    "                .execute()\n",
    "                )\n",
    "                \n",
    "        except:\n",
    "            print(\"No match found\")\n",
    "            \n",
    "    url = res['items'][0]['formattedUrl']\n",
    "    \n",
    "    return (url, res)"
   ]
  },
  {
   "cell_type": "code",
   "execution_count": 114,
   "metadata": {},
   "outputs": [],
   "source": [
    "(samp, f) = get_url('fromis_9')"
   ]
  },
  {
   "cell_type": "code",
   "execution_count": 115,
   "metadata": {},
   "outputs": [
    {
     "data": {
      "text/plain": [
       "'https://en.namu.wiki/w/fromis_9%20THE100%20아이돌메이드콘서트'"
      ]
     },
     "execution_count": 115,
     "metadata": {},
     "output_type": "execute_result"
    }
   ],
   "source": [
    "samp"
   ]
  },
  {
   "cell_type": "code",
   "execution_count": 126,
   "metadata": {},
   "outputs": [
    {
     "data": {
      "text/plain": [
       "{'kind': 'customsearch#result',\n",
       " 'title': '박지원(프로미스나인) - 나무위키',\n",
       " 'htmlTitle': '박지원(프로미스나인) - 나무위키',\n",
       " 'link': 'https://namu.wiki/w/%EB%B0%95%EC%A7%80%EC%9B%90(%ED%94%84%EB%A1%9C%EB%AF%B8%EC%8A%A4%EB%82%98%EC%9D%B8)',\n",
       " 'displayLink': 'namu.wiki',\n",
       " 'snippet': \"Jun 24, 2024 ... 11. [ 리얼리티 ]. 프로미스의 방 로고.png. fromis_9 THE100 아이돌메이드콘서트 로고. ... 그리고 V LIVE의 리얼리티 프로였던 'fromis_9 The 100'에서\\xa0...\",\n",
       " 'htmlSnippet': 'Jun 24, 2024 <b>...</b> 11. [ 리얼리티 ]. 프로미스의 방 로고.png. <b>fromis_9</b> THE100 아이돌메이드콘서트 로고. ... 그리고 V LIVE의 리얼리티 프로였던 &#39;<b>fromis_9</b> The 100&#39;에서&nbsp;...',\n",
       " 'formattedUrl': 'https://namu.wiki/w/박지원(프로미스나인)',\n",
       " 'htmlFormattedUrl': 'https://namu.wiki/w/박지원(프로미스나인)',\n",
       " 'pagemap': {'cse_thumbnail': [{'src': 'https://encrypted-tbn0.gstatic.com/images?q=tbn:ANd9GcSdY_7MXKHwcl5Fxq4AiGOX_VJVhRAtPyJw5AQmOClnlWv2HGxdh09wYnU&s',\n",
       "    'width': '201',\n",
       "    'height': '251'}],\n",
       "  'metatags': [{'application-name': '나무위키',\n",
       "    'msapplication-starturl': '/w/%EB%82%98%EB%AC%B4%EC%9C%84%ED%82%A4:%EB%8C%80%EB%AC%B8',\n",
       "    'og:image': '//i.namu.wiki/i/ejAv2OdAX_rc1qL5CCIIcIxslAnp_5lvUzemxBhTpRtV46RH8yQBJ9AW1ibsnVihlN_zxWkxmKI52yPxrQX33w.webp',\n",
       "    'og:type': 'article',\n",
       "    'theme-color': '#00a69c',\n",
       "    'og:site_name': '나무위키',\n",
       "    'viewport': 'user-scalable=no, initial-scale=1.0, maximum-scale=5.0, minimum-scale=1.0, width=device-width',\n",
       "    'msapplication-tooltip': '나무위키',\n",
       "    'og:title': '박지원(프로미스나인)',\n",
       "    'mobile-web-app-capable': 'yes',\n",
       "    'og:url': 'https://namu.wiki/w/%EB%B0%95%EC%A7%80%EC%9B%90(%ED%94%84%EB%A1%9C%EB%AF%B8%EC%8A%A4%EB%82%98%EC%9D%B8)',\n",
       "    'og:description': '파일:고민젼.gif 파일:포니테일젼.gif 대한민국 의  싱어송라이터 .  플레디스 엔터테인먼트  소속 8인조 걸그'}],\n",
       "  'cse_image': [{'src': 'https://i.namu.wiki/i/I7zBVjlOp2nPNGlJ-mhPkuRmTOipQLA_hpqUrHeogsNUHX_n6XqtiW3UcAAD_M2b9XNK5hXAU1bIcDPaMxatrQ.webp'}]}}"
      ]
     },
     "execution_count": 126,
     "metadata": {},
     "output_type": "execute_result"
    }
   ],
   "source": [
    "f['items'][5]#['displayLink']"
   ]
  },
  {
   "cell_type": "code",
   "execution_count": 155,
   "metadata": {},
   "outputs": [],
   "source": [
    "from get_namu_url import getNamuUrl\n",
    "\n",
    "inst1 = getNamuUrl(google_api_key, search_engine_key)"
   ]
  },
  {
   "cell_type": "code",
   "execution_count": 156,
   "metadata": {},
   "outputs": [
    {
     "ename": "NameError",
     "evalue": "name 'self' is not defined",
     "output_type": "error",
     "traceback": [
      "\u001b[1;31m---------------------------------------------------------------------------\u001b[0m",
      "\u001b[1;31mNameError\u001b[0m                                 Traceback (most recent call last)",
      "Cell \u001b[1;32mIn[156], line 1\u001b[0m\n\u001b[1;32m----> 1\u001b[0m \u001b[43minst1\u001b[49m\u001b[38;5;241;43m.\u001b[39;49m\u001b[43mget_url\u001b[49m\u001b[43m(\u001b[49m\u001b[38;5;124;43m\"\u001b[39;49m\u001b[38;5;124;43m프로미스나인\u001b[39;49m\u001b[38;5;124;43m\"\u001b[39;49m\u001b[43m)\u001b[49m\n",
      "File \u001b[1;32mc:\\Users\\tkdgu\\OneDrive\\문서\\Github\\idol_info_finder\\get_namu_url.py:15\u001b[0m, in \u001b[0;36mget_url\u001b[1;34m(query, siteDomain)\u001b[0m\n\u001b[0;32m      0\u001b[0m <Error retrieving source code with stack_data see ipython/ipython#13598>\n",
      "\u001b[1;31mNameError\u001b[0m: name 'self' is not defined"
     ]
    }
   ],
   "source": [
    "inst1.get_url(\"프로미스나인\")"
   ]
  },
  {
   "cell_type": "code",
   "execution_count": null,
   "metadata": {},
   "outputs": [],
   "source": []
  }
 ],
 "metadata": {
  "kernelspec": {
   "display_name": "Python 3",
   "language": "python",
   "name": "python3"
  },
  "language_info": {
   "codemirror_mode": {
    "name": "ipython",
    "version": 3
   },
   "file_extension": ".py",
   "mimetype": "text/x-python",
   "name": "python",
   "nbconvert_exporter": "python",
   "pygments_lexer": "ipython3",
   "version": "3.10.0rc2"
  }
 },
 "nbformat": 4,
 "nbformat_minor": 2
}
