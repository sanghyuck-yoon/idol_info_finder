{
 "cells": [
  {
   "cell_type": "markdown",
   "id": "KCTIISFU7B0T",
   "metadata": {
    "id": "KCTIISFU7B0T"
   },
   "source": [
    "# TODO\n"
   ]
  },
  {
   "cell_type": "code",
   "execution_count": 2,
   "id": "0Uc8Kx6vMXen",
   "metadata": {
    "id": "0Uc8Kx6vMXen"
   },
   "outputs": [],
   "source": [
    "#위키문서 전처리\n",
    "##PROFILE에서 참조 문장 모두 제거, 원문만 남아있는 것이 필요함\n",
    "\n",
    "#쿼리 최적화 \n",
    "##multi query retriever 참조\n",
    "\n",
    "#리트리버 개발\n",
    "##\n",
    "\n",
    "#수집 검증 및 쿼리 재생성\n",
    "##self-rag 참조"
   ]
  },
  {
   "cell_type": "markdown",
   "id": "ggvlsBi9TuGI",
   "metadata": {
    "id": "ggvlsBi9TuGI"
   },
   "source": [
    "# Settings"
   ]
  },
  {
   "cell_type": "code",
   "execution_count": 6,
   "id": "7FfaZbbFZi2jJtGUiVXTnszn",
   "metadata": {
    "id": "7FfaZbbFZi2jJtGUiVXTnszn",
    "tags": []
   },
   "outputs": [
    {
     "name": "stdout",
     "output_type": "stream",
     "text": [
      "Note: you may need to restart the kernel to use updated packages.\n"
     ]
    },
    {
     "name": "stderr",
     "output_type": "stream",
     "text": [
      "\n",
      "[notice] A new release of pip is available: 24.1.2 -> 24.2\n",
      "[notice] To update, run: python.exe -m pip install --upgrade pip\n"
     ]
    }
   ],
   "source": [
    "# %pip install -q -U langchain langchain_community langchain_core langchain_openai faiss-cpu langchain_anthropic langgraph langchain_google_community langchain_google_vertexai langchain-google-genai"
   ]
  },
  {
   "cell_type": "code",
   "execution_count": 1,
   "id": "ylmPnNdGUEMo",
   "metadata": {
    "id": "ylmPnNdGUEMo"
   },
   "outputs": [],
   "source": [
    "#수집할 아티스트 데이터\n",
    "we_art_name = 'FROMIS_9'"
   ]
  },
  {
   "cell_type": "code",
   "execution_count": 2,
   "id": "01cea84c",
   "metadata": {},
   "outputs": [],
   "source": [
    "from langchain_text_splitters import RecursiveCharacterTextSplitter\n",
    "import re\n",
    "\n",
    "from langchain_openai import ChatOpenAI\n",
    "from langchain_core.prompts import ChatPromptTemplate\n",
    "from langchain_core.runnables import RunnablePassthrough\n",
    "from langchain_core.output_parsers import StrOutputParser\n",
    "\n",
    "import faiss\n",
    "from langchain_openai import OpenAIEmbeddings\n",
    "from langchain_google_vertexai import VertexAIEmbeddings\n",
    "from langchain_google_community import BigQueryVectorStore\n",
    "from langchain_google_community.bigquery import BigQueryLoader\n",
    "from langchain_community.vectorstores import FAISS\n",
    "from langchain_community.docstore.in_memory import InMemoryDocstore\n",
    "\n",
    "import vertexai"
   ]
  },
  {
   "cell_type": "code",
   "execution_count": 3,
   "id": "0cefca77",
   "metadata": {},
   "outputs": [],
   "source": [
    "from langchain_anthropic import ChatAnthropic\n",
    "from langchain_google_vertexai import ChatVertexAI\n",
    "from langchain_openai import ChatOpenAI\n",
    "from langchain_core.runnables import ConfigurableField\n",
    "import os"
   ]
  },
  {
   "cell_type": "code",
   "execution_count": 4,
   "id": "544a83ad",
   "metadata": {},
   "outputs": [],
   "source": [
    "from langchain_core.prompts import ChatPromptTemplate\n",
    "from langchain_core.runnables import RunnablePassthrough\n",
    "from langchain_core.output_parsers import StrOutputParser\n",
    "from langchain.prompts import ChatPromptTemplate, SystemMessagePromptTemplate, HumanMessagePromptTemplate\n",
    "from langchain.schema import SystemMessage, HumanMessage, AIMessage\n",
    "from langchain_core.output_parsers import JsonOutputParser\n",
    "from pydantic  import BaseModel, Field\n",
    "from operator import itemgetter\n",
    "\n",
    "from time import time"
   ]
  },
  {
   "cell_type": "code",
   "execution_count": 5,
   "id": "cd395954",
   "metadata": {},
   "outputs": [],
   "source": [
    "from langchain_core.prompts import ChatPromptTemplate\n",
    "from langchain_core.output_parsers import JsonOutputParser\n",
    "from pydantic import BaseModel, Field"
   ]
  },
  {
   "cell_type": "markdown",
   "id": "sclt1-zoC38A",
   "metadata": {
    "id": "sclt1-zoC38A"
   },
   "source": [
    "## LLM 생성"
   ]
  },
  {
   "cell_type": "code",
   "execution_count": 9,
   "id": "mGPMuFVDC6vL",
   "metadata": {
    "id": "mGPMuFVDC6vL"
   },
   "outputs": [],
   "source": [
    "#API KEY 셋팅\n",
    "if not os.environ.get(\"OPENAI_API_KEY\"):\n",
    "    os.environ[\"OPENAI_API_KEY\"] = os.getenv(\"OPENAI_API_KEY\")\n",
    "\n",
    "if not os.environ.get(\"GOOGLE_API_KEY\"):\n",
    "    os.environ[\"GOOGLE_API_KEY\"] = os.getenv(\"GOOGLE_API_KEY\")\n",
    "\n",
    "#LLM 모델 생성 with Config\n",
    "\n",
    "llm = (\n",
    "    ChatAnthropic(model_name='claude-3-5-sonnet-20240620')\n",
    "    .configurable_alternatives(\n",
    "        ConfigurableField(\n",
    "            id = 'llm',\n",
    "            name=\"LLM Model\",\n",
    "            description=\"The base LLM model\",\n",
    "        ),\n",
    "        default_key=\"claude3_5_sonnet\",\n",
    "        claude3_haiku=ChatAnthropic(model_name='claude-3-haiku-20240307'),\n",
    "        gpt4o_mini = ChatOpenAI(model = 'gpt-4o-mini'),\n",
    "        gpt3_5 = ChatOpenAI(model = 'gpt-3.5-turbo'),\n",
    "        gemini_flash = ChatVertexAI(model=\"gemini-1.5-flash-001\")\n",
    "    )\n",
    "    .configurable_fields(\n",
    "        temperature=ConfigurableField(\n",
    "            id=\"temperature\",\n",
    "            name=\"LLM Temperature\",\n",
    "            description=\"The temperature of the LLM\",\n",
    "        ),\n",
    "        max_tokens = ConfigurableField(\n",
    "            id=\"max_token\",\n",
    "            name=\"Maximum input Tokens\",\n",
    "            description=\"Maximum limit of input Tokens\",\n",
    "        ),\n",
    "    )\n",
    ")"
   ]
  },
  {
   "cell_type": "code",
   "execution_count": 11,
   "id": "4FP9FZkVzIcH",
   "metadata": {
    "id": "4FP9FZkVzIcH"
   },
   "outputs": [],
   "source": [
    "llm = llm.with_config(configurable={\n",
    "            \"llm\": \"gpt4o_mini\", #model_name,\n",
    "            # \"llm\":\"gemini_flash\",\n",
    "            \"temparature\": 0, #temp,\n",
    "            \"max_tokens\": None #max_tokens\n",
    "        })"
   ]
  },
  {
   "cell_type": "markdown",
   "id": "dpf38aBvDfbP",
   "metadata": {
    "id": "dpf38aBvDfbP"
   },
   "source": [
    "## LangSmith 셋팅"
   ]
  },
  {
   "cell_type": "code",
   "execution_count": 6,
   "id": "4KkDwYiVDfK_",
   "metadata": {
    "id": "4KkDwYiVDfK_"
   },
   "outputs": [],
   "source": [
    "os.environ['LANGCHAIN_API_KEY'] = os.getenv(\"LANGCHAIN_API_KEY\")\n",
    "os.environ[\"LANGCHAIN_TRACING_V2\"] = \"true\"\n",
    "os.environ[\"LANGCHAIN_PROJECT\"] = \"langchain-academy\""
   ]
  },
  {
   "cell_type": "markdown",
   "id": "r6SLLG3m5d-x",
   "metadata": {
    "id": "r6SLLG3m5d-x"
   },
   "source": [
    "# 위키문서 로드 & 벡터스토어 생성"
   ]
  },
  {
   "cell_type": "code",
   "execution_count": 7,
   "id": "h1jiItnS5daq",
   "metadata": {
    "colab": {
     "base_uri": "https://localhost:8080/"
    },
    "executionInfo": {
     "elapsed": 11395,
     "status": "ok",
     "timestamp": 1728996073804,
     "user": {
      "displayName": "",
      "userId": ""
     },
     "user_tz": -540
    },
    "id": "h1jiItnS5daq",
    "outputId": "a97f6eef-c3ff-4ac6-fa37-cc60aec2e076"
   },
   "outputs": [],
   "source": [
    "#저장된 문서 불러오기\n",
    "PROJECT_ID = \"wev-dev-analytics\"\n",
    "REGION = \"asia-northeast3\"\n",
    "DATASET_ID = \"namu_wiki\"\n",
    "TABLE_ID = \"artists\"\n",
    "\n",
    "vertexai.init(project=PROJECT_ID, location=REGION)\n",
    "\n",
    "# OpenAI의 \"text-embedding-3-large\" 모델을 사용하여 1024차원의 임베딩을 생성하는 객체를 초기화합니다.\n",
    "embeddings_docs = OpenAIEmbeddings(model=\"text-embedding-3-small\", dimensions=1024, api_key = os.environ[\"OPENAI_API_KEY\"])\n",
    "# embeddings_docs = VertexAIEmbeddings(model_name=\"text-multilingual-embedding-002\")\n",
    "\n",
    "\n",
    "#임베딩할 문서 로더\n",
    "bigquery_loader = BigQueryLoader(\n",
    "    query=f\"\"\"\n",
    "        SELECT *\n",
    "             , json_value(metadata, '$.parent_page_toc_item') as parent_paper\n",
    "        FROM `{PROJECT_ID}.{DATASET_ID}.{TABLE_ID}`\n",
    "        WHERE artist_info = \"{we_art_name}\"\n",
    "    \"\"\",\n",
    "    project=PROJECT_ID,\n",
    "    page_content_columns = \"page_content\", #벡터화할 텍스트 지정\n",
    "    metadata_columns  = [\"artist_info\",\"toc_item\",\"abs_page_toc_item\",\"parent_paper\",\"page_url\"] #메타데이터 지정\n",
    ")\n",
    "\n",
    "documents = bigquery_loader.load()\n",
    "\n",
    "#Splitter 생성\n",
    "text_splitter = RecursiveCharacterTextSplitter(\n",
    "  # 나무위키 한 문단에 적절하다고 판단하는 청크 사이즈\n",
    "  chunk_size=700,\n",
    "  # 적절하다고 생각하는 overlap\n",
    "  chunk_overlap=150,\n",
    "  # 문자열 길이를 계산하는 함수를 지정합니다.\n",
    "  length_function=len,\n",
    "  # 구분자로 정규식을 사용할지 여부를 설정합니다.\n",
    "  is_separator_regex=False,\n",
    ")\n",
    "\n",
    "book = []\n",
    "\n",
    "# metadata를 page_content에 포함시키는 함수\n",
    "def concatenate_metadata_into_content(doc):\n",
    "    doc.page_content = f\"{doc.metadata['abs_page_toc_item']}\\n\\n\"+re.sub('page_content:', '', f\"{doc.page_content}\")\n",
    "    return doc\n",
    "\n",
    "#Chunking with abs_page_toc_item\n",
    "for element in documents:\n",
    "  # text_splitter를 사용하여 텍스트를 문서로 분할합니다.\n",
    "  papers = text_splitter.create_documents(texts = [element.page_content], metadatas = [element.metadata])\n",
    "  #papers.page_content 앞에 element.metadata[abs_page_toc_item] concat하기\n",
    "  book.extend(list(map(concatenate_metadata_into_content, papers)))\n",
    "\n",
    "\n",
    "#FAISS 벡터스토어 생성\n",
    "index = faiss.IndexFlatL2(len(embeddings_docs.embed_query(\"Hello world\")))\n",
    "# index = faiss.IndexFlatL2(len(embeddings_docs.embed(texts = [\"hello world\"], embeddings_task_type = 'RETRIEVAL_DOCUMENT')))\n",
    "\n",
    "##Sementic Search를 위한 Chunking 문서 임베딩\n",
    "vstr = FAISS(\n",
    "    embedding_function=embeddings_docs,\n",
    "    index=index,\n",
    "    docstore= InMemoryDocstore(),\n",
    "    index_to_docstore_id={}\n",
    ")\n",
    "\n",
    "# Convert documents to embeddings and store them\n",
    "# vstr.add_documents(documents=book)"
   ]
  },
  {
   "cell_type": "markdown",
   "id": "v3mMFcXhBbHk",
   "metadata": {
    "id": "v3mMFcXhBbHk"
   },
   "source": [
    "# 질문 Set"
   ]
  },
  {
   "cell_type": "code",
   "execution_count": 164,
   "id": "fxBKMjr9BdS4",
   "metadata": {
    "id": "fxBKMjr9BdS4"
   },
   "outputs": [],
   "source": [
    "# 지시: Answer the question\n",
    "# 형식: JsonOutputParser\n",
    "# 맥락: context (documents or retriever)\n",
    "# 역할: SystemPrompt\n",
    "\n",
    "# 원하는 데이터 구조를 정의합니다.\n",
    "class Ctry(BaseModel):\n",
    "    ctry: list = Field(description=\"ISO 3166-1 alpha-2 형식, 최소 1개 이상\")\n",
    "\n",
    "class Gender(BaseModel):\n",
    "    gender: str = Field(description=\"남성과 관련된 이름이나 단어가 나오면 '남성'으로, 여성과 관련된 이름이나 단어가 나오면 '여성'으로 출력\")\n",
    "\n",
    "class Genre(BaseModel):\n",
    "    genre: list = Field(description=\"문서 내 순서를 따르고, 모든 장르를 출력\")\n",
    "\n",
    "class Label(BaseModel):\n",
    "    label_name: list = Field(description=\"고유명사만 출력하고 **괄호와 괄호 안의 내용은 반드시 제거**, 2개 이상인 경우 솔로 활동을 앞 순서에, 그룹 활동은 뒷 순서에 배치해주세요.\")\n",
    "\n",
    "class Debut(BaseModel):\n",
    "    debut_date: str = Field(description=\"'yyyy-MM-dd' 형식으로 출력\")\n",
    "\n",
    "class MemberInfo(BaseModel):\n",
    "    member_list: list = Field(description=\"문서 내 순서를 따른다.\")\n",
    "\n",
    "class MemberNumber(BaseModel):\n",
    "    member_cnt: int = Field(description=\"숫자로만 출력하세요.\")\n",
    "\n",
    "class Fandom(BaseModel):\n",
    "    fandom_name: str = Field(description=\"고유명사만 출력하고, 반복 문자열은 중복을 제거하고 출력합니다.\")\n",
    "\n",
    "\n",
    "# 컬럼명 & 컬럼용 질문 Dict 생성\n",
    "singer_queries = {\n",
    "    \"ctry\":{\n",
    "        \"question\":\"활동 국가는?\",\n",
    "        \"format\":JsonOutputParser(pydantic_object=Ctry),\n",
    "      }, #???\n",
    "    \"gender\":{\"question\":\"인물의 성별을 유추하세요. (힌트: 보이그룹, 걸그룹, 혼성듀오, 형, 누나, 오빠)\",\n",
    "              \"format\":JsonOutputParser(pydantic_object=Gender),\n",
    "              \"loc\":\"개요\" #(솔로)PROFILE > 가족 or (그룹)개요\n",
    "    },\n",
    "    \"genre\": {\"question\":\"음악 장르는?\",\n",
    "              # \"format\":\"가장 관련성이 큰 장르 2개로 정리해줘. [장르 A, 장르 B]와 같이 쉼표로 구분된 한 줄로 출력하세요.\",\n",
    "              \"format\":JsonOutputParser(pydantic_object=Genre),\n",
    "              \"loc\":\"PROFILE\" #PROFILE > 장르\n",
    "    },\n",
    "    \"label_name\": {\"question\":\"엔터테인먼트 회사명은?\",\n",
    "                   \"format\":JsonOutputParser(pydantic_object=Label),\n",
    "                   \"loc\":\"PROFILE\" #PROFILE > 소속사\n",
    "    },\n",
    "    \"debut_date\": {\"question\":\"데뷔일자는?\",\n",
    "                   \"format\":JsonOutputParser(pydantic_object=Debut),\n",
    "                   \"loc\":\"PROFILE\" #PROFILE > 데뷔일\n",
    "    },\n",
    "    \"member_list\": {\"question\":\"주어진 문서에서 등장하는 사람의 이름을 모두 나열하세요\",\n",
    "                    \"format\":JsonOutputParser(pydantic_object=MemberInfo),\n",
    "                    \"loc\":\"멤버\" #멤버\n",
    "    },\n",
    "    \"member_num\": {\"question\":\"주어진 문서에서 등장하는 사람의 이름을 카운트하세요\",\n",
    "                   \"format\":JsonOutputParser(pydantic_object=MemberNumber),\n",
    "                   \"loc\":\"멤버\" #멤버\n",
    "    },\n",
    "    \"fandom_name\": {\"question\":\"팬덤명은?\",\n",
    "                    \"format\":JsonOutputParser(pydantic_object=Fandom),\n",
    "                    \"loc\":\"PROFILE\" #PROFILE > 팬덤\n",
    "    }\n",
    "}"
   ]
  },
  {
   "cell_type": "markdown",
   "id": "8xr42eJQT-QL",
   "metadata": {
    "id": "8xr42eJQT-QL"
   },
   "source": [
    "# Tool 정의"
   ]
  },
  {
   "cell_type": "code",
   "execution_count": 11,
   "id": "gqt-h-kX8LbL",
   "metadata": {
    "id": "gqt-h-kX8LbL"
   },
   "outputs": [],
   "source": [
    "#툴은 크게 4개\n",
    "#0. 전달받은 문서에서 메타데이터를 생성하는 툴\n",
    "#1. 프로필에서 메타데이터 생성\n",
    "## 1.1. 0.에 프로필을 전달\n",
    "#2. 개요/멤버/팬덤 문서에서 메타데이터 생성\n",
    "## 2.1. 0.에 개요/멤버/팬덤을 각각 전달\n",
    "## 2.2. 2.1.에서 생성한 3개의 df를 머지\n",
    "#3. 리트리버에서 메타데이터 생성\n",
    "## 3.1. 흠...\n",
    "#4. 1~3의 결과를 종합해서 최종 데이터를 만드는 툴\n",
    "\n",
    "#나중에는...\n",
    "#아티스트명을 입력받아서 이 아티스트가 가수/배우/그 외에 따라서 질문 set을 다르게 가져와야함."
   ]
  },
  {
   "cell_type": "markdown",
   "id": "5o1-xNxx8GOT",
   "metadata": {
    "id": "5o1-xNxx8GOT"
   },
   "source": [
    "# Agent 생성"
   ]
  },
  {
   "cell_type": "code",
   "execution_count": 11,
   "id": "p14hr2HZ7Qb2",
   "metadata": {
    "id": "p14hr2HZ7Qb2"
   },
   "outputs": [],
   "source": [
    "#Workflow\n",
    "##1. (미구현) 아티스트의 성격 분류 / 가수(현재 구현 ver), 배우, 셀럽\n",
    "##2. 총 5개 (프로필 / 개요 / 멤버 / 팬덤 + 전체 문서 리트리빙)의 툴을 실행\n",
    "##2.1. 각 결과값으로 pandas dataframe을 생성\n",
    "##2.2. 프로필 / 개요 / 멤버 / 팬덤은 Map-reduce 적용 검토\n",
    "##3. 5개 문서 결과값에 대해 가중치를 적용해서 dataframe merge"
   ]
  },
  {
   "cell_type": "code",
   "execution_count": 123,
   "id": "3ThxdYlDiYKN",
   "metadata": {
    "id": "3ThxdYlDiYKN"
   },
   "outputs": [],
   "source": [
    "from typing import List\n",
    "from typing_extensions import TypedDict\n",
    "from pydantic import BaseModel, Field\n",
    "import operator\n",
    "from typing import Annotated\n",
    "from langgraph.graph import MessagesState\n",
    "\n",
    "class ArtistMeta(TypedDict):\n",
    "    ctry: list #= Field(description=\"ISO 3166-1 alpha-2 형식, 최소 1개 이상\")\n",
    "    gender: str #= Field(description=\"남성과 관련된 단어가 나오면 '남성'으로, 여성과 관련된 단어가 나오면 '여성'으로 출력\")\n",
    "    genre: list #= Field(description=\"문서 내 순서를 따르고, 모든 장르를 출력\")\n",
    "    label_name: list #= Field(description=\"고유명사만 출력하고 **괄호와 괄호 안의 내용은 반드시 제거**, 2개 이상인 경우 솔로 활동을 앞 순서에, 그룹 활동은 뒷 순서에 배치해주세요.\")\n",
    "    debut_date: str #= Field(description=\"'yyyy-MM-dd' 형식으로 출력\")\n",
    "    member_list: list #= Field(description=\"문서 내 순서를 따른다.\")\n",
    "    member_cnt: int #= Field(description=\"숫자로만 출력하세요.\")\n",
    "    fandom_name: str #= Field(description=\"고유명사만 출력하고, 반복되는 문자열은 하나로 합쳐주세요.\")\n",
    "\n",
    "class OneMetaState(TypedDict):\n",
    "    questions: dict #= Field(description=\"아티스트에 대한 특정 질문\")\n",
    "    doc: str #= Field(description=\"아티스트 데이터를 찾아볼 문서\")\n",
    "    page: str\n",
    "    answers: Annotated[List[dict], operator.add]\n",
    "    metadatas: Annotated[List[dict], operator.add]"
   ]
  },
  {
   "cell_type": "markdown",
   "id": "IVp-RbIDA0OL",
   "metadata": {
    "id": "IVp-RbIDA0OL"
   },
   "source": [
    "## 지정된 문서 원문에서 메타데이터를 생성하는 Tool"
   ]
  },
  {
   "cell_type": "code",
   "execution_count": 124,
   "id": "h6_nn4Vq0QND",
   "metadata": {
    "id": "h6_nn4Vq0QND"
   },
   "outputs": [],
   "source": [
    "from langchain_core.messages import AIMessage, HumanMessage, SystemMessage\n",
    "\n",
    "def answer_from_origin(state: OneMetaState):\n",
    "\n",
    "  question = state['qnf']['question']\n",
    "  format = state['qnf']['format']\n",
    "  doc = state['doc']\n",
    "  answers = state['answers']\n",
    "\n",
    "  # 시스템 프롬프트 설정\n",
    "  system_prompt = SystemMessagePromptTemplate.from_template(\n",
    "      \"\"\"\n",
    "      You are a biographical dictionary agent. Your sole purpose is to provide factual information based strictly on the provided <Context>.\n",
    "\n",
    "      - **Behavior:**\n",
    "        - Be friendly and helpful without being overly chatty.\n",
    "        - Do not use any prior knowledge beyond the <Context>.\n",
    "        - If the answer cannot be found within the <Context>, respond with \"None\"\n",
    "\n",
    "      - **Input Structure:**\n",
    "        - The input will be provided using the following tags:\n",
    "          ```\n",
    "          <Context>\n",
    "          ...\n",
    "          </Context>\n",
    "          <Question>\n",
    "          ...\n",
    "          </Question>\n",
    "          <Format>\n",
    "          ...\n",
    "          </Format>\n",
    "          ```\n",
    "\n",
    "      - **Response Guidelines:**\n",
    "        - **Do not** include the `<Context>`, `<Question>`, or `<Format>` tags in your response.\n",
    "        - **Only** provide the answer as specified in the `<Format>` section.\n",
    "        - Ensure the response strictly adheres to the format provided.\n",
    "      \"\"\"\n",
    "  )\n",
    "\n",
    "  human_prompt = HumanMessagePromptTemplate.from_template(\n",
    "      \"\"\"<Context>{context}</Context>\\n\\n\n",
    "      <Question>{question}</Question>\\n\\n\n",
    "      <Format>{format_instructions}</Format>\"\"\"\n",
    "  )\n",
    "  prompt = ChatPromptTemplate.from_messages([system_prompt, human_prompt])\n",
    "  if isinstance(format, JsonOutputParser):\n",
    "    prompt = prompt.partial(format_instructions=format.get_format_instructions())\n",
    "\n",
    "  chain = {\n",
    "          'context': itemgetter('context') | RunnablePassthrough()\n",
    "        , 'question': \n",
    "        ('question') | RunnablePassthrough()\n",
    "    } | prompt | llm | format\n",
    "\n",
    "  answer = chain.invoke({\"question\": question, \"context\":doc})\n",
    "  # print(answer)\n",
    "\n",
    "  # meta.update(answer)\n",
    "  return {\"answers\":[answer]}"
   ]
  },
  {
   "cell_type": "code",
   "execution_count": 125,
   "id": "r0ltNvoXA0_m",
   "metadata": {
    "id": "r0ltNvoXA0_m"
   },
   "outputs": [],
   "source": [
    "from langgraph.constants import Send\n",
    "\n",
    "def init_graph(state:OneMetaState):\n",
    "  pass\n",
    "\n",
    "def split_question(state:OneMetaState):\n",
    "  qnf = state['questions']\n",
    "  doc = state['doc']\n",
    "  return [Send(\"answer_from_origin\", {\"qnf\":qnf[key], \"doc\":doc, \"answers\": []}) for key, value in qnf.items()]\n",
    "\n",
    "def merge_answers(state:OneMetaState):\n",
    "  answers = state['answers']\n",
    "  meta = {}\n",
    "  for answer in answers:\n",
    "    meta.update(answer)\n",
    "  meta.update({\"page\":state['page']})\n",
    "  # print('meta:', meta)\n",
    "  return {\"metadatas\":[meta]}"
   ]
  },
  {
   "cell_type": "code",
   "execution_count": 126,
   "id": "ZgloiWZQPqOB",
   "metadata": {
    "id": "ZgloiWZQPqOB"
   },
   "outputs": [],
   "source": [
    "#질문Set과 특정 페이지 원문이 input\n",
    "#원문에 대해 질문Set의 각각을 별도로 질문\n",
    "#meta에 list로 merge한 것이 output"
   ]
  },
  {
   "cell_type": "code",
   "execution_count": 127,
   "id": "u0vyVGMdB1Ht",
   "metadata": {
    "colab": {
     "base_uri": "https://localhost:8080/",
     "height": 350
    },
    "executionInfo": {
     "elapsed": 378,
     "status": "ok",
     "timestamp": 1728996098726,
     "user": {
      "displayName": "",
      "userId": ""
     },
     "user_tz": -540
    },
    "id": "u0vyVGMdB1Ht",
    "outputId": "73f29bf8-4992-44ba-dc88-b298b4953f8b"
   },
   "outputs": [
    {
     "data": {
      "image/jpeg": "[encoded data removed]",
      "text/plain": [
       "<IPython.core.display.Image object>"
      ]
     },
     "metadata": {},
     "output_type": "display_data"
    }
   ],
   "source": [
    "from IPython.display import Image, display\n",
    "from langgraph.graph import START, END, StateGraph\n",
    "from langgraph.checkpoint.memory import MemorySaver\n",
    "\n",
    "# Add nodes and edges\n",
    "onemeta_builder = StateGraph(OneMetaState)\n",
    "\n",
    "#node\n",
    "onemeta_builder.add_node(\"init_extract\", init_graph)\n",
    "onemeta_builder.add_node(\"answer_from_origin\", answer_from_origin)\n",
    "onemeta_builder.add_node(\"merge_answers\", merge_answers)\n",
    "\n",
    "#edge\n",
    "onemeta_builder.add_edge(START, \"init_extract\")\n",
    "onemeta_builder.add_conditional_edges(\"init_extract\", split_question, [\"answer_from_origin\"])\n",
    "onemeta_builder.add_edge(\"answer_from_origin\", \"merge_answers\")\n",
    "onemeta_builder.add_edge(\"merge_answers\", END)\n",
    "\n",
    "# Compile\n",
    "graph = onemeta_builder.compile()\n",
    "\n",
    "# View\n",
    "display(Image(graph.get_graph(xray=1).draw_mermaid_png()))"
   ]
  },
  {
   "cell_type": "code",
   "execution_count": 128,
   "id": "uVUE6rwtB2Ti",
   "metadata": {
    "id": "uVUE6rwtB2Ti"
   },
   "outputs": [],
   "source": [
    "#전체 그래프\n",
    "#질문Set과 documents가 input\n",
    "#List[Dict]가 output / 또는 pd.Dataframe이 output"
   ]
  },
  {
   "cell_type": "code",
   "execution_count": 129,
   "id": "4Nxkj3emB2YW",
   "metadata": {
    "id": "4Nxkj3emB2YW"
   },
   "outputs": [],
   "source": [
    "import pandas as pd\n",
    "\n",
    "class OverallGraphState(TypedDict):\n",
    "    questions: dict\n",
    "    documents: list\n",
    "    pages: list\n",
    "    metadatas: Annotated[List[dict], operator.add]\n",
    "    mergeset: pd.DataFrame"
   ]
  },
  {
   "cell_type": "code",
   "execution_count": 130,
   "id": "46d62296",
   "metadata": {},
   "outputs": [],
   "source": [
    "from langgraph.constants import Send\n",
    "\n",
    "def get_origins(state:OverallGraphState):\n",
    "    return {\"pages\":state['pages'], \"questions\":singer_queries, \"documents\":documents}\n",
    "\n",
    "def check_empty_origins(state:OverallGraphState):\n",
    "    pages = state['pages']\n",
    "    \n",
    "    if len(pages) == 0:\n",
    "        return \"merge_metas\"\n",
    "    else:\n",
    "        doc = \"\\n\\n\".join([doc.page_content for doc in documents if doc.metadata['abs_page_toc_item'] == pages[0]])\n",
    "        if doc == \"\":\n",
    "            return \"empty_meta\"\n",
    "        else:\n",
    "            return Send(\"make_meta\", {\"questions\":state['questions'], \"doc\":doc, \"page\":pages[0]})\n",
    "\n",
    "def remove_finish_origin(state:OverallGraphState):\n",
    "    # print(state['pages'])\n",
    "    # print(state['metadatas'])\n",
    "    return {\"pages\":state['pages'][1:]}\n",
    "\n",
    "def empty_meta(state:OverallGraphState):\n",
    "    return {\"pages\":state['pages'][1:]}\n",
    "\n",
    "def merge_metas(state:OverallGraphState):\n",
    "    #가중치 (순위로)\n",
    "    ##page|ctry|gender|genre|label|debut|member_info|member_number|fandom_name\n",
    "    ##PROFILE|?|2|1|1|1|3|3|1|\n",
    "    ##개요|?|1|2|2|2|2|2|\n",
    "    ##멤버|?|3|2|3|1|1|2|\n",
    "    ##팬덤|?|4|2|3|3|3|1|\n",
    "    metadatas = state['metadatas']\n",
    "\n",
    "    # 각 컬럼별 우선순위를 저장하는 딕셔너리\n",
    "    priority_dict = {\n",
    "        'ctry': ['PROFILE', '개요', '멤버', '팬덤'],\n",
    "        'gender': ['개요', 'PROFILE', '멤버', '팬덤'],\n",
    "        'genre': ['PROFILE', '개요', '멤버', '팬덤'],\n",
    "        'label_name': ['PROFIEL', '개요', '멤버', '팬덤'],\n",
    "        'debut_date': ['PROFILE', '개요', '멤버', '팬덤'],\n",
    "        'member_list': ['멤버', 'PROFILE', '개요', '팬덤'],\n",
    "        'member_cnt': ['멤버', 'PROFILE', '개요', '팬덤'],\n",
    "        'fandom_name': ['PROFILE', '팬덤', '멤버', '개요']\n",
    "    }\n",
    "\n",
    "    # 병합된 딕셔너리를 초기화\n",
    "    merged_data = {}\n",
    "\n",
    "    # 컬럼별 우선순위에 따라 값을 선택하여 병합\n",
    "    for key, priority_list in priority_dict.items():\n",
    "        for page in priority_list:\n",
    "            for meta in metadatas:\n",
    "                if meta['page'] == page and key in meta and meta[key] != 'None' and meta[key] != []:\n",
    "                    merged_data[key] = meta[key]\n",
    "                    break  # 첫 번째로 발견한 유효한 값 사용 후 중단\n",
    "            if key in merged_data:\n",
    "                break # key 값이 할당된 경우 루프 중단\n",
    "\n",
    "    # 병합 결과를 데이터프레임으로 변환\n",
    "    df = pd.DataFrame([merged_data])\n",
    "\n",
    "    print(df)\n",
    "    # print(\"merge metas!\")\n",
    "    \n",
    "    return {\"mergeset\":df}"
   ]
  },
  {
   "cell_type": "code",
   "execution_count": 131,
   "id": "jtALB4HauD68",
   "metadata": {
    "colab": {
     "base_uri": "https://localhost:8080/",
     "height": 251
    },
    "executionInfo": {
     "elapsed": 3,
     "status": "ok",
     "timestamp": 1728989618027,
     "user": {
      "displayName": "",
      "userId": ""
     },
     "user_tz": -540
    },
    "id": "jtALB4HauD68",
    "outputId": "418fe27b-8c6d-4652-ff90-8cd93356bb61"
   },
   "outputs": [
    {
     "data": {
      "image/jpeg": "[encoded data removed]",
      "text/plain": [
       "<IPython.core.display.Image object>"
      ]
     },
     "metadata": {},
     "output_type": "display_data"
    }
   ],
   "source": [
    "from IPython.display import Image, display\n",
    "from langgraph.graph import START, END, StateGraph\n",
    "from langgraph.checkpoint.memory import MemorySaver\n",
    "\n",
    "# Add nodes and edges\n",
    "builder = StateGraph(OverallGraphState)\n",
    "builder.add_node(\"get_origins\", get_origins)\n",
    "builder.add_node(\"make_meta\", onemeta_builder.compile())\n",
    "builder.add_node(\"empty_meta\", empty_meta)\n",
    "builder.add_node(\"merge_metas\", merge_metas)\n",
    "builder.add_node(\"remove_finish_origin\", remove_finish_origin)\n",
    "builder.add_edge(START, \"get_origins\")\n",
    "builder.add_conditional_edges(\"get_origins\", check_empty_origins, [\"merge_metas\",\"empty_meta\",\"make_meta\"])\n",
    "builder.add_edge(\"make_meta\", \"remove_finish_origin\")\n",
    "builder.add_edge(\"remove_finish_origin\", \"get_origins\")\n",
    "builder.add_edge(\"empty_meta\", \"get_origins\")\n",
    "builder.add_edge(\"merge_metas\", END)\n",
    "\n",
    "# Compile\n",
    "memory = MemorySaver()\n",
    "# graph = builder.compile(checkpointer=memory)\n",
    "graph = builder.compile()\n",
    "\n",
    "# View\n",
    "display(Image(graph.get_graph(xray=1).draw_mermaid_png()))"
   ]
  },
  {
   "cell_type": "markdown",
   "id": "629feba0",
   "metadata": {},
   "source": [
    "## Run"
   ]
  },
  {
   "cell_type": "code",
   "execution_count": 168,
   "id": "PzJ0U9UvbzPW",
   "metadata": {
    "colab": {
     "base_uri": "https://localhost:8080/"
    },
    "executionInfo": {
     "elapsed": 3,
     "status": "ok",
     "timestamp": 1728989619401,
     "user": {
      "displayName": "",
      "userId": ""
     },
     "user_tz": -540
    },
    "id": "PzJ0U9UvbzPW",
    "outputId": "f9b0140e-c92b-4577-c8ba-5dba8a1e0dab"
   },
   "outputs": [
    {
     "name": "stdout",
     "output_type": "stream",
     "text": [
      "       ctry gender                        genre label_name  debut_date  \\\n",
      "0  [KR, JP]     남성  [K-POP, 댄스, 록/메탈, 일렉트로닉 뮤직]     [판타지오]  2023-06-15   \n",
      "\n",
      "                          member_list  member_cnt  \\\n",
      "0  [진수, 카엘, 타쿠마, 준우, 도현, 이안, 지은호, 은섭]           9   \n",
      "\n",
      "                                         fandom_name  \n",
      "0  LUV8 (러베이트)LUV8 (러베이트)LUV8 (러베이트)LUV8 (러베이트)LU...  \n"
     ]
    }
   ],
   "source": [
    "event = graph.invoke({\"pages\":[\"PROFILE\",\"개요\",\"멤버\",\"팬덤\"]})"
   ]
  },
  {
   "cell_type": "code",
   "execution_count": 169,
   "id": "9c83a738",
   "metadata": {},
   "outputs": [
    {
     "data": {
      "text/html": [
       "<div>\n",
       "<style scoped>\n",
       "    .dataframe tbody tr th:only-of-type {\n",
       "        vertical-align: middle;\n",
       "    }\n",
       "\n",
       "    .dataframe tbody tr th {\n",
       "        vertical-align: top;\n",
       "    }\n",
       "\n",
       "    .dataframe thead th {\n",
       "        text-align: right;\n",
       "    }\n",
       "</style>\n",
       "<table border=\"1\" class=\"dataframe\">\n",
       "  <thead>\n",
       "    <tr style=\"text-align: right;\">\n",
       "      <th></th>\n",
       "      <th>ctry</th>\n",
       "      <th>gender</th>\n",
       "      <th>genre</th>\n",
       "      <th>label_name</th>\n",
       "      <th>debut_date</th>\n",
       "      <th>member_list</th>\n",
       "      <th>member_cnt</th>\n",
       "      <th>fandom_name</th>\n",
       "    </tr>\n",
       "  </thead>\n",
       "  <tbody>\n",
       "    <tr>\n",
       "      <th>0</th>\n",
       "      <td>[KR, JP]</td>\n",
       "      <td>남성</td>\n",
       "      <td>[K-POP, 댄스, 록/메탈, 일렉트로닉 뮤직]</td>\n",
       "      <td>[판타지오]</td>\n",
       "      <td>2023-06-15</td>\n",
       "      <td>[진수, 카엘, 타쿠마, 준우, 도현, 이안, 지은호, 은섭]</td>\n",
       "      <td>9</td>\n",
       "      <td>LUV8 (러베이트)LUV8 (러베이트)LUV8 (러베이트)LUV8 (러베이트)LU...</td>\n",
       "    </tr>\n",
       "  </tbody>\n",
       "</table>\n",
       "</div>"
      ],
      "text/plain": [
       "       ctry gender                        genre label_name  debut_date  \\\n",
       "0  [KR, JP]     남성  [K-POP, 댄스, 록/메탈, 일렉트로닉 뮤직]     [판타지오]  2023-06-15   \n",
       "\n",
       "                          member_list  member_cnt  \\\n",
       "0  [진수, 카엘, 타쿠마, 준우, 도현, 이안, 지은호, 은섭]           9   \n",
       "\n",
       "                                         fandom_name  \n",
       "0  LUV8 (러베이트)LUV8 (러베이트)LUV8 (러베이트)LUV8 (러베이트)LU...  "
      ]
     },
     "execution_count": 169,
     "metadata": {},
     "output_type": "execute_result"
    }
   ],
   "source": [
    "event.get(\"mergeset\",\"\")"
   ]
  },
  {
   "cell_type": "markdown",
   "id": "mbJxc3wXb-Dt",
   "metadata": {
    "id": "mbJxc3wXb-Dt"
   },
   "source": [
    "## 리트리빙해서 메타데이터를 생성하는 Tool"
   ]
  },
  {
   "cell_type": "code",
   "execution_count": 24,
   "id": "PvWEi3HUn8JB",
   "metadata": {
    "id": "PvWEi3HUn8JB"
   },
   "outputs": [
    {
     "name": "stdout",
     "output_type": "stream",
     "text": [
      "Note: you may need to restart the kernel to use updated packages.\n"
     ]
    },
    {
     "name": "stderr",
     "output_type": "stream",
     "text": [
      "  error: subprocess-exited-with-error\n",
      "  \n",
      "  × python setup.py egg_info did not run successfully.\n",
      "  │ exit code: 1\n",
      "  ╰─> [1 lines of output]\n",
      "      ERROR: Can not execute `setup.py` since setuptools is not available in the build environment.\n",
      "      [end of output]\n",
      "  \n",
      "  note: This error originates from a subprocess, and is likely not a problem with pip.\n",
      "error: metadata-generation-failed\n",
      "\n",
      "× Encountered error while generating package metadata.\n",
      "╰─> See above for output.\n",
      "\n",
      "note: This is an issue with the package mentioned above, not pip.\n",
      "hint: See above for details.\n",
      "\n",
      "[notice] A new release of pip is available: 24.1.2 -> 24.2\n",
      "[notice] To update, run: python.exe -m pip install --upgrade pip\n"
     ]
    }
   ],
   "source": [
    "# 패키지 업데이트\n",
    "# %pip install -qU langchain-teddynote"
   ]
  },
  {
   "cell_type": "code",
   "execution_count": 12,
   "id": "7669bfbf",
   "metadata": {},
   "outputs": [
    {
     "data": {
      "text/plain": [
       "['619d2a16-b726-482b-b345-f05903dbb7cb',\n",
       " '1cca3bd6-06fa-4426-abd6-8be8b62051fd',\n",
       " 'e48a8037-b8fb-46c0-a7b9-69a03b526c8d',\n",
       " '3fa2b061-bfbb-4d9c-a9e7-ffc4b53e21dc',\n",
       " '308fd921-441c-459a-9321-18a7de2f5f5f',\n",
       " '94a817f0-a740-4d9b-8921-cc06656dff64',\n",
       " 'f3bf64e1-9102-4687-b9ad-1144f97ab638',\n",
       " '45522b3c-1d98-4fc4-b0b9-d3171e705a37',\n",
       " '66d8472c-1e5e-4f1d-855f-d90129a7c464',\n",
       " '19a44dfb-f78c-481a-915e-aba8f65cfd4d',\n",
       " 'f482e39b-f8f6-45c2-9bfa-4d1846ab0a10',\n",
       " '7956e330-ad60-44db-a80a-9b737de9b72e',\n",
       " 'd99dc709-783b-4724-b551-a841ab02b737',\n",
       " 'd1556b3a-b2d3-45ee-ba00-459a0171d3f0',\n",
       " '6952e750-3af6-4ca6-bb1d-75c01a87fdb1',\n",
       " '74014d0f-9225-47d2-b35e-8aa00cf099cc',\n",
       " '187aac2d-fdc3-496a-9604-48f9091412cd',\n",
       " 'cc400f2c-907b-4537-a2d2-43cb4d86cb71',\n",
       " '3120c976-eb5d-4699-ac47-ffd3f76a1115',\n",
       " 'ee257056-1a80-46ad-bf1a-37db43787a26',\n",
       " '5bb83f03-1bbf-441d-9a04-71200e6cf857',\n",
       " '924c3a6b-eb90-47ee-b473-3f1ff945b6f3',\n",
       " '3afdaadf-197b-4a81-b1f4-eea1368487e0',\n",
       " '5cca766a-c3b3-443f-96ca-f7e3d0f22def',\n",
       " '1709ef74-642d-4099-80bf-8b0ebba43fec',\n",
       " '7652725b-c207-449c-9278-2724453bfd48',\n",
       " 'bfcb6336-6cde-495e-9952-2b472cdfcc3d',\n",
       " '7218b4b9-1cf1-43fd-8ae9-2b28eb1e9ca4',\n",
       " 'b3b1acea-e1e4-402f-a733-ab2d0f0334fb',\n",
       " '76fd5bc9-651e-46b3-a74f-494151d399d6',\n",
       " 'cb6aada6-2b6a-48e1-8f76-a25ae55110ba',\n",
       " '9c331c0e-5370-4108-87f2-c0dc1ed3d66a',\n",
       " 'c7afefc2-67b7-42eb-9a56-b663daf3fa52',\n",
       " '99ddf294-de0e-4c6f-9626-980e6a34892f',\n",
       " 'b54f030e-8a4f-41e7-a7a9-c76d88795f4b',\n",
       " 'cbaedc4a-9549-4658-a0e1-0fa350fb4033',\n",
       " '7f4cf7f3-b8f0-4b89-a142-a7b775e158a8',\n",
       " '5236f85c-bda3-4eba-b3c1-71590dbba224',\n",
       " 'e8c9d50e-49bd-4c11-8d47-7f60b8ef0134',\n",
       " '405e70e2-0c55-4824-bbec-ea901db2407f',\n",
       " 'f5f139cf-8d98-405a-9fa0-353b894fc454',\n",
       " '842dd2cb-52e7-46c9-8ce8-8c5af29a61f2',\n",
       " '7822318d-79dd-4a8d-867d-045b72ec102a',\n",
       " '93936f9b-ade9-4148-aca3-249b638b1516',\n",
       " '70667b88-644f-4502-8b76-b1f4a78321a5',\n",
       " 'ab6b92cf-872e-4628-9333-0a9d572dfc32',\n",
       " '96be254c-da7d-441f-90d9-5d7aca431823',\n",
       " '45b5ba58-1731-4648-bd7b-f66c2a6f2d3f',\n",
       " 'dc900657-180d-4f5c-92d3-579e2528caee',\n",
       " 'b6a7b127-b43f-4a75-8884-c910bddada09',\n",
       " 'd98fa2c8-75f6-4c95-9605-f0338754d7e5',\n",
       " '4e3e117d-800c-40d4-a50e-e4cb13b9bc02',\n",
       " '1c9f07f6-8925-4a24-81b1-31dcd490034e',\n",
       " '2ec5cd57-d642-422b-9050-b904b1bd169e',\n",
       " 'd23fa24f-0047-4620-b1af-878a6dddaf7b',\n",
       " '74209285-4c90-468c-9f8b-7c89fb1a74c6',\n",
       " '1015a19a-80e8-425a-856d-d98b8ccaa435',\n",
       " '1c4e8005-a873-4455-b20b-87aa89fbe8f4',\n",
       " 'a5b665b1-cf96-4cc1-8c20-28740c8fd151',\n",
       " '0516dd86-502a-4f37-bd3f-1ac4f87d96e0',\n",
       " '2c6fe7d5-2454-4f3e-a3d1-bfbbd135da35',\n",
       " '71f4244f-e959-4203-a279-364c881b186f',\n",
       " 'ac7bf211-f632-4e0f-b51b-1736f865056f',\n",
       " 'dbf2c7c9-7a88-47da-b7f9-ba0cad114b74',\n",
       " '25ec07c8-524e-4f09-8f3b-6caaaa03af50',\n",
       " '9fc0c7a9-e0ef-49b7-8a4b-83e52f760566',\n",
       " '63cfefe8-4088-488a-a279-7e9e3abc3d02',\n",
       " 'a7c9ba06-7dfd-4516-b7b9-40d52ee79a8f',\n",
       " '45f24e1e-4150-4404-a655-af9472238384',\n",
       " 'db52c046-00c2-4b20-b7da-48644feb0356',\n",
       " '2703b851-4ccf-4299-a639-55b6f02d5aef',\n",
       " 'c4fc72b3-3445-453b-bc22-a12b9f79ea41',\n",
       " '5d3ad179-43e0-4f3a-a116-21a06e59d437',\n",
       " '90d334bb-c064-4e05-8347-e5d30b53a1e4',\n",
       " 'e3f8a1f3-dc8d-4b7e-bee2-c56f47193761',\n",
       " '64c255cd-3ced-4db4-a1f4-0954b7c2dbe0',\n",
       " 'a6e2402b-d028-41c7-87af-516e1d5ec5ac',\n",
       " 'cb8526cc-d02f-4c8a-ab23-9a8201343cff',\n",
       " '15c14153-24ff-40a7-8cd5-25c10641e69d',\n",
       " 'f635314c-b8d6-4a48-b15b-63999b37fae3',\n",
       " '8ee72b91-881d-463b-a637-3f718630338e',\n",
       " 'fc36164c-861f-456c-b868-e081cb555cdc',\n",
       " 'afc15a6e-1ead-4b9a-ad79-e4bdd4be7c3a',\n",
       " '3f7065e3-56c9-417a-b1bd-04d880b319f0',\n",
       " 'b06f9828-d0c8-4769-8bfd-38b305b41c4a',\n",
       " '0e170d94-3e56-441e-affb-205fed847986',\n",
       " '6856adf9-0b2d-4dd8-8814-fc8850a40615',\n",
       " '6d281eaa-bb35-423e-b710-12ae5ce14c03',\n",
       " '019d4d7c-692f-4996-8b57-196423bf5332',\n",
       " 'b1ef7151-6ea9-4288-8809-0f2f656473c3',\n",
       " '004061e7-0fda-4cd0-a7d2-d98f48298c1d',\n",
       " '50296213-d9df-4033-9d6a-dc3c6533c652',\n",
       " '44789509-b5d2-42ed-96f7-953f1614d100',\n",
       " 'ef165d81-a41d-4139-89ea-6f75b20fad04',\n",
       " '204ffa69-169f-4ab2-a184-d452e068a782',\n",
       " 'f646d037-7444-4c0a-ae95-5ff61307078c',\n",
       " '1bcb9aa6-6da1-44ca-b6db-3e50b2eb4c5e',\n",
       " '47c38f99-edc0-48ee-ac98-6b6db314a91f',\n",
       " '0e7eed50-7fc3-4c5e-a29e-b9d3b6516434',\n",
       " 'f5c08497-d377-408b-8213-2731b5f06495',\n",
       " 'f10e4533-5a6b-4d7c-8085-a4124b0f6a38',\n",
       " '92702237-e3c3-4b7d-a4f2-7ac0b0c6c57d',\n",
       " 'c3b263a6-7bc7-4197-9496-3fd0110dab4b',\n",
       " 'b763ce28-4383-401c-bcc8-c9b09b676dc9',\n",
       " 'ea5abb7d-2d03-47fe-826f-18006d20c6dc',\n",
       " '6219f9fb-278f-433c-a4ac-025a98638189',\n",
       " '446a6ee0-e0f5-4080-b97c-f991b78c1d17',\n",
       " 'a301e765-3636-4e5e-a118-433d4616ba0f',\n",
       " '9a07ad90-ba80-4ad3-94c1-2dfe9dbe5ccc',\n",
       " 'a1cc5e40-40dd-457c-a01c-8057b178afaf',\n",
       " '03589d15-9ab8-42f8-87ad-159df05d8dab',\n",
       " '31ccf769-d2a5-4fd8-970a-5dc6fbb041ba',\n",
       " '769f271f-c909-4444-ab69-81b9bd8f36bb',\n",
       " 'c891c9f0-975f-4bda-8a67-898556c7bfb3',\n",
       " 'c1d549cc-f0ff-4e91-ac2f-b86b740f28d0',\n",
       " '91ce6be4-d49e-4374-9e2c-f2485df07f8e',\n",
       " '11439f43-d00c-4b0c-9ad5-430a52c71050',\n",
       " '778a9278-b208-4b8f-ac5e-89f70d70a812',\n",
       " '9535655b-7b14-4848-9521-665b14623853',\n",
       " '8ea104d1-43cf-41d1-962c-8f817c90b402',\n",
       " 'bc5283f6-03cf-4980-af18-c2d38fd73a76',\n",
       " '7b77887f-4f3b-437f-beab-684cd94d908f',\n",
       " 'e55c8aca-29fc-4108-9160-3fc9b11b540c',\n",
       " 'a98b7faf-492a-4a0a-82d4-631c8c1f3c89',\n",
       " '5baa7b87-772c-4dd2-969c-c67417fedc90',\n",
       " '36ad1cd8-0918-47d6-b99e-967c2ab6689d',\n",
       " '9e541195-f3b9-4d48-890b-636ad82ecfd2',\n",
       " 'cec21000-8efb-4aa9-b736-04ed5644177e',\n",
       " '1747022f-40bd-45b7-bf11-11f336556ebc',\n",
       " '4c17bf63-0a31-4658-b621-cf482afb38a9',\n",
       " '9aaf0cb6-957d-4d7b-a6fb-99a8259fadba',\n",
       " 'c44fd63d-ee98-4440-ab88-25dd318c385e',\n",
       " 'aa929eb6-06e3-4ab0-8b09-11680cbdc9cc',\n",
       " '122eb210-1f3f-458b-9cdd-2294d6dfca5a',\n",
       " 'f120994d-7062-4235-ac27-9c8711dbac4e',\n",
       " '7da4da3e-5b45-4fa9-aa80-c9710b6495ac',\n",
       " '2bcd2976-24dd-4faf-9ec7-1ca9e383656b',\n",
       " 'fce90ecc-3b2a-4123-b72f-e1d7c20bb6b9',\n",
       " '44df5018-2e44-4c16-99dd-11f4ac2a44cc',\n",
       " '33f01ae0-b25b-496a-9970-1150bc2a30f6',\n",
       " '197423c5-bb0a-40a9-8973-2b5e9ba9c3ea',\n",
       " 'ae5123e4-9999-4e72-ab04-23fd5ed97553',\n",
       " '916d36e7-4783-41b5-880c-dde50ffdde69',\n",
       " '32398990-d97f-4832-ae32-ff2d9de55a16',\n",
       " 'dfc0b18b-dd9e-49e6-bf09-42fff6040cd8',\n",
       " 'd4352e7a-5b81-4738-9a1b-57e7d9d8f662',\n",
       " 'c13ee95a-0212-4ee4-81ad-05007de8b4da',\n",
       " '0ec750b5-1858-4987-a341-c815c3c0db7b',\n",
       " 'ec0ab691-5e3f-4338-a0ca-49d7bee5865c',\n",
       " 'a2bc39da-0a99-4bfb-a0a5-bd54f070b820',\n",
       " '70768bd1-d08c-41ec-84ca-84fa7cc92e63',\n",
       " '19be149f-b5d4-4474-a695-5b315d6e1cf4',\n",
       " '313308cb-201e-4a6d-bd99-c6cafc89791f',\n",
       " '76f03142-9497-43e1-93cf-70cdba953588',\n",
       " 'e248714f-3561-4f31-a613-911c2286602a',\n",
       " 'e85f9a7e-3d8e-4a8a-903a-e90f94ebd807',\n",
       " '413f1ac3-4197-4be7-8e4e-07bd64525dc3',\n",
       " 'f28e9079-8304-4259-90a3-f64af9033941',\n",
       " 'f61caac0-915a-4145-9f61-03884e9ef070',\n",
       " '551e47e7-932f-4502-a42d-4c58a1e60765',\n",
       " '820348d9-1943-478b-8f3d-1118a23eb1b0',\n",
       " '970cfa3b-143e-4f63-bd16-926af834dc6b',\n",
       " 'dad9fab1-9549-44a9-9e4e-8e8dc761a1c1',\n",
       " 'c615ac1b-7f13-472d-8ce8-b180084f7f55',\n",
       " '1a026598-51be-401c-a95f-760bf66c940f',\n",
       " '4fc1dc0e-6e41-4a32-b046-3ec4da911a81',\n",
       " '9c830294-3770-42eb-bd3b-92f8f591c5a0',\n",
       " '46f4940e-f1e7-4c9f-9099-326e647ac4c2',\n",
       " '700d89c1-c11c-4d7b-942c-489665b762d3',\n",
       " '28be4b2c-c766-47bd-9751-52cca0bc1c09',\n",
       " 'db5cf033-69be-4b29-a6c0-81378d12caaf',\n",
       " 'a8f78648-93f6-4489-8001-d47cf6e11403',\n",
       " 'e3dd3048-ae33-4689-abf4-4d803c90bc49',\n",
       " 'bff121e3-523d-4486-8568-9a823f388de8',\n",
       " '3c2ad27f-895c-4289-8c69-5d9bf8b1116e',\n",
       " '295f3442-f2e6-48d5-a4d1-488ec0fe8df4',\n",
       " '51dc629f-7778-4e6d-951b-1538e88a4c06',\n",
       " '7eeaedb5-ddc0-4fa4-8300-c78ec1cd80d5',\n",
       " '099cfc46-653c-4f79-ba18-3b1b8cfdb1e0',\n",
       " '936a6ff4-284d-48c4-80a4-31347b94fea2',\n",
       " '6ad4ba8d-60bc-4189-b67b-a5175f07c92d',\n",
       " '648b221c-9b5a-4424-9945-c9be8eeac5c1',\n",
       " '555c5395-2999-40e4-a356-2cc7c4e262ba',\n",
       " 'c1b8e34e-58e4-4f85-a6c8-e83693403d85',\n",
       " 'e5881c39-b1de-4118-9e0e-815f3a7b989f',\n",
       " 'e8ef4a2c-55aa-4b6a-a7c1-d52768c1d041',\n",
       " '328e8a21-2064-4625-b129-92c208627d74',\n",
       " '2bdad967-82c3-4902-a6b6-253738c66dbd',\n",
       " '698ea66e-d571-4a68-85c9-4033e859d5ca',\n",
       " 'b161846b-11a8-4607-be90-2ef068e67d66',\n",
       " '3551417b-593b-46d6-8f78-c5129569575f',\n",
       " '77daaf43-15d2-4325-bd1e-55c206138b75',\n",
       " 'e1a62776-6c38-451f-9390-ebdb3ad3b5a4',\n",
       " 'f6324b91-506f-482c-95ba-e39966e902bb',\n",
       " 'd6f99fec-4106-409a-ad45-4dd5cd40a08d',\n",
       " '3f8fd45d-512f-47ad-8baf-ac2aed5a5375',\n",
       " 'ccce8a73-fb00-4d0f-a61d-692a15f2f973',\n",
       " '52beff75-cfce-46bb-95d4-a14cff954fd9',\n",
       " '407a2204-e70c-485b-bfe9-44441529374a',\n",
       " '3f07b535-32a4-423a-a433-26024d05c17f',\n",
       " '94c1ced5-a6e5-42f9-acfc-070f4505f363',\n",
       " '6bdd77a3-05ef-4544-94e7-13f7e282acf9',\n",
       " '33cf0b43-3023-4fbd-8a26-634881808bd1',\n",
       " 'c8b9754f-c708-464f-b59d-b1019e7af0cf',\n",
       " 'da6d9db0-ee24-4a20-bc8b-06c69c98b364',\n",
       " '96479a57-7dc8-44d5-90ad-1b17afb22e89',\n",
       " '64d5c969-ab98-4998-b8d3-aeb7f410aa16',\n",
       " '4f7e2756-70a1-42d7-b8a9-ecbbeb503862',\n",
       " '25b6e273-d087-4dbd-b3e3-64e42ba7f936',\n",
       " '5e667422-e02c-4c6d-b4dd-788538039e13',\n",
       " '76d36d91-28a9-4093-b69a-85e51ec804de',\n",
       " '856179b3-b815-4f19-936c-bb9502115302',\n",
       " '253369ea-6b27-4d39-92de-5d678263375b',\n",
       " '0d211b10-7267-4b3a-a79e-734d5eabd100',\n",
       " 'f326265e-5af2-43e0-af86-30dba7033515',\n",
       " '4bd93acc-f4c0-4fa4-b47c-5773ec1ad220',\n",
       " 'bfd4a32e-c76b-41b0-a4e2-13bc7f761f0c',\n",
       " 'd93433f2-cb79-4a79-ae2c-a771b8b9f67b',\n",
       " '2abe7816-5d28-4739-9f6b-7687d48987bb',\n",
       " 'd0082e38-3b56-43de-8b83-09c089dc737b',\n",
       " '893f1e47-dfce-4ffd-b746-3e3cda549472',\n",
       " '34d92e25-b24d-493a-97b7-40046f0ae8b0',\n",
       " 'c9b1701f-533a-4438-98b9-ca44b461586f',\n",
       " 'dd724bd3-1a1d-4d4c-a384-6758f19b8a19',\n",
       " 'ba8cf08f-e61a-4938-95c4-5e422f531bb6',\n",
       " 'd0ce77dd-614e-43b0-a41f-e3987123b7f4',\n",
       " '3a371879-1f90-405f-9a68-77246c9e1544',\n",
       " '127f7670-697d-4a60-9502-1f95e19794eb',\n",
       " 'e105d884-fe84-4857-85bb-05d95db34cc3',\n",
       " '77f42b64-fdae-489b-b849-4b08b88b12de',\n",
       " 'aa676c06-0927-4fef-8aab-070ff65a5e33',\n",
       " '08664de1-a573-4144-9326-912ded642bca',\n",
       " '16addc09-f2d9-4fea-baa0-8dad89d5dddd',\n",
       " '4e82c9b3-ea1f-4497-8058-2b4439d9fe1d',\n",
       " '135f8eb9-6163-49ed-9794-2ccc796b6825',\n",
       " '5cbad2b5-fb92-46e8-a831-af5dd9aa33e8',\n",
       " '4fe6cb83-b364-419d-b9aa-052bdc0586b1',\n",
       " 'd693f18a-b21b-44ca-a26f-2f9e9922bdd0',\n",
       " '310e4350-dc1c-42f1-903a-7bf58a28d6aa',\n",
       " '135ad8a0-25e0-4a5a-b152-2a5136ba64aa',\n",
       " '5a030ef2-ef31-45a3-8c94-27d63846a0cd',\n",
       " '066bba47-d48a-4e32-a19d-1b917ebc5712',\n",
       " '1eaf3a98-6a74-4b44-bbdd-d85a5f284dba',\n",
       " 'cdf66fba-54cd-4f29-8285-db59d9744a7a',\n",
       " '3ce28a35-60d7-41b6-ba27-78876216efb4',\n",
       " '5a064331-4620-435a-9568-4cb39f24cd1d',\n",
       " 'bd1d961e-33e0-4459-ba7e-436cc9cf2196',\n",
       " 'd9e026cf-8479-4ca0-a9cc-37de80225daf',\n",
       " '8754ad12-3a64-4db5-830b-4d3890a9c1d5',\n",
       " 'e2b7a3cf-0681-49d1-99a5-02665a863e0b',\n",
       " '846288ca-240a-41e0-be62-00d8eb901718',\n",
       " '7dd4652b-ebc9-4573-9b14-6df61d9b5555',\n",
       " 'f383d2b8-f578-46d7-a0e7-7520a25513bd',\n",
       " '4b72c0fd-cc93-4451-9abe-5270631b25ba',\n",
       " '01c39fe0-d7a5-4667-a99d-501887259462',\n",
       " '06c6d36c-01dd-4b27-b888-e2fac1defc78',\n",
       " '8014e95b-eb71-43e3-a6be-96c6e7ac9c86',\n",
       " '524db4c4-ebf2-4e0e-adfc-f85a59d03b2d',\n",
       " 'd3e6d7e5-70fd-407b-90f7-b45fb67a731f',\n",
       " 'a097be95-bd1e-4dde-b14d-ba5258f6f7e3',\n",
       " '56178256-e0ee-4b4c-8239-df30c7007106',\n",
       " '57374d3a-5fd6-4b40-bb6e-8842b6bc9753',\n",
       " 'acbb5c24-8a6a-4392-9764-2f91c667b060',\n",
       " 'aeb811ce-ae71-47e2-a2d7-60bef7ba4748',\n",
       " 'caded214-178c-4a17-ba49-dfb1f4d8185c',\n",
       " '6e0b27e4-39d0-4085-b765-7ab39aabbf42',\n",
       " '971fb473-c579-4e7f-9f46-186f7ef9d3af',\n",
       " '28ce5778-b9f6-42d4-b84f-31e41ebe973c',\n",
       " '861c2092-7db3-4ff1-b0bb-e813fb3da763',\n",
       " 'bf754996-59af-4086-abfc-4eca9644441f',\n",
       " '5b534cc0-8faa-45c7-8d3e-493ff44a18ea',\n",
       " 'a56f1f3b-355d-4fc6-8f1e-22212a7e4d72',\n",
       " '508c7771-b965-4446-aab0-e6a320517763',\n",
       " '839c3de5-240a-44d2-b77f-2b69a72fd372',\n",
       " 'b8e41074-cdfe-444e-b324-013c990df82e',\n",
       " 'cf798455-e8d1-4566-8969-d0311a9dca7d',\n",
       " 'a8963f61-2691-496b-8a28-8e2bb02f575d',\n",
       " 'b18a4a03-5030-450f-bd17-c174c5c7dae1',\n",
       " '05ea429f-4838-4f0d-b331-5a56a4301fef',\n",
       " 'f058db3f-8f8f-46ca-8bbd-2238fb85e4e5',\n",
       " '0423d135-38e9-4c74-96f6-01f8ee024613',\n",
       " '7ebd770b-d15b-4d0a-894c-77d4c2697036',\n",
       " '2c863f2d-507b-4d57-9e73-12cb53587bb9',\n",
       " 'b585a868-ef14-4037-848e-5b92e07d10a4',\n",
       " '7deb3d10-dc4d-448e-9332-c02e3f313005',\n",
       " 'd9985aca-62f3-4c23-af21-6249c2da8dec',\n",
       " 'f7c2e98b-8b00-4a40-a9df-074c05ec8081',\n",
       " 'be012ebe-d233-4bba-a338-094f871ad3e9',\n",
       " '31624575-fff7-4343-96c4-6a7a8d883a94',\n",
       " '0a8b6b74-1cac-4963-9a30-3f50906ee64d',\n",
       " '5a7641ba-46b0-4fab-9258-53051384d0f7',\n",
       " 'ce3a31de-609d-4cc3-8b5a-7f981a89d55e',\n",
       " '433030f1-61c8-4795-bb85-f33457922343',\n",
       " 'e3c4c538-bc18-4cc5-bed7-96379e58f8eb',\n",
       " 'eabe5056-24b5-4665-b35a-68465ffeb8c6',\n",
       " '8183c421-ceb5-438b-aea7-b6dec8531fde',\n",
       " '92b056a7-5322-4435-9d89-2b030826c62d',\n",
       " '8566f1fa-f80c-4fff-872f-bcc8973766a6',\n",
       " 'b2daf155-6fd6-4058-9053-59e7a3b3bd46',\n",
       " '63a7c42f-46eb-41e3-a439-e3048f44b68a',\n",
       " 'ad3d49c0-006b-478a-9ada-e544245a41aa',\n",
       " '13037f90-4b4a-4a40-95d9-e18d70d23445',\n",
       " '76688280-e2a3-4fab-8ad8-fd9e5539e295',\n",
       " '619102d2-d8a7-40a3-ad64-5a0b59d6ad21',\n",
       " '3fa477d0-e916-40dc-a0f8-9c865cf18ad2',\n",
       " '5a8d901e-3ca7-487d-9481-5a69c9bcb8f8',\n",
       " '28b7c2aa-04a7-4b18-ad15-3374997b9278',\n",
       " 'cd705c71-611c-49b9-9019-f43205cd97aa',\n",
       " 'f318b48c-09c3-4611-9723-49abd962a01e',\n",
       " '62c09db2-eec6-4592-9967-a3aa0c7790cb',\n",
       " 'a5595a71-436a-44c4-b27a-952513d8206f',\n",
       " '372c7956-c97e-4f86-bfc2-eae641255995',\n",
       " '73e43784-d751-46d7-a5d1-3dd1422bcd2a',\n",
       " 'e1b4b12d-19ab-4b37-93fb-b33a8cf1aa3a',\n",
       " 'a6f85d34-df26-4bf4-8cbc-9c66b84a72a7',\n",
       " 'ca939910-e49a-4fd4-a975-f20b6679f81f',\n",
       " '54ed481d-485b-4f48-a4b3-d089dc807f68',\n",
       " 'e561839a-5cfa-45a5-83d7-7785442e2de5',\n",
       " '9b13c566-75c8-4827-85c4-ef8cb1849b31',\n",
       " '614236c8-3439-458a-94b7-a56ea67f9544',\n",
       " '896db727-ae0d-4a22-8d33-9deda6ef8b9a',\n",
       " 'bbde9c89-ba6b-41f0-b0c6-6ce3acb1f3ae',\n",
       " '945823fe-4fc4-4469-a882-02cc6dd0389d',\n",
       " 'e4c85e61-4663-4d80-ba03-e6e0dd7fa00f',\n",
       " '9010f16b-eed7-4c95-92d9-c1069362052b',\n",
       " '322dbd3e-383c-48ec-aea0-2788a8cbe495',\n",
       " '52f07ed3-c278-4d1b-a155-732a40f7ce1e',\n",
       " '379d4821-1282-4785-8f9e-b1a9a78f50ef',\n",
       " '26ce48da-2017-491d-b085-22f02d85635f',\n",
       " '6c207d35-ff3d-4cb7-a377-9953e804c67c',\n",
       " '69764cfd-56b9-4805-9721-660addad2696',\n",
       " '1bc175dc-f8f5-40b8-8d51-f170f92b6a9f',\n",
       " 'aee631cd-a2e2-44fe-9a5d-8ef8876da3e4',\n",
       " '0df8322a-7bab-4e4f-9824-e2b5708b7f21',\n",
       " '98a19e2f-fa93-4c82-b369-749b4174d0c4',\n",
       " '540fdc99-7f8f-4db7-8504-b752325b8337',\n",
       " '4a4f0e79-515a-48ce-8cb1-d736c7011a84',\n",
       " 'da2a6d42-c0a2-4d87-a5ca-de72bad787f5',\n",
       " '1fece863-3c79-4982-ac45-1ea5721522ec',\n",
       " 'afe524c9-c85b-4889-8720-04a2163590e7',\n",
       " 'cf961262-c676-4dd6-8daa-3fd314656df8',\n",
       " '729197e9-22ee-4429-ad52-031eee5376cf',\n",
       " '97732dcc-bdde-4ef0-9a03-780cf1b88192',\n",
       " 'cfa76b6f-6813-4fec-b425-77933e4cea85',\n",
       " '42854f4a-17cc-4206-9155-542ad91bdbb8',\n",
       " '26fb5264-f3d7-4fad-b80d-4bd8549277be',\n",
       " 'ed602513-028c-4ac1-ae30-76359334156c',\n",
       " '8d6a4aa1-2e2d-4fdd-984b-a93a1221454c',\n",
       " '3c7d3027-2c9a-43eb-afa2-586098e76f9e',\n",
       " '342759cc-cac0-4714-9d0a-c03056679536',\n",
       " '93c640f0-4d38-408c-a9da-54d5a6a0204e',\n",
       " '0ef934ff-9df9-493e-a382-b8f5437fa3a4',\n",
       " '8febbd14-1481-44bf-951c-39ed3ea0fcf3',\n",
       " 'f5f1373a-65a7-4aa7-a0c7-9cd56aba09ae',\n",
       " '907d2935-abed-42f4-b396-4450d415d5ef',\n",
       " '925d31ad-3986-4785-ba5d-a5b2fa16c21f',\n",
       " '836e4d76-60d5-48f2-b68c-dd84528df5b9',\n",
       " '92a6e195-6baa-45b0-b265-88771f20f85f',\n",
       " '59023440-6090-4f82-bf3e-dd37262e1878',\n",
       " 'dc01d9ed-6375-4c87-a2d6-585bdd416ea6',\n",
       " 'e5139683-bbd4-4dc3-ad75-1f09dc27cfb6',\n",
       " '05c6c556-dcfb-4cfe-9c7c-616d198556be',\n",
       " '1594aaea-cafd-4e98-be32-ccfa55b986d5',\n",
       " '5fc8fa3e-d779-4f69-a0ad-636ecfa22d05',\n",
       " 'eab7727f-eba0-4972-9c62-d1a920df464a',\n",
       " 'fc650cc7-371c-4308-b1a6-667547990fc4',\n",
       " 'bbf749ce-02e9-4fc7-9ab1-1168a86d9fec',\n",
       " '8b838702-edf2-4014-b5dd-25177bc33b2a',\n",
       " '313e2021-0775-4094-a079-635a2d3c071a',\n",
       " 'd362f761-c851-47b8-b0dd-bac6b42031b2',\n",
       " '8b934236-d4be-4cd1-b173-7ccda10b7760',\n",
       " '27ad789d-684c-4404-bbb5-0b937a86a331',\n",
       " '35077599-76d9-4dc1-8297-e9e3f604a0b2',\n",
       " '008a9349-58f7-4b24-9702-2584fd940853',\n",
       " 'a76c49f7-282e-4da7-95e7-7c24776acd41',\n",
       " 'd821357f-2168-4146-828a-6f65c5cec311',\n",
       " '008795c6-4a37-4152-b426-47ee77d0bb5d',\n",
       " 'dc884ddd-d2d5-499e-80e7-41671babbefd',\n",
       " '8f1b8c76-e916-4fc1-b941-668a2fb90e98',\n",
       " 'a369271c-fe7d-4550-a2b6-6ad0433144d3',\n",
       " 'f103b791-22a5-431f-972d-5fcc7cacffdf',\n",
       " 'a15a1072-4572-43ff-b086-22e06a9b2913',\n",
       " '86339417-e46b-4ddd-8296-983f25219709',\n",
       " '11fdc011-1285-4cd5-825a-bff369c4fc4b',\n",
       " 'e58d6fc2-199e-4711-ab27-c2a0e6ec9aa1',\n",
       " '4921ed2a-3baf-4b4e-a10a-0b5fd80eda93',\n",
       " '877aa207-0fe3-4f23-b67f-45a8c2d63651',\n",
       " '003a8a6b-9183-4fda-8d24-f16f514ba8d2',\n",
       " '8277c26d-7043-420f-bdb4-2bacaaf76c99',\n",
       " 'cd645739-d322-4302-a0b2-2d1536ffde48',\n",
       " '01fb7c08-a97b-45f0-bd3a-6df7e42cffcb',\n",
       " '08b057a0-4880-44e2-b0f4-0d5be1474ac2',\n",
       " '3cf0d8f7-0d59-43c7-95eb-3321524d2089',\n",
       " '52cdee9c-62c3-433d-8779-2beeddb3761a',\n",
       " 'af49e54c-e2a3-4952-a1e8-e5c7141e7826',\n",
       " '12753cad-7116-4972-8c8e-bb0c2651f6c8',\n",
       " 'c93e4cb2-cdee-4c76-b8e2-6f5c573f966c',\n",
       " '73d0a184-ec85-429c-91df-08e1d267c3cc',\n",
       " '0be55ba6-5a07-436e-bfde-b7f5663177bd',\n",
       " '7e1e4241-8bdb-4611-9c79-7ff368dbf803',\n",
       " '4fdde08a-f73e-49f9-85f1-f7b011f8da9e',\n",
       " '1a1ef703-5411-4b71-9da6-802fb10b7240',\n",
       " '6f44af00-51c7-4bf9-8399-f23ca83516c8',\n",
       " '4e03dadc-f9e6-4e10-ae63-ddc670cc836e',\n",
       " 'b58c13b7-cc42-4e1a-995b-8827a4cc95bd',\n",
       " '7569d450-8e54-4680-8757-ca0777fd99ac',\n",
       " 'b1622018-2244-47a0-8487-730fd76c0938',\n",
       " 'ac047877-ba59-4432-aa7d-c657794c026e',\n",
       " '6ae7eddd-9127-471a-ae8d-0892afaa0cbe',\n",
       " 'fcc2a8cb-ef2d-4b55-95db-4b206ce9d160',\n",
       " 'eeafd8b6-42f5-4434-ba0c-f80dbd7fbc16',\n",
       " 'e798d921-af40-482f-bf96-77030ad38f1b',\n",
       " '9ab43daa-4947-4334-98be-7f0addcb20b7',\n",
       " 'fe58b6f6-9a74-44f5-8737-3cab1935a530',\n",
       " '9099b5be-0e42-4757-897c-62dd4bb28686',\n",
       " '9dce9fc9-8411-4381-80d0-09495dd62662',\n",
       " '41143067-423f-48c7-b443-50d9a5461e4b',\n",
       " 'd1b1d50f-79bb-47a4-b709-909518bae4e7',\n",
       " 'da1a5a53-b28b-4f90-ba28-e6db912ac369',\n",
       " 'e48fa2d5-a03c-47be-ade9-05bc2d5d1c17',\n",
       " '581c93dd-50d1-4c59-8550-023ce7810c57',\n",
       " '50eb0f85-0a23-461c-86fb-430036738d4d',\n",
       " 'eea54e76-a0e9-4232-940e-c2ef126e99d8',\n",
       " '8ccf0562-5374-4b07-b8fd-9f09369c5e10',\n",
       " '3d9a9a13-2257-4947-b107-cd7623fdd501',\n",
       " '743757eb-1a91-4b2f-9381-2336ff109dc0',\n",
       " '51b4184c-bda2-48ce-89f0-615066c919d5',\n",
       " 'e8a51938-298c-43f0-8d58-ef949d376d39',\n",
       " 'ed6387a6-3684-44cb-8bac-6edf9e366af9',\n",
       " '1b8305aa-c7ee-4d7d-a822-88029d368a97',\n",
       " 'f6a152b8-4764-41f3-aa3c-d4e98fc2f1cf',\n",
       " '942db6d6-b5dd-406a-8da8-57af69b1add2',\n",
       " 'c0f757dc-0d42-4a50-96f9-1755a241b800',\n",
       " '64ebcd97-f06c-49ff-8d8f-e86f632edc20',\n",
       " 'd4333d47-dc54-49b0-8fdf-24195b0f55e3',\n",
       " '3b47ed2a-dd27-46df-bef9-cae8809c1827',\n",
       " '4857678e-1ee0-4994-b650-7cef35c3f457',\n",
       " '29b15da9-6909-459c-8a8f-22003b1fd5f3',\n",
       " '40b5ddae-830b-49fc-8f7a-197e99c4a62d',\n",
       " 'ea05aac7-8148-4b91-9592-db50effd3269',\n",
       " 'f52a6266-aefd-44ac-88e5-6b3a1f73add5',\n",
       " 'b0628f11-5200-4c27-8f38-d23f9959d34b',\n",
       " '0e3186e6-6422-46b7-acd3-bd6653213061',\n",
       " 'e77b5950-68e4-4bb8-b3f9-271acb990e35',\n",
       " '9c97aa8d-8e61-472a-be3f-3bbda564f4b8',\n",
       " 'dd447a54-0cb8-480f-868f-23ac0e8ff04d',\n",
       " '9282cf57-70d7-4853-86d8-1b4b828d323e',\n",
       " 'fe645bf7-b43f-499d-8067-bd5524d001e7',\n",
       " '0133ae9f-2ee5-4537-a836-0dede2167b3f',\n",
       " '76a5567e-647c-4e3a-96e5-0b36ea1aec19',\n",
       " '3ee8698a-7dee-4e19-85b6-6f3f47cc3e34',\n",
       " 'd792ea8e-2c76-4bee-b9f4-a549461f986b',\n",
       " 'dc0afef3-2ebe-47a8-b3cc-8c7a61ef6e07',\n",
       " 'ec01fc6f-1496-417a-b874-ab0ab1895f0a',\n",
       " '89c6b9b5-67f4-4518-837c-3f45a21b705d',\n",
       " 'a92c0139-444b-4a57-b96f-cbc90a4358a4',\n",
       " 'f54ea9e8-7304-4b8e-915f-40f7c9889320',\n",
       " 'e10dd749-26e7-4a4c-978f-788f77378b26',\n",
       " '9c8ec911-db10-4c49-b416-038093ad5608',\n",
       " '5823766c-ebd2-4e45-8ad9-c5ef751aeb57',\n",
       " 'fdd8dfaa-1ec7-4b9a-9f92-cbddec3561d0',\n",
       " '24d32092-78fc-40c8-9937-5073df2c6b1a',\n",
       " '9a5ef93a-1da6-4cba-adf8-000a17e9ba73',\n",
       " '45e12e9b-da45-4c00-84dc-4eb02179cef8',\n",
       " '1dbd1f1d-9158-40d0-880d-e04dd51cec9d',\n",
       " 'cc9c706d-c036-42d8-ac47-1299786ded7f',\n",
       " 'd759d4b1-e323-4aef-b138-0e2a59f4d6e7',\n",
       " 'ba16c628-145b-4f9a-96c2-3312393574aa',\n",
       " '5a4eba19-8528-4fa9-a766-aa97c083b1fb',\n",
       " 'bd681b9f-2029-4ff9-ba6a-ef9e478efcd7',\n",
       " '3ea5135a-1627-41ba-862f-991dbb353164',\n",
       " 'eec3fa57-4874-43f9-acdb-07ea760c2c52',\n",
       " 'a0cc1d8a-81b8-450a-9e74-0a80e50dd56a',\n",
       " 'd3866c7e-f5e7-4669-aad2-c1ab14085d09',\n",
       " '31c4ce56-0c4c-4031-b00b-fd6e669b4711',\n",
       " '33e60271-776e-4c15-9e26-e18e4939c130',\n",
       " '81b7b8c2-ca57-4b55-828f-01cf5c023301',\n",
       " '170d1cfc-77d5-4919-b320-55193b5c9864',\n",
       " '3ba45175-561f-4b9d-8c60-2b2fb3c6e116',\n",
       " 'fca8ff94-a93f-4374-9e4f-22e97ae30230',\n",
       " '91294010-f0c7-420a-920e-8b81d819a8ee',\n",
       " 'f6715417-0856-4857-b17c-e4013f651a53',\n",
       " '129fda41-b65f-482c-953d-cf5bd264811d',\n",
       " 'd5605c65-5603-45cd-88bd-6db7baa391b5',\n",
       " '149bd585-c78a-4652-a771-9e4ef10c19a3',\n",
       " '8eaebecf-16df-4f2a-8b8a-f866b45bee4e',\n",
       " 'c2b6c217-aebc-4551-b226-55f7c86704d6',\n",
       " '6cf82898-9c7b-42fe-baff-7025a6ef35f2',\n",
       " '117c797d-6036-49c8-9a2c-985dc1784d52',\n",
       " 'fb16d98d-f65d-493b-bb65-550ccb15eeb0',\n",
       " '18b37951-0d8d-4f22-9c16-06bec5df3ed8',\n",
       " '700237cd-c3e3-4268-bb7d-f1172cc650f4']"
      ]
     },
     "execution_count": 12,
     "metadata": {},
     "output_type": "execute_result"
    }
   ],
   "source": [
    "# Convert documents to embeddings and store them\n",
    "vstr.add_documents(documents=book)"
   ]
  },
  {
   "cell_type": "code",
   "execution_count": 22,
   "id": "66769a7c",
   "metadata": {},
   "outputs": [],
   "source": [
    "page = vstr.similarity_search(query = \"노지선의 나이는?\", k = 20)"
   ]
  },
  {
   "cell_type": "code",
   "execution_count": 23,
   "id": "7e86964e",
   "metadata": {},
   "outputs": [
    {
     "data": {
      "text/plain": [
       "[Document(metadata={'page_url': 'https://namu.wiki/w/프로미스나인', 'artist_info': 'FROMIS_9', 'toc_item': '멤버', 'abs_page_toc_item': '멤버', 'parent_paper': ''}, page_content='멤버\\n\\n 해당 멤버별 포지션의 경우 공식 일본 웹사이트를 근거로 서술되었으나 노지선의 언급에 의하면 캡틴(리더)외 포지션을 나눠본 적이 없다고 한다. 그나마 멤버들이 확실히 인지하고 있는 포지션은 캡틴(이새롬), 부캡틴(송하영)(#fn-8; 데뷔 쇼케이스 당일에 V LIVE에서 공개된 공식 포지션이다. 새롬이 휴식기를 갖고 있을때 하영이가 캡틴 대행을 맡기도 했다.), 메인보컬(박지원, 송하영)(#fn-9; 오프더레코드 시절 발매한 FUN FACTORY 키트앨범에서 두 메인보컬이라고 밝힌바 있고 멤버들도 직접 언급했다.)과 메인댄서(이서연, 송하영)(#fn-10; 혀니콤보에 출연했을때 멤버들이 서연, 하영을 메댄이라 불렀다.)뿐이다.  ,,,,,이새롬,송하영,박지원,노지선,1997. 01. 07. (27세), 대한민국 행정구 속령,캡틴서브보컬,1997. 09. 29. (26세), 대한민국 행정구 속령,메인보컬메인댄서,1998. 03. 20. (26세), 대한민국 행정구 속령,메인보컬,1998. 11. 23. (25세), 대한민국 행정구 속령,서브보컬,,,,,이서연,이채영,이나경,백지헌,2000. 01. 22. (24세), 대한민국 행정구 속령,메인댄서리드보컬,2000. 05. 14. (24세), 대한민국 행정구 속령,서브보컬,2000. 06. 01. (24세), 대한민국 행정구 속령,서브보컬,2003. 04. 17.'),\n",
       " Document(metadata={'page_url': 'https://namu.wiki/w/프로미스나인', 'artist_info': 'FROMIS_9', 'toc_item': '2022년', 'abs_page_toc_item': '활동/V LIVE//LIVE/2022년', 'parent_paper': 'V LIVE'}, page_content='활동/V LIVE//LIVE/2022년\\n\\n노지선, 이나경, 백지헌-,-,02.13,  플로버 드러왕🍀❤️❤️❤️❤️-장규리, 박지원, 이서연, 이채영-,-,02.15,  들려요~♥-노지선-,-,02.20,  미드나잇게스트👋-전원-,-,02.22,  🐿️❤️-송하영, 이나경-,-,02.23,  Real 챙그랑-이채영-,-,02.26,  들어와🐼-이서연-,-,03.02,  보고싶어 플로버🐹-송하영-,지원의 찬조 출연.,03.03,  자기 전에 잠깐-박지원-,-,03.14,  🙂-장규리-,-,03.15,  안녕 플로-이새롬-,하영, 나경의 찬조출연.,03.20,  메메데 메리메건데이🎂-박지원-,지원의 25번째 생일 LIVE 및 하영, 서연의 찬조출연.,03.22,  👀-노지선-,-,04.13,  플로버 뭐하나🍀🌧️  플로버 뭐하나🍀🌧️-송하영-,에어컨 이슈로 재연결.,04.18,  나왔다-이채영-,-,04.24,  fromis day❤️-전원-,팬미팅 fromis day 성료 소감 LIVE,05.13,  Friday-노지선-,-,05.14,  챙탄절🐿🎂-이채영-,채영의 23번째 생일 LIVE.,05.16,  헌이 향수 공방 🌹-백지헌-,성년의 날 기념 향수 만들기 LIVE.,05.17,  보이스하꼬야-송하영, 이나경-,-,05.30,  져니 셔니 🎵-박지원, 이서연-,-,06.01,  나꼬데이 🍮-이나경-,나경의 23번째 생일 LIVE 및 하영, 서연의 찬조 출연.,06.08,'),\n",
       " Document(metadata={'page_url': 'https://namu.wiki/w/프로미스나인', 'artist_info': 'FROMIS_9', 'toc_item': '2023년', 'abs_page_toc_item': '활동/Weverse//LIVE/2023년', 'parent_paper': 'Weverse'}, page_content='활동/Weverse//LIVE/2023년\\n\\n딱 10분-노지선-,-,08.18,  오잉  오잉오잉  오잉오잉오잉-노지선-,기기 장애 및 거주지 화재경보 오작동으로 인해 재차연결.,08.19,  🍇🍅🍐🍇-이채영-,-,   .-백지헌-,-,08.21,  진짜 15분-노지선-,-,   🍮-이나경-,-,   1111대기중기대중-송하영-,지원의 찬조 출연.,08.22,   토론-백지헌-,-,08.23,   😯-노지선-,-,08.28,  🐶안냥-박지원-,-,   띱-이나경-,-,08.29,  허어어어어어ㅓㅓ어어어-이서연-,지선의 목소리 출연.,  🤨  😗-노지선-,화질 개선을 위한 재연결.,09.05,  ⭐️-박지원-,-,09.06,   수요일이구만-노지선-,-,09.07,  잠깐만여!!!!-박지원-,-,09.10,   냥-이채영-,-,09.12,  🤍🐌-박지원-,하영의 중간 합류.,09.13,   잠깐-이서연-,-,09.14,   잠깐 5분만☘️🍀-송하영-,-,09.21,  .-백지헌-,-,09.23,  플로버어ㅓㅓ🫂-이새롬-,-,09.27,  미리 해피 생일🍀🎂-송하영-,하영의 27번째 생일 LIVE. 생일 추석 연휴으로 인하여 하루 먼저 방송을 시작했다.,09.29,  오순도순시끌벅적생일라이브  오순도순시끌벅적생일라이브-송하영-,본가 친인척 목소리 출연.,10.02,  아이고 연휴 길다~-노지선-,-,10.05,   🤚🏻-노지선-,-,  노랑즈 점심보이스☘️🍀-송하영,'),\n",
       " Document(metadata={'page_url': 'https://namu.wiki/w/프로미스나인', 'artist_info': 'FROMIS_9', 'toc_item': '2023년', 'abs_page_toc_item': '활동/Weverse//LIVE/2023년', 'parent_paper': 'Weverse'}, page_content='활동/Weverse//LIVE/2023년\\n\\n전환으로 인한 재연결.,04.30,  배부른 지원~~-박지원-,새롬 인사차 목소리 출연.,05.01,  잠깐🍀☘️-송하영-,-,05.02,   커피 한 잔   아웅 이거 왜 끊켜-노지선-,통신문제로 인한 재연결.,   한 시간 정도 ? 🤔-이서연-,-,  🙋🏻\\u200d♀️-노지선-,-,05.04,  잠깐🍀☘️-송하영-,-,  🌚-노지선-,-,05.05,  부릉부릉-백지헌-,지원, 지선, 채영 목소리 출연.,05.06,  연습실  연습실2-백지헌-,온리 전환을 위한 재연결, 하영, 지선, 서연, 채영 찬조 출연.,05.08,  어두워요오-이채영-,지원 찬조 출연.,  후...-노지선-,-,   잠깐☘️🍀💚-송하영-,-,05.11,  🍅-노지선-,-,05.14,   잠 드는 중🌙-이채영-,-,  HBD TO ME 🥳-이채영-,채영의 24번째 생일 LIVE.,05.15,   ☺️-백지헌-,-,  😉-백지헌-,-,05.16,  잠 안 오는 사람들 잠시 모여~-노지선-,-,05.21,  퇴근  🚗-백지헌-,화면 전환을 위한 재연결.,05.23,  진짜 짧게 할거야-이서연-,-,   \\U0001faf6   \\U0001f979-이채영-,통신 오류로 인한 재연결.,05.24,  잠이 안오니?-노지선-,-,05.26,  \\U0001fae8  🤔-노지선-,통신 문제로 인한 재연결.,05.31,   쉿-노지선-,-,   한시간만!!!-이서연-,-,06.01,  드루왕 🥳-이나경-,나경의 24번째 생일'),\n",
       " Document(metadata={'page_url': 'https://namu.wiki/w/프로미스나인', 'artist_info': 'FROMIS_9', 'toc_item': '2023년', 'abs_page_toc_item': '활동/Weverse//LIVE/2023년', 'parent_paper': 'Weverse'}, page_content='활동/Weverse//LIVE/2023년\\n\\n.-백지헌-,-,10.30,  진짜 3분만 음소거 라이브-노지선-,-,11.01,  🌚-노지선-,-,11.02,   굿나잇 인사 짧게~-이서연-,-,  .  .  ㅁ-백지헌-,온리 전환을 위한 재연결.,11.04,  잠깐🍀☘️-송하영-,지원 잠시 합류.,11.08,  밤에밥-송하영, 박지원-,-,11.11,  ❄️🥶☃️🧤🧣-이채영-,-,11.13,  🤍-백지헌-,-,  바부들 ~-이나경-,하영 중간 합류.,11.14,  .  ㅎ-백지헌-,음식 주문을 위해 재연결.,11.20,  🙄-백지헌-,-,11.22,  Ji Sun Day❤️-노지선-,지선의 26번째 생일 LIVE. 생일 당일 스케줄로 인하여 하루 먼저 방송을 시작했다.,11.23,  ㅠ-백지헌-,-,11.24,  잠깐망-백지헌-,-,  안뇽하세용~-송하영, 박지원-,-,11.28,   퇴근길📞-송하영-,-,11.29,  자다 깸-노지선-,-,  플러벙-박지원-,-,11.30,  여보세요📞  여보세요📞-송하영-,보이스 전환을 위한 재연결.,12.01,  냥-송하영, 박지원-,-,  묭-박지원-,-,12.03,  잠깐📞-송하영-,-,12.05,  퇴근길 통화📞  아 먼저 끊어서 미안해-송하영-,시간 공유를 위해 재연결.,   탕후루 asmr-송하영-,-,  그러하다  뭐야-노지선-,통신 오류로 재연결.,12.06,   목소리 주의🙈-이채영-,-,12.07,'),\n",
       " Document(metadata={'page_url': 'https://namu.wiki/w/프로미스나인', 'artist_info': 'FROMIS_9', 'toc_item': 'FOOTNOTES', 'abs_page_toc_item': 'FOOTNOTES', 'parent_paper': ''}, page_content='FOOTNOTES\\n\\n그러나 백지헌은 첫 번째로 데뷔조 멤버에 호명되지 않았다.[52] 사실 fromis_9의 결성이 더 알려져서 그렇지, 실제로는 버스터즈가 먼저 데뷔했다. 재미있는 건 백지헌도 버스터즈에 들어갈 뻔한 멤버였다는 것.[53] 중1부터 고3까지 여러 회사를 옮겨다니며 준비했다고 한다. 일단 데뷔 전 알려졌던 과거는 샤인댄스 아카데미에 다녔던 경력, 댄싱9 시즌 2 출연, 광고 출연이 있다.[54] 대부분 2016~17년 사이의 작품들로, 특히 백지헌 본인에게 보여주면 시공간이 오그라들도록 싫어하는 미미박스, 맘마밀, 카레라이스 쌀면 등도 여기에 포함된다. 교과서 모델도 하였다.[55] 인터넷에 떠도는 활동 기간 7년 이야기는 공정위 표준 전속계약서의 최대 계약 기간이자 아이돌 그룹의 일반적인 계약 기간인 7년에서 비롯된 것으로, 프로미스나인의 정확한 계약 기간은 알려진 바가 없다.[56] 다만 프로미스나인이 엠넷 서바이벌 프로그램 출신 최초의 정규 아이돌은 아니다. 2017년 소년24라는 프로그램을 통해 데뷔한 IN2IT이 최초이다.[57] 특이 케이스로는 채널A 청춘스타를 통해 데뷔한 n.SSign이 있는데, 이쪽은 프로젝트성 그룹으로 만들어졌다 정식 그룹으로 전환된 최초의 사례다.[58] 심지어 맏언니가 빠른년생이라 막내가 초6일 때 맏언니는 벌써 대학생인 게 된다.[59] 2010년 후반대부터는 멤버끼리 나이차가 많이 나는 그룹도'),\n",
       " Document(metadata={'page_url': 'https://namu.wiki/w/프로미스나인', 'artist_info': 'FROMIS_9', 'toc_item': '2024년', 'abs_page_toc_item': '활동/Weverse//LIVE/2024년', 'parent_paper': 'Weverse'}, page_content='활동/Weverse//LIVE/2024년\\n\\nㅡ  ㅡ-백지헌-,배터리 방전으로 재연결.,03.02,   새벽 보이스 라이부🌙-송하영-,-,   모여라-이채영-,-,03.05,  1분만-송하영-,-,03.10,  주말주말-노지선-,-,  주말이니까 조금만 놀자 플로버🍀☘️-송하영-,-,03.15,  💕-백지헌-,-,03.18,  잠깐 🍮-이나경-,-,03.20,  🎂지원데이🎂-박지원-,지원의 27번째 생일 LIVE.,  썸네일로 쓸만한 사진이 없어 미앙🦀-이새롬-,-,03.21,  나갈 준비 하면서 grwm-노지선-,-,  🌱-이채영-,-,03.22,  \\U0001fae7-노지선-,-,03.26,  5분만 놀자아-송하영-,-,03.27,  잠시-노지선-,-,03.29,  🙂-이서연-,-,03.30,  하이 🍮-이나경-,하영 중간 합류.,04.06,  그래그래-노지선-,-,04.08,  봄-송하영, 이나경-,-,04.10,  잠깐🍀☘️-송하영-,-,04.15,  🌧️🧹-박지원-,-,  🤎🌙-박지원-,-,04.17,  hbd to me-백지헌-,지헌의 22번째 생일 LIVE. 채영 중간 합류.,04.18,  조금만!!-송하영-,-,04.20,   일기 라이부-송하영-,-,  노랑즈-송하영, 박지원-,-,04.26,  😫-박지원 · 송하영-,첫 합동 LIVE.,04.27,  잠깐\\U0001fa75-송하영-,-,05.07,  🌈🌼-이채영-,하영 잠시 출연.,05.08,  🤫-이채영-,-,05.10,'),\n",
       " Document(metadata={'page_url': 'https://namu.wiki/w/프로미스나인', 'artist_info': 'FROMIS_9', 'toc_item': '2018년', 'abs_page_toc_item': '활동/V LIVE//LIVE/2018년', 'parent_paper': 'V LIVE'}, page_content='활동/V LIVE//LIVE/2018년\\n\\n다시 돌아온! 노랑즈의 감성타임🎼-송하영, 박지원-,-,03.19,  저녁타임😁-노지선, 이나경, 백지헌-,-,03.20,  HAPPY JIWON DAY🎉-박지원-,지원의 21번째 생일 LIVE 및 멤버들의 깜짝 방문. ,03.22,  꼉챙과 함께하는 저녁시간😗😙😚-이채영, 이나경-,-,03.23,  카페갬성즈가 왔다☕-이새롬, 노지선, 이서연-,-,03.29,  어서와 지꼬롬은 처음이지😁-이새롬, 이나경, 백지헌-,-,03.30,  보기만해도...느껴지는 안정감😊-박지원, 노지선, 이서연-,-,04.04,  갑자기...😗-이새롬, 장규리, 이채영-,-,04.09,  갑자기 또 왔귤🍊-장규리-,-,04.12,  쓰리쥐가 나타났다😆-박지원, 노지선, 백지헌-,-,04.17,  HAPPY JIHEON DAY🎉-백지헌-,지헌의 16번째 생일 LIVE 및 멤버들의 깜짝 방문. ,04.18,  다시 돌아온 하롬😍-이새롬, 송하영-,-,04.20,  빵빵즈가 나타났다😆-이서연, 이채영, 이나경-,-,04.25,  카페 갬성즈☕-이새롬, 노지선, 이서연-,-,04.27,  보고 싶어서 왔귤🍊 -장규리-,-,05.02,  꿀깅이가 왔어요!🍯-백지헌-,-,05.28,24h VOD LIVE SHOW!-장규리 외 전원-(#fn-A; 프로듀스 48에 참가로 인한 활동 불참.)다시보기 삭제., The 2nd Mini Album To.'),\n",
       " Document(metadata={'page_url': 'https://namu.wiki/w/프로미스나인', 'artist_info': 'FROMIS_9', 'toc_item': '2023년', 'abs_page_toc_item': '활동/Weverse//LIVE/2023년', 'parent_paper': 'Weverse'}, page_content='활동/Weverse//LIVE/2023년\\n\\n추석 연휴으로 인하여 하루 먼저 방송을 시작했다.,09.29,  오순도순시끌벅적생일라이브  오순도순시끌벅적생일라이브-송하영-,본가 친인척 목소리 출연.,10.02,  아이고 연휴 길다~-노지선-,-,10.05,   🤚🏻-노지선-,-,  노랑즈 점심보이스☘️🍀-송하영, 박지원-,-,  앙녕🦋  다시😖-이채영-,지선, 서연 목소리 출연.하영 인사차 잠시 출연.통신 오류로 재연결.,10.06,  퇴근 라이브 잠깐🤍  퇴근 라이브🤍🤍🤍-송하영, 박지원-,통신 오류로 재연결.,10.08,  노랑즈 잠깐-송하영, 박지원-,-,10.09,  🤍-백지헌-,-,   \\U0001fae5-노지선-,-,10.12,  🍮-이나경-,새롬 잠시 목소리 출연.,10.14,  아ㅓㅏㅏㅏ-이서연-,-,  무엇이든 물어보3 (내가)-노지선-,-,10.15,  일요일 저녁 밥 먹으면서 10분만-송하영-,-,  .-백지헌-,-,10.16,  야 모여라!!😝-이채영-,지선 후반부 잠시 출연.,10.19,  .-백지헌-,-,10.23,  \\U0001fae0-노지선-,-,10.24,  🍀flover in the Wonderland👑-전원-,-,10.26,  .-백지헌-,-,10.30,  진짜 3분만 음소거 라이브-노지선-,-,11.01,  🌚-노지선-,-,11.02,   굿나잇 인사 짧게~-이서연-,-,  .  .  ㅁ-백지헌-,온리 전환을 위한 재연결.,11.04,  잠깐🍀☘️-송하영-,지원 잠시'),\n",
       " Document(metadata={'page_url': 'https://namu.wiki/w/프로미스나인', 'artist_info': 'FROMIS_9', 'toc_item': '2023년', 'abs_page_toc_item': '활동/Weverse//LIVE/2023년', 'parent_paper': 'Weverse'}, page_content=\"활동/Weverse//LIVE/2023년\\n\\n\\U0001faf6   \\U0001f979-이채영-,통신 오류로 인한 재연결.,05.24,  잠이 안오니?-노지선-,-,05.26,  \\U0001fae8  🤔-노지선-,통신 문제로 인한 재연결.,05.31,   쉿-노지선-,-,   한시간만!!!-이서연-,-,06.01,  드루왕 🥳-이나경-,나경의 24번째 생일 LIVE. 서연, 하영, 채영의 찬조출연.,06.02,   😮(20분만)-노지선-,-,   조금만 하고 잘거지롱-백지헌-,-,   오분만☘️🍀-송하영-,-, The 1st Album Unlock My World,06.06,   fromis_9 - #menow 노래 좋다던데?-노지선-,-,06.07,  fromis_9 COMEBACK LIVE 'ROCK MY WORLD'-전원-,-,06.13,  빵빵즈  빵빵즈-송하영, 이채영-,화면 전환을 위한 재연결.,  🎁-노지선-,-,  \\U0001fa77-백지헌-,-,06.14,  안 보면 후회할걸?🖤💙\\U0001fa77☕️-전원-,-,06.22,   잘자아🌙-송하영-,-,06.24,   잠깐☘️🍀   잠깐-송하영, 박지원-,배터리 부족으로 재연결.,06.25,   막방날이야ㅠ-백지헌-,-,  막방-전원-,정규 1집 활동 마무리 단체 라이브.,  노랑즈🌙-송하영, 박지원-,백지헌, 이새롬 목소리 출연.,  바통터치  바통터치-백지헌-,화면전환을 위한 재연결.,06.26,  우아🐻😯\\U0001fa77  우아🐻😯\\U0001fa77  진짜야😯🐻\\U0001fa77-이새롬-,화면및 온리 전환을 위한\"),\n",
       " Document(metadata={'page_url': 'https://namu.wiki/w/프로미스나인', 'artist_info': 'FROMIS_9', 'toc_item': '숙소 현황', 'abs_page_toc_item': '여담/숙소 현황', 'parent_paper': ''}, page_content='여담/숙소 현황\\n\\n6월 25일 위버스 라이브에서 숙소에서 지헌과 피자를 나누어 먹었다는 채팅이 있었는데 다음날인 26일 새롬 피셜로 하영, 지원이 각방을 쓸 수 있도록 배려하기 위해 2채로 이사하였으며 29일에 진행된 하영, 지원의 라이브 방송에서 결성 6년만에 각방을 쓰게 됐음을 알렸다.에어컨 전쟁 종결 하영은 기존 방을 그대로 쓰며 지원이 방을 옮겼다고 한다.현재 노지선과 이서연이 새로운 숙소인 3채에서 거주하는 것으로 보인다. 노지선이 숙소에서 라이브를 했을 당시 이서연이 합류하였고, 채팅으로 참여한 백지헌을 보고 같이 합류하라며 얼마 안 걸리지 않냐는 말을 하였기 때문에 같은 숙소는 아닌 것으로 보이며 2채와 3채의 거리가 가까운 것으로 보인다. 또한 이서연과 노지선은 위버스를 통해 서로 퇴근하면서 사갈 음식을 자주 물어보았기 때문에 같이 사는 것이 확실해 보인다. 또한 이새롬이 2채로 이사온 후 라이브를 했을 때 백지헌이 이새롬의 약과를 먹어도 되냐며 방 밖에서 물어본 적이 있었고 백지헌은 숙소 라이브에서 이새롬과 이나경만을 언급했기 때문에 현재 숙소는 총 3채로 구성되어 있을 확률이 높다.2024년 3월 31일 기준 현 숙소의 룸메이트 현황은 다음과 같다. 2023년 하반기 이후 1채의 박지원은 서울로 본가가 이사를 오면서 숙소를 나가게 되었고, 이채영 역시 서울 집을 오가며 거주하면서 숙소에는 송하영 혼자만 남는 일이 잦았다. 그래서인지'),\n",
       " Document(metadata={'page_url': 'https://namu.wiki/w/프로미스나인', 'artist_info': 'FROMIS_9', 'toc_item': '2인', 'abs_page_toc_item': '멤버/멤버 간 케미//목록/2인', 'parent_paper': '멤버 간 케미'}, page_content='멤버/멤버 간 케미//목록/2인\\n\\n- 이나경 & 백지헌  맏막즈 - 이새롬 & 백지헌  롬션(♥) - 이새롬 & 이서연평소 멤버들에게 스킨쉽하는 것을 좋아하는 이서연과 이를 잘 받아주는 이새롬의 조합이다. 더불어 이새롬은 이서연의 꿈 얘기의 주 청취자이기도 해서 간혹 귀찮음을 토로하기도 한다.  바른즈(♥) / 로션(♥) - 노지선 & 이서연프로미스의 방 2017년 11월 16일 방영분에서 \"내가 살면서 한 번도 해보지 못한 것은?\" 이라고 이서연의 질문에 이채영이 비행기 타고 여행 가기라고 말해 이에 노지선도 바르게 살아왔기 때문이라고 자평했다. 하지만 같은 해 12월 15일 \\'MAMA in Japan\\' 공연차 출국을 하게 되면서 자연스레 해체되었다. 이후 로션으로 불리고 있다.  선물(♥) - 이새롬 & 노지선2019년 5월 27일, V LIVE에서 이새롬이 여태껏 지선과 LIVE를 많이 했음에도 불구하고 둘을 가리키는 이름이 없어서 롬을 뒤집어 \\'물\\'이라 하고 노지\\'선\\'과 합쳐 즉흥적으로 지은 이름이라고 설명했다.  요리즈-송하영&노지선노지선은 아이돌 학교때부터 \\'노장금\\' 면모를 보여줬는데 이에 숙소에서 항상 멤버들의 끼니를 손수 챙겨주는 송하영과 함께 요리를 할때면 여실없이 둘이서 부엌을 책임진다.(#fn-3; 만일 단체로 요리를 해야할 시 자연스레 이 둘이 프나의 컨트롤 타워가 되며 잠깐이라도 자리를 비울 시 단체 요리를 진행하지 못한다.)  져니셔니 -'),\n",
       " Document(metadata={'page_url': 'https://namu.wiki/w/프로미스나인', 'artist_info': 'FROMIS_9', 'toc_item': '2021년', 'abs_page_toc_item': '활동/V LIVE//LIVE/2021년', 'parent_paper': 'V LIVE'}, page_content='활동/V LIVE//LIVE/2021년\\n\\n톡앤톡 2주차☘️☘️-전원-,-,09.19,  막방☘️☘️☘️-전원-,-,09.29,  오늘 누구 생일이게🎂☘️-송하영-,하영의 25번째 생일 LIVE.,10.02,  자니...?🌧️-노지선-,심야 새벽의 소통 LIVE 및 지원의 찬조 출연.,10.03,  아직 안 자겠지...?-이채영-,하영과 지원의 중간 합류.,10.29,  플로버와 함께 하는 할로윈 파티 🍷🦇🕸🕷-전원-,미리 맞는 할로윈 기념 LIVE. ,11.20,  ✌️✌️-백지헌-,-,11.23,  2021 지선🎂-노지선-,지선의 24번째 생일 LIVE.,12.20,  나 왔다 플로-이나경-,하영의 찬조 출연.,12.24,  노랑즈와 함께 해피 홀리데이🎂-송하영, 박지원-,-,12.27,  규리스마스🍊-장규리-,규리의 25번째 생일 LIVE.,'),\n",
       " Document(metadata={'page_url': 'https://namu.wiki/w/프로미스나인', 'artist_info': 'FROMIS_9', 'toc_item': '2024년', 'abs_page_toc_item': '활동/Weverse//LIVE/2024년', 'parent_paper': 'Weverse'}, page_content='활동/Weverse//LIVE/2024년\\n\\n  2024년 OFFICIAL Weverse LIVE by fromis_9,날짜,방송명,설명,01.02,  🌞-노지선-,-,  산책🌙-송하영-,-,  잠깐\\U0001fa75-송하영-,-,01.03,  🍚  🍚🍰 -박지원-,하영 잠시 목소리 출연.,01.05,  터벅터벅-박지원-,하영 후반부 목소리 출연.,01.06,  .-백지헌-,-,  잠깐❄️-송하영-,초반부 이후 보이스로 전환.지원 중간 합류.,01.07,  WHITE ROM DAY❤️-이새롬-,새롬의 28번째 생일 LIVE.,01.08,  떡볶이 먹방-송하영-,지원 중간 합류.,01.16,   🍚냠-박지원-,잠시 보이는 라이브 전환.,01.21,  🙌🏻-노지선-,-,01.22,  아!!-이서연-,서연의 25번째 생일 LIVE.,01.23,  라이브 온 핸드폰 체크~ 준비해주세요-송하영-,-,01.24,  6th anniversary❤️-전원-,데뷔 6주년 기념 LIVE.,  \\U0001fa75-송하영, 박지원-,-,01.25,  2분-노지선-,-,01.29,  라이브 온 핸드폰 체쿠 준비해주세용~-송하영-,-,01.30,  라면 먹방🍜-송하영-,-,  오  ㅎ-노지선-,프로필 사진 문제로 재연결.,01.31,   야~~~   오잉   냐-박지원-,하영 중간 합류.배달앱 주문 때문에 재연결.,   라이부-송하영, 박지원-,지원 액정 필름 부착으로 인해 하영 폰으로 재연결., 02.01,'),\n",
       " Document(metadata={'page_url': 'https://namu.wiki/w/프로미스나인', 'artist_info': 'FROMIS_9', 'toc_item': '사라진 케미', 'abs_page_toc_item': '멤버/멤버 간 케미//목록/사라진 케미', 'parent_paper': '멤버 간 케미'}, page_content='멤버/멤버 간 케미//목록/사라진 케미\\n\\n16일 방영분에서 둘이 룸메이트로 결성됐는데 조용한 분위기에 털털하다 못해 덜렁이는 규리가 아빠를 매사에 꼼꼼한 지선이 엄마 역을 맡으면서 자연스레 부부 컨셉의 케미를 뽐냈다.2019년 백지헌의 고교 진학과 장규리의 대학교 복학이 동시에 이루어지면서 비슷하던 생활 패턴의 변화로 노지선이 2층에 있던 백지헌과 방을 바꾸게 되어 자연스럽게 해체됐다.'),\n",
       " Document(metadata={'page_url': 'https://namu.wiki/w/프로미스나인', 'artist_info': 'FROMIS_9', 'toc_item': '2017년', 'abs_page_toc_item': '활동//연혁/2017년', 'parent_paper': '활동'}, page_content=\"활동//연혁/2017년\\n\\n 10월 13일, 아침 이채영이 처음으로 아이돌학교 페이스북 공식 계정을 통한 라이브 방송을 했고, 이후 오후에 한 번, 저녁에 한 번 멤버들도 모르게 라이브가 켜졌고, 방송을 진행했다.  10월 19일, 'fromis_의 방 엿보기' 방영을 시작으로 10월 26일 8시 30분 총 5화 분량의 fromis_의 방 정규 방송이 방영되었다. fromis_의 방 최종회에서 프로필 사진을 촬영하는 모습이 공개되었고, 방송이 끝난 직후 11월 24일 자정에 멤버별 프로필 사진 두 컷과 단체 프로필 사진 두 컷이 공식 SNS에 올라왔다. 멤버별 프로필 사진 공개는 아이돌학교 최종회 순위대로 진행되었으며, 1위인 노지선부터 공개되었다.  포털사이트 네이버에 프로필 정보가 등록되었다.  10월 26일 부터 약 1개월 간 노지선과 송하영이 엠 카운트다운의 중간 VCR 영상에 출연했다.  11월 29일, 일본 요코하마 아레나에서 열리는 MAMA에 출연해 첫 무대를 선보였다. 이날 선보인 노래의 이름은 동화 신데렐라에서 모티브를 따온 곡인 '유리구두'였다.기사 전문 곡의 퀄리티가 괜찮아서 팬들 사이에선 호평이 잇따랐으며, 이 곡이 앨범 수록곡이냐 아니면 타이틀곡이냐는 궁금증이 많았다. 같은 날 뮤직비디오와 함께 V LIVE 방송을 통해 30일에 본격적으로 음원이 풀린다는 사실을 공개했다. 다음날 30일 본 곡으로 프리 데뷔가\"),\n",
       " Document(metadata={'page_url': 'https://namu.wiki/w/프로미스나인', 'artist_info': 'FROMIS_9', 'toc_item': '여담', 'abs_page_toc_item': '여담', 'parent_paper': ''}, page_content=\"여담\\n\\n첫째인 백지헌은 남동생 1명, 부캡틴인 멤버 송하영은 언니와 남동생, 그리고 나머지 멤버들은 위로 오빠밖에 없다.)  초창기에는 나이 차가 나는 멤버끼리는 존댓말을 썼다. 다만 아예 선을 딱 그어서 존대한다기보단, 반존대를 했다고 보면 된다. 존대를 할 때도 편하게 이야기할 경우가 있다. 2020년에 와서는 막내 지헌도 새롬이나 하영에게 서슴없이 편하게 말하는 모습이 종종 보인다. 최근에는 존대조차 하지 않는데(...), 특히 이분이 이분과 이분에게… 롬쌔! 하냥!!  멤버들 중에 키가 비슷한 멤버들끼리는 옷을 같이 돌려입는 듯 하다. 이나경과 백지헌이 서로 옷을 바꿔 입는 것이 그 예. 그런데 V LIVE 한림즈의 등굣길에서 키 차이가 어느 정도 있는 이채영이 이서연의 티를 입은 것으로 보아 멤버끼리 옷을 많이 공유하는 것으로 짐작된다. 2020년 기준 하영, 지원, 채영의 경우 일정한 기준의 '저렴이' 들은 네꺼 내꺼 없이깐부공유한다고 한다. ??: 잘입을게!!  모든 멤버들의 혈액형이A형이나B형으로, A형인 멤버가 4명(#fn-61; 송하영, 박지원, 이서연, 이나경), B형인 멤버가 4명(#fn-62; 이새롬, 노지선, 이채영, 백지헌)이다.#그래서 숙소와 연습실 청소를 A형 조와 B형 조로 나눠서 한다고 한다. 팬들 사이에서 첫 소속사 스톤뮤직엔터테인먼트가 피드백 노력을 충분히 안 한다는 불만이 많았다. 심지어 공식\"),\n",
       " Document(metadata={'page_url': 'https://namu.wiki/w/프로미스나인', 'artist_info': 'FROMIS_9', 'toc_item': '2019년', 'abs_page_toc_item': '활동/V LIVE//LIVE/2019년', 'parent_paper': 'V LIVE'}, page_content=\"활동/V LIVE//LIVE/2019년\\n\\n오랜만🙋\\u200d♀️-백지헌-,새롬과 규리의 찬조 출연.,09.18,  가슴이 선덕선덕🍂-노지선-,-,09.23,  만들어보'귤' - 과일청 만들기-장규리-,-,09.26,  GG🐰🐳-박지원, 이채영, 백지헌-,-,09.28,  생일 전야제🍰🎂-전원-,하영의 미리 맞는 23번째 생일 및 인도네시아 슈퍼 K-pop 페스티벌 일정으로 인한 현지 해외 LIVE. 멤버들이 몰래카메라 이벤트를 마련했다.,10.02,  비 오는 날 롬쌔랑 통화할 사람?☎️-이새롬-,-,11.23,  HAPPY JISUN DAY🎂🐑-노지선-,지선의 22번째 생일 LIVE.,12.27,  HAPPY GYURI DAY🍊-장규리-,규리의 23번째 생일 LIVE 및 새롬의 깜짝 방문.,\"),\n",
       " Document(metadata={'page_url': 'https://namu.wiki/w/프로미스나인', 'artist_info': 'FROMIS_9', 'toc_item': 'FOOTNOTES', 'abs_page_toc_item': 'FOOTNOTES', 'parent_paper': ''}, page_content='FOOTNOTES\\n\\n통해 데뷔한 n.SSign이 있는데, 이쪽은 프로젝트성 그룹으로 만들어졌다 정식 그룹으로 전환된 최초의 사례다.[58] 심지어 맏언니가 빠른년생이라 막내가 초6일 때 맏언니는 벌써 대학생인 게 된다.[59] 2010년 후반대부터는 멤버끼리 나이차가 많이 나는 그룹도 꽤나 있지만 2세대 이후 걸그룹 중 이정도 나이차가 나는 그룹은 카라나 2NE1 정도 밖에 없었다. 보이그룹도 마찬가지라 2010년 초중반까지를 기준으로 최대 4~5살까지는 꽤 있어도 6살 이상 차이나는 그룹은 흔치 않았던 편.[60] 유일한 자매지간인 멤버 이채영은 3녀 중 막내, 집에서 유일한 첫째인 백지헌은 남동생 1명, 부캡틴인 멤버 송하영은 언니와 남동생, 그리고 나머지 멤버들은 위로 오빠밖에 없다.[61] 송하영, 박지원, 이서연, 이나경[62] 이새롬, 노지선, 이채영, 백지헌[63] 최근 오프더레코드의 공지를 통해 2019년 6월 중으로 고소가 진행됨을 알렸다.[64] 때때로 스태프들을 여럿 동행하는 장거리 스케줄을 이동할 때는 25인승 뉴 카운티를 대절해 사용했다.[65] 축구티셔츠인 줄도 몰랐다고 한다.[66] 반대로 송하영이 손흥민 포즈를 하는 영상도 있는데 여기서는 박지원이 해야 하는 거 아니냐는 댓글이 있다.[67] 박지원도 손흥민이 언급될 때마다 뜨끔하는 듯.[68] 지선의 경우 주변 지인들이 I가 아니라 E같다고 많이 말한다고 하며 본인도'),\n",
       " Document(metadata={'page_url': 'https://namu.wiki/w/프로미스나인', 'artist_info': 'FROMIS_9', 'toc_item': '2021년', 'abs_page_toc_item': '활동/V LIVE//LIVE/2021년', 'parent_paper': 'V LIVE'}, page_content=\"활동/V LIVE//LIVE/2021년\\n\\n서연과의 통화연결., The 2nd Single Album 9 WAY TICKET,05.20,  WE GO! 위고! 프로미스나인이 왔고!🛩-전원-,-,05.28,  한번 들어와 볼래~♥ 위고 위고🛩-전원-,-,06.01,  꼬탄절🎂🎉❤🐤-이나경-,나경의 22번째 생일 LIVE.,06.06,  플로로버와 할 프로미스나인의 Promise🤙🍀-전원-,The 2nd Single Album\\xa0'9 WAY TICKET'의 타이틀곡 WE GO 음악방송 마지막 주를 마치고 소감 LIVE.,07.04,  🌸🌺🥀🍭🏩-백지헌-,-,07.07,  7월 7일 노랑즈🌧-송하영, 박지원-,11시 40분이 넘어서 켠 V LIVE로 1박 2일 동안 진행.,07.17,  무지개 본 사람~-이나경-,-,08.10,  🍡🍡🍡  🍡🍡🍡🍡-백지헌-,배터리 방전으로 인한 재연결.,08.26,  꽹하🐿️-이채영-,-, Special Single Album Talk & Talk,09.05,  Talk & Talk 1주차 끝☘️  ☘️☘️☘️☘️☘️☘️☘️☘️☘️-전원-,세로 화면 조작로 인한 재연결.,09.11,  톡앤톡 2주차☘️☘️-전원-,-,09.19,  막방☘️☘️☘️-전원-,-,09.29,  오늘 누구 생일이게🎂☘️-송하영-,하영의 25번째 생일 LIVE.,10.02,  자니...?🌧️-노지선-,심야 새벽의 소통 LIVE 및 지원의 찬조 출연.,10.03,  아직 안\")]"
      ]
     },
     "execution_count": 23,
     "metadata": {},
     "output_type": "execute_result"
    }
   ],
   "source": [
    "page"
   ]
  },
  {
   "cell_type": "markdown",
   "id": "CQRq8KSiXBxZ",
   "metadata": {
    "id": "CQRq8KSiXBxZ"
   },
   "source": [
    "# 프롬프트 최적화"
   ]
  },
  {
   "cell_type": "code",
   "execution_count": null,
   "id": "_95A18LPXDMO",
   "metadata": {
    "colab": {
     "base_uri": "https://localhost:8080/"
    },
    "executionInfo": {
     "elapsed": 2336,
     "status": "ok",
     "timestamp": 1728869416144,
     "user": {
      "displayName": "",
      "userId": ""
     },
     "user_tz": -540
    },
    "id": "_95A18LPXDMO",
    "outputId": "bc28a507-274f-4fe9-f73b-34a164d47df8"
   },
   "outputs": [],
   "source": [
    "# 컬럼명 & 컬럼용 질문 Dict 생성\n",
    "qq = singer_queries['member_list']['question']\n",
    "loc = '멤버'\n",
    "\n",
    "# 시스템 프롬프트 설정\n",
    "system_prompt = SystemMessagePromptTemplate.from_template(\n",
    "    \"\"\"\n",
    "    You are a biographical dictionary agent. Provide only factual information based solely on the provided Context.\n",
    "    Be friendly and helpful without being overly chatty. Do not use any prior knowledge beyond the Context.\n",
    "    If the answer is not found in the Context, respond with \"None\" Follow the specified Output Format below.\n",
    "\n",
    "    The input will be provided using the following tags:\n",
    "    <Context>...</Context>\n",
    "    <Question>...</Question>\n",
    "\n",
    "    Please extract the Context, Question, and Format from these tags and answer the query accordingly.\n",
    "    \"\"\"\n",
    ")\n",
    "\n",
    "human_prompt = HumanMessagePromptTemplate.from_template(\n",
    "    \"\"\"<Context>n{context}</Context>\\n\\n\n",
    "    <Question>{question}</Question>\\n\\n\n",
    "    \"\"\"\n",
    ")\n",
    "prompt = ChatPromptTemplate.from_messages([system_prompt, human_prompt])\n",
    "chain = {\n",
    "      'context': itemgetter('context') | RunnablePassthrough()\n",
    "    , 'question': itemgetter('question') | RunnablePassthrough()\n",
    "} | prompt | llm | StrOutputParser()\n",
    "\n",
    "result = chain.with_config(configurable={\n",
    "            #   \"llm\": 'gpt4o_mini',\n",
    "            \"llm\":\"gemini_flash\",\n",
    "              \"temparature\": 0,\n",
    "              \"max_tokens\": None #max_tokens\n",
    "          }).invoke({\"question\": qq, 'context': \"\\n\\n\".join([doc.page_content for doc in documents if doc.metadata['abs_page_toc_item'] == loc])})\n",
    "\n",
    "print(result)"
   ]
  },
  {
   "cell_type": "code",
   "execution_count": null,
   "id": "tzrRXy2ipdAI",
   "metadata": {
    "colab": {
     "base_uri": "https://localhost:8080/"
    },
    "executionInfo": {
     "elapsed": 3,
     "status": "ok",
     "timestamp": 1728869423989,
     "user": {
      "displayName": "",
      "userId": ""
     },
     "user_tz": -540
    },
    "id": "tzrRXy2ipdAI",
    "outputId": "6af5e8b7-381b-43a8-c923-0f65dcf24678"
   },
   "outputs": [],
   "source": [
    "type(chain)"
   ]
  },
  {
   "cell_type": "code",
   "execution_count": null,
   "id": "CeJtAxVBX_29",
   "metadata": {
    "colab": {
     "base_uri": "https://localhost:8080/",
     "height": 35
    },
    "executionInfo": {
     "elapsed": 308,
     "status": "ok",
     "timestamp": 1727741146613,
     "user": {
      "displayName": "",
      "userId": ""
     },
     "user_tz": -540
    },
    "id": "CeJtAxVBX_29",
    "outputId": "1ad9b47f-d05a-4100-cfbd-6a2b4aa99ded"
   },
   "outputs": [],
   "source": [
    "qq"
   ]
  },
  {
   "cell_type": "code",
   "execution_count": null,
   "id": "0D6SuYEHXvMm",
   "metadata": {
    "colab": {
     "base_uri": "https://localhost:8080/",
     "height": 182
    },
    "executionInfo": {
     "elapsed": 8,
     "status": "ok",
     "timestamp": 1727742503065,
     "user": {
      "displayName": "",
      "userId": ""
     },
     "user_tz": -540
    },
    "id": "0D6SuYEHXvMm",
    "outputId": "a53cd354-da67-402c-f9d3-e3de87e6627d"
   },
   "outputs": [],
   "source": [
    "\"\\n\\n\".join([doc.page_content for doc in documents if doc.metadata['parent_paper'] == '팬덤'])"
   ]
  }
 ],
 "metadata": {
  "colab": {
   "name": "art_meta_parse_agent",
   "provenance": [],
   "toc_visible": true
  },
  "kernelspec": {
   "display_name": "venv",
   "language": "python",
   "name": "python3"
  },
  "language_info": {
   "codemirror_mode": {
    "name": "ipython",
    "version": 3
   },
   "file_extension": ".py",
   "mimetype": "text/x-python",
   "name": "python",
   "nbconvert_exporter": "python",
   "pygments_lexer": "ipython3",
   "version": "3.10.0"
  }
 },
 "nbformat": 4,
 "nbformat_minor": 5
}
