{
  "cells": [
    {
      "cell_type": "markdown",
      "id": "KCTIISFU7B0T",
      "metadata": {
        "id": "KCTIISFU7B0T"
      },
      "source": [
        "# TODO\n"
      ]
    },
    {
      "cell_type": "code",
      "execution_count": 2,
      "id": "0Uc8Kx6vMXen",
      "metadata": {
        "id": "0Uc8Kx6vMXen"
      },
      "outputs": [],
      "source": [
        "#과제\n",
        "#State와 결과값을 각기 유지"
      ]
    },
    {
      "cell_type": "markdown",
      "id": "ggvlsBi9TuGI",
      "metadata": {
        "id": "ggvlsBi9TuGI"
      },
      "source": [
        "# Settings"
      ]
    },
    {
      "cell_type": "code",
      "execution_count": 6,
      "id": "7FfaZbbFZi2jJtGUiVXTnszn",
      "metadata": {
        "id": "7FfaZbbFZi2jJtGUiVXTnszn",
        "tags": []
      },
      "outputs": [
        {
          "name": "stdout",
          "output_type": "stream",
          "text": [
            "Note: you may need to restart the kernel to use updated packages.\n"
          ]
        },
        {
          "name": "stderr",
          "output_type": "stream",
          "text": [
            "\n",
            "[notice] A new release of pip is available: 24.1.2 -> 24.2\n",
            "[notice] To update, run: python.exe -m pip install --upgrade pip\n"
          ]
        }
      ],
      "source": [
        "# %pip install -q -U langchain langchain_community langchain_core langchain_openai faiss-cpu langchain_anthropic langgraph langchain_google_community langchain_google_vertexai langchain-google-genai"
      ]
    },
    {
      "cell_type": "code",
      "execution_count": 1,
      "id": "ylmPnNdGUEMo",
      "metadata": {
        "id": "ylmPnNdGUEMo"
      },
      "outputs": [],
      "source": [
        "#수집할 아티스트 데이터\n",
        "we_art_name = 'FROMIS_9'"
      ]
    },
    {
      "cell_type": "markdown",
      "id": "sclt1-zoC38A",
      "metadata": {
        "id": "sclt1-zoC38A"
      },
      "source": [
        "## LLM 생성"
      ]
    },
    {
      "cell_type": "code",
      "execution_count": 2,
      "id": "01cea84c",
      "metadata": {},
      "outputs": [],
      "source": [
        "from langchain_text_splitters import RecursiveCharacterTextSplitter\n",
        "import re\n",
        "\n",
        "from langchain_openai import ChatOpenAI\n",
        "from langchain_core.prompts import ChatPromptTemplate\n",
        "from langchain_core.runnables import RunnablePassthrough\n",
        "from langchain_core.output_parsers import StrOutputParser\n",
        "\n",
        "import faiss\n",
        "from langchain_openai import OpenAIEmbeddings\n",
        "from langchain_google_vertexai import VertexAIEmbeddings\n",
        "from langchain_google_community import BigQueryVectorStore\n",
        "from langchain_google_community.bigquery import BigQueryLoader\n",
        "from langchain_community.vectorstores import FAISS\n",
        "from langchain_community.docstore.in_memory import InMemoryDocstore\n",
        "\n",
        "import vertexai"
      ]
    },
    {
      "cell_type": "code",
      "execution_count": 3,
      "id": "0cefca77",
      "metadata": {},
      "outputs": [],
      "source": [
        "from langchain_anthropic import ChatAnthropic\n",
        "from langchain_google_vertexai import ChatVertexAI\n",
        "from langchain_openai import ChatOpenAI\n",
        "from langchain_core.runnables import ConfigurableField\n",
        "import os"
      ]
    },
    {
      "cell_type": "code",
      "execution_count": 4,
      "id": "544a83ad",
      "metadata": {},
      "outputs": [],
      "source": [
        "from langchain_core.prompts import ChatPromptTemplate\n",
        "from langchain_core.runnables import RunnablePassthrough\n",
        "from langchain_core.output_parsers import StrOutputParser\n",
        "from langchain.prompts import ChatPromptTemplate, SystemMessagePromptTemplate, HumanMessagePromptTemplate\n",
        "from langchain.schema import SystemMessage, HumanMessage, AIMessage\n",
        "from langchain_core.output_parsers import JsonOutputParser\n",
        "from pydantic  import BaseModel, Field\n",
        "from operator import itemgetter\n",
        "\n",
        "from time import time"
      ]
    },
    {
      "cell_type": "code",
      "execution_count": 5,
      "id": "cd395954",
      "metadata": {},
      "outputs": [],
      "source": [
        "from langchain_core.prompts import ChatPromptTemplate\n",
        "from langchain_core.output_parsers import JsonOutputParser\n",
        "from pydantic import BaseModel, Field"
      ]
    },
    {
      "cell_type": "code",
      "execution_count": 6,
      "id": "mGPMuFVDC6vL",
      "metadata": {
        "id": "mGPMuFVDC6vL"
      },
      "outputs": [],
      "source": [
        "#API KEY 셋팅\n",
        "if not os.environ.get(\"OPENAI_API_KEY\"):\n",
        "    os.environ[\"OPENAI_API_KEY\"] = os.getenv(\"OPENAI_API_KEY\")\n",
        "\n",
        "if not os.environ.get(\"GOOGLE_API_KEY\"):\n",
        "    os.environ[\"GOOGLE_API_KEY\"] = os.getenv(\"GOOGLE_API_KEY\")\n",
        "\n",
        "#LLM 모델 생성 with Config\n",
        "\n",
        "llm = (\n",
        "    ChatAnthropic(model_name='claude-3-5-sonnet-20240620')\n",
        "    .configurable_alternatives(\n",
        "        ConfigurableField(\n",
        "            id = 'llm',\n",
        "            name=\"LLM Model\",\n",
        "            description=\"The base LLM model\",\n",
        "        ),\n",
        "        default_key=\"claude3_5_sonnet\",\n",
        "        claude3_haiku=ChatAnthropic(model_name='claude-3-haiku-20240307'),\n",
        "        gpt4o_mini = ChatOpenAI(model = 'gpt-4o-mini'),\n",
        "        gpt3_5 = ChatOpenAI(model = 'gpt-3.5-turbo'),\n",
        "        gemini_flash = ChatVertexAI(model=\"gemini-1.5-flash-001\")\n",
        "    )\n",
        "    .configurable_fields(\n",
        "        temperature=ConfigurableField(\n",
        "            id=\"temperature\",\n",
        "            name=\"LLM Temperature\",\n",
        "            description=\"The temperature of the LLM\",\n",
        "        ),\n",
        "        max_tokens = ConfigurableField(\n",
        "            id=\"max_token\",\n",
        "            name=\"Maximum input Tokens\",\n",
        "            description=\"Maximum limit of input Tokens\",\n",
        "        ),\n",
        "    )\n",
        ")"
      ]
    },
    {
      "cell_type": "markdown",
      "id": "dpf38aBvDfbP",
      "metadata": {
        "id": "dpf38aBvDfbP"
      },
      "source": [
        "## LangSmith 셋팅"
      ]
    },
    {
      "cell_type": "code",
      "execution_count": 7,
      "id": "4KkDwYiVDfK_",
      "metadata": {
        "id": "4KkDwYiVDfK_"
      },
      "outputs": [],
      "source": [
        "os.environ['LANGCHAIN_API_KEY'] = os.getenv(\"LANGCHAIN_API_KEY\")\n",
        "os.environ[\"LANGCHAIN_TRACING_V2\"] = \"true\"\n",
        "os.environ[\"LANGCHAIN_PROJECT\"] = \"langchain-academy\""
      ]
    },
    {
      "cell_type": "markdown",
      "id": "r6SLLG3m5d-x",
      "metadata": {
        "id": "r6SLLG3m5d-x"
      },
      "source": [
        "# 위키문서 로드 & 벡터스토어 생성"
      ]
    },
    {
      "cell_type": "code",
      "execution_count": 8,
      "id": "h1jiItnS5daq",
      "metadata": {
        "colab": {
          "base_uri": "https://localhost:8080/"
        },
        "executionInfo": {
          "elapsed": 11395,
          "status": "ok",
          "timestamp": 1728996073804,
          "user": {
            "displayName": "",
            "userId": ""
          },
          "user_tz": -540
        },
        "id": "h1jiItnS5daq",
        "outputId": "a97f6eef-c3ff-4ac6-fa37-cc60aec2e076"
      },
      "outputs": [],
      "source": [
        "#저장된 문서 불러오기\n",
        "PROJECT_ID = \"wev-dev-analytics\"\n",
        "REGION = \"asia-northeast3\"\n",
        "DATASET_ID = \"namu_wiki\"\n",
        "TABLE_ID = \"artists\"\n",
        "\n",
        "vertexai.init(project=PROJECT_ID, location=REGION)\n",
        "\n",
        "# OpenAI의 \"text-embedding-3-large\" 모델을 사용하여 1024차원의 임베딩을 생성하는 객체를 초기화합니다.\n",
        "embeddings_docs = OpenAIEmbeddings(model=\"text-embedding-3-small\", dimensions=1024, api_key = os.environ[\"OPENAI_API_KEY\"])\n",
        "# embeddings_docs = VertexAIEmbeddings(model_name=\"text-multilingual-embedding-002\")\n",
        "\n",
        "\n",
        "#임베딩할 문서 로더\n",
        "bigquery_loader = BigQueryLoader(\n",
        "    query=f\"\"\"\n",
        "        SELECT *\n",
        "             , json_value(metadata, '$.parent_page_toc_item') as parent_paper\n",
        "        FROM `{PROJECT_ID}.{DATASET_ID}.{TABLE_ID}`\n",
        "        WHERE artist_info = \"{we_art_name}\"\n",
        "    \"\"\",\n",
        "    project=PROJECT_ID,\n",
        "    page_content_columns = \"page_content\", #벡터화할 텍스트 지정\n",
        "    metadata_columns  = [\"artist_info\",\"toc_item\",\"abs_page_toc_item\",\"parent_paper\",\"page_url\"] #메타데이터 지정\n",
        ")\n",
        "\n",
        "documents = bigquery_loader.load()\n",
        "\n",
        "#Splitter 생성\n",
        "text_splitter = RecursiveCharacterTextSplitter(\n",
        "  # 나무위키 한 문단에 적절하다고 판단하는 청크 사이즈\n",
        "  chunk_size=700,\n",
        "  # 적절하다고 생각하는 overlap\n",
        "  chunk_overlap=150,\n",
        "  # 문자열 길이를 계산하는 함수를 지정합니다.\n",
        "  length_function=len,\n",
        "  # 구분자로 정규식을 사용할지 여부를 설정합니다.\n",
        "  is_separator_regex=False,\n",
        ")\n",
        "\n",
        "book = []\n",
        "\n",
        "# metadata를 page_content에 포함시키는 함수\n",
        "def concatenate_metadata_into_content(doc):\n",
        "    doc.page_content = f\"{doc.metadata['abs_page_toc_item']}\\n\\n\"+re.sub('page_content:', '', f\"{doc.page_content}\")\n",
        "    return doc\n",
        "\n",
        "#Chunking with abs_page_toc_item\n",
        "for element in documents:\n",
        "  # text_splitter를 사용하여 텍스트를 문서로 분할합니다.\n",
        "  papers = text_splitter.create_documents(texts = [element.page_content], metadatas = [element.metadata])\n",
        "  #papers.page_content 앞에 element.metadata[abs_page_toc_item] concat하기\n",
        "  book.extend(list(map(concatenate_metadata_into_content, papers)))\n",
        "\n",
        "\n",
        "#FAISS 벡터스토어 생성\n",
        "index = faiss.IndexFlatL2(len(embeddings_docs.embed_query(\"Hello world\")))\n",
        "# index = faiss.IndexFlatL2(len(embeddings_docs.embed(texts = [\"hello world\"], embeddings_task_type = 'RETRIEVAL_DOCUMENT')))\n",
        "\n",
        "##Sementic Search를 위한 Chunking 문서 임베딩\n",
        "vstr = FAISS(\n",
        "    embedding_function=embeddings_docs,\n",
        "    index=index,\n",
        "    docstore= InMemoryDocstore(),\n",
        "    index_to_docstore_id={}\n",
        ")\n",
        "\n",
        "# Convert documents to embeddings and store them\n",
        "# vstr.add_documents(documents=book)"
      ]
    },
    {
      "cell_type": "code",
      "execution_count": 9,
      "id": "Xx9gZ3VvAd9D",
      "metadata": {
        "id": "Xx9gZ3VvAd9D"
      },
      "outputs": [],
      "source": [
        "def get_chain(model, retriever = None, parser = StrOutputParser()):\n",
        "    # 시스템 프롬프트 설정\n",
        "    system_prompt = SystemMessagePromptTemplate.from_template(\n",
        "        \"\"\"\n",
        "        You are a biographical dictionary agent. Your sole purpose is to provide factual information based strictly on the provided <Context>.\n",
        "\n",
        "        - **Behavior:**\n",
        "          - Be friendly and helpful without being overly chatty.\n",
        "          - Do not use any prior knowledge beyond the <Context>.\n",
        "          - If the answer cannot be found within the <Context>, respond with \"None\"\n",
        "\n",
        "        - **Input Structure:**\n",
        "          - The input will be provided using the following tags:\n",
        "            ```\n",
        "            <Context>\n",
        "            ...\n",
        "            </Context>\n",
        "            <Question>\n",
        "            ...\n",
        "            </Question>\n",
        "            <Format>\n",
        "            ...\n",
        "            </Format>\n",
        "            ```\n",
        "\n",
        "        - **Response Guidelines:**\n",
        "          - **Do not** include the `<Context>`, `<Question>`, or `<Format>` tags in your response.\n",
        "          - **Only** provide the answer as specified in the `<Format>` section.\n",
        "          - Ensure the response strictly adheres to the format provided.\n",
        "        \"\"\"\n",
        "    )\n",
        "\n",
        "    # Runnable로 채워질 부분\n",
        "    human_prompt = HumanMessagePromptTemplate.from_template(\n",
        "        \"\"\"<Context>{context}</Context>\\n\\n\n",
        "        <Question>{question}</Question>\\n\\n\n",
        "        <Format>{format_instructions}</Format>\"\"\"\n",
        "    )\n",
        "    prompt = ChatPromptTemplate.from_messages([system_prompt, human_prompt])\n",
        "    if isinstance(parser, JsonOutputParser):\n",
        "      prompt = prompt.partial(format_instructions=parser.get_format_instructions())\n",
        "\n",
        "    def concat_docs(docs) -> str: # retriever가 반환한 모든 Document들의 page_content를 하나의 단일 string으로 붙여주는 함수\n",
        "        return \"\".join(doc.page_content for doc in docs)\n",
        "\n",
        "    chain = {}\n",
        "\n",
        "    # 기본 메타데이터는 리트리버 사용하지 않고 지정된 문서를 Context로 전달\n",
        "    if retriever is None:\n",
        "      chain = {\n",
        "            'context': itemgetter('context') | RunnablePassthrough()\n",
        "          , 'question': itemgetter('question') | RunnablePassthrough()\n",
        "      } | prompt | model | parser\n",
        "    else:\n",
        "      chain = {\n",
        "            \"context\" : itemgetter('question') | retriever | concat_docs\n",
        "          , \"question\" : itemgetter('question') | RunnablePassthrough()\n",
        "      } | prompt| model | parser\n",
        "\n",
        "    return chain"
      ]
    },
    {
      "cell_type": "markdown",
      "id": "v3mMFcXhBbHk",
      "metadata": {
        "id": "v3mMFcXhBbHk"
      },
      "source": [
        "# 질문 Set"
      ]
    },
    {
      "cell_type": "code",
      "execution_count": 10,
      "id": "fxBKMjr9BdS4",
      "metadata": {
        "id": "fxBKMjr9BdS4"
      },
      "outputs": [],
      "source": [
        "# 지시: Answer the question\n",
        "# 형식: JsonOutputParser\n",
        "# 맥락: context (documents or retriever)\n",
        "# 역할: SystemPrompt\n",
        "\n",
        "# 원하는 데이터 구조를 정의합니다.\n",
        "class Ctry(BaseModel):\n",
        "    ctry: list = Field(description=\"ISO 3166-1 alpha-2 형식, 최소 1개 이상\")\n",
        "\n",
        "class Gender(BaseModel):\n",
        "    gender: str = Field(description=\"남성과 관련된 단어가 나오면 '남성'으로, 여성과 관련된 단어가 나오면 '여성'으로 출력\")\n",
        "\n",
        "class Genre(BaseModel):\n",
        "    genre: list = Field(description=\"문서 내 순서를 따르고, 모든 장르를 출력\")\n",
        "\n",
        "class Label(BaseModel):\n",
        "    label_name: list = Field(description=\"고유명사만 출력하고 **괄호와 괄호 안의 내용은 반드시 제거**, 2개 이상인 경우 솔로 활동을 앞 순서에, 그룹 활동은 뒷 순서에 배치해주세요.\")\n",
        "\n",
        "class Debut(BaseModel):\n",
        "    debut_date: str = Field(description=\"'yyyy-MM-dd' 형식으로 출력\")\n",
        "\n",
        "class MemberInfo(BaseModel):\n",
        "    member_list: list = Field(description=\"문서 내 순서를 따른다.\")\n",
        "\n",
        "class MemberNumber(BaseModel):\n",
        "    member_cnt: int = Field(description=\"숫자로만 출력하세요.\")\n",
        "\n",
        "class Fandom(BaseModel):\n",
        "    fandom_name: str = Field(description=\"고유명사만 출력하고, 반복되는 문자열은 하나로 합쳐주세요.\")\n",
        "\n",
        "\n",
        "# 컬럼명 & 컬럼용 질문 Dict 생성\n",
        "singer_queries = {\n",
        "    \"ctry\":{\n",
        "        \"question\":\"활동 국가는?\",\n",
        "        \"format\":JsonOutputParser(pydantic_object=Ctry),\n",
        "      }, #???\n",
        "    \"gender\":{\"question\":\"인물의 성별을 유추하세요. (힌트: 보이그룹, 걸그룹, 혼성듀오, 형, 누나, 오빠)\",\n",
        "              \"format\":JsonOutputParser(pydantic_object=Gender),\n",
        "              \"loc\":\"개요\" #(솔로)PROFILE > 가족 or (그룹)개요\n",
        "    },\n",
        "    \"genre\": {\"question\":\"음악 장르는?\",\n",
        "              # \"format\":\"가장 관련성이 큰 장르 2개로 정리해줘. [장르 A, 장르 B]와 같이 쉼표로 구분된 한 줄로 출력하세요.\",\n",
        "              \"format\":JsonOutputParser(pydantic_object=Genre),\n",
        "              \"loc\":\"PROFILE\" #PROFILE > 장르\n",
        "    },\n",
        "    \"label_name\": {\"question\":\"엔터테인먼트 회사명은?\",\n",
        "                   \"format\":JsonOutputParser(pydantic_object=Label),\n",
        "                   \"loc\":\"PROFILE\" #PROFILE > 소속사\n",
        "    },\n",
        "    \"debut_date\": {\"question\":\"데뷔일자는?\",\n",
        "                   \"format\":JsonOutputParser(pydantic_object=Debut),\n",
        "                   \"loc\":\"PROFILE\" #PROFILE > 데뷔일\n",
        "    },\n",
        "    \"member_list\": {\"question\":\"문서에서 사람 이름을 모두 나열해주세요\",\n",
        "                    \"format\":JsonOutputParser(pydantic_object=MemberInfo),\n",
        "                    \"loc\":\"멤버\" #멤버\n",
        "    },\n",
        "    \"member_num\": {\"question\":\"문서에서 사람은 총 몇 명인가요?\",\n",
        "                   \"format\":JsonOutputParser(pydantic_object=MemberNumber),\n",
        "                   \"loc\":\"멤버\" #멤버\n",
        "    },\n",
        "    \"fandom_name\": {\"question\":\"팬덤명은?\",\n",
        "                    \"format\":JsonOutputParser(pydantic_object=Fandom),\n",
        "                    \"loc\":\"PROFILE\" #PROFILE > 팬덤\n",
        "    }\n",
        "}"
      ]
    },
    {
      "cell_type": "markdown",
      "id": "8xr42eJQT-QL",
      "metadata": {
        "id": "8xr42eJQT-QL"
      },
      "source": [
        "# Tool 정의"
      ]
    },
    {
      "cell_type": "code",
      "execution_count": 11,
      "id": "gqt-h-kX8LbL",
      "metadata": {
        "id": "gqt-h-kX8LbL"
      },
      "outputs": [],
      "source": [
        "#툴은 크게 4개\n",
        "#0. 전달받은 문서에서 메타데이터를 생성하는 툴\n",
        "#1. 프로필에서 메타데이터 생성\n",
        "## 1.1. 0.에 프로필을 전달\n",
        "#2. 개요/멤버/팬덤 문서에서 메타데이터 생성\n",
        "## 2.1. 0.에 개요/멤버/팬덤을 각각 전달\n",
        "## 2.2. 2.1.에서 생성한 3개의 df를 머지\n",
        "#3. 리트리버에서 메타데이터 생성\n",
        "## 3.1. 흠...\n",
        "#4. 1~3의 결과를 종합해서 최종 데이터를 만드는 툴\n",
        "\n",
        "#나중에는...\n",
        "#아티스트명을 입력받아서 이 아티스트가 가수/배우/그 외에 따라서 질문 set을 다르게 가져와야함."
      ]
    },
    {
      "cell_type": "markdown",
      "id": "uZS9rQIRA4t_",
      "metadata": {
        "id": "uZS9rQIRA4t_"
      },
      "source": [
        "## 전달받은 문서에서 메타데이터를 생성하는 툴"
      ]
    },
    {
      "cell_type": "code",
      "execution_count": 12,
      "id": "6E2Hrqz_A7VY",
      "metadata": {
        "id": "6E2Hrqz_A7VY"
      },
      "outputs": [],
      "source": [
        "import re\n",
        "import pandas as pd\n",
        "\n",
        "def answer_to_df(q_dict, docs):\n",
        "\n",
        "    answer_list = []\n",
        "\n",
        "    for key, val in q_dict.items():\n",
        "        #Chain 생성\n",
        "        rag_chain = get_chain(model = llm, parser = val['format'])\n",
        "        rag_chain = rag_chain.with_config(configurable={\n",
        "            # \"llm\": \"gpt4o_mini\", #model_name,\n",
        "            \"llm\":\"gemini_flash\",\n",
        "            \"temparature\": 0, #temp,\n",
        "            \"max_tokens\": None #max_tokens\n",
        "        })\n",
        "\n",
        "        answer = rag_chain.invoke({\"question\": val['question'], \"context\":docs})\n",
        "        answer_list.append(answer)\n",
        "\n",
        "    # 각 딕셔너리 병합\n",
        "    merged_dict = {}\n",
        "    for item in answer_list:\n",
        "        merged_dict.update(item)\n",
        "\n",
        "    # 병합된 딕셔너리를 DataFrame으로 변환\n",
        "    result = pd.DataFrame([merged_dict])\n",
        "    # print(result)\n",
        "\n",
        "    return result"
      ]
    },
    {
      "cell_type": "markdown",
      "id": "IVp-RbIDA0OL",
      "metadata": {
        "id": "IVp-RbIDA0OL"
      },
      "source": [
        "## 지정된 문서 원문에서 메타데이터를 생성하는 Tool"
      ]
    },
    {
      "cell_type": "code",
      "execution_count": 13,
      "id": "VngUDoqtLUt6",
      "metadata": {
        "id": "VngUDoqtLUt6"
      },
      "outputs": [],
      "source": [
        "def df_from_origin(q_dict, origin):\n",
        "    try:\n",
        "      #RunnableParellel로 변경할 부분\n",
        "      df = answer_to_df(q_dict, \"\\n\\n\".join([doc.page_content for doc in documents if doc.metadata['abs_page_toc_item'] == origin]))\n",
        "    except Exception as e:\n",
        "      #에러가 발생하는 경우 빈 데이터프레임을 반환\n",
        "      print(e)\n",
        "      df = pd.DataFrame(columns = ['ctry','gender','genre','label_name','debut_date','member_list','member_num','fandom_name'])\n",
        "    finally:\n",
        "      return df"
      ]
    },
    {
      "cell_type": "markdown",
      "id": "mbJxc3wXb-Dt",
      "metadata": {
        "id": "mbJxc3wXb-Dt"
      },
      "source": [
        "## 리트리빙해서 메타데이터를 생성하는 Tool"
      ]
    },
    {
      "cell_type": "code",
      "execution_count": 24,
      "id": "PvWEi3HUn8JB",
      "metadata": {
        "id": "PvWEi3HUn8JB"
      },
      "outputs": [
        {
          "name": "stdout",
          "output_type": "stream",
          "text": [
            "Note: you may need to restart the kernel to use updated packages.\n"
          ]
        },
        {
          "name": "stderr",
          "output_type": "stream",
          "text": [
            "  error: subprocess-exited-with-error\n",
            "  \n",
            "  × python setup.py egg_info did not run successfully.\n",
            "  │ exit code: 1\n",
            "  ╰─> [1 lines of output]\n",
            "      ERROR: Can not execute `setup.py` since setuptools is not available in the build environment.\n",
            "      [end of output]\n",
            "  \n",
            "  note: This error originates from a subprocess, and is likely not a problem with pip.\n",
            "error: metadata-generation-failed\n",
            "\n",
            "× Encountered error while generating package metadata.\n",
            "╰─> See above for output.\n",
            "\n",
            "note: This is an issue with the package mentioned above, not pip.\n",
            "hint: See above for details.\n",
            "\n",
            "[notice] A new release of pip is available: 24.1.2 -> 24.2\n",
            "[notice] To update, run: python.exe -m pip install --upgrade pip\n"
          ]
        }
      ],
      "source": [
        "# 패키지 업데이트\n",
        "# %pip install -qU langchain-teddynote"
      ]
    },
    {
      "cell_type": "code",
      "execution_count": 23,
      "id": "eLnwgvXOhZ6B",
      "metadata": {
        "id": "eLnwgvXOhZ6B"
      },
      "outputs": [],
      "source": [
        "#단순 리트리빙이 아니라, 요약을 하던지, 리랭크를 하던지 해야함"
      ]
    },
    {
      "cell_type": "code",
      "execution_count": null,
      "id": "iYGLvMpImQSV",
      "metadata": {
        "id": "iYGLvMpImQSV"
      },
      "outputs": [],
      "source": [
        "# 문서를 예쁘게 출력하기 위한 도우미 함수\n",
        "def pretty_print_docs(docs):\n",
        "    print(\n",
        "        f\"\\n{'-' * 100}\\n\".join(\n",
        "            [f\"문서 {i+1}:\\n\\n\" + d.page_content for i, d in enumerate(docs)]\n",
        "        )\n",
        "    )"
      ]
    },
    {
      "cell_type": "code",
      "execution_count": 30,
      "id": "9jj2bPbzdKX-",
      "metadata": {
        "id": "9jj2bPbzdKX-"
      },
      "outputs": [],
      "source": [
        "ret = vstr.as_retriever()"
      ]
    },
    {
      "cell_type": "code",
      "execution_count": null,
      "id": "reMJxayrmXcw",
      "metadata": {
        "colab": {
          "base_uri": "https://localhost:8080/"
        },
        "executionInfo": {
          "elapsed": 335,
          "status": "ok",
          "timestamp": 1728996078516,
          "user": {
            "displayName": "",
            "userId": ""
          },
          "user_tz": -540
        },
        "id": "reMJxayrmXcw",
        "outputId": "d5cce494-3a7a-4207-fdc6-522b45dac3e7"
      },
      "outputs": [],
      "source": [
        "# 쿼리에 질문을 정의하고 관련 문서를 검색합니다.\n",
        "docs = ret.invoke(\"노지선의 나이는?\")\n",
        "\n",
        "# 검색된 문서를 예쁘게 출력합니다.\n",
        "pretty_print_docs(docs)"
      ]
    },
    {
      "cell_type": "code",
      "execution_count": null,
      "id": "eCTKmZKhmwh5",
      "metadata": {
        "colab": {
          "base_uri": "https://localhost:8080/"
        },
        "executionInfo": {
          "elapsed": 6597,
          "status": "ok",
          "timestamp": 1728865646717,
          "user": {
            "displayName": "",
            "userId": ""
          },
          "user_tz": -540
        },
        "id": "eCTKmZKhmwh5",
        "outputId": "1d9d68f7-3c26-4554-e08f-a7bd62f32ad5"
      },
      "outputs": [],
      "source": [
        "from langchain_teddynote.document_compressors import LLMChainExtractor\n",
        "from langchain.retrievers import ContextualCompressionRetriever\n",
        "\n",
        "# from langchain.retrievers.document_compressors import LLMChainExtractor\n",
        "from langchain_openai import ChatOpenAI\n",
        "\n",
        "llm = ChatOpenAI(temperature=0, model=\"gpt-4o-mini\")  # OpenAI 언어 모델 초기화\n",
        "\n",
        "# LLM을 사용하여 문서 압축기 생성\n",
        "compressor = LLMChainExtractor.from_llm(llm)\n",
        "compression_retriever = ContextualCompressionRetriever(\n",
        "    # 문서 압축기와 리트리버를 사용하여 컨텍스트 압축 리트리버 생성\n",
        "    base_compressor=compressor,\n",
        "    base_retriever=ret,\n",
        ")\n",
        "\n",
        "pretty_print_docs(ret.invoke(\"노지선의 나이는?\"))\n",
        "\n",
        "print(\"=========================================================\")\n",
        "print(\"============== LLMChainExtractor 적용 후 ==================\")\n",
        "\n",
        "compressed_docs = (\n",
        "    compression_retriever.invoke(  # 컨텍스트 압축 리트리버를 사용하여 관련 문서 검색\n",
        "        \"노지선의 나이는?\"\n",
        "    )\n",
        ")\n",
        "pretty_print_docs(compressed_docs)  # 검색된 문서를 예쁘게 출력\n"
      ]
    },
    {
      "cell_type": "code",
      "execution_count": null,
      "id": "IzzpEPS4o44W",
      "metadata": {
        "colab": {
          "base_uri": "https://localhost:8080/"
        },
        "executionInfo": {
          "elapsed": 4046,
          "status": "ok",
          "timestamp": 1728865729892,
          "user": {
            "displayName": "",
            "userId": ""
          },
          "user_tz": -540
        },
        "id": "IzzpEPS4o44W",
        "outputId": "9ba1a03d-e5d9-48a4-8d71-e33320eb4bca"
      },
      "outputs": [],
      "source": [
        "from langchain_teddynote.document_compressors import LLMChainFilter\n",
        "\n",
        "# LLM을 사용하여 LLMChainFilter 객체를 생성합니다.\n",
        "_filter = LLMChainFilter.from_llm(llm)\n",
        "\n",
        "compression_retriever = ContextualCompressionRetriever(\n",
        "    # LLMChainFilter와 retriever를 사용하여 ContextualCompressionRetriever 객체를 생성합니다.\n",
        "    base_compressor=_filter,\n",
        "    base_retriever=ret,\n",
        ")\n",
        "\n",
        "compressed_docs = compression_retriever.invoke(\n",
        "    # 쿼리\n",
        "    \"노지선의 나이는?\"\n",
        ")\n",
        "pretty_print_docs(compressed_docs)  # 압축된 문서를 예쁘게 출력합니다.\n"
      ]
    },
    {
      "cell_type": "code",
      "execution_count": null,
      "id": "opHVo5YMd7rX",
      "metadata": {
        "colab": {
          "base_uri": "https://localhost:8080/"
        },
        "executionInfo": {
          "elapsed": 1181,
          "status": "ok",
          "timestamp": 1728866522574,
          "user": {
            "displayName": "",
            "userId": ""
          },
          "user_tz": -540
        },
        "id": "opHVo5YMd7rX",
        "outputId": "cd9c0f2e-94da-4587-f435-70532c2e5f09"
      },
      "outputs": [],
      "source": [
        "from langchain.retrievers.document_compressors import EmbeddingsFilter\n",
        "from langchain_openai import OpenAIEmbeddings\n",
        "\n",
        "# 유사도 임계값이 0.76인 EmbeddingsFilter 객체를 생성합니다.\n",
        "embeddings_filter = EmbeddingsFilter(embeddings=embeddings_docs, similarity_threshold=0.3)\n",
        "\n",
        "# 기본 압축기로 embeddings_filter를, 기본 검색기로 retriever를 사용하여 ContextualCompressionRetriever 객체를 생성합니다.\n",
        "compression_retriever = ContextualCompressionRetriever(\n",
        "    base_compressor=embeddings_filter, base_retriever=ret\n",
        ")\n",
        "\n",
        "# ContextualCompressionRetriever 객체를 사용하여 관련 문서를 검색합니다.\n",
        "compressed_docs = compression_retriever.invoke(\n",
        "    # 쿼리\n",
        "    \"노지선의 나이는?\"\n",
        ")\n",
        "# 압축된 문서를 예쁘게 출력합니다.\n",
        "pretty_print_docs(compressed_docs)\n"
      ]
    },
    {
      "cell_type": "code",
      "execution_count": null,
      "id": "wBBsQzpXrChs",
      "metadata": {
        "colab": {
          "base_uri": "https://localhost:8080/"
        },
        "executionInfo": {
          "elapsed": 4159,
          "status": "ok",
          "timestamp": 1728866621610,
          "user": {
            "displayName": "",
            "userId": ""
          },
          "user_tz": -540
        },
        "id": "wBBsQzpXrChs",
        "outputId": "4de0dcdd-2d3f-4cc1-eb6d-dc7e8a9bd715"
      },
      "outputs": [],
      "source": [
        "from langchain.retrievers.document_compressors import DocumentCompressorPipeline, EmbeddingsFilter\n",
        "from langchain_community.document_transformers import EmbeddingsRedundantFilter\n",
        "from langchain_text_splitters import CharacterTextSplitter\n",
        "\n",
        "# 문자 기반 텍스트 분할기를 생성하고, 청크 크기를 300으로, 청크 간 중복을 0으로 설정합니다.\n",
        "splitter = CharacterTextSplitter(chunk_size=300, chunk_overlap=0)\n",
        "\n",
        "# 임베딩을 사용하여 중복 필터를 생성합니다.\n",
        "redundant_filter = EmbeddingsRedundantFilter(embeddings=embeddings_docs)\n",
        "\n",
        "# 임베딩을 사용하여 관련성 필터를 생성하고, 유사도 임계값을 0.86으로 설정합니다.\n",
        "relevant_filter = EmbeddingsFilter(embeddings=embeddings_docs, similarity_threshold=0.3)\n",
        "\n",
        "pipeline_compressor = DocumentCompressorPipeline(\n",
        "    # 문서 압축 파이프라인을 생성하고, 분할기, 중복 필터, 관련성 필터, LLMChainExtractor를 변환기로 설정합니다.\n",
        "    transformers=[\n",
        "        splitter,\n",
        "        redundant_filter,\n",
        "        relevant_filter,\n",
        "        LLMChainExtractor.from_llm(llm),\n",
        "    ]\n",
        ")\n",
        "compression_retriever = ContextualCompressionRetriever(\n",
        "    # 기본 압축기로 pipeline_compressor를 사용하고, 기본 검색기로 retriever를 사용하여 ContextualCompressionRetriever를 초기화합니다.\n",
        "    base_compressor=pipeline_compressor,\n",
        "    base_retriever=ret,\n",
        ")\n",
        "\n",
        "compressed_docs = compression_retriever.invoke(\n",
        "    # 쿼리\n",
        "    \"노지선의 나이는?\"\n",
        ")\n",
        "# 압축된 문서를 예쁘게 출력합니다.\n",
        "pretty_print_docs(compressed_docs)\n"
      ]
    },
    {
      "cell_type": "code",
      "execution_count": null,
      "id": "sqBnMqezfmfz",
      "metadata": {
        "id": "sqBnMqezfmfz"
      },
      "outputs": [],
      "source": [
        "chain = itemgetter('question') | ret | concat_docs"
      ]
    },
    {
      "cell_type": "code",
      "execution_count": null,
      "id": "K-QVHKIBfw6m",
      "metadata": {
        "colab": {
          "base_uri": "https://localhost:8080/",
          "height": 164
        },
        "executionInfo": {
          "elapsed": 633,
          "status": "ok",
          "timestamp": 1727742980645,
          "user": {
            "displayName": "",
            "userId": ""
          },
          "user_tz": -540
        },
        "id": "K-QVHKIBfw6m",
        "outputId": "eeea8075-88ca-4dfe-de64-c0d88536a216"
      },
      "outputs": [],
      "source": [
        "chain.invoke({'question':'음악 장르는?'})"
      ]
    },
    {
      "cell_type": "code",
      "execution_count": null,
      "id": "MinImK5cfFkL",
      "metadata": {
        "colab": {
          "base_uri": "https://localhost:8080/"
        },
        "executionInfo": {
          "elapsed": 3,
          "status": "ok",
          "timestamp": 1727742851407,
          "user": {
            "displayName": "",
            "userId": ""
          },
          "user_tz": -540
        },
        "id": "MinImK5cfFkL",
        "outputId": "967722af-65fe-4c7a-cbf2-4cf4bb68147c"
      },
      "outputs": [],
      "source": [
        "result"
      ]
    },
    {
      "cell_type": "code",
      "execution_count": null,
      "id": "vU8k0YThe96A",
      "metadata": {
        "colab": {
          "base_uri": "https://localhost:8080/"
        },
        "executionInfo": {
          "elapsed": 305,
          "status": "ok",
          "timestamp": 1727742613988,
          "user": {
            "displayName": "",
            "userId": ""
          },
          "user_tz": -540
        },
        "id": "vU8k0YThe96A",
        "outputId": "b0923bc4-6da8-4f6a-d576-71c631399a0a"
      },
      "outputs": [],
      "source": [
        "type(result)"
      ]
    },
    {
      "cell_type": "code",
      "execution_count": null,
      "id": "eedd00UZcJwR",
      "metadata": {
        "colab": {
          "base_uri": "https://localhost:8080/"
        },
        "executionInfo": {
          "elapsed": 5,
          "status": "ok",
          "timestamp": 1727741903148,
          "user": {
            "displayName": "",
            "userId": ""
          },
          "user_tz": -540
        },
        "id": "eedd00UZcJwR",
        "outputId": "b60776d6-bff4-4976-f2ba-271f8cc59b4e"
      },
      "outputs": [],
      "source": [
        "def df_from_retriever(q_dict):\n",
        "  ret = vstr.as_retriever()"
      ]
    },
    {
      "cell_type": "code",
      "execution_count": null,
      "id": "js7vmRb5Hm6t",
      "metadata": {
        "id": "js7vmRb5Hm6t"
      },
      "outputs": [],
      "source": [
        "df = df_from_origin(singer_queries, '개요')"
      ]
    },
    {
      "cell_type": "code",
      "execution_count": null,
      "id": "MV_4PXi5UkFc",
      "metadata": {
        "colab": {
          "base_uri": "https://localhost:8080/",
          "height": 81
        },
        "executionInfo": {
          "elapsed": 3,
          "status": "ok",
          "timestamp": 1727740827064,
          "user": {
            "displayName": "",
            "userId": ""
          },
          "user_tz": -540
        },
        "id": "MV_4PXi5UkFc",
        "outputId": "52e1eb58-70bb-4153-d6fc-88638dcd2e5a"
      },
      "outputs": [],
      "source": [
        "df"
      ]
    },
    {
      "cell_type": "markdown",
      "id": "5o1-xNxx8GOT",
      "metadata": {
        "id": "5o1-xNxx8GOT"
      },
      "source": [
        "# Agent 생성"
      ]
    },
    {
      "cell_type": "code",
      "execution_count": 14,
      "id": "p14hr2HZ7Qb2",
      "metadata": {
        "id": "p14hr2HZ7Qb2"
      },
      "outputs": [],
      "source": [
        "#Workflow\n",
        "##1. (미구현) 아티스트의 성격 분류 / 가수(현재 구현 ver), 배우, 셀럽\n",
        "##2. 총 5개 (프로필 / 개요 / 멤버 / 팬덤 + 전체 문서 리트리빙)의 툴을 실행\n",
        "##2.1. 각 결과값으로 pandas dataframe을 생성\n",
        "##2.2. 프로필 / 개요 / 멤버 / 팬덤은 Map-reduce 적용 검토\n",
        "##3. 5개 문서 결과값에 대해 가중치를 적용해서 dataframe merge"
      ]
    },
    {
      "cell_type": "code",
      "execution_count": 66,
      "id": "4FP9FZkVzIcH",
      "metadata": {
        "id": "4FP9FZkVzIcH"
      },
      "outputs": [],
      "source": [
        "llm = llm.with_config(configurable={\n",
        "            # \"llm\": \"gpt4o_mini\", #model_name,\n",
        "            \"llm\":\"gemini_flash\",\n",
        "            \"temparature\": 0, #temp,\n",
        "            \"max_tokens\": None #max_tokens\n",
        "        })"
      ]
    },
    {
      "cell_type": "code",
      "execution_count": 67,
      "id": "3ThxdYlDiYKN",
      "metadata": {
        "id": "3ThxdYlDiYKN"
      },
      "outputs": [],
      "source": [
        "from typing import List\n",
        "from typing_extensions import TypedDict\n",
        "from pydantic import BaseModel, Field\n",
        "import operator\n",
        "from typing import Annotated\n",
        "from langgraph.graph import MessagesState\n",
        "\n",
        "class ArtistMeta(TypedDict):\n",
        "    ctry: list #= Field(description=\"ISO 3166-1 alpha-2 형식, 최소 1개 이상\")\n",
        "    gender: str #= Field(description=\"남성과 관련된 단어가 나오면 '남성'으로, 여성과 관련된 단어가 나오면 '여성'으로 출력\")\n",
        "    genre: list #= Field(description=\"문서 내 순서를 따르고, 모든 장르를 출력\")\n",
        "    label_name: list #= Field(description=\"고유명사만 출력하고 **괄호와 괄호 안의 내용은 반드시 제거**, 2개 이상인 경우 솔로 활동을 앞 순서에, 그룹 활동은 뒷 순서에 배치해주세요.\")\n",
        "    debut_date: str #= Field(description=\"'yyyy-MM-dd' 형식으로 출력\")\n",
        "    member_list: list #= Field(description=\"문서 내 순서를 따른다.\")\n",
        "    member_cnt: int #= Field(description=\"숫자로만 출력하세요.\")\n",
        "    fandom_name: str #= Field(description=\"고유명사만 출력하고, 반복되는 문자열은 하나로 합쳐주세요.\")\n",
        "\n",
        "class OneMetaState(TypedDict):\n",
        "    questions: dict #= Field(description=\"아티스트에 대한 특정 질문\")\n",
        "    doc: str #= Field(description=\"아티스트 데이터를 찾아볼 문서\")\n",
        "    answers: Annotated[List[dict], operator.add]\n",
        "    meta: Annotated[List[dict], operator.add]"
      ]
    },
    {
      "cell_type": "code",
      "execution_count": 68,
      "id": "h6_nn4Vq0QND",
      "metadata": {
        "id": "h6_nn4Vq0QND"
      },
      "outputs": [],
      "source": [
        "from langchain_core.messages import AIMessage, HumanMessage, SystemMessage\n",
        "\n",
        "def answer_from_origin(state: OneMetaState):\n",
        "\n",
        "  question = state['qnf']['question']\n",
        "  format = state['qnf']['format']\n",
        "  doc = state['doc']\n",
        "  answers = state['answers']\n",
        "\n",
        "  # 시스템 프롬프트 설정\n",
        "  system_prompt = SystemMessagePromptTemplate.from_template(\n",
        "      \"\"\"\n",
        "      You are a biographical dictionary agent. Your sole purpose is to provide factual information based strictly on the provided <Context>.\n",
        "\n",
        "      - **Behavior:**\n",
        "        - Be friendly and helpful without being overly chatty.\n",
        "        - Do not use any prior knowledge beyond the <Context>.\n",
        "        - If the answer cannot be found within the <Context>, respond with \"None\"\n",
        "\n",
        "      - **Input Structure:**\n",
        "        - The input will be provided using the following tags:\n",
        "          ```\n",
        "          <Context>\n",
        "          ...\n",
        "          </Context>\n",
        "          <Question>\n",
        "          ...\n",
        "          </Question>\n",
        "          <Format>\n",
        "          ...\n",
        "          </Format>\n",
        "          ```\n",
        "\n",
        "      - **Response Guidelines:**\n",
        "        - **Do not** include the `<Context>`, `<Question>`, or `<Format>` tags in your response.\n",
        "        - **Only** provide the answer as specified in the `<Format>` section.\n",
        "        - Ensure the response strictly adheres to the format provided.\n",
        "      \"\"\"\n",
        "  )\n",
        "\n",
        "  human_prompt = HumanMessagePromptTemplate.from_template(\n",
        "      \"\"\"<Context>{context}</Context>\\n\\n\n",
        "      <Question>{question}</Question>\\n\\n\n",
        "      <Format>{format_instructions}</Format>\"\"\"\n",
        "  )\n",
        "  prompt = ChatPromptTemplate.from_messages([system_prompt, human_prompt])\n",
        "  if isinstance(format, JsonOutputParser):\n",
        "    prompt = prompt.partial(format_instructions=format.get_format_instructions())\n",
        "\n",
        "  chain = {\n",
        "          'context': itemgetter('context') | RunnablePassthrough()\n",
        "        , 'question': itemgetter('question') | RunnablePassthrough()\n",
        "    } | prompt | llm | format\n",
        "\n",
        "  answer = chain.invoke({\"question\": question, \"context\":doc})\n",
        "  print(answer)\n",
        "\n",
        "  # meta.update(answer)\n",
        "  return {\"answers\":[answer]}"
      ]
    },
    {
      "cell_type": "code",
      "execution_count": 69,
      "id": "r0ltNvoXA0_m",
      "metadata": {
        "id": "r0ltNvoXA0_m"
      },
      "outputs": [],
      "source": [
        "from langgraph.constants import Send\n",
        "\n",
        "def init_graph(state:OneMetaState):\n",
        "  pass\n",
        "\n",
        "def split_question(state:OneMetaState):\n",
        "  qnf = state['questions']\n",
        "  doc = state['doc']\n",
        "  return [Send(\"answer_from_origin\", {\"qnf\":qnf[key], \"doc\":doc, \"answers\": []}) for key, value in qnf.items()]\n",
        "\n",
        "def merge_answers(state:OneMetaState):\n",
        "  answers = state['answers']\n",
        "  meta = {}\n",
        "  for answer in answers:\n",
        "    meta.update(answer)\n",
        "  answers = []\n",
        "  return {\"meta\":[meta]}"
      ]
    },
    {
      "cell_type": "code",
      "execution_count": 70,
      "id": "ZgloiWZQPqOB",
      "metadata": {
        "id": "ZgloiWZQPqOB"
      },
      "outputs": [],
      "source": [
        "#질문Set과 특정 페이지 원문이 input\n",
        "#원문에 대해 질문Set의 각각을 별도로 질문\n",
        "#meta에 list로 merge한 것이 output"
      ]
    },
    {
      "cell_type": "code",
      "execution_count": 71,
      "id": "u0vyVGMdB1Ht",
      "metadata": {
        "colab": {
          "base_uri": "https://localhost:8080/",
          "height": 350
        },
        "executionInfo": {
          "elapsed": 378,
          "status": "ok",
          "timestamp": 1728996098726,
          "user": {
            "displayName": "",
            "userId": ""
          },
          "user_tz": -540
        },
        "id": "u0vyVGMdB1Ht",
        "outputId": "73f29bf8-4992-44ba-dc88-b298b4953f8b"
      },
      "outputs": [
        {
          "data": {
            "image/jpeg": "[encoded data removed]",
            "text/plain": [
              "<IPython.core.display.Image object>"
            ]
          },
          "metadata": {},
          "output_type": "display_data"
        }
      ],
      "source": [
        "from IPython.display import Image, display\n",
        "from langgraph.graph import START, END, StateGraph\n",
        "from langgraph.checkpoint.memory import MemorySaver\n",
        "\n",
        "# Add nodes and edges\n",
        "onemeta_builder = StateGraph(OneMetaState)\n",
        "\n",
        "#node\n",
        "onemeta_builder.add_node(\"init_extract\", init_graph)\n",
        "onemeta_builder.add_node(\"answer_from_origin\", answer_from_origin)\n",
        "onemeta_builder.add_node(\"merge_answers\", merge_answers)\n",
        "\n",
        "#edge\n",
        "onemeta_builder.add_edge(START, \"init_extract\")\n",
        "onemeta_builder.add_conditional_edges(\"init_extract\", split_question, [\"answer_from_origin\"])\n",
        "onemeta_builder.add_edge(\"answer_from_origin\", \"merge_answers\")\n",
        "onemeta_builder.add_edge(\"merge_answers\", END)\n",
        "\n",
        "# Compile\n",
        "graph = onemeta_builder.compile()\n",
        "\n",
        "# View\n",
        "display(Image(graph.get_graph(xray=1).draw_mermaid_png()))"
      ]
    },
    {
      "cell_type": "code",
      "execution_count": 72,
      "id": "j55Rv-96B2OW",
      "metadata": {
        "colab": {
          "base_uri": "https://localhost:8080/"
        },
        "executionInfo": {
          "elapsed": 2934,
          "status": "ok",
          "timestamp": 1728996102244,
          "user": {
            "displayName": "",
            "userId": ""
          },
          "user_tz": -540
        },
        "id": "j55Rv-96B2OW",
        "outputId": "4eb16625-b882-4a44-fccd-da7872e2a3ab"
      },
      "outputs": [
        {
          "name": "stdout",
          "output_type": "stream",
          "text": [
            "{'ctry': []}\n",
            "{'member_cnt': 9}\n",
            "{'debut_date': '2018-01-24'}\n",
            "{'member_list': ['장규리']}\n",
            "{'genre': []}\n",
            "{'fandom_name': 'None'}\n",
            "{'label_name': ['플레디스 엔터테인먼트']}\n",
            "{'gender': '여성'}\n"
          ]
        },
        {
          "data": {
            "text/plain": [
              "{'questions': {'ctry': {'question': '활동 국가는?',\n",
              "   'format': JsonOutputParser(pydantic_object=<class '__main__.Ctry'>)},\n",
              "  'gender': {'question': '인물의 성별을 유추하세요. (힌트: 보이그룹, 걸그룹, 혼성듀오, 형, 누나, 오빠)',\n",
              "   'format': JsonOutputParser(pydantic_object=<class '__main__.Gender'>),\n",
              "   'loc': '개요'},\n",
              "  'genre': {'question': '음악 장르는?',\n",
              "   'format': JsonOutputParser(pydantic_object=<class '__main__.Genre'>),\n",
              "   'loc': 'PROFILE'},\n",
              "  'label_name': {'question': '엔터테인먼트 회사명은?',\n",
              "   'format': JsonOutputParser(pydantic_object=<class '__main__.Label'>),\n",
              "   'loc': 'PROFILE'},\n",
              "  'debut_date': {'question': '데뷔일자는?',\n",
              "   'format': JsonOutputParser(pydantic_object=<class '__main__.Debut'>),\n",
              "   'loc': 'PROFILE'},\n",
              "  'member_list': {'question': '문서에서 사람 이름을 모두 나열해주세요',\n",
              "   'format': JsonOutputParser(pydantic_object=<class '__main__.MemberInfo'>),\n",
              "   'loc': '멤버'},\n",
              "  'member_num': {'question': '문서에서 사람은 총 몇 명인가요?',\n",
              "   'format': JsonOutputParser(pydantic_object=<class '__main__.MemberNumber'>),\n",
              "   'loc': '멤버'},\n",
              "  'fandom_name': {'question': '팬덤명은?',\n",
              "   'format': JsonOutputParser(pydantic_object=<class '__main__.Fandom'>),\n",
              "   'loc': 'PROFILE'}},\n",
              " 'doc': 'page_content: 인사드리겠습니다. 둘, 셋!(이제는 약속해 소중히 간직해, 당신의 아이돌로 성장하겠습니다!)(#fn-6; My Little Society 활동 이후로 해당 부분은 생략하고 있다. 오랜 팬들은 뒷부분은 빼더라도 앞부분까지는 해주길 바란다는 의견도 있으나, 내부적으로 인사법을 아예 하지 않기로 결정한 듯하다.)안녕하세요, 프로미스나인입니다!엠넷의 《아이돌학교》에서 선발되어2018년1월 24일데뷔한플레디스 엔터테인먼트소속 8인조걸그룹.(#fn-7; 데뷔 당시에는 CJ ENM 소속으로 9인조였으나, 2021년 플레디스로 이관되고 2022년 8월 1일 멤버 장규리의 탈퇴로 8인조로의 재편을 거쳤다.)',\n",
              " 'answers': [{'ctry': []},\n",
              "  {'gender': '여성'},\n",
              "  {'genre': []},\n",
              "  {'label_name': ['플레디스 엔터테인먼트']},\n",
              "  {'debut_date': '2018-01-24'},\n",
              "  {'member_list': ['장규리']},\n",
              "  {'member_cnt': 9},\n",
              "  {'fandom_name': 'None'}],\n",
              " 'meta': [{'ctry': [],\n",
              "   'gender': '여성',\n",
              "   'genre': [],\n",
              "   'label_name': ['플레디스 엔터테인먼트'],\n",
              "   'debut_date': '2018-01-24',\n",
              "   'member_list': ['장규리'],\n",
              "   'member_cnt': 9,\n",
              "   'fandom_name': 'None'}]}"
            ]
          },
          "execution_count": 72,
          "metadata": {},
          "output_type": "execute_result"
        }
      ],
      "source": [
        "graph.invoke({\"questions\":singer_queries, \"doc\":\"\\n\\n\".join([doc.page_content for doc in documents if doc.metadata['abs_page_toc_item'] == \"개요\"])})"
      ]
    },
    {
      "cell_type": "code",
      "execution_count": null,
      "id": "uVUE6rwtB2Ti",
      "metadata": {
        "id": "uVUE6rwtB2Ti"
      },
      "outputs": [],
      "source": [
        "#전체 그래프\n",
        "#질문Set과 documents가 input\n",
        "#List[Dict]가 output / 또는 pd.Dataframe이 output"
      ]
    },
    {
      "cell_type": "code",
      "execution_count": null,
      "id": "mooKuB7YQahp",
      "metadata": {
        "id": "mooKuB7YQahp"
      },
      "outputs": [],
      "source": [
        "#check_origin\n",
        "#page명, documents가 인풋\n",
        "#page명, 존재를 다음 edge의 인풋으로 전달\n",
        "#다음 edge는 페이지 Not Found이면 return empty dict or dataframe인 노드로 보내고 아니면 answer_from_origin으로 보냄"
      ]
    },
    {
      "cell_type": "code",
      "execution_count": 73,
      "id": "4Nxkj3emB2YW",
      "metadata": {
        "id": "4Nxkj3emB2YW"
      },
      "outputs": [],
      "source": [
        "class OverallGraphState(TypedDict):\n",
        "    questions: dict\n",
        "    documents: list\n",
        "    pages: list\n",
        "    metadatas: Annotated[List[dict], operator.add]\n",
        "    mergeset: pd.DataFrame"
      ]
    },
    {
      "cell_type": "code",
      "execution_count": 74,
      "id": "46d62296",
      "metadata": {},
      "outputs": [],
      "source": [
        "from langgraph.constants import Send\n",
        "\n",
        "def init_origins(state:OverallGraphState):\n",
        "    return {\"pages\":[\"PROFILE\",\"개요\",\"멤버\",\"팬덤\",\"덕질\"]}\n",
        "\n",
        "def check_origin(state:OverallGraphState):\n",
        "    pages = state['pages']\n",
        "    documents = state['documents']\n",
        "    question = state['questions']\n",
        "    \n",
        "    for page in pages:\n",
        "        doc = \"\\n\\n\".join([doc.page_content for doc in documents if doc.metadata['abs_page_toc_item'] == page])\n",
        "        if doc != '':\n",
        "            print(\"page \"+page+\" is exist \\n\\n Searching...\")\n",
        "            return [Send(\"make_meta\", {\"questions\":question, \"doc\":doc})]\n",
        "        else:\n",
        "            print(\"page \"+page+\" is not exist \\n\\n Finish and return empty dict\")\n",
        "            return \"empty_meta\"\n",
        "\n",
        "def empty_meta(state:OverallGraphState):\n",
        "    return {\"metadatas\":[{}]}"
      ]
    },
    {
      "cell_type": "code",
      "execution_count": 75,
      "id": "jtALB4HauD68",
      "metadata": {
        "colab": {
          "base_uri": "https://localhost:8080/",
          "height": 251
        },
        "executionInfo": {
          "elapsed": 3,
          "status": "ok",
          "timestamp": 1728989618027,
          "user": {
            "displayName": "",
            "userId": ""
          },
          "user_tz": -540
        },
        "id": "jtALB4HauD68",
        "outputId": "418fe27b-8c6d-4652-ff90-8cd93356bb61"
      },
      "outputs": [
        {
          "data": {
            "image/jpeg": "[encoded data removed]",
            "text/plain": [
              "<IPython.core.display.Image object>"
            ]
          },
          "metadata": {},
          "output_type": "display_data"
        }
      ],
      "source": [
        "from IPython.display import Image, display\n",
        "from langgraph.graph import START, END, StateGraph\n",
        "from langgraph.checkpoint.memory import MemorySaver\n",
        "\n",
        "# Add nodes and edges\n",
        "builder = StateGraph(OverallGraphState)\n",
        "builder.add_node(\"init_origins\", init_origins)\n",
        "builder.add_node(\"make_meta\", onemeta_builder.compile())\n",
        "builder.add_node(\"empty_meta\", empty_meta)\n",
        "builder.add_edge(START, \"init_origins\")\n",
        "builder.add_conditional_edges(\"init_origins\", check_origin, [\"make_meta\",\"empty_meta\"])\n",
        "builder.add_edge(\"make_meta\", END)\n",
        "builder.add_edge(\"empty_meta\", END)\n",
        "\n",
        "# Compile\n",
        "memory = MemorySaver()\n",
        "# graph = builder.compile(checkpointer=memory)\n",
        "graph = builder.compile()\n",
        "\n",
        "# View\n",
        "display(Image(graph.get_graph(xray=1).draw_mermaid_png()))"
      ]
    },
    {
      "cell_type": "code",
      "execution_count": 76,
      "id": "PzJ0U9UvbzPW",
      "metadata": {
        "colab": {
          "base_uri": "https://localhost:8080/"
        },
        "executionInfo": {
          "elapsed": 3,
          "status": "ok",
          "timestamp": 1728989619401,
          "user": {
            "displayName": "",
            "userId": ""
          },
          "user_tz": -540
        },
        "id": "PzJ0U9UvbzPW",
        "outputId": "f9b0140e-c92b-4577-c8ba-5dba8a1e0dab"
      },
      "outputs": [
        {
          "name": "stdout",
          "output_type": "stream",
          "text": [
            "page PROFILE is exist \n",
            "\n",
            " Searching...\n",
            "{'member_cnt': 9}\n",
            "{'gender': '여성'}\n",
            "{'ctry': ['KR', 'JP']}\n",
            "{'label_name': ['플레디스 엔터테인먼트', 'HYBE LABELS']}\n",
            "{'debut_date': '2018-01-24'}\n",
            "{'fandom_name': 'flover(플로버)'}\n",
            "{'member_list': ['송하영', '장규리', '이새롬']}\n",
            "{'genre': ['K-POP', '댄스', '발라드', '어쿠스틱']}\n"
          ]
        },
        {
          "data": {
            "text/plain": [
              "{'questions': {'ctry': {'question': '활동 국가는?',\n",
              "   'format': JsonOutputParser(pydantic_object=<class '__main__.Ctry'>)},\n",
              "  'gender': {'question': '인물의 성별을 유추하세요. (힌트: 보이그룹, 걸그룹, 혼성듀오, 형, 누나, 오빠)',\n",
              "   'format': JsonOutputParser(pydantic_object=<class '__main__.Gender'>),\n",
              "   'loc': '개요'},\n",
              "  'genre': {'question': '음악 장르는?',\n",
              "   'format': JsonOutputParser(pydantic_object=<class '__main__.Genre'>),\n",
              "   'loc': 'PROFILE'},\n",
              "  'label_name': {'question': '엔터테인먼트 회사명은?',\n",
              "   'format': JsonOutputParser(pydantic_object=<class '__main__.Label'>),\n",
              "   'loc': 'PROFILE'},\n",
              "  'debut_date': {'question': '데뷔일자는?',\n",
              "   'format': JsonOutputParser(pydantic_object=<class '__main__.Debut'>),\n",
              "   'loc': 'PROFILE'},\n",
              "  'member_list': {'question': '문서에서 사람 이름을 모두 나열해주세요',\n",
              "   'format': JsonOutputParser(pydantic_object=<class '__main__.MemberInfo'>),\n",
              "   'loc': '멤버'},\n",
              "  'member_num': {'question': '문서에서 사람은 총 몇 명인가요?',\n",
              "   'format': JsonOutputParser(pydantic_object=<class '__main__.MemberNumber'>),\n",
              "   'loc': '멤버'},\n",
              "  'fandom_name': {'question': '팬덤명은?',\n",
              "   'format': JsonOutputParser(pydantic_object=<class '__main__.Fandom'>),\n",
              "   'loc': 'PROFILE'}},\n",
              " 'documents': [Document(metadata={'page_url': 'https://namu.wiki/w/프로미스나인', 'artist_info': 'FROMIS_9', 'toc_item': '개요', 'abs_page_toc_item': '팬덤//개요', 'parent_paper': '팬덤'}, page_content='page_content: 대한민국의 8인조 걸그룹인 프로미스나인의 팬덤이다. 프로미스나인의 \"f\"와, 프로미스나인의 꿈을 이뤄준 팬에 대한 감사함을 담은 노래 <CLOVER>를 합친 합성어이다. 또 다른 의미로는 사랑하는 사람이라는 뜻의 영어인 \"Lover\"도 포함되어 있다. 즉, flover는 프로미스나인이 팬들에 대한 감사함을 표현하는 단어인 동시에 팬들에게 사랑하는 감정을 표현하는 중의적인 단어이다. 한글로는 플로버라고 표기한다. ,2022 fromis_9 1st concert＜LOVE FROM.＞ in SEOUL,'),\n",
              "  Document(metadata={'page_url': 'https://namu.wiki/w/프로미스나인', 'artist_info': 'FROMIS_9', 'toc_item': '대한민국 국적', 'abs_page_toc_item': '팬덤//flover인 유명인/대한민국 국적', 'parent_paper': '팬덤'}, page_content='page_content: 장규리프로미스나인의 前 멤버. 탈퇴 소식을 알린 2022년 7월 29일에 플로버가 되어 앞으로도 프로미스나인 응원을 하겠다는 말을 손편지를 통해 남겼다. 이후 아티스트 탭에 장규리가 게시한 글들의 작성자 이름 옆에 아티스트를 뜻하는 체크마크가 아닌 플로버 멤버십 마크가 붙었다. 2024년 1월 27일 인스타그램 스토리로 단독 콘서트 FROM NOW. 관람 인증도 했다. 이외에도 멤버들과의 교류 목격담이 나오거나 본인이 직접 언급을 하는 등 여전히 사이가 좋은 모습을 보여주고 있다.  김희철아이돌학교의 담임선생님. 타 오디션 프로그램 진행자와는 다르게 방송 종영을 기준으로 3년 이상이 흐른 지금까지도 다양한 프로그램에 함께 출연을 할만큼 깊은 애정을 보여줬다. 데뷔 초에는 따로 스케줄을 빼서 밥을 사주거나 음악방송 녹화에 찾아와 응원을 해준적도 있다.당시 영상 맛남의 광장에 노지선과 장규리가 게스트로 나왔을때 백종원이 노지선의 요리 실력에 대해 ‘희철이가 하도 많이 말했다’고 할만큼 주변 지인들에게도 멤버들에 대한 이야기를 꽤 자주 하는듯. 그래서인지 유독 슈퍼주니어 멤버들이 진행하는 방송에 나올때 케미가 좋으며 멤버들도 프로미스나인에 대해 잘아는 모습을 보인다. 은혁, 동해는 프로미스나인 멤버들이 희철의 제자이고 데뷔 이전부터 콘서트에 찾아오거나 신인 시절 슈퍼TV도 함께 나오는 등 인연이 깊어 정도 많이 가고 항상 응원을 하게 된다고 밝힌적이 있다.  김일중아이돌학교 오디션 진행 당시 첫 평가였던 데뷔 능력고사를 빼고 쭉 진행자를 맡았으며 데뷔 이후 쇼케이스 등의 행사가 열릴때면 꾸준히 진행자를 맡아줬다. 최근엔 채널나인에도 게스트로 나왔었으며 자신의 유튜브에서 관련 영상을 올리며 여전한 플로버임을 보여줬다.   거노건호이 동영상에 댓글을 달았다.  고수진(꼬꼬갓)게임해설가. Love Bomb 활동 시절에 OGN에서 촬영을 하던 멤버들의 실물을 보고 노래와 비주얼이 모두 좋아 현재까지도 응원을 한다며 윤수빈 아나운서의 유튜브 동영상에서 밝혔다. 덧붙여 최애는 백지헌이라고. 이후 한화생명 e스포츠 유튜브 채널에서 진행하는 프로그램 이덕후에서 오랜 기간 중계를 했던 한화 선수들의 나이는 모르고 있었으나 멤버들의 생일을 정확히 맞추며 다시 한번 플로버 입증을 해냈다.  권은빈백지헌이 좋아서 매일 본다고 밝혔다.  남윤호2022년 12월 26일 기준 프로미스나인 박지원이 최애라고 밝혔다.  맹채연HoneY_log EP.2에 댓글을 남겼다. \"사랑해... 꿀깅...\"이라고 남긴걸로 보면 백지헌이 최애인듯.  모르는지유튜브 댓글 등으로프로미스나인의 팬임을 밝혔다. 다양한 유튜브 콘텐츠에 꾸준히 댓글을 남기는 모습을 보면(#fn-24; 새 앨범의 하라메에도 눈물과 감탄사가 난무하는 장문의 댓글을 남겼다)해당 문서에 올라온 인물 중에서 가장 진심으로 좋아하는듯.  빠니보틀인스타그램 팔로잉 리스트에 백지헌이 있으며 여러 게시물에 좋아요를 남기기도 했다. 외모적으로 이상형이라고 밝혔다  신지후포스트맨. 군대에 복무중에 있을때 백지헌을 좋아했다고 한다. # 헌정가도 있다.  오담률본인의 인스타그램에 LOVE BOMB 활동 당시의 사진을 올리며 \\'정말 사랑해요\\'라고 인증도 했다.My Little Society 앨범을 사겠다는 의향을 DM으로 밝히며 팬심을 드러내기도 했다. 더불어 최애는 송하영이라고.  오은철11월 20일 방영된 불후의 명곡 백두산 편에서 송하영이 최애라고 밝혔다. 군 복무 당시 프로미스나인이 큰힘이 됐다고.  오창석시사평론가. 사장남천동 방송에서 백지헌이 최애멤버임이 밝혀졌다.  백지헌의 인스타게시글에 항상 좋아요를 누른다   우주소녀최화정의 파티타임에서 멤버 모두 프로미스나인과 친해지고 싶었다고 밝혔다. 그중에 다영은 Talk & Talk 활동 이후부터 매일 직캠 영상을 찾아본다고 밝혔다. #  이민혁비투비. 이전부터 멤버박지원과 알고 지내던 사이였으며(#fn-25; JYP엔터테인먼트 출신인 프니엘을 통해 당시 연습생이던 GOT7, TWICE 멤버들과 같이 소개를 받았다고 한다.)군 입대 이후 선임이 플로버라는걸 알게 되자 부탁해서 사인을 받아다 줬다고 한다. 힘들었던 군생활이 편했던게 프로미스나인 덕택이라서 은인이라 생각한다고 하며 Stay This Way의 모든 앵콜 무대에서 마지막까지 남아 응원하는 모습을 보이고 있다. 여담으로 지원이 민혁에게 \"형\"이라 부른다고.호감형님  정지웅녹음실 브이로그에서 녹음 전에 프로미스나인의 무대를 보며 마음을 가다듬는 모습을 보여주었으며, 뮤니버스와 옥탑방의 문제아들, 유 퀴즈 온 더 블럭에서 프로미스나인의 팬이라고 밝혔다.  제이셉(J.Seph)KARD. 불후의 명곡 백지영 편에서 군 생활 당시 프로미스나인의 팬이었다고 밝혔다. 이를 본 같은 참가자이자 옆자리 이무진은 오늘 웃는 걸 처음 봤다며 놀렸다.  조성모2019년 여름 콘서트 퇴근길에서 프로미스나인 친구들과 IZ*ONE 친구들의 팬이라고 밝혔다.  지원cignature. V라이브에서 몇 차례 프로미스나인의 팬임을 밝혔다. # 아리송 활동 당시 프로미스나인도 브이라이브에서 cignature 무대를 즐겨본다 했다.'),\n",
              "  Document(metadata={'page_url': 'https://namu.wiki/w/프로미스나인', 'artist_info': 'FROMIS_9', 'toc_item': '미니 4집 《Midnight Guest》 (2022. 01. 17.)', 'abs_page_toc_item': '활동/음악 방송/무대 의상//무대 의상/미니 4집 《Midnight Guest》 (2022. 01. 17.)', 'parent_paper': '무대 의상'}, page_content='page_content:   The 4th Mini Album Midnight Guest,,,,,,SUBEscape Room, 2022. 01. 19.,TITLEDM, 2022. 01. 19.,SUBEscape Room, 2022. 01. 20.,TITLEDM, 2022. 01. 20.,TITLEDM, 2022. 01. 21.,,,,,,TITLEDM, 2022. 01. 23.,-WE GO, 2022. 01. 23.,TITLEDM, 2022. 01. 23.,SUBEscape Room, 2022. 01. 25.,TITLEDM, 2022. 01. 25.,,,,,,TITLEDM, 2022. 01. 26.,TITLEDM, 2022. 01. 27.,SUBEscape Room, 2022. 01. 28.,TITLEDM, 2022. 01. 28.,TITLEDM, 2022. 01. 30.,,,COVERFeel My Rhythm, 2022. 06. 24.,COVER선택, 2022. 06. 25.,'),\n",
              "  Document(metadata={'page_url': 'https://namu.wiki/w/프로미스나인', 'artist_info': 'FROMIS_9', 'toc_item': '2020년', 'abs_page_toc_item': '활동/V LIVE//LIVE/2020년', 'parent_paper': 'V LIVE'}, page_content='page_content:   2020년 OFFICIAL V-LIVE by fromis_9,날짜,방송명,설명,01.07,  HAPPY ROM DAY🦊🎁-이새롬-,새롬의 24번째 생일 LIVE 및 서연의 깜짝 방문.,01.22,  HAPPY SEOYEON DAY🐼🎂-이서연-,서연의 21번째 생일 LIVE 및 새롬과 채영의 깜짝 방문.,03.20,  HAPPY JIWON DAY🐰🎂-박지원-,지원의 23번째 생일 LIVE 및 하영, 서연, 채영, 지헌의 깜짝 방문.,03.25,  오랜만이귤🍊-장규리-,-,03.27,  안녕 플로!-이나경-,-,03.31,  4월 하루 전🍞-송하영-,규리와 채영의 깜짝 방문.,04.10,  오랜만이야 플로-박지원-,하영과 채영의 중간 합류.,04.17,  🎂-백지헌-,지헌의 18번째 생일 LIVE 및 규리의 찬조 출연과 하영, 지원과의 통화연결.,04.22,  제목은뭘로할지모르겠지만일단들어와방-이새롬, 이서연-,지선과의 통화연결.,04.28,  점심은 먹었어요?-노지선-,-,05.07,  까꿍🍊  까꿍다시왔어욬ㅋㅋㅋㅋㅋ🍊-장규리-,기기 장애로 인한 재연결 및 하영의 찬조 출연.,05.08,  탕후루 만들어 볼 거GG🐰🍯-박지원, 백지헌-,하영과의 통화연결. ,05.11,  레몬 & 초코-박지원, 이나경-,채영의 찬조 출연.,05.13,  퇴근 중?-노지선-,-,05.14,  챙일 잔치에 오신 것을 환영합니다 🐿🎂-이채영-,채영의 21번째 생일 LIVE 및 하영, 규리, 지원의 찬조 출연.,05.20,  🍵-노지선-,-,05.21,  🍯-백지헌-,지선의 목소리 출연.,05.25,  월요일🖐-노지선-,-,05.26,  같이 저녁 먹을 플로버?🥝-송하영-,-,05.29,  테라스에서 뀰빵💕-송하영, 장규리-,새롬의 찬조 출연.,06.01,  꼬탄절🐣🎂-이나경-,나경의 21번째 생일 LIVE.,06.09,  만들어 볼꼬챙🐣🐿🧼-이채영, 이나경-,,06.10,  롬젼션꽹의 먹방📺-이새롬, 박지원, 이서연, 이채영-,지선과 나경의 찬조 출연.,06.15,  여르미랑 왔다🐶-이새롬-,반련견 여르미와 함께 했다.,06.16,  배고프나? 레시빵으로 와🍳-송하영-,새롬, 규리, 지원의 중간 합류.,06.18,  ⭐이왔다🍊-장규리-,지선의 중간 합류.,06.24,  비가 오니까..☔-이나경-,지선과 서연의 찬조 출연.,06.26,  와플로버꼬챙왔다🧇-송하영, 박지원, 이채영, 이나경-,새롬, 지선, 지헌의 찬조 출연.,07.02,  🥗-노지선-,새롬의 중간 합류.,07.03,  잇츠미 지허언☝️✌🖐-백지헌-,하영과 채영의 찬조 출연.,07.07,  ⭐이오랜만에왔다🍊-장규리-,하영의 중간 합류.,07.14,  어서오챙🍀-이채영-,-,07.17,  뭐해? 어디야? 밥은?🍽-송하영-,-,07.22,  몽실몽실한 구름☁-이나경-,새롬과 서연의 찬조 출연.,07.29,  자기전에🌙-박지원-,-,07.30,  🍀👋-백지헌-,-,08.11,  🍊-장규리-,-,08.28,  안녕-백지헌-,지선의 찬조 출연.,09.02,  저예요🙌🏻-노지선-,-,09.03,  같이밥먹자🍊-장규리-,채영의 중간 합류.,09.04,  또왔다!!!-백지헌-,-,09.15,아주 Feel Good 한 D-1🎶-이서연 외 전원-(#fn-B; 다리 부상으로 인한 활동 불참.)-, The 3rd Mini Album My Little Society,09.20,Feel Good 첫 주 끝💕-이서연 외 전원-(#fn-B; 다리 부상으로 인한 활동 불참.)-,09.29,  하빵데이🎂🎉-송하영-,하영의 24번째 생일 LIVE 및 지선의 찬조 출연.,10.11,퇴근길🚗-노지선, 박지원, 이나경, 백지헌-,다시보기 삭제.,10.13,  약속회 끝나서 아쉬운 플로버 들어와💕-이새롬, 송하영, 노지선-,-,10.18,🎉999DAY 9시에 놀9 싶어서 왔9☘️-이서연 외 전원-(#fn-B; 다리 부상으로 인한 활동 불참.)-,10.19,  천일동안～～～～～～🕺🏻-이새롬, 박지원, 노지선-,-,10.20,  헨뇨😘-이나경-,-,10.23,  심심해용🐿-이채영-,-,11.20,  정신이...들어요...?-노지선, 이채영, 백지헌-,,11.21,  👀-장규리, 이나경, 백지헌-,채영과의 통화연결.,11.23,  오늘 생일자✋-노지선-,지선의 23번째 생일 LIVE 및 서연과 지헌과의 통화연결.,11.25,  숙소에서 자기 전에😗-송하영, 박지원-,-,11.26,  가끔은 애매한 시간이 좋아😜-이새롬, 송하영, 박지원, 이서연, 이채영, 백지헌-,다리 부상의 회복을 마친 서연의 복귀 LIVE.,12.04,  😂-백지헌-,-,12.07,  🍋노랑즈 심심한디🍋-송하영, 박지원-,서연과의 통화연결.,12.09,  나랑 놀아 줄 사람✋  나랑 놀아 줄 사람✋-이서연-,통신 장애로 인한 재연결,12.12,돌아온 장신즈🍊🐿-장규리, 이채영-,다시보기 삭제 및 지선과의 통화연결.,12.16,  들어요-노지선-,하영, 지원, 채영과의 통화연결.,12.20,  🎅🎅  🎅🎅-백지헌-,세로 화면 조작로 인한 재연결.,12.27,  규리스마스🍊-장규리-,규리의 24번째 생일 LIVE 및 지원과 채영의 찬조 출연.,'),\n",
              "  Document(metadata={'page_url': 'https://namu.wiki/w/프로미스나인', 'artist_info': 'FROMIS_9', 'toc_item': 'PROFILE', 'abs_page_toc_item': '활동/YouTube//PROFILE', 'parent_paper': 'YouTube'}, page_content='page_content: 프로미스나인/YouTube,,, 대한민국 행정구 속령, 일본 행정구 속령,개설일,2017년 11월 16일,2020년 3월 1일,첫 게시일,2017년 11월 24일,2020년 9월 21일,구독자 수,120만명,2.33만명,링크,,(#fn-1; 2022년 8월 31일부로 콘텐츠의 업로드 중단 및 본 채널과 통합 운영)'),\n",
              "  Document(metadata={'page_url': 'https://namu.wiki/w/프로미스나인', 'artist_info': 'FROMIS_9', 'toc_item': '아이돌학교 데뷔조 순위 조작 사건', 'abs_page_toc_item': '논란 및 사건 사고//그룹/아이돌학교 데뷔조 순위 조작 사건', 'parent_paper': '논란 및 사건 사고'}, page_content='page_content: 다음 문서로 대체 설명: https://namu.wiki/w/%EC%95%84%EC%9D%B4%EB%8F%8C%ED%95%99%EA%B5%90%20%EC%88%9C%EC%9C%84%20%EC%A1%B0%EC%9E%91%20%EC%82%AC%EA%B1%B4%20%EB%B0%8F%20%EC%97%B0%EC%8A%B5%EC%83%9D%20%EC%B2%98%EC%9A%B0%20%EB%85%BC%EB%9E%80'),\n",
              "  Document(metadata={'page_url': 'https://namu.wiki/w/프로미스나인', 'artist_info': 'FROMIS_9', 'toc_item': '2023년', 'abs_page_toc_item': '활동/Weverse//LIVE/2023년', 'parent_paper': 'Weverse'}, page_content=\"page_content:   2023년 OFFICIAL Weverse LIVE by fromis_9,날짜,방송명,설명,01.03,  30분~ 1시간 정도~?~?🤔  이제 안녕...⭐️-이서연-,지선의 찬조 출연.배터리 부족으로 인해 종료 후 잠깐의 마무리 인사.,01.04,  집 가기 전에 잠깐-송하영-,-,   \\U0001fae0-노지선-,-,01.05,   바부들아-이나경-,-,01.06,  HAPPY SAEROM DAY-이새롬-,새롬의 27번째 생일 LIVE.,   🤔🤔🤔-이서연-,-,01.08,   😶\\u200d🌫️-노지선-,-,01.10,  🐰-노지선, 이서연-,오후 3시 4분에 시작해서 밤 9시 6분에 종료하여 단일 라이브 사상 6시간 2분의 최장 라이브가 되었다.,  잠깐 🌙🎁-송하영-,채영의 찬조 출연.,01.11,  🚘-이채영-,-,01.13,  📚-백지헌-,-,01.14,  잠깐🎁-송하영-,-,01.15,   눈 온다~~~~~-박지원-,하영의 찬조 출연.,01.16,   자기 전 잠깐🥱-박지원-,하영의 찬조 출연.,01.17,  🌙  🙏🌙-이채영-,화면 전환을 위한 재연결.,01.18,  잠깐☘️🍀-송하영-,-,01.19,   제목-이새롬-,하영의 인사차 찬조 출연.,01.20,  ❤️-이서연-,서연의 24번째 생일 LIVE.,01.23,  광주🍀☘️-송하영-,-,01.28,   🥱-노지선-,-,   🦕-노지선-,-,01.29,   잘자🌙-송하영-,지원의 찬조 출연.,  🕶️-백지헌-,-,02.06,   잘자🌙-송하영-,-,02.08,   🌝   🌝😴-노지선-,딜레이로 인한 재연결.,   자기 전~~🧚\\u200d♂️-박지원-,채영 찬조 출연.,02.09,   🌮😋-노지선-,-,02.14,   🍫-송하영-,-,  ☘️-이채영-,지원 잠시 찬조 출연.,02.17,  🎧-백지헌-,-,02.18,   ✈️-노지선-,-,04.17,  지헌데이-백지헌-,지헌의 21번째 생일 LIVE.,04.25,   🌧️-노지선-,-,04.27,  🥝🍏🥝-백지헌-,-,04.28,   \\U0001faf6\\U0001faf6-이채영-,-,   👀-이채영-,-,04.29,  모여라아ㅏㅏ  다시 모여라아ㅏㅏ  🚗🚗-박지원, 노지선, 이채영, 백지헌-,화면 전환, 통신문제로 인한 재연결.,  국밥먹방  국밥먹방-송하영, 이나경-,화면 전환으로 인한 재연결.,04.30,  배부른 지원~~-박지원-,새롬 인사차 목소리 출연.,05.01,  잠깐🍀☘️-송하영-,-,05.02,   커피 한 잔   아웅 이거 왜 끊켜-노지선-,통신문제로 인한 재연결.,   한 시간 정도 ? 🤔-이서연-,-,  🙋🏻\\u200d♀️-노지선-,-,05.04,  잠깐🍀☘️-송하영-,-,  🌚-노지선-,-,05.05,  부릉부릉-백지헌-,지원, 지선, 채영 목소리 출연.,05.06,  연습실  연습실2-백지헌-,온리 전환을 위한 재연결, 하영, 지선, 서연, 채영 찬조 출연.,05.08,  어두워요오-이채영-,지원 찬조 출연.,  후...-노지선-,-,   잠깐☘️🍀💚-송하영-,-,05.11,  🍅-노지선-,-,05.14,   잠 드는 중🌙-이채영-,-,  HBD TO ME 🥳-이채영-,채영의 24번째 생일 LIVE.,05.15,   ☺️-백지헌-,-,  😉-백지헌-,-,05.16,  잠 안 오는 사람들 잠시 모여~-노지선-,-,05.21,  퇴근  🚗-백지헌-,화면 전환을 위한 재연결.,05.23,  진짜 짧게 할거야-이서연-,-,   \\U0001faf6   \\U0001f979-이채영-,통신 오류로 인한 재연결.,05.24,  잠이 안오니?-노지선-,-,05.26,  \\U0001fae8  🤔-노지선-,통신 문제로 인한 재연결.,05.31,   쉿-노지선-,-,   한시간만!!!-이서연-,-,06.01,  드루왕 🥳-이나경-,나경의 24번째 생일 LIVE. 서연, 하영, 채영의 찬조출연.,06.02,   😮(20분만)-노지선-,-,   조금만 하고 잘거지롱-백지헌-,-,   오분만☘️🍀-송하영-,-, The 1st Album Unlock My World,06.06,   fromis_9 - #menow 노래 좋다던데?-노지선-,-,06.07,  fromis_9 COMEBACK LIVE 'ROCK MY WORLD'-전원-,-,06.13,  빵빵즈  빵빵즈-송하영, 이채영-,화면 전환을 위한 재연결.,  🎁-노지선-,-,  \\U0001fa77-백지헌-,-,06.14,  안 보면 후회할걸?🖤💙\\U0001fa77☕️-전원-,-,06.22,   잘자아🌙-송하영-,-,06.24,   잠깐☘️🍀   잠깐-송하영, 박지원-,배터리 부족으로 재연결.,06.25,   막방날이야ㅠ-백지헌-,-,  막방-전원-,정규 1집 활동 마무리 단체 라이브.,  노랑즈🌙-송하영, 박지원-,백지헌, 이새롬 목소리 출연.,  바통터치  바통터치-백지헌-,화면전환을 위한 재연결.,06.26,  우아🐻😯\\U0001fa77  우아🐻😯\\U0001fa77  진짜야😯🐻\\U0001fa77-이새롬-,화면및 온리 전환을 위한 재연결.,06.27,   자니..??-이채영-,-,  퇴근길 라이브🚘-송하영, 이채영-,-,  🏃🏻\\u200d♀️-노지선-,-,06.28,  잠깐만  진짜 잠깐-백지헌-,온리 전환을 위한 재연결.,06.29,  노랑즈  노랑즈-송하영, 박지원-,화면 전환을 위한 재연결.,06.29,  잠깐~-이서연-,이새롬, 이채영 목소리 출연.,  🍮-이나경-,-,07.01,  아웅-노지선, 이서연-,-,07.02,  🍚  🍚  \\U0001fae0-박지원-,화면 전환 및 배터리 문제로 재연결.,07.04,  😋-백지헌-,-,07.05,  🌌-이채영-,-,  🍌-백지헌-,-,07.06,  잠깐🎁-송하영-,-,  노랑즈 5분  잠깐 노랑즈-송하영, 박지원-,화면 전환을 위한 재연결.,07.07,  잠시☝️-박지원-,-,07.09,  배고픈 노랑즈-송하영, 박지원-,채영 인사차 목소리 출연.,07.10,   앙녕\\U0001faf6-이채영-,-,07.11,   쉬는 시간-이나경, 백지헌-,-,07.13,  .-백지헌-,-,07.14,   덥다-노지선-,-,   금요일밤-백지헌-,-,07.15,  오랜만에 삐융-송하영, 박지원, 이채영-,-,07.16,  ☘️HAAPY 프롬 2000일☘️-전원-,데뷔 2000일 기념 LIVE.,07.20,   🍗-노지선-,-,07.25,  노랑즈 먹방 잘 먹겠습니다.  노랑즈 리얼 먹방-송하영, 박지원-,음식 준비로 인한 재연결.,07.26,   잠깐 🛌-노지선-,-,  .-백지헌-,-,07.28,  스리슬쩍-노지선-,-,07.29,  잠깐마안~-박지원-,-,07.30,  2-30분  2-30분!-이서연-,댓글 오류로 인해 재연결.,07.31,  월요일-노지선-,-,08.02,   ☀️😛-이채영-,-,   🦕-노지선-,-,08.06,  🩰-노지선-,-,08.10,  잠깐🍀☘️-송하영-,-,08.13,  일요일~  일욜-전원-,방향 전환을 위한 재연결.,   참여 종료-노지선-,-,08.16,   딱 10분-노지선-,-,08.18,  오잉  오잉오잉  오잉오잉오잉-노지선-,기기 장애 및 거주지 화재경보 오작동으로 인해 재차연결.,08.19,  🍇🍅🍐🍇-이채영-,-,   .-백지헌-,-,08.21,  진짜 15분-노지선-,-,   🍮-이나경-,-,   1111대기중기대중-송하영-,지원의 찬조 출연.,08.22,   토론-백지헌-,-,08.23,   😯-노지선-,-,08.28,  🐶안냥-박지원-,-,   띱-이나경-,-,08.29,  허어어어어어ㅓㅓ어어어-이서연-,지선의 목소리 출연.,  🤨  😗-노지선-,화질 개선을 위한 재연결.,09.05,  ⭐️-박지원-,-,09.06,   수요일이구만-노지선-,-,09.07,  잠깐만여!!!!-박지원-,-,09.10,   냥-이채영-,-,09.12,  🤍🐌-박지원-,하영의 중간 합류.,09.13,   잠깐-이서연-,-,09.14,   잠깐 5분만☘️🍀-송하영-,-,09.21,  .-백지헌-,-,09.23,  플로버어ㅓㅓ🫂-이새롬-,-,09.27,  미리 해피 생일🍀🎂-송하영-,하영의 27번째 생일 LIVE. 생일 추석 연휴으로 인하여 하루 먼저 방송을 시작했다.,09.29,  오순도순시끌벅적생일라이브  오순도순시끌벅적생일라이브-송하영-,본가 친인척 목소리 출연.,10.02,  아이고 연휴 길다~-노지선-,-,10.05,   🤚🏻-노지선-,-,  노랑즈 점심보이스☘️🍀-송하영, 박지원-,-,  앙녕🦋  다시😖-이채영-,지선, 서연 목소리 출연.하영 인사차 잠시 출연.통신 오류로 재연결.,10.06,  퇴근 라이브 잠깐🤍  퇴근 라이브🤍🤍🤍-송하영, 박지원-,통신 오류로 재연결.,10.08,  노랑즈 잠깐-송하영, 박지원-,-,10.09,  🤍-백지헌-,-,   \\U0001fae5-노지선-,-,10.12,  🍮-이나경-,새롬 잠시 목소리 출연.,10.14,  아ㅓㅏㅏㅏ-이서연-,-,  무엇이든 물어보3 (내가)-노지선-,-,10.15,  일요일 저녁 밥 먹으면서 10분만-송하영-,-,  .-백지헌-,-,10.16,  야 모여라!!😝-이채영-,지선 후반부 잠시 출연.,10.19,  .-백지헌-,-,10.23,  \\U0001fae0-노지선-,-,10.24,  🍀flover in the Wonderland👑-전원-,-,10.26,  .-백지헌-,-,10.30,  진짜 3분만 음소거 라이브-노지선-,-,11.01,  🌚-노지선-,-,11.02,   굿나잇 인사 짧게~-이서연-,-,  .  .  ㅁ-백지헌-,온리 전환을 위한 재연결.,11.04,  잠깐🍀☘️-송하영-,지원 잠시 합류.,11.08,  밤에밥-송하영, 박지원-,-,11.11,  ❄️🥶☃️🧤🧣-이채영-,-,11.13,  🤍-백지헌-,-,  바부들 ~-이나경-,하영 중간 합류.,11.14,  .  ㅎ-백지헌-,음식 주문을 위해 재연결.,11.20,  🙄-백지헌-,-,11.22,  Ji Sun Day❤️-노지선-,지선의 26번째 생일 LIVE. 생일 당일 스케줄로 인하여 하루 먼저 방송을 시작했다.,11.23,  ㅠ-백지헌-,-,11.24,  잠깐망-백지헌-,-,  안뇽하세용~-송하영, 박지원-,-,11.28,   퇴근길📞-송하영-,-,11.29,  자다 깸-노지선-,-,  플러벙-박지원-,-,11.30,  여보세요📞  여보세요📞-송하영-,보이스 전환을 위한 재연결.,12.01,  냥-송하영, 박지원-,-,  묭-박지원-,-,12.03,  잠깐📞-송하영-,-,12.05,  퇴근길 통화📞  아 먼저 끊어서 미안해-송하영-,시간 공유를 위해 재연결.,   탕후루 asmr-송하영-,-,  그러하다  뭐야-노지선-,통신 오류로 재연결.,12.06,   목소리 주의🙈-이채영-,-,12.07,  5분만📞-송하영-,-,12.12,  😶\\u200d🌫️-노지선-,-,12.13,  ‘-백지헌-,-,12.18,  먀-이채영-,-,12.22,  🚘-박지원-,새롬 잠시 목소리 출연.,12.25,  해피해피해피❄️❄️-송하영-,-,12.27,  심심하다요-박지원-,하영 잠시 목소리 출연.,  \\U0001fae0-노지선-,-,  5분만❄️❄️-송하영-,-,12.28,   .-백지헌-,-,12.30,  잠깐ㄴ-이서연-,-,  12월 30일 밤❄️-송하영-,지원 잠시 출연.,\"),\n",
              "  Document(metadata={'page_url': 'https://namu.wiki/w/프로미스나인', 'artist_info': 'FROMIS_9', 'toc_item': '싱글 1집 《FUN FACTORY》 (2019. 06. 04.)', 'abs_page_toc_item': '활동/음악 방송/무대 의상//무대 의상/싱글 1집 《FUN FACTORY》 (2019. 06. 04.)', 'parent_paper': '무대 의상'}, page_content='page_content:   The 1st Single Album FUN FACTORY,,,,,,TITLEFUN!, 2019. 06. 06.,TITLEFUN!, 2019. 06. 08.,TITLEFUN!, 2019. 06. 09.,TITLEFUN!, 2019. 06. 11.,TITLEFUN!, 2019. 06. 12.,,,,,,TITLEFUN!, 2019. 06. 13.,TITLEFUN!, 2019. 06. 14.,TITLEFUN!, 2019. 06. 15.,TITLEFUN!, 2019. 06. 16.,TITLEFUN!, 2019. 06. 18.,,,,,,TITLEFUN!, 2019. 06. 20.,TITLEFUN!, 2019. 06. 21.,TITLEFUN!, 2019. 06. 22.,TITLEFUN!, 2019. 06. 23.,TITLEFUN!, 2019. 06. 25.,,,,,,TITLEFUN!, 2019. 06. 26.,TITLEFUN!, 2019. 06. 27.,TITLEFUN!, 2019. 06. 28.,TITLEFUN!, 2019. 07. 07.,SUBLOVE RUMPUMPUM, 2019. 07. 12.,,,,,,SUBLOVE RUMPUMPUM, 2019. 07. 13.,SUBLOVE RUMPUMPUM, 2019. 07. 14.,TITLEFUN!, 2019. 07. 14.,SUBLOVE RUMPUMPUM, 2019. 07. 16.,SUBLOVE RUMPUMPUM, 2019. 07. 17.,,,,,,SUBLOVE RUMPUMPUM, 2019. 07. 18.,SUBLOVE RUMPUMPUM, 2019. 07. 19.,SUBLOVE RUMPUMPUM, 2019. 07. 20.,SUBLOVE RUMPUMPUM, 2019. 07. 21.,COVER빨간 맛 (Red Flavor), 2019. 07. 25.,,,,,,SUBLOVE RUMPUMPUM, 2019. 07. 25.,SUBLOVE RUMPUMPUM, 2019. 07. 26.,SUBLOVE RUMPUMPUM, 2019. 07. 27.,SUBLOVE RUMPUMPUM, 2019. 07. 28.,TITLEFUN!, 2019. 09. 12.,,COVERNow, 2019. 10. 18.,'),\n",
              "  Document(metadata={'page_url': 'https://namu.wiki/w/프로미스나인', 'artist_info': 'FROMIS_9', 'toc_item': 'FOOTNOTES', 'abs_page_toc_item': '음반//FOOTNOTES', 'parent_paper': '음반'}, page_content='page_content: [1] 코로나가 터져서 발매가 취소되였다.'),\n",
              "  Document(metadata={'page_url': 'https://namu.wiki/w/프로미스나인', 'artist_info': 'FROMIS_9', 'toc_item': '미니 3집 《My Little Society》 (2020. 09. 16.)', 'abs_page_toc_item': '활동/음악 방송//2020년/미니 3집 《My Little Society》 (2020. 09. 16.)', 'parent_paper': '음악 방송'}, page_content='page_content: 활동곡 : Feel Good (SECRET CODE)  날짜,방송 프로그램,무대 영상,비고, The 3rd Mini Album My Little Society,09.17,,Feel Good (SECRET CODE),송하영, 장규리POST POST,09.19,,Feel Good (SECRET CODE),,09.20,,Feel Good (SECRET CODE),,09.22, ,Feel Good (SECRET CODE) NEW 3위,,09.23, ,Feel Good (SECRET CODE) NEW 8위,,09.24,,Feel Good (SECRET CODE) NEW 6위,POST,09.25,,Feel Good (SECRET CODE) NEW 45위,,09.26,,Feel Good (SECRET CODE) NEW 28위,,09.27,,Feel Good (SECRET CODE),,09.30, ,Feel Good (SECRET CODE) ▼ 11위,,10.06, ,Feel Good (SECRET CODE) 3위,,10.08,,Feel Good (SECRET CODE) 6위,POST,10.09,,Feel Good (SECRET CODE),,10.10,,Feel Good (SECRET CODE) ▼ 39위,,10.11,,Feel Good (SECRET CODE),10.13, ,Feel Good (SECRET CODE),,10.14, ,Feel Good (SECRET CODE) ▲ 9위,,10.15,,Feel Good (SECRET CODE) ▼ 7위,POST,10.16,,Feel Good (SECRET CODE),,10.17,,Feel Good (SECRET CODE) ▼ 41위,,10.18,,Feel Good (SECRET CODE),,'),\n",
              "  Document(metadata={'page_url': 'https://namu.wiki/w/프로미스나인', 'artist_info': 'FROMIS_9', 'toc_item': '2024년', 'abs_page_toc_item': '활동/광고 및 화보//화보/2024년', 'parent_paper': '광고 및 화보'}, page_content='page_content: ,,,,,,,, ,,, ,,백지헌,'),\n",
              "  Document(metadata={'page_url': 'https://namu.wiki/w/프로미스나인', 'artist_info': 'FROMIS_9', 'toc_item': '미니 3집 《My Little Society》 (2020. 09. 16.)', 'abs_page_toc_item': '활동/음악 방송/무대 의상//무대 의상/미니 3집 《My Little Society》 (2020. 09. 16.)', 'parent_paper': '무대 의상'}, page_content='page_content:   The 3rd Mini Album My Little Society,,,,,,TITLEFeel Good (SECRET CODE), 2020. 09. 17.,TITLEFeel Good (SECRET CODE), 2020. 09. 19.,TITLEFeel Good (SECRET CODE), 2020. 09. 20.,TITLEFeel Good (SECRET CODE), 2020. 09. 22.,TITLEFeel Good (SECRET CODE), 2020. 09. 23.,,,,,> -,TITLEFeel Good (SECRET CODE), 2020. 09. 24.,TITLEFeel Good (SECRET CODE), 2020. 09. 25.,TITLEFeel Good (SECRET CODE), 2020. 09. 26.,TITLEFeel Good (SECRET CODE), 2020. 09. 27.,TITLEFeel Good (SECRET CODE), 2020. 09. 30.,,,,,,TITLEFeel Good (SECRET CODE), 2020. 10. 06.,TITLEFeel Good (SECRET CODE), 2020. 10. 08.,TITLEFeel Good (SECRET CODE), 2020. 10. 09.,TITLEFeel Good (SECRET CODE), 2020. 10. 10.,TITLEFeel Good (SECRET CODE), 2020. 10. 11.,,> -,,,,TITLEFeel Good (SECRET CODE), 2020. 10. 13.,TITLEFeel Good (SECRET CODE), 2020. 10. 14.,TITLEFeel Good (SECRET CODE), 2020. 10. 15.,TITLEFeel Good (SECRET CODE), 2020. 10. 16.,TITLEFeel Good (SECRET CODE), 2020. 10. 17.,,,TITLEFeel Good (SECRET CODE), 2020. 10. 18.,TITLEFeel Good (SECRET CODE), 2021. 04. 17.,'),\n",
              "  Document(metadata={'page_url': 'https://namu.wiki/w/프로미스나인', 'artist_info': 'FROMIS_9', 'toc_item': '여담', 'abs_page_toc_item': '수상 경력//여담', 'parent_paper': '수상 경력'}, page_content='page_content: 2021년 9월 7일, 더 쇼에서 Talk & Talk으로 데뷔 1,323일만에 첫 음악 방송 1위를 달성했다. 이는 드림캐쳐의 1,924일, 브레이브걸스 2기의 1854일, CLC의 1,427일 다음으로 오래 걸린 데뷔 이래 첫 음악 방송 1위 기록이다.  2022년 7월 8일, 뮤직뱅크에서 Stay This Way로 데뷔 1,627일 만에 첫 지상파 음악 방송 1위를 달성했다. 이는 브레이브걸스 2기의 1,854일 다음으로 오래 걸린 데뷔 이래 첫 지상파 음악 방송 1위 기록이다.  #menow 활동기 까지는 HYBE와 MBC가 갈등이 있어 쇼! 음악중심에 출연하지 않았다. 그러나 2023년 11월 하이브와 MBC가 합의점에 도달함으로써 하이브 소속 가수들의 MBC 예능 출연이 가능해졌고 12월 7일 발매된 백호(가수)의 디지털 싱글 What are we의 피쳐링을 맡은 박지원이 WE GO 활동 이후 약 2년만에 쇼! 음악중심에 출연하였다.  '),\n",
              "  Document(metadata={'page_url': 'https://namu.wiki/w/프로미스나인', 'artist_info': 'FROMIS_9', 'toc_item': '미니 2집 《To. Day》 (2018. 06. 05.)', 'abs_page_toc_item': '활동/음악 방송//2018년/미니 2집 《To. Day》 (2018. 06. 05.)', 'parent_paper': '음악 방송'}, page_content='page_content: 활동곡 : 두근두근(DKDK), 22세기 소녀  날짜,방송 프로그램,무대 영상,비고, The 2nd Mini Album To. Day,06.07,,22세기 소녀,POST,두근두근 (DKDK),POST,06.08,,22세기 소녀두근두근 (DKDK),,06.09,,두근두근 (DKDK),,06.12,,22세기 소녀두근두근 (DKDK),,06.13, ,두근두근 (DKDK),,06.14,,두근두근 (DKDK) NEW 5위,POST,06.15,,두근두근 (DKDK),,06.17,,두근두근 (DKDK),,06.20, ,두근두근 (DKDK),,06.21,,두근두근 (DKDK) ▲ 4위,POST,06.22,,두근두근 (DKDK),,06.27, ,두근두근 (DKDK),,06.28,,두근두근 (DKDK) ▲ 3위,POST,07.01,,두근두근 (DKDK),,07.03,,두근두근 (DKDK),,07.05,2018 KCON NY Festival,Hawaiian Couple (with.지원&주찬),SPECIAL STAGE,두근두근 (DKDK) ▼ 7위,,07.06,,두근두근 (DKDK),,07.07,,두근두근 (DKDK),,07.08,,두근두근 (DKDK),,07.10,,두근두근 (DKDK),,07.11, ,두근두근 (DKDK) NEW 18위,,07.13,,두근두근 (DKDK),,07.18, ,22세기 소녀,,07.19,,22세기 소녀,POST POST,07.20,,22세기 소녀,,07.21,,22세기 소녀,,07.22,,22세기 소녀,,07.24,,두근두근 (DKDK),,Oh! (원곡: 소녀시대),SPECIAL STAGE,07.27,,두근두근 (DKFK),,08.03,,두근두근 (DKFK),,08.24,2018 KCON LA Festival, WTF (Where They From) HandClap (with.청하&드림캐쳐),SPECIAL STAGE,두근두근 (DKDK),,'),\n",
              "  Document(metadata={'page_url': 'https://namu.wiki/w/프로미스나인', 'artist_info': 'FROMIS_9', 'toc_item': '콘셉트', 'abs_page_toc_item': '특징/콘셉트', 'parent_paper': ''}, page_content='page_content: 코로나19 팬데믹을 거치며 남성층 대중문화 소비가 폭발, ‘남초 팬덤 기반 걸그룹’도 수익적으로 성립 가능한 모델로서 변모한 것. (중략) 그 수요를 지탱하던 그룹이 기한종료로 해산하고 나니 걸그룹 시장서 불어난 남성 소비층에 대응할 남성향 걸그룹이 크게 부족해지는 현상이 일어났다. 일정 수준 이상 음악적 퀄리티를 보장하며 세련된 콘셉트를 선보일 확장성 있는 팀 차원에선 더더욱 그랬다. 초반의 안일한 교복 콘셉트에서 틴-키치를 거쳐 세련된 도시 여성 콘셉트를 취하고, 확장성 있는 이지 리스닝 계열에서 완성도 높은 곡들을 선보이던 프로미스나인이 여기서 낙점돼 유입을 늘린 흐름. 결국 이미 준비된 스탠스에서 뜻하지 않게 유리한 흐름을 만나 폭발한 셈이다. - 이문원 대중문화평론가  긍정적인 느낌과 떼려야 뗄 수 없다. 프로미스나인은 언제나 흥겹고 상쾌한 음악을 통해 즐거움을 선사한다 - 美 빌보드 프로미스나인, 어떻게 대세가 됐나…하이브 걸그룹 척도될 듯프로듀스 101 시리즈의 그룹이 AKB계열과 비슷했던것처럼 프로미스나인 역시 데뷔 초반까지만 해도사카미치 시리즈와 컨셉상 비슷한 부분이 많았다. 데뷔 앨범To. Heart의 로고가노기자카46혹은케야키자카46의 엠블럼과 유사한 디자인이었고 캡틴이란 명칭과 센터 멤버 버전의 한정 앨범 그리고 일본 아이돌의악수회를 연상케 한약속회가 그 예시이다. 허나 이 노선은 결국 국내에서 통하지 않는다는 것이 증명됐고 반년만에 교복 컨셉을 버리고 약속회도 팬싸인회로 대체됐다.이후 부터는 3~4세대 걸그룹 가요계내걸 크러시가 지배적인 컨셉으로 자리 잡았음에도, 대세를 따르지 않고 독자적인 길을 걷고 있다. \"내가 최고\"라고 말하거나 MZ세대의 특성을 크게 반영하지도 않으며, 그동안 발매한 앨범들을 하나로 묶는 거대한 세계관도 딱히 없다. 다만 전반적으로 밝고 통통 튀는 분위기를 지속적으로 유지하며, 여행 등 사람들이 시원하고 편안하게 긍정적인 감정을 느낄 수 있는 키워드를 주로 사용하고 있다. 즉해외 K-pop 팬덤과 여성층이 선호하는 유행 요소들을 거의 사용하지 않고 있다.(#fn-19; 3세대 무렵부터 걸그룹의 수익모델과 컨셉이 보이그룹과 유사해지고 있으며, 실제로 프로미스나인의 컨셉을 보이그룹에 대입해 봤을 때 프로미스나인처럼 순수하고 청량한 컨셉을 지향하는 보이그룹은 찾아보기 매우 힘들다. 그리고 이를 지지하고 지탱해주는 핵심 소비층이 해외 팬덤과 여성 팬덤이다. 이에 따라 소위 \\'센 언니\\', \\'당당한 자아\\'로 표현되는 걸크러쉬 컨셉과 이러한 컨셉들을 하나로 엮어주는 거대한 세계관을 강조하는 걸그룹이 K-pop 업계에 우후죽순 등장하고 있다. (여자)아이들, 퍼플키스, ITZY, IVE, aespa, CLASS:y, NMIXX, LE SSERAFIM 등 3~4세대 걸그룹 대부분이 이 흐름을 따라가는 중. Weeekly는 청량하고 발랄한 컨셉으로 데뷔했다가 걸크러쉬 컨셉으로 과감히 변경했으며, 드림캐쳐도 밝은 컨셉의 \\'밍스\\'로 데뷔했다가 그룹을 재정비하여 \\'악몽\\'을 키워드로 하는 어둡고 강렬한 컨셉으로 변신했다.)3세대 이후부터 너도 나도 걸크러쉬를 추구하느라 걸그룹 업계 전체가 개성을 잃고 획일적인 방향으로 변화한다는 지적이 꾸준히 나오는 가운데 그 행보가 독자적이라 할 만하다.걸크러쉬 대신, 데뷔한 이래 \\'이지 리스닝 걸리쉬 팝\\'(#fn-20; 이러한 류의 노래는 1990년대의 S.E.S나 핑클 등 초창기 걸그룹들이 발표한 노래에서도 엿볼 수 있다.)계열의 노래를 중점적으로 발표하고 있다. 가사의 내용도 걸크러쉬 컨셉에서 으레 등장하는 \\'스스로를 사랑하고 최고로 여기는 마음\\', \\'눈치 보지 않는 당당함\\'이라는 마인드가 아닌듣는 이들을 편안하고 기분 좋게 만드는 \\'사랑\\'과 \\'소통\\'에 중점을 둔다. 노래와 춤의 전체적인 분위기 역시 강렬한 비트와 격한 안무가 아닌밝고 청량한 리듬과 안무에 초점을 맞추었다.(#fn-21; 물론 앨범에 걸크러쉬 컨셉의 가사와 안무로 구성된 일부 수록곡이 포함되어 있긴 하나, 이것이 메인은 아니다.)(#fn-22; 뮤직비디오 구성으로만 보면 데뷔 초반에는 교복을 입은 학생, 중반 이후부터는 인스타그램 등 소셜미디어에서 인기를 얻는 세련된 SNS 스타 이미지로 등장한다. 유튜버 비디터가 올린 WE GO 댓글 모음 영상에서도 인스타그램 스타들을 모아놓은 것 같다는 댓글을 찾아볼 수 있으며, 다른 곡들의 댓글 모음을 봐도 이런 컨셉이 성공적으로 통했다고 평가하는 댓글들이 많다.)프로미스나인은 데뷔 이후로 단 한 번도 이러한 컨셉에서 이탈한 적이 없는데, 컨셉만 보면 언뜻 시대에 뒤처졌다고 느낄 수 있으나 그룹의 방향성이 현재 유행하는 걸크러쉬가 아닐 뿐 발표하는 곡들은 모두 현대적이다. 프로듀싱을 맡고 있는 한성수 프로듀서의 곡 제작에 따라세련되면서도 리드미컬한 곡에 집중하고 있는데 이것이 K-pop 팬들과 음악평론가들에게 큰 호평(#fn-23; 대표적으로 프로미스나인의 본격적인 상승세를 이끌었다는 평가를 받는, Feel good - We Go - DM - Stay This Way로 이어지는 소위 SNS 4부작이 아이돌 팬들 사이에서 큰 호평을 받았다. 특히 \\'코로나19로 밖에 나갈 수 없는 현실 속에서 떠나는 랜선 여행\\'을 주제로 삼은 \\'9 WAY TICKET\\' 앨범(타이틀곡 \\'We Go\\')의 경우, 아이돌 그룹 앨범에 현실 상황을 반영하는 것은 극히 드문데 이를 직접 반영하며 참신함을 줌과 동시에 높은 퀄리티로 내놓았다는 호평을 받았고 빌보드가 선정한 2021년 최고의 K-POP 중 한 곡으로도 이름을 올렸으며, 2022년 1월에 발매된 \\'DM\\' 또한 같은 목록에 이름을 올렸다.)을 받고 있다. 결정적으로 3~4세대 걸그룹 중 순수하게 \\'기분 좋은 에너지\\'를 전달하는 그룹이 거의 없다시피 한 상황이라, 남성팬덤 입장에서 따라가기 어려운 걸크러쉬 컨셉에 대한 부담을 가질 필요도 없고, 노래 하나를 듣기 위해 팬이 아니면 이해하기 어렵고 복잡한 세계관에 대해 학습할 필요도 없이, 단순하면서도 확실한밝고 신나고 기분 좋은컨셉이 그룹의 독보적인 개성으로 자리 잡았으며 독자적인 영역 확립으로 이어졌다.그 결과 걸그룹 시장에 팽배한 걸크러쉬 컨셉에 지친국내 남성 팬들의 압도적인 지지와 응원을 받는 데 성공했다. 흔히 남초 팬덤은 여초 팬덤에 비해 화력이 약하다는 인식이 지배적인데, 그러한 인식을 뒤엎을 만큼 큰 규모와 화력을 자랑한다. 현재까지 기록한 초동 최고 수치는 약 14만 장으로, \\'남초 팬덤 + 부실한 해외 팬덤(#fn-24; 현재 수십만장의 초동을 호가하는 아이돌들은 대부분 중국 공구량이 엄청나다. 하지만 프로미스나인은 그쪽에선 영 힘을 못쓰는 편.)\\'이라는 약점을 감안하면 굉장히 많은 양이다. 프로미스나인이서바이벌 오디션 프로그램을 통해 결성된 그룹임을 감안하더라도 2010년대 이후로 해외 시장 공략을 위해 많은 K-pop 아이돌 그룹이 외국인 멤버를 최소 1명 이상 포함시키는 것이 일반적이고 오디션 프로그램에도 외국인 연습생들이 다수 참여하고 있는데,(#fn-25; 프로미스나인이 결성된 오디션인 아이돌학교 또한 나띠, 나타샤 로우 등 외국인 참가자들이 있었다.)전원 한국인으로 구성된 그룹이 남초 팬덤의 지지로 이 정도 판매량을 기록했다는 것은 분명 괄목할 만한 요소이다.남성층 사이에서 이러한 인기의 진가는 특히 군대에서 드러나는데,현역 군인들의 워너비이자 원탑에 가까운 위치에 있다.국방TV등에서 진행하는 연예인과 관련된 다양한 앙케이트에서 항상 최상위권에 이름을 올리고, 컴백만 했다하면 기가지니 뮤비차트에서 매우 오랜기간 1위를 지킨다.신병이 오면 군가 대신FUN!의 가사부터 외우게 한다던가, 아이돌에 아무런 관심도 없던 지인이 군대에 다녀오더니 플로버가 되어 돌아왔다는 이야기 등을 심심찮게 들어볼 수 있을 정도로, 육해공을 가리지 않고 압도적인 인기를 자랑한다.든든한 응원소리 1위 걸그룹남성층에서 이렇게 많은 인기를 누리는 이유에 대해선, 단순히 예쁘기만한 것이 아니라 8명 중 닮은 사람 하나 없이 모두가 개성이 매우 뚜렷하게 달라 적어도 한명쯤은 자기 취향이 있을 수 밖에 없기 때문이라는 의견이 지배적이다.(#fn-26; 프로미스나인 이전의 군통령으로 명성을 모았던 브레이브걸스와 라붐도 비슷한 특징을 갖고 있다.)군대에서 반강제로 주입당하더라도, 여덞명 중 자기 취향이 최소 한명 이상은 있기에 자연스레 좋아하게 된다는 것이다.'),\n",
              "  Document(metadata={'page_url': 'https://namu.wiki/w/프로미스나인', 'artist_info': 'FROMIS_9', 'toc_item': '미니 5집 《from our Memento Box》 (2022. 06. 27.)', 'abs_page_toc_item': '활동/음악 방송/무대 의상//무대 의상/미니 5집 《from our Memento Box》 (2022. 06. 27.)', 'parent_paper': '무대 의상'}, page_content='page_content:   The 5th Mini Album from our Memento Box,,,,,,TITLEStay This Way, 2022. 06. 30.,TITLEStay This Way, 2022. 07. 01.,TITLEStay This Way, 2022. 07. 03.,SUBRewind, 2022. 07. 05.,TITLEStay This Way, 2022. 07. 05.,,,,,,SUBRewind, 2022. 07. 06.,TITLEStay This Way, 2022. 07. 06.,TITLEStay This Way, 2022. 07. 07.,TITLEStay This Way, 2022. 07. 08.,TITLEStay This Way, 2022. 07. 10.,,,,,파일:Stay This Way 220717 인기가요 프로미스나인 무대의상.jpg,TITLEStay This Way, 2022. 07. 12.,TITLEStay This Way, 2022. 07. 13.,TITLEStay This Way, 2022. 07. 14.,TITLEStay This Way, 2022. 07. 15.,TITLEStay This Way, 2022. 07. 17.,,,파일:Stay This Way 221110 KCON JAPAN 프로미스나인 무대의상.jpg,,파일:DM (Late Night Ver.) + Rewind 221224 SBS 가요대전 프로미스나인 무대의상.jpg,TITLEStay This Way, 2022. 08. 04.,TITLEStay This Way, 2022. 08. 25.,TITLEStay This Way, 2022. 11. 10.,TITLEStay This Way, 2022. 12. 16.,SUBRewind, 2022. 12. 24.,'),\n",
              "  Document(metadata={'page_url': 'https://namu.wiki/w/프로미스나인', 'artist_info': 'FROMIS_9', 'toc_item': '2018년', 'abs_page_toc_item': '활동/V LIVE//LIVE/2018년', 'parent_paper': 'V LIVE'}, page_content='page_content:   2018년 OFFICIAL V-LIVE by fromis_9,날짜,방송명,설명,01.07,  HAPPY SAEROM DAY🎉-이새롬-,새롬의 22번째 생일 LIVE. ,01.12,  프롬이들의 다락방✏-이새롬, 송하영, 노지선-,,01.15,  프롬이들의 다락방✏️-장규리, 박지원, 이서연-,,01.20,  프롬이들의 다락방✏-이채영, 이나경, 백지헌-,,01.21,  프롬이 데뷔 D-3🎨-이새롬, 노지선, 이채영-,,01.22,  HAPPY SEOYEON DAY🎉-이서연-,서연의 19번째 생일 LIVE 및 멤버들의 깜짝 방문. ,  프롬이 데뷔 D-2 🔍-이서연, 이나경, 백지헌-,,01.23,  프롬이 데뷔 D-1🎶-전원-,, The 1st Mini Album To. Heart,01.24,  프로미스나인 데뷔했다아아아~~😝😝-전원-,-,  [FULL] fromis_9 DEBUT SHOWCASE \"To. Heart from. fromis_9\"-전원-,24일에 LIVE로 진행되었고, 다음날 25일 전체 영상이 게시됐다.,01.28,  프롬이의 깜짝 뿌이라이브😆-전원-,The 1st Mini Album \\'To. Heart\\' 첫 음악방송 1주차를 마치고 소감 LIVE.  ,02.05,챙이의 등굣길~~!!챙이 등굣길 다시 힝 ㅠㅠ-이채영-,다시보기 삭제 및 통신 장애로 인한 재연결.,02.09,  한림즈의 등교길🏫-이새롬, 송하영, 이채영-,-,02.10,  잠들기전에..🌙✨-이새롬, 송하영, 장규리, 박지원, 노지선, 이서연, 이채영-,-,  곧 만나요!! 하투하투핫💕✨-전원-,-,  이 밤이 지나가기 전에🌙-이새롬, 장규리, 노지선, 이서연, 백지헌-,-,02.13,  굿나잇🌙  다시 굿나잇🌙-박지원, 이채영, 이나경-,-,  라디오 가는 길📻-이새롬, 송하영, 장규리, 박지원, 노지선-,이홍기의 Kiss The Radio 출근길 LIVE.,02.17,소요 지선의 깜짝 뿌이라이브👼🏻-노지선-,다시보기 삭제 및 하영과 규리의 중간 합류.,02.18,  저녁 묵자~~😋😋-장규리 외 전원-,장규리는 연습 중으로 불참했다.,02.20,  롬션 카페 갬성☕️-이새롬, 박지원, 이서연-,-,  나꼬 꿀깅이의 굿나잇🌙-이나경, 백지헌, 송하영-,-,02.21,  롬쌔소요가 찾아왔다!!-이새롬, 노지선-,-,02.22,  뚝딱..뚝딱..😝-이새롬, 노지선-,DIY 수납장 만들기 LIVE.,02.24,  져니셔니 크로스😆-박지원, 이서연, 이새롬, 노지선, 이나경, 백지헌-,지선의 경우 안경 쓴 모습, 페브리즈 뿌리는 손이 얼핏 나왔고, 마법의 안경(?)을 찬조 해줬다.,02.25,  To Heart💕  To Heart💕-이새롬, 노지선-,The 1st Mini Album \\'To. Heart\\' 음악방송 마지막 주를 마치고 소감 LIVE 및 통신 장애로 인한 재연결. 하영이가 말하는 중에 갑작스러운 강제 종료 됐다.,02.26,  도란도란😇-송하영, 노지선-,팬들을 향한 지선의 속얘기와 함께 하영은 정성스런 쓴 손편지를 낭독했다. 이에 옆에서 듣던 지선이 눈물을 보이기도 했다.,02.27,  회의실갬성🍽-이새롬, 송하영, 장규리, 박지원, 이서연, 이채영, 백지헌-,하영은 자작곡인 꿈나라역 1번 출구를 기타 치며 노래했고 지원은 마지막 인사를 함께 했다.,02.28,  노랑즈의 감성타임🎼-송하영, 박지원-,하영의 자작곡인 \\'To. 친구들에게 그리고 동생들, Miserable과 함께 다음과 같은 곡을 노래했다. 사랑을 했다, 밤편지, 이런 엔딩, Be With You, 봄이 좋냐.,03.02,  여기여기 모여라😝  힝 다시 여기여기 모여라😂-전원-,한림예고 10회 입학식 현장 LIVE 및 통신 장애로 인한 재연결.,03.04,요가방 시즌2: 하키방❄️-이새롬, 송하영, 이서연, 백지헌-,아이스링크장에서 아이스하키 체험 LIVE 및 다시보기 삭제.,  비오는 날 카페갬성☕️-이새롬, 노지선, 이서연-,-,03.05,  장신즈의 갬성🐶🐿-장규리, 이채영-,-,03.06,  프롬이들의 한강나두리~😚-전원-,한강공원 야외 LIVE.,  보고싶어서왔어연😘-이서연, 이나경-,-,03.07,  98즈 달밤에 산책🐶🙆\\u200d♀️-박지원, 노지선-,놀이터 야외 LIVE.,03.10,  프롬이들의 부산 갬성😁-전원-,The 1st Mini Album \\'To. Heart\\' 5회차 약속회를 마치고 소감 LIVE.,03.12,  fromis_9 (프로미스나인) 약속회 캐릭터 커넥트 미리보기🧐-전원-,-,03.16,  다시 돌아온! 노랑즈의 감성타임🎼-송하영, 박지원-,-,03.19,  저녁타임😁-노지선, 이나경, 백지헌-,-,03.20,  HAPPY JIWON DAY🎉-박지원-,지원의 21번째 생일 LIVE 및 멤버들의 깜짝 방문. ,03.22,  꼉챙과 함께하는 저녁시간😗😙😚-이채영, 이나경-,-,03.23,  카페갬성즈가 왔다☕-이새롬, 노지선, 이서연-,-,03.29,  어서와 지꼬롬은 처음이지😁-이새롬, 이나경, 백지헌-,-,03.30,  보기만해도...느껴지는 안정감😊-박지원, 노지선, 이서연-,-,04.04,  갑자기...😗-이새롬, 장규리, 이채영-,-,04.09,  갑자기 또 왔귤🍊-장규리-,-,04.12,  쓰리쥐가 나타났다😆-박지원, 노지선, 백지헌-,-,04.17,  HAPPY JIHEON DAY🎉-백지헌-,지헌의 16번째 생일 LIVE 및 멤버들의 깜짝 방문. ,04.18,  다시 돌아온 하롬😍-이새롬, 송하영-,-,04.20,  빵빵즈가 나타났다😆-이서연, 이채영, 이나경-,-,04.25,  카페 갬성즈☕-이새롬, 노지선, 이서연-,-,04.27,  보고 싶어서 왔귤🍊 -장규리-,-,05.02,  꿀깅이가 왔어요!🍯-백지헌-,-,05.28,24h VOD LIVE SHOW!-장규리 외 전원-(#fn-A; 프로듀스 48에 참가로 인한 활동 불참.)다시보기 삭제., The 2nd Mini Album To. Day,06.04,[FULL] fromis_9 ‘To. Day’ COMEBACK D-1-장규리 외 전원-(#fn-A; 프로듀스 48에 참가로 인한 활동 불참.)-,06.05,프롬이가 왔다!!! 두근두근💗-장규리 외 전원-(#fn-A; 프로듀스 48에 참가로 인한 활동 불참.),[FULL] fromis_9 The 2nd Mini Album <To. Day> Showcase-장규리 외 전원-(#fn-A; 프로듀스 48에 참가로 인한 활동 불참.)5일에 LIVE로 진행되었고, 다음날 6일 전체 영상이 게시됐다.,06.10,눈누난나🎶 기분 좋은 프롬이들의 선데이🌤-장규리 외 전원-(#fn-A; 프로듀스 48에 참가로 인한 활동 불참.)한강공원 야외 LIVE.,06.16,오랜만이에용~🤗💕-장규리 외 전원-(#fn-A; 프로듀스 48에 참가로 인한 활동 불참.)The 2nd Mini Album \\'To. Day\\' 1회차 약속회를 마치고 소감 LIVE.,07.02,  비오는 날 돌아온 카페 갬성즈☕🍰-이새롬, 노지선, 이서연-,-,07.08,오늘도 행복한 프롬이들😍-장규리 외 전원-(#fn-A; 프로듀스 48에 참가로 인한 활동 불참.)The 2nd Mini Album \\'To. Day\\' 6회차 약속회를 마치고 소감 LIVE.,07.12,  오늘의 지선😶-노지선-,-,07.13,오늘의 나경😜-이나경-,다시보기 삭제.,07.22,행복한 프롬이💕-장규리 외 전원-(#fn-A; 프로듀스 48에 참가로 인한 활동 불참.)The 2nd Mini Album \\'To. Day\\' 7회차 약속회를 마치고 소감 LIVE.,07.27,  다시 돌아온 하롬🌿🍎-이새롬, 송하영-,-,07.28,  🌧비오는 날 숙소위의 포뇨(feat.셔니)☁️💦-노지선, 이서연-,-,07.29,  잇츠미 지허언😎-백지헌-,-,07.31,  토닥토닥 책 읽어주러 왔어요😉-이나경-,-,08.22,  98즈🐯🦄-박지원, 노지선-,-,08.23,  잇츠미 지허언2🤔-백지헌-,-,08.30,  지선이와 채영이의 이야기보따리🐿🐑-노지선, 이채영-,-,09.06,  드디어 만났귤🍊-장규리-,프로듀스 48 활동을 마친 규리의 복귀 LIVE 및 새롬과 하영의 찬조 출연.,09.12,  크롬쌔 보고싶은 사람~~??😀-이새롬-,-, 잠들기전에...🌙-이나경-,다시보기 삭제.,09.14,  잇츠미 지헌😎 333-백지헌-,-,09.16,  우리가 누~구게?😎-박지원, 이서연, 이채영-,-,09.20,  오늘 노래 추천 하꼬야🎙-송하영, 이나경-,-,09.21,  비오는 날의 지선🌧😶  으이이잉뭐지오 인사하고 가려구요😭😭-노지선-,끝인사 직전 통신 장애로 인한 재연결.,09.29,  케이크 많이 먹을거구요 🎂🍰-전원-,하영의 22번째 생일 LIVE.,09.30,  우리가 누구게요~😎😁-전원-,태국 KCON 일정으로 인한 현지 해외 LIVE.,  또 왔지롱😎-이새롬, 송하영, 장규리, 이채영-,10.05,  비도 오고 그래서🌧-전원-,2개조로 나뉘어 1, 2부로 진행했다.,10.06,  환절기엔 로션💦-노지선, 이서연-,산책길 야외 LIVE., Special Single Album From.9,10.10,  첫방완료 💣-전원-,Special Single Album \\'From.9\\' 음악방송 1주차를 마치고 소감 LIVE.,10.13,  첫 팬사인회 완료😎-전원-,첫 팬 사인회를 마치고 소감 LIVE.,10.21,  짜잔🎊-전원-,-,10.26,  쩐🐰🐳-송하영, 박지원, 노지선, 백지헌-,-,10.30,  공포의 노랑즈 🐣👻-송하영, 박지원-,-,11.03,  보고싶어서요😶-노지선-,-,11.07,  나랑 놀 사람🐣-이나경-,-,11.11,  🌙⭐자고있어요?!-노지선-,-,  오랜만에 단란하게 단라😎-전원-,-,11.12,  🍊갬성❤-장규리-,-,11.13,  잇츠미 지허언 ✌😎✌-백지헌-,-,11.14,   연습 끝나구~  다시다시ㅠㅠ-이새롬, 송하영, 이나경-,통신 장애로 인한 재연결.,11.17,  롬션 반짝불토 🔥-이새롬, 이서연-,-,11.18,  토요일 안녕😶👋  ㅠㅠ다시오세요ㅠㅠㅠ인사ㅠㅠ-노지선-,강제 종료로 인한 재연결.,  러브밤 활동을 마무리하는 밤😘❤️-전원-,Special Single Album \\'From.9\\' 음악방송 마지막 주를 마치고 소감 LIVE.,  마음의 안정 💆\\u200d♀️💆\\u200d♀️💆\\u200d♀️  마음의 안정즈🤔🤔🤔-박지원, 노지선, 이서연-,통신 장애로 인한 재연결 및 하영, 나경, 지헌의 찬조 출연.,11.19,  🍊+🐶=?  🍊+🐶=??-장규리-,접속 장애로 인한 재연결.,11.23,  JISUN-DAY😶💋-노지선-,지선의 21번째 생일 LIVE.,11.24,  챙챙한 하루를 마무리하는 수면유도방송🙈🙉-이채영-,-,11.25,  핑크핑크분홍분홍🍭-송하영-,-,11.26,  포도도 오도도 들어와요🍇🍈🍉🍏🍎🍐-이새롬, 이서연-,-,11.27,  귤나잇🍊-장규리-,-,11.28,  라이징스타 프롬이🌟🏆-전원-,-,12.02,  어서오시게🤗-이나경-,-,12.05,  잇츠미 지허언🙋\\u200d♀️-백지헌-,-,12.07,  보고싶었다요😔💋-노지선-,-,12.18,  이야기 나누고픈 BOMB🌙❤💣-전원-,-,12.21,  🍊👗타임  다시ㅠ🍊-장규리-,조작 실수로 인한 재연결.,12.22,  소중히 간직해🤙-전원-,-,12.23,  이불 밖은 위험해 ❄-이새롬, 박지원, 노지언, 이서연-,-,12.27,  🍊\\'s DAY🎂-장규리-,규리의 22번째 생일 LIVE.,'),\n",
              "  Document(metadata={'page_url': 'https://namu.wiki/w/프로미스나인', 'artist_info': 'FROMIS_9', 'toc_item': '미니 1집 《To. Heart》 (2018. 01. 24.)', 'abs_page_toc_item': '활동/음악 방송//2018년/미니 1집 《To. Heart》 (2018. 01. 24.)', 'parent_paper': '음악 방송'}, page_content='page_content: 활동곡 : To Heart, 환상속의 그대  날짜,방송 프로그램,무대 영상,비고, The 1st Mini Album To. Heart,01.25,,환상속의 그대To Heart,POST,01.26,,환상속의 그대To Heart,,01.27,,To Heart,,01.28,,To Heart,,01.31, ,환상속의 그대To Heart,,02.01,,To Heart NEW 8위,POST,02.02,,To Heart,,02.03,,To Heart,,02.04,,To Heart,,02.06,,To Heart,,02.07, ,To Heart,POST,02.08,,To Heart ▼ 10위,POST,02.09,,To Heart,,02.18,,To Heart,,02.22,,To Heart ▲ 9위,POST,02.23,,To Heart,,02.24,,To Heart,,02.25,, To Heart,,04.19,KCON 2018 JAPAN,To Heart,,'),\n",
              "  Document(metadata={'page_url': 'https://namu.wiki/w/프로미스나인', 'artist_info': 'FROMIS_9', 'toc_item': '로고', 'abs_page_toc_item': '특징/로고', 'parent_paper': ''}, page_content='page_content:  데뷔와 함께 공식 로고를 공개하고 해당 로고에 다양한 바리에이션을 줘서 활용하는 일반적인 아이돌 그룹과 달리, 무려 4년간 공식 로고 없이 매 음반의 컨셉과 맞춘 로고를 사용해 왔다. 그러다가 Midnight Guest 발매를 2주 앞둔 2021년 12월 29일 오후 9시에 새로운 공식 로고가 공개된 후에는 로고를 음반에 맞는 색상으로 변경하면서 사용 중이다. ,  fromis_9 (프로미스나인) Official Logo Film,   의 역대 로고,\\u2005데뷔 전유리구두To. Heart\\u2005To. DayFrom.9FUN FACTORYMy Little Society9 WAY TICKETTalk & TalkMidnight Guestfrom our Memento BoxUnlock My WorldSupersonic ,,,,\\u2005,,,데뷔 전,유리구두,To. Heart,\\u2005,,,,,To. Day,From.9,FUN FACTORY,My Little Society,,,,,,,,,9 WAY TICKET,Talk & Talk,Midnight Guest,from our Memento Box,,,,,,,,Unlock My World,Supersonic ,,, ,,,\\u2005,,,데뷔 전,유리구두,To. Heart,\\u2005,,,,,To. Day,From.9,FUN FACTORY,My Little Society,,,,,,,,,9 WAY TICKET,Talk & Talk,Midnight Guest,from our Memento Box,,,,,,,,Unlock My World,Supersonic ,,,'),\n",
              "  Document(metadata={'page_url': 'https://namu.wiki/w/프로미스나인', 'artist_info': 'FROMIS_9', 'toc_item': '배틀그라운드 모바일', 'abs_page_toc_item': '활동/광고 및 화보//광고/배틀그라운드 모바일', 'parent_paper': '광고 및 화보'}, page_content=\"page_content:   마이룸 BGM 콜라보 이벤트  ,,  퀵보이스 티저,,,,  잠시 고막 힐링하고 가실게요..💗,  쉿! 이틀 일찍 공개하는 대사들이에요💗,  안녕, 여러분의 비타민이 왔어요💗, ,,  프둥이들의 랜덤문답 챌린지🌸 | 프로미스나인's 저세상 밸런스 게임,  프둥이들의 랜덤문답 챌린지🌸 | 프로미스나인's 프망진창 밸런스 게임,\"),\n",
              "  Document(metadata={'page_url': 'https://namu.wiki/w/프로미스나인', 'artist_info': 'FROMIS_9', 'toc_item': '개요', 'abs_page_toc_item': '활동/Weverse//개요', 'parent_paper': 'Weverse'}, page_content='page_content: 대한민국의 8인조 걸그룹 프로미스나인의 Weverse 활동을 정리한 문서.'),\n",
              "  Document(metadata={'page_url': 'https://namu.wiki/w/프로미스나인', 'artist_info': 'FROMIS_9', 'toc_item': 'PROFILE', 'abs_page_toc_item': 'PROFILE', 'parent_paper': ''}, page_content='page_content: 프로미스나인fromis_9 · プロミスナイン,,프로미스나인fromis_9 · プロミスナイン,결성일,2017년9월 29일(#fn-1; 엠넷 아이돌학교 마지막 방송은 9월 29일에 시작되었지만 자정을 넘겨 데뷔 확정자 9명이 발표되었는데, 송하영 생일 기념 V LIVE에서 멤버들이 9월 29일이 결성일이라고 언급했다. 더불어 9월 29일은 송하영의 생일인 만큼 그야말로 엄청난 생일선물을 받은 셈.)(결성일로부터+2507일, 6주년)(#fn-2; 아이돌학교로부터 일, 주년)데뷔일,2018년 1월 24일(데뷔일로부터 +2390일, 6주년),데뷔 음반,EP 1집 To. HeartTo. HeartTo. Heart,장르,K-POP, 댄스, 발라드, 어쿠스틱,캡틴,이새롬,소속사,플레디스 엔터테인먼트(#fn-3; 데뷔 당시에는 CJ ENM 소속이었으나 매니지먼트와 프로듀싱은 처음부터 플레디스에서 담당하고 있었다. 다만 CJ에서 탄생한 그룹인 만큼 어느 정도의 영향력을 위해 이전과 같은 형태를 유지하다가, 2021년 하반기를 기점으로 프로미스나인에 대한 권한을 플레디스에 완전히 위임하였다.#)(#fn-4; 추후 밝혀진 바로는 장규리를 제외한 8인은 2021년에 아예 새롭게 전속계약을 체결했다고 한다. 정확한 기간은 알 수 없지만, 이름만 바뀐거나 다름 없었던 스톤뮤직->오프더레코드 때와는 달리 일종의 이른 재계약을 한셈.) [ 이전 소속사 펼치기 · 접기 ]스톤뮤직엔터테인먼트 (2017. 09. 29. ~ 2018. 09. 21.)오프더레코드엔터테인먼트 (2018. 09. 21. ~ 2021. 08. 16.),레이블,HYBE LABELS,유통사,YG PLUS,팬덤,flover(플로버)flover(플로버)flover(플로버) ,flover(플로버)flover(플로버)flover(플로버),응원봉,플로봉,공식사이트, 대한민국 행정구 속령,, 일본 행정구 속령,,링크,⠀[ 펼치기 · 접기 ]대한민국행정구속령｜｜｜｜｜f9｜PD｜｜(#fn-5; 현재는 위버스로 통합되었지만 아카이브에 기존 영상들이 남아있다.)일본행정구속령｜｜중국행정구속령｜ 대한민국 행정구 속령,｜｜｜｜｜,f9｜PD｜｜(#fn-5; 현재는 위버스로 통합되었지만 아카이브에 기존 영상들이 남아있다.) 일본 행정구 속령,｜｜, 중국 행정구 속령,｜,'),\n",
              "  Document(metadata={'page_url': 'https://namu.wiki/w/프로미스나인', 'artist_info': 'FROMIS_9', 'toc_item': '티저', 'abs_page_toc_item': '팬덤/굿즈//시즌 그리팅/2023/티저', 'parent_paper': '굿즈'}, page_content=\"page_content:  2023 SEASON'S GREETINGS MOOD TEASER,, 2023 SEASON'S GREETINGS MOOD TEASER (Shorts Ver.),,\"),\n",
              "  Document(metadata={'page_url': 'https://namu.wiki/w/프로미스나인', 'artist_info': 'FROMIS_9', 'toc_item': '개요', 'abs_page_toc_item': '활동/광고 및 화보//개요', 'parent_paper': '광고 및 화보'}, page_content='page_content: 대한민국의 8인조 걸그룹 프로미스나인의 광고, 홍보 및 화보 활동을 정리한 문서.'),\n",
              "  Document(metadata={'page_url': 'https://namu.wiki/w/프로미스나인', 'artist_info': 'FROMIS_9', 'toc_item': 'Behind Sketch', 'abs_page_toc_item': '활동/Weverse//Behind Sketch', 'parent_paper': 'Weverse'}, page_content=\"page_content:  날짜,제목,비고,09.22,  <CHANNEL_9 Behind> EP1-2 Behind Photo Sketch,,  <CHANNEL_9 Behind> EP3-5 Behind Photo Sketch,,10.13,  <CHANNEL_9 Behind> EP6-8 Behind Photo Sketch,,11.03,  <CHANNEL_9 Behind> EP9-11 Behind Photo Sketch,,11.24,  <CHANNEL_9 Behind> EP12-14 Behind Photo Sketch,,12.08,  <CHANNEL_9 Behind> EP15-16 Behind Photo Sketch,,12.22,  <CHANNEL_9 Behind> EP17-18 Behind Photo Sketch,, 날짜,제목,비고,01.05,  <CHANNEL_9 Behind> EP19-20 Behind Photo Sketch,,01.09,  ‘Midnight Guest’ Talk Show Behind Sketch,,01.16,  ‘Welcome to f9 Home shopping’ Behind Sketch,,01.16,  ‘Welcome to f9 Home shopping’ Behind Sketch,,01.25,  #FFFF : fromis_9 film for flover,,01.27,  fromis_9 ‘DM’ MV Behind Sketch,,02.02,  Blessing to flover in new year🍀,,02.08,  'DM' Performance Video Behind Sketch,,02.12,  'Midnight Guest' Behind Sketch 1 : Showcase,,02.22,  'Midnight Guest' Behind Sketch 2 : DM,,02.27,  'Midnight Guest' Behind Sketch 3 : Escape Room,,03.13,  'Escape Room' Performance Video Behind Sketch,,03.16,  <CHANNEL_9> EP21-23 Behind Photo Sketch,,03.30,  <CHANNEL_9> EP24-25 Behind Photo Sketch,,04.02,  편안한 밤 지금, 지선입니다🎧 ‘편.지.지’ Behind Sketch,,04.20,  <CHANNEL_9> EP26-28 Behind Photo Sketch,,05.01,  2022 <fromis day> Behind Sketch 1,,05.09,  2022 <fromis day> Behind Sketch 2,,05.11,  <CHANNEL_9> EP29-31 Behind Photo Sketch,,05.17,  2022 <fromis day> Behind Sketch 3,,05.22,  2022 <fromis day> Behind Sketch 4,,06.02,  <CHANNEL_9> EP32-34 Behind Photo Sketch,,07.05,  <CHANNEL_9> Spin-Off Behind Photo Sketch,,07.19,  ‘Stay This Way’ Performance Video Behind Sketch,,07.21,  #FFFF : fromis_9 ‘from our Memento Box’ Behind,,07.31,  '출장 십오야2 X 하이브' Behind Sketch,,08.03,  ‘Stay This Way’ Behind Sketch 1,,08.07,  ‘Stay This Way’ Behind Sketch 2,,08.31,  <CHANNEL_9> EP35-38 Behind Photo Sketch,,10.19,  <CHANNEL_9> EP39-45 Behind Photo Sketch,,10.25,  2022 <LOVE FROM.> Behind Sketch 1,,10.26,  2022 <LOVE FROM.> Behind Sketch 2,,11.09,  2022 <LOVE FROM.> Behind Sketch 3,,11.16,  <CHANNEL_9> EP46-48 Behind Photo Sketch,,11.30,  <CHANNEL_9> EP49-50 Behind Photo Sketch,,12.25,  2022 Holiday content Behind Photo Sketch,,\"),\n",
              "  Document(metadata={'page_url': 'https://namu.wiki/w/프로미스나인', 'artist_info': 'FROMIS_9', 'toc_item': '멤버', 'abs_page_toc_item': '멤버', 'parent_paper': ''}, page_content='page_content: 해당 멤버별 포지션의 경우 공식 일본 웹사이트를 근거로 서술되었으나 노지선의 언급에 의하면 캡틴(리더)외 포지션을 나눠본 적이 없다고 한다. 그나마 멤버들이 확실히 인지하고 있는 포지션은 캡틴(이새롬), 부캡틴(송하영)(#fn-8; 데뷔 쇼케이스 당일에 V LIVE에서 공개된 공식 포지션이다. 새롬이 휴식기를 갖고 있을때 하영이가 캡틴 대행을 맡기도 했다.), 메인보컬(박지원, 송하영)(#fn-9; 오프더레코드 시절 발매한 FUN FACTORY 키트앨범에서 두 메인보컬이라고 밝힌바 있고 멤버들도 직접 언급했다.)과 메인댄서(이서연, 송하영)(#fn-10; 혀니콤보에 출연했을때 멤버들이 서연, 하영을 메댄이라 불렀다.)뿐이다.  ,,,,,이새롬,송하영,박지원,노지선,1997. 01. 07. (27세), 대한민국 행정구 속령,캡틴서브보컬,1997. 09. 29. (26세), 대한민국 행정구 속령,메인보컬메인댄서,1998. 03. 20. (26세), 대한민국 행정구 속령,메인보컬,1998. 11. 23. (25세), 대한민국 행정구 속령,서브보컬,,,,,이서연,이채영,이나경,백지헌,2000. 01. 22. (24세), 대한민국 행정구 속령,메인댄서리드보컬,2000. 05. 14. (24세), 대한민국 행정구 속령,서브보컬,2000. 06. 01. (24세), 대한민국 행정구 속령,서브보컬,2003. 04. 17. (21세), 대한민국 행정구 속령,서브보컬,'),\n",
              "  Document(metadata={'page_url': 'https://namu.wiki/w/프로미스나인', 'artist_info': 'FROMIS_9', 'toc_item': '개요', 'abs_page_toc_item': '논란 및 사건 사고//개요', 'parent_paper': '논란 및 사건 사고'}, page_content='page_content: 대한민국의 8인조 걸그룹 프로미스나인의 논란 및 사건 사고를 정리한 문서.'),\n",
              "  Document(metadata={'page_url': 'https://namu.wiki/w/프로미스나인', 'artist_info': 'FROMIS_9', 'toc_item': '콘텐츠', 'abs_page_toc_item': '활동/YouTube//콘텐츠', 'parent_paper': 'YouTube'}, page_content='page_content: 다음 문서로 대체 설명: https://namu.wiki/w/%ED%94%84%EB%A1%9C%EB%AF%B8%EC%8A%A4%EB%82%98%EC%9D%B8/%EC%BD%98%ED%85%90%EC%B8%A0'),\n",
              "  Document(metadata={'page_url': 'https://namu.wiki/w/프로미스나인', 'artist_info': 'FROMIS_9', 'toc_item': '선공개 싱글 《유리구두》 (2017. 11. 30.)', 'abs_page_toc_item': '활동/음악 방송/무대 의상//무대 의상/선공개 싱글 《유리구두》 (2017. 11. 30.)', 'parent_paper': '무대 의상'}, page_content='page_content:   Pre-debut Single 유리구두,,,,,,TITLE유리구두, 2017. 11. 29.,TITLE유리구두, 2017. 12. 15.,TITLE유리구두, 2017. 12. 21.,TITLE유리구두, 2017. 12. 22.,TITLE유리구두, 2017. 12. 23.,'),\n",
              "  Document(metadata={'page_url': 'https://namu.wiki/w/프로미스나인', 'artist_info': 'FROMIS_9', 'toc_item': '선공개 싱글 《유리구두》', 'abs_page_toc_item': '음반//국내 음반/싱글/선공개 싱글 《유리구두》', 'parent_paper': '음반'}, page_content='page_content: 다음 문서로 대체 설명: https://namu.wiki/w/%EC%9C%A0%EB%A6%AC%EA%B5%AC%EB%91%90(%ED%94%84%EB%A1%9C%EB%AF%B8%EC%8A%A4%EB%82%98%EC%9D%B8)'),\n",
              "  Document(metadata={'page_url': 'https://namu.wiki/w/프로미스나인', 'artist_info': 'FROMIS_9', 'toc_item': '티저', 'abs_page_toc_item': '팬덤/굿즈//시즌 그리팅/2024/티저', 'parent_paper': '굿즈'}, page_content=\"page_content:  2024 SEASON'S GREETINGS MOOD TEASER,,\"),\n",
              "  Document(metadata={'page_url': 'https://namu.wiki/w/프로미스나인', 'artist_info': 'FROMIS_9', 'toc_item': '개요', 'abs_page_toc_item': '음반//개요', 'parent_paper': '음반'}, page_content='page_content: 대한민국의 8인조 걸그룹 프로미스나인의 발매 음반을 정리한 문서.'),\n",
              "  Document(metadata={'page_url': 'https://namu.wiki/w/프로미스나인', 'artist_info': 'FROMIS_9', 'toc_item': '누적', 'abs_page_toc_item': '수상 경력//음악 방송 1위/누적', 'parent_paper': '수상 경력'}, page_content='page_content:   음악 방송별 1위 기록 by fromis_9,방송 프로그램,1위 횟수,트리플 크라운 횟수,,4회,-,,2회,-,,1회,-,,1회,-,,1회,-,,-,-,합계,9회,-,'),\n",
              "  Document(metadata={'page_url': 'https://namu.wiki/w/프로미스나인', 'artist_info': 'FROMIS_9', 'toc_item': '사라진 케미', 'abs_page_toc_item': '멤버/멤버 간 케미//목록/사라진 케미', 'parent_paper': '멤버 간 케미'}, page_content=\"page_content: 구로미스 - 새롬 & 하영 & 규리 & 지원 & 지선 & 서연 & 채영 & 나경 & 지헌9인조 완전체 상태의 프로미스나인을 일컫는 말.  하규영 (♥) - 송하영 & 장규리 & 이채영하영, 규리, 채영의 한글자씩 따서 지어졌다. 2018년 2월 17일 설날특집 윶놀이 대회에서 결성되었다. 이후 윶돌이 대회에서 우승해 1등 상품으로 제작진이 준비한 캠핑에서 다시 한번 돈독한 케미를 과시했다.셋이서 한쪽 팔을 '一'자로 만든 후 각자 본인 이름의 한글자인 '하규영'을 외치며 물결을 타는 시그니처 포즈가 있다.  구칠즈 (♥) - 이새롬 & 송하영 & 장규리세 사람은 1997년 출생 동갑내기로 아이돌 학교 장규리의 셀프캠을 통해 처음으로 집중조명되었다. 세 사람 모두 눈물이 많은 탓에 구찔즈라고도 불린다. 냥꼬리 - 송하영 & 장규리 & 이나경하냥(하영), 나꼬(나경), 규리의 한글자씩 따서 지어졌다. 2022년 1월 9일, Midnight Guest 토크쇼에서 세명의 조합으로 출연했다. 노잼즈 - 이새롬 & 노지선 & 장규리2019년 2월 14, V LIVE에서 처음으로 붙혀졌다. 다만 2021년에 들어서 노지선이 프로미스나인 내에 예능 유망주로 부상하며 해당 케미도 자연스레 잊혀지는듯 하다.  장신즈(♥) - 장규리 & 이채영프로미스나인 최장신 멤버들을 일컫는 말로 '트윈타워'라고도 불린다. '안정즈'와 달리 별 다른 별명이 없다가 2018년 3월 5일 V LIVE를 둘이 같이 하면서 붙혀졌다.늘 조용히 멤버들은 관망하는 장규리더라도 이채영에게 휘둘리거나 감화되어 LIVE 에서 본의 아니게 폭주하기도 한다. 2020년 12월 12일 V LIVE가 방울 토크로 다시보기가 삭제된것만해도 짐작할수있다.  일찍 자요즈(♥) - 장규리 & 백지헌2019년 기준 옛 숙소의 1층 2인실 룸메이트 조합이다. 당시 둘 모두 학업을 병행해서인지 생활 패턴이 비슷해 채널나인 In The HOUSE '룸메이트와 산다 Part.3에서 같은 1층을 쓰는 삐융즈가 일찍 잔다는 의미로 지어줬다.  부부즈(♥) - 장규리 & 노지선노귤부부 라고도 불린다. 2017년 기준 옛 숙소의 1층 2인실 룸메이트 조합으로 프로미스의 방 2017년 11월 16일 방영분에서 둘이 룸메이트로 결성됐는데 조용한 분위기에 털털하다 못해 덜렁이는 규리가 아빠를 매사에 꼼꼼한 지선이 엄마 역을 맡으면서 자연스레 부부 컨셉의 케미를 뽐냈다.2019년 백지헌의 고교 진학과 장규리의 대학교 복학이 동시에 이루어지면서 비슷하던 생활 패턴의 변화로 노지선이 2층에 있던 백지헌과 방을 바꾸게 되어 자연스럽게 해체됐다. \"),\n",
              "  Document(metadata={'page_url': 'https://namu.wiki/w/프로미스나인', 'artist_info': 'FROMIS_9', 'toc_item': '정규 1집 《Unlock My World》 (2023. 06. 05.)', 'abs_page_toc_item': '활동/음악 방송/무대 의상//무대 의상/정규 1집 《Unlock My World》 (2023. 06. 05.)', 'parent_paper': '무대 의상'}, page_content='page_content:  ,,,,,,TITLE#menow, 2023. 06. 08.,SUBAttitude, 2023. 06. 08.,SUBAttitude, 2023. 06. 09.,TITLE#menow, 2023. 06. 09.,SUBBlind Letter, 2023. 06. 10.,,,,,,TITLE#menow, 2023. 06. 10.,TITLE#menow, 2023. 06. 11.,SUBAttitude, 2023. 06. 13.,TITLE#menow, 2023. 06. 13.,SUBAttitude, 2023. 06. 14.,,,,,,TITLE#menow, 2023. 06. 16.,TITLE#menow, 2023. 06. 18.,TITLE#menow, 2023. 06. 20.,TITLE#menow, 2023. 06. 21.,TITLE#menow, 2023. 06. 22.,,, , , ,TITLE#menow, 2023. 06. 23.,TITLE#menow, 2023. 06. 25.,'),\n",
              "  Document(metadata={'page_url': 'https://namu.wiki/w/프로미스나인', 'artist_info': 'FROMIS_9', 'toc_item': '목록', 'abs_page_toc_item': '멤버/멤버 간 케미//목록', 'parent_paper': '멤버 간 케미'}, page_content='page_content:  가나다 순으로 정렬. 프로미스나인 멤버 본인들이 만들거나 팬들의 언급에 호응하여 공식적으로 밝힌 케미는 (♥) 로 표시.,'),\n",
              "  Document(metadata={'page_url': 'https://namu.wiki/w/프로미스나인', 'artist_info': 'FROMIS_9', 'toc_item': '음악 방송', 'abs_page_toc_item': '활동//방송 활동/음악 방송', 'parent_paper': '활동'}, page_content='page_content: 다음 문서로 대체 설명: https://namu.wiki/w/%ED%94%84%EB%A1%9C%EB%AF%B8%EC%8A%A4%EB%82%98%EC%9D%B8/%EC%9D%8C%EC%95%85%20%EB%B0%A9%EC%86%A1'),\n",
              "  Document(metadata={'page_url': 'https://namu.wiki/w/프로미스나인', 'artist_info': 'FROMIS_9', 'toc_item': 'FOOTNOTES', 'abs_page_toc_item': '멤버/멤버 간 케미//FOOTNOTES', 'parent_paper': '멤버 간 케미'}, page_content='page_content: [1] ex.성인즈, 등본즈 등[2] ex.카페갬성즈, 선물 등[3] 만일 단체로 요리를 해야할 시 자연스레 이 둘이 프나의 컨트롤 타워가 되며 잠깐이라도 자리를 비울 시 단체 요리를 진행하지 못한다.[4] 모모랜드와 다르게 멤버가 졸업하는 상황이 아니라서 9명이 다 오기에는 너무 많다고 판단하여 한림즈 3명만 졸업식에 갔다.[5] 멤버 규리의 계약 해지로 인함'),\n",
              "  Document(metadata={'page_url': 'https://namu.wiki/w/프로미스나인', 'artist_info': 'FROMIS_9', 'toc_item': '미니 4집 《Midnight Guest》 (2022. 01. 17.)', 'abs_page_toc_item': '활동/음악 방송//2022년/미니 4집 《Midnight Guest》 (2022. 01. 17.)', 'parent_paper': '음악 방송'}, page_content='page_content: 활동곡 : DM  날짜,방송 프로그램,무대 영상,비고, The 4th Mini Album Midnight Guest,01.19, ,Escape RoomDM,POST,01.20,,Escape RoomDM,POST,01.21,,DM,,01.23,,DM,,01.23,,WE GODM,,01.25, ,Escape RoomDM NEW 1위DM 앵콜 무대,,01.26, ,DM NEW 1위,쇼챔피언 첫 1위,01.27,,DM NEW 3위,POST,01.28,,Escape RoomDM NEW 3위,,01.30,,DM NEW 5위,,06.24,,Feel My Rhythm (원곡: Red Velvet),SPECIAL STAGE,06.25,,선택 (원곡: 백지영),개인 활동에 의한 장규리 불참,'),\n",
              "  Document(metadata={'page_url': 'https://namu.wiki/w/프로미스나인', 'artist_info': 'FROMIS_9', 'toc_item': '개요', 'abs_page_toc_item': '활동/YouTube//개요', 'parent_paper': 'YouTube'}, page_content='page_content: 대한민국의 8인조 걸그룹 프로미스나인의 공식 및 타 YouTube 채널의 활동을 정리한 문서.'),\n",
              "  Document(metadata={'page_url': 'https://namu.wiki/w/프로미스나인', 'artist_info': 'FROMIS_9', 'toc_item': 'FOOTNOTES', 'abs_page_toc_item': '활동/YouTube//FOOTNOTES', 'parent_paper': 'YouTube'}, page_content='page_content: [1] 2022년 8월 31일부로 콘텐츠의 업로드 중단 및 본 채널과 통합 운영[2] 이새롬은 눈다래끼로 불참.[3] 인원이 워낙 많다보니 식사는 3명씩 (이새롬&송하영&백지헌, 박지원&노지선&이서연, 장규리&이채영&이나경) 나눠서 했다. 메뉴는 엽떡.[4] 컨디션 난조로 불참한 정오의 희망곡 직후 녹화 추정[5] 자막 오타로 인해 재업로드[6] 출연 순서 순'),\n",
              "  Document(metadata={'page_url': 'https://namu.wiki/w/프로미스나인', 'artist_info': 'FROMIS_9', 'toc_item': '개요', 'abs_page_toc_item': '개요', 'parent_paper': ''}, page_content='page_content: 인사드리겠습니다. 둘, 셋!(이제는 약속해 소중히 간직해, 당신의 아이돌로 성장하겠습니다!)(#fn-6; My Little Society 활동 이후로 해당 부분은 생략하고 있다. 오랜 팬들은 뒷부분은 빼더라도 앞부분까지는 해주길 바란다는 의견도 있으나, 내부적으로 인사법을 아예 하지 않기로 결정한 듯하다.)안녕하세요, 프로미스나인입니다!엠넷의 《아이돌학교》에서 선발되어2018년1월 24일데뷔한플레디스 엔터테인먼트소속 8인조걸그룹.(#fn-7; 데뷔 당시에는 CJ ENM 소속으로 9인조였으나, 2021년 플레디스로 이관되고 2022년 8월 1일 멤버 장규리의 탈퇴로 8인조로의 재편을 거쳤다.)'),\n",
              "  Document(metadata={'page_url': 'https://namu.wiki/w/프로미스나인', 'artist_info': 'FROMIS_9', 'toc_item': '2017년', 'abs_page_toc_item': '활동/광고 및 화보//화보/2017년', 'parent_paper': '광고 및 화보'}, page_content='page_content:  ,,,,, ,, ,,송하영,노지선,'),\n",
              "  Document(metadata={'page_url': 'https://namu.wiki/w/프로미스나인', 'artist_info': 'FROMIS_9', 'toc_item': 'PROFILE', 'abs_page_toc_item': '팬덤//PROFILE', 'parent_paper': '팬덤'}, page_content='page_content: 플로버,,프로미스나인의 팬덤,'),\n",
              "  Document(metadata={'page_url': 'https://namu.wiki/w/프로미스나인', 'artist_info': 'FROMIS_9', 'toc_item': '싱글 2집 《9 WAY TICKET》 (2021. 05. 17.)', 'abs_page_toc_item': '활동/음악 방송//2021년/싱글 2집 《9 WAY TICKET》 (2021. 05. 17.)', 'parent_paper': '음악 방송'}, page_content='page_content: 활동곡 : WE GO  날짜,방송 프로그램,무대 영상,비고,04.17,해군 제2함대사령부, Feel Good (SECRET CODE)｜두근두근 (DKDK),, The 2nd Single Album 9 WAY TICKET,05.20,,WE GO,POST,05.22,,WE GO,POST,05.23,,WE GO,,05.25, ,WE GO NEW 2위,,05.26, ,WE GO NEW 5위,POST,05.27,,WE GO NEW 5위,POST,05.28,,WE GO,,05.29,,WE GO NEW 13위,,05.30,,WE GO,,06.01, ,WE GO 2위,,06.02, ,WE GO ▼ 8위,,06.03,,WE GO ▼ 6위,POST,06.04,,WE GO NEW 33위,,06.05,CON-TOUR 베트남편,WE GO,,06.05,,WE GO ▼ 20위,,06.06,,WE GO,,'),\n",
              "  Document(metadata={'page_url': 'https://namu.wiki/w/프로미스나인', 'artist_info': 'FROMIS_9', 'toc_item': 'FOOTNOTES', 'abs_page_toc_item': '활동/음악 방송//FOOTNOTES', 'parent_paper': '음악 방송'}, page_content='page_content: [편집] TV 방영분에서는 LOVE BOMB 무대가 편집되어 방송됐다.'),\n",
              "  Document(metadata={'page_url': 'https://namu.wiki/w/프로미스나인', 'artist_info': 'FROMIS_9', 'toc_item': '미니 4집 《Midnight Guest》', 'abs_page_toc_item': '음반//국내 음반/EP/미니 4집 《Midnight Guest》', 'parent_paper': '음반'}, page_content='page_content: 다음 문서로 대체 설명: https://namu.wiki/w/Midnight%20Guest'),\n",
              "  Document(metadata={'page_url': 'https://namu.wiki/w/프로미스나인', 'artist_info': 'FROMIS_9', 'toc_item': '2023년', 'abs_page_toc_item': '활동/광고 및 화보//광고/서든어택/2023년', 'parent_paper': '광고 및 화보'}, page_content='page_content: ,,,,이새롬,송하영,박지원,노지선,,,,,이서연,이채영,이나경,백지헌,'),\n",
              "  Document(metadata={'page_url': 'https://namu.wiki/w/프로미스나인', 'artist_info': 'FROMIS_9', 'toc_item': '미니 1집 《To. Heart》', 'abs_page_toc_item': '음반//국내 음반/EP/미니 1집 《To. Heart》', 'parent_paper': '음반'}, page_content='page_content: 다음 문서로 대체 설명: https://namu.wiki/w/To.%20Heart'),\n",
              "  Document(metadata={'page_url': 'https://namu.wiki/w/프로미스나인', 'artist_info': 'FROMIS_9', 'toc_item': '화보', 'abs_page_toc_item': '활동/광고 및 화보//화보', 'parent_paper': '광고 및 화보'}, page_content='page_content:  Magazine by fromis_9,발행일,잡지명 (호수),촬영 멤버,비고,2017년,12.06, 대한민국 행정구 속령 (12월호 수록),전원,,12.18, 대한민국 행정구 속령 (2018년 1월호 수록),,2018년,07.01, 대한민국 행정구 속령 (7월호 수록),전원,,10.18, 대한민국 행정구 속령 (11월호 수록),,10.19, 대한민국 행정구 속령 (디지털 화보),,2019년,06.26, 대한민국 행정구 속령 (7월호 수록),장규리,,10.02, 일본 행정구 속령 K-POP(vol.8 수록),전원,,10.18, 일본 행정구 속령 (11월호 수록),,10.19, 일본 행정구 속령 (12월호 수록),,10.21, 일본 행정구 속령 (12월호 수록),,11.01, 일본 행정구 속령 (12월호 수록),,11.25, 대한민국 행정구 속령 (12월호 수록),이새롬,,2021년,05.04, 대한민국 행정구 속령 (5월호 커버),이새롬, 장규리, 박지원,노지선, 이서연,,06.22, 대한민국 행정구 속령 (디지털 화보),전원,,10.18~10.20, 대한민국 행정구 속령 (디지털 화보),,2022년,01.21, 대한민국 행정구 속령 (2월호 수록),백지헌,,01.25~01.28, 대한민국 행정구 속령 (디지털 화보),전원,03.21, 대한민국 행정구 속령 (4월호 수록),백지헌 외 전원,2023년,07.03, 대한민국 행정구 속령 (7월호 수록),전원,2024년,07.22, 대한민국 행정구 속령 (8월호 수록),전원,,'),\n",
              "  Document(metadata={'page_url': 'https://namu.wiki/w/프로미스나인', 'artist_info': 'FROMIS_9', 'toc_item': '스페셜 싱글 《Talk & Talk》', 'abs_page_toc_item': '음반//국내 음반/싱글/스페셜 싱글 《Talk & Talk》', 'parent_paper': '음반'}, page_content='page_content: 다음 문서로 대체 설명: https://namu.wiki/w/Talk%20%26%20Talk'),\n",
              "  Document(metadata={'page_url': 'https://namu.wiki/w/프로미스나인', 'artist_info': 'FROMIS_9', 'toc_item': '정규 1집 《Unlock My World》', 'abs_page_toc_item': '음반//국내 음반/정규/정규 1집 《Unlock My World》', 'parent_paper': '음반'}, page_content='page_content: 다음 문서로 대체 설명: https://namu.wiki/w/Unlock%20My%20World'),\n",
              "  Document(metadata={'page_url': 'https://namu.wiki/w/프로미스나인', 'artist_info': 'FROMIS_9', 'toc_item': 'YouTube', 'abs_page_toc_item': '활동//SNS 활동/YouTube', 'parent_paper': '활동'}, page_content='page_content: 다음 문서로 대체 설명: https://namu.wiki/w/%ED%94%84%EB%A1%9C%EB%AF%B8%EC%8A%A4%EB%82%98%EC%9D%B8/%EC%9C%A0%ED%8A%9C%EB%B8%8C'),\n",
              "  Document(metadata={'page_url': 'https://namu.wiki/w/프로미스나인', 'artist_info': 'FROMIS_9', 'toc_item': '응원법', 'abs_page_toc_item': '팬덤//응원법', 'parent_paper': '팬덤'}, page_content='page_content: 다음 문서로 대체 설명: https://namu.wiki/w/%ED%94%84%EB%A1%9C%EB%AF%B8%EC%8A%A4%EB%82%98%EC%9D%B8/%EC%9D%91%EC%9B%90%EB%B2%95'),\n",
              "  Document(metadata={'page_url': 'https://namu.wiki/w/프로미스나인', 'artist_info': 'FROMIS_9', 'toc_item': '미니 4집 Midnight Guest 굿즈', 'abs_page_toc_item': '팬덤/굿즈//앨범 관련 굿즈/미니 4집 Midnight Guest 굿즈', 'parent_paper': '굿즈'}, page_content='page_content:    ,  , ,'),\n",
              "  Document(metadata={'page_url': 'https://namu.wiki/w/프로미스나인', 'artist_info': 'FROMIS_9', 'toc_item': 'FOOTNOTES', 'abs_page_toc_item': '수상 경력//FOOTNOTES', 'parent_paper': '수상 경력'}, page_content='page_content: [1] 4640(음원•음반 점수) + 2830(동영상•방송 사전 투표) + 1000(실시간 투표)[2] 5000(음원•음반 점수) + 2990(동영상•방송 사전 투표) + 363(실시간 투표)[3] 1391(음원) + 1500(음반) + 1751(글로벌 팬 투표) + 1000(SNS) + 2000(방송 점수)[4] 5000(음원•음반 점수) + 2270(동영상•방송 사전 투표) + 1000(실시간 투표)[5] 2834(음원) + 1500(음반) + 1891(글로벌 팬 투표) + 465(SNS) + 2000(방송 점수)[6] 5000(음원) + 1500(음반) + 755(글로벌 팬 투표) + 1500(SNS) + 781(방송 점수)[7] 448(음원) + 5906(방송 점수) + 0(시청자 선호도) + 2021(음반) + 3(소셜 미디어)[8] 6000(음원•음반) + 765(동영상•방송) + 573(사전 투표) + 904(생방송 투표)[9] 4460(음원•음반 점수) + 3240(동영상•방송 사전 투표) + 1000(실시간 투표)'),\n",
              "  Document(metadata={'page_url': 'https://namu.wiki/w/프로미스나인', 'artist_info': 'FROMIS_9', 'toc_item': '스페셜 싱글 《Talk & Talk》 (2021. 09. 01.)', 'abs_page_toc_item': '활동/음악 방송/무대 의상//무대 의상/스페셜 싱글 《Talk & Talk》 (2021. 09. 01.)', 'parent_paper': '무대 의상'}, page_content='page_content:   Special Single Album Talk & Talk,,,,,,TITLETalk & Talk, 2021. 09. 02.,TITLETalk & Talk, 2021. 09. 03.,TITLETalk & Talk, 2021. 09. 05.,TITLETalk & Talk, 2021. 09. 07.,TITLETalk & Talk, 2021. 09. 08.,,,,,,TITLETalk & Talk, 2021. 09. 09.,TITLETalk & Talk, 2021. 09. 10.,TITLETalk & Talk, 2021. 09. 11.,TITLETalk & Talk, 2021. 09. 12.,TITLETalk & Talk, 2021. 09. 14.,,> -,,> -,,TITLETalk & Talk, 2021. 09. 16.,TITLETalk & Talk, 2021. 09. 17.,TITLETalk & Talk, 2021. 09. 18.,-WE GO, 2021. 09. 18.,TITLETalk & Talk, 2021. 09. 19.,,,> -,TITLETalk & Talk, 2021. 10. 17.,COVER난 사랑을 아직 몰라, 2021. 11. 20.,TITLETalk & Talk, 2021. 12. 04.,'),\n",
              "  Document(metadata={'page_url': 'https://namu.wiki/w/프로미스나인', 'artist_info': 'FROMIS_9', 'toc_item': 'TV 방송', 'abs_page_toc_item': '활동//방송 활동/TV 방송', 'parent_paper': '활동'}, page_content='page_content: 다음 문서로 대체 설명: https://namu.wiki/w/%ED%94%84%EB%A1%9C%EB%AF%B8%EC%8A%A4%EB%82%98%EC%9D%B8/TV%20%EB%B0%A9%EC%86%A1'),\n",
              "  Document(metadata={'page_url': 'https://namu.wiki/w/프로미스나인', 'artist_info': 'FROMIS_9', 'toc_item': '미니 5집 《from our Memento Box》', 'abs_page_toc_item': '음반//국내 음반/EP/미니 5집 《from our Memento Box》', 'parent_paper': '음반'}, page_content='page_content: 다음 문서로 대체 설명: https://namu.wiki/w/from%20our%20Memento%20Box'),\n",
              "  Document(metadata={'page_url': 'https://namu.wiki/w/프로미스나인', 'artist_info': 'FROMIS_9', 'toc_item': 'FOOTNOTES', 'abs_page_toc_item': '팬덤//FOOTNOTES', 'parent_paper': '팬덤'}, page_content=\"page_content: [1] 서바이벌 프로그램 출신이라는 점 때문에 프로미스나인은 아이오아이 - Wanna One - IZ*ONE처럼 활동 기간이 정해진 프로젝트 그룹이라는 오해를 종종 사곤 한다. 하지만 프로미스나인은 이들 그룹과는 달리 활동 기간이 따로 정해지지 않은 엄연한 정규 걸그룹이다.[2] 이 중 이새롬의 사행시가 가장 좋은 평가를 받았는데 그녀가 했던 4행시는 육: 육고기를 좋아한다 / 성: 성공하자 / 회: 횟집을 차리자 / 원: 원없이 먹자(...)[3] 이 두 회사는 SM, YG, JYP처럼 독립된 연예 기획사들이라기보다, CJ E&M이 만든 산하 자회사들이다. 그 때문에 프로미스나인의 소속사가 계약 해지 같은 과정 없이 중간에 바뀌는 일이 가능했던 것이다.[4] 미니 앨범 2집인 To. Day에 팬들에게 바치는 가사를 담은 노래인 'Clover'가 수록되면서 팬덤 이름이 이 Clover로 정해지거나 아니면 이와 연관된 이름이 될 것이라는 예측은 공공연하게 제기되긴 했다.[5] 근데 특이하게도 1월 1일 1시 24분, 한마디로 데뷔시(...)부터 공모를 받았다.[6] 타 기획사에서는 멤버십과 키트를 묶어 35000~40000원 정도의 가격에 판매하는 것이 일반적이다.[7] 공연 등에 참석하기 어려운 팬들에게는 직접 와닿게 느낄 수 있는 유일한 혜택이 멤버십 키트이다. 공식 팬클럽을 가입하면 키트와 실물 멤버십 카드를 제공한다는것은 업계의 오랜 관행이기도 하고…[8] 2018년 기준으로 모든 아이돌을 통틀어 V LIVE 방송 횟수 1위이다.[9] 서바이벌 프로그램으로 데뷔한 그룹의 팬덤 형성에 가장 중요한 것은 역시 프로그램의 시청률과 화제성이다. 이는 같은 엠넷의 방송인 프로듀스 101 시리즈의 결과만 봐도 알 수 있는 사실이다. 장규리가 프로듀스 48에 나간 것도 이와 무관하지 않다.[10] 프로듀스 48 마감 후 장규리가 복귀하여 낸 싱글의 판매기록과 그 전 음반의 판매기록을 보면, 팬층이 늘어난 것이 보인다. 또한 프로듀스 48 이후 처음으로 멜론에서 음원이 100위권에 차트 IN을 하는 기록을 세웠다.[11] 이쪽은 초창기에는 남팬이 더 많았으나 이후 여팬이 크게 늘어나면서 현재의 성비는 대략 3대 7 정도의 여초이다.[12] 이쪽은 컨셉 때문에 여팬이 압도적으로 많았지만 츄와 희진의 여러 방송 활동 등으로 남성 팬들이 크게 늘어나 현재의 성비는 대략 4대 6에서 5대 5 정도로 비슷해졌다.[13] 어느 정도냐면 국방TV에서 현역 군인들을 대상으로 추석 연휴에 보고 싶은 연예인을 설문조사 했는데 아이유와 에스파에 이어 3위를 차지했을 정도. 일반인들 사이에서 저 둘과 프로미스나인의 인지도 및 위상차이를 생각하면, 군대 내 인기는 그야말로 엄청나다고 할 수 있다. 유튜브 등 각종 커뮤니티에서 10년대 중반 군번의 최고 스타가 브레이브걸스라면, 18군번 이후의 최고 스타는 프로미스나인이라는 댓글을 심심찮게 찾아볼 수 있다. 군로버[14] 남성향과 여성향을 나누는 기준이 명확하지는 않으나, 해당 평론가는 걸크러시-틴 키치 등에 대비되는, 여성향 컨텐츠의 여집합이라고 정의했다.[15] LOVE BOMB, Feel Good 등 이전 활동곡도 해당 차트에서 상위권에 진입했었다.[16] 사실 일본의 K-POP 향유층은 극여초에 가깝다. 일본의 10~30대 여성들은 AKB, 노기 등으로 대표되는 자국의 걸그룹 문화에 굉장히 부정적이며, 반대로 일본 남성들은 문화적으로 굉장히 보수적인지라 타국 문화에 있어서도 배타적인 성향이 크기 때문.[17] Midnight Guest의 성공으로 10대 팬들의 유입이 많아지는 중. 뒤늦게 전성기를 맞은 셈. 프로미스나인을 몰랐던 사람들이 DM을 듣고, 이렇게 이쁜 애들이 왜 아직도 안 떴냐면서 아쉬움을 내뱉는 반면에, 프로미스나인을 예전부터 좋아했던 플로버들은 이제야 사람들이 프나를 알아준다며 기뻐하는 중.[18] Weverse에서 멤버들을 언니라 부르는 팬들을 많이 찾아볼 수 있는데, 이를 두고 군필 여고생(...)일 것이라고 말하는 팬들이 많다.[19] 대표적인 예시로 응원법 서프라이즈 몰카 영상으로, 공식 채널 영상보다 팬튜버의 2차 편집 영상의 조회수가 훨씬 높다. 또, WE GO 활동에서 백지헌이 안무를 바꿔서 추는 영상을 팬튜브에서 올린 것#이 무려 4백만이 넘는 조회수(2022년 9월 7일 기준 4,374,521회)를 기록하기도 했으며 백지헌 본인이 직접 그 영상을 보는 모습도 다른 영상#에서 확인할 수 있다.[20] 멤버들도 유튜브로 2차 창작물을 많이 보는데, 이채영은 썸네일이 못생겼으면 안본다고 한다..[21] 서로의 비하인드 컨텐츠 fm1.24, 에너지캠에 출연하거나 단체 회식을 한적도 있고 합동 브이라이브를 한적도 있으며 단체로 유기견 보호센터 봉사활동을 하기도 했었다. 하지만 2019년에 아이즈원이 많은 활동을 해외에서 진행하고 2020년부터는 실질적으로 소속사도 달라지면서 접점이 많이 줄어들었다. 물론 마리텔2에서 안유진의 빈자리를 송하영이 채우는 등 사소한 접점은 꾸준히 이어졌다.[22] 당시 기준 걸그룹 역사상 3번째로 오래 걸린 1위였기에 의미가 남다른 1위였다. 이때는 팬들뿐만 아니라 리더 권은비가 직접 축하 케이크까지 건넸다.[23] 프로미스나인의 위버스 라이브는 몰상식한 몇몇 악플러들이 입에 담지 못할 말들을 뱉어내는 경우가 많아 대부분 유료 멤버십에 가입한 사람들만 시청이 가능하게 설정하고 진행하는 경우가 많았으나 더 많은 플로버들과 소통하고 싶었던 이채영이 멤버십 온리가 아닌 전체 공개로 라이브를 시도했다가 수많은 악플 테러가 일어났으며 덕분에 큰 상처를 받은 채영이 눈물을 보이다 라이브를 급히 끈적이 있었다. 라이브를 보던 플로버들은 당연히 이 사태에 대해 극대노를 했었으며 새벽 시간대에 관련 커뮤니티들이 단체로 활활 타오르기도 했다. 미쳐 날뛰는 플로버들을 진정시키려고 당일 오전 4시에 지선이 위버스에 나타나기도 했다.[24] 새 앨범의 하라메에도 눈물과 감탄사가 난무하는 장문의 댓글을 남겼다[25] JYP엔터테인먼트 출신인 프니엘을 통해 당시 연습생이던 GOT7, TWICE 멤버들과 같이 소개를 받았다고 한다.\"),\n",
              "  Document(metadata={'page_url': 'https://namu.wiki/w/프로미스나인', 'artist_info': 'FROMIS_9', 'toc_item': '스페셜 싱글 《From.9》 (2018. 10. 10.)', 'abs_page_toc_item': '활동/음악 방송/무대 의상//무대 의상/스페셜 싱글 《From.9》 (2018. 10. 10.)', 'parent_paper': '무대 의상'}, page_content='page_content:   Special Single Album From.9,,,,,,TITLELOVE BOMB, 2018. 10. 10.,TITLELOVE BOMB, 2018. 10. 11.,TITLELOVE BOMB, 2018. 10. 12.,TITLELOVE BOMB, 2018. 10. 13.,TITLELOVE BOMB, 2018. 10. 14.,,,,,,TITLELOVE BOMB, 2018. 10. 16.,TITLELOVE BOMB, 2018. 10. 17.,TITLELOVE BOMB, 2018. 10. 18.,TITLELOVE BOMB, 2018. 10. 19.,TITLELOVE BOMB, 2018. 10. 20.,,,,,> -,TITLELOVE BOMB, 2018. 10. 21.,TITLELOVE BOMB, 2018. 10. 25.,COVERRed Light, 2018. 10. 25.,TITLELOVE BOMB, 2018. 10. 26.,TITLELOVE BOMB, 2018. 10. 27.,,,,,,TITLELOVE BOMB, 2018. 10. 28.,TITLELOVE BOMB, 2018. 10. 30.,TITLELOVE BOMB, 2018. 11. 01.,TITLELOVE BOMB, 2018. 11. 02.,TITLELOVE BOMB, 2018. 11. 02.,,,,,,TITLELOVE BOMB, 2018. 11. 08.,TITLELOVE BOMB, 2018. 11. 09.,TITLELOVE BOMB, 2018. 11. 09.,TITLELOVE BOMB, 2018. 11. 13.,TITLELOVE BOMB, 2018. 11. 14.,,,,,,TITLELOVE BOMB, 2018. 11. 15.,TITLELOVE BOMB, 2018. 11. 16.,TITLELOVE BOMB, 2018. 11. 28.,TITLELOVE BOMB｜두근두근, 2018. 12. 10.,COVERAll I Want For Christmas Is You, 2018. 12. 21.,,,,,,COVER다시 만난 세계, 2019. 01. 03.,TITLELOVE BOMB, 2019. 01. 06.,COVER다함께 차차차, 2019. 03. 23.,COVERLIKEY, 2019. 05. 30.,TITLELOVE BOMB, 2019. 05. 30.,'),\n",
              "  Document(metadata={'page_url': 'https://namu.wiki/w/프로미스나인', 'artist_info': 'FROMIS_9', 'toc_item': 'Weverse Magazine', 'abs_page_toc_item': '활동/Weverse//Weverse Magazine', 'parent_paper': 'Weverse'}, page_content='page_content:  날짜,분류,제목,멤버,비고,11.16,FEATURE,  아이돌이 산다, 아이돌의 삶을,-,, 날짜,분류,제목,멤버,비고,01.14,FEATURE,  프로미스나인의 ‘Channel_9’ 추천 에피소드 다섯,-,,01.24,INTERVIEW,  이나경 “지금도 최선을 다하면서 즐겨야겠다는 마음뿐이에요”,이나경,,  장규리 “작은 것들에서 행복을 찾기 시작했어요”,장규리,,01.25,  노지선 “참 다른 9명인데도 ‘함께’라는 말로 가고 있어요”,노지선,,  이새롬 “플로버분들을 지켜줄 만한 큰사람이 되고 싶고, 될 수 있지 않을까라는 생각을 하게 됐어요”,이새롬,,01.26,  박지원 “멤버들과 플로버와 함께 더 멀리 나아가고 싶어요”,박지원,,  이채영 “한참 부족해서 계속 열심히 성장해야 해요”,이채영,,01.27,  송하영 “제가 느낀 감정들을 다른 사람들이 느끼게 하고 싶어요”,송하영,,  이서연 “좋은 노래를 들려주고 싶어요”,이서연,,01.28,  백지헌 “스무 살의 첫 시작이니까, 제대로 해보려고요”,백지헌,,  프로미스나인 Other Cuts,전원,,02.07,PLAYLIST,  프로미스나인의 플레이리스트,,02.10,REVIEW,  프로미스나인, 약속의 원더랜드를 향하여,-,,06.28,FIRST+VIEW,  프로미스나인이 지킨 약속,,06.30,FEATURE,  스무 살, 백지헌의 대학 생활,백지헌,,07.06,  없는 게 없는 ‘자컨’의 정석, ‘Official fromis_9’,-,,07.18,PLAYLIST,  프로미스나인 플레이리스트,전원,,11.09,FEATURE,  프로미스나인 ‘LOVE FROM.’ 투어 리포트,-,,12.09,FEATURE,  2022 프로미스나인 MOMENT - 음악,-,,12.17,  2022 프로미스나인 MOMENT - 자체 콘텐츠,,12.24,  2022 프로미스나인 MOMENT - 퍼포먼스,,'),\n",
              "  Document(metadata={'page_url': 'https://namu.wiki/w/프로미스나인', 'artist_info': 'FROMIS_9', 'toc_item': '2022 🍔fromis Burger & Fries🍟', 'abs_page_toc_item': '팬덤//flover MEMBERSHIP/2022 🍔fromis Burger & Fries🍟', 'parent_paper': '팬덤'}, page_content='page_content: 2022년 3월 30일 무려 4년 2개월이라는 오랜 기다림 끝에 공식 팬클럽이 창단되었다.물론 팬들이 그토록 기다려오던 ‘1기’는 아니고, HYBE 및 위버스의 방침에 따라 상시가입제로 운영되며, 본인의 가입 날짜에 따라 1년씩 갱신하는 형태로 운영된다. 가격은 한국기준 22000원.가입혜택은 다음과 같다.다소 의아한 점은 멤버십 키트를 판매하지도, 추후 판매한다고 명시하지도 않고, 배송비 별도의 무료 웰컴기프트를 제공하고 있는데, 이는 상당히 이례적인 일이다.위버스 멤버십의 공통 가격인 22000원이라는 가입비 내에는 15000원이라는 저렴한 가격(#fn-6; 타 기획사에서는 멤버십과 키트를 묶어 35000~40000원 정도의 가격에 판매하는 것이 일반적이다.)에 푸짐한 멤버십 키트를 구매할 수 있는 혜택의 비중이 상당히 큰데(#fn-7; 공연 등에 참석하기 어려운 팬들에게는 직접 와닿게 느낄 수 있는 유일한 혜택이 멤버십 키트이다. 공식 팬클럽을 가입하면 키트와 실물 멤버십 카드를 제공한다는것은 업계의 오랜 관행이기도 하고…), 이를 포스트카드 9장으로 구성된 웰컴 기프트로 대체한 것에 대한 불만이 쏟아져 나왔다.하지만 3개월 동안 멤버십 회원들만 열람할 수 있는 컨텐츠가 쏟아져 나오기도 했고, 7월 경 실제 배송된 포스트카드의 퀄리티가 생각보다 훌륭하여, 오히려 혜자라는 쪽으로 여론이 기울었다. 여기에 포스트카드에 사용된 화보가 도저히 무료 기프트 촬영용이라고 생각할 수 없는 퀄리티의 화보인지라, 해당 화보를 활용한 화보집이나 멤버십 키트가 발매될 것이란 추측이 많아졌다.'),\n",
              "  Document(metadata={'page_url': 'https://namu.wiki/w/프로미스나인', 'artist_info': 'FROMIS_9', 'toc_item': '싱글 2집 《9 WAY TICKET》 (2021. 05. 17.)', 'abs_page_toc_item': '활동/음악 방송/무대 의상//무대 의상/싱글 2집 《9 WAY TICKET》 (2021. 05. 17.)', 'parent_paper': '무대 의상'}, page_content='page_content:   The 2nd Single Album 9 WAY TICKET,,,,,,TITLEWE GO, 2021. 05. 20.,TITLEWE GO, 2021. 05. 22.,TITLEWE GO, 2021. 05. 23.,TITLEWE GO, 2021. 05. 25.,TITLEWE GO, 2021. 05. 26.,,,,,,TITLEWE GO, 2021. 05. 27.,TITLEWE GO, 2021. 02. 28.,TITLEWE GO, 2021. 05. 29.,TITLEWE GO, 2021. 05. 30.,TITLEWE GO, 2021. 06. 01.,,,,,,TITLEWE GO, 2021. 06. 02.,TITLEWE GO, 2021. 06. 03.,TITLEWE GO, 2021. 06. 04.,TITLEWE GO, 2021. 06. 05.,TITLEWE GO, 2021. 06. 05.,,,TITLEWE GO, 2021. 06. 06.,TITLEWE GO, 2021. 06. 20.,'),\n",
              "  Document(metadata={'page_url': 'https://namu.wiki/w/프로미스나인', 'artist_info': 'FROMIS_9', 'toc_item': '역사', 'abs_page_toc_item': '팬덤//역사', 'parent_paper': '팬덤'}, page_content=\"page_content: 프로미스나인은엠넷의 아이돌 서바이벌 프로그램이었던아이돌학교에 지원한 참가자들 중 최종 순위 1위~9위에 뽑힌 참가자들로 구성된걸그룹이다.(#fn-1; 서바이벌 프로그램 출신이라는 점 때문에 프로미스나인은 아이오아이 - Wanna One - IZ*ONE처럼 활동 기간이 정해진 프로젝트 그룹이라는 오해를 종종 사곤 한다. 하지만 프로미스나인은 이들 그룹과는 달리 활동 기간이 따로 정해지지 않은 엄연한 정규 걸그룹이다.)이러한 컨셉을 가진 프로그램들의 원조격이라 할 수 있는프로듀스 101시리즈가 투표에 참여하는 팬들을 '국민 프로듀서'라는 이름으로 불렀듯아이돌학교도 투표에 참여하는 팬들을 '육성회원'이라는 이름으로 불렀다.그러나 최종 데뷔조가 정해지자 마자 팬덤의 공식 명칭이 정해졌던Wanna One,IZ*ONE과는 다르게, 아이돌학교 종영 후에도, 2018년에 들어와서도 멤버들은 팬을 '육성회원'이라고 지칭했다. 멤버들은크리스마스카드를 쓰면서도 '육성회원'이라는 용어를 썼고 V앱 라이브에서 육성회원으로 4행시까지 수 차례 했다.##(#fn-2; 이 중 이새롬의 사행시가 가장 좋은 평가를 받았는데 그녀가 했던 4행시는 육: 육고기를 좋아한다 / 성: 성공하자 / 회: 횟집을 차리자 / 원: 원없이 먹자(...))그러다가 공식 데뷔 및 활동을 시작한 이후로는 '팬 여러분'이라고만 지칭했고 데뷔한 지 1년이 되기 전까지 공식 팬덤명이 정해지지 않았다.데뷔 후 V앱 라이브에서 캡틴이새롬이 9명의 멤버와 팬들의 조합이라는 의미로 '9+', 또는 '꾸쁠이'라는 팬덤명을 제시한 적이 있다.#귀엽다는 반응도 많았지만 너무 특이해서 채택되지는 않은 듯.프로미스나인의 매니지먼트를 담당했던스톤뮤직-오프더레코드(#fn-3; 이 두 회사는 SM, YG, JYP처럼 독립된 연예 기획사들이라기보다, CJ E&M이 만든 산하 자회사들이다. 그 때문에 프로미스나인의 소속사가 계약 해지 같은 과정 없이 중간에 바뀌는 일이 가능했던 것이다.)도 상당 기간 팬덤 명칭에 관하여 말이 없었다. 이 때문에 1년간 선배 그룹인아이오아이의 경우처럼 팬덤명이 정해지지 않은 상태로 활동했었다.(#fn-4; 미니 앨범 2집인 To. Day에 팬들에게 바치는 가사를 담은 노래인 'Clover'가 수록되면서 팬덤 이름이 이 Clover로 정해지거나 아니면 이와 연관된 이름이 될 것이라는 예측은 공공연하게 제기되긴 했다.) 그런데 같은 회사의 매니지먼트를 받게 된IZ*ONE이프로미스나인보다 늦게 데뷔했음에도 데뷔 후 얼마 안 있어WIZ*ONE이라며 팬덤의 명칭을 결정짓자, 팬덤명을 빨리 만들어 달라고 하는프로미스나인팬들의 요구가 커지게 됐고, 때마침스톤뮤직의 뒤를 이어프로미스나인의 매니지먼트를 맡게 된 새 소속사오프더레코드에서 그간의 침묵을 깨고 2019년 1월 1일 공모를 받기 시작해(#fn-5; 근데 특이하게도 1월 1일 1시 24분, 한마디로 데뷔시(...)부터 공모를 받았다.)데뷔 1주년인 1월 24일V LIVE를 통해 마침내flover라는 이름이 세상의 빛을 보게 됐다.2022년 3월 30일, 공식 팬클럽 ‘flover MEMBERSHIP’ 상시 가입이 시작됐다. ,▲ 19.01.24 'fromis_9 데뷔 1주년 기념 V-LIVE' 中 ,\"),\n",
              "  Document(metadata={'page_url': 'https://namu.wiki/w/프로미스나인', 'artist_info': 'FROMIS_9', 'toc_item': 'Rewind', 'abs_page_toc_item': '팬덤/응원법//미니 5집 《from our Memento Box》/Rewind', 'parent_paper': '응원법'}, page_content='page_content: Rewind Rewind Rewind Rewind '),\n",
              "  Document(metadata={'page_url': 'https://namu.wiki/w/프로미스나인', 'artist_info': 'FROMIS_9', 'toc_item': '스페셜 싱글 《Talk & Talk》 (2021. 09. 01.)', 'abs_page_toc_item': '활동/음악 방송//2021년/스페셜 싱글 《Talk & Talk》 (2021. 09. 01.)', 'parent_paper': '음악 방송'}, page_content='page_content: 활동곡 : Talk & Talk  날짜,방송 프로그램,무대 영상,비고, Special Single Album Talk & Talk,09.02,,Talk & Talk,POST,09.03,,Talk & Talk,,09.05,,Talk & Talk,,09.07, ,Talk & Talk NEW 1위 Talk & TalkTalk & Talk 앵콜 무대,데뷔 첫 1위더 쇼 첫 1위케이블 음악 방송 첫 1위,09.08, ,Talk & Talk NEW 5위,POST,09.09,,Talk & Talk NEW 3위,POST,09.10,,Talk & Talk,,09.11,CON-TOUR 러시아편,Talk & Talk,,09.12,,Talk & Talk NEW 11위, PD노트,09.14, ,Talk & Talk ▼ 2위 Talk & Talk,사소한 대결,09.16,,Talk & Talk ▼ 11위,POST,09.17,,Talk & Talk,,09.18,CON-TOUR,Talk & Talk,,09.18,육군 제23보병사단,Feel Good (SECRET CODE)｜WE GO｜LOVE BOMB(#fn-%ed%8e%b8%ec%a7%91; TV 방영분에서는 LOVE BOMB 무대가 편집되어 방송됐다.),09.19,,Talk & Talk,,10.17,,Talk & Talk,,11.20,,난 사랑을 아직 몰라 (원곡: 이지연),,12.04,육군 제3포병여단, Feel Good (SECRET CODE)｜Talk & Talk,,'),\n",
              "  Document(metadata={'page_url': 'https://namu.wiki/w/프로미스나인', 'artist_info': 'FROMIS_9', 'toc_item': '2024년', 'abs_page_toc_item': '활동/Weverse//LIVE/2024년', 'parent_paper': 'Weverse'}, page_content='page_content:  2024년 OFFICIAL Weverse LIVE by fromis_9,날짜,방송명,설명,01.02,  🌞-노지선-,-,  산책🌙-송하영-,-,  잠깐\\U0001fa75-송하영-,-,01.03,  🍚  🍚🍰 -박지원-,하영 잠시 목소리 출연.,01.05,  터벅터벅-박지원-,하영 후반부 목소리 출연.,01.06,  .-백지헌-,-,  잠깐❄️-송하영-,초반부 이후 보이스로 전환.지원 중간 합류.,01.07,  WHITE ROM DAY❤️-이새롬-,새롬의 28번째 생일 LIVE.,01.08,  떡볶이 먹방-송하영-,지원 중간 합류.,01.16,   🍚냠-박지원-,잠시 보이는 라이브 전환.,01.21,  🙌🏻-노지선-,-,01.22,  아!!-이서연-,서연의 25번째 생일 LIVE.,01.23,  라이브 온 핸드폰 체크~ 준비해주세요-송하영-,-,01.24,  6th anniversary❤️-전원-,데뷔 6주년 기념 LIVE.,  \\U0001fa75-송하영, 박지원-,-,01.25,  2분-노지선-,-,01.29,  라이브 온 핸드폰 체쿠 준비해주세용~-송하영-,-,01.30,  라면 먹방🍜-송하영-,-,  오  ㅎ-노지선-,프로필 사진 문제로 재연결.,01.31,   야~~~   오잉   냐-박지원-,하영 중간 합류.배달앱 주문 때문에 재연결.,   라이부-송하영, 박지원-,지원 액정 필름 부착으로 인해 하영 폰으로 재연결., 02.01,   ❤️-이채영-,-,  므ㅏ-이서연-,-, 02.05,  냥❣️-박지원, 백지헌-,-, 02.08,  뀨~-박지원-,-,02.10,  이 밤이 지나면...-노지선-,-,02.11,  까치 까치 설날 이틀 후-송하영-,-,02.12,  .-노지선-,-,02.14,  🍫🍫🍫-송하영-,-,02.15,  비밀공간-송하영, 이서연, 백지헌-,-,02.18,  지금 시금치 무침 만들려구요-송하영-,-,02.22,  잠깜맘-송하영, 백지헌-,-,02.23,  💅🏻-노지선-,-,02.24,  \\U0001fa77-전원-,Kstyle PARTY 참석차 일본 숙소 단체 라이브,02.25,  ⭐️🥱-이새롬-,하영, 나경, 지원 잠시 합류.,02.29,  체키라웃-박지원-,-,02.29,  24.2.29\\U0001fa75-송하영-,-,03.01,  ㅡ  ㅡ-백지헌-,배터리 방전으로 재연결.,03.02,   새벽 보이스 라이부🌙-송하영-,-,   모여라-이채영-,-,03.05,  1분만-송하영-,-,03.10,  주말주말-노지선-,-,  주말이니까 조금만 놀자 플로버🍀☘️-송하영-,-,03.15,  💕-백지헌-,-,03.18,  잠깐 🍮-이나경-,-,03.20,  🎂지원데이🎂-박지원-,지원의 27번째 생일 LIVE.,  썸네일로 쓸만한 사진이 없어 미앙🦀-이새롬-,-,03.21,  나갈 준비 하면서 grwm-노지선-,-,  🌱-이채영-,-,03.22,  \\U0001fae7-노지선-,-,03.26,  5분만 놀자아-송하영-,-,03.27,  잠시-노지선-,-,03.29,  🙂-이서연-,-,03.30,  하이 🍮-이나경-,하영 중간 합류.,04.06,  그래그래-노지선-,-,04.08,  봄-송하영, 이나경-,-,04.10,  잠깐🍀☘️-송하영-,-,04.15,  🌧️🧹-박지원-,-,  🤎🌙-박지원-,-,04.17,  hbd to me-백지헌-,지헌의 22번째 생일 LIVE. 채영 중간 합류.,04.18,  조금만!!-송하영-,-,04.20,   일기 라이부-송하영-,-,  노랑즈-송하영, 박지원-,-,04.26,  😫-박지원 · 송하영-,첫 합동 LIVE.,04.27,  잠깐\\U0001fa75-송하영-,-,05.07,  🌈🌼-이채영-,하영 잠시 출연.,05.08,  🤫-이채영-,-,05.10,  .-백지헌-,-,05.11,  여기는 필리핀💕-송하영 · 박지원 · 노지선-,잠시 합동 LIVE. 채영 중간 합류.,05.12,  내가 좋아하는 게임은?-송하영-,채영 인사차 잠시 출연.,05.14,  🎂☘️-이채영-,채영의 25번째 생일 LIVE.,05.17,  🕶️-노지선-,-,05.18,  ☘️Welcome to flover garden-전원-,-,05.24,  잠깐 🍮-이나경, 송하영-,-,05.25,  퇴근길🌙-송하영-,-,05.26,  🤍-이채영-,-,05.28,  잠깐  화질이 안 좋은 라이브-송하영-,데이터 문제로 인해 재연결.,05.30,  잠깐\\U0001fa75-송하영 · 박지원-,나경 초반에 출연. 후반 지원과 합동 LIVE.,06.01,  두두등장 !-이나경-,나경의 25번째 생일 LIVE.,06.09,  ㅡ-백지헌-,-,06.12,  진짜 거짓말 아니구 7시에 뿅하고 꺼야되는 라이브.-이서연-,-,06.13,  샌드위치 먹방🥪-송하영-,채영 인사차 목소리 출연.,06.14,  🕶️-박지원-,-,06.16,  잠깐만🍀☘️🌙-송하영-,-,06.17,  💦  \\U0001f979💦  🤨-이채영-,세로 모드로 켜서 재연결.,06.20,  긴 하루 끝🌙-송하영-,-,06.23,  🍦-노지선-,-,07.08,  조금만🌙-송하영-,-,  잠깐🌙-송하영 · 박지원, 이나경-,중반 지원과 합동 LIVE. 이나경 중간 합류.,07.13,  후쿠오카에서🐿️   다시 후쿠오카🐿️-이채영 · 노지선-,세로 모드로 켜서 재연결.지헌 중간에 잠시 합류.지선 후반부 합동 라이브.,07.14,  귀국-노지선-,-,07.18,  .-백지헌-,-,  ☀️-이채영-,-,07.19,  잠깐🍀☘️-송하영-,-,07.19,  잠깐🤍  잠깐\\U0001fa75-송하영, 박지원-,통신 상태 불량으로 인해 재연결. 두 번째 라이브부터 지원 합류.,07.29,  .-백지헌-,-,08.02,  승요🌼-이채영-,-,'),\n",
              "  Document(metadata={'page_url': 'https://namu.wiki/w/프로미스나인', 'artist_info': 'FROMIS_9', 'toc_item': '노래방 수록 목록', 'abs_page_toc_item': '음반//노래방 수록 목록', 'parent_paper': '음반'}, page_content='page_content: 다음 문서로 대체 설명: https://namu.wiki/w/%ED%94%84%EB%A1%9C%EB%AF%B8%EC%8A%A4%EB%82%98%EC%9D%B8/%EB%85%B8%EB%9E%98%EB%B0%A9%20%EC%88%98%EB%A1%9D%20%EB%AA%A9%EB%A1%9D'),\n",
              "  Document(metadata={'page_url': 'https://namu.wiki/w/프로미스나인', 'artist_info': 'FROMIS_9', 'toc_item': '공연 및 행사', 'abs_page_toc_item': '활동//공연 및 행사', 'parent_paper': '활동'}, page_content='page_content: 다음 문서로 대체 설명: https://namu.wiki/w/%ED%94%84%EB%A1%9C%EB%AF%B8%EC%8A%A4%EB%82%98%EC%9D%B8/%EA%B3%B5%EC%97%B0%20%EB%B0%8F%20%ED%96%89%EC%82%AC'),\n",
              "  Document(metadata={'page_url': 'https://namu.wiki/w/프로미스나인', 'artist_info': 'FROMIS_9', 'toc_item': '2017년', 'abs_page_toc_item': '활동/V LIVE//LIVE/2017년', 'parent_paper': 'V LIVE'}, page_content='page_content:   2017년 OFFICIAL V-LIVE by fromis_9,날짜,방송명,설명,11.24,  fromis_9의 축하 영상 메시지-전원-,채널 오픈 기념 간단한 인사.,11.28,  fromis_9 두근두근❤️ 데뷔 1일-전원-,첫 단체 V LIVE. , Pre-debut Single 유리구두,11.29,  fromis_9 두근두근❤️ 데뷔 1일-전원-,MAMA 프리 데뷔 무대를 마친 후 소감 LIVE.,12.27,  HAPPY GYURI DAY🎉-장규리-,규리의 21번째 생일 LIVE 및 멤버들의 깜짝 방문. ,'),\n",
              "  Document(metadata={'page_url': 'https://namu.wiki/w/프로미스나인', 'artist_info': 'FROMIS_9', 'toc_item': '2023년', 'abs_page_toc_item': '활동/YouTube//타 채널/2023년', 'parent_paper': 'YouTube'}, page_content='page_content:   2023년 YouTube by fromis_9,날짜,채널,콘텐츠,출연,01.30,,  [주간아이돌] 기습 라이브 with Dreamcatcher & fromis_9 & KWON EUNBI LIVE,송하영, 박지원,06.01,,  신곡 대놓고 스포하러 온 🌊신세대 여름돌🌊 프로미스나인! [용진호건강원 EP.12],송하영, 박지원, 백지헌,06.07,,  여름에 전기장판🥵 VS 겨울에 에어컨🥶 #fromis_9 의 선택은? | #이모지오 #shorts,전원,06.07,,  “이거 가능해요?” 플로버들 당황시킬 질문공격 가보자고💬🔓 | 챌린지 위드 미 | 프로미스나인(fromis_9) | 블립 오리지널스 (blip originals),전원,06.07,,  우리 사이.. 두피 타입까지 공유하는 사이..❤️ㅣ렌&박지원 [셀폰KODE],박지원,06.07,,  [나 아이돌로 산다] 프미나 널 좋아해 하지만! 널 싫어해. 네버더리스! 계속 보고 싶어. 진짜 내 맘은 뭘까?🤔 | fromis_9 | MBC KPOP ORIGINAL,전원,06.09,,  백조오락관 Ep2. fromis_9｜HUP,송하영, 이채영,이나경, 백지헌,06.10,,  [ENG/JPN] \"야 나대ZI마!\" 카리스마 일짱 새 캡틴(🐈) 오신 날 | 아이돌 인간극장,전원,06.12,,  [4K] fromis_9 - #menow, Feel Good, WE GO, Talk&Talk, DM, Stay This Way (CHEER UP VER.) | 블립 둠칫둠칫,전원,06.13,,  [리무진서비스] EP.67 프로미스나인 이서연 | fromis_9 LEE SEO YEON | #menow, 난 너 없이, 사랑했나봐, You And I,이서연,06.13,,  (ENG Sub) fromis_9 (프로미스나인) [NEW 퇵길아웃! : 퇴근럽웅♥ 230613],전원,06.13,,  [#왓플] #menow 가 미야옹😻이 된 사연 | What’s in My PLAYLIST | fromis_9 | Unlock My World,박지원 외 전원,06.14,,  [ENG] 어색한 모녀 관계를 풀어주러 딸의 최애가 등장했다 (ft.프로미스나인 채영) | 안녕자네 Ep.54,이채영,06.14,,  (ENG) 프미나 퇴근길에 독사 출몰?!🐍 퇴근하는 #menow 📸 | 프로미스나인 (fromis_9)｜퇴근파서블｜므흐즈(Mhz),이나경 외 전원(#fn-4; 컨디션 난조로 불참한 정오의 희망곡 직후 녹화 추정)06.15,,  [ENG/JP] 대기실 놀러와서 만채를 칭찬감옥에 가둬버린 프미나 막냉즈 그리고 수줍은 아기 MC..🤭 | 은채의 스타일기💫 EP12 | fromis_9,이나경, 백지헌,06.15,,  [PLAY COLOR | 4K] fromis_9(프로미스나인) - #menow,전원,06.16,,  프로미스나인(fromis_9) [UNLOCK MY WORLD] 팝업스토어 오픈! | fromis_9 POP-UP STORE OPEN!,전원,06.16,,  프로미스나인(fromis_9) - My Night Routine Live │ #왓플 라이브 │ SEOUL MUSIC ORIGINALS,박지원 외 전원,06.16,,  [릴레이댄스] 프로미스나인 (fromis_9) - #menow (4K),전원,06.17,,  [4K] fromis_9 (프로미스나인) -“#menow” Band LIVE Concert │느껴봐 프롬이들의 벅차오르는 menow💗 [it’s KPOP LIVE 잇츠라이브],전원,06.17,,  [4K] 프로미스나인(fromis_9) - #menow (CHEER UP VER.) | 비주얼의 축복이 끝이 없네 끝이 없어💖 | 블립 블라블라 (blah blah),전원,06.19,,  프롬이들 vs 플로버 \\'이것\\'으로 대결하면 누가 이길까?🥊 | 질문감옥 | 프로미스나인(fromis_9) | 블립 오리지널스 (blip originals),전원,06.20,,  [반모하SHOW] fromis_9 (프로미스나인) [THE SHOW 230620]),전원,06.22,,  프미나 ‘me모‘ 덕분에 키코 단숨에 Unlock🔑 [키코의 스몰룸] EP.3,전원,06.24,,  네컷사진📸 앞에서 수상할 정도로 자신감 넘치는 아이돌😘 | 포즈연구소 | 프로미스나인(fromis_9) | 블립 오리지널스(blip originals),전원,06.30,,  [4K] fromis_9 EYE CONTACT CAM :: 프로미스나인 아이컨택캠 @ MUSIC BANK,전원,07.03,,(re-upload) (fromis_9 / Idol_Challenge Ep-1) 오직 플로버를 위한 엉망진창 콘서트, 그리고 솔직토크 ㅋㅋ(ENG sub)(#fn-5; 자막 오타로 인해 재업로드)전원,07.07,,  (SUB) | 프로미스나인 중에서 무서운데 안 무서운 멤버는? | fromis_9 (프로미스나인) 지목토크,전원,07.07,,  [4K] fromis_9(프로미스나인) “Wishlist” Band LIVE Concert │지원&채영의 위시리스트 밴드라이브💗 [it’s KPOP LIVE 잇츠라이브],박지원, 이채영,07.07,,  (fromis_9 / Idol_Challenge Ep-2) 프로미스나인~~ 오늘부터 우리는 가족입니다 ㅋㅋ (ENG sub),전원,07.07,,  [ENG] 바바바🤧가 뭐길래?? 프로미스나인 #새롬 #하영 #지원 #지선 #서연 #나경 #채영 #지헌 의 스픽업🤧🤧🤧| ELLE KOREA,전원,07.17,,  MBTI,이상형,엔딩요정까지 토크 완. 4세대 프로미스나인 새롬&하영 VS 1세대 황보 걸그룹 케미[케미가 달라] Ep.3,이새롬, 송하영,08.02,,  [SUB] 프로미스나인의 살벌한(?) 칭찬 동아리💕 개과천선 확실히 도와드립니다✨ㅣ동방으로 따라와ㅣfromis_9ㅣMBC KPOP ORIGINAL,전원,08.03,,  [SA홈쇼핑] 주문폭주!📞픎절임박!⏰ 일일 쇼호스트 프롬이들💖 l 프로미스나인 l 서든어택,전원,08.08,,  🔥핫섬머 붱철쇼 vol.2🔥(feat. 정인, 로이킴, 한승우, 프로미스나인),전원,08.15,,  이대로 보내기 아쉬워서 올리는..\\U0001f979 핫섬머 붱철쇼 비하인드 #다크비 #소유 #이진아 #정인 #로이킴 #한승우 #프로미스나인),전원,08.22,,  [베어스 시구왕] Ep.7 때론 Chic 때론 Cool #프로미스나인 채영, 지원! (08.06),박지원, 이채영,08.22,,  [HYBE x Geffen] The Debut: Dream Academy - A message from HYBE Artists,전원,09.01,,  [4K] 프로미스나인(fromis_9), 하트드림어워즈에서 \\'첫공개~\\' 뭔지 궁금하죠?(2023 K 글로벌 하트 드림 어워즈 대기실 인터뷰),전원,09.04,,  [FULL] 😻대문자 F 공감요정🧚\\u200d♀️ 하영과 함께한 ‘라이브 챗’ 프로미스나인 송하영(SONG HA YOUNG) 보는 라디오 | 딘딘의 뮤직하이 | 230904,송하영,09.11,,  2023 Weverse Con Festival \\'Artist Zone\\' Behind,전원,09.12,,  🎵#menow - 프로미스나인 (fromis_9) + 수상소감ㅣ2023 K 글로벌 하트 드림 어워즈,전원,09.25,,  Behind the Scenes of the Plant Our Planet Concert – fromis_9,전원,09.29,,  [WePick] LOVE FROM. 준비로 하루 일찍 찾아왔던 2022년 송피벌스데이🎂 라이브 다시 보기,송하영,11.20,,  먹어보쇼 시즌2 라이브스트리밍 LIVE,송하영, 이채영,11.22,,  [WePick]  2022년 해피 지선 데이 라이브 다시 보기,노지선,12.15,스튜디오 피넛버터전부노래잘함,  역대급 함성!! 🪖군통령🪖 프로미스나인이 대학교에 깜짝 등장하면 생기는 일\\U0001fae1,전원,12.15,,  [EAT_SHOW2 EP. 4-1] 정총무가 프로미스나인에게 쏜다?! 🐷고기뷔페 🤑플렉스🤑 | 게임의 왕 먹어보쇼,송하영, 이채영,,  [EAT_SHOW2 EP. 4-2] 쿨타임 찼다🚨 이거 보면 오늘 메뉴는 무조건 마라탕입니다ㄹㅇ | 게임의왕 먹어보쇼,송하영, 이채영,,  [EAT_SHOW2 EP.4-3] 속보! 첫 ☕🧁 디저트 메뉴 등장에 멤버들 환호🎶 | 게임의 왕 먹어보쇼,송하영, 이채영,12.21,,  구글플레이 라이브 2023 I Google Play Live Korea 2023,송하영, 노지선,12.24,돌과함께 WithDOL,  [ENG SUB] 연말무대 준비한 \\'돌\\'들에게 깜짝선물🍭을 전해준다면?? (feat.장하오, 지원, 로운)ㅣ2023 뮤직뱅크 글로벌 페스티벌 비하인드ㅣ돌식탁 스페셜EP,박지원,12.31,돌과함께 WithDOL,  [ENG SUB] 연말무대 준비한 \\'돌\\'들에게 깜짝선물🍭을 전해준다면? 2탄 (Feat.에릭, 새롬 서연, 에이티즈, 스테이씨, 은채) | 2023 가요대전 | 돌식탁 스페셜EP2,이새롬, 이서연,'),\n",
              "  Document(metadata={'page_url': 'https://namu.wiki/w/프로미스나인', 'artist_info': 'FROMIS_9', 'toc_item': '여담', 'abs_page_toc_item': '음반//여담', 'parent_paper': '음반'}, page_content='page_content: 2021년까지만 해도 음반 초동 판매량이 4만 장을 넘지 못했었다. 그런데 2022년 1월 17일 발매한 Midnight Guest가 초동 판매량 약 104,400장을 기록하며 자체 신기록을 경신함과 동시에 초동 10만 장을 넘긴 걸그룹 대열에 역대 열네 번째로 들어가게 되었다. '),\n",
              "  Document(metadata={'page_url': 'https://namu.wiki/w/프로미스나인', 'artist_info': 'FROMIS_9', 'toc_item': '2019년', 'abs_page_toc_item': '활동//연혁/2019년', 'parent_paper': '활동'}, page_content=\"page_content: 1월 28일, 그래서 괜찮은, 회복회'의 티저 사진이 공개 됐다.기사 전문  2월 1일, 한국청소년연맹 홍보대사로 위촉되었다. 기사 전문  3월 17일, MBC '미스터리 음악쇼 복면가왕' 에서 봄봄봄 봄이 왔네요~ 봄꽃란 복면 가수로 출연 했다.  3월 23일, 서울 광화문에 있는 KT 체험관에서 열린 전국체전 100주년 기념 행사에 참석해 공연 했다.  3월 24일, 장규리를 제외한 8인체제로 KBS2 '불후의 명곡 전설을 노래하다'에 출연해 설운도의 다함께 차차차를 편곡해 공연 했다.  5월 4일, MBC '마이 리틀 텔레비전 V2' 국사 강사 최태성, 코미디언 유민상, 새터민 출신인 윤선희 셰프와 함께 노지선이 출연했다. 방송 주제는 역사와 음식을 결합한 쿡방 이었다. 이에 아이돌학교 때 담임 선생님 기믹으로 출연했던 슈퍼주니어의 멤버 희철은 노지선이 나오는 방송에 무려 100만원 가량의 영상 도네이션을 후원해 화제가 되었다.  5월 7일, fromis_9의 유튜브 주력 컨텐츠인 'Channel 9'의 새 시즌이 시작 되었다. 첫 화는 fromis_9 멤버들이 보통 숙소에서 어떻게 지내는지를 보여주는 영상이었는데, 팬덤으로부터 상당히 좋은 반응을 얻었다.  5월 10일, 장규리 주연의 웹드라마 '필수연애교양'의 첫 방송이 시작되었다.  5월 13일, KBS2 '대국민 토크쇼 안녕하세요'에 이새롬과 장규리가 패널로 출연했다.  5월 15일, 선문대학교 학교 축제에 참석해 공연을 했다.  5월 18일, 일본 도쿄에서 개최되는 'K-CON 2019 in JAPAN' 일정을 소화하기 위하여 출국하였다.  5월 19일, K-CON 무대에서 멤버들의 헤어스타일이 바뀐 것으로 보아 컴백 일정이 머지 않은 것으로 보인다. 팬들은 벌써 일정이 나오길 오매불망 기다리는 중이다.  5월 22일, 스페셜 싱글 1집 앨범의 활동이 끝난지 장장 7개월 만에 6월 4일 첫 번째 싱글 앨범 'FUN FACTORY'를 들고 완전체로 복귀한다고 발표 했다.타이틀곡인 'FUNun!'의 첫 번째 티저 영상이 공개되었는데 마치 모 음료수의 CF를 연상시켜 처음에는 '우리 모르는 사이에 음료수 CF도 찍었구나!'라고 오해한 팬들도 있는 듯하다(...)  5월 31일, 타이틀곡 'FUN!'의 두 번째 티저 영상이 공개됐다. 앞서 공개된 음료수 뿐만이 아니라 여럿 유명한 브랜드의 CF의 패러디를 은근히 개그 컨셉으로 확인 할수있다.  6월 3일, 앨범 'FUN FACTORY' 발매를 하루 앞두고 트위터블루룸 LIVE Q&A를 진행했다. 방송은 간단한 문답과 앨범 발매의 소감과 함께 막바지 쯤에는 당시 IZ*ONE의 멤버였던 조유리와의 전화연결도 가졌다.Full.ver 통화.ver  Full.ver  통화.ver  6월 4일, 오후 6시 타이틀곡 'FUN!'의 뮤직비디오가 공개되었다. 같은 날 JTBC의 '아이돌룸'에 두 번째 단독 출연을 하였다.  6월 15일, MBC '마이 리틀 텔레비전 V2' 해외 스케줄로 잠시 자리를 비우게 된 막내 딸을 대신해 송하영이 셋째 딸 기믹으로 합류및 고정 출연하게 되었다.  8월 29일, 오후 4시 20분 옥션의 '최애의 최애템 프로미스나인 100원 기부딜' 이벤트가 트위터블루룸 LIVE를 통해 진행됐다.Full.ver  Full.ver  2019년 9월 수원 희망나눔 행사에서, 음향사고로 강제 무반주 라이브를 했다. 갑작스러운 상황임에도 불구하고 의연하게 대처하며 무대를 완벽하게 마무리 지었다.  9월 7일~9월 12일, 일본에서 일정을 진행했다. 짧은 기간임에도 불구하고 타워레코드 팬사인회, NHK 라디오 제1방송 후루야 마사유키의 'POP★A' 출연, AbemaTV 촬영과 장규리의 이와타테 사호 쇼룸 깜짝 출연 등 의외로 많은 결과물을 남긴 일정이었다.  9월 28일~9월 29일, K-CON 2019 THAILAND에는 불참한다. 같은 날 인도네시아에서 열리는 KPOP SUPER FESTIVAL 2019에 참가하기 때문. 데뷔 이래 첫 케이콘 불참이다.  10월 18일, KBS2 '뮤직뱅크 1000회 특집'을 맞아 핑클의 Now를 커버했다.  11월 6일, 히스토리 '뇌피셜'에 장규리, 이채영, 이나경이 게스트로 출연했다.  11월 13일~11월 14일, 6월에 한국에서 발매한 싱글 앨범 'FUN FACTORY'의 일본 프로모션을 위한 일환으로 일본 잡지 Kstyle과의 인터뷰및 관련 영상이 공개 되었다.해당 화보및 인터뷰 영상은 아래에 있는 화보및 웹 콘텐츠 문단의 2019년 목록을 통해 확인할수 있다.  11월 17일~11월 24일, MBC '미스터리 음악쇼 복면가왕' 에서 가왕석 빼고 다 가진 완벽녀! 퀸카란 복면 가수로 출연 했다.  , ,▲ fromis_9 'LOVE RUMPUMPUM' 무반주 라이브 ,\"),\n",
              "  Document(metadata={'page_url': 'https://namu.wiki/w/프로미스나인', 'artist_info': 'FROMIS_9', 'toc_item': '광고 및 화보', 'abs_page_toc_item': '활동//광고 및 화보', 'parent_paper': '활동'}, page_content='page_content: 다음 문서로 대체 설명: https://namu.wiki/w/%ED%94%84%EB%A1%9C%EB%AF%B8%EC%8A%A4%EB%82%98%EC%9D%B8/%EA%B4%91%EA%B3%A0%20%EB%B0%8F%20%ED%99%94%EB%B3%B4'),\n",
              "  Document(metadata={'page_url': 'https://namu.wiki/w/프로미스나인', 'artist_info': 'FROMIS_9', 'toc_item': '비주얼', 'abs_page_toc_item': '특징/비주얼', 'parent_paper': ''}, page_content=\"page_content: 전 진짜로 프로미스나인분들 너~~~무(#fn-27; 실제로 이렇게 강조해서 말했다.)예쁜 거 같아요. 진짜! 제가 샵에서 마주칠 때마다 누구 한 명 붙잡고 얘기해요. 진짜... 저는 프로미스나인 분들이진짜 제일 예쁜 거 같아요. 진짜 예뻐요, 너무 예뻐요. 진짜 아이돌 분들 다 너무 예쁘시지만 물론. 근데 진짜 프미분들... 진짜 예쁜 거 같아요. 김세정 # 프로미스나인을 대표할 수 있는 키워드는 바로비주얼이다. 최근 아이돌들이 많이들 내세우는 '전원센터돌' 등의 수식어로 회사 차원에서 비주얼을 강조하는 마케팅(#fn-28; 플레디스가 해온 수식어 마케팅이라곤 멤버들도 부끄러워하는 프톤치드돌(...) 정도 뿐이다.)은 하지 않지만, 그런걸 떠나서 대중들의 평가가 매우 좋은 편. 프로미스나인과 관련된 영상에서 일반인 혹은 타팬들이 남긴 비주얼과 관련된 댓글을 언제나 쉽게 찾아볼 수 있고, 실물에 대한 평가도 매우 좋다. 대표적인 사례가 바로김세정의 언급이다. 자타공인 메인 비주얼(#fn-29; 공식은 아니고, Channel_9 In The HOUSE 편에서의 언급처럼 멤버들끼리 그냥 암묵적으로 정한 것이다. 여타 다른 그룹과 달리 회사 차원에서 따로 메인 비주얼, 비주얼 에이스로 내세우는 멤버는 없다.)인이나경의 경우, 그정형돈(#fn-30; 오랜 연예계 생활로 못 본 연예인을 찾기가 힘들테고, 아이돌 전문 MC로만 10년 가까이 활동한 방송인이다. 심지어 그 자리만 해도 무려 21명의 아이돌이 있었다.)이 멘트 흐름을 끊고(#fn-31; 얼굴 크기에 대해 이야기 중인 것도 아니었고, 멤버들이 지목한 것도 아닌 정형돈이 이나경을 바라보다가 뜬금없이 언급한 것이다. 자막에도 갑자기? 라 써있을만큼 돌발 멘트였다는 것.)나경씨는 얼굴이 진짜 작네요?라며 짚고 넘어갔을 정도로 베테랑 아이돌 프로그램 MC의 눈에도 띄는 비주얼을 가졌다.4세대 아이돌들이 대거 등장하고 각팀의 메인 비주얼들이 세간의 관심을 한몸에 받는 상황 속에서, 프로미스나인의 경우 어느 특출난 멤버 하나가 SNS 등지에서 비주얼로 화제가 된다거나 하는 경우는 사실 없다. 하지만 이들의 진가는 바로 평균 비주얼에서 나타나는데, 여타 걸그룹들과는 달리 각종 댓글에서 특정 멤버를 지칭하는 댓글보다는비주얼 융단 폭격등의 팀 전체를 대상으로 한 댓글이 훨씬 주를 이루는 편.많은 아이돌들이 모두 충분히 외모가 뛰어나고 자신만의 매력이 있음에도 불구하고, 인생의 숙명으로 가져가야 하는 것이 외모 비하 악플인 경우가 많다. 하지만 프로미스나인에 대한 외모 비하 악플은 거의 0에 수렴할 정도로, 비주얼에 대해선 이견이 없을 정도다.다인조 걸그룹이 전부 예쁘기도 힘든데 단순히 예쁘기만 한 데서 그치지 않고, 여덟 멤버가 모두 다르게 생긴 것도 프로미스나인의 비주얼이 강조되는 이유 중 하나이다. 특히 최근 잇츠라이브 등으로 멤버들의 실력도 주목받기 시작한 이후에는예쁘기만 한 줄 알았는데 그게 아니었다라는 반응도 심심치않게 찾아볼 수 있을 정도로, 프로미스나인의 정체성을 비주얼로 생각하고 있는 사람이 많다.특히나 최근 걸크러쉬, 여성팬층이 좋아할 법한 외모를 가진 걸그룹이 많이 나왔는데 프로미스나인은 반대로 남자들이 정말 좋아할 법한 비주얼을 가진 걸그룹인 것도 특이한 점이다. 남자들이 보기에 정말 귀엽다, 예쁘다 같은 느낌이 나는 걸그룹인지라 명실상부 군통령의 자리에 올라가 있다. ,3rd Single Album [Supersonic] COOL Ver.,\"),\n",
              "  Document(metadata={'page_url': 'https://namu.wiki/w/프로미스나인', 'artist_info': 'FROMIS_9', 'toc_item': '일본 프리데뷔 싱글 《LOVE BOMB (Japanese Ver.) 》(발매취소)', 'abs_page_toc_item': '음반//해외 음반/싱글/일본 프리데뷔 싱글 《LOVE BOMB (Japanese Ver.) 》(발매취소)', 'parent_paper': '음반'}, page_content='page_content: 다음 문서로 대체 설명: https://namu.wiki/w/LOVE%20BOMB%20(Japanese%20Ver.)'),\n",
              "  Document(metadata={'page_url': 'https://namu.wiki/w/프로미스나인', 'artist_info': 'FROMIS_9', 'toc_item': '그룹명', 'abs_page_toc_item': '특징/그룹명', 'parent_paper': ''}, page_content='page_content: 그룹 이름은from+idol +school =fromis(아이돌학교에서 왔다)의 줄임말이자 \\'팬들에게 최고의 걸그룹이 되겠다\\'는약속(#fn-11; 상술한 fromis를 그대로 발음하면 약속을 의미하는 영단어 promise와 발음이 같아진다. 물론 f 발음과 p 발음의 차이는 있지만.)을 담은 것이다. 뒤에 붙은 9는 그룹의 멤버가9명임을 의미한다.장규리의 탈퇴 이후에는 기존 의미에 다소 모순이 생겨버렸지만, 직전 활동인Stay This Way의 응원법에 데뷔 이후로 단 한번도 포함되지 않았던플로버가 포함된 것으로 미루어보아(#fn-12; 기존에는 대부분의 응원법에 이새롬~백지헌 까지 나이 순으로 외치는 부분이 포함되어 있었다. 여기서 장규리가 빠지고, 백지헌 뒤에 플로버가 추가된 것.)한 자리의 공백을 팬덤인플로버로 채워여덟명의 멤버와 플로버를 합쳐 나인이라는 의미를 갖게 된 것으로 보인다.(#fn-13; 멤버들이 응원법에 대해 언급할때 플로버가 우리 막내야 같은 이야기를 했던 것으로 보아 내부적으로도 이러한 이야기가 오갔던 것으로 추정된다. 새롭게 수정된 응원법 공지에도 아홉번째 자리에 플로버가 들어가면서, 이러한 추측에 힘을 실었다.)(#fn-14; 비슷한 예로 같은 플레디스 소속 보이그룹인 세븐틴의 경우 기존엔 13명의 멤버 + 3개의 유닛 + 하나의 팀이라는 의미를 담고 있었지만 팬미팅에서 마지막 하나는 하나의 팀이 아닌 팬이라는 의미를 추가한 바 있다.)원래는아이돌학교마지막 방송에서fromis_로 결정되었다가, 2017년 11월 23일프로미스의 방종영 직후엠넷과 티저에서 그룹명이 fromis_(프로미스)가 아닌fromis_9(프로미스나인(#fn-15; 그룹명 한글명칭은 공식SNS계정에서 2017년 11월 24일부터 며칠동안 프로필 사진 공개하면서 #프로미스나인 이라고 공개했다. ))으로 언급되면서 팬들 사이에서 혼란이 있었다(#fn-16; 걸그룹 흥행 공식인 네글자 이름을 버리고 쓸데없이 숫자를 왜 넣냐는 반응도 있었지만 지금은 약속시(9시), 채널나인, 9 WAY TICKET 등 나인 을 알차게 써먹으며 팬들 사이에선 잘 넣었다는 평가도 나오는 편.). 그리고 다음날인 11월 24일 보도 자료를 통해 팀명 변경 확정이 알려졌다. 한동안은 여전히 \\'프로미스\\'라고 부르는 사람들도 많고, 그룹명에 밑줄이 들어가 있어 \"프로미스 언더스코어 나인\"이라고 읽는 외국인도 많았다.영어로 팀명을 표기할 때, 고유명사나 문장의 첫 부분을 대문자로 표기하는 문법을 따라 \\'f\\'를 대문자 \\'F\\'로 표기하는 경우도 있긴 하나,공식 표기로는 소문자 \\'f\\'가 맞다.줄여 부르는 이름이 많은 편. 애칭으로는프롬이나 \\'프로미\\'라고 부른다. 인터넷에서는프나, \\'프미나\\'(#fn-17; 해당 줄임말은 주로 일반인이나 입덕한지 얼마 되지 않은 팬들이 사용하는 편이었으나 최근에는 회사 스탭들이나 멤버들도 프미나라고 쓰는 것을 아무렇지 않아 하고 Unlock My World 활동에는 거의 모든 예능, 유튜브 콘텐츠가 프미나로 줄여 불러 사실상 공식 줄임말이라고 해도 무방한 수준.)라고 줄여서 부르는 편이다. 1글자로 줄여서픎(#fn-18; 공식 유튜브에서 채널나인 콘텐츠의 하이라이트를 멤버별로 하루에 3개씩 올리며 제목을 1일 3픎으로 칭하기도 했다.)으로 적기도 한다.'),\n",
              "  Document(metadata={'page_url': 'https://namu.wiki/w/프로미스나인', 'artist_info': 'FROMIS_9', 'toc_item': '2024년', 'abs_page_toc_item': '활동/YouTube//타 채널/2024년', 'parent_paper': 'YouTube'}, page_content='page_content:   2024년 YouTube by fromis_9,날짜,채널,콘텐츠,출연,01.04,,  소유X프로미스나인 채영 신년 맞이 체력 측정 도전기💪🏻 | 체력 검사까지 완벽 접수한 힘소유 클라쓰?😮,이채영,01.06,,  [WePick] 2023년 HAPPY SAEROM DAY 라이브 다시 보기,이새롬,01.21,,  2023 [WePick] 서연 생일 라이브 다시 보기,이서연,01.23,,  [WePick] 플로버 고막 걱정되는 ☘️HAPPY 프롬 2000일☘️,전원,02.03,,  내 귀에 띵곡 | 이서연 (프로미스나인) - 돌아오지마 Live Clip | 풀버전,이서연,02.29,,  미미미누가 인기가요 서는 그날까지 밖구석 노래방 달리렵니다 | 인기인가요 [프롤로그],박지원, 이채영,03.06,스튜디오 호락호락,  [SUB] 프로미스나인X케플러 요리로 뭉치는 친목 한상! 프미나 콘서트에서 마시로 오열한 사연! | [케바케 식당] EP.13,박지원, 백지헌,03.14,,  \"아니 가르쳐 달라며...?\" 미미미누 DM 플러팅에 🐶빡친 프로미스나인(fromis_9) | 인기인가요 EP.2,박지원, 이채영,03.19,,  [WePick] 메리 지원 데이🎂,송하영, 박지원, 이서연,03.21,,  [별이되어라2: 베다의 기사들] 사전등록 CM_전쟁의 여신 베다편 메이킹 필름,이나경,04.02,,  [FULL] 거짓말 같지만 사실입니다😂 만우절 기념 야자타임⏰도 함께한 프로미스나인 송하영(fromis_9 SONG HA YOUNG) 보는 라디오 | 딘딘의 뮤직하이 |240401,송하영,04.17,,  프나 이채영이 63빌딩에? | 이덕후,이채영,04.17,,  [WePick] 지헌데이,백지헌,04.22,,  알바하러 왔다가 사람 취급 못 받은 건에 대하여 | 이덕후,이채영,04.27,, [CHUU-log] 휴가!!!!!😆 \\'P\\' 두 명과 \\'J\\' 한 명의 푸켓 여행🇹🇭 마냥 웃음만 나와🎶,박지원,04.30,,  (여자)아이들((G)I-DLE) - I-LOG #33 미연이의 태국 여행 브이로그 🌴| (ENG),박지원,05.01,,  XG、EVNNE、fromis_9も！舞台裏メイキング映像をプレミア公開＜Kstyle PARTY：DAY 2＞,전원,05.03,,  슈퍼주니어처럼 되고 싶은 군통령 1티어😂 | EP.6 프로미스나인(fromis_9) | 이쪽으로올래,박지원, 이채영,05.06,,  연예가중계 아니고 e스포츠 중계 입니다 | 이덕후,이채영,05.10,,  fromis_9、可愛すぎる日本語も！「Kstyle PARTY」バクステ取材中の模様を大公開,전원,05.13,,  [WePick] HBD TO CHAEYOUNG 🥳,이채영,05.20,,  불 뿜는 것도 성우의 영역인가요..? | 이덕후,이채영,05.31,,  [WePick] 나경이 생일 축하하러 드루왕 🥳,이나경, 이서연,송하영, 이채영(#fn-6; 출연 순서 순)06.03,,  딜라이트 자리 뺏으러 왔습니다 | 이덕후,이채영,06.07,주식회사큰나무엔터테인먼트,  방구석힙스터의대환장파티 1화 part 1,이채영,06.07,주식회사큰나무엔터테인먼트,  방구석힙스터의대환장파티 1화 part 2,이채영,06.07,,  \\'갱갱갱\\'을 외치는(?) 케이팝 대표 청량 그룹 | [POP OUT RADIO] 프로미스나인,박지원, 이서연,06.20,,  [FULL] 😸러블리한 하냥이와 함께하는 마지막 \\'라이브챗\\'📱😭 프로미스나인 송하영(fromis_9 SONG HA YOUNG) 보는 라디오 | 딘딘의 뮤직하이 | 240617,송하영,06.26,스튜디오 어서오고,  “ㄱ나니...?” 소속사 동창 출신(?) 프로미스나인과 불타는 추팔 토크🔥 | 인싸동 술찌 ep. 20,송하영, 이채영, 백지헌,07.09,,  fromis_9 On Their Favorite Places In South Korea, Pre-Show Rituals & More!,전원,07.10,,  HYBE에서 걸그룹 만나고 부끄러워 죽을뻔한 영국 대학생들!! Ft. 프로미스나인,송하영, 박지원, 노지선, 이나경,07.15,,  제 1차 MC 방어전 | 이덕후,이채영, 이나경,07.15,,  카톡 특) 이모티콘 없이 말 못함🤭 feat. 프로미스나인 & 라이즈ㅣ 당신의 카톡이지 EP.4,이새롬, 송하영,07.29,,  머리는 딜라이트인데 손가락은 이채영 | 이덕후,이채영,07.29,,  박지원(PARK JI WON)·이서연(LEE SEO YEON)의 어쿠스틱한 매력 속으로💽 \\'Save Your Tears\\'♬｜비긴어게인 오픈마이크,박지원, 이서연,08.01,,  선물처럼 찾아온 프로미스나인💝,전원,07.29,,  원곡의 감성 그대로…박지원(PARK JI WON)의 애절한 사랑 \\'My All\\'♬｜비긴어게인 오픈마이크,박지원,07.29,,  무대를 제대로 뒤집은 이서연(LEE SEO YEON)·원슈타인(Wonstein)의 \\'BAE BAE\\'♬｜비긴어게인 오픈마이크,이서연,08.06,,  [KT vs KIA] 워터밤 여신 프로미스나인 송하영 & 백지헌 시구 시타 | 8.06 | KBO 모먼트 | 야구 하이라이트,송하영, 백지헌,08.06,,  \\'그때 왜 그런거야?\\' 멤버들도 몰랐던 비밀, #프로미스나인의 이제는 말할 수 있다!,전원,'),\n",
              "  Document(metadata={'page_url': 'https://namu.wiki/w/프로미스나인', 'artist_info': 'FROMIS_9', 'toc_item': 'FOOTNOTES', 'abs_page_toc_item': 'FOOTNOTES', 'parent_paper': ''}, page_content=\"page_content: [1] 엠넷 아이돌학교 마지막 방송은 9월 29일에 시작되었지만 자정을 넘겨 데뷔 확정자 9명이 발표되었는데, 송하영 생일 기념 V LIVE에서 멤버들이 9월 29일이 결성일이라고 언급했다. 더불어 9월 29일은 송하영의 생일인 만큼 그야말로 엄청난 생일선물을 받은 셈.[2] 아이돌학교로부터 +2585일, 7주년[3] 데뷔 당시에는 CJ ENM 소속이었으나 매니지먼트와 프로듀싱은 처음부터 플레디스에서 담당하고 있었다. 다만 CJ에서 탄생한 그룹인 만큼 어느 정도의 영향력을 위해 이전과 같은 형태를 유지하다가, 2021년 하반기를 기점으로 프로미스나인에 대한 권한을 플레디스에 완전히 위임하였다.#[4] 추후 밝혀진 바로는 장규리를 제외한 8인은 2021년에 아예 새롭게 전속계약을 체결했다고 한다. 정확한 기간은 알 수 없지만, 이름만 바뀐거나 다름 없었던 스톤뮤직->오프더레코드 때와는 달리 일종의 이른 재계약을 한셈.[5] 현재는 위버스로 통합되었지만 아카이브에 기존 영상들이 남아있다.[6] My Little Society 활동 이후로 해당 부분은 생략하고 있다. 오랜 팬들은 뒷부분은 빼더라도 앞부분까지는 해주길 바란다는 의견도 있으나, 내부적으로 인사법을 아예 하지 않기로 결정한 듯하다.[7] 데뷔 당시에는 CJ ENM 소속으로 9인조였으나, 2021년 플레디스로 이관되고 2022년 8월 1일 멤버 장규리의 탈퇴로 8인조로의 재편을 거쳤다.[8] 데뷔 쇼케이스 당일에 V LIVE에서 공개된 공식 포지션이다. 새롬이 휴식기를 갖고 있을때 하영이가 캡틴 대행을 맡기도 했다.[9] 오프더레코드 시절 발매한 FUN FACTORY 키트앨범에서 두 메인보컬이라고 밝힌바 있고 멤버들도 직접 언급했다.[10] 혀니콤보에 출연했을때 멤버들이 서연, 하영을 메댄이라 불렀다.[11] 상술한 fromis를 그대로 발음하면 약속을 의미하는 영단어 promise와 발음이 같아진다. 물론 f 발음과 p 발음의 차이는 있지만.[12] 기존에는 대부분의 응원법에 이새롬~백지헌 까지 나이 순으로 외치는 부분이 포함되어 있었다. 여기서 장규리가 빠지고, 백지헌 뒤에 플로버가 추가된 것.[13] 멤버들이 응원법에 대해 언급할때 플로버가 우리 막내야 같은 이야기를 했던 것으로 보아 내부적으로도 이러한 이야기가 오갔던 것으로 추정된다. 새롭게 수정된 응원법 공지에도 아홉번째 자리에 플로버가 들어가면서, 이러한 추측에 힘을 실었다.[14] 비슷한 예로 같은 플레디스 소속 보이그룹인 세븐틴의 경우 기존엔 13명의 멤버 + 3개의 유닛 + 하나의 팀이라는 의미를 담고 있었지만 팬미팅에서 마지막 하나는 하나의 팀이 아닌 팬이라는 의미를 추가한 바 있다.[15] 그룹명 한글명칭은 공식SNS계정에서 2017년 11월 24일부터 며칠동안 프로필 사진 공개하면서 #프로미스나인 이라고 공개했다. [16] 걸그룹 흥행 공식인 네글자 이름을 버리고 쓸데없이 숫자를 왜 넣냐는 반응도 있었지만 지금은 약속시(9시), 채널나인, 9 WAY TICKET 등 나인 을 알차게 써먹으며 팬들 사이에선 잘 넣었다는 평가도 나오는 편.[17] 해당 줄임말은 주로 일반인이나 입덕한지 얼마 되지 않은 팬들이 사용하는 편이었으나 최근에는 회사 스탭들이나 멤버들도 프미나라고 쓰는 것을 아무렇지 않아 하고 Unlock My World 활동에는 거의 모든 예능, 유튜브 콘텐츠가 프미나로 줄여 불러 사실상 공식 줄임말이라고 해도 무방한 수준.[18] 공식 유튜브에서 채널나인 콘텐츠의 하이라이트를 멤버별로 하루에 3개씩 올리며 제목을 1일 3픎으로 칭하기도 했다.[19] 3세대 무렵부터 걸그룹의 수익모델과 컨셉이 보이그룹과 유사해지고 있으며, 실제로 프로미스나인의 컨셉을 보이그룹에 대입해 봤을 때 프로미스나인처럼 순수하고 청량한 컨셉을 지향하는 보이그룹은 찾아보기 매우 힘들다. 그리고 이를 지지하고 지탱해주는 핵심 소비층이 해외 팬덤과 여성 팬덤이다. 이에 따라 소위 '센 언니', '당당한 자아'로 표현되는 걸크러쉬 컨셉과 이러한 컨셉들을 하나로 엮어주는 거대한 세계관을 강조하는 걸그룹이 K-pop 업계에 우후죽순 등장하고 있다. (여자)아이들, 퍼플키스, ITZY, IVE, aespa, CLASS:y, NMIXX, LE SSERAFIM 등 3~4세대 걸그룹 대부분이 이 흐름을 따라가는 중. Weeekly는 청량하고 발랄한 컨셉으로 데뷔했다가 걸크러쉬 컨셉으로 과감히 변경했으며, 드림캐쳐도 밝은 컨셉의 '밍스'로 데뷔했다가 그룹을 재정비하여 '악몽'을 키워드로 하는 어둡고 강렬한 컨셉으로 변신했다.[20] 이러한 류의 노래는 1990년대의 S.E.S나 핑클 등 초창기 걸그룹들이 발표한 노래에서도 엿볼 수 있다.[21] 물론 앨범에 걸크러쉬 컨셉의 가사와 안무로 구성된 일부 수록곡이 포함되어 있긴 하나, 이것이 메인은 아니다.[22] 뮤직비디오 구성으로만 보면 데뷔 초반에는 교복을 입은 학생, 중반 이후부터는 인스타그램 등 소셜미디어에서 인기를 얻는 세련된 SNS 스타 이미지로 등장한다. 유튜버 비디터가 올린 WE GO 댓글 모음 영상에서도 인스타그램 스타들을 모아놓은 것 같다는 댓글을 찾아볼 수 있으며, 다른 곡들의 댓글 모음을 봐도 이런 컨셉이 성공적으로 통했다고 평가하는 댓글들이 많다.[23] 대표적으로 프로미스나인의 본격적인 상승세를 이끌었다는 평가를 받는, Feel good - We Go - DM - Stay This Way로 이어지는 소위 SNS 4부작이 아이돌 팬들 사이에서 큰 호평을 받았다. 특히 '코로나19로 밖에 나갈 수 없는 현실 속에서 떠나는 랜선 여행'을 주제로 삼은 '9 WAY TICKET' 앨범(타이틀곡 'We Go')의 경우, 아이돌 그룹 앨범에 현실 상황을 반영하는 것은 극히 드문데 이를 직접 반영하며 참신함을 줌과 동시에 높은 퀄리티로 내놓았다는 호평을 받았고 빌보드가 선정한 2021년 최고의 K-POP 중 한 곡으로도 이름을 올렸으며, 2022년 1월에 발매된 'DM' 또한 같은 목록에 이름을 올렸다.[24] 현재 수십만장의 초동을 호가하는 아이돌들은 대부분 중국 공구량이 엄청나다. 하지만 프로미스나인은 그쪽에선 영 힘을 못쓰는 편.[25] 프로미스나인이 결성된 오디션인 아이돌학교 또한 나띠, 나타샤 로우 등 외국인 참가자들이 있었다.[26] 프로미스나인 이전의 군통령으로 명성을 모았던 브레이브걸스와 라붐도 비슷한 특징을 갖고 있다.[27] 실제로 이렇게 강조해서 말했다.[28] 플레디스가 해온 수식어 마케팅이라곤 멤버들도 부끄러워하는 프톤치드돌(...) 정도 뿐이다.[29] 공식은 아니고, Channel_9 In The HOUSE 편에서의 언급처럼 멤버들끼리 그냥 암묵적으로 정한 것이다. 여타 다른 그룹과 달리 회사 차원에서 따로 메인 비주얼, 비주얼 에이스로 내세우는 멤버는 없다.[30] 오랜 연예계 생활로 못 본 연예인을 찾기가 힘들테고, 아이돌 전문 MC로만 10년 가까이 활동한 방송인이다. 심지어 그 자리만 해도 무려 21명의 아이돌이 있었다.[31] 얼굴 크기에 대해 이야기 중인 것도 아니었고, 멤버들이 지목한 것도 아닌 정형돈이 이나경을 바라보다가 뜬금없이 언급한 것이다. 자막에도 갑자기? 라 써있을만큼 돌발 멘트였다는 것.[HL] 32.1 32.2 32.3 32.4 HYBE LABELS 채널의 영상 조회수 기준[f9] 33.1 33.2 33.3 33.4 33.5 33.6 33.7 Official fromis_9 채널의 영상 조회수 기준[SE] 34.1 34.2 34.3 34.4 34.5 Stone Music Entertainment 채널의 영상 조회수 기준[44] 선공개 데뷔일[47] 정식 데뷔일[50] 이새롬은 빠른생일이다.[51] 오디션 동기 중 한 명이 김민주이다. 김민주의 경우와 비슷하게 엠넷의 서바이벌 프로그램을 통해 데뷔하게 되었으며, 순위도 뒤에서 두 번째이다. 그러나 백지헌은 첫 번째로 데뷔조 멤버에 호명되지 않았다.[52] 사실 fromis_9의 결성이 더 알려져서 그렇지, 실제로는 버스터즈가 먼저 데뷔했다. 재미있는 건 백지헌도 버스터즈에 들어갈 뻔한 멤버였다는 것.[53] 중1부터 고3까지 여러 회사를 옮겨다니며 준비했다고 한다. 일단 데뷔 전 알려졌던 과거는 샤인댄스 아카데미에 다녔던 경력, 댄싱9 시즌 2 출연, 광고 출연이 있다.[54] 대부분 2016~17년 사이의 작품들로, 특히 백지헌 본인에게 보여주면 시공간이 오그라들도록 싫어하는 미미박스, 맘마밀, 카레라이스 쌀면 등도 여기에 포함된다. 교과서 모델도 하였다.[55] 인터넷에 떠도는 활동 기간 7년 이야기는 공정위 표준 전속계약서의 최대 계약 기간이자 아이돌 그룹의 일반적인 계약 기간인 7년에서 비롯된 것으로, 프로미스나인의 정확한 계약 기간은 알려진 바가 없다.[56] 다만 프로미스나인이 엠넷 서바이벌 프로그램 출신 최초의 정규 아이돌은 아니다. 2017년 소년24라는 프로그램을 통해 데뷔한 IN2IT이 최초이다.[57] 특이 케이스로는 채널A 청춘스타를 통해 데뷔한 n.SSign이 있는데, 이쪽은 프로젝트성 그룹으로 만들어졌다 정식 그룹으로 전환된 최초의 사례다.[58] 심지어 맏언니가 빠른년생이라 막내가 초6일 때 맏언니는 벌써 대학생인 게 된다.[59] 2010년 후반대부터는 멤버끼리 나이차가 많이 나는 그룹도 꽤나 있지만 2세대 이후 걸그룹 중 이정도 나이차가 나는 그룹은 카라나 2NE1 정도 밖에 없었다. 보이그룹도 마찬가지라 2010년 초중반까지를 기준으로 최대 4~5살까지는 꽤 있어도 6살 이상 차이나는 그룹은 흔치 않았던 편.[60] 유일한 자매지간인 멤버 이채영은 3녀 중 막내, 집에서 유일한 첫째인 백지헌은 남동생 1명, 부캡틴인 멤버 송하영은 언니와 남동생, 그리고 나머지 멤버들은 위로 오빠밖에 없다.[61] 송하영, 박지원, 이서연, 이나경[62] 이새롬, 노지선, 이채영, 백지헌[63] 최근 오프더레코드의 공지를 통해 2019년 6월 중으로 고소가 진행됨을 알렸다.[64] 때때로 스태프들을 여럿 동행하는 장거리 스케줄을 이동할 때는 25인승 뉴 카운티를 대절해 사용했다.[65] 축구티셔츠인 줄도 몰랐다고 한다.[66] 반대로 송하영이 손흥민 포즈를 하는 영상도 있는데 여기서는 박지원이 해야 하는 거 아니냐는 댓글이 있다.[67] 박지원도 손흥민이 언급될 때마다 뜨끔하는 듯.[68] 지선의 경우 주변 지인들이 I가 아니라 E같다고 많이 말한다고 하며 본인도 어느정도 동의하긴 했다.[69] 여담으로 새롬은 원래 F 성향을 가지고 있다가 리더 역할을 맡으며 T 성향으로 바뀌었다고 한다. 다만 그룹 내 몇몇 극단적인 T 성향을 띄고 있는 멤버들과는 달리 감성적인 면모도 꽤 자주 보이며 F 시절의 잔상이 남아있는 듯한 모습을 보이기도 한다.[70] 해당 사옥은 한승연이 건물주로도 알려져 일본 카라 팬들에게는 '슨욘비루(スンヨンビル)'라고도 불린다.\"),\n",
              "  Document(metadata={'page_url': 'https://namu.wiki/w/프로미스나인', 'artist_info': 'FROMIS_9', 'toc_item': '개요', 'abs_page_toc_item': '활동/V LIVE//개요', 'parent_paper': 'V LIVE'}, page_content='page_content: 대한민국의 8인조 걸그룹 프로미스나인의 공식 및 타 V LIVE 채널의 활동을 정리한 문서.V LIVE가 서비스를 종료함에 따라 본 콘텐츠및 LIVE는 Weverse으로 이관되었다.'),\n",
              "  Document(metadata={'page_url': 'https://namu.wiki/w/프로미스나인', 'artist_info': 'FROMIS_9', 'toc_item': '로고', 'abs_page_toc_item': '팬덤//로고', 'parent_paper': '팬덤'}, page_content='page_content:  Logotype by flover,,,'),\n",
              "  Document(metadata={'page_url': 'https://namu.wiki/w/프로미스나인', 'artist_info': 'FROMIS_9', 'toc_item': '장규리', 'abs_page_toc_item': '논란 및 사건 사고//前 멤버/장규리', 'parent_paper': '논란 및 사건 사고'}, page_content='page_content: 다음 문서로 대체 설명: https://namu.wiki/w/%EC%9E%A5%EA%B7%9C%EB%A6%AC/%ED%94%84%EB%A1%9C%EB%AF%B8%EC%8A%A4%EB%82%98%EC%9D%B8%20%ED%99%9C%EB%8F%99'),\n",
              "  Document(metadata={'page_url': 'https://namu.wiki/w/프로미스나인', 'artist_info': 'FROMIS_9', 'toc_item': '개요', 'abs_page_toc_item': '팬덤/굿즈//개요', 'parent_paper': '굿즈'}, page_content='page_content: 대한민국의 8인조 걸그룹 프로미스나인의 공식 굿즈에 대해 다루는 문서.'),\n",
              "  Document(metadata={'page_url': 'https://namu.wiki/w/프로미스나인', 'artist_info': 'FROMIS_9', 'toc_item': '싱글 3집 《Supersonic》', 'abs_page_toc_item': '음반//국내 음반/싱글/싱글 3집 《Supersonic》', 'parent_paper': '음반'}, page_content='page_content: 다음 문서로 대체 설명: https://namu.wiki/w/Supersonic(%ED%94%84%EB%A1%9C%EB%AF%B8%EC%8A%A4%EB%82%98%EC%9D%B8)'),\n",
              "  Document(metadata={'page_url': 'https://namu.wiki/w/프로미스나인', 'artist_info': 'FROMIS_9', 'toc_item': 'fromis_9 1st FANMEETING <fromis day>', 'abs_page_toc_item': '팬덤/굿즈//팬미팅/fromis_9 1st FANMEETING <fromis day>', 'parent_paper': '굿즈'}, page_content='page_content:      , , , , ,'),\n",
              "  Document(metadata={'page_url': 'https://namu.wiki/w/프로미스나인', 'artist_info': 'FROMIS_9', 'toc_item': '응원봉', 'abs_page_toc_item': '팬덤/굿즈//응원봉', 'parent_paper': '굿즈'}, page_content='page_content:  ,▲ 23.01.20 출시 fromis_9 Official Light Stick ,'),\n",
              "  Document(metadata={'page_url': 'https://namu.wiki/w/프로미스나인', 'artist_info': 'FROMIS_9', 'toc_item': 'flover', 'abs_page_toc_item': '활동/Weverse//flover', 'parent_paper': 'Weverse'}, page_content='page_content:  날짜,제목,비고,03.30,  Welcome, flover!,,04.17,  It\\'s Honey day! 🍯,,  It\\'s Honey day! 🍯 (+Bonus),,04.19,  fromis_9 selfie diary 📷 220419,,04.26,  fromis_9 selfie diary 📷 220426,,05.05,  fromis_9 selfie diary 📷 fromis day!,,05.14,  It\\'s Chaeyoung day! 💘,,  It\\'s Chaeyoung day! 💘 (+Bonus),,05.19,  fromis_9 selfie diary 📷 220519,,05.20,  fromis_9 \"Would You Rather\" 텔레파시 게임 정답,,06.01,  It\\'s Nakko Day! 🎀,,  It\\'s Nakko Day! 🎀 (+Bonus),,06.01,  2022 HAPPY BIRTHDAY NAGYUNG,,07.19,  fromis Burger & Fries 🍔🍟 Official Photo📷,,07.20,  [for flover] fromis 🍔Burger & Fries🍟 Official Photo - 지선, 지헌, 지원,,  [for flover] 🍔fromis Burger & Fries🍟 fromis_9 그림 프로필 - 지선, 지헌, 지원,,07.21,  [for flover] fromis 🍔Burger & Fries🍟 Official Photo - 나경, 채영, 새롬,,  [for flover] 🍔fromis Burger & Fries🍟 fromis_9 그림 프로필 - 나경, 채영, 새롬,,07.22,  [for flover] fromis 🍔Burger & Fries🍟 Official Photo - 서연, 규리, 하영,,  [for flover] 🍔fromis Burger & Fries🍟 fromis_9 그림 프로필 - 서연, 규리, 하영,,07.25,  [for flover] 🍔fromis Burger & Fries🍟 fromis_9 키워드 인터뷰 - 지선, 지헌, 지원,,  [for flover] 🍔fromis Burger & Fries🍟 fromis_9 키워드 인터뷰 - 나경, 채영, 새롬,,  [for flover] 🍔fromis Burger & Fries🍟 fromis_9 키워드 인터뷰 - 서연, 규리, 하영,,07.27,  [for flover] 🍀flover와 함께 하는 Summer Vacance🏖 Chapter. 1 - Behind Sketch (1),,  [for flover] 🍀flover와 함께 하는 Summer Vacance🏝 Chapter. 1 - Behind Sketch (2),,  🍀flover와 함께 하는 Summer Vacance🏖 Chapter. 2 - Behind Sketch (1),,  🍀flover와 함께 하는 Summer Vacance🏝 Chapter. 2 - Behind Sketch (2),,08.09,  [for flover] 🎉🎁Happy Birthday to August flover🍰🎈,,08.17,  [for flover] 🍔fromis Burger & Fries🍟 프롬이\\'s Name Tag🔖 - 새롬, 하영,,08.18,  [for flover] 🍔fromis Burger & Fries🍟 프롬이\\'s Name Tag🔖 - 지원, 지선,,08.24,  [for flover] 🍔fromis Burger & Fries🍟 프롬이\\'s Name Tag🔖 - 서연, 채영,,08.25,  [for flover] 🍔fromis Burger & Fries🍟 프롬이\\'s Name Tag🔖 - 나경, 지헌,,08.31,  [for flover] 🍀flover와 함께 하는 Summer Vacance🏖 Chapter. 3 - Behind Sketch (1),,  [for flover] 🍀flover와 함께 하는 Summer Vacance🏖 Chapter. 3 - Behind Sketch (2),,09.01,  [for flover] 🍀flover와 함께 하는 Summer Vacance🏖 Chapter. 4 - Behind Sketch (1),,  [for flover] 🍀flover와 함께 하는 Summer Vacance🏖 Chapter. 4 - Behind Sketch (2),,09.07,  🍔fromis Burger & Fries🍟 My Playlist🎧 - 새롬, 하영,,09.08,  🍔fromis Burger & Fries🍟 My Playlist🎧 - 지원, 지선,,09.09,  [for flover] 🎉🎁Happy Birthday to September flover🍰🎈,,09.14,  [for flover] 🍔fromis Burger & Fries🍟 My Playlist🎧 - 서연, 채영,,09.15,  [for flover] 🍔fromis Burger & Fries🍟 My Playlist🎧 - 나경, 지헌,,09.29,  It\\'s Hanyang Day! 🍞,,  It\\'s Hanyang Day! 🍞 (+ Bonus),,10.03,  [for flover] 2022 fromis_9 concert <LOVE FROM.> 📷 Thank You flover💖,,10.09,  [for flover] 🎉🎁Happy Birthday to October flover🍰🎈,,10.12,  [for flover] 🍔fromis Burger & Fries🍟 Employment Plan📑 - 새롬, 하영,,10.13,  [for flover] 🍔fromis Burger & Fries🍟 Employment Plan📑 - 지원, 지선,,10.19,  [for flover] 🍔fromis Burger & Fries🍟 Employment Plan📑 - 서연, 채영,,11.09,  [for flover] 🎉🎁Happy Birthday to November flover🍰🎈,,  [for flover] 🍔fromis Burger & Fries🍟 Say Cheeeeese📸 - 새롬, 하영,,11.10,  [for flover] 🍔fromis Burger & Fries🍟 Say Cheeeeese📸 - 지원, 지선,,11.16,  [for flover] 🍔fromis Burger & Fries🍟 Say Cheeeeese📸 - 서연, 채영,,11.17,  [for flover] 🍔fromis Burger & Fries🍟 Say Cheeeeese📸 - 나경, 지헌,,11.23,  [for flover] 🍔fromis Burger & Fries🍟 My New Menu📜 - 새롬, 하영, 지원, 지선,,  It\\'s Jissen Day! 🍳,,  It\\'s Jissen Day! 🍳 (+ Bonus),,11.24,  [for flover] 🍔fromis Burger & Fries🍟 My New Menu📜 - 서연, 채영, 나경, 지헌,,12.09,  [for flover] 🎉🎁Happy Birthday to December flover🍰🎈,,12.25,  [for flover] 🎁 Happy fromismas🎄,, 날짜,제목,비고,01.04,  [for flover] 🍔fromis Burger & Fries🍟 Official Photo📷 - 새롬,,  [for flover] 🍔fromis Burger & Fries🍟 Official Photo📷 - 하영,,01.05,  [for flover] 🍔fromis Burger & Fries🍟 Official Photo📷 - 지원,,  [for flover] 🍔fromis Burger & Fries🍟 Official Photo📷 - 지선,,01.07,  It\\'s Romssae Day! 🦊,,  [for flover] It\\'s Romssae Day! 🦊 (+ Bonus),,01.09,  [for flover] 🎉🎁Happy Birthday to January flover🍰🎈,,01.11,  [for flover] 🍔fromis Burger & Fries🍟 Official Photo📷 - 서연,,  [for flover] 🍔fromis Burger & Fries🍟 Official Photo📷 - 채영,,01.12,  [for flover] 🍔fromis Burger & Fries🍟 Official Photo📷 - 나경,,  [for flover] 🍔fromis Burger & Fries🍟 Official Photo📷 - 지헌,,01.16,  2023 SEASON\\'S GREETINGS Behind Photo Sketch 1,,01.17,  2023 SEASON\\'S GREETINGS Behind Photo Sketch 2,,01.18,  [for flover] 🍔fromis Burger & Fries🍟 Balance Game🎮 - 새롬, 하영,,01.19,  [for flover] 🍔fromis Burger & Fries🍟 Balance Game🎮 - 지원, 지선,,01.22,  It\\'s Deoyeoni Day! 🐼,,  It\\'s Deoyeoni Day! 🐼 (+ Bonus),,01.24,  [for flover] 🍔fromis Burger & Fries🍟 Happy 5th fromis_9 day🍰💝,,01.25,  [for flover] 🍔fromis Burger & Fries🍟 Balance Game🎮 - 서연, 채영,,01.26,  [for flover] 🍔fromis Burger & Fries🍟 Balance Game🎮 - 나경, 지헌,,02.01,  [for flover] 🍔fromis Burger & Fries🍟 Visual Film🎬 - 새롬,,  [for flover] 🍔fromis Burger & Fries🍟 Visual Film🎬 - 하영,,02.02,  [for flover] 🍔fromis Burger & Fries🍟 Visual Film🎬 - 지원,,  [for flover] 🍔fromis Burger & Fries🍟 Visual Film🎬 - 지선,,02.08,  [for flover] 🍔fromis Burger & Fries🍟 Visual Film🎬 - 서연,,  [for flover] 🍔fromis Burger & Fries🍟 Visual Film🎬 - 채영,,02.09,  [for flover] 🍔fromis Burger & Fries🍟 Visual Film🎬 - 나경,,  [for flover] 🍔fromis Burger & Fries🍟 Visual Film🎬 - 지헌,,  [for flover] 🎉🎁Happy Birthday to February flover🍰🎈,,'),\n",
              "  Document(metadata={'page_url': 'https://namu.wiki/w/프로미스나인', 'artist_info': 'FROMIS_9', 'toc_item': '스페셜 싱글 《From.9》 (2018. 10. 10.)', 'abs_page_toc_item': '활동/음악 방송//2018년/스페셜 싱글 《From.9》 (2018. 10. 10.)', 'parent_paper': '음악 방송'}, page_content=\"page_content: 활동곡 : LOVE BOMB  날짜,방송 프로그램,무대 영상,비고, Special Single Album From.9,10.10, ,LOVE BOMB,,10.11,KCON 2018 THAILAND, l Nothin' On You (with.지원&JIGSAW&NAINA&TOSSAKAN),SPECIAL STAGE,LOVE BOMB (INTRO PERF.ver)｜두근두근 (DKDK),,10.12,,LOVE BOMB,,10.13,,LOVE BOMB,,10.14,,LOVE BOMB,,10.16,,LOVE BOMB NEW 2위,,10.17, ,LOVE BOMB NEW 13위,,10.18,,LOVE BOMB NEW 2위,POST POST,10.19,,LOVE BOMB,,10.20,,LOVE BOMB NEW 20위,,10.21,,LOVE BOMB,,10.25,,LOVE BOMB 2위,POST,Red Light (원곡: f(x)),SPECIAL STAGEPOST,10.26,,LOVE BOMB NEW 34위,,10.27,,LOVE BOMB ▼ 34위,,10.28,,LOVE BOMB,,10.30,,LOVE BOMB ▼ 3위,,11.01,,LOVE BOMB ▼ 4위,POST,11.02,,LOVE BOMB,,11.02,,LOVE BOMB,,11.08,,LOVE BOMB 4위,POST,11.09,,LOVE BOMB,,11.09,,LOVE BOMB,,11.13,,LOVE BOMB,,11.14, ,LOVE BOMB,,11.15,,LOVE BOMB ▼ 7위,수능 응시에 의한 이채영 불참.POST,11.16,,LOVE BOMB,,12.10,,취향저격 (원곡: iKON),SPECIAL STAGE,LOVE BOMB,,12.21,,All I Want For Christmas Is You (원곡: 머라이어 캐리),SPECIAL STAGE,\"),\n",
              "  Document(metadata={'page_url': 'https://namu.wiki/w/프로미스나인', 'artist_info': 'FROMIS_9', 'toc_item': '2022년', 'abs_page_toc_item': '활동/YouTube//타 채널/2022년', 'parent_paper': 'YouTube'}, page_content='page_content:   2022년 YouTube by fromis_9,날짜,채널,콘텐츠,출연,01.10,,  [주간 아이돌] 기습 라이브 with 프로미스나인 LIVE,전원,01.13,,  (ENG) 1️⃣ 새터 준비물? OT 안 가도 돼? 재수생은 미움 받아? 수강신청 실패하면? 22학번 새터의 모든 것, 10학번 짬바로 보여드림 / [문명특급 EP.228-1],장규리, 박지원, 노지선,이채영, 백지헌,01.13,,  (ENG) 2️⃣ 키스 얘기로 날밤 까는 22학번 새내기들^^ 본인들이 꺼내놓고 귀 빨개지고 난리 남ㅋㅋㅋ 그래서 그 해 우리는 키스신 어땠는데? / [문명특급 EP.228-2],장규리, 박지원, 노지선,이채영, 백지헌,01.18,,  프로미스나인 (fromis_9) _ DM | 스페셜클립 | Special Clip | Performance | 퍼포먼스 | 4K,전원,01.20,,  [팩트MV] 프로미스나인(fromis_9) - 디엠(DM),전원,01.21,,  ♨프로미스나인(fromis_9)의 집 나간 아이돌 자아를 찾습니다♨,전원,01.22,,  [밥묵자] 밥묵을 낀데... 9명은 좀... (feat.프로미스나인),전원(#fn-3; 인원이 워낙 많다보니 식사는 3명씩 (이새롬&송하영&백지헌, 박지원&노지선&이서연, 장규리&이채영&이나경) 나눠서 했다. 메뉴는 엽떡.)01.23,,  [벌칙영상] fromis_9(프로미스나인) ‘DM’ 2배속 댄스💖✨ (ft.귀엽고 깜찍하게)/[비투비의 키스 더 라디오] l KBS 220123 방송,전원,01.24,,  [릴레이댄스] 프로미스나인 (fromis_9) - DM (4K),전원,01.26,,  [쇼챔 백스테이지] 역시 쇼챔과 프롬이들은 운명이었어...★ l #쇼챔피언비하인드 l EP.224,전원,01.27,,  \"발에 불나게 뛰어요\" 전설의 아이브 이서 짤 촬영한 카메라 감독 인터뷰 / 스브스뉴스,박지원, 이채영, 백지헌,01.28,,  [퇴근길 LIVE 4K] 1위 가수 프로미스나인(fromis_9)과 함께라면어떤 퇴근길도 Doesn\\'t matter 💜,전원,01.28,,  앙큼 폭시(?)🦊가 흘러넘치는 프로미스나인(fromis_9), 서로 놀리는데 너무 진심인데,,⁉,전원,01.29,,  스무 살 되자마자 독립 선언한 프로미스나인 막내..?! | 아이돌 인간극장 - 프로미스나인 편,전원,02.03,,  대기실에서 전쟁난 프로미스나인(fromis_9)🧨 귀여워(war)...사랑스러워(war),전원,02.03,,  [4K] 프로미스나인(fromis_9) -“DM” Band LIVE Concert│좋아해 난 프로미스나인만을💑 [it’s KPOP LIVE 잇츠라이브],전원,02.03,,  [쇼챔 오락실] 댄스장인가 오락실인가 이곳은 \\'쇼챔 오락실\\'이다❗ 흥부자 프미나의 불꽃 승부욕🔥 l #쇼챔피언비하인드 l EP.225,전원,02.04,,  2022년을 빛낼 아이돌 예능꾼들 모시고 털어봤습니다 | Ep.18,박지원,02.11,,  [4K] 프로미스나인 (fromis_9) - “한 페이지가 될 수 있게(by DAY6)” Band LIVE Concert│청춘은 바로 프나💛[it’s KPOP LIVE 잇츠라이브],전원,02.18,KCON official,  [Stage Clip🎙] fromis_9 (프로미스나인) - 유리구두 (Glass Shoes) (RELAY DANCE ver.) | KCON:TACT 4 U,전원,02.21,,  프로미스나인 지선 ✖ 송훈 셰프의 가성비 甲 ‘수제 티라미수’,노지선,02.23,,  프로미스나인 지선 ✖ 송훈 셰프의 겉바속촉 ‘소시지 페스츄리’,노지선,02.28,,  프로미스나인 지선 ✖ 송훈 셰프의 입에서 살살 녹는 ‘감자 뇨키’,노지선,03.01,,  [팬바타 엔터] ※과몰입 주의※ 여친짤 기억 조작단 프로미스나인이 뽑은 Best 여친짤 월드컵 l fromis_9 인터뷰,전원,03.02,,  프로미스나인 지선 ✖ 송훈 셰프의 바질 향 가득 ‘바질페스토 파스타’,노지선,03.15,,  [Making] 프미나 청량 보컬 듣는 날까지 🌸Stay alive🌸 [크레이지 러브 OST Part.2 (Crazy Love OST Part.2)],전원,03.18,,  요정들은 이런 거 먹는구나..❤️ 프로미스 나인(fromis_9) 추천 맛집 투어ㅣ와썹맨ㅣ박준형,장규리, 노지선,이서연, 이채영,03.28,,  \"뭐야 어떻게 알았어?\" 주관식 찍어도🔥 정답률 100%🔥 프로미스나인(fromis_9) 셀프고사 About Me,백지헌 외 전원,04.08,,  (Idol_Challenge - fromis_9 ep-1) 프로미스나인과 플로버들의 기부 폭발!! “쏴랑해!! 우린 안 참긔!” ♥ (ENG sub),전원,04.15,,  (Idol_Challenge - fromis_9 ep-2) ‘역대급 기부퀸~ 등극!’ 프로미스나인 & 플로버 땡큐 ♥ (ENG sub),전원,04.15,,  삐빅-! 재. 능. 확. 인. 완. 료. 🤖 이게 바로 ASMR이란 건가요.. ?! (with 프로미스나인 지선),노지선,04.21,,  #프로미스나인 (#fromis_9) - Stay Alive LIVE CLIP | LIːV ON | 라이브온 | 크레이지 러브 OST (Crazy Love OST)],백지헌 외 전원,04.21,,  이것도 갓생인가요? 소개팅앱부터 찢어버린 딘딘.gabozago | 📁[갓생기획2] EP1,노지선,04.28,,  I는 공감추 E는 프로미스나인추,백지헌 외 전원,04.28,,  거친 드라이빙과 불안한 택조와 그걸 지켜보는 지선…★(feat.살려줘) | 📁[갓생기획2] EP2,노지선,04.29,,  이번엔 틱톡 챌린지다..! 혀니도 완벽하게 따라 했다는 소문이.. ⁉️ (with fromis_9),백지헌 외 전원,05.05,,  이런 상황에 두근거리는 저, 꼰대인가요? (feat.에어팟논쟁) | 📁[갓생기획2] EP3,노지선,05.19,,  약속 잘 지킬 것 같은 아이돌 후배...(Feat. 프로미스나인),이새롬, 송하영, 노지선,06.02,,  충격! 성수동 오픈런 팝업스토어의 실체 공개합니다 (POP-UP. 갓생기획실) | 📁[갓생기획2] EP7,노지선,06.09,,  운동 이제 그만하고 싶어요 (안돼요) | 📁[갓생기획2] EP8,노지선,06.16,,  나랑 눈 마주치면 사는거다? | 📁[갓생기획2] EP9,노지선,06.20,,  [주간 아이돌] 기습 라이브 with fromis_9 LIVE,전원,06.23,,  케이크 만들다가 멘탈 상담 받았습니다 | 📁[갓생기획2] EP10,노지선,06.28,,  [리무진서비스] EP.19 프로미스나인 송하영 & 박지원 | fromis_9 HAYOUNG & JIWON | DM, You already have, 어른, Time Lapse,송하영, 박지원,06.29~07.19,,  fromis_9 | STUDIO CHOOM [재생목록],전원,06.30,,  딘딘과 지선이는 자유예요! | 📁[갓생기획2] 에필로그,노지선,07.01,,  [FULL] 썸머퀸 프로미스나인과 매터돌 바캉스 떠나실분?😎 [매터돌 EP.17] IDOL’S Snack Spree🛒 | fromis_9 | Stay This Way LIVE,이새롬, 송하영, 장규리, 노지선, 이나경,07.01,,  [돌침 티저] 프로미스나인에서 누가 E고 누가 I야?🤔\\xa0#돌들의침묵\\xa0#Shorts,박지원 외 전원,07.02,,  조용히 잠자는거 빼고 다 하고 간 픎이들😎의 돌침수련회 | 돌들의 침묵 | 프로미스나인 \\'Stay This Way\\',박지원 외 전원,07.03,,  [꿀잠캠] 🌙저 달이 오늘따라 예뻐서 더 예쁘게 잠든 우리 픎이들😴 요정이 따로 없네🧚 | 돌들의 침묵 | 프로미스나인 \\'Stay This Way\\',박지원 외 전원,07.05,,  [릴레이댄스] 프로미스나인 (fromis_9) - Stay This Way (4K),전원,07.06,,  (fromis_9 ep-1) “야~ 여름이다” 시원한 프로미들의 여름 바캉스! 그런데 여행이 아니네 (feat. Paradao / ENG sub),전원,07.07,,  매터돌 최초 음주 라이브!?🥂 프롬이들 마음에 쏘옥~ 신상 (알콜)음료! [매터돌 EP.17] | IDOL’S Snack Spree🛒 | 프로미스나인 (fromis_9),이새롬, 송하영, 장규리, 노지선, 이나경,07.08,,  시원하게 퇴근으로 이끌어줄 여름 여신 프로미스나인(fromis_9)의 퇴근길 현장!🌊),전원,07.09,,  [4K] 프로미스나인(fromis_9) - “Stay This Way” Band LIVE Concert│1위가수 프롬이들의 시원한 서머송💙 [it’s KPOP LIVE 잇츠라이브],장규리 외 전원,07.12,,  [아싸! 너너댄스] 머리카락만 보고 멤버 맞히기 가능?!😲 프로미스나인의 프로 멤잘알은 과연 누구? | fromis_9 - Stay This Way,전원,07.13,,  (fromis_9 ep-2) 1박2일 프로미스나인 인생 최대 위기(?) ㅋㅋ “빙수를 먹느냐? 얼음만 먹느냐?“ (feat. Paradao / ENG sub),전원,07.14,,  [ENG SUB] 1위 공약... 왜 안 지켜요? [용진건강원 EP 07. 프로미스나인 (fromis_9)],박지원, 노지선, 이채영,07.14,,  [쇼챔 백스테이지] 존재가 갓벽 그 잡채...★ 울 갓기들 낳아주셔서 감사합니다? l\\xa0#쇼챔피언비하인드\\xa0l EP.241,전원,07.14,,  [ENG] 윌벤에게 프로미스나인은 누나일까 이모일까 For Willben, is fromis_9 an older sister or an aunt? | THE윌벤쇼 EP.31,이채영, 백지헌,07.16,,  🧳BONUS l 0909 우리에게 특별한 숫자ㅣ🧳출장십오야2 x 하이브,전원,07.20,,  (fromis_9 ep-3) 프로미의 매력에 빠져드는(?) 제작진 (ㅠㅠ 이게 맞아?) (feat. Paradao / ENG sub),전원,07.27,,  (fromis_9 ep-4) 프로미스나인, “영상에서 술냄새가 나네요ㅋㅋ” 폐활량 테스트와 약간의 술냄새를 곁들인... (feat. Paradao / ENG sub),전원,08.03,,  (fromis_9 ep-5) 저녁밥_고기앞에서_등장한_뻔뻔미스나인_모먼트.mp4 (feat. Paradao / ENG sub),전원,08.10,,  (fromis_9 ep-6) \"PD님 출신이 어디세요?~\"ㅋㅋ 프로미스나인의 제작진 약올리기 (?) 디저트 게임! (feat. Paradao / ENG sub),전원,08.10,,  내가 왕이 될 상인가? 대한민국 대표 치킨 브랜드의 근본! 후라이드 치킨만 먹어봤습니다 (with 프로미스나인) [랭킹미식회2 EP.9],송하영, 노지선,08.17,,  (fromis_9 ep-7) 온몸으로 청소하는 프로미표 기상천외 기상미션(?) \"저쪽 팀~ 돌+I인가 봐\" (feat. Paradao / ENG sub),전원,08.17,,  프로미스나인과 함께 2022 대한민국 신상 피자 모두 먹어봤습니다 [랭킹미식회2 EP.10],송하영, 노지선,08.24,,  (fromis_9 ep-8) 프로미스나인의 레전드게임 비하인드! 병뚜껑 게임부터 노래방까지!? “플로버~ 여기여기 모여라~” (feat. Paradao / ENG sub)),전원,09.28,,  귀여운 댕댕이들을 위해 유기견 보호소를 찾은 프로미들! [아이돌 사생대회] 3회 선공개],이새롬, 송하영노지선, 이나경,10.28,,  [fromis_9의 HERE WE GO] Ep.1 프로미스나인과 함께하는 문화유산 유유자적 – 양천향교 편 (Full Ver.),이새롬 외 전원,11.07,,  [fromis_9의 HERE WE GO] Ep.2 프로미스나인과 함께하는 문화유산 유유자적 – 포천 편 (Full Ver.) (ENG SUB),이새롬 외 전원,'),\n",
              "  Document(metadata={'page_url': 'https://namu.wiki/w/프로미스나인', 'artist_info': 'FROMIS_9', 'toc_item': '미니 5집 《from our Memento Box》 (2022. 06. 27.)', 'abs_page_toc_item': '활동/음악 방송//2022년/미니 5집 《from our Memento Box》 (2022. 06. 27.)', 'parent_paper': '음악 방송'}, page_content='page_content: 활동곡 : Stay This Way  날짜,방송 프로그램,무대 영상,비고, The 5th Mini Album from our Memento Box,06.30,,Stay This Way,POST,07.01,,Stay This Way,,07.03,,Stay This Way,,07.05, ,RewindStay This Way NEW 1위Stay This Way 앵콜 무대,,07.06, ,RewindStay This Way NEW 1위Stay This Way 앵콜 무대,POST,07.07,,Stay This Way NEW 1위Stay This Way 앵콜 무대,엠 카운트다운 첫 1위POST POST,07.08,,Stay This Way NEW 1위,지상파 음악방송 첫 1위뮤직뱅크 첫 1위,07.10,,Stay This Way NEW 5위,,07.12, ,Stay This Way ▼ 2위,이새롬, 이나경,07.13, ,Stay This Way,,07.14,,Stay This Way ▼ 10위,,07.15,,Stay This Way ▼ 18위,,07.17,,Stay This Way,,07.30,육군 제50보병사단, DM｜WE GO,,08.06,3000회 특집, 축전 VCR,,09.25,,Stay This WayWe Go,8월 9일 녹화,'),\n",
              "  Document(metadata={'page_url': 'https://namu.wiki/w/프로미스나인', 'artist_info': 'FROMIS_9', 'toc_item': '개요', 'abs_page_toc_item': '활동/음악 방송//개요', 'parent_paper': '음악 방송'}, page_content='page_content: 대한민국의 8인조 걸그룹 프로미스나인의 역대 음반별 음악 방송 출연을 정리한 문서.해당 날짜는 TV 방영일을 기준으로 서술 되었습니다.'),\n",
              "  Document(metadata={'page_url': 'https://namu.wiki/w/프로미스나인', 'artist_info': 'FROMIS_9', 'toc_item': '여담', 'abs_page_toc_item': '팬덤//응원봉/여담', 'parent_paper': '팬덤'}, page_content='page_content: 2023년 1월 13일 오후 6시, 하이브 소속 아티스트 상품 판매 공식 트윗인 HYBE MERCH를 통해 해당 동영상과 함께 공식응원봉 출시일정을 공개했다. 1월 20일 11시에 상세 페이지가 공개되며, 같은 날 오후 6시부터 판매를 시작한다. 중앙제어를 지원하며 색깔에 멤버들 의견이 약간이나마 반영됐다고 한다.  2023년 1월 20일 11시, 위버스 샵을 통해 상세 이미지가 공개되었는데 플로버들의 반응이 그다지 좋지 않다. 구성에 비해 가격이 지나치게 높기 때문이다. 위버스샵에서 판매중인 하이브 아티스트들의 응원봉 가격대가 39,000원~42,000원에 포토카드 패키지가 포함된 가격이었음에도 불구하고 49,000원이라는 높은 가격에 포토카드조차 포함되어있지 않은 구성이었기 때문이다. 긍정적으로 보자는 측에서는 코로나와 러시아 우크라이나 전쟁 등으로 인한 장기화된 반도체 가격 상승으로 인해 올해부터 가격이 오른 것이라고 옹호하였으나 그렇다고 하더라도 포토카드조차 구성품에 없다는 것이 이해가 가지 않는다는 것이었다. 또한 위버스샵은 5만원부터 무료배송을 보장하는데 49,000원으로 가격을 책정하여 무조건 배송비를 지불하여 52,000원으로 구매하여야 하는 상황에 놓인 것이다. 배달 어플처럼 배달비 꼼수 방지를 위한 옵션을 넣어두든지 다른 상품과 묶음 배송이라도 지원했어야 하는데 그것조차 지원하지 않아서 말만 49,000원이지 실제로는 52,000원에 구매해야 하기 때문이다. 제주도나 도서지역의 경우 배송비가 6천원이며 일본 플로버들은 6,500엔에 배송비가 800엔으로 한화로 8만원에 달하는 금액으로 구매해야하는 상황이라 사태가 더더욱 심각하다. 또한 응원봉의 디자인도 여타 다른 아티스트들의 응원봉처럼 투명한 구 형태 안에 그룹을 상징하는 심볼이 들어간 형태도 아닐뿐더러 그렇다고 특별한 형태의 디자인도 아니고 그냥 그룹 로고를 그대로 봉에 붙여놓은 형태이다보니 성의도 없다는 지적이 많다. 또한 당장 며칠 전에 채영이 위버스 라이브 도중에 악플로 인해 울먹였던 사건이 있었던지라 아티스트는 캐어하지 않고 돈만 밝히는 회사에 대한 불만이 하늘을 찌르는 상황이다.그러나 2023년 2월 1일, 응원봉이 발송된 후 배송을 받은 플로버들이 늘어남에 따라 여론은 반전되어가는 상황이다. 생각보다 실물이 예쁘다는 반응이 팬덤과 외부에서도 나오고 있다. 또한 멤버들이 로고 색상과 손잡이 색상에 의견을 내었고 그것이 반영되었음이 다시금 확인되었다.'),\n",
              "  Document(metadata={'page_url': 'https://namu.wiki/w/프로미스나인', 'artist_info': 'FROMIS_9', 'toc_item': '응원봉', 'abs_page_toc_item': '팬덤//응원봉', 'parent_paper': '팬덤'}, page_content='page_content:  ,▲ 23.01.20 출시 fromis_9 Official Light Stick ,'),\n",
              "  Document(metadata={'page_url': 'https://namu.wiki/w/프로미스나인', 'artist_info': 'FROMIS_9', 'toc_item': '개요', 'abs_page_toc_item': '활동/음악 방송/무대 의상//개요', 'parent_paper': '무대 의상'}, page_content='page_content: 대한민국의 8인조 걸그룹 프로미스나인의 역대 음반별 단체 무대의상을 정리한 문서.'),\n",
              "  Document(metadata={'page_url': 'https://namu.wiki/w/프로미스나인', 'artist_info': 'FROMIS_9', 'toc_item': '시상식', 'abs_page_toc_item': '수상 경력//시상식', 'parent_paper': '수상 경력'}, page_content='page_content:  수상 by fromis_9,날짜,시상식,부문,비고,2018년,05.06,제13회 아시아 모델 페스티벌,가수부문 뉴스타상,,11.28,2018 아시아 아티스트 어워즈,가수부문 라이징상,SF9와 공동수상.,2019년,03.02,2019 Global V LIVE Top 10,ROOKIE TOP5,(여자)아이들, 유선호, Stray Kids, IZ*ONE와 공동수상.,2021년,04.27,2021 브랜드 고객충성도 대상,여자아이돌(핫트렌드),,08.19,2021 올해의 브랜드 대상,여자아이돌(핫트렌드),,2022년,08.25,2022 K 글로벌 하트 드림 어워즈,K 글로벌 베스트 퍼포먼스상,오마이걸, 더보이즈와 공동수상.,2023년,02.11,30주년 한터뮤직어워즈 2022,포스트 제너레이션상,정동원, EVERGLOW, CIX와 공동수상.,07.13,2023 방송광고 페스티벌,CF스타 신인상,신예은과 공동수상.,08.10,2023 K 글로벌 하트 드림 어워즈,K 글로벌 베스트 뮤직비디오상,더보이즈와 공동수상.,11.18,2023 슈퍼사운드 페스티벌,올해의 여자 그룹 퍼포먼스 부문 대상,,'),\n",
              "  Document(metadata={'page_url': 'https://namu.wiki/w/프로미스나인', 'artist_info': 'FROMIS_9', 'toc_item': '역대 프로필 사진', 'abs_page_toc_item': '역대 프로필 사진', 'parent_paper': ''}, page_content='page_content: ,,,,유리구두,To. Heart,To. Day,From.9,,,,,FUN FACTORY,LOVE BOMB (Japanese Ver.),My Little Society,9 WAY TICKET,,,,,Talk & Talk,Midnight Guest,from our Memento Box,,,,,Unlock My World,Supersonic,,,'),\n",
              "  Document(metadata={'page_url': 'https://namu.wiki/w/프로미스나인', 'artist_info': 'FROMIS_9', 'toc_item': '2017년', 'abs_page_toc_item': '활동//연혁/2017년', 'parent_paper': '활동'}, page_content=\"page_content: 10월 13일, 아침 이채영이 처음으로 아이돌학교 페이스북 공식 계정을 통한 라이브 방송을 했고, 이후 오후에 한 번, 저녁에 한 번 멤버들도 모르게 라이브가 켜졌고, 방송을 진행했다.  10월 19일, 'fromis_의 방 엿보기' 방영을 시작으로 10월 26일 8시 30분 총 5화 분량의 fromis_의 방 정규 방송이 방영되었다. fromis_의 방 최종회에서 프로필 사진을 촬영하는 모습이 공개되었고, 방송이 끝난 직후 11월 24일 자정에 멤버별 프로필 사진 두 컷과 단체 프로필 사진 두 컷이 공식 SNS에 올라왔다. 멤버별 프로필 사진 공개는 아이돌학교 최종회 순위대로 진행되었으며, 1위인 노지선부터 공개되었다.  포털사이트 네이버에 프로필 정보가 등록되었다.  10월 26일 부터 약 1개월 간 노지선과 송하영이 엠 카운트다운의 중간 VCR 영상에 출연했다.  11월 29일, 일본 요코하마 아레나에서 열리는 MAMA에 출연해 첫 무대를 선보였다. 이날 선보인 노래의 이름은 동화 신데렐라에서 모티브를 따온 곡인 '유리구두'였다.기사 전문 곡의 퀄리티가 괜찮아서 팬들 사이에선 호평이 잇따랐으며, 이 곡이 앨범 수록곡이냐 아니면 타이틀곡이냐는 궁금증이 많았다. 같은 날 뮤직비디오와 함께 V LIVE 방송을 통해 30일에 본격적으로 음원이 풀린다는 사실을 공개했다. 다음날 30일 본 곡으로 프리 데뷔가 결정되었다. 유리구두 활동 당시에는 정식 데뷔는 하지 않은 상태였다. 유리구두는 정식 데뷔 전 데뷔 앨범에 수록된 곡 중 하나를 선공개한 것이다. 일명 프리데뷔. 정식 데뷔는 2018년 1월 24일로 확정되었다.기사 전문 프리 데뷔치고는 음방에 눈에 띄게 출연했었다 12월 26일, CJ오쇼핑 <동가게> 방영 중 동국제약 마데카크림이 유리구두가 BGM으로 나오던 도중 매진이 되었다. 정식 데뷔 전의 그룹 곡이 TV 홈쇼핑 방송에 BGM으로 나오던 도중에 매진이 되는 경우는 상당히 드문 경우이다.  건강식품기업 grn+의 모델이 되었다.광고 사진  CJ E&M 여성잡지 1st look 146호에서 잇츠스킨 제품을 사용하여 화보를 찍었다.기사 전문  12월 15일, KBS2 '뮤직뱅크' 무대를 시작으로 지상파 진입에 성공했다.기사 전문  12월 23일, MBC '쇼! 음악중심'에 출연이 확정되었다.  첫 소속사였던 스톤뮤직엔터테인먼트의 지분을 독점하고 있는 CJ ENM은 fromis_9이 정식으로 데뷔하기 전부터 프듀 시리즈와 달리 아이돌학교가 흥행 참패를 겪었는데도 불구하고 요코하마시에서 열린 MAMA 시상식에 단독 무대를 잡아줬고, 공식 페이스북에 지속적으로 fromis_9 관련 스낵 영상들을 제작하여 게시해 줬다.또한 엠넷의 공식 페이스북 계정을 통해 fromis_9의 게시물을 공유하는 등 지속적인 홍보를 해 왔다. 당연히 팬덤의 반응도 스톤 뮤직과 CJ ENM을 분리해서 키다리 소속사가 일을 잘 한다'며 긍정적이었다. 하지만 어쩌다 한 번씩 유튜브 스낵 영상에 영어 자막과 일본어 자막을 빼놓고 올릴 때가 있어 해외 팬들의 원성을 산다는 소리가 그러다가 프로미스나인의 담당 소속사가 오프더레코드 엔터테인먼트로 바뀐 뒤에 스톤 뮤직은 음반 유통만 전담하게 됐다. 오프더레코드도 다른 소속사들에 비하면 일을 한다는 소리를 듣는 편이다. 스타일링 또한 파격적인 도전을 하면서 칭찬을 들었고, 지속적인 유튜브 컨텐츠와 V LIVE, 웹드라마 '그래도 괜찮은 회복회' 등을 공급해 팬들이 심심할 여지를 주진 않는 편.  ,\"),\n",
              "  Document(metadata={'page_url': 'https://namu.wiki/w/프로미스나인', 'artist_info': 'FROMIS_9', 'toc_item': 'V LIVE', 'abs_page_toc_item': '활동//SNS 활동/V LIVE', 'parent_paper': '활동'}, page_content='page_content: 다음 문서로 대체 설명: https://namu.wiki/w/%ED%94%84%EB%A1%9C%EB%AF%B8%EC%8A%A4%EB%82%98%EC%9D%B8/V%20LIVE'),\n",
              "  Document(metadata={'page_url': 'https://namu.wiki/w/프로미스나인', 'artist_info': 'FROMIS_9', 'toc_item': '네오젠', 'abs_page_toc_item': '활동/광고 및 화보//광고/네오젠', 'parent_paper': '광고 및 화보'}, page_content='page_content:    ,  CF,,,,  NEOGEN | fromis_9 : 우리들의\\xa0#피부자신감\\xa0❤ 내일도 프로미스!,  NEOGEN | fromis_9 : 나만의 뷰티 에디션❤\\xa0#아이돌\\xa0메이크업,  NEOGEN | fromis_9 규리 Pick! 네오젠 프로바이오틱스 크림 (Clip),,,,  NEOGEN | fromis_9 서연,나경 Pick! 네오젠 브이바이옴 수딩&퍼밍 크림 (Clip),  NEOGEN | fromis_9 지원,나경 Pick! 네오젠 슬림 메탈 마스카라_Pink (Clip),  NEOGEN | fromis_9 새롬,지선,채영 Pick! 네오젠 엣지아이라이너 (Clip), ,,  네오젠 X 프로미스나인 💜 화장품 모델 발탁! 뷰티 화보 촬영현장😍\\xa0#메이킹\\xa0영상 공개!🎬,  네오젠 X 프로미스나인 💜 화보 촬영 비하인드(Behind)\\xa0#인터뷰\\xa0영상 공개!🎬,'),\n",
              "  Document(metadata={'page_url': 'https://namu.wiki/w/프로미스나인', 'artist_info': 'FROMIS_9', 'toc_item': '2017년', 'abs_page_toc_item': '활동/YouTube//타 채널/2017년', 'parent_paper': 'YouTube'}, page_content='page_content:   2017년 YouTube by fromis_9,날짜,채널,콘텐츠,출연,12.05,,  [Selfie MV] fromis_9 (프로미스_9) - 유리구두,전원,12.16,,  [릴레이댄스] fromis_9(프로미스_9) - 유리구두(Glass Shoes),전원,'),\n",
              "  Document(metadata={'page_url': 'https://namu.wiki/w/프로미스나인', 'artist_info': 'FROMIS_9', 'toc_item': '2019년', 'abs_page_toc_item': '활동/광고 및 화보//화보/2019년', 'parent_paper': '광고 및 화보'}, page_content='page_content:  대한민국 행정구 속령  (2019년 7월호),,,장규리,  대한민국 행정구 속령  (2019년 12월호),,,,이새롬,'),\n",
              "  Document(metadata={'page_url': 'https://namu.wiki/w/프로미스나인', 'artist_info': 'FROMIS_9', 'toc_item': '타 팬덤과의 관계', 'abs_page_toc_item': '팬덤//타 팬덤과의 관계', 'parent_paper': '팬덤'}, page_content='page_content: WIZ*ONE-IZ*ONE자타공인 플로버의 영원한 동지!데뷔 초에 다양한 활동(#fn-21; 서로의 비하인드 컨텐츠 fm1.24, 에너지캠에 출연하거나 단체 회식을 한적도 있고 합동 브이라이브를 한적도 있으며 단체로 유기견 보호센터 봉사활동을 하기도 했었다. 하지만 2019년에 아이즈원이 많은 활동을 해외에서 진행하고 2020년부터는 실질적으로 소속사도 달라지면서 접점이 많이 줄어들었다. 물론 마리텔2에서 안유진의 빈자리를 송하영이 채우는 등 사소한 접점은 꾸준히 이어졌다.)들을 함께 했다. 전 멤버장규리가프로듀스 48에 출연한 덕분에 많은 플로버들이 아이즈원 멤버들에게 자연스럽게 정이 쌓일수 밖에 없었고 따라서 겸덕들도 굉장히 많았다. 반대로 방송을 보며 처음 장규리에게 입덕한 팬들 또한 겸덕을 하는 경우가 많았다. 결정적으로힘든 시기를 함께 보냈다는 일종의 전우애도 있었기에평행우주 프로젝트당시나 프로미스나인의 첫 1위 당시(#fn-22; 당시 기준 걸그룹 역사상 3번째로 오래 걸린 1위였기에 의미가 남다른 1위였다. 이때는 팬들뿐만 아니라 리더 권은비가 직접 축하 케이크까지 건넸다.)에 서로 따뜻한 응원을 주고받는 모습을 볼수 있었다.  CARAT-세븐틴그룹관의 연관성은 같은 소속사라는 점을 제외하면 적은 편이나 2022년 위버스 악플 사태 당시 플로버들이 많은 하이브 레이블 소속 아티스트 팬들의 도움을 받았는데 특히 같은 소속사인 캐럿들이 해당 사태에 함께 분노하며 큰 도움을 줬었다. 2023년이채영의 위버스 라이브 악플 사태(#fn-23; 프로미스나인의 위버스 라이브는 몰상식한 몇몇 악플러들이 입에 담지 못할 말들을 뱉어내는 경우가 많아 대부분 유료 멤버십에 가입한 사람들만 시청이 가능하게 설정하고 진행하는 경우가 많았으나 더 많은 플로버들과 소통하고 싶었던 이채영이 멤버십 온리가 아닌 전체 공개로 라이브를 시도했다가 수많은 악플 테러가 일어났으며 덕분에 큰 상처를 받은 채영이 눈물을 보이다 라이브를 급히 끈적이 있었다. 라이브를 보던 플로버들은 당연히 이 사태에 대해 극대노를 했었으며 새벽 시간대에 관련 커뮤니티들이 단체로 활활 타오르기도 했다. 미쳐 날뛰는 플로버들을 진정시키려고 당일 오전 4시에 지선이 위버스에 나타나기도 했다.)로 이러한 문제가 공론화된 이후에도 꾸준한 응원을 보내주는 등 많은 플로버들이 감사하게 생각하는 팬덤 중 하나다.'),\n",
              "  Document(metadata={'page_url': 'https://namu.wiki/w/프로미스나인', 'artist_info': 'FROMIS_9', 'toc_item': '2020년', 'abs_page_toc_item': '활동//연혁/2020년', 'parent_paper': '활동'}, page_content=\"page_content: 1월 22일, 본격적인 일본 활동을 앞두고 일본 내 공식 웹사이트와 트위터 계정를 개설하고 3월 22일 도쿄, 24일 오사카에서 팬미팅을 개최한다고 공지했다.  2월 7일, 일본에서 3월 22일~24일 이틀간 개최되는 팬미팅의 제목이 fromis_9 JAPAN 1st FANMEETING ＜FLOVER FUN&BOMB＞으로 결정되었다.  2월 21일, 일본 트위터 계정을 통해 LOVE BOMB과 FUN의 일본어 버전을 수록한 Pre-Debut Single 앨범 'LOVE BOMB'이 3월 13일 일본에서 발매된다고 공지했다. 또한 일본 공식 사이트를 통해 새로운 개인및 단체 프로필 사진을 공개했다.  3월 5일, KCON Global 트위터를 통해 4월에 열리는 KCON 2020 JAPAN의 첫째 날 공연에 참석이 확정되었다. 같은 날 6월에 방영 예정인 tvN 드라마 사이코지만 괜찮아에 장규리가 '선별' 역으로 캐스팅된 소식을 알렸다.기사 전문  3월 6일, 일본 공식 사이트를 통해 코로나19로 인해 3월 22일 도쿄, 24일 오사카에서 개최 예정이었던 팬미팅 행사을 연기한다고 공지했다. 이에 앞서, 3월 13일에 공개 예정이던 Pre-Debut Single 앨범 'LOVE BOMB' 역시 또한 잠정적으로 발매가 연기된다고 밝혔다.더구다나 4월 3일부터 5일까지 진행되며 첫째 날 공연에 출연이 예정되어있던 K-CON 2020 JAPAN도 같은 이유로 연기되면서 일본 활동에 급제동이 걸렸다.같은 날 데뷔 2주년을 기념하며 신생아 모자 뜨기에 도전해 완성된 모자를 기부하는 컨텐츠를 공개하였고 이에 플로버들의 동참 행렬까지 이끌어내며 선한 영향력을 보여주었다.  3월 12일, 공식 V LIVE 채널을 통해 새로운 컨텐츠 프롬탐구일지🔍가 신설됐음을 알렸다.  4월 13일, 공식 유튜브를 통해 '채널나인 In The HOUSE'의 티저 영상이 게시 되었다. 같은 날, 3월 22일과 24일 일본에서 개최 예정 이었던 팬미팅 <FLOVER FUN&BOMB>이 코로나19의 여파로 인해 결국 전면 취소되어 일본 공식 홈페이지에 환불일정이 공지했다.  4월 14일, 공식 유튜브를 통해 '채널나인 In The HOUSE' 1화가 게시 되었다.  4월 15일, 국내 나이키 메가스토어 오픈 기념으로 유튜브에 공개된 이벤트 영상에 노지선이 출연했다. Full.ver  6월 12일, 중국의 TikTok 사이트인 DOUYIN 공식 채널을 개설 하였다. 어째서 한국 채널은...  6월 20일,\\xa0장규리 조연의\\xa0tvN 주말 드라마 '사이코지만 괜찮아'의 첫 방송이 시작 되었다.  6월 30일~7월 2일, 3일간을 거처 공식 트위터를 통해 채널나인의 새로운 시즌에 대한 떡밥을 뿌리기 시작했다. 채널나인 In The House 때와는 다르게 종전 시즌처럼 야외나 스튜디오가 배경인 듯 토마토밭, 학교 느낌의 스튜디오처럼 보이는 힌트 사진을 공개했다.  7월 4일, 공식 유튜브를 통해 채널나인 EfG의 티저를 공개했다. 힌트대로 학교, 농촌, 연습실, 펜션 등 다채로운 장소에서 진행되는 것으로 보인다.  7월 7일, 공식 유튜브를 통해 '채널나인 EfG' 1화가 게시 되었다.  8월 9일,\\xa0장규리 조연의\\xa0tvN 주말 드라마 '사이코지만 괜찮아'가 종영을 맞이했다.  8월 25일, 9월 중순에 컴백한다는 기사가 올라왔다. Fun Factory 활동 이후 약 1년 3개월만의 컴백이다. 기사 전문  9월 2일, 공식 SNS를 통해 미니 3집 앨범 'My Little Society'의 티저 사진이 공개됐다.  9월 8일, 공식 SNS를 통해 미니 3집 앨범 'My Little Society'의 단체 사진이 공개됐다.  9월 9일, 오후 9시 공식 SNS을 통해 멤버 전원이 미니 3집 앨범의 사전 프로모션의 일환으로 멤버 개인의 인스타스램 계정을 공개했다. 공식 fromis_9 인스타그램의 자물쇠 아트 게시물을 클릭하면 해당 멤버의 계정이 각각 태그 되어있다.  9월 10일, 컴백을 앞두고 이서연이 부상으로 인해 활동이 불가능하게 되면서 8인체제로 활동하게 되었다. 다만 이는 방송 녹화와 같은 대외 활동에서만 불참하게 되었을 뿐 기존 앨범 준비 과정이나 녹음 등은 모두 참여했다.  9월 12일, 이새롬과 송하영이 개인 인스타그램 계정을 통해 첫 LIVE 방송을 하였다. 같은 날 공식 유튜브 채널을 통해 미니 3집 앨범 'My Little Society'의 하이라이트 메들리가 공개됐다.  9월 14일, 공식 유튜브 채널과 스톤뮤직 유튜브 채널를 통해 타이틀곡 'Feel Good'의 뮤직비디오 첫번째 티저가 공개됐다.  9월 15일, 공식 유튜브 채널과 스톤뮤직 유튜브 채널를 통해 타이틀곡 'Feel Good'의 뮤직비디오 두번째 티저가 공개됐다.  9월 16일, 오후 6시 미니 3집 앨범 'My Little Society' 앨범 발매 및 타이틀곡 'Feel_Good' M/V 공개에 앞서 1시간 먼저 공식 SNS 을 통해 트위터 블루룸 LIVE Q&A을 진행했다. 방송은 간단한 앨범 언박싱과 함께 문답으로 이뤄졌다.Full.ver  Full.ver  9월 17일, 앨범 프로모션의 일환으로 스톤뮤직 엔터테인먼트가 운영하는 네이버 포스터에 타이틀 곡 'Feel Good'의 M/V 촬영 현장을 담은 비하인드 사진 게시와 더불어 사인 폴라로이드 증정 이벤트를 진행했다. POST  9월 21일, 새벽 Feel Good의 뮤직비디오가 1,000만 뷰를 돌파했다. 발매한지 5일째 만에 달성한 기록으로 역대 자체 기록 중 최단 기록이다. 같은 날 오후 5시, 유튜브 일본 공식 채널을 오픈했다.  9월 30일, 추석 기념으로 추석 인사 영상과 함께, Feel Good 한복 차림의 안무 영상을 업로드 했다. 엎드리는 안무나 들어올리는 안무 등을 고려해 여자 한복이 아닌 무사 컨셉의 남자 한복을 착용해 멋쁨, 잘생쁨을 뽐냈다.  10월 18일, 데뷔 999일을 맞이했다. 오전 12시가 되자 공식 트위터, 페이스북, 인스타그램, 공식 카페에 데뷔 999일 특전이 게시되었고, 999일 기념 V앱을 오후 9시인 약속시에 진행했다. 멤버들마다 2009년 유행곡들의 컨셉 복장을 입고 해당 노래에 맞춰 춤을 추며 등장했고, 축하 케이크의 촛불을 끈 후 FM 1.24나 채널나인 등에서 보여준 연습실 단체 게임 위주로 진행되었다. 다음 날이 데뷔 1000일이지만 라디오 스케줄이 약속시와 겹쳤기 때문에 겸사겸사 999일을 제대로 기념한 듯 하다.  10월 19일, 오전 12시가 되자마자 공식 카페에 데뷔 1000일을 축하하는 멤버들의 손편지가 게시되었다. 부상으로 활동에서 빠져 휴식중인 서연의 편지도 포함되어 있었다. 또한 오후 5시 데뷔 1000일을 기념하는데뷔 999일 뒷풀이 느낌의 V LIVE를 진행했다. 이새롬, 박지원, 노지선이 함께 했으며 백지헌이 채팅창 댓글로 참여했다. 안무 선생님이 데뷔 1000일을 축하하는 케이크를 선물했고 이를 언박싱하고 먹방하는 것 위주로 진행되었다.  11월 20일, 행정안전부와 SBS가 공동으로 주관하는 2020년 제24회 민원봉사대상에 축하무대와 시상자로 참여하였다. 이새롬이 SBS 8시 뉴스에 자료화면으로 짧게 출연하였다.  11월 24일, 오후 4시 11월 20일에 진행되었던 제 24회 민원봉사대상이 SBS를 통해 방송되었다. 또한 오후 6시 다리 부상으로 활동을 중단하였던 이서연이 포함된 'Feel Good' 완전체 안무영상이 V LIVE 공식 채널과 공식 유튜브 채널에 업로드되었다. 또한, 라이프타임에서 황제성이 진행하는 웹예능, 인생주식회사에 이서연 외 전원이 출영하였다.  11월 25일, 오후 6시 채널나인 새 시즌 티저 이미지가 공식 트위터를 통해 공개됐다. 꽃다발 이모지와 함께 멤버들이 각자 꽃다발을 들고 가운데로 모은 상태로 찍은 사진을 업로드하였다. 또한 2020 경상북도 4차산업혁명 기술대전의 3일차 Culture Day를 맞아 온택트 특별 공연에 참석해 미니 3집 'My Little Soceity' 컴백 이후 처음으로 9인 완전체 'Feel Good' 무대를 선보였다. 전날인 24일 9인 안무영상이 업로드된 데 이어 행사로 복귀를 공식적으로 선언했다. 이 날 공연에서 서연과 멤버들은 9인으로 복귀한 첫 무대에 대한 소감도 전했다.  11월 28일, 오전 11시 30분 KBS2 퀴즈 위의 아이돌에 장규리, 노지선이 게스트로 출연하여 위키미키의 최유정, 김도연과 팀을 이뤄 뛰어난 활약 끝에 선배돌과의 퀴즈 대결에서 승리하였다. 장규리는 MC인 장성규, 김종민과 모두 방송을 같이 한 인연이 있다.  11월 30일, 오후 6시 공식 유튜브 채널을 통해 채널나인 시즌5 채널나인 연말결산의 티저 영상이 공개되었다.  12월 1일, 오후 6시 채널나인 연말결산 Part.1이 공개되었다. 티저에서 예상되었듯 시상식 컨셉으로 두근두근 시상식 이후 맞는 두 번째 자체 시상식이다.  12월 2일, 오후12시 2021 대학 수학능력시험 응원영상이 업로드되었다. 오후 5시, 카카오TV의 웹 예능 찐경규에 규리가 출연했다. 신상출시 편스토랑 이후 이경규에게 유행어 'WOW'까지 전파했던 규리가 이번에도 이경규와 만났다. 라면에 대한 테마로 만난 두 사람은 신상출시 편스토랑에서도 라면을 주제로 한 콩트 컨셉에서도 사원과 사장으로 호흡을 맞춘 적 있다. 실제로 이경규는 신상출시 편스토랑에서 규리가 전파한 'WOW'를 개는 훌륭하다와 나만 믿고 따라와, 도시어부 등지에서 활용했으며 개는 훌륭하다의 '무엇이든 제보하개' 코너에서는 아예 시그니처 포즈로 정착되었다. 규리의 예능 '규라인'은 '워크맨', '퀴즈 위의 아이돌'의 장성'규'와 신상출시 편스토랑, 찐경규의 이경'규' 두 라인이 된 셈이다.  12월 3일, 오후 9시 규리와 지선이 SBS 맛남의 광장 1주년 특집에 출연했다. 휴게소에서 선생님인 김희철을 만난 두 사람은 뒤이어 차를 타고 등장한 백종원 일행과 속초로 이동했다. 이동하는 차 안에서 미리 준비해둔 소화제를 멤버들과 제작진에게 건넸는데 소화제 병에 포스트잇에 쓴 손편지가 붙어있어 선생님을 비롯 많은 사람들이 감동받았다. 목적지에 도착하여 양미리 구이를 먹게 된 규리와 지선은 처음에는 비리게 보여 꺼렸지만 노릇노릇하게 구워진 양미리를 먹어보고는 하나도 비리지 않고 맛있다며 극찬했다. 방송이 끝나고 백지헌은 두 사람이 맛남의 광장에 출연한 것을 무척이나 부러워하는 인스타 스토리를 업로드하였다.  12월 10일, 오후 9시 SBS 맛남의 광장 1주년 특집에 출연중인 규리와 지선은 백종원의 중식도인 '백스칼리버'를 두고 양세형, 유병재와 팀을 이뤄 양미리를 가지고 요리 대결을 펼쳤다. 양세형과 팀을 이룬 규리는 양미리 강정을 만들고, 유병재와 팀을 이룬 지선은 양미리 김치찜을 만들었다. 심사를 맡은 백종원은 강정의 아이디어를 낸 세형과 카레가루를 너무 많이 묻힌 규리, 양미리가 양념이 잘 배지 않는 재료라는 걸 모르는 병재와 지선까지 맞히며 백탐정의 면모를 보였다. 결국 승리는 양미리 강정을 만든 세형과 규리에게 돌아갔고 세형과 규리는 백종원의 중식도를 받게 되었다. 방송이 끝나고 규리는 인스타스토리에 중식도를 인증하며 감사의 인사를 했고, 셀카를 찍을 정신이 없을 정도로 맛있는 음식을 많이 먹었다는 지선의 트윗에 이번에도 지헌은 부러워하는 답트윗을 업로드하였다.  12월 17일, 오후 9시 SBS 맛남의 광장 1주년 특집에 출연중인 규리와 지선은 둘째 날을 맞이하여 희철쌤과 함께 아침 식사로 홍게 라면을 준비했다. 지선은 홍게 라면의 양념장을 레시피도 없이 뚝딱 만들어냈고 비주얼이나 맛이나 백종원의 그것과 거의 흡사하였고 완성된 라면도 출연진들로부터 극찬을 받았다. 규리는 희철의 지도 아래 홍게 손질을 도왔다. 또한 맛남의 광장 쇼핑 라이브를 통해 농벤져스와 함께 홍게살을 판매하였고 자기소개와 요리도 진행하기 전에 500세트가 매진되었으며 이에 놀란 것도 잠시 요리를 시작하고 일부러 늦게 푼 나머지 500세트도 첫 번째 요리를 하는 도중 완판되었다. 사실상 홍게살을 홍보하는 자리가 아니라 이미 구매한 사람들에게 요리 레시피를 알려주는 방송이 되어버린 셈이다.  12월 24일, 오후 1시 24분 공식 인스타그램을 통해 플로버들에게 크리스마스 인사를 전했다. 오후 5시에는 일본 공식 유튜브를 통해 프로미가 해봤다! 크리스마스 스페셜 Part.2를 공개하고 일본 플로버들에게 크리스마스 단체 인사를 전했다. 또한 유튜브 채널 The K-POP의 아이돌 챌린지 어나더 클래스 송년특집에 하영, 지원, 채영, 지헌이 출연해 속담 맞히기, 무작위 노래방 등의 코너를 진행했다. 같은 날 오후 9시, 크리스마스를 맞아 공식 유튜브를 통해 아리아나 그란데의 Santa Tell Me flaylist를 공개했으며, 오후 10시 네이버 나우 어벤걸스 크리스마스 이브 특집에 지원과 채영이 출연했다. 각자 크리스마스 하면 생각나는 영화로 지원은 노트북을, 채영은 나 홀로 집에를 골랐다. 또한 영화를 소개한 후 각자 라이브 무대를 가졌는데 지원은 아리아나 그란데의 Christmas in California를 채영은 태연의 This Christmas를 불렀다.  12월 25일, 오후 1시 24분 공식 유튜브 채널을 통해 flaylist Santa Tell Me Full Ver.를 공개했다. 전날 공개되었던 영상에서 후반부에 나왔던 야외에서 마이크 하나 놓고 한 명씩 나와 노래를 부르던 것으로 만들어진 영상이었고 오른쪽 아래에 작게 나오던 스노우볼 영상도 크게 볼 수 있다. 오후 9시에는 FM_1.24를 통해 스튜디오에서 게임을 하고 크리스마스 기념 악세사리들을 착용한 채 Feel Good 안무영상을 찍었다. 다만 제대로 된 안무는 거의 하지 않고 노래가 나오는 동안 신나게 노는 영상을 담았다. 오후 9시 40분에는 3주의 연기 끝에 신상출시 편스토랑에 규리가 출연했다. 속칭 규라인답게 이번에도 이경규 영상에 함께 출연했으며 오늘은 이윤석, 윤형빈, 김성규도 출연했다. 오늘 콩트 컨셉은 '치즈'를 주제로 한 3분짜리 단편영화 '치즈를 찾아서' 촬영기를 담았다. 감독은 이경규, 조감독은 윤형빈이며 규리는 이윤석, 성규와 함께 배우로서 참여했다. 파주에 위치한 레스토랑 세트에서 치즈를 활용한 음식들을 먹으며 리액션을 하는 장면이 주를 이루었다.  ,\"),\n",
              "  Document(metadata={'page_url': 'https://namu.wiki/w/프로미스나인', 'artist_info': 'FROMIS_9', 'toc_item': '드라마', 'abs_page_toc_item': '활동//방송 활동/드라마', 'parent_paper': '활동'}, page_content='page_content: 날짜,방송 프로그램,배역,출연,비고,10.15~10.20,,본인주연,장규리 외 전원,웹드라마,10.30~10.31,, 날짜,방송 프로그램,배역,출연,비고,02.13~02.20,,본인주연,전원,웹드라마,05.10~06.29,,강지영주연,장규리, 날짜,방송 프로그램,배역,출연,비고,06.20~08.09,,선별조연,장규리,, 날짜,방송 프로그램,배역,출연,비고,11.20~12.29,,지니/선미진주연,이나경,웹드라마,'),\n",
              "  Document(metadata={'page_url': 'https://namu.wiki/w/프로미스나인', 'artist_info': 'FROMIS_9', 'toc_item': '2019년', 'abs_page_toc_item': '활동/V LIVE//LIVE/2019년', 'parent_paper': 'V LIVE'}, page_content=\"page_content:   2019년 OFFICIAL V-LIVE by fromis_9,날짜,방송명,설명,01.03,  새해에는 지원이! 🍡  오잉 다시 왔어요ㅠㅠ-박지원, 이새롬, 노지선-,조작 실수로 인한 재연결 및 새롬과 지선의 중반 합류.,01.05,  여보세요📞 점심 먹었니~?!🤔-노지선, 이서연-,-,01.07,  ROM's DAY 🎂🍰-이새롬-,새롬의 23번째 생일 LIVE.,01.08,  저녁은 먹었어요?! 😢-노지선-,-,01.10,  나랑 너랑 🌙-송하영, 박지원-,오프더레코드 소속인 IZ*ONE의 멤버 권은비와 이채연과의 협업 LIVE.,01.12,  오늘도 굿바암🌙-이새롬, 노지선-,-,01.13,  13일의 일요일👻-송하영, 이서연-,-,01.16,  두근두근 중간점검💓-전원-,-,01.21,  월요일 안녀엉😖-노지선-,-,  스무살 기념 🤭-이나경-,-,01.22,  션데이🌞🎂-이서연-,서연의 20번째 생일 LIVE 및 지헌의 목소리 출연과 나경의 깜짝 방문.,01.23,  꼬챙이-이채영, 이나경-,-,01.24,  🎊fromis_9 1st BIRTHDAY PARTY🎊-전원-,데뷔 1주년 소감과 함께 팬덤명 'flover' 발표 LIVE.,01.26,  먹방 보고싶은 사람~🙋🏼\\u200d♀️-이새롬, 장규리, 송하영, 이채영, 이나경-,-,01.27,  깊은 밤 잠은 오지 않고-이새롬, 송하영, 노지선, 이서연-,일본 첫 팬사인회 일정으로 인한 현지 해외 LIVE.,01.29,  본격수면유도방송!!-장규리, 박지원-,-,01.31,  케이크는 무르익고🍰-노지선, 이서연, 이채영-,-,02.08,  핑크핑크분홍분홍 🍭2-송하영-,-,02.11,  🌃-백지헌-,-,02.12,  다들 뭐해?-박지원, 노지선-,-,02.13,  자기전에..-이나경-,-,02.14,  규리의 한강라면🍲 💥매진임박💥-이새롬, 송하영, 장규리, 노지선, 이서연-,지원의 찬조 출연.,02.27,  만들어보'새롬' - DIY편-이새롬-,-,03.08,  만들어보'하영' - 철판 아이스크림편-송하영-,-,03.11,  🎒+ 🐳-백지헌-,-,03.12,  🐑🐼-노지선, 이서연-,-,03.16,  서연🐼이의 자전거 도전기🚲 (with.🐑🐳)-노지선, 이서연, 백지헌-,한강공원 야외 LIVE.,03.18,  꼬챙이의 편의점 습격🐿🐣  꼬챙정식🍱-이채영, 이나경-,-,03.20,  지원 생일 모여라🎂  빨리 들어와봐요!!!!!!!!!-박지원-,지원의 22번째 생일 LIVE 및 하영과 지헌의 깜짝 방문. LIVE 종료 후 하영이 직접 끓인 미역국과 함께 방문해 급히 LIVE를 다시 켰다.,03.21,  롬새 왔서연🦊🐼-이새롬, 이서연-,-,03.22,  오늘은 귤요일🍊-장규리-,-,03.26,  🌙-노지선, 이서연-,-,04.01,  지쎈왔다🐳-백지헌-,만우절을 맞이한 낚시성 제목 LIVE.,04.03,  진짜 지선이다🐑-노지선-,-,04.11,  어서와 귤센은 처음이지?🍊🐑-장규리, 노지선-,-,04.17,  꿀탄절🍯-백지헌-,지헌의 17번째 생일 LIVE.,04.22,  from.봄나들이🌸-장규리 외 전원-,한강공원 야외 LIVE 및 개인 일정으로 인한 장규리 불참.  #2 #3 #4 #5 #6,04.29,  필수규리교양🍊-장규리-,-,05.13,  챙일잔치에 초대합니다🎉-이채영-,채영의 미리 맞는 20번째 생일 LIVE.,05.26,  플로버 모해~?🍑-이나경-,-,05.27,  선물🐑🦊  선물2🐑🦊-이새롬, 노지선-,기기 장애로 인한 재연결.,06.01,  나꼬데이🎉-이나경-,나경의 20번째 생일 LIVE.,06.02,  돌아온 장신즈🍊🐿-장규리, 이채영-,오프더레코드 소속인 IZ*ONE의 멤버 조유리와 최예나의 목소리 출연., The 1st Single Album FUN FACTORY,06.04,  fromis_9 FUN! COMEBACK COUNTDOWN-전원-,-,06.07,  프롬이 500일🎈놀라운 FUN!요일💘  프롬이 500일🎈놀라운 FUN!요일💘-전원-,데뷔 500일 기념 단체 LIVE 및 통신 장애로 인한 재연결.,06.24,  꼬롬🐣🦕-이새롬, 이나경-,-,06.25,  다시모여랑💕-송하영, 박지원, 노지선, 이채영-,통신 장애로 인한 재연결.,  켜졌어🤦🏻\\u200d♂️-노지선-,06.30,  플로버 또 만나자🤙☘-전원-,The 1st Single Album 'FUN FACTORY'의 타이틀곡 FUN! 음악방송 마지막 주를 마치고 소감 LIVE.,07.01,  귤식당🍊🍽-장규리-,마라탕 먹방.,07.02,  올 때 메로라🍦-박지원, 이서연-,-,07.05,  잇츠미 지허언👍👋-백지헌-,-,07.07,  낮과 밤 사이 그 어딘가🐑🦊  므앙???-이새롬, 노지선-,뉴욕 KCON 일정으로 인한 현지 해외 LIVE 및 통신 장애로 재연결.,07.09,  뉴욕은 밤이다🌌-송하영, 박지원, 노지선, 이채영-,뉴욕 KCON 일정으로 인한 현지 해외 LIVE.,07.13,  안녕 플로버✌-전원-,-,07.16,  자니..?-노지선-,-,07.17,  션꼬꿀방🐼🐥🐳-이서연, 이채영, 이나경, 백지헌-,-,07.23,  뉴룸메즈-장규리, 백지헌-,-,07.24,  비오는 날의 젼꼬🐰🐱-박지원, 노지선, 이서연, 이나경-,-,07.28,  막방이다😥-전원-,The 1st Single Album 'FUN FACTORY'의 수록곡 LOVE RUMPUMPUM 음악방송 마지막 주를 마치고 소감 LIVE.,  빙수 언박싱🍧-이새롬, 송하영, 박지원, 노지선, 이채영-,하영의 중간 합류.,08.03,  굿방🌙💕-노지선-,-,08.04,  여기는 전주🚌-전원-,-,08.07,  잇츠미 지허언🖐✌-노지선, 백지헌-,-,08.08,  ❤💙-이나경-,-,08.14,  ㄴ(°0°)ㄱ-송하영, 장규리-,-,08.15,  수박 언박싱🍉-이새롬, 송하영, 박지원, 노지선, 이서연, 이나경-,우천으로 인한 시구 일정이 불발 되자 아쉬움을 달래고자 LIVE를 켰다.,08.16,  안녕?-노지선-,-,08.18,  심심한 사람...☆  미안해요...☆-노지선, 이서연-,LA KCON 일정으로 인한 현지 해외 LIVE 및 세로 화면 조작로 인한 재연결.,08.21,  뭐해요?🌙  다시 뭐해요?🌙-송하영, 박지원, 이채영-,통신 장애로 인한 재연결.,08.26,  🍊-장규리, 박지원, 이채영-,-,08.29,  💛🖤-이서연, 이나경-,지선과 채영의 찬조 출연.,08.30,  마지막 사랑...🍂-노지선-,,09.04,  자다 온 챙이와 허락없이 온 게스트😎-이채영, 이나경-,-,09.06,  '헌'자서도 잘해요 - 혼밥편-백지헌-,하영, 서연, 채영, 나경의 찬조 출연.,09.10,  하꼬롬😐😐😐-이새롬, 송하영, 이나경-,일본 일정으로 인한 현지 해외 LIVE.,09.17,  오랜만🙋\\u200d♀️-백지헌-,새롬과 규리의 찬조 출연.,09.18,  가슴이 선덕선덕🍂-노지선-,-,09.23,  만들어보'귤' - 과일청 만들기-장규리-,-,09.26,  GG🐰🐳-박지원, 이채영, 백지헌-,-,09.28,  생일 전야제🍰🎂-전원-,하영의 미리 맞는 23번째 생일 및 인도네시아 슈퍼 K-pop 페스티벌 일정으로 인한 현지 해외 LIVE. 멤버들이 몰래카메라 이벤트를 마련했다.,10.02,  비 오는 날 롬쌔랑 통화할 사람?☎️-이새롬-,-,11.23,  HAPPY JISUN DAY🎂🐑-노지선-,지선의 22번째 생일 LIVE.,12.27,  HAPPY GYURI DAY🍊-장규리-,규리의 23번째 생일 LIVE 및 새롬의 깜짝 방문.,\"),\n",
              "  Document(metadata={'page_url': 'https://namu.wiki/w/프로미스나인', 'artist_info': 'FROMIS_9', 'toc_item': '개요', 'abs_page_toc_item': '멤버/멤버 간 케미//개요', 'parent_paper': '멤버 간 케미'}, page_content='page_content: 대한민국의 8인조 걸그룹 프로미스나인의 멤버 간 케미를 정리한 문서.'),\n",
              "  Document(metadata={'page_url': 'https://namu.wiki/w/프로미스나인', 'artist_info': 'FROMIS_9', 'toc_item': '선공개 싱글 《유리구두》 (2017. 11. 30.)', 'abs_page_toc_item': '활동/음악 방송//2017년/선공개 싱글 《유리구두》 (2017. 11. 30.)', 'parent_paper': '음악 방송'}, page_content='page_content: 활동곡 : 유리구두  날짜,방송 프로그램,무대 영상,비고, Pre-debut Single 유리구두,11.29,,유리구두,,12.15,,유리구두,,12.21,,유리구두,,12.22,,유리구두,,12.23,,유리구두,,'),\n",
              "  Document(metadata={'page_url': 'https://namu.wiki/w/프로미스나인', 'artist_info': 'FROMIS_9', 'toc_item': '개요', 'abs_page_toc_item': '활동//개요', 'parent_paper': '활동'}, page_content='page_content: 대한민국의 8인조 걸그룹 프로미스나인의 활동을 정리한 문서.'),\n",
              "  Document(metadata={'page_url': 'https://namu.wiki/w/프로미스나인', 'artist_info': 'FROMIS_9', 'toc_item': '정규 1집 Unlock My World 발매기념 팝업스토어 굿즈', 'abs_page_toc_item': '팬덤/굿즈//앨범 관련 굿즈/정규 1집 Unlock My World 발매기념 팝업스토어 굿즈', 'parent_paper': '굿즈'}, page_content='page_content:       , , , , , , ,'),\n",
              "  Document(metadata={'page_url': 'https://namu.wiki/w/프로미스나인', 'artist_info': 'FROMIS_9', 'toc_item': '홍보대사', 'abs_page_toc_item': '활동/광고 및 화보//홍보대사', 'parent_paper': '광고 및 화보'}, page_content=\"page_content:   Ambassador by fromis_9,기간,기업/기관,직함,2019년,02.01~12.31,,한국청소년연맹 홍보대사,2022년,06.29~,,'중소기업제품 특별전' 홍보대사,\"),\n",
              "  Document(metadata={'page_url': 'https://namu.wiki/w/프로미스나인', 'artist_info': 'FROMIS_9', 'toc_item': '네이버 나우', 'abs_page_toc_item': '활동//SNS 활동/네이버 나우', 'parent_paper': '활동'}, page_content='page_content: 다음 문서로 대체 설명: https://namu.wiki/w/%ED%94%84%EB%A1%9C%EB%AF%B8%EC%8A%A4%EB%82%98%EC%9D%B8/%EB%84%A4%EC%9D%B4%EB%B2%84%20%EB%82%98%EC%9A%B0'),\n",
              "  Document(metadata={'page_url': 'https://namu.wiki/w/프로미스나인', 'artist_info': 'FROMIS_9', 'toc_item': '싱글 2집 《9 WAY TICKET》', 'abs_page_toc_item': '음반//국내 음반/싱글/싱글 2집 《9 WAY TICKET》', 'parent_paper': '음반'}, page_content='page_content: 다음 문서로 대체 설명: https://namu.wiki/w/9%20WAY%20TICKET'),\n",
              "  Document(metadata={'page_url': 'https://namu.wiki/w/프로미스나인', 'artist_info': 'FROMIS_9', 'toc_item': '2022 fromis_9 Concert <LOVE FROM.>', 'abs_page_toc_item': '팬덤/굿즈//콘서트/2022 fromis_9 Concert <LOVE FROM.>', 'parent_paper': '굿즈'}, page_content='page_content:           , , , , ,   ,  , , , ,'),\n",
              "  Document(metadata={'page_url': 'https://namu.wiki/w/프로미스나인', 'artist_info': 'FROMIS_9', 'toc_item': '공연 및 행사', 'abs_page_toc_item': '활동/공연 및 행사', 'parent_paper': ''}, page_content='page_content:  \\xa0 자세한 내용은 프로미스나인/공연 및 행사 문서를의 번 문단을의  부분을 참고하십시오.  ,FROMISE,, 約束,一The 1st 약속회2018. 02~03., FROMISEThe 2nd 약속회2018. 06~07., 소중히 간직해The Special 약속회2018. 12. 22., ,,, fromis dayThe 1st Fan Meeting2022. 04.,,, ,,, THE100 아이돌메이드콘서트The Online Concert2018. 06., LOVE FROM.2022 Concert2022. 09~10., LOVE FROM. IN JAPAN2022 Concert2022. 10.,,,, FROM NOW.2024 Concert2024. 01.,,,'),\n",
              "  Document(metadata={'page_url': 'https://namu.wiki/w/프로미스나인', 'artist_info': 'FROMIS_9', 'toc_item': '개요', 'abs_page_toc_item': '팬덤/응원법//개요', 'parent_paper': '응원법'}, page_content='page_content: 대한민국의 8인조 걸그룹 프로미스나인의 음원별 응원을 정리한 문서. 공식 팬카페에서 알려주는 공식 응원법을 기준으로 한다. 볼드체 처리 되어있는 부분을 외치면 된다. '),\n",
              "  Document(metadata={'page_url': 'https://namu.wiki/w/프로미스나인', 'artist_info': 'FROMIS_9', 'toc_item': '2018년', 'abs_page_toc_item': '활동//연혁/2018년', 'parent_paper': '활동'}, page_content=\"page_content: 1월 24일, 오후 6시 미니 1집 앨범 'To. Heart' 발매를 통해 정식 데뷔를 이뤘다. 쇼케이스에서 선공개 무대를 가졌다. Full.ver  1월 25일, 엠넷 '엠 카운트다운'에서 정식 데뷔 무대를 가졌다.  2018년, 학생복전문기업 아이비클럽의 전속 모델이 되었다. fromis_9의 모델 활동 기간은 1년 이다.기사 전문  쎄씨 잡지 2018년 1월호 에서 화보를 공개했다.  5월 6일, 2018 아시아 모델 페스티벌에서 뉴스타상을 수상하였다.  5월 12일, 장규리를 제외한 8인 체제로 드림콘서트에 참가 하였다.  6월 5일, 오후 6시 장규리를 제외한 8인 체제로 미니 2집 앨범 'To. Day'로 컴백 소식을 알렸다.  6월 15일 부터 멤버 장규리가 프로듀스 48에 참가 하면서 향후 fromis_9으로서의 활동은 잠정간 불참하게 됐다.  6월 29일, 장규리를 제외한 fromis_9은 잠실야구장에서 열리는 KIA VS 두산 경기에서 시타, 시구 및 5회 클리닝 타임에서 무대를 가졌다.이나경이 시구, 송하영이 시타를 맡았으며 멤버 전원이 무대 행사뿐만이 아니라 해당 경기를 직관했다. 이에 KIA 타이거즈 팬인 백지헌은 야구룰을 모르는 멤버들을 위해 설명해 주기도 했다.  8월 20일, 고양체육관에서 열리는 2018 추석 아육대 출연이 확정됐다. 데뷔 첫 아육대 출전이며, 이새롬, 이나경, 이채영 3명만 나섰는데 60m에만 출전했다. 이 날 이나경이 육상 60m 첫 출전에 결승전에 올라갔으나, 결승점에 들어오던 도중 라인을 침범하여 2등으로 달리던 GBB의 두리를 진로방해하는 바람에 실격당했다. 이채영은 유현에게 밀려 예선에서 광탈했다.  8월 24일, 3차 순위 발표식에서 장규리가 25위를 기록하며 프로듀스 48을 마감했다.  8월 30일, 공식 SNS 발표를 통해 장규리의 복귀가 확정됐다.  9월 6일, 장규리가 프로듀스 48을 마감한 후 처음으로 V LIVE를 통해 근황을 알리며 다시금 공식적인 복귀를 상기시켜 주었고, 10월에 완전체로 컴백 소식을 알렸다.  9월 30일, 스페셜 싱글 1집 앨범 'From.9'의 티저가 유튜브와 V LIVE에 게시 되었다.  10월 5일, 오후 5시강남역인근에서 사탕 이벤트를 진행할 예정이었으나 불과 2시간을 앞두고 우천으로 인해 결국 연기됐다. 이날은 종일 비가 오고 있었기 때문에 갑작스러운 기상 상황 변경도 아니었고, 너무 늦은 공지로 멀리 지방에서 미리 출발한 팬들은 시간적, 금전적인 피해를 봐야 했다. 물론 소속사에서 결정한 것이기 때문에 멤버들은 어쩔 수 없었다만. 일기 예보상으로 태풍이 예고되어 있었기 때문에 소속사 측에서 조금만 더 빨리 공지를 했어야 했다는 불만이 있었다.하지만건대부고부근에서는 이벤트가 잠시나마 정상적으로 진행되었던 모양이라, 지속적으로 올라오는 인증샷들의 향연에 팬들은 '비 때문에 결국 취소될 거 같은데 그래도 갈까'하며 고뇌하다가 '저기 있는 사람들이 부러워 죽겠다'며 고통받았다고카더라(..) 심지어는 우연히 근처에 있었다든가, 아니면 가까운 곳에 산다든가의 이유로 소위 말하는 '계를 탄'(#fn-1; 좋아하는 연예인을 실물로 보거나 같이 사진을 찍은 경우를 인터넷 용어로 '계 탔다'고 표현한다.)팬들까지 나오면서 강남으로 출발했다가 취소 소식을 들은 팬들도 제법 있었던 듯 하다(...) 대신 당일 저녁에 멤버 전원이V LIVE로 팬들을 만났다.  10월 6일, 송하영이 KBS 드라마 하나뿐인 내편의 O.S.T 작업에 참여했다.  10월 7일, 5일날 우천으로 인해 취소되었던 강남 이벤트를 재개 했다.  10월 9일, 앨범 발매에 앞서 트위터블루룸 LIVE Q&A를 진행했다.Full.ver  Full.ver  10월 10일, 오후 6시 스페셜 싱글 1집 앨범 'From.9'으로 컴백 했다.같은날 앨범 프로모션의 일환으로 잼스(Gems)가 운영하는 네이버 포스터에 타이틀 곡 'LOVE BOMB'의 M/V 촬영 현장을 담은 비하인드 사진과 영상 게시와 더불어 사인 폴라로이드 증정 이벤트를 진행했다. POST  10월 11일, 극동대학교 학교 축제에 참석해 공연했다.후기 전문  10월 12일, 경기과학기술대학교 학교 축제에 참석해 공연했다.같은 날 fromis_9 멤버들이 출연하는 웹드라마 '그래도 괜찮은, 회복회'의 티저 영상이 공개 됐다.영상을 보면 영화 리틀 포레스트의 영향을 받은 거 같은데, 요리하는 장면이 많이 나오는 걸로 보아 먹방이 제법 큰 비중을 차지할 거 같다는 느낌도 든다(...)  10월 14일, 유튜버 대도서관의 유튜브 생방송에 이나경, 박지원이 게스트로 출연 했다.  10월 25일, 엠넷 '엠 카운트다운'에서 할로윈을 맞아 f(x)의 Red Light를 커버 했다.  11월 5일, 엠넷 스쿨 오브 락과 연계하여 서울 서초구에 위치한 상문고등학교를 깜짝 방문해 공연을 하였다.  12월 21일, KBS2 '뮤직뱅크 연말 결산 무대'에서 맞아 머라이어 캐리의 All I Want for Christmas Is You를 커버 했다.  12월 22일, 약속회에 총 9회 이상 참석한 팬들과 '소중히 간직해' 라는 팬 이벤트를 기획했다.  ,\"),\n",
              "  Document(metadata={'page_url': 'https://namu.wiki/w/프로미스나인', 'artist_info': 'FROMIS_9', 'toc_item': '2023 🍀flover in the Wonderland👑', 'abs_page_toc_item': '팬덤//flover MEMBERSHIP/2023 🍀flover in the Wonderland👑', 'parent_paper': '팬덤'}, page_content='page_content:  , ,'),\n",
              "  Document(metadata={'page_url': 'https://namu.wiki/w/프로미스나인', 'artist_info': 'FROMIS_9', 'toc_item': '2022년', 'abs_page_toc_item': '활동/V LIVE//LIVE/2022년', 'parent_paper': 'V LIVE'}, page_content=\"page_content:   2022년 OFFICIAL V-LIVE by fromis_9,날짜,방송명,설명,01.06,  20-백지헌-,나경의 초반부 찬조 출연 및 지원과의 통화연결.,01.07,  생일축하해롬🎂-이새롬-,새롬의 26번째 생일 LIVE 및 하영, 지선, 서연의 찬조 출연., The 4th Mini Album Midnight Guest,01.18,  fromis_9 COMEBACK LIVE 🗝 @ Sweet Room 🔒-전원-,컴백 Show핑 LIVE 및 네이버 쇼핑 LIVE 동시 송출. ,01.22,  얼른 들어와 봐🎂-이서연-,서연의 23번째 생일 LIVE 및 채영의 찬조 출연.,01.23,  DM 1주차☘️-전원-,-,01.25,  더쇼🍀 1위!!!🏆🎉-전원-,더 쇼 1위 축하소감 LIVE. 지헌과 채영은 감격에 벅차 눈물을 좀처럼 못 멈추는데, 특히 채영은 본인이 화면 밖에 나가서 수습하고 돌아올만큼 펑펑 울어놓고 돌아와서는 지헌을 놀리는것으로 LIVE를 마친다.,01.28,  DM 2주차☘️-전원-,-,02.11,  👋모해애❤️🧡💛💚💙-이새롬, 송하영, 노지선, 이나경, 백지헌-,-,02.13,  플로버 드러왕🍀❤️❤️❤️❤️-장규리, 박지원, 이서연, 이채영-,-,02.15,  들려요~♥-노지선-,-,02.20,  미드나잇게스트👋-전원-,-,02.22,  🐿️❤️-송하영, 이나경-,-,02.23,  Real 챙그랑-이채영-,-,02.26,  들어와🐼-이서연-,-,03.02,  보고싶어 플로버🐹-송하영-,지원의 찬조 출연.,03.03,  자기 전에 잠깐-박지원-,-,03.14,  🙂-장규리-,-,03.15,  안녕 플로-이새롬-,하영, 나경의 찬조출연.,03.20,  메메데 메리메건데이🎂-박지원-,지원의 25번째 생일 LIVE 및 하영, 서연의 찬조출연.,03.22,  👀-노지선-,-,04.13,  플로버 뭐하나🍀🌧️  플로버 뭐하나🍀🌧️-송하영-,에어컨 이슈로 재연결.,04.18,  나왔다-이채영-,-,04.24,  fromis day❤️-전원-,팬미팅 fromis day 성료 소감 LIVE,05.13,  Friday-노지선-,-,05.14,  챙탄절🐿🎂-이채영-,채영의 23번째 생일 LIVE.,05.16,  헌이 향수 공방 🌹-백지헌-,성년의 날 기념 향수 만들기 LIVE.,05.17,  보이스하꼬야-송하영, 이나경-,-,05.30,  져니 셔니 🎵-박지원, 이서연-,-,06.01,  나꼬데이 🍮-이나경-,나경의 23번째 생일 LIVE 및 하영, 서연의 찬조 출연.,06.08,  마라탕 왔다-송하영, 이서연, 이채영-,심야 새벽의 소통 LIVE 및 지원의 찬조 출연.,06.08,  ❤️-백지헌-,-, The 5th Mini Album from our Memento Box,06.28,  Stay This Way-이새롬, 장규리, 노지선, 이나경-,지헌과의 통화연결.,07.02,  fromis_9 Comeback Live 'Stay This Summer-이서연 외 전원-,컴백 Show핑 LIVE 및 네이버 쇼핑 LIVE 동시 송출. ,07.05,  Stay This Way ☘️🏆-전원-,더 쇼 1위 축하소감 LIVE.,07.10,  Stay This Way 2주차❤️-전원-,-,07.17,  뜨겁고 눈부셨던✨ Stay This Way☘️-전원-,-,\"),\n",
              "  Document(metadata={'page_url': 'https://namu.wiki/w/프로미스나인', 'artist_info': 'FROMIS_9', 'toc_item': '여담', 'abs_page_toc_item': '활동/V LIVE//여담', 'parent_paper': 'V LIVE'}, page_content='page_content: V LIVE로 소통을 많이 했었다. 2018년 2월 9일 한림즈의 등교길 V앱을 시작으로 이후에 거의 1~2일에 한 번씩 라이브를 켰고, 가끔은 하루에 두 번 이상 켤 때도 있었다. 멤버들이 개인SNS를 할 수 없기 때문에(#fn-12; 개인 SNS가 있어도 비공개 상태이거나, 아니면 아예 계정 자체를 안 만든 멤버도 있다.)이렇게라도 팬들과 소통을 하고 싶어 자주 라이브를 켰다고 한다. 자신들도 V앱 중독임을 인정한 지 오래. 이와 같은 맥락에서 2018년에 브이앱과 컨텐츠 영상 업로드를 가장 많이 했다고 한다. V앱에 올라온 영상갯수만 무려 619개다.2019년 1분기 이후로는 2018년에 비해 횟수는 줄었지만 여전히 많은 편이었고, 평균 시간도 2018년에 비해 훨씬 길었다. 2020년부터 본격적으로 횟수가 크게 줄어들었으며, 현재는 대부분의 소통을Weverse가 담당하고 있다. 프로미스나인의Weverse가 9월, 즉 4분기가 다 되어서야 개설되었는데,송하영이 2021년Weverse최다 소통자로 선정되었다.(#fn-13; 다수의 플로버는 매일 같이 오후 11시 11분만 되면 시간 공유로 올라온 1111 덕에 수상한 것으로 보고 있다.)고작 4개월만에 세운 놀라운 기록. 다른 멤버들도 체감 상송하영과 큰 차이 없이 찾아오는 것으로 보아, 대부분의 멤버들이Weverse전체로 보아도 굉장히 소통을 많이 하는 것으로 보인다. '),\n",
              "  Document(metadata={'page_url': 'https://namu.wiki/w/프로미스나인', 'artist_info': 'FROMIS_9', 'toc_item': '미니 1집 《To. Heart》 (2018. 01. 24.)', 'abs_page_toc_item': '활동/음악 방송/무대 의상//무대 의상/미니 1집 《To. Heart》 (2018. 01. 24.)', 'parent_paper': '무대 의상'}, page_content='page_content:   The 1st Mini Album To. Heart,,,,,,SUB환상속의 그대, 2018. 01. 25.,TITLETo Heart, 2018. 01. 25.,SUB환상속의 그대, 2018. 01. 26.,TITLETo Heart, 2018. 01. 26.,TITLETo Heart, 2018. 01. 27.,,,,,,TITLETo Heart, 2018. 01. 28.,SUB환상속의 그대, 2018. 01. 31.,TITLETo Heart, 2018. 01. 31.,TITLETo Heart, 2018. 02. 01.,TITLETo Heart, 2018. 02. 02.,,,,,,TITLETo Heart, 2018. 02. 03.,TITLETo Heart, 2018. 02. 04.,TITLETo Heart, 2018. 02. 06.,TITLETo Heart, 2018. 02. 07.,TITLETo Heart, 2018. 02. 08.,,,,,,TITLETo Heart, 2018. 02. 09.,TITLETo Heart, 2018. 02. 18.,TITLETo Heart, 2018. 02. 22.,TITLETo Heart, 2018. 02. 23.,TITLETo Heart, 2018. 02. 24.,,,TITLETo Heart, 2018. 02. 25.,TITLETo Heart, 2018. 04. 19.,'),\n",
              "  Document(metadata={'page_url': 'https://namu.wiki/w/프로미스나인', 'artist_info': 'FROMIS_9', 'toc_item': '뮤직비디오', 'abs_page_toc_item': '뮤직비디오', 'parent_paper': ''}, page_content='page_content:  순위,게시일,앨범/싱글,곡명,조회수,비고,1,2022. 1. 17.,Midnight Guest,  DM,37,433,392 ,(#fn-HL; HYBE LABELS 채널의 영상 조회수 기준)2,2020. 9. 16.,My Little Society,  Feel Good (SECRET CODE),28,356,000 ,(#fn-f9; Official fromis_9 채널의 영상 조회수 기준)  Feel Good (SECRET CODE),3,424,425 ,(#fn-SE; Stone Music Entertainment 채널의 영상 조회수 기준),31,780,425 ,합계,3,2018. 10. 10.,From.9,  LOVE BOMB,28,528,235 ,(#fn-f9; Official fromis_9 채널의 영상 조회수 기준)2018. 10. 12.,  LOVE BOMB,583,141 ,(#fn-SE; Stone Music Entertainment 채널의 영상 조회수 기준),,29,111,376 ,합계,4,2021. 5. 17.,9 WAY TICKET,  WE GO,26,280,298 ,(#fn-f9; Official fromis_9 채널의 영상 조회수 기준)5,2021. 9. 1.,Talk & Talk,  Talk & Talk,24,694,017 ,(#fn-HL; HYBE LABELS 채널의 영상 조회수 기준)6,2022. 6. 27.,from our Memento Box,  Stay This Way,24,237,095 ,(#fn-HL; HYBE LABELS 채널의 영상 조회수 기준)7,2019. 6. 4.,FUN FACTORY,  FUN!,22,256,814 ,(#fn-f9; Official fromis_9 채널의 영상 조회수 기준)8,2023. 6. 5.,Unlock My World,  #menow,18,844,792 ,(#fn-HL; HYBE LABELS 채널의 영상 조회수 기준)9,2018. 6. 5.,To. Day,  두근두근(DKDK),359,130 ,(#fn-f9; Official fromis_9 채널의 영상 조회수 기준)  두근두근(DKDK),11,213,382 ,(#fn-SE; Stone Music Entertainment 채널의 영상 조회수 기준),11,572,512 ,합계,10,2017. 11. 30.(#fn-44; 선공개 데뷔일)유리구두,  유리구두 (Glass Shoes),442,665 ,(#fn-f9; Official fromis_9 채널의 영상 조회수 기준)  유리구두 (Glass Shoes),9,271,529 ,(#fn-SE; Stone Music Entertainment 채널의 영상 조회수 기준),9,714,194 ,합계,11,2018. 1. 24.(#fn-47; 정식 데뷔일)To. Heart,  To. Heart,401,472 ,(#fn-f9; Official fromis_9 채널의 영상 조회수 기준)  To. Heart,5,607,488 ,(#fn-SE; Stone Music Entertainment 채널의 영상 조회수 기준),6,008,960 ,합계,'),\n",
              "  Document(metadata={'page_url': 'https://namu.wiki/w/프로미스나인', 'artist_info': 'FROMIS_9', 'toc_item': 'PROFILE', 'abs_page_toc_item': '활동/V LIVE//PROFILE', 'parent_paper': 'V LIVE'}, page_content='page_content: 프로미스나인/V LIVE,,개설일,2017년 11월 24일 (+2451일),첫 LIVE,2017년 11월 28일 (+2447일),팔로워 수,380,152명,링크,,'),\n",
              "  Document(metadata={'page_url': 'https://namu.wiki/w/프로미스나인', 'artist_info': 'FROMIS_9', 'toc_item': '미니 1집 To. Heart 약속회 MD', 'abs_page_toc_item': '팬덤/굿즈//약속회/미니 1집 To. Heart 약속회 MD', 'parent_paper': '굿즈'}, page_content='page_content:  1집 공식 슬로건 (10,000원) 미니 아크릴 스탠드 (각 10,000원, 9개 Set 85,000원)(#fn-1; 3~7회 한정 판매.) 유닛 와펜 (각 10,000원)(#fn-2; 블루는 U, 그린은 N, 핑크는 I를 상징한다.)(#fn-3; 5~7회 한정 판매. 7회 한정으로 1인 2개로 구매 제한이 걸렸다.) 유니폼 (장당 40,000원)(#fn-4; 7회 한정 판매. 또한 1인 최대 2장으로 구매 제한이 걸렸다.) 전체적으로 MD에 대한 평이 안 좋은데 퀄리티는 그렇다 치고 이걸 이 가격에 팔아야하는 의문이 많이 생겼다. 아크릴 스탠드와 와펜은 그래도 평이 그나마 나아졌는데, 유니폼의 경우 일반 반팔 티셔츠에 등번호 판을 덧댄 퀄리티로 팬들에게 충격과 공포를 선사했다.'),\n",
              "  Document(metadata={'page_url': 'https://namu.wiki/w/프로미스나인', 'artist_info': 'FROMIS_9', 'toc_item': '2024년', 'abs_page_toc_item': '활동//연혁/2024년', 'parent_paper': '활동'}, page_content='page_content: 상승세를 타야 할 시기에 모기업 하이브에서 자신들이 직접 프로듀싱한 걸그룹들인 LE SSERAFIM과 ILLIT만을 적극적으로 밀어주면서 우선순위가 완전히 밀려버렸고, 이듬해인 2024년 5월 31일까지 1년 째 공백기를 가지면서 한동안 침체기를 가졌다. 결국 팬덤 flover에서 하이브 본사를 향한 근조 화환 및 트럭 시위를 준비하였다. 5월 31일, 시위 개시일을 며칠 남기고 8월을 목표로 컴백한다는 기사가 보도되었다. # 또한 컴백에 앞서 7월에는 데뷔 후 첫 워터밤 출연 및 그룹 사진전이 예정되어 있음을 추가로 알리면서 팬덤에서도 다시 기대감을 가지고 있다. 그러나 시위 진행에는 영향없이 시위를 진행했다. 7월 18일, 드디어 8월 12일에 3번째 싱글앨범 Supersonic으로 컴백한다는 소식을 알렸다. 팬들은 드디어 컴백이냐며 좋아하는 반응과, 좋기는 하다만 1년을 넘게 기다려서 나온게 정규나 미니도 아니고 고작 싱글이라는 것에 아쉽다는 반응을 보이기도 했다.'),\n",
              "  Document(metadata={'page_url': 'https://namu.wiki/w/프로미스나인', 'artist_info': 'FROMIS_9', 'toc_item': '한국청소년연맹', 'abs_page_toc_item': '활동/광고 및 화보//홍보대사/한국청소년연맹', 'parent_paper': '광고 및 화보'}, page_content='page_content: ,,,,'),\n",
              "  Document(metadata={'page_url': 'https://namu.wiki/w/프로미스나인', 'artist_info': 'FROMIS_9', 'toc_item': '2018년', 'abs_page_toc_item': '활동/YouTube//타 채널/2018년', 'parent_paper': 'YouTube'}, page_content=\"page_content:   2018년 YouTube by fromis_9,날짜,채널,콘텐츠,출연,01.24,,  [릴레이댄스] fromis_9(프로미스나인) - To Heart,전원,02.02,,  [1과 2분의1 댄스] fromis_9(프로미스나인) - To Heart,전원,02.20,,  달고나 쪼개는 커여운 나경! fromis_9 이나경 편 (Lee Nagyung of fromis_9) [말이 없다],이나경,02.20,,  혼자서도 잘 노는 센터 노지선! fromis_9 노지선 편 (Roh Jisun of fromis_9) [말이 없다],노지선,02.21,,  ※주의※ 귀엽다고 키보드를 부수지 말 것 백지헌 편 (Baek Jiheon of fromis_9) [말이 없다],백지헌,02.21,,  fromis_9 셀프 폴라로이드 촬영 현장 공개♥ [말이 없다 비하인드],노지선, 이나경, 백지헌,03.18,,  [여배우들] 9인조 걸그룹에게 춤을 배워 보았다,전원,06.05,,  프로미스나인 fromis_9 - 두근두근(DKDK) [쿠킹라이브],장규리 외 전원,06.08,,  프로미스나인이 뉴스에이드에 찾아옵니다! [예고],장규리 외 전원,06.09,,  프로미스나인의 이름을 한 번에 외울 수 있는 영상 [자기소개],장규리 외 전원,06.09,,  [릴레이댄스] 프로미스나인(fromis_9) - 두근두근(DKDK),장규리 외 전원,06.10,,  프로미스나인의 심장을 두근거리게 만든 현장 [파트바꾸기],장규리 외 전원,06.11,,  프로미스9 숙소에 침입했다는 무시무시한 그것은? [팀워크테스트],장규리 외 전원,06.25,,  프로미스나인 '두근두근' 오리지널 버전 [안무영상],장규리 외 전원,06.29,,  [오늘의 시구] 포텐 터졌다! 프로미스나인의 나경! 하영의 시구 시타! (06.29),송하영, 이나경,07.03,,  [펫터뷰 (Pet-terview)] 프로미스나인편 (fromis_9 ver.),이새롬, 송하영,노지선, 이나경,07.05,,  [KCON2018NY x M2] 프로미스나인(fromis_9) Ending Finale Self Camera,장규리 외 전원,07.23,,  [아이돌사부] 프로미스 나인(fromis_9)이 ✨직접✨ 알려주는 ‘두근두근’(DKDK) 안무,장규리 외 전원,07.23,,  [아이돌사부] 프로미스나인(fromis_9) ♪ ‘두근두근’(DKDK) 안무 // 연습실 거울모드 ver.,장규리 외 전원,07.23,,  [아이돌사부] 프로미스나인(fromis_9) ♪ ‘두근두근’(DKDK) 안무 // 연습실 정방향 ver.,장규리 외 전원,07.23,,  [아이돌사부] 프로미스나인(fromis_9)이 팬들에게 보내는 💕영상편지💕,장규리 외 전원,08.01,,  [Simply K-Pop] Preview With fromis_9(프로미스나인) _ Ep.323,장규리 외 전원,08.17,,  프로미스나인(fromis_9) '두근두근(DKDK)'랜덤 스피드 댄스,장규리 외 전원,09.02,,  프로미스나인(fromis_9) 인터뷰 풀버전(FULL VERSION) 대공개!,장규리 외 전원,09.04,,  [방판소년단 EP36] 프로미스나인에게 LED마스크 팔아보긔(※복면가왕 놀이 가능),장규리 외 전원,09.05,,  [방판소년단 EP37] 프롬이들, 리더 새롬이 때문에 난리난 사연?!(※섹시 보름달 주의),장규리 외 전원,09.06,,  [방판소년단 EP38] 나경이 애교 뿜뿜? 덕에 유재환 촬영 중단?!,장규리 외 전원,10.11,,  [KCON2018TH x M2] 프로미스나인(fromis_9) Ending Finale Self Camera,전원,10.14,,  [대도 생방송] 프로미스_9 과 합동 방송! Love Bomb - fromis9 프로미스나인 10/14(일) 대도서관 Game Live Show LIVE,이나경, 박지원,10.15,,  [릴레이댄스] 프로미스나인(fromis_9) - 두근두근(DKDK) @KCON18TH,전원,10.15,,  [KCON2018TH x M2] STAR Live Talk - fromis_9 (프로미스나인),전원,10.19,,  [몰빵라이브] 프로미스나인 - LOVE BOMB,전원,10.29,,  오빠야 밥 뭇나? 귀여운 사투리요정 프로미스나인 이나경_존예보스 시즌2,이나경,10.30,,  [쇼챔피언 커튼톡] 프로미스나인의 세상 귀염뽀짝 9인 9색 Eye Contact Talk!,전원,11.04,,  [스쿨오브락] 프로미스나인(fromis_9) @상문고,전원,11.05,,  프로미스나인, 묘하게 흥이 폭발한 현장 [OX퀴즈],전원,11.05,,  프로미스나인, 하영이가 하드캐리하는 [몸으로말해요],전원,11.05,,  프로미스나인, 웃음+성량 터지는 '러브밤' [복불복라이브],전원,11.14,,  Somebody 연애프로그램 덕후 프로미스나인에게 썸바디를 보여주었다(feat.꺄♥) 181123 EP.0,전원,11.16,,  [IDOL 360] 프로미스나인 러브밤 밀착캠 (fromis_9, LOVEBOMB 360 VR CAM),전원,11.17,,  (미공개) [스쿨오브락] 프로미스나인(fromis_9) - LOVE BOMB,전원,11.24,,  (미공개) [스쿨오브락] 프로미스나인(fromis_9) - 두근두근(DKDK),전원,12.12,,  [릴레이댄스] 10th MAMA Special Edition | 2NE1부터 BTS까지, 마마 역대 수상곡 스페셜 릴댄!,장규리, 이나경,12.19,,  [MAMA TALK] 프로미스나인(fromis_9) 님과의 채팅방에 초대되셨습니다 | 2018MAMAxM2,전원,\"),\n",
              "  Document(metadata={'page_url': 'https://namu.wiki/w/프로미스나인', 'artist_info': 'FROMIS_9', 'toc_item': '2021년', 'abs_page_toc_item': '활동/광고 및 화보//화보/2021년', 'parent_paper': '광고 및 화보'}, page_content='page_content:  ,,,, ,,,,이새롬,장규리,,,,,박지원,노지선,이서연, ,,,이새롬,송하영,장규리,,,,박지원,노지선,이서연,,,,이채영,이나경,백지헌, ,,,,이새롬,송하영,장규리,,,,,박지원,노지선,이서연,,,,,이채영,이나경,백지헌, ,,, ,,,이새롬,송하영,장규리,,,,박지원,노지선,이서연,,,,이채영,이나경,백지헌,'),\n",
              "  Document(metadata={'page_url': 'https://namu.wiki/w/프로미스나인', 'artist_info': 'FROMIS_9', 'toc_item': '라디오', 'abs_page_toc_item': '활동//방송 활동/라디오', 'parent_paper': '활동'}, page_content='page_content: 다음 문서로 대체 설명: https://namu.wiki/w/%ED%94%84%EB%A1%9C%EB%AF%B8%EC%8A%A4%EB%82%98%EC%9D%B8/%EB%9D%BC%EB%94%94%EC%98%A4'),\n",
              "  Document(metadata={'page_url': 'https://namu.wiki/w/프로미스나인', 'artist_info': 'FROMIS_9', 'toc_item': 'FOOTNOTES', 'abs_page_toc_item': '활동/V LIVE//FOOTNOTES', 'parent_paper': 'V LIVE'}, page_content='page_content: [A] 1.1 1.2 1.3 1.4 1.5 1.6 1.7 1.8 프로듀스 48에 참가로 인한 활동 불참.[B] 9.1 9.2 9.3 다리 부상으로 인한 활동 불참.[12] 개인 SNS가 있어도 비공개 상태이거나, 아니면 아예 계정 자체를 안 만든 멤버도 있다.[13] 다수의 플로버는 매일 같이 오후 11시 11분만 되면 시간 공유로 올라온 1111 덕에 수상한 것으로 보고 있다.'),\n",
              "  Document(metadata={'page_url': 'https://namu.wiki/w/프로미스나인', 'artist_info': 'FROMIS_9', 'toc_item': '2018년', 'abs_page_toc_item': '활동/광고 및 화보//화보/2018년', 'parent_paper': '광고 및 화보'}, page_content='page_content:  , ,,,이새롬,송하영,장규리,,,,박지원,노지선,이서연,,,,이채영,이나경,백지헌,  대한민국 행정구 속령  (2018년 7월호),,,,,,, ,,,,이새롬,,,,,송하영,,,,,장규리,,,,,박지원,,,,,노지선,,,,,이서연,,,,,이채영,,,,,이나경,,,,,백지헌, ,,,,'),\n",
              "  Document(metadata={'page_url': 'https://namu.wiki/w/프로미스나인', 'artist_info': 'FROMIS_9', 'toc_item': '2019년', 'abs_page_toc_item': '활동/YouTube//타 채널/2019년', 'parent_paper': 'YouTube'}, page_content=\"page_content:   2019년 YouTube by fromis_9,날짜,채널,콘텐츠,출연,01.03,,  [연예소녀] EP19. 아이돌특별시 - 프로미스나인 1편,전원,01.03,,  프로미스나인(fromis9) 비하인드 대.방.출 [미공개컷],전원,01.08,,  [연예소녀] EP20. 아이돌특별시 - 프로미스나인 2편,전원,01.08,,  [연예소녀] EP20. 아이돌특별시 - 프로미스나인 (보너스영상),전원,02.17,Hanlim TV,  한림예고 2019 졸업식_프로미스나인 이채영,이채영,03.05~03.30,,  시즌8 프로미스나인의 쉿크릿 [재생목록],이새롬, 이나경,05.02,,  프로미스나인(fromis_9) 미모 포텐 터지는 메이킹 필름🌸(with 중소벤처기업부),전원,06.05,,  [얼음땡댄스] 프로미스나인 (fromis_9) – FUN! / Freezetag Dance game,전원,06.05,,  본격 저세상 귀여움! 프로미스나인(fromis_9)의 FUN!한 신곡 홍보영상 제작기 [정식의뢰] 1회,전원,06.07,,  걸그룹 여름 노래 메들리 (KPOP Girl Group Summer Mashup),장규리, 박지원,06.09,,  [릴레이댄스] 프로미스나인(fromis_9) - FUN!,전원,06.10,,  [얼음땡댄스 비하인드] 프로미스나인 (fromis_9) – FUN! / Behind The Scenes,전원,06.11,,  프로미스나인(fromis_9) 'FUN!' M COUNTDOWN 사전녹화 비하인드,전원,06.11,,  fromis_9, 행덕라이브 Full Version,전원,06.12,,  텐션 충만한 프로미스나인(fromis_9)과 플로버들의 질문 시간! (feat.킬포 오조오억개) [정식의뢰] 2회,전원,06.14,,  fromis_9, 더 쇼; 퇴근길, 셀프캠 (190611),전원,06.18,,  [랜덤1열댄스] RANDOM 1LINE DANCE 프로미스나인(fromis_9) ♥ 당도 124% 랜덤댄스로 에너지 충천! ٩(๑`ȏ´๑)۶,전원,06.19,,  FUN! - 프로미스나인(fromis_9) by 아이돌리스트),전원,06.19,,  fromis_9, 꿀언니한테 제일 먼저 입덕 완료한 사람은 누구? [내 멤버의 비즈니스],전원,06.19,,  ☆플로버들 주목!☆ 프로미스나인 어디까지 알고 있니? FUN! FUN! 터지는 - '아이돌고사' fromis_9편 1부,이새롬, 박지원,이서연, 이채영,06.22,,  금지 영상을 본 프로미스나인의 FUN!한 반응은? - '아이돌고사' fromis_9편 2부,이새롬, 박지원,이서연, 이채영,06.25,,  프로미스나인(Fromis_9)이 코노에서 노는 법☆ 옴뇸뇸 라이브부터 케이시(Kassy)-그때가 좋았어 (The day was beautiful) 커버까지 | 아이돌코노차트인,장규리, 이채영,06.28,,  진짜 프로미스나인(fromis_9) 출연! 심쿵주의! [에이드쇼핑],전원,06.29,,  [LIVE CLASS] 프로미스나인(fromis_9) - FUN!,06.29,,  [LIVE CLASS] 프로미스나인(fromis_9) 쉬는시간 : 9인 9색 Fun Factory 5자소개,전원,07.04,,  [Full] fromis_9 EYE CONTACT CAM :: 프로미스나인 아이컨택캠(190621 MUSIC BANK),전원,07.05,,  혼돈 속 오디오 폭발한 프로미스나인 [파트바꾸기],전원,07.06,,  억울함(?) 토로하고 간 프로미스나인 [복불복카메라],전원,07.09,,  보기만 해도 비타민 충전! 프로미스나인 'FUN!' [안무영상],전원,07.16,,  [PLAY MGMA] 프로미스나인(fromis_9)이 치명적이고 싶을 때 듣는 노래,전원,07.16,,  [PLAY MGMA] 프로미스나인(fromis_9)의 플레이리스트를 알려줘!,전원,07.18,,  [IDOL COVER DANCE CHALLENGE] 모모랜드 X 오마이걸 X 우주소녀 X 프로미스나인 '아이돌 커버 댄스 챌린지' / 방탄소년단 '작은 것들을 위한 시',이새롬, 이나경, 백지헌,07.23,,  프로미스나인, 나는 상상에 상상에 상상을 더한 낭만파 겁쟁이랍니다. [내 멤버의 MBTI],전원,07.24,,  fromis_9, 더 쇼; 퇴근길, 셀프캠 (190716),전원,07.25,,  [IDOL COVER DANCE BATTLE] 오마이걸 X 우주소녀 X 모모랜드 X 프로미스나인 '아이돌 커버 댄스 배틀',이새롬, 이나경, 백지헌,07.26,,  [Oh, K!] 프로미스나인(fromis_9) in NY! 뉴욕 *****에서 게릴라 공연을 한다구요?｜Ep.1,전원,08.01,,  fromis_9 EYE CONTACT CAM :: 프로미스나인 아이컨택캠(190726 MUSIC BANK)_SELF CAM,전원,08.02,,  [Oh, K!] 프로미스나인(fromis_9) in NY! 100만 뷰티 유튜버 써니와 함께한 특급 콜라보｜Ep.2,전원,08.05,,  [예고] 아이돌 ASMR '속닥이네'의 문이 열립니다 (Feat.프로미스나인),이새롬 외 전원(#fn-2; 이새롬은 눈다래끼로 불참.)08.06,,  [아이돌 ASMR] 역대급 비주얼 폭발★ 비글돌이 키보드만 두드린 ssul / 속닥이네 (프로미스나인 지선&서연),노지선, 이서연,08.07,,  [아이돌 ASMR] 프롬이들의 ASMR 도전기! 성공할 수 있을까..? ※부제 : 절대 입을 열어선 안 돼※ / 속닥이네 (프로미스나인 챙&꼬&귤&꿀),장규리, 이채영,이나경, 백지헌,08.08,,  [아이돌 ASMR] 따르릉~♬ 걸그룹이 전화로 직접 노래를 불러 준다면? / 속닥이네 (프로미스나인 하영&지원),송하영, 박지원,08.09,,  [Oh, K!] 프로미스나인(fromis_9) in NY! 팬들을 위한 특별한 한 끼, 현지에서 먹힐까? | Ep.3,전원,08.24,,  [릴레이댄스] 프로미스나인(fromis_9) 스페셜 메들리｜FUN! / 두근두근(DKDK) / To Heart / LOVE BOMB @KCON19LA,전원,08.31,,  [릴레이댄스] 프로미스나인(fromis_9) LOVE BOMB @KCON19LA,전원,09.02,,  [Selfie MV] 프로미스나인(fromis_9) - FUN! @KCON19LA,전원,09.12,,  [KCON2019LA x M2] fromis_9(프로미스나인) 엔딩셀프캠(Ending Finale Self Camera),전원,11.06,,  귀신 씻나락 까먹는 소리하는 김종민을 입틀막 시킨 프로미스_9 규리,나경,채영 [뇌피셜],장규리, 이채영, 이나경,11.13,,  fromis_9がKstyleに初登場！9人のメンバーそれぞれの魅力に迫る！？,전원,11.13,,  ラブリーな魅力に胸キュン！fromis_9の撮影メイキングを大公開！,전원,11.13,,  fromis_9のTMI大放出！？一問一答リレーに挑戦！,전원,\"),\n",
              "  Document(metadata={'page_url': 'https://namu.wiki/w/프로미스나인', 'artist_info': 'FROMIS_9', 'toc_item': '방송 / OST / 참여 음반', 'abs_page_toc_item': '음반//방송 / OST / 참여 음반', 'parent_paper': '음반'}, page_content='page_content:  방송 / OST / 참여 음반,,발매일,음반명,곡명,미발매,불후의 명곡 - 전설을 노래하다 (인생의 희노애락을 노래하다 작사가 김병걸),다함께 차차차,참여 멤버,작사 / 작곡 / 편곡,비고,프로미스나인,작사: 김병걸작곡: 이호섭편곡: 이항규,,,발매일,음반명,곡명,2019. 05. 21.,초면에 사랑합니다 OST Part.6,지금부터 시작해,참여 멤버,작사 / 작곡 / 편곡,비고,박지원, 이나경,작사: 한준, 박세준작곡: 이유진, 박세준편곡: 이유진,,,발매일,음반명,곡명,2021. 09. 08.,싸이월드 BGM 2021,별,참여 멤버,작사 / 작곡 / 편곡,비고,송하영, 박지원, 이서연,작사: 이재학작곡: 이재학편곡: BuildingOwner (PRISMFILTER), 이범훈 (PRISMFILTER),,,발매일,음반명,곡명,2021. 11. 20.,불후의 명곡 - 아티스트 백두산 유현상 편,난 사랑을 아직 몰라,참여 멤버,작사 / 작곡 / 편곡,비고,프로미스나인,작사: 지명길작곡: 유현상편곡: Nmore (PRISMFILTER), Elum (PRISMFILTER),,,발매일,음반명,곡명,2022. 03. 15.,크레이지 러브 OST Part.2,Stay Alive,참여 멤버,작사 / 작곡 / 편곡,비고,프로미스나인,작사: RANG작곡: 이해솔, RANG편곡: 이해솔,,,발매일,음반명,곡명,2022. 07. 24.,달빛바다,달빛바다,참여 멤버,작사 / 작곡 / 편곡,비고,프로미스나인,작사: 김이나작곡: 김태영, 싸이져편곡: HONYESWEAT, 김태영, KZ,,,발매일,음반명,곡명,2023. 10. 11.,작전명 순정 OST,Love Me Back,참여 멤버,작사 / 작곡 / 편곡,비고,프로미스나인,작사: jaguaa(NiNE), D.FOLIV(NiNE), 김민구(NiNE)작곡: 김민구(NiNE), 조영민(NiNE), jaguaa(NiNE), 이예준(NiNE편곡: 이예준(NiNE), 조영민(NiNE), 김민구(NiNE),,'),\n",
              "  Document(metadata={'page_url': 'https://namu.wiki/w/프로미스나인', 'artist_info': 'FROMIS_9', 'toc_item': '숙소 현황', 'abs_page_toc_item': '여담/숙소 현황', 'parent_paper': ''}, page_content=\"page_content: 일반적인 경우 기획사의 사옥 근방에 있는 맨션, 아파트 등을 소속 아티스트의 숙소로 활용하는 것과는 달리, 프로미스나인은 청담동에 위치한플레디스의 사옥 윗층에 마련된 거주 공간을 첫 숙소로 사용했다.(#fn-70; 해당 사옥은 한승연이 건물주로도 알려져 일본 카라 팬들에게는 '슨욘비루(スンヨンビル)'라고도 불린다.)숙소는 복층으로 이루어져 있었으며 방송에서는 비춰지지 않았지만 부엌 양측으로 욕실과 다용도실이 있어 탈의실로 활용되었다.2층의 경우 1층과 마찬가지로 욕실과 테라스가 있는데 테라스 계단을 통해서도 3층 옥상에 출입이 가능하며 각종 소품과 함께 화장대가 놓여있는 방이 하나 더 있다.더불어 다용도실은 4인실과 구분짓는 벽면에 큰 거울이 설치돼있는 공간인데, Channel_9을 보면 바닥이 따뜻하다는 이유로이새롬이 자주 터를 잡는 듯하다.또 숙소 자체가 사옥인 만큼 지하 층에 연습실이 있어서 차량 이동없이 엘리베이터를 타고 바로 내려가면 된다.게다가 웹 예능 '방판소년단'를 통해 사옥 1층에 카페테리아도 있음이 확인됐다.2020년 기준 옛 숙소의 룸메이트는 다음과 같았다. 첫 숙소에서 살기 시작했을 때, 룸메이트 선정 방식을 트위터에서 투표로 결정했다. 선정된 방식은 해적 룰렛. 그 결과, 2인실에 장규리, 노지선이, 3인실에 송하영, 박지원, 이채영이, 4인실에 나머지 멤버인 이새롬, 이서연, 이나경, 백지헌이 거주하게 되었다. 이후 생활스타일의 차이로 2인실의 노지선과 4인실의 백지헌이 서로 방을 바꾸었다. 그러다 2020년 7월 플레디스 사옥 인근의 아파트로 숙소를 옮기며 동시에 두 채로 나눠 쓰게 되었다고 한다.숙소1 - 서연, 채영 / 하영, 지원 / 새롬숙소2 - 나경, 지헌 / 규리, 지선숙소 1은 물건을 서로 공유하는 성향이 강하며, 삐융즈만으로도 알 수 있듯이 시끌시끌한 멤버들이 모여있다. 반면에, 숙소 2는 자기 물건을 따로 쓰고 조용한 멤버들이 모여있는 편.그러다 숙소 2가 또 다시 다른 곳(2채)으로 이사를 갔는데, 여기서는 4명이 전부 각방을 사용한다.2023년 9월 기준 숙소의 룸메이트는 다음과 같다. 2023년 4월 30일 위버스 라이브까지는 새롬이 1채에 살았던 것으로 보이나 2023년 6월 25일 위버스 라이브에서 숙소에서 지헌과 피자를 나누어 먹었다는 채팅이 있었는데 다음날인 26일 새롬 피셜로 하영, 지원이 각방을 쓸 수 있도록 배려하기 위해 2채로 이사하였으며 29일에 진행된 하영, 지원의 라이브 방송에서 결성 6년만에 각방을 쓰게 됐음을 알렸다.에어컨 전쟁 종결 하영은 기존 방을 그대로 쓰며 지원이 방을 옮겼다고 한다.현재 노지선과 이서연이 새로운 숙소인 3채에서 거주하는 것으로 보인다. 노지선이 숙소에서 라이브를 했을 당시 이서연이 합류하였고, 채팅으로 참여한 백지헌을 보고 같이 합류하라며 얼마 안 걸리지 않냐는 말을 하였기 때문에 같은 숙소는 아닌 것으로 보이며 2채와 3채의 거리가 가까운 것으로 보인다. 또한 이서연과 노지선은 위버스를 통해 서로 퇴근하면서 사갈 음식을 자주 물어보았기 때문에 같이 사는 것이 확실해 보인다. 또한 이새롬이 2채로 이사온 후 라이브를 했을 때 백지헌이 이새롬의 약과를 먹어도 되냐며 방 밖에서 물어본 적이 있었고 백지헌은 숙소 라이브에서 이새롬과 이나경만을 언급했기 때문에 현재 숙소는 총 3채로 구성되어 있을 확률이 높다.2024년 3월 31일 기준 현 숙소의 룸메이트 현황은 다음과 같다. 2023년 하반기 이후 1채의 박지원은 서울로 본가가 이사를 오면서 숙소를 나가게 되었고, 이채영 역시 서울 집을 오가며 거주하면서 숙소에는 송하영 혼자만 남는 일이 잦았다. 그래서인지 몰라도 이나경이 박지원이 쓰던 방으로 옮겨왔다. ,,,,,,,,,거실 및 부엌,거실 및 테라스,3인실,2인실,숙소 1층,,,,,다락방 통로,다용도실,4인실,다락방,플레디스 청담동 사옥 외관,숙소 2층,숙소 3층 , 1층,장규리 백지헌,송하영 박지원 이채영,2층,이새롬 노지선 이서연 이나경, 1채,송하영,박지원,이채영,2채,이새롬,이나경,백지헌,3채,노지선,이서연,, 1채,송하영,이채영,이나경,2채, 이새롬,백지헌,,3채,노지선,이서연,,\"),\n",
              "  Document(metadata={'page_url': 'https://namu.wiki/w/프로미스나인', 'artist_info': 'FROMIS_9', 'toc_item': '미니 2집 《To. Day》 (2018. 06. 05.)', 'abs_page_toc_item': '활동/음악 방송/무대 의상//무대 의상/미니 2집 《To. Day》 (2018. 06. 05.)', 'parent_paper': '무대 의상'}, page_content='page_content:   The 2nd Mini Album To. Day,,,,,,SHOWCASE두근두근, 2018. 06. 05.,SUB22세기 소녀, 2018. 06. 07.,TITLE두근두근, 2018. 06. 07.,SUB22세기 소녀, 2018. 06. 08.,TITLE두근두근, 2018. 06. 08.,,,> -,,,TITLE두근두근, 2018. 06. 09.,SUB22세기 소녀, 2018. 06. 12.,TITLE두근두근, 2018. 06. 12.,TITLE두근두근, 2018. 06. 13.,TITLE두근두근, 2018. 06. 14.,,,,,,TITLE두근두근, 2018. 06. 15.,TITLE두근두근, 2018. 06. 17.,TITLE두근두근, 2018. 06. 20.,TITLE두근두근, 2018. 06. 21.,TITLE두근두근, 2018. 06. 22.,,,,,,TITLE두근두근, 2018. 06. 27.,TITLE두근두근, 2018. 06. 28.,TITLE두근두근, 2018. 07. 01.,TITLE두근두근, 2018. 07. 03.,TITLE두근두근, 2018. 07. 05.,,,,,,TITLE두근두근, 2018. 07. 06.,TITLE두근두근, 2018. 07. 07.,TITLE두근두근, 2018. 07. 08.,TITLE두근두근, 2018. 07. 10.,TITLE두근두근, 2018. 07. 11.,,,,,,TITLE두근두근, 2018. 07. 13.,SUB22세기 소녀, 2018. 07. 18.,SUB22세기 소녀, 2018. 07. 19.,SUB22세기 소녀, 2018. 07. 20.,SUB22세기 소녀, 2018. 07. 21.,,,,,,SUB22세기 소녀, 2018. 07. 22.,TITLE두근두근, 2018. 07. 24.,COVEROh, 2018. 07. 24.,TITLE두근두근, 2018. 07. 27.,TITLE두근두근, 2018. 08. 03.,,TITLE두근두근, 2018. 08. 24.,'),\n",
              "  Document(metadata={'page_url': 'https://namu.wiki/w/프로미스나인', 'artist_info': 'FROMIS_9', 'toc_item': '타 채널', 'abs_page_toc_item': '활동/V LIVE//타 채널', 'parent_paper': 'V LIVE'}, page_content=\"page_content:  날짜,채널명,방송명,설명,11.28,VPICK!, ❗️❗️이게 모냐면 프로미스나인 첫 단체 ✌️라이브❗️❗️(fromis_9's first V)멤버 전원,-,12.06, 백지헌 니가 내 힐링이꿀깅이다...😭💕 (JiHeon making a mindmap about herself)백지헌,-,12.07, 노지선 사랑스러움 ㅇㅈ?ㅠㅠ ㅇㅇㅈㅠㅠㅠㅠ💗💗💗 (So lovely ROH JISUN)노지선,-,12.13, ❗️릐얼긴급상황❗️러블리큐티퀸로미스의 보충시간💯 (fromis_9 talking about their rest story)이새롬&송하영&노지선&이나경&백지헌,-, 날짜,채널명,방송명,설명,01.15,VPICK!, ⏰열두시가 되면!!~ 박력있어지는 귤젼션의 스포일까~ 아닐까~ (fromis_9's spoiler)장규리&박지원&이서연,-,01.24, 우리 프롬이들 꿈아 이뤄져라💛 (fromis_9’s debut D-1)멤버 전원,-,01.25, 프롬이들 큐티쁘띠러블리최강귀여운거 마쪼?마쪼?💞 (Fromis_9 cuteness overload)멤버 전원,-,02.19, 프로미식회 노장금송모찌표 떡볶이🍽(fromis_9 eating tteokbokki)장규리 외 전원,-,02.20,, [말이 없다] fromis_9 이나경 편 (Lee Nagyung of fromis_9)이나경,-, [말이 없다] fromis_9 노지선 편 (Roh Jisun of fromis_9)노지선,02.21, [말이 없다] fromis_9 백지헌 편 (Baek Jiheon of fromis_9)백지헌, [말이 없다 비하인드] fromis_9 셀프 폴라로이드 촬영 현장 공개♥노지선&이나경&백지헌,03.06,VPICK!, 🐶장신즈🐿는 무슨상? 미인상✨ (Lovely Gyuri and Chaeyoung)장규리&이채영,-,03.20, 진짜막내와 가짜막내와 막내=꿀센꼬💛 (fromis_9 talking about costume event)노지선&이나경&백지헌,-,04.10, 빵귤 빵먹는 모습만 봐도 배불러🍞🍊 (Gyuri eating bread)장규리,-,05.14,,LIVE  드림콘서트 레드카펫 (2018 DREAM CONCERT Red Carpet)멤버 전원,-,08.23,VPICK!, 실친미 넘치는 노양심씨와 용각산 레전드 박지원💕 (fromis_9’s 98line)박지원&노지선,-,08.31, 나방은 몸이 찌부되더라도 프롬이들을 가까이 보고 싶었던거야..🦋(Jisun and Chaeyoung talking about episodes)노지선&이채영,-,09.07, 어서오세요 규리공주님🍊💕 (Gyuri talking about her feeling after Produce 48)장규리,-,09.17, 힙~합을 하려면 모~자를 써야돼😎🧢(Chaeyoung&Jiwon&Seoyeon playing with filters)장규리&박지원&이서연&이채영,-,10.01, 프롬이들 기다리다가 내 심장 메론처럼 터졌쟈나🍈💥(fromis_9 giving notice for surprise V)멤버 전원,-,10.15,,LIVE  [Full]fromis_9 X LieV - 프로미스나인의 눕방라이브!멤버 전원,💌#1 #2 PICK!,10.16,,LIVE  SBS MTV <더쇼> 퇴근길 Live !멤버 전원,-,10.18,,LIVE  ❤️엠카 글로벌MC크루 보나&규리&도연의 깜짝 라이브❤️장규리,-,10.19,VPICK!, 이모 여기 국이 너무..짜! 릿한 럽-럽-럽밤❤️💣(fromis_9 introducing their new album)멤버 전원,-,10.22,,LIVE  프로미스나인 럽밤럽럽밤 💫멤버 전원,-,LIVE  'IDOL RADIO' ep#21. FROMIS9 포스트시즌 (w. 프로미스나인)멤버 전원,-,10.24,,LIVE  [쇼챔피언 커튼톡 수요일 PM 07:30 KST] 루첸트, 프로미스나인멤버 전원,-,10.29,, [존예보스2] 프로미스나인 '이나경' 편 (LEE NA GYUNG of fromis_9)이나경,-,10.30,,LIVE  MTV <더쇼> 퇴근길 Live !멤버 전원,-,11.07,,LIVE  REPLAY이달의 소녀&프로미스나인, <아이돌룸> 촬영 중 기습 LIVE!멤버 전원,JTBC 아이돌룸 녹화 중 LIVE.,11.11,, [ⓓxV] “프로미들의 소.확.행” (프로미스나인:fromis_9)멤버 전원,-,11.19,VPICK!, 22세기 미래형 패션리더 메건박🧦❌✨ (The 22nd century fashion leader Park Jiwon)박지원&노지선&이서연,-,11.20, 귤.인.대🍊 (규리 인싸만들기 대작전) (Gyuri learning abbreviation)장규리,-,11.26, 행복전도사 송하빵🐱🐂🐔💓 (Hayoung saying she communicated with animals)송하영,-,11.28,STARNEWS,LIVE  ASIA ARTIST AWARDS - Red Carpet멤버 전원,-,12.05,VPICK!, 잇츠미지헌 417 찍을때까진 못 놔줘🍯(Jiheon’s QnA time with fans)백지헌,-,12.08, 도어락은 뜻밖의 비추를 남기고..(Jisun communicating with fans)노지선,-,12.18, 겁챙이와 프롬이들의 갑분공포토크 지금 므라고 했냐~⁉️ (fromis_9 talking about their scary stories)멤버 전원,-,12.19,,LIVE  'IDOL RADIO' ep#79. 보니후니 (w. 형섭X의웅, 디크런치 딜란, 에이프릴레이첼, 프로미스나인 백지헌)백지헌,-, 날짜,채널명,방송명,설명,01.08,VPICK!, 💗울롬새 태어나줘서 고마워💗 (Happy Saerom Day+1)이새롬,-,01.09, 2019년엔 지센이 원하는거 다하게 해주세요(센멘)🙏 (Jisun sharing her diary with fans)노지선,-,01.17, 나 김육성회원, 드디어 새 이름 생기는 날! (fromis_9 talking about their fan club name)멤버 전원,-,01.22, 지센 때문에 월요일도 예뻐해준다..💜(Jisun’s eating V)노지선,-,01.23, 울더연언니ㅠ예쁘고 귀엽고 멋있고 다 해ㅠ션데이날넘 골져스해 (Happy Gorgeous Seoyeon Day)이서연,-,03.02,V HEARTBEAT - 2019 VLIVE AWARDS, 프로미스나인 시상식 파티 미리보는 브이로그 <re:memV-log>멤버 전원,POST,03.03, 프로미스나인 리멤버파티 시상식 / 2019 GLOBAL VLIVE TOP 10 ROOKIE STAGE멤버 전원,03.04, 루키 TOP 5 리멤버파티 시상식 FULL / 2019 GLOBAL VLIVE TOP 10멤버 전원,03.14,VPICK!, [V PICK! HOW TO in V] 하영의 철판아이스크림🍨 (HOW TO MAKE Ha Young’s Ice cream rolls)송하영,-,03.17, 지헌이🐳의 한강라면 도전기🍜 (with.🐼🐑) (Jiheon eating Han river Ramen)노지선&이서연&백지헌,-,03.22, [V PICK! HOW TO in V] 새롬의 귤케이스🍊 (HOW TO MAKE SAE ROM’s AirPods case)이새롬,-,03.23, [1년 전 오늘의 fromis_9] 프로미스나인! 약속을 지키는 깜찍이들이지🌙 (fromis_9 a year ago)이새롬&노지선&이서연,-,04.12, 👥(웅성웅성)몬데 몬데 콩나물 사건이 몬데~?? (Gyuri&Jisun talking about forgetfulness)장규리&노지선,-,04.26,V HEARTBEAT - 2019 VLIVE AWARDS, 프로미스나인 x 캐치마인드 [re:memVer party 2019멤버 전원,시상식 진행 전 미니게임 비하인드 영상.,04.29,VPICK!, 다정뿜뿜 규리선배 보고 월요병이 완치됐습니다🍊💕 (Gyuri reading fan’s comments)장규리,-,05.05,,LIVE  프로미스나인 이새롬&장규리<안녕하세요>대기실 vlive!이새롬&장규리,KBS2 대국민 토크쇼 안녕하세요 녹화 전 LIVE.,06.02,VPICK!, 🎉하늘땅별땅 사랑하는 나꼬 생일축하해🥰🎉 (HAPPY NAGYUNG DAY+1)이나경,-,06.03, 🍊트윈타워 크로스에 큐트력도 두배! 아니 세배네배...20180124배🐿 (CHAEYOUNG&GYURI talking about their interest)장규리&이채영,-,06.05, 챙이방에 찾아와주신 영감님께 무한 감사를👏👏 (fromis_9 talking about their 1st single album ‘FUN FACTORY’)멤버 전원,-,06.11,,LIVE  SBS MTV <더쇼> 퇴근길 Live !멤버 전원,-,06.18,,LIVE  [Full]SINGING ROOM X fromis_9 - 코인노래방 X 프로미스나인멤버 전원,PICK!,06.19,,LIVE  'IDOL RADIO' ep#260. 펀펀라디오 (w. 프로미스나인)백지헌,-,06.27,VPICK!, 💗프롬이들 귀여움에 심장파손 + 꺄르륵에 배꼽파손😂 (fromis_9 talking about many things)송하영&이채영,-,07.03, 앞으론 올 때 메론맛 말고 올 때 메로라를 외칠 거야💕 (Jiwon&Seoyeon showing cute videos)박지원&이서연,-,07.06, 픎잘알 허니의 어바웃 성덕❣️아 완전 마이스타일입니당♡٩(^▿^)۶♡ (Jiheon talking about their pretty moments)백지헌,-,07.16,,LIVE  SBS MTV <더쇼> 퇴근길 Live !멤버 전원,-,07.18,VPICK!, 💥프로미스나인배 생일날짜 스무고개💥 (fromis_9 asking their birthday each other)이서연&이채영&이나경&백지헌,-,08.09, 꿀깅이와 언니들이 나오지만 꿀깅이 단독브이앱입니다 (fromis_9 talking about scared things)노지선&백지헌,-,08.12, 예능,LIVE   침대에 누워서 편하게 보는 아육대 출근길 V LIVE!멤버 전원,아육대 포토존에서의 취재진 촬영과 간단한 인터뷰를 마쳤다.,08.17,VPICK!, 집밥 픎선생의 인생역작 머드화채를 소개합니다~ (fromis_9 eating watermelon salad)이새롬&송하영&이나경,-,08.20, 로션 꿈이야기 듣는 이 순간이 돼지꿈 용꿈보다 더 좋잖아요⭐️ (JISUN&SEOYEON talking about their dreams)노지선&이서연,-,09.14, [1년 전 오늘의 fromis_9] ‼️최.초.발.견‼️ 꿀깅이깜찍미모 영구 보존의 법칙 (Jiheon showing childhood pictures a year ago)백지헌,-,09.20, 가을바람보다 더 살랑살랑 선덕선덕💗한 건,, 바로 지센,,(〃´∀`〃) (Jisun talking about broadcast behind)노지선,-, 날짜,채널명,방송명,설명,11.12,, 프로미스나인이 밥 먹다가 난데없이 눈물파티 한 사연ㅠㅠㅠ [보라다방] EP15이새롬&송하영&노지선,-,11.14,,LIVE  미소랑 놀자😺이채영,드림노트 미소의 자체 LIVE에서 채영과의 짧은 통화를 가졌다.,12.27,VPICK!, [2년 전 오늘의 fromis_9] (미모로 질) 자신 없는 규리데이🍊 (GYURI’s birthday V 2years ago)장규리,-, 날짜,채널명,방송명,설명,05.14,,LIVE  😐💛이채영,드림노트 미소의 자체 LIVE에서 채영과의 짧은 통화를 가졌다.,09.17,VPICK!, [3년 전 오늘의 fromis_9] 롬쌔에게 내 사랑을 가득 담아 보내💌 (SaeRom’s V 3 years ago)이새롬,-, 날짜,채널명,방송명,설명,07.17,,LIVE  [엑시 은서] 소(정)주(연) EP 1.5(?)송하영&박지원,우주소녀 엑시와 은서의 자체 LIVE에서 짧은 통화를 가졌다.,\"),\n",
              "  Document(metadata={'page_url': 'https://namu.wiki/w/프로미스나인', 'artist_info': 'FROMIS_9', 'toc_item': 'Wallpaper', 'abs_page_toc_item': '활동/Weverse//Wallpaper', 'parent_paper': 'Weverse'}, page_content='page_content: 2023년에 시즌그리팅이 발매되면서 업로드가 멈추었다. 날짜,제목,비고,12.31,  2022 Wallpaper : January,전원, 날짜,제목,비고,01.31,  2022 Wallpaper : February,노지선,02.28,  2022 Wallpaper : March,송하영,03.31,  2022 Wallpaper : April,장규리,04.30,  2022 Wallpaper : May,이새롬,05.31,  2022 Wallpaper : June,이서연,06.30,  2022 Wallpaper : July,박지원,07.31,  2022 Wallpaper : August,백지헌,08.31,  2022 Wallpaper : September,이채영,09.30,  2022 Wallpaper : October,이나경,11.06,  2022 Wallpaper : November,전원,11.29,  2022 Wallpaper : December,'),\n",
              "  Document(metadata={'page_url': 'https://namu.wiki/w/프로미스나인', 'artist_info': 'FROMIS_9', 'toc_item': '2인', 'abs_page_toc_item': '멤버/멤버 간 케미//목록/2인', 'parent_paper': '멤버 간 케미'}, page_content='page_content: 구팔즈(♥) - 박지원 & 노지선두 사람은 1998년 출생 동갑내기로 아이돌학교에서 거의 접점을 보이지 않던 둘이지만 프로미스나인으로 데뷔한 후에 동갑이라는 이유로 결성됐다. 상반되는 성향임에도 서로 이해하며 케미를 자랑한다.  꿀쎈 - 노지선 & 백지헌프로미스나인 내에 엄마와 딸로 가족의 맏이로 똑부러지던 지헌이 그룹의 막내로서 허물어지는 모습이 여실히 드러난다.또 백지헌은 노지선의 애정과 관심에 비례한 조곤 조곤 잔소리 대상 1순위 이기도 해서 힘듦을 토로 하기도 한다. 급식단/잇프제즈 - 이채영 & 백지헌2018년 당시 학생 신분이었던 둘을 일컫는 말로 이채영에 이어 2022년을 기점으로 백지헌이 고등학교를 졸업하게 되면서 자연스레 해체가 되었고 둘다 MBTI가 ISFJ이다.  꼬챙이(♥) - 이채영 & 이나경2018년 9월 6일, K-CON LA 비하인드 콘텐츠에서 \"긴 여행을 위해 꼬챙이를 챙겨왔습니다.\"란 송하영의 한마디에 결성됐다. 둘이 함께면 발랄함이 두 배로 상승한다.  꼬롬(♥) - 이새롬 & 이나경나경의 발랄함과 그걸 따스하게 바라보는 새롬의 케미가 보는이까지 흐뭇하게 한다. 나경은 멤버들이 남자라면 남자친구로 사귈만한 사람으로 새롬을 뽑으며 자신과 텐션이 비슷하고 잘 맞는 부분이 많고 잘생겨서라며 이유를 꼽았다.  노랑즈(♥) / 담담이(♥) 나쁜말즈 - 송하영 & 박지원 2017년 12월 4일, V LIVE에서 두 사람이 같은 노란색 옷을 맞춰 입고 나오면서 결성됐다. 둘 모두가 팀 내에 보컬을 맡고 있는 만큼 V LIVE에서 종종 노래를 커버한다. FUN FACTORY 활동 이후부터는 담담이라고도 불렸다. 2019년 6월 3일, 트위터블루룸 LIVE Q&A 중 수록곡인 FLY HIGH를 소개하던 중 멤버들이 노랑즈를 담담이라고 불리며 알려졌다. 왜 그렇게 불리는데 있어서는 비밀이라 답했으나 2019년 6월 25일 V LIVE를 통해 송하영이 팬분들과 친구처럼 담담하게 소통하면서 담담한 감동을 주고자 하는 의미가 담겼음을 설명했다.더불어 팀 내에서 가장 \\'아담\\'한 지원이 때문이라는 부가적인 이유를 댔으나 정작 당사자인 지원은 동의하지 않았고, 송하영도 살짝 끼워 맞춘 것을 인정했다.  막냉즈 - 이나경 & 백지헌  맏막즈 - 이새롬 & 백지헌  롬션(♥) - 이새롬 & 이서연평소 멤버들에게 스킨쉽하는 것을 좋아하는 이서연과 이를 잘 받아주는 이새롬의 조합이다. 더불어 이새롬은 이서연의 꿈 얘기의 주 청취자이기도 해서 간혹 귀찮음을 토로하기도 한다.  바른즈(♥) / 로션(♥) - 노지선 & 이서연프로미스의 방 2017년 11월 16일 방영분에서 \"내가 살면서 한 번도 해보지 못한 것은?\" 이라고 이서연의 질문에 이채영이 비행기 타고 여행 가기라고 말해 이에 노지선도 바르게 살아왔기 때문이라고 자평했다. 하지만 같은 해 12월 15일 \\'MAMA in Japan\\' 공연차 출국을 하게 되면서 자연스레 해체되었다. 이후 로션으로 불리고 있다.  선물(♥) - 이새롬 & 노지선2019년 5월 27일, V LIVE에서 이새롬이 여태껏 지선과 LIVE를 많이 했음에도 불구하고 둘을 가리키는 이름이 없어서 롬을 뒤집어 \\'물\\'이라 하고 노지\\'선\\'과 합쳐 즉흥적으로 지은 이름이라고 설명했다.  요리즈-송하영&노지선노지선은 아이돌 학교때부터 \\'노장금\\' 면모를 보여줬는데 이에 숙소에서 항상 멤버들의 끼니를 손수 챙겨주는 송하영과 함께 요리를 할때면 여실없이 둘이서 부엌을 책임진다.(#fn-3; 만일 단체로 요리를 해야할 시 자연스레 이 둘이 프나의 컨트롤 타워가 되며 잠깐이라도 자리를 비울 시 단체 요리를 진행하지 못한다.)  져니셔니 - 박지원 & 이서연아이돌 학교 육성회원 특별면담에서 각별한 케미를 보여줬다. 둘은 2018년 V LIVE COVER U에서 Despacito를 커버 커버했다고 해서 \\'데스파시토즈\\' 또는 \\'메로라\\'라고도 불린다.  젼챙 - 박지원 & 이채영2018년 8월 17일 제1회 두근두근 시상식에서 베스트 케미상에 뽑혔다.  하꼬야(♥) - 송하영 & 이나경2018년 8월 23일, 둘이서 V LIVE COVER U에서 \\'Youth\\'를 커버를 한것을 시작으로 같은 해 9월 20일 V LIVE \\'오늘 노래 추천 하꼬야\\'라고 방제가 붙여지면서 결성됐다.  하롬(♥) / 구칠즈 (♥) - 이새롬 & 송하영 프로미스나인의 캡틴과 부캡틴의 조합이다. 둘은 아이돌 학교 1, 2차 육성회원 특별면담에서 동갑임에도 학교 선후배인 묘한 케미를 보여줬다. 두 사람은 1997년 출생 동갑내기다. 두 사람 모두 눈물이 많은 탓에 구찔즈라고도 불린다.  롬젼(♥) - 이새롬 & 박지원'),\n",
              "  Document(metadata={'page_url': 'https://namu.wiki/w/프로미스나인', 'artist_info': 'FROMIS_9', 'toc_item': '2022년', 'abs_page_toc_item': '활동//연혁/2022년', 'parent_paper': '활동'}, page_content=\"page_content: 1월 3일, 오전 12시 4번째 미니 앨범 Midnight Guest의 'Before Midnight'의 공식 사진을 공개하였다.  1월 4일~1월 5일, 오전 12시 4번째 미니 앨범 Midnight Guest의 'After Midnight'의 공식 사진을 공개하였다.  1월 6일, 4번째 미니 앨범 Midnight Guest의 'After Midnight'의 콘셉트 필름을 공개하였다.  1월 9일, 오후 9시 4번째 미니 앨범 Midnight Guest의 이모저모를 담은 'Midnight Guest' Talk Show를 공개하였다.  1월 10일, 오전 12시 4번째 미니 앨범 Midnight Guest의 트랙리스트를 공개하였다.  1월 10일, 오전 12시 4번째 미니 앨범 Midnight Guest의 하이라이트 메들리를 공개하였다.  1월 13일, 오후 5시 문명특급에 규리, 지원, 지선, 채영, 지헌이 출연해 대학교 새내기 새터편을 선보였고 타이틀 곡 'DM'의 안무와 노래 일부를 선공개 하였고, 오후 7시부터 공식 틱톡 채널을 통해 'DM'의 음원 일부와 안무 일부를 선공개하였다.  1월 17일, 오후 6시 4번째 미니 앨범 Midnight Guest의 타이틀 'DM'이 공개되었고, 오후 7시에는 3년 7개월만에 쇼케이스가 진행되었다.  6월 27일, 오후 6시 5번째 미니 앨범 from our Memento Box가 공개되며, 타이틀곡 'Stay This Way'도 동시에 공개되었다. 진행 예정이던 쇼케이스는 교통사고로 인해 취소되었다.  7월 26일, 오전 0시 45분, 칸무리 방송 HYBE JAPAN TV의 걸그룹 특집에서 LE SSERAFIM과 함께 출연한다.기사 전문  7월 28일, 플레디스 측은 트위터 공지를 통해 7월 31일 장규리가 이전 소속사와 했던 계약이 만료되면서 탈퇴한다고 밝혔다. 이로 인해 프로미스나인은 8월부터 8인체제로 활동한다. #   8월 26일, 오후 2시 위버스를 통해 프로미스나인의 첫 단독 콘서트 <LOVE FROM.>을 개최한다고 공지하였다. 9월 30일부터 10월 2일까지 3일간 펼쳐지며, 5일 후인 10월 7일에는 프로미스나인의 첫 해외 단독 콘서트 <LOVE FROM. IN JAPAN>도 개최한다고 공지하였다.공지 전문  10월 28일, 공지를 통해 이새롬과 이서연이 컨디션 난조로 당분간 스케줄 불참 및 휴식을 취할 것이라고 밝혔다. 이로 인해 같은날 오후 예정된 대학 축제에 6인 멤버로 오르며 향후 스케줄에 6인 또는 7인 멤버로 활동할 예정이다. #   12월 24일, SBS 가요대전을 통해 이새롬이 공식 복귀 하였다.\"),\n",
              "  Document(metadata={'page_url': 'https://namu.wiki/w/프로미스나인', 'artist_info': 'FROMIS_9', 'toc_item': '개요', 'abs_page_toc_item': '수상 경력//개요', 'parent_paper': '수상 경력'}, page_content='page_content: 대한민국의 8인조 걸그룹 프로미스나인의 수상 내역을 정리한 문서.'),\n",
              "  Document(metadata={'page_url': 'https://namu.wiki/w/프로미스나인', 'artist_info': 'FROMIS_9', 'toc_item': '상세 이미지', 'abs_page_toc_item': '팬덤/굿즈//시즌 그리팅/2024/상세 이미지', 'parent_paper': '굿즈'}, page_content='page_content: ,,,,이새롬,송하영,박지원,노지선,,,,, 이서연,이채영,이나경,백지헌, ,,,,이새롬,송하영,박지원,노지선,,,,, 이서연,이채영,이나경,백지헌,'),\n",
              "  Document(metadata={'page_url': 'https://namu.wiki/w/프로미스나인', 'artist_info': 'FROMIS_9', 'toc_item': '미니 3집 《My Little Society》', 'abs_page_toc_item': '음반//국내 음반/EP/미니 3집 《My Little Society》', 'parent_paper': '음반'}, page_content='page_content: 다음 문서로 대체 설명: https://namu.wiki/w/My%20Little%20Society'),\n",
              "  Document(metadata={'page_url': 'https://namu.wiki/w/프로미스나인', 'artist_info': 'FROMIS_9', 'toc_item': '스페셜 싱글 《From.9》', 'abs_page_toc_item': '음반//국내 음반/싱글/스페셜 싱글 《From.9》', 'parent_paper': '음반'}, page_content='page_content: 다음 문서로 대체 설명: https://namu.wiki/w/From.9'),\n",
              "  Document(metadata={'page_url': 'https://namu.wiki/w/프로미스나인', 'artist_info': 'FROMIS_9', 'toc_item': '미니 2집 To. Day 약속회 MD', 'abs_page_toc_item': '팬덤/굿즈//약속회/미니 2집 To. Day 약속회 MD', 'parent_paper': '굿즈'}, page_content='page_content:  2집 공식 응원봉 (10,000원) 아크릴 미니스 탠드 (각 15,000원) 캐릭터 스티커 세트 (6,000원) 로고 뱃지 (5,000원) 포토카드 세트 (5,000원) 핀버튼 세트 (10,000원) 이번 MD는 전과 달리 처음부터 물품 당 구매제한이 1인 3개로 걸려있다.'),\n",
              "  Document(metadata={'page_url': 'https://namu.wiki/w/프로미스나인', 'artist_info': 'FROMIS_9', 'toc_item': 'FOOTNOTES', 'abs_page_toc_item': '활동/Weverse//FOOTNOTES', 'parent_paper': 'Weverse'}, page_content='page_content: [기준] 2024년 8월 9일 (KST)'),\n",
              "  Document(metadata={'page_url': 'https://namu.wiki/w/프로미스나인', 'artist_info': 'FROMIS_9', 'toc_item': '아이비클럽', 'abs_page_toc_item': '활동/광고 및 화보//광고/아이비클럽', 'parent_paper': '광고 및 화보'}, page_content='page_content:    ,,이새롬,송하영,장규리,이새롬,송하영,장규리,박지원,노지선,이서연,박지원,노지선,이서연,이채영,이나경,장규리,이채영,이나경,백지헌,▲ 2018 N SEASON,▲ 2018 S SEASON,이새롬,송하영,장규리,이새롬,송하영,장규리,박지원,노지선,이서연,박지원,노지선,이서연,이채영,이나경,백지헌,이채영,이나경,백지헌,▲ 2018 F SEASON,▲ LIVE PHOTO, ,,,  [아이비클럽] 18N MAKING VIDEO - 프로미스나인,  [아이비클럽] 18S 프로미스나인 메이킹영상,  [아이비클럽] 18F 프로미스나인 메이킹영상, ,,,  [아이비클럽] 18N INTERVIEW - 프로미스나인,  [아이비클럽] 18N INTERVIEW - 지선+새롬+나경+서연,  [아이비클럽] 18N INTERVIEW - 하영+채영+지원+지헌+규리,,,,  [아이비클럽] 18S 인터뷰 :: 지선 하영 새롬 나경 지헌,  [아이비클럽] 18S 인터뷰 :: 채영 서연 지원 규리,'),\n",
              "  Document(metadata={'page_url': 'https://namu.wiki/w/프로미스나인', 'artist_info': 'FROMIS_9', 'toc_item': '미니 5집 from our Memento Box 굿즈', 'abs_page_toc_item': '팬덤/굿즈//앨범 관련 굿즈/미니 5집 from our Memento Box 굿즈', 'parent_paper': '굿즈'}, page_content='page_content:     , , , ,'),\n",
              "  Document(metadata={'page_url': 'https://namu.wiki/w/프로미스나인', 'artist_info': 'FROMIS_9', 'toc_item': '여담', 'abs_page_toc_item': '팬덤/굿즈//응원봉/여담', 'parent_paper': '굿즈'}, page_content='page_content: 2023년 1월 13일 오후 6시, 하이브 소속 아티스트 상품 판매 공식 트윗인 HYBE MERCH를 통해 해당 동영상과 함께 공식응원봉 출시 일정을 공개했다. 1월 20일 11시에 상세 페이지가 공개되며, 같은 날 오후 6시부터 판매를 시작한다. 중앙제어를 지원하며 색깔에 멤버들 의견이 약간이나마 반영됐다고 한다.  2023년 1월 20일 11시, 위버스 샵을 통해 상세 이미지가 공개되었는데 플로버들의 반응이 좋지 않다. 구성에 비해 가격이 지나치게 높기 때문이다. 위버스샵에서 판매중인 하이브 아티스트들의 응원봉 가격대가 39,000원~42,000원에 포토카드 패키지가 포함된 가격이었음에도 불구하고 49,000원이라는 높은 가격에 포토카드조차 포함되어있지 않은 구성이었기 때문이다. 긍정적으로 보자는 측에서는 코로나와 러시아 우크라이나 전쟁 등으로 인한 장기화된 반도체 가격 상승으로 인해 올해부터 가격이 오른 것이라고 옹호하였으나 그렇다고 하더라도 포토카드조차 구성품에 없다는 것이 이해가 가지 않는다는 것이었다. 또한 위버스샵은 5만원부터 무료배송을 보장하는데 49,000원으로 가격을 책정하여 무조건 배송비를 지불하여 52,000원으로 구매하여야 하는 상황에 놓인 것이다. 배달 어플처럼 배달비 꼼수 방지를 위한 옵션을 넣어두든지 다른 상품과 묶음 배송이라도 지원했어야 하는데 그것조차 지원하지 않아서 말만 49,000원이지 실제로는 52,000원에 구매해야 하기 때문이다. 심지어 제주도나 도서지역의 경우 배송비가 6천원이며 일본 플로버들은 6,500엔에 배송비가 800엔으로 한화로 8만원에 달하는 금액으로 구매해야하는 상황이라 사태가 더더욱 심각하다. 또한 응원봉의 디자인도 여타 다른 아티스트들의 응원봉처럼 투명한 구 형태 안에 그룹을 상징하는 심볼이 들어간 형태도 아닐뿐더러 그렇다고 특별한 형태의 디자인도 아니고 그냥 그룹 로고를 그대로 봉에 붙여놓은 형태이다보니 성의도 없다는 지적이 많다. 또한 당장 며칠 전에 채영이 위버스 라이브 도중에 악플로 인해 울먹였던 사건이 있었던지라 아티스트는 캐어하지 않고 돈만 밝히는 회사에 대한 불만이 하늘을 찌르는 상황이다. 그러나 2023년 2월 1일, 응원봉이 발송된 후 배송을 받은 플로버들이 늘어남에 따라 여론은 반전되어가는 상황이다. 생각보다 실물이 예쁘다는 반응이 팬덤과 외부에서도 나오고 있다. 또한 멤버들이 로고 색상과 손잡이 색상에 의견을 내었고 그것이 반영되었음이 다시금 확인되었다. '),\n",
              "  Document(metadata={'page_url': 'https://namu.wiki/w/프로미스나인', 'artist_info': 'FROMIS_9', 'toc_item': 'V LIVE 방송 중 발언 논란', 'abs_page_toc_item': '논란 및 사건 사고//개인/이새롬/V LIVE 방송 중 발언 논란', 'parent_paper': '논란 및 사건 사고'}, page_content='page_content:  프로미스나인 이새롬, 말실수 해명 “오해표현 죄송해”2022년 2월 11일 19시 30분 경, 프로미스나인은 V앱을 통해 V LIVE 진행했다. 이때 멤버 이새롬은 온에어가 된 줄 모른 듯, \"지겨워 죽겠다. 빨리 집에 가야 되는데\"라는 발언을 했고 이는 고스란히 송출되었다.2월 12일 23시 59분, 당사자 이새롬은 해당 발언은 길어진 자가격리에 대한것이며 앞으로는 더욱 발언에 주의를 기울이겠다는 요지의 다음과 같은 입장문을 밝혔다. 해명문이 발표된 이후에는 프로미스나인 팬 커뮤니티나 팬 유튜브 채널에서는 역시나 억측이었다라는 의견이었고, 다른 커뮤니티에서는 \\'프로미스나인 브이라이브 대참사\\'와 같은 제목으로 올라와 논란을 일으켰던 글들이 해명문이 업로드 되자마자 작성자에 의해 삭제되었다. 안녕하세요 프로미스나인 새롬입니다.플로버분들께 어제 브이라이브 초반 멘트 부분을 자세히 설명하고 싶어서 글을 쓰게 되었어요.자가격리가 끝난 후 브이라이브 시작 전 오랜만에 멤버들을 만나게 되어 그동안 못다한 말들을 나누고 있었습니다.저는 멤버들과 매일 붙어있다가 자가 격리하니 혼자 있을 수 있는 시간이 처음에는 좋았다가도, 밖에 나가지 못하는 상황이 지겨워 죽겠었다는 이야기를 하게 되었습니다.추가로 자가 격리 기간은 7일이지만 서연이와 같은 숙소집을 쓰는 저는 서연이의 음성 결과가 나오는 기간까지 숙소로 들어가지 못하는 상황이기에 서연이가 걱정되기도 해서 빨리 다시 숙소집으로 가고 싶다 라는 말이 서론 없이 나가게 되어 오해할 수 있는 표현이 된 것 같습니다.플로버 분들을 오랜만에 만나는 자리인 만큼 더 좋은 모습을 보여주고 싶었는데 저의 부주의로 인해 놀라게 해드려 미안해요.앞으로는 더 조심하고 성숙한 모습으로 자주 찾아올게요 🙏🏻,이새롬 해명문 (원문 캡쳐본),'),\n",
              "  Document(metadata={'page_url': 'https://namu.wiki/w/프로미스나인', 'artist_info': 'FROMIS_9', 'toc_item': '미니 2집 《To. Day》', 'abs_page_toc_item': '음반//국내 음반/EP/미니 2집 《To. Day》', 'parent_paper': '음반'}, page_content='page_content: 다음 문서로 대체 설명: https://namu.wiki/w/To.%20Day'),\n",
              "  Document(metadata={'page_url': 'https://namu.wiki/w/프로미스나인', 'artist_info': 'FROMIS_9', 'toc_item': '학교폭력 무고 피해', 'abs_page_toc_item': '논란 및 사건 사고//개인/이채영/학교폭력 무고 피해', 'parent_paper': '논란 및 사건 사고'}, page_content='page_content: 이채영이 2013년에 학교폭력 가해자였다고 주장하는 글이2017년 6월과 2017년 10월에 한 커뮤니티에 게시되었다. 이에 아이돌학교 PD는 2017년 7월에 확인 결과 사실이 아니라고 밝혔지만  많은 네티즌들이 커뮤니티에 올라간 글을 사실로 간주하고 악플을 작성해 곤욕을 치렀다.이후 이채영을 학교폭력 가해자라 단정 짓고 댓글을 다는 네티즌들이 많은 만큼 팬덤측에선 이채영 본인이나 소속사의 해명이 필요하지 않겠냐는 의견이 있었지만 당시 소속사인 스톤뮤직엔터테인먼트 측에선 활동에 큰 장애가 올 만큼은 아니기에 굳이 긁어 부스럼을 만들 필요가 없다고 판단한 것 같다. 본인이 피해자라고 주장하는 네이트판 글에서는 이채영이 학폭으로 교내 봉사 및 강제 전학 등의 징계를 당한 사실이 있음을 주장했지만, 이후 이채영 측에 의해 공개된 생기부에는 이에 관한 내용이 존재하지 않았다. 피해자의 진술에 따른 학교폭력의 수위는 최소 4, 5호에 해당하며 이 정도의 징계라면 생기부에 그대로 기재될 수 밖에 없으나 공개된 이채영의 생기부에는 관련 학교폭력의 가해자라고 판단될 만한 아무런 내용이 없었다. 게다가 강제전학 내용은 시간이 지나도 지워지지 않기 때문에 이채영의 학교폭력은 사실이 아닐 수 밖에 없다. 게다가 이채영이 진학한 한림예고는 징계 기록, 사고로 인한 강제전학이 기록되어 있다면 가차없이 심사도 보기 전에 탈락시킬 정도로 인성을 중요시하는 학교이기도 하다.이렇게 사실이 드러났음에도 인스티즈 등에서는 여전히 무지성 반박만 시전하고 있으며 이들의 무지성 억까와 논란 조장은 예전부터 이미 유명하다. 2.2 참고. 이들은 충분히 조작이 가능하고 신빙성이 없는 카카오스토리나 카카오톡은 절대적으로 신뢰하면서 강제전학 내용삭제 불가로 신빙성 있는 생기부는 신뢰하지 않는 등 여러모로 논리에 문제가 많다. 다음은 이채영과 관련된 학교폭력 문제가 루머라는 것을 보여주는 영상이다.6:31초부터 참고.이후 fromis_9의 소속사가 오프더레코드 엔터테인먼트로 변경된 이후에도 해당 논란에 관한 악성 댓글이 계속되자 소속사 측에서 강경 대응을 한다는 입장을 밝혔다.픎갤 반박글 2시간이 지난 현재는 해당 논란을 언급하는 사람도 찾아보기 힘들다. 추가 폭로도 당연히 한 차례도 없었다.'),\n",
              "  Document(metadata={'page_url': 'https://namu.wiki/w/프로미스나인', 'artist_info': 'FROMIS_9', 'toc_item': '여담', 'abs_page_toc_item': '여담', 'parent_paper': ''}, page_content='page_content: 1997년생 2명(#fn-50; 이새롬은 빠른생일이다.), 1998년생 2명, 2000년생 3명, 2003년생 1명으로 이루어진 그룹이다. 멤버들의 생일이 1월부터 11월까지 골고루 있는 편이다.이새롬과이서연을 제외하고는 달이 겹치지 않는다. 이를 두고노지선은 \"겨울의 시작부터 꽃샘추위까지 골고루 즐길 수 있습니다!\"라고 한 바 있다. 출신 지역도서울특별시,부산광역시,광주광역시,강원도,전라도,경상도까지 다양한 편이다.  Mnet 서바이벌로 데뷔한 그룹답게 모든 멤버가 본명을 사용한다. 다만 방송에서는 편의상 성을 떼고 이름만 부르는 경우가 많다.  2017년 프리데뷔 당시 현역 걸그룹 중최초이자최연소였던2003년생 멤버가 있는 그룹이었다. 그 주인공은백지헌. 2016년에생방송 톡!톡! 보니하니오디션에 참가했으나(#fn-51; 오디션 동기 중 한 명이 김민주이다. 김민주의 경우와 비슷하게 엠넷의 서바이벌 프로그램을 통해 데뷔하게 되었으며, 순위도 뒤에서 두 번째이다. 그러나 백지헌은 첫 번째로 데뷔조 멤버에 호명되지 않았다.)에이프릴의이진솔에게 밀려 탈락한 적이 있는데, 그이진솔이 한 동안 갖고 있었던 \"최연소 여성 아이돌\"이라는 타이틀이 (몇 사람을 거쳐) 잠시 넘어 왔었다가 곧 자신보다 생일이 더 느린 멤버가 3명이나 있는그룹이 데뷔하면서 넘겨줬다.(#fn-52; 사실 fromis_9의 결성이 더 알려져서 그렇지, 실제로는 버스터즈가 먼저 데뷔했다. 재미있는 건 백지헌도 버스터즈에 들어갈 뻔한 멤버였다는 것.)  통계상 한국에서 가장 흔한 성씨인 김씨가 단 한 명도 없는 그룹이다. 반면 두 번째로 흔한 성씨인 이씨는 무려 4명이나 있으며, 특히 그룹 내 2000년생 멤버인 서연, 채영, 나경이 모두 이씨이다. 그리고 나머지 4명은 한 명도 성씨가 겹치지 않는다.  아이돌학교의 주요 컨셉이 일반인들을 데려와서 가르치고 성장시키는 \\'성장형 아이돌\\'인 만큼, 모두 일반인 상태에서 참가하여 데뷔했다. 즉, 현역 걸그룹/연습생/연예 기획사 소속은 한 명도 없다. 연습생 출신이 있지만 모두 소속사를 나온 상태에서 참가했으며, 멤버 통틀어 오디션 프로그램을 한 번이라도 경험해 본 사람은 SIXTEEN에 출연했던 박지원과 댄싱9 시즌2에 출연했던 이새롬이 전부다.  fromis_의 방에서 나온 정보를 토대로 최종 정리해보면이새롬(#fn-53; 중1부터 고3까지 여러 회사를 옮겨다니며 준비했다고 한다. 일단 데뷔 전 알려졌던 과거는 샤인댄스 아카데미에 다녔던 경력, 댄싱9 시즌 2 출연, 광고 출연이 있다.),노지선,이나경은 과거 연습생 경력이 있고,이채영과박지원은JYP에서,이서연은YG에서 연습생 시절을 보냈었다.백지헌은 여러 광고 모델 활동 기록(#fn-54; 대부분 2016~17년 사이의 작품들로, 특히 백지헌 본인에게 보여주면 시공간이 오그라들도록 싫어하는 미미박스, 맘마밀, 카레라이스 쌀면 등도 여기에 포함된다. 교과서 모델도 하였다.)과꾸러기 탐구생활출연 등의 기록이 있다.송하영은 연습생 기록이 딱히 없지만, 단지 댄스 크루 활동을 한 후 데뷔한 거라 예외.  프로젝트성 아이돌 그룹이 아니라 다른아이돌그룹들과 마찬가지로 활동 종료 시한이 따로 정해지지 않은 걸그룹이다.(#fn-55; 인터넷에 떠도는 활동 기간 7년 이야기는 공정위 표준 전속계약서의 최대 계약 기간이자 아이돌 그룹의 일반적인 계약 기간인 7년에서 비롯된 것으로, 프로미스나인의 정확한 계약 기간은 알려진 바가 없다.)(#fn-56; 다만 프로미스나인이 엠넷 서바이벌 프로그램 출신 최초의 정규 아이돌은 아니다. 2017년 소년24라는 프로그램을 통해 데뷔한 IN2IT이 최초이다.)다른 엠넷 서바이벌 프로그램인프로듀스 시리즈출신 아이돌 그룹인아이오아이-Wanna One-IZ*ONE-X1, 그리고플래닛 시리즈출신인Kep1er-ZEROBASEONE은 활동기한이 존재한다. fromis_9 외에 Mnet 서바이벌 프로그램 출신의 정규 아이돌로는WINNER,iKON,TWICE,IN2IT,TO1,ENHYPEN등이 있다. 다만WINNER와iKON은 YG 연습생만,TWICE는 JYP 연습생에 한해서만 서바이벌을 진행했고,ENHYPEN의 경우 Mnet과HYBE의 합작이라는 것이 차이점.(#fn-57; 특이 케이스로는 채널A 청춘스타를 통해 데뷔한 n.SSign이 있는데, 이쪽은 프로젝트성 그룹으로 만들어졌다 정식 그룹으로 전환된 최초의 사례다.)  그룹 내막내와맏언니의 나이 차이가 6살이다. 비슷한 시기 데뷔한 걸그룹 중에서도 이렇게 나이차가 큰 그룹은 적은 편이다.(#fn-58; 심지어 맏언니가 빠른년생이라 막내가 초6일 때 맏언니는 벌써 대학생인 게 된다.)(#fn-59; 2010년 후반대부터는 멤버끼리 나이차가 많이 나는 그룹도 꽤나 있지만 2세대 이후 걸그룹 중 이정도 나이차가 나는 그룹은 카라나 2NE1 정도 밖에 없었다. 보이그룹도 마찬가지라 2010년 초중반까지를 기준으로 최대 4~5살까지는 꽤 있어도 6살 이상 차이나는 그룹은 흔치 않았던 편.)  1997년 1월 생인 이새롬과 9월 생인 송하영이 고등학교 선후배 사이였기 때문에 데뷔 초까진 이새롬이 말을 놓으라고 이야기했지만, 쉽게 놓지 못하는 모습을 보여주었다. 결국 언니라고 부르는 것이 송하영에게 편하다고 결론짓고, 지금도 언니 동생 사이로 잘 지내고 있다. 2022년 8월부터는 장규리가 탈퇴함에 따라 족보가 더 간결해지면서 이새롬>송하영>98즈>빵빵즈>백지헌으로 더욱 쉽게 나이를 구분할 수 있게 됐다.  멤버 전원이 여동생이 없다.(#fn-60; 유일한 자매지간인 멤버 이채영은 3녀 중 막내, 집에서 유일한 첫째인 백지헌은 남동생 1명, 부캡틴인 멤버 송하영은 언니와 남동생, 그리고 나머지 멤버들은 위로 오빠밖에 없다.)  초창기에는 나이 차가 나는 멤버끼리는 존댓말을 썼다. 다만 아예 선을 딱 그어서 존대한다기보단, 반존대를 했다고 보면 된다. 존대를 할 때도 편하게 이야기할 경우가 있다. 2020년에 와서는 막내 지헌도 새롬이나 하영에게 서슴없이 편하게 말하는 모습이 종종 보인다. 최근에는 존대조차 하지 않는데(...), 특히 이분이 이분과 이분에게… 롬쌔! 하냥!!  멤버들 중에 키가 비슷한 멤버들끼리는 옷을 같이 돌려입는 듯 하다. 이나경과 백지헌이 서로 옷을 바꿔 입는 것이 그 예. 그런데 V LIVE 한림즈의 등굣길에서 키 차이가 어느 정도 있는 이채영이 이서연의 티를 입은 것으로 보아 멤버끼리 옷을 많이 공유하는 것으로 짐작된다. 2020년 기준 하영, 지원, 채영의 경우 일정한 기준의 \\'저렴이\\' 들은 네꺼 내꺼 없이깐부공유한다고 한다. ??: 잘입을게!!  모든 멤버들의 혈액형이A형이나B형으로, A형인 멤버가 4명(#fn-61; 송하영, 박지원, 이서연, 이나경), B형인 멤버가 4명(#fn-62; 이새롬, 노지선, 이채영, 백지헌)이다.#그래서 숙소와 연습실 청소를 A형 조와 B형 조로 나눠서 한다고 한다. 팬들 사이에서 첫 소속사 스톤뮤직엔터테인먼트가 피드백 노력을 충분히 안 한다는 불만이 많았다. 심지어 공식 홈페이지에 전화번호와 이메일 주소조차 공개되어 있지 않았는데, 피드백이 어느 정도 통했는지 2018년 9월 21일 자로 소속사가 스톤뮤직엔터테인먼트에서 신생 기획사인 오프더레코드 엔터테인먼트라는 곳으로 바뀌었다. 프로미스나인뿐만 아니라 멤버 장규리가 참여했었던, 프로듀스 48의 최종 데뷔조인 IZ*ONE도 오프더레코드가 매니지먼트를 맡기로 결정되면서 두 그룹은 한솥밥을 먹게 되었다. 두 그룹은 11월 1일 엠넷 엠 카운트다운에서 만나 앨범을 교환하고 인증샷을 남겼다. 스톤뮤직 공트 인증샷 회식 사진  오프더레코드 엔터테인먼트가 프로미스나인을 향한 헛소문과 고질적인 악플 문제에 대해, 절대로 악플러들을 선처하지 않겠다면서 미리 언론을 통해서 확실하게 경고메시지를 줬다.프로미스나인 측, 악플러 강경 대응 경고 “합의 없다”(#fn-63; 최근 오프더레코드의 공지를 통해 2019년 6월 중으로 고소가 진행됨을 알렸다.)  인천국제공항 제1여객터미널과 교통센터 간 연결통로에 2018년 10월 15일까지 대문짝만한 fromis_9의 광고 영상이 걸린 적이 있었다. 팬이 직접 가서 촬영한 유튜브 영상  눕방라이브에서 초 하이텐션을 선보여 멤버들이 모두 눕방의 뜻을 모르는 거 아니냐는 우스갯소리까지 나왔다. ##  데뷔 전 이새롬이 찍은 웹 드라마의 인연으로 관세청이 유튜브 댓글로 데뷔 2주년을 축하해줬다.  스케줄 이동 시 원래는 차량 1대로 움직였다. 차종은현대 쏠라티.(#fn-64; 때때로 스태프들을 여럿 동행하는 장거리 스케줄을 이동할 때는 25인승 뉴 카운티를 대절해 사용했다.)그러다 현재는기아 카니발2대로 멤버들이 나눠서 이동한다. Channel_9 EfG에서 공개된 나눠 타는 기준은 시끌벅적하게 이동하고 싶은 멤버, 조용하게 이동하고 싶은 멤버로 전자는 새롬, 하영, 지원, 채영, 나경 5명이며, 후자는 지선, 서연, 지헌이었다. 예상대로 전자는 채영이 앞자리에 앉아 댄스곡을 틀며 신나는 분위기에서 이동했지만, 후자는 대부분 곯아떨어진 채 매니저가 조용히 튼 라디오 소리만 들릴 뿐이었다. 현재는 후술하듯 2채로 나눠진 숙소 기준으로 타는 듯 하며, 가끔 장거리 행사 스케줄을 갈 때는 28인승 대형 버스(일명 우등형 버스)를 대절해 움직이는 듯 하다.  멤버 8명 중 4명이 크리스천인데 서연은 천주교이며 채영, 나경, 지헌은 개신교이고 새롬의 종교는 불명, 하영, 지원, 지선은 현재 무교이다. 가을밤의 프로미스나인 2022.11.21 <Happy 지쎈 Day>편 18:05에서 지원(마리 스텔라), 지선(루치아)은 세례명이 있으며 성당을 다녔으나 현재 무교라고 언급하였다.  국방일보 2021년 11월 병영차트 조사 결과 전체 응답자 중 약 10%에 해당하는 장병이 ‘동계 경계근무를 함께 서보고 싶은 스타’로 프로미스나인을 지목했다. 이는 걸그룹 중 2위, 전체 3위에 해당한다.  이외에도 다양한 조사에서 항상 상위권을 차지하며, 군인들에게 사랑받는 군통령 걸그룹 중 한팀이다. 자체 콘텐츠 Channel_9의 자막에서도 군필 용어가 자주 사용된다고 한다. 최근에는 아예 멤버들도 군 관련 용어를 즐겨 쓰고 있다. 각개전투라던가 지뢰 제거라던가  유튜브에 프로미스나인을 검색할 때 \\'프로미스나인손흥민\\'도 검색창에 뜬다.Channel_9인물퀴즈에서 박지원이 손흥민을 알아보지 못해 멤버들의 원성을 샀으며(#fn-65; 축구티셔츠인 줄도 몰랐다고 한다.)이후로 이것을 짜깁기한 영상이 많아졌다. 댓글마다 박지원이 언급되고 있다.(#fn-66; 반대로 송하영이 손흥민 포즈를 하는 영상도 있는데 여기서는 박지원이 해야 하는 거 아니냐는 댓글이 있다.)(#fn-67; 박지원도 손흥민이 언급될 때마다 뜨끔하는 듯.)  모든 멤버가MBTI검사 결과 I 성향인 것으로 나왔다. 그나마노지선이 E가 높게 나온 편이라고 한다.(#fn-68; 지선의 경우 주변 지인들이 I가 아니라 E같다고 많이 말한다고 하며 본인도 어느정도 동의하긴 했다.)그리고 T 성향이 8명 중에서 5명으로 걸그룹 중에서는 상당히 높은 비율을 보인다.#(#fn-69; 여담으로 새롬은 원래 F 성향을 가지고 있다가 리더 역할을 맡으며 T 성향으로 바뀌었다고 한다. 다만 그룹 내 몇몇 극단적인 T 성향을 띄고 있는 멤버들과는 달리 감성적인 면모도 꽤 자주 보이며 F 시절의 잔상이 남아있는 듯한 모습을 보이기도 한다.) 2023년에는 공교롭게도 명절 당일이 모두 일부 멤버의 생일과 겹친다. 설날 당일인 1월 22일은 이서연의 생일이고, 추석 당일인 9월 29일은 송하영의 생일이다.  멤버들이 위버스 라이브 중 가끔씩 나무위키 본인 문서를 정독할 때가 있다. 이로 인해 나무위키 정독 컨텐츠를 진행하면 그 멤버의 이름이 나무위키 실검에 오르기도 하며 멤버들이 실시간으로 말하는 피드백들이 곧바로 반영되는 진풍경이 일어나기도 한다.  2024년 들어 같은 HYBE LABELS 산하 걸그룹들인 LE SSERAFIM과 ILLIT의 가창력 문제가 거듭 불거지면서 멤버들의 실력이 상대적인 반사 이익을 받고 있다. 특히 AR로 약점을 가릴 수 있는 음악방송과 달리, 위문열차나 대학 축제같은 AR의 도움을 받을 수 없는 오프라인 무대를 다수 소화한 경험치에 힘입어 프로미스나인을 재평가하고 응원하는 팬들도 점점 늘어나고 있다.  여러모로 ENHYPEN과 공통점이 많다. 둘 다 하이브지만 CJ E&M 태생이고 둘다 각각 엠넷 정규 서바이벌 프로그램으로 만들어졌고 소속사도 씨제이에서 하이브로 옮겨졌다. 다만 ENHYPEN의 경우 I-LAND 당시부터 방시혁과 그 휘하의 프로듀서, 디렉터들이 직접 등판하고 하이브 레이블 소속 아티스트들이 출연하는 등 서바이벌 프로그램이 하이브와 연관이 있다는 것을 보여준 반면, 프로미스나인은 서바이벌 프로그램인 아이돌학교가 하이브와 연관이 일절 없다는 차이점이 있다.  ,▲ 인천국제공항 제1여객터미널~교통센터 AMT 전광판 ,'),\n",
              "  Document(metadata={'page_url': 'https://namu.wiki/w/프로미스나인', 'artist_info': 'FROMIS_9', 'toc_item': '약속회', 'abs_page_toc_item': '팬덤//약속회', 'parent_paper': '팬덤'}, page_content='page_content: 다음 문서로 대체 설명: https://namu.wiki/w/%EC%95%BD%EC%86%8D%ED%9A%8C'),\n",
              "  Document(metadata={'page_url': 'https://namu.wiki/w/프로미스나인', 'artist_info': 'FROMIS_9', 'toc_item': '리얼리티', 'abs_page_toc_item': '활동//방송 활동/리얼리티', 'parent_paper': '활동'}, page_content='page_content:  날짜,방송 프로그램,역할,출연,비고,10.19~11.23,,고정,전원,, 날짜,방송 프로그램,역할,출연,비고,04.18~12.29,,고정,전원,,'),\n",
              "  Document(metadata={'page_url': 'https://namu.wiki/w/프로미스나인', 'artist_info': 'FROMIS_9', 'toc_item': '싱글 1집 《FUN FACTORY》', 'abs_page_toc_item': '음반//국내 음반/싱글/싱글 1집 《FUN FACTORY》', 'parent_paper': '음반'}, page_content='page_content: 다음 문서로 대체 설명: https://namu.wiki/w/FUN%20FACTORY'),\n",
              "  Document(metadata={'page_url': 'https://namu.wiki/w/프로미스나인', 'artist_info': 'FROMIS_9', 'toc_item': '날짜별', 'abs_page_toc_item': '수상 경력//음악 방송 1위/날짜별', 'parent_paper': '수상 경력'}, page_content='page_content: 날짜,방송 프로그램,활동 곡,집계 점수,비고, The 2nd Special Single Album Talk & Talk,09.07, ,TITLETalk & Talk(1관왕),8470(총점수)(#fn-1; 4640(음원•음반 점수) + 2830(동영상•방송 사전 투표) + 1000(실시간 투표))데뷔 첫 1위더 쇼 첫 1위케이블 음악방송 첫 1위, 날짜,방송 프로그램,활동 곡,집계 점수,비고, The 4th Mini Album Midnight Guest,01.25, ,TITLEDM(2관왕),8353(총점수)(#fn-2; 5000(음원•음반 점수) + 2990(동영상•방송 사전 투표) + 363(실시간 투표))-,01.26, ,7642(총점수)(#fn-3; 1391(음원) + 1500(음반) + 1751(글로벌 팬 투표) + 1000(SNS) + 2000(방송 점수))쇼챔피언 첫 1위, The 5th Mini Album from our Memento Box,07.05, ,TITLEStay This Way(5관왕),8270(총점수)(#fn-4; 5000(음원•음반 점수) + 2270(동영상•방송 사전 투표) + 1000(실시간 투표))-,07.06, ,8690(총점수)(#fn-5; 2834(음원) + 1500(음반) + 1891(글로벌 팬 투표) + 465(SNS) + 2000(방송 점수))-,07.07,,9262(총점수)(#fn-6; 5000(음원) + 1500(음반) + 755(글로벌 팬 투표) + 1500(SNS) + 781(방송 점수))엠 카운트다운 첫 1위,07.08,,8378(총점수)(#fn-7; 448(음원) + 5906(방송 점수) + 0(시청자 선호도) + 2021(음반) + 3(소셜 미디어))뮤직뱅크 첫 1위지상파 음악방송 첫 1위,07.09,,8242(총점수)(#fn-8; 6000(음원•음반) + 765(동영상•방송) + 573(사전 투표) + 904(생방송 투표))음악중심 첫 1위방송 미출연, 날짜,방송 프로그램,활동 곡,집계 점수,비고, The 1st Album Unlock My World,06.13, ,TITLE#menow(1관왕),8470(총점수)(#fn-9; 4460(음원•음반 점수) + 3240(동영상•방송 사전 투표) + 1000(실시간 투표))-,'),\n",
              "  Document(metadata={'page_url': 'https://namu.wiki/w/프로미스나인', 'artist_info': 'FROMIS_9', 'toc_item': '2021년', 'abs_page_toc_item': '활동//연혁/2021년', 'parent_paper': '활동'}, page_content=\"page_content: 1월 1일, 오후 12시 공식 유튜브 채널을 통해 새해 인사 영상을 공개했다. 2월 26일, 네이버 나우에서 마마무의 문별이 진행하는 라디오 스튜디오 문나잇에 이새롬, 송하영, 박지원이 출연했다. 3월 29일, 유튜버 지기TV의 볼빨간 신선놀음 촬영현장을 담은 컨텐츠 영상에\\xa0노지선이 짧게 출연했다. 콘텐츠  4월 12일, LIVE 방송된 전남소방본부 개청식의 축전 영상을 통해 소방공무원들의 헌신에 감사를 전했다. Full.ver  4월 27일, 2021 브랜드 고객충성도 대상에서 여자아이돌-핫트렌드 부문 상을 수상하였다.  5월 3일, 공식 SNS를 통해 싱글 2집 앨범 '9 WAY TICKET'의 첫 티저 사진을 공개했다.  5월 7일, 개인 티저 사진에 이어 공식 유튜브 채널을 통해 싱글 2집 9 WAY TICKET의 TICKET TO SEOUL 버전 콘셉트 필름 영상을 공개했다.  5월 11일, 공식 유튜브 채널을 통해 싱글 2집 9 WAY TICKET의 9 TRAVELERS 버전 개인별 콘셉트 필름 영상을 공개했다.  5월 13일, 공식 유튜브 채널을 통해 싱글 2집 앨범 9 WAY TICKET의 하이라이트 메들리를 공개했다.  5월 17일, 오후 5시 앨범 발매에 앞서 트위터블루룸 LIVE Q&A를 진행하였으며, 6시에 싱글 2집 9 WAY TICKET으로 컴백하였다.Full.ver  Full.ver  5월 17일, 싱글 2집 9 WAY TICKET으로 컴백하였다.  5월 18일, 앨범 프로모션의 일환으로 스톤뮤직 엔터테인먼트가 운영하는 네이버 포스터에 타이틀 곡 'WE GO'의 M/V 촬영 현장을 담은 비하인드 사진 게시와 더불어 사인 폴라로이드 증정 이벤트를 진행했다. POST  5월 26일, 유튜버 시몬 등 서울공연예술고등학교의 재학생들의 SNS를 통해 백지헌과 함께 한 WE GO 댄스 챌린지가 이어졌다. \\xa0 자세한 내용은 9 WAY TICKET/WE GO 챌린지 문서를의 번 문단을의  부분을 참고하십시오.  6월 4일, 네이버 나우에서 마마무의 문별이 진행하는 라디오 스튜디오 문나잇에 멤버 전원이 출연해 문나잇 오픈이래 최장 시간 방송이라는 기록과 함께 방송내내 높은 텐션을 자랑하며 역대급 방송을 만들어 냈다.  6월 20일, KCON:TACT 4U에 처음으로 초대되어 무대를 성료하였다. WE GO, Feel Good, LOVE BOMB 무대와 다른 타이틀곡들의 짧은 포인트 안무를 보여주었고, 오랜만에 유리구두의 릴레이 댄스를 보여주었다.  7월 9일, 박지원이 드라마 라켓소년단의 OST에 참여한다는 소식이 공개되었다. OST CLOUD은 7월 13일 오후 6시에 공개된다.  7월 13일, 박지원이 참여한 드라마 라켓소년단의 OST CLOUD가 오후 6시에 공개되었다. 공개 직후, 오후 7시 벅스 차트에서 실시간 1위에 올랐다.  8월 16일, 소속사가오프더레코드엔터테인먼트에서플레디스엔터테인먼트로 변경되었다.#프로미스나인의 제작을한성수대표가 담당하고 있었는데, 매니지먼트 부문까지 아예플레디스엔터테인먼트로 이전하기로 결정하였다.(#fn-2; 프로미스나인은 소속은 오프더레코드엔터테인먼트, 매니지먼트와제작은 플레디스엔터테인먼트로 2개의 회사가 영향을 행사하는 아이돌이었다.)공지 전문은 다음과 같다.  9월 1일, 오후 5시 앨범 발매에 앞서 트위터블루룸 LIVE Q&A를 진행하였으며, 6시에 스페셜 싱글 2집 Talk & Talk으로 컴백하였다.Full.ver  Full.ver  9월 6일, 오전 12시 HYBE의 자회사 위버스컴퍼니에서 개발 및 운영중인 글로벌 오피셜 팬 커뮤니티 위버스 오픈과 함께 위버스샵에도 입점됐다.  9월 8일, 오후 6시에 Cyworld BGM 2021에 참여한 별의 음원이 공개됐다.  10월 3일, LIVE 방송된 한국 문화축체 in 스웨덴 영상을 통해 축하인사를 전했다. Full.ver  12월 30일, 새 미니 앨범 Midnight Guest 콘셉트 필름이 공개되었다.  12월 31일, 오전 12시 4번째 미니 앨범 Midnight Guest의 프로모션 스케줄러를 공개하였고, 오후 5시 30분 일산 킨텍스에서 진행된 2022 Weverse Con을 성료 하였다.  , , ,▲ [GREETING] Park Ji Won (박지원 (fromis_9)) - Cloud | 라켓소년단 OST , [공지] 프로미스나인 소속사 이적 안내안녕하세요.플레디스 엔터테인먼트입니다.프로미스나인(이새롬, 송하영, 장규리, 박지원, 노지선, 이서연, 이채영, 이나경, 백지헌)의 매니지먼트를 8월 16일(월)부터 당사가 담당하게 되었습니다.프로미스나인의 기존 소속사인 오프더레코드 엔터테인먼트의 레이블 통합 과정에서 프로미스나인과 오프더레코드, 플레디스 엔터테인먼트는 아티스트의 향후 방향성과 성장 가능성 등에 대해 심도 있게 논의한 끝에 프로미스나인의 소속사 이적을 결정하였습니다.이에 따라 프로미스나인은 데뷔 앨범부터 지금까지 프로듀싱을 맡아온 당사로 이적하여 활동을 이어갈 예정입니다.당사는 프로미스나인과 함께하게 되어 매우 기쁘게 생각합니다. 앞으로 프로미스나인이 더욱 활발하고 다채로운 활동으로 팬 여러분을 만나고 아티스트로서 한층 성장할 수 있도록 아낌없이 지원할 것입니다.저희 플레디스 엔터테인먼트와 함께 새롭게 출발하는 프로미스나인에 많은 응원과 관심을 부탁드립니다.감사합니다.,\"),\n",
              "  Document(metadata={'page_url': 'https://namu.wiki/w/프로미스나인', 'artist_info': 'FROMIS_9', 'toc_item': '온라인 판매', 'abs_page_toc_item': '팬덤/굿즈//콘서트/2022 fromis_9 Concert <LOVE FROM.> IN JAPAN/온라인 판매', 'parent_paper': '굿즈'}, page_content='page_content:           , , , , , , , , , ,'),\n",
              "  Document(metadata={'page_url': 'https://namu.wiki/w/프로미스나인', 'artist_info': 'FROMIS_9', 'toc_item': 'For Weverse', 'abs_page_toc_item': '활동/Weverse//For Weverse', 'parent_paper': 'Weverse'}, page_content=\"page_content:  날짜,제목,비고,09.06,WELCOME MESSAGE from fromis_9,,09.13,WELCOME MESSAGE from SAEROM,,09.14,WELCOME MESSAGE from HAYOUNG,,09.15,WELCOME MESSAGE from GYURI,,09.16,WELCOME MESSAGE from JIWON,,09.17,WELCOME MESSAGE from JISUN,,09.18,WELCOME MESSAGE from SEOYEON,,09.19,프로미스나인 (fromis_9)의 2021 추석 인사 영상,,WELCOME MESSAGE from CHAEYOUNG,,09.20,WELCOME MESSAGE from NAKGUNG,,09.21,WELCOME MESSAGE from JIHEON,,fromis_9 (프로미스나인) 'Talk & Talk' Choreography Video(한복 Ver.),,10.08,fromis_9 Weverse 입점 1달🥳,, 날짜,제목,비고,01.01,HELLO 2022 with fromis_9,,01.06,2022 WEVERSE con with. flover 🤍,,01.07,2022 HAPPY BIRTHDAY SAEROM,,01.18,2022 WEVERSE con with. flover 🤍 Behind Film,,01.20,fromis_9 to unlock <Midnight Guest>,,01.22,2022 HAPPY BIRTHDAY SEOYEON,,01.24,4th Anniversary HAPPY flover DAY,,🤍 4 YEARS WITH fromis_9 🤍,,4th Anniversary HAPPY fromis_9 DAY,,4주년 포토매틱 비하인드,,4주년 M/V 모아보기 리액션(rewind),,02.14,Sweet Valentine’s Day with fromis_9,,03.20,2022 HAPPY BIRTHDAY JIWON,,04.17,2022 HAPPY BIRTHDAY JIHEON,,05.14,2022 HAPPY BIRTHDAY CHAEYOUNG,,06.01,2022 HAPPY BIRTHDAY NAGYUNG,,07.14,fromis_9 to unlock <from our Memento Box>,,09.12,Happy Chuseok with fromis_9,,09.29,2022 HAPPY BIRTHDAY HAYOUNG,,11.23,2022 HAPPY BIRTHDAY JISUN,, 날짜,제목,비고,01.07,2023 HAPPY BIRTHDAY SAEROM,,01.12,2022 SBS 가요대전 Behind Photo Sketch,,01.22,2023 HAPPY BIRTHDAY SEOYEON,,01.23,fortune cookie with fromis_9,,01.24,5th Anniversary HAPPY fromis_9 DAY,,#FFFF : HAPPY fromis_9 DAY,,\"),\n",
              "  Document(metadata={'page_url': 'https://namu.wiki/w/프로미스나인', 'artist_info': 'FROMIS_9', 'toc_item': '2023년', 'abs_page_toc_item': '활동//연혁/2023년', 'parent_paper': '활동'}, page_content=\"page_content: 2월 11일, 30주년 한터 뮤직 어워즈 2022에서 '포스트 제너레이션상'을 수상하였다.  2월 14일, 3월 중순 정규 앨범으로 컴백한다고 알렸다. 프리데뷔부터 해서 6년만에 처음으로 발매하는 정규 앨범으로 뮤비 촬영에 2주나 소요되었다고 한다. 그러나 기사가 뜬 이후 소속사 측에서 별다른 반응이 없이 3월 중순이 되었고 컴백이 미뤄진 것 아니냐는 추측이 돌고 있다. 멤버들의 위버스나 인스타 등의 소통도 2월 27일을 기점으로 중단이 된 상황이라 팬들의 걱정이 점점 커지고 있다.  3월 4일, 봄방학이라는 자체 콘텐츠 티저가 공개되었다. 과거에 있었던 프롬두끼나 회복회 같은 힐링 콘텐츠 같은 감성이 들어간 편집이 인상적이며 3월 11일부터 저녁 7시에 4주 동안 공개한다고 하였다.  3월 11일, 봄방학 파트1이 공개되었다. 프롬두끼처럼 30분 전후를 예상한 플로버들이 많았지만 의외로 18분이라는 그다지 길지 않은 분량이었다. 멤버들이 회의실에 모여 각자 원하는 여행에 대한 생각과 바람을 이야기하고 미리 챙겨온 짐을 공개한 후 숙소로 이동하여 팜플렛에 담긴 설명을 읽으며 각자 하고 싶은 숙제를 선택하는 것으로 마무리 되었다. 봄방학과 전날 공개된 한터 어워즈 비하인드를 통해 다시 소통이 재개될 수 있다는 희망을 가지는 플로버들도 많아졌으나 아직까지 별다른 소식은 없는 상황이다.  3월 27일, 위버스 멤버십 리뉴얼 공지가 올라왔다. 위버스 멤버십 시작 일자가 3월 29일이었기에 갱신 공지가 올라온 것인데 다른 그룹들이 적어도 일주일 전에 공지가 올라온 것에 비해 고작 이틀 전에 올라왔고 어떠한 사진도 없는 텍스트로만 이루어진 공지에 팬들은 소통은 막아놓고 돈 벌 생각만 한다는 쪽과 그래도 아예 손 놓은 것은 아니라는 쪽으로 의견이 나뉘었다.  3월 29일, 위버스 멤버십 갱신이 시작됨과 동시에 추후 공지한다던 혜택이 업로드 되었는데 우선 1기에서는 없었던 멤버십 키트와 실물 카드가 이번에는 제공될 것으로 보이며 가격은 종전과 같은 22,000원으로 동결되었다. 프로미스나인을 시작으로 연동 기능이 포함된 하이브 소속 가수의 응원봉 가격이 49,000원으로 인상된 것처럼 며칠 앞서 공개된 LE SSERAFIM의 멤버십 가격이 25,000원이었기에 이번에 프로미스나인도 25,000원으로 인상될 것이라는 예측과 다르게 종전처럼 22,000원으로 동결되었다. 같은 날 오후 4시, 4월 22일 예정되어있던 미국 공연 일정이 취소되었다는 공지가 올라왔다. 하이터치 일정 공개 당시 프로미스나인만 제외되었고 3월 중순경 프로미스나인과 같은 공연날 뱀뱀이 라인업에 추가되며 동시에 하이터치까지 판매하는 것을 보고 불안해하는 팬들이 많았는데 역시나 공연이 취소되었다. 내부 일정으로 인해 취소되었다는 공지로 인해 이 시기에 컴백을 하는 것은 아닌가 하고 팬들은 예측하고 있다. 해당 공지가 업로드된 지 한 시간도 안 되어 멤버 노지선에 의해 위버스 소통이 재개되었다. 또한 약 1시간 후인 6시경에 이새롬 또한 위버스로 소통을 시작하였다. 쌍방 소통은 아니고 근황을 알리는 듯한 일방적인 소통이었으나 팬들은 한시름 놓는가 하면 아무런 공지 없이 멤버들을 방패 삼아 어물쩍 넘어가려는 회사에 대한 불신은 여전한 상황이다.  4월 10일, 이새롬이 일본의 OTT 예능 let me Know K-POP!의 MC로 발탁되었다는 소식이 트위터를 통해 알려졌다. 관계자의 말에 따르면 이미 녹화를 몇 차례 진행했다고 하는데 소속사는 어떠한 기사조차 내놓지 않아 다시 한 번 팬들의 분노가 빗발쳤다. 다만 해당 프로그램의 다른 MC인 이특과 김재환, 첫 출연자인 Kep1er 또한 관련 기사를 띄우지 않았기에 플레디스만 유달리 아무런 행동을 취하지 않았다고 보기는 힘든 상황이다. 또한 노지선이 위버스를 통해 위버스 라이브를 진행하고자 허락을 구했는데 거절당한 정황까지 드러나며 대체 소속사는 뭘 하고 있는지 팬들의 답답함과 분노가 하루하루 늘어가는 상황이다. 미국 공연이 취소되면서 그 기간에 무언가 액션이 있을 것이라는 팬들의 기대와는 다르게 4월 1일 봄방학 Part.4가 끝난 이후 유튜브는 2주 동안 멈춰있고 현재 멤버 개인 인스타와 위버스 소통만 있을 뿐 회사는 어떠한 행동도 취하고 있지 않다. 이에 앞서 4월 8일 진행된 그린하트 바자회에 박지원과 이채영이 물품을 기부했다는 행사 주최측의 기사도 14일에 올라왔으나 소속사는 어떠한 기사도 띄우지 않았다. 다만 해당 바자회에 주최자인 유진과의 교회 인연으로 자발적 참여로 물품만 기탁한 것일 수도 있으니 이 또한 회사를 탓하기는 애매한 상황이다.  4월 26일, 6월 10일-11일 양일간 열리는 2023 위버스콘 페스티벌의 3차 라인업에 포함되어 참여하게 되었다. 25일 오후 9시경 위버스 공식 트위터에 라인업이 올라왔다가 급하게 삭제되어 유출되는 일이 발생했는데 이 때 유출된 최종 라인업에 포함되어 있었다. 라인업 포스터는 알파벳 순으로 작성되어 10일 공연인지 11일 공연인지는 아직 공개되지 않았으나 참여 가수 중에 2023년 신곡이 없는 상황이라 이 공연에서 DM 때처럼 스포일러를 하거나 공연 전에 컴백하여 무대에 오르거나 하지 않을까 하는 예측을 하고 있다. 26일 오전 11시 정식으로 라인업이 공개되었고 10일 오후 공연으로 확정되었다. 이에 앞서, 25일 오전 품절되었었던 응원봉이 재입고 되었다. 또한 저녁 7시에 노지선이 라이브를 통해 멤버십 키트가 공개되었느냐고 물었으나 아직 공개된 바가 없어서 본의 아니게 스포일러를 하고 말았다. 허나 멤버십 갱신 공지에 키트가 추후 공개된다고 적혀있었기에 결정적인 스포일러는 아니고 촬영을 했구나 하는 정도만 알려지게 되었다.   5월 8일, 인스타그램을 통해 유튜브 웹 예능 용진호건강원 촬영 현장 사진이 공개되었다. 하영, 지원, 지헌이 녹화에 참여하였으며 이로 인해 컴백이 가까워졌음이 기정사실화 되었다. 웹 예능은 대부분 활동기에 나가기 때문이다. 이에 앞서 4월 29일, 하영과 나경의 위버스 라이브에서 나경이 주어는 밝히지 않았으나 참여했다고 발언하여 다음 활동에 나경이 작사나 작곡에 참여했음을 스포하였다. 해당 발언 이후 팬덤은 컴백이 임박했음을 알아채게 되었고 용진호건강원 녹화 유출 이후는 컴백을 확정적으로 보고 있는 상황이다.  5월 15일, 오후 9시 공식 트위터를 통해 정규 1집 Unlock My World의 발매가 확정되었다. 스마트폰 비밀번호 패턴을 형상화한 '*' 모양이 등장하여 'f'와 '9'를 형상화한 형태로 암호를 해제되고 '*' 모양이 여러 형태로 변환된 후 은이나 스태인레스 소재로 보이는 팔찌가 드러나는 방식의 프로모아트로 구성되어 있으며 'Midnight Guest'의 열쇠뭉치와 'from our Memento Box'의 열쇠고리의 연장선상의 콘셉트로 보인다. 이에 따라 공식 트위터와 일본 트위터, 인스타그램 프로필 사진, 유튜브 채널 아트 등이 새 앨범 색상에 맞게 변경되었다. 3월 31일부로 관리가 중단된 공식 카페는 반영되지 않았다. 3월 20일에 유출되었던 앨범명과 동일한 앨범명으로 발매가 확정되어 3월 컴백이 밀리고 밀려 6월에 컴백하게 된 것으로 보인다.  5월 16일, 오전 0시 공식 트위터를 통해 정규 1집 Unlock My World의 프로모션 스케줄러가 공개되었다. 오후 9시 트랙리스트 공개를 시작으로 공식 사진, 티저 트레일러, 하이라이트 메들리 등 여러 일정이 공개되어있으며 공식 사진 공개 일정이 3가지 색깔로 구분된 것으로 보아 이번 앨범도 종전 활동과 마찬가지로 크게 3가지 버전의 앨범으로 발매될 것으로 보이며 메인 색상 즉 A버전은 핑크, B버전은 검정색과 흰색, C버전은 연두색으로 구성된 것으로 보인다. 오후 9시, 트랙리스트가 공식 트위터를 통해 공개되었는데 총 10곡의 신곡으로만 구성된 정규 앨범이며 타이틀은 '#menow'로 'Talk & Talk'을 작곡했던 라이언전과 다시 한 번 호흡을 맞춘다. 또한 눈길을 끄는 것은 7번곡 'Bring It On'를 하이브의 의장 방시혁이 작곡했다는 점이다. 전작에는 하이브 소속 작곡가인 Slow Rabbit이 수록곡에 참여한 적은 있었으나 방시혁이 직접 참여한 것은 이번이 처음이다. 또한 3번곡 'Wishlist'에서 박지원이 작사와 작곡을, 저작권 사이트를 통해 유출되었던 4번곡 'In the Mirror'과 6번곡 'Prom Night'에서는 백지헌이 작사를, 9번곡 'My Night Routine'에서는 이서연과 이나경이 작곡을 참여했으며 마지막 10번곡 '눈맞춤'은 송하영이 작곡에 참여하였고 작사는 멤버 전원이 참여하여 새로운 팬송으로서의 기대감을 불러오고 있었는데...\"),\n",
              "  Document(metadata={'page_url': 'https://namu.wiki/w/프로미스나인', 'artist_info': 'FROMIS_9', 'toc_item': '규모 및 특징', 'abs_page_toc_item': '팬덤//규모 및 특징', 'parent_paper': '팬덤'}, page_content=\"page_content: 엠넷의서바이벌 프로그램아이돌학교를 보고 투표를 했던 일명육성회원들이 초반 팬덤의 대부분을 차지하고 있었다.서바이벌 프로그램으로 데뷔한 그룹의 팬덤은 프로그램의 특성상 개인팬 성향이 강해 팬덤 간 분열이 쉽다는 약점이 있다. 하지만 flover는 다른 서바이벌 프로그램 출신 아이돌 그룹에 비하여 올팬 성향이 훨씬 더 강한 축에 속한다. 데뷔 후 잦은V LIVE(#fn-8; 2018년 기준으로 모든 아이돌을 통틀어 V LIVE 방송 횟수 1위이다.)나 팬들과의 소통이 원활했기에 분열없이 올팬 기조가 잡혔던 것도 있다. 현재까지도 개인 팬간 격차는 크지 않고 최대한 결집되어 있다.  아이돌학교(#fn-9; 서바이벌 프로그램으로 데뷔한 그룹의 팬덤 형성에 가장 중요한 것은 역시 프로그램의 시청률과 화제성이다. 이는 같은 엠넷의 방송인 프로듀스 101 시리즈의 결과만 봐도 알 수 있는 사실이다. 장규리가 프로듀스 48에 나간 것도 이와 무관하지 않다.)의 부진으로 초반 팬덤이 크지 않았지만,장규리와아이돌학교에 출전했었던조유리,이시안,배은영이프로듀스 48에 출연하면서 팬의 유입이 많아지게 되었다.장규리가 데뷔한 지 6개월도 안 돼 또 오디션 프로그램에 나간다는 것 때문에 팬덤 내부의 반발이 상당히 컸지만, 기존의장규리와 다른연습생들을 응원하던 사람들이 소위영업을 뛰면서프로미스나인도 덩달아 인지도가 오르는 효과가 발생.장규리가 3차 순발식까지 진출하면서 개인에게도 그리고 그룹에게도 주목도가 커지기 시작했다.프로듀스 48종영 후장규리가프로듀스 48에 출연하며 8인 체제로 활동하던프로미스나인이 다시 9인 체제로 재정비하였고,프로듀스 48을 통해 생긴 새로운 팬층이 대거 유입되었다.(#fn-10; 프로듀스 48 마감 후 장규리가 복귀하여 낸 싱글의 판매기록과 그 전 음반의 판매기록을 보면, 팬층이 늘어난 것이 보인다. 또한 프로듀스 48 이후 처음으로 멜론에서 음원이 100위권에 차트 IN을 하는 기록을 세웠다.)  같은 해 데뷔한(여자)아이들의네버랜드(#fn-11; 이쪽은 초창기에는 남팬이 더 많았으나 이후 여팬이 크게 늘어나면서 현재의 성비는 대략 3대 7 정도의 여초이다.)나이달의 소녀의오빛(#fn-12; 이쪽은 컨셉 때문에 여팬이 압도적으로 많았지만 츄와 희진의 여러 방송 활동 등으로 남성 팬들이 크게 늘어나 현재의 성비는 대략 4대 6에서 5대 5 정도로 비슷해졌다.)과 다르게, 남자 팬들의 비율이 매우 높은 전형적인 남초 팬덤이다. 플로버가 남초 팬덤이 된 이유는아이돌학교의 여러 좋지 않은 이미지 때문에 여자 팬을 많이 끌어 모으지 못해서 자연스럽게 남팬 비율이 높아지게 되었기 때문. 현재도 남팬이 대다수이긴 하나,장규리의프로듀스 48출전 이후에는 초창기보다 여자 팬이 많이 늘어났다. 10대 팬은 남녀 성비가 비슷하고, 20대 이상은 대부분이 남성 팬이다. 이 때문에 18군번 이후로는브레이브걸스-라붐의 계보를 잇는군통령자리를 차지하고 있다는 현역 및 예비군들의 이야기를 심심치 않게 들어볼 수 있다.(#fn-13; 어느 정도냐면 국방TV에서 현역 군인들을 대상으로 추석 연휴에 보고 싶은 연예인을 설문조사 했는데 아이유와 에스파에 이어 3위를 차지했을 정도. 일반인들 사이에서 저 둘과 프로미스나인의 인지도 및 위상차이를 생각하면, 군대 내 인기는 그야말로 엄청나다고 할 수 있다. 유튜브 등 각종 커뮤니티에서 10년대 중반 군번의 최고 스타가 브레이브걸스라면, 18군번 이후의 최고 스타는 프로미스나인이라는 댓글을 심심찮게 찾아볼 수 있다. 군로버)일명 '군가지니' 라 불리는 올레TV 뮤비 차트에서 항상 상위권을 차지하고 있으며, 컴백 후에는 1등은 물론 예전 곡들까지 최상위권에 차트인한다고 한다.  대중문화평론가 이문원은 걸그룹 시장에 남성향 컨텐츠(#fn-14; 남성향과 여성향을 나누는 기준이 명확하지는 않으나, 해당 평론가는 걸크러시-틴 키치 등에 대비되는, 여성향 컨텐츠의 여집합이라고 정의했다.)가 절대적으로 부족한 상황에서그 수요를 책임지던 그룹의 프로젝트가 종료되고, 불어난 남성 소비층의 수요를 꾸준히 남성향 컨텐츠를 지향하던 프로미스나인이 효과적으로 흡수했다고 평가했다.관련 기사  인지도와 팬덤 규모에 비해 높은 수준의 화력을 보여준다. 예시로LOVE BOMB활동 당시 1위 후보에 올랐을 때는대형 기획사 남자 아이돌을 상대로 문자투표에서 승리를 거뒀고,WE GO활동 당시 지니 차트에 4위, 벅스차트엔 무려1위로 진입했다.(#fn-15; LOVE BOMB, Feel Good 등 이전 활동곡도 해당 차트에서 상위권에 진입했었다.)특히 미니 4집Midnight Guest의 초동 판매량 10만장 돌파를 기점으로 적어도 음반 판매에 있어서는 국내 상위권 수준에 진입했다.  국내의 팬덤 성향은남초팬덤이지만 반대로 일본에서는여초팬덤에 가깝다.(#fn-16; 사실 일본의 K-POP 향유층은 극여초에 가깝다. 일본의 10~30대 여성들은 AKB, 노기 등으로 대표되는 자국의 걸그룹 문화에 굉장히 부정적이며, 반대로 일본 남성들은 문화적으로 굉장히 보수적인지라 타국 문화에 있어서도 배타적인 성향이 크기 때문.)최근에는 국내에서도 여성 플로버의 수도 꾸준히 늘어나고 있지만(#fn-17; Midnight Guest의 성공으로 10대 팬들의 유입이 많아지는 중. 뒤늦게 전성기를 맞은 셈. 프로미스나인을 몰랐던 사람들이 DM을 듣고, 이렇게 이쁜 애들이 왜 아직도 안 떴냐면서 아쉬움을 내뱉는 반면에, 프로미스나인을 예전부터 좋아했던 플로버들은 이제야 사람들이 프나를 알아준다며 기뻐하는 중.)아직까지는 극남초에 가깝다.(#fn-18; Weverse에서 멤버들을 언니라 부르는 팬들을 많이 찾아볼 수 있는데, 이를 두고 군필 여고생(...)일 것이라고 말하는 팬들이 많다.)남초의 끝을 달리던FUN FACTORY활동 당시의 무대 영상인데, 군대를 방불케하는 우렁찬 응원을 볼 수 있다.#  데뷔 초부터 방대한 영상 컨텐츠를 내놓왔던 프로미스나인의 팬덤인 만큼 많은 아이돌 그룹의 팬덤 가운데서도 특히팬튜브문화가 엄청나게 활성화되어 있다. 심지어2차 창작된 편집 영상이 공식 채널에 올라온 원본 영상보다 조회수가 높은 경우도 있다.(#fn-19; 대표적인 예시로 응원법 서프라이즈 몰카 영상으로, 공식 채널 영상보다 팬튜버의 2차 편집 영상의 조회수가 훨씬 높다. 또, WE GO 활동에서 백지헌이 안무를 바꿔서 추는 영상을 팬튜브에서 올린 것#이 무려 4백만이 넘는 조회수(2022년 9월 7일 기준 4,374,521회)를 기록하기도 했으며 백지헌 본인이 직접 그 영상을 보는 모습도 다른 영상#에서 확인할 수 있다.)그룹 자체가 예능에 최적화된 유잼 그룹인데다가 남초 팬덤 특성상 인터넷 밈에 해박한 성향이 강해서, 어떤 채널이든 간에 하나같이 상당한병맛을 자랑한다. 멤버인 이채영이 사람을 초라하게 만든다고 말할 정도다.(...)(#fn-20; 멤버들도 유튜브로 2차 창작물을 많이 보는데, 이채영은 썸네일이 못생겼으면 안본다고 한다..)멤버들 공인 금지 영상으로 꼽힌 '안장요호', '노멀씨' 등의 패러디 영상도 상당히 많다.  나경은 '플로'라고 줄여서 부른다. 채영은 '로버'라고 부르기도 한다. 새롬은 '로보'라고 부른다. \"),\n",
              "  Document(metadata={'page_url': 'https://namu.wiki/w/프로미스나인', 'artist_info': 'FROMIS_9', 'toc_item': 'FOOTNOTES', 'abs_page_toc_item': '팬덤/굿즈//FOOTNOTES', 'parent_paper': '굿즈'}, page_content='page_content: [1] 3~7회 한정 판매.[2] 블루는 U, 그린은 N, 핑크는 I를 상징한다.[3] 5~7회 한정 판매. 7회 한정으로 1인 2개로 구매 제한이 걸렸다.[4] 7회 한정 판매. 또한 1인 최대 2장으로 구매 제한이 걸렸다.'),\n",
              "  Document(metadata={'page_url': 'https://namu.wiki/w/프로미스나인', 'artist_info': 'FROMIS_9', 'toc_item': '상세 이미지', 'abs_page_toc_item': '팬덤/굿즈//시즌 그리팅/2023/상세 이미지', 'parent_paper': '굿즈'}, page_content='page_content:  ,,,,이새롬,송하영,박지원,노지선,,,,, 이서연,이채영,이나경,백지헌, ,,,,이새롬,송하영,박지원,노지선,,,,, 이서연,이채영,이나경,백지헌, ,,박지원 & 이새롬,백지헌 & 송하영,,, 노지선 & 이서연,이나경 & 이채영, ,단체, ,,,,이새롬,송하영,박지원,노지선,,,,, 이서연,이채영,이나경,백지헌,'),\n",
              "  Document(metadata={'page_url': 'https://namu.wiki/w/프로미스나인', 'artist_info': 'FROMIS_9', 'toc_item': '2022년', 'abs_page_toc_item': '활동/광고 및 화보//광고/서든어택/2022년', 'parent_paper': '광고 및 화보'}, page_content='page_content:   ,,,,이새롬,송하영,장규리,박지원,,,,,노지선,이서연,이채영,이나경, ,,  서든어택 캐릭터 모션,  서든어택 캐릭터 메이킹,'),\n",
              "  Document(metadata={'page_url': 'https://namu.wiki/w/프로미스나인', 'artist_info': 'FROMIS_9', 'toc_item': 'ETC', 'abs_page_toc_item': '활동/Weverse//ETC', 'parent_paper': 'Weverse'}, page_content=\"page_content:  날짜,제목,비고,09.22,<CHANNEL_9 Behind> EP.1,,09.26,fromis_9 (프로미스나인) 'Talk & Talk' Special Video Teaser,,09.27,fromis_9 (프로미스나인) 'Talk & Talk' Special Video,독점 선공개,10.13,<CHANNEL_9 Behind> EP.2,,11.03,<CHANNEL_9 Behind> EP.3,,11.24,<CHANNEL_9 Behind> EP.4,,12.08,<CHANNEL_9 Behind> EP.5,,12.22,<CHANNEL_9 Behind> EP.6,, 날짜,제목,비고,01.05,<CHANNEL_9 Behind> EP.7,, 날짜,제목,비고,04.05,며니 다시 와따\\U0001fa77,(여자)아이들 채널 지원 출연,\"),\n",
              "  Document(metadata={'page_url': 'https://namu.wiki/w/프로미스나인', 'artist_info': 'FROMIS_9', 'toc_item': 'Weverse', 'abs_page_toc_item': '활동//SNS 활동/Weverse', 'parent_paper': '활동'}, page_content='page_content: 다음 문서로 대체 설명: https://namu.wiki/w/%ED%94%84%EB%A1%9C%EB%AF%B8%EC%8A%A4%EB%82%98%EC%9D%B8/Weverse'),\n",
              "  Document(metadata={'page_url': 'https://namu.wiki/w/프로미스나인', 'artist_info': 'FROMIS_9', 'toc_item': '광고', 'abs_page_toc_item': '활동/광고 및 화보//광고', 'parent_paper': '광고 및 화보'}, page_content='page_content:  CF by fromis_9,분류,기업/기관,브랜드,출연,2017년,식품,,,전원,의류,,,2021년,게임,,,전원,2022년,게임,,,백지헌 외 전원,미용,,,2023년,게임,,,전원,'),\n",
              "  Document(metadata={'page_url': 'https://namu.wiki/w/프로미스나인', 'artist_info': 'FROMIS_9', 'toc_item': '2023년', 'abs_page_toc_item': '활동/광고 및 화보//화보/2023년', 'parent_paper': '광고 및 화보'}, page_content='page_content:  ,,,, ,,,,이새롬,송하영,박지원,노지선,,,,,이서연,이채영,이나경,백지헌,'),\n",
              "  Document(metadata={'page_url': 'https://namu.wiki/w/프로미스나인', 'artist_info': 'FROMIS_9', 'toc_item': '2021년', 'abs_page_toc_item': '활동/YouTube//타 채널/2021년', 'parent_paper': 'YouTube'}, page_content='page_content:   2021년 YouTube by fromis_9,날짜,채널,콘텐츠,출연,03.31,,  프로미스나인 지선의 🍓딸기 보틀 케이크🍓 (strawberry cake),노지선,04.07,,  프로미스나인 지선의 비주얼 폭발 무지개 쿠키🌈🍪,노지선,04.14,,  프로미스나인 지선의 오븐에 구운 도넛 🍩,노지선,04.19,,  잠자기 전 5분으로 매끈한 걸그룹 다리라인 갖자! (feat. 프로미스나인 노지선),노지선,04.21,,  프로미스나인 지선의 스틱 초코 브라우니 🍫,노지선,05.03,,  걸그룹 \\'하체 운동 루틴\\'! 하체를 해야 살이 빠집니다[프로미스나인 노지선],노지선,05.12,,  여자 아이돌의 몸매관리, 이렇게 까지 극단적일 줄 몰랐습니다 (프로미스나인 노지선),노지선,05.17,,  프로미스나인(fromis_9) 막내에서 리포터로 승진(?)｜선공개,전원,05.18,,  이 상황 무엇? 플로버 당장 WE GO💖｜휴방위 EP.24,전원,05.21,,  [릴레이댄스] 프로미스나인 (fromis_9) - WE GO (4K),전원,05.23,,  💕프로미스나인(fromis_9) 귀여운 노래에 맞춰 춤추기💕(ft. 벌칙영상, 올챙이송) /[DAY6의 키스 더 라디오] l KBS 210523 방송,이서연, 이채영,이나경, 백지헌,05.27,,  ❌우리 이상한 애들 아니에요❌ㅣ프로미스나인(fromis_9) 뇌피셜록,전원,05.28,,  [Mwave Shop] This is how fromis_9 Signed \\'9 WAY TICKET\\' albums,전원,05.28,,  [썸썸썸] \\'서연아\\'에 노이로제 걸린 프로미스나인 서연 | fromis_9 - WE GO 썸네일 쟁탈전,전원,05.28,,  프로미들의, 프로미들에 의한, 프로미들을 위한, 프로미들의 모든 것😉 ㅣ프로미스나인(fromis_9) 본캐취업,전원,05.29,,  😥마피아 게임하다가 찐으로 눈물 보인 프로미스나인😥ㅣ마피아댄스ㅣMafia Danceㅣfromis_9-WE GOㅣdingo global DGG,전원,05.29,,  [릴레이댄스 어게인] 프로미스나인 (fromis_9) - 소원을 말해봐 (Original song by. Girls\\' Generation) (4K),전원,06.01,,  나하은(Na Haeun) X 프로미스나인 (fromis_9) - WE GO Dance Cover,전원,06.03,땡깡DanceKang,  🦋프로미스나인 X 땡깡 (WE GO)🦋,전원,06.07,,  [주간 아이돌] 기습 라이브 with 프로미스나인 LIVE,전원,06.07,,  [무편집]인턴 프롬이들의 활약.Zip👍ㅣ프로미스나인(fromis_9) 무편집.Ver,전원,06.08,,  나하은(Na Haeun) X 프로미스나인 (fromis_9) - 콜라보 비하인드 1편,전원,06.09,,  [The Bomb💣 DANCE] EP.3 프로미스나인(fromis_9), 마치 Like 흉가체험 같았던 담력 테스트(?) 현장으로 We Go!,전원,06.10,,  데뷔하자마자 시작되는 불화...? | [쌔끈보이즈] EP 05,전원,06.11,,  [IND]나하은(Na Haeun) X 프로미스나인 (fromis_9) - 비하인드 2편( behind the scenes#2(ASMR),전원,06.17,,  [IDOL GAP] \\'냉탕🧊 프로미스나인 VS 온탕🔥 프로미스나인\\' 갭 차이 l #주간아이돌 l EP.516,전원,06.17,,  프롬이들 정답 행진 멈춰 ✋ 이러다 하루 종일 PR하겠어😱 퀴즈도 PR도 다 잘하는 프로미스나인(fromis_9)! | 마P아,전원,06.18,,  (Idol_Challenge ONF ep-2) 몰래 온 손님 프로미스나인과 온앤오프의 자존심(?) 챌린지,전원,06.20,KCON official,  [KCON:TACT 4 U] fromis_9(프로미스나인)｜BREAKING LIVE LIVE,전원,06.22,,  프로미스나인 WE GO 안무에서 규리만 다른 이유는?, 아이돌리그 대기실에서 전해드립니다.｜DOL터뷰 #STATV,전원,06.22,,  [릴레이댄스] 프로미스나인(fromis_9) - 유리구두(Glass Shoes) @KCON:TACT 4 U,전원,06.25,,  프롬이들은 아이디어도 PRO‼️ 재미도 PRO‼️ 프로미스나인(fromis_9)과 함께한 마P아 촬영 현장 비하인드💛 | 마P아,전원,06.25,,  [수취인불명 Ep.08] K-아이돌이 연습생 시절 나에게 해주고픈 이야기(feat.마마무, 조이, 오마이걸, 몬엑, 트와이스, NCT, TXT, 에스파),전원,07.02,,  [수취인불명 Ep.09] Hello Future!! K-아이돌이 10년 후의 나에게 해주고픈 이야기(feat.마마무, 조이, 오마이걸, 몬엑, 트와이스, NCT, TXT, 에스파),전원,07.15,,  [고꾸남] Ep.18-1 프로미스나인 하영&지원, 고꾸남을 만나다,송하영, 박지원,07.17,,  [팬바타 엔터] 오늘은 프롬이들과 팬바타에 함께 가볼래 WE GO ✈️ l fromis_9 인터뷰,전원,07.22,,  [고꾸남] Ep.18-2 프로미스나인 하영&지원, 고꾸남을 만나다,송하영, 박지원,07.29,,  나랑 노랑 같2 콩닭콩닭♥ 오늘 저녁은 치킨이닭! (feat.프로미스나인) [홍보22팀] Ep.01,송하영, 노지선, 이채영,07.29,,  [고꾸남] Ep.18-3 프로미스나인 하영&지원, 고꾸남을 만나다,송하영, 박지원,07.30,,  [팬바타 엔터] 프롬이들도 격한 감동 받은 장규리 선배의 심쿵 멘트💘 l fromis_9 가상 팬 사인회,장규리,07.30,,  [팬바타 엔터] 아기복숭아맛마이쮸 지헌이의 아기 사진 챌린지 📸 l fromis_9 가상 팬 사인회,백지헌,07.31,,  [팬바타 엔터] 얼굴 천재 🌸 나경의 귀염 뽀짝 얼굴 자랑 타임 📷 l fromis_9 가상 팬 사인회,이나경,07.31,,  [팬바타 엔터] 표정의 달인 채영의 이모티콘 챌린지 🐿 l fromis_9 가상 팬 사인회,이채영,08.01,,  [팬바타 엔터] 귀여움 한도 초과 ❤️ 하영의 불끈불끈 힘나는 부적 🍀 l fromis_9 가상 팬 사인회,송하영,08.01,,  [팬바타 엔터] 애교 천재 지원 공주의 애기 잘게요~🌙 l fromis_9 가상 팬 사인회,박지원,08.02,,  [팬바타 엔터] 꿀잠 예약 😴 지선이의 ASMR 🎤 l fromis_9 가상 팬 사인회,노지선,08.02,,  [팬바타 엔터] 숨은 애교 강자 ✨ 새롬의 볼하트 세트💕 l fromis_9 가상 팬 사인회,이새롬,08.03,,  [팬바타 엔터] 서연이와 함께 누아르 영화🎥 한 편 찍을 플로버 구합니다 🙋🏻\\u200d l fromis_9 가상 팬 사인회,이서연,08.03,,  [팬바타 엔터] 플로버를 향한 프롬이들의 사랑을 담은 메시지 💌\\u200d l fromis_9 가상 팬 사인회,전원,08.05,,  여윽시 2회는 2디야지~ 라임 똭! 맞춰왔디야👍 (feat.프로미스나인) [홍보22팀] Ep.02,송하영, 노지선, 이채영,08.05,,  [고꾸남] Ep.18-4 프로미스나인 하영&지원, 고꾸남을 만나다,송하영, 박지원,08.10,,  편집하던 PD가 프미나 생각에 급 만든 영상_채영편 #shorts,이채영,08.12,,  편집하던 PD가 프미나 생각에 급 만든 영상_하영편 #shorts,송하영,08.12,,  똑똑 🚪 프로미스나인(fromis_9)이 화보 촬영 비하인드 초대받고 왔는데요 💃 | 마P아,전원,08.13,,  편집하던 PD가 프미나 생각에 급 만든 영상_지선편 #shorts,노지선,09.01~09.18,,  fromis_9 | STUDIO CHOOM [재생목록],전원,09.03,,  K-POP STARS sing in THREE Languages🎤 | THAI/ INA/ TAG | fromis_9 | TRANSONGLATION,전원,09.04,,  fromis_9 - Talk & Talk | PROP ROOM DANCE | 세로소품실,전원,09.04,,  비투비 (BTOB) - \\'Outsider\\' Challenge 서은광 (SEO EUNKWANG), 프로미스나인 하영, 지원 (HA YOUNG, JI WON from fromis_9),송하영, 박지원,09.04,시몬,  백지헌 x 시몬 fromis_9 ‘talk & talk’☎️,백지헌,09.05,,  fromis_9 replies to fans in BAHASA INDONESIA | #CBL\\u200b (CALL ME BY YOUR LANGUAGE),전원,09.05,,  [릴레이댄스] 프로미스나인 (fromis_9) - Talk & Talk),전원,09.06,CYWORLD,  [CyworldBGM2021] \"프로미스나인 - 별\" Teaser,송하영, 박지원, 이서연,09.06,,  게임하다가 현실TMI 대방출하는 프로미스나인 ㅋㅋㅋㅋ 상큼함도 터지고🍋 내 심장도 터지는💛 이것이 진정한 일타이피...? [빅픽쳐] 프로미스나인 fromis_9,전원,09. 08,,  프로미스나인 1위 축하해요 #shorts,송하영, 노지선, 이채영,09. 08,CYWORLD,  [CyworldBGM2021] \"프로미스나인 - 별\" Music Clip (Mini Room Ver.),송하영, 박지원, 이서연,09. 08,시몬,  #프로미스나인 지헌x서공예 실무과 #TalknTalkChallenge 비하인드☎️,백지헌,09. 08,DOJIN도진이,  프로미스나인에게 직접 신곡 안무를 배워보았다...✨ fromis_9 만난 날 VLOG!,전원,09. 08,,  프로미스나인만(fromis_9)의 군기 바짝 사인 CD 증정식(feat. 조교 하영),전원,09.09,CYWORLD,  [CyworldBGM2021] \"프로미스나인 - 별\" Music Clip 촬영 현장 스케치,송하영, 박지원, 이서연,09.09,,  숨겨진 빌런 등장😵? 프로미스나인 단합력 검증시간 ❕❕ | 텔레파시땐스 ep 1 | fromis_9 | Telepathy Dance,전원,09.10,,  [자축라이브 4K] 하고 또 해도 재밌는 프로미스나인(fromis_9) 1위 기념 Talk & Talk ❤,전원,09.10,,  NO지선 NO멀씌😎 노지선이 찢어버린 프로미스나인 센터 선발전💥 | 텔레파시 땐스 ep 2 | fromis_9 | Telepathy Dance,전원,09.10,,  프로미스나인(fromis_9)과 Talk&Talk📞 할 flover 어디 있나요~? | 휴방위 EP.40),전원,09.11,CYWORLD,  [CyworldBGM2021] \"프로미스나인 - 별\" Music Clip (Lyric ver.),송하영, 박지원, 이서연,09.13,,  프로미스나인 채영 ✖ 박민혁 셰프의 중독성 갑! 쌈장 삼겹살 조림 (된장 양념은 1+1),이채영,09.15,,  프로미스나인 채영 ✖ 박민혁 셰프의 매콤고소한 로제닭갈비,이채영,09.17,,  프둥이들의 랜덤문답 챌린지🌸 | 프로미스나인\\'s 저세상 밸런스 게임,송하영, 박지원,이서연, 이나경,09.18,,  프둥이들의 랜덤문답 챌린지🌸 | 프로미스나인\\'s 프망진창 밸런스 게임,이새롬, 장규리, 노지선,이채영, 백지헌,09.18,땡깡DanceKang,  [땡깡의 커튼콜] 프로미스나인 X 땡깡 (Talk & Talk)☎️,송하영, 박지원, 이채영,이나경, 백지헌,09.18,,  [릴레이댄스 어게인] 프로미스나인(fromis_9) - 이름이 뭐예요? (Original song by. 4MINUTE),전원,09.20,,  프로미스나인 채영 ✖ 박민혁 셰프의 바삭바삭한 크리스피 통삼겹구이,이채영,09.22,,  프로미스나인 채영 ✖ 박민혁 셰프의 색다른 매콤함! 삼겹살 라면볶음,이채영,09. 23,,  [비하인드#1] PD 하드🔓를 탈탈x2 털어봅시다!! (1~4회) [홍보22팀],송하영, 노지선, 이채영,09. 23,,  03년생 현 고3 리얼한 9월 모의고사 풀이 현장.mp4 바로 옆에서 과목별 ASMR 쌔려주니까 집중력 MAX찍음ㅋㅋㅋㅋ / [문명특급 EP.212],노지선, 백지헌,09.23,이마트 LIVE,  Ep.6 나의 최애 아이돌이 밥을 차려준다? 프로미스나인 지선의 역조공 한상 [밥 먹고 갈래?],노지선,09.24,,  [The Bomb💣 DANCE] EP.6 프로미스나인(fromis_9), 더 밤! 고수들의 등장? ✨PRO✨미스나인에 퐁당 빠져볼 사람!,전원,10.04,땡깡DanceKang,  🏠 프로미스나인 오신 날,송하영, 박지원, 이채영,이나경, 백지헌,10.17,,  [본인등판PERFORMANCE] 흑화X시크한 프로미스나인(FROMIS9)의 \\'Talk & Talk\\'는 처음이지?📞 미모 열일하는 프롬이들의 포포몬쓰🖤,전원,10.20,,  [랭킹미식회 EP.7] 프로미스나인 앞에서 곱창싸대기 맞은 창모형ㄷㄷ 역대급 (기름)튀기는 곱창 경쟁전,장규리, 노지선,10.27,,  [랭킹미식회 EP.8] 현실판 낙지 게임에 참여하시겠습니까? (feat.프로미스나인),장규리, 노지선,11.19,,  카카오TV 오리지널 드라마 [그림자 미녀] 라이브 토크 LIVE,이나경,11.20,,  \"같은 사람 맞아요?\" SNS 셀럽을 처음 만난 아이의 반응,이나경,12.02,,  [고꾸남] Ep.22-1 고꾸남x프로미스나인&위키미키 비하인드,송하영, 박지원,12.04,,  ☆★드디어 공개☆★ 지니 아니고 선미진(!)을 소개할게요 [그림자 미녀] 캐릭터 인터뷰,이나경,12.08,,  프로미스나인(fromis9)이 플로버에게 보내는 메시지가 도착했습니다! | 아이돌차트 2021 생일 토너먼트 시즌 우승,전원,12. 24,,  ✨(아마) 방송사 최초✨문명특급 사무실 12시간 라이브⌨️ 다들 크리스마스 이브에 할 일 없는 거 알아요🎄 / [문명특급 특별편] LIVE,노지선,'),\n",
              "  Document(metadata={'page_url': 'https://namu.wiki/w/프로미스나인', 'artist_info': 'FROMIS_9', 'toc_item': 'FOOTNOTES', 'abs_page_toc_item': '활동//FOOTNOTES', 'parent_paper': '활동'}, page_content=\"page_content: [1] 좋아하는 연예인을 실물로 보거나 같이 사진을 찍은 경우를 인터넷 용어로 '계 탔다'고 표현한다.[2] 프로미스나인은 소속은 오프더레코드엔터테인먼트, 매니지먼트와제작은 플레디스엔터테인먼트로 2개의 회사가 영향을 행사하는 아이돌이었다.\"),\n",
              "  Document(metadata={'page_url': 'https://namu.wiki/w/프로미스나인', 'artist_info': 'FROMIS_9', 'toc_item': '정규 1집 《Unlock My World》 (2023. 06. 05.)', 'abs_page_toc_item': '활동/음악 방송//2023년/정규 1집 《Unlock My World》 (2023. 06. 05.)', 'parent_paper': '음악 방송'}, page_content='page_content: 활동곡 : #menow 날짜,방송 프로그램,무대 영상,비고, The 1st Album Unlock My World,06.08,,Attitude#menow,,06.09,,Attitude#menow,,06.11,,#menow,,06.13, ,Attitude#menow NEW 1위#menow 앵콜 무대 #menow 앵콜 무편집, NEW 퇵길아웃!,06.14, ,Attitude#menow NEW 5위,MC석 코너,06.16,,#menow NEW 3위,,'),\n",
              "  Document(metadata={'page_url': 'https://namu.wiki/w/프로미스나인', 'artist_info': 'FROMIS_9', 'toc_item': '기타', 'abs_page_toc_item': '활동//SNS 활동/기타', 'parent_paper': '활동'}, page_content='page_content: 날짜,플랫폼,프로그램,출연,10.12,,  등교 전, 멤버들을 습격한 채영이의 기습 라이브! LIVE,이채영,10.18,  fromis_ 합숙소 최초공개!! LIVE,전원, 날짜,플랫폼,프로그램,출연,06.17,,   프로미스나인 (fromis_9) - 두근두근 (DKDK) | 사각라이브 Square live,장규리 외 전원,07.29,,  fromis_9化身喵星人 是心动的感觉了！,장규리 외 전원,10.09,Twitter, From.9 #TwitterBlueroom LIVE! LIVE,전원,10.30,,   프로미스나인의 9가지 매력이 터지는 현장 [톡싸FULL],전원, 날짜,플랫폼,프로그램,출연,06.03,Twitter, FUN FACTORY #TwitterBlueroom LIVE! FUN FACTORY #TwitterBlueroom LIVE! (전화 연결) LIVE,전원,08.29, 최애의 최애템 프로미스나인 100원 기부딜 #TwitterBlueroom LIVE! LIVE,전원,09.12,,日本初生放送!fromis_9のFAN FUN FACTORY! LIVE,전원, 날짜,플랫폼,프로그램,출연,09.16,Twitter, My Little Society #TwitterBlueroom LIVE! LIVE,전원,09.21,,  (FULL) 알면 돈 버는 청년정책.ZIP [뉴팡] EP.3,송하영, 장규리,09.21,,  ✨컴백맛집✨ 따끈따끈 신곡왔어요! [컴백쇼 뮤톡라이브] EP.2,이서연 외 전원,10.23, ,  EP15보라다방☕ <w/프로미스나인> LIVE,이새롬, 송하영, 노지선,11.05,,  搞笑放送：米斯的Little Society开放时间到！乐见大牌fromis_9独家专访,이서연 외 전원,11.09,자연에더,  으쌰으쌰 강원속초 산지농가 캠페인 LIVE LIVE,장규리, 노지선,12.02,,  14회.라면의 神,장규리, 날짜,플랫폼,프로그램,출연,03.17,,  29회. 몰래카메라의 찐모습 알려드림,송하영, 장규리,05.17,Twitter, 9 WAY TICKET #TwitterBlueroom LIVE! LIVE,전원,09.01, Talk & Talk #TwitterBlueroom LIVE! LIVE,전원,09.07,,   [6-1회] 청춘즈랑 Talk & Talk 하러 후배 걸그룹 왔다~♡,이새롬, 박지원, 노지선,09.09,   [6-2회] 청준즈 VS 프미나 신곡 홍보 걸고, 홈파티 한 판(?),이새롬, 박지원, 노지선,09.14,BE•HIND,   [쇼챔 백스테이지] (??:당신은 심각한 쇼챔비 중독입니다) (👤:흥! 웃기는 소리! 쇼챔비 보러 가자❤) l EP.214,전원,09.22,   [쇼챔 거치캠] 산독기 독기야🐰 어디를 가느냐 ＜추석특집★내가 그린 명절 음식＞ 보러간단다│쇼챔피언 비하인드 EP.215,전원,12.22,,  66회. God 라면을 찾아서,장규리, 날짜,플랫폼,프로그램,출연,01.18,,  [1회] 워크숍 탈출을 위한 게임 시작! 프롬이들의 직위는?! (아이돌 워크숍),전원,01.21,  [2회] 프롬이들의 감각 총동원! ★오감 탈출 게임★ (아이돌 워크숍),전원,01.25,  [3회] 탈출을 위한 열쩡 가득! 뭐든 열심인 프롬이들♥ (아이돌 워크숍),전원,01.28,  [4회] 워크숍의 꽃 장기자랑 프롬이들 매력 뽐내기☆ (아이돌 워크숍),전원,02.01,  [5회] 프롬이들 워크숍 탈출 가능?! 아쉬운 수료식 현장 (아이돌 워크숍),전원,02.04,  [비하인드] 플로버 모여! ☆프로미스나인 TMI 대방출☆ (아이돌 워크숍),전원,02.23,,  [무편집Ver.] 프로미스나인 편 (아돌라스쿨) LIVE,전원,03.03,  [비하인드] 천상계 프롬이의 동아리 승인 신청서 작성하기! (아돌라스쿨),전원,03.11,,  一切都是我喜欢的样子 [fromis9-JIWON 的直播间]  一切都是我喜欢的样子 [fromis9-NAGYUNG 的直播间] LIVE,박지원, 이나경,03.18,  敬请期待 [fromis9-HAYOUNG 的直播间]  敬请期待 [fromis9-CHAEYOUNG 的直播间] LIVE,송하영, 이채영,03.25,  春光烂漫只为与你相遇 [fromis9-SAEROM 的直播间]  春光烂漫只为与你相遇 [fromis9-NAGYUNG 的直播间] LIVE,이새롬, 이나경,07.12,,  [4회] 프로미스나인 LIVE,전원, 날짜,플랫폼,프로그램,출연,04.27~10.19, ,  let me Know K-POP! 방영 목록,이새롬,06.22, ,  #9 프로미스나인,전원,12.07~24.03.28, ,  let me Know K-POP! 시즌2 방영 목록,이새롬, 날짜,플랫폼,프로그램,출연,02.08, ,  #8 스페셜 1,이채영,02.15, ,  #9 스페셜 2,이채영,'),\n",
              "  Document(metadata={'page_url': 'https://namu.wiki/w/프로미스나인', 'artist_info': 'FROMIS_9', 'toc_item': '3인', 'abs_page_toc_item': '멤버/멤버 간 케미//목록/3인', 'parent_paper': '멤버 간 케미'}, page_content=\"page_content: 빵빵즈 (♥) - 이서연 & 이채영 & 이나경세 사람은 2000년 출생 동갑내기로 2017년 10월 18일 페이스북 LIVE 프로미스의 방 엿보기에서 숙소를 소개하며 케미를 과시했다.그리고 어쩌다가 빵빵즈가 셋이 우연히 모이면 '어빵즈'가 된다. 가끔 하영이 본인도 하빵이므로 빵빵즈라고 주장하기도 한다. 삐융즈 (♥) - 송하영 & 박지원 & 이채영2021년 기준 옛 숙소의 1층 3인실 룸메이트 조합으로 데뷔 이래 새 숙소로 이사할 때까지 방 구성원이 바뀌지 않은 조합이다.프로미스의 방 2017년 11월 16일 방영분에서 셋이 룸메이트로 결성됐는데 입주 첫 날부터 야밤에 막춤과 함께 삐융 삐융을 외치며 1층에 옆방까지 난입하는 모습을 보이며 오늘날의 프로미스나인의 비글미를 정의하는 단어가 되었다.채널나인 In The HOUSE '룸메이트와 산다 Part.1에 따르면 이 셋은 새거나 값비싼 것을 제외한 모든 물건저렴이을 공유하면서 생활한다고 한다.2020년 10월 10일, 짜릿한 인터뷰에서 삐융즈에 영입하고 싶은 멤버란 질문에 채영은 없다며 삐융즈의 단단한 결속력을 과시했다.  첫눈즈 (❤) - 송하영 & 이서연 & 백지헌2023년 12월경 프로미스나인 공식 인스타그램에 위 세명에서 같이 엑소의 첫 눈에 맞추어 춤을 추는 첫눈 챌린지 릴스가 업로드 되었고, 이후에도 게시물이나 다른 릴스에서 간간히 등장하며 팬들에게 첫눈즈라고 불렸다. 그러다가 9_log에서 첫눈즈 휴일 데이트라는 제목의 영상이 올라오며 공식적으로 인정되었다.  쓰리지 (♥) - 박지원 & 노지선 & 백지헌세 사람의 이름에 모두 '지'가 있기에 붙혀졌다.  안정즈 (♥) - 박지원 & 노지선 & 이서연프로미스나인 최단신 멤버들을 일컫는 말로 2017년 12월 5일, 'fromis_9 TV Behind'에서 세 사람을 보고 프로미스나인에서 단신을 맡고있다는 메라의 말에 노지선이 단신이 아니라 안정즈라고 항변했다.FM_1.24 KCON 2018 비하인드에서는 채영이 안정즈에게 코딱지들이라고 부르기도 했다.  카페 갬성즈 (♥) - 이새롬 & 노지선 & 이서연카페에 갔을 때 V LIVE 방제로 사용하며 결성을 알렸다. 세명이서 V LIVE 할때마다 방제에 쓰는것을 보면 공식적인 케미이다. 그룹 내에서 차분함을 담당하는 셋이 카페에서 도란도란 이야기를 나누는 컨셉으로 LIVE를 진행하였고, 그 때문에 비가 오거나 센치한 느낌이 드는 날이면 팬덤 내에서 '카페 감성즈'를 기다리는 글이 올라오곤 한다.  하꼬롬 (♥) - 이새롬 & 송하영 & 이나경하영, 나꼬(나경), 새롬의 한글자씩 따서 지어졌다.2019년 9월 10일 V LIVE의 방제에 붙혀지면서 결성됐다. 2021년 6월 16일, 주간 아이돌 방영분에서는 새롬이 캡틴으로서 멤버들의 기분을 북돋아주기 위한 별뜻 없는 의성어 먐먀미에서 비롯해 먐먀미들이라는 이름이 지어지기도 했다.  하꼬지 (♥) - 송하영 & 이나경 & 노지선 하영, 나꼬(나경), 지선의 한글자씩 따서 지어졌다. '채널나인' EP.12 세계로 가는 장학퀴즈 편에서 초반에 꼴찌로 고전하다 음악 퀴즈 코너에서 압도적으로 승리를 하며 대역전극을 끌어내 1위를 거머쥐었다. 이후 '채널나인' EP.15 에서 비타민 음료의 광고 제작 미션을 위해 다시한번 뭉쳤다. 아이돌워크숍에서도 뭉쳤다  한림즈 (♥)-이새롬&송하영&이채영한림연예예술고등학교출신인 세명을 일컫는 말로 학교 선후배로서(#fn-4; 모모랜드와 다르게 멤버가 졸업하는 상황이 아니라서 9명이 다 오기에는 너무 많다고 판단하여 한림즈 3명만 졸업식에 갔다.)같이아이돌학교에 참가한빈하늘의 졸업식을 가던 도중 V LIVE를 켰다.세 명 모두 자신이 몸 담았던 학과에 자긍심이 있어 당시 고교 입학을 앞두고 있던 백지헌에게 영업을 해봤으나, 일생이 마이웨이인 지헌은 그렇게서공예에 입학했다.\"),\n",
              "  Document(metadata={'page_url': 'https://namu.wiki/w/프로미스나인', 'artist_info': 'FROMIS_9', 'toc_item': '싱글 1집 《FUN FACTORY》 (2019. 06. 04.)', 'abs_page_toc_item': '활동/음악 방송//2019년/싱글 1집 《FUN FACTORY》 (2019. 06. 04.)', 'parent_paper': '음악 방송'}, page_content='page_content: 활동곡 : FUN!, LOVE RUMPUMPUM  날짜,방송 프로그램,무대 영상,비고,01.03,,다시 만난 세계 (원곡: 소녀시대),SPECIAL STAGEPOST,01.04,여자 라이징 스타 특집,LOVE BOMBTo Heart,,01.06,,LOVE BOMB,,03.23,,다 함께 차차차 (원곡: 설운도),개인 활동에 의한 장규리 불참.,05.30,KCON 2019 JAPAN,LIKEY (원곡: TWICE),SPECIAL STAGE,LOVE BOMB,, The 1st Single Album FUN FACTORY,06.06,,FUN!,POST,06.08,,FUN!,POST,06.09,,FUN!,,06.11,,FUN!,,06.12, ,FUN! NEW 9위,,06.13,,FUN! NEW 3위,POST,06.14,,FUN! NEW 13위,,06.15,,FUN! NEW 23위,POST,06.16,,FUN! NEW 19위,,06.18,,FUN! NEW 3위,,06.20,,FUN! ▼ 5위,POST,06.21,,FUN! ▼ 49위,,06.22,,FUN! ▼ 43위,,06.23,,FUN!,,06.25,,FUN!,,06.26, ,FUN! ▼ 10위,,06.27,,FUN! ▼ 7위,POST,06.28,,FUN!,,07.07,,FUN!,,07.12,,LOVE RUMPUMPUM,,07.13,,LOVE RUMPUMPUM,POST,07.14,,LOVE RUMPUMPUM,,07.14,,FUN!,,07.16,,LOVE RUMPUMPUM,,07.17, ,LOVE RUMPUMPUM,,07.18,,LOVE RUMPUMPUM NEW 10위,POST,07.19,,LOVE RUMPUMPUM,,07.20,,LOVE RUMPUMPUM,POST,07.21,,LOVE RUMPUMPUM,,07.25,2019 KCON NY Festival,빨간 맛 (원곡: Red Velvet),SPECIAL STAGE,LOVE RUMPUMPUM ▲ 6위,,07.26,,LOVE RUMPUMPUM,,07.27,,LOVE RUMPUMPUM,,07.28,,LOVE RUMPUMPUM,,09.12,2019 KCON LA Festival,FUN!,,10.18,,Now (원곡: 핑클),SPECIAL STAGE,'),\n",
              "  Document(metadata={'page_url': 'https://namu.wiki/w/프로미스나인', 'artist_info': 'FROMIS_9', 'toc_item': '2021년', 'abs_page_toc_item': '활동/V LIVE//LIVE/2021년', 'parent_paper': 'V LIVE'}, page_content=\"page_content:   2021년 OFFICIAL V-LIVE by fromis_9,날짜,방송명,설명,01.01,  Happy new year 🎉-송하영, 박지원, 이서연-,-,01.07,  오늘은 새롬이의 화이트 벌뜨데이 🎂-이새롬-,새롬의 25번째 생일 LIVE.,01.11,  1월11일11시11분🕚-송하영-,11일 밤 11시 11분에 켜서 12일이 되어서도 10여분 간 더 진행되었다.,01.13,  🐿🌙-이채영-,-,01.20,  사실은...-송하영, 박지원-,-,01.21,  비가온다!-노지선-,-,01.22,  션탄절🎂🎉-이서연-,서연의 22번째 생일 LIVE.,01.25,  🥀-백지헌-,지선과의 통화연결.,02.02,  눈온당⛄-장규리-,-,02.04,  하이👋-이채영-,-,02.14,  햅삐! 발렌타인🍫❤-장규리, 노지선, 백지헌-,Hand Only, 손과 하반신만 비췄다.,02.15,  나랑 놀 사람 >_<-이서연-,-,02.19,  평일의 끝자락🗣-이새롬-,-,02.26,  🌝-백지헌-,-,03.03,  오랜만!😘-이나경-,새롬의 목소리 찬조 출연.,03.14,  햅삐 화이트 데이🍭❤-장규리, 노지선, 백지헌-,-,03.16,  화요일 밤 🐻🌙-송하영-,-,03.17,  🌸-백지헌-,-,03.19,  0319금요일 밤 🌙-이새롬, 박지원, 노지선, 이채영-,-,03.20,  젼탄절🎉🎂-박지원-},지원의 24번째 생일 LIVE 및 하영의 깜짝 방문과 지헌과의 통화연결.,03.28,  🌫-백지헌-,하영의 깜짝 방문과 채영의 목소리 출연.,03.30,  📢긴급 소집! 모여라!-전원-,풋살장 야외 LIVE 및 세로 화면 조작로 인한 재연결.,04.12,  비 올 때는 막수다🌧-박지원, 이채영-,-,04.17,  🎂🐻-백지헌-,지헌의 19번째 생일 LIVE 및 지원, 서연, 채영과의 통화연결.,04.20,  자기 왔어? 우리 도자기😘-이서연, 이나경, 백지헌-,FM_1.24 Special를 통해 도자기 공방 체험 현장에서 각자 만들었던 그릇 언박싱 LIVE.,05.06,  ❤-백지헌-,-,05.09,  ㅇㄱㅇㄱ-송하영, 장규리-,-,05.14,  챙탄절🎉🎂❤-이채영-,채영의 22번째 생일 LIVE 및 하영, 지원, 서연과의 통화연결., The 2nd Single Album 9 WAY TICKET,05.20,  WE GO! 위고! 프로미스나인이 왔고!🛩-전원-,-,05.28,  한번 들어와 볼래~♥ 위고 위고🛩-전원-,-,06.01,  꼬탄절🎂🎉❤🐤-이나경-,나경의 22번째 생일 LIVE.,06.06,  플로로버와 할 프로미스나인의 Promise🤙🍀-전원-,The 2nd Single Album\\xa0'9 WAY TICKET'의 타이틀곡 WE GO 음악방송 마지막 주를 마치고 소감 LIVE.,07.04,  🌸🌺🥀🍭🏩-백지헌-,-,07.07,  7월 7일 노랑즈🌧-송하영, 박지원-,11시 40분이 넘어서 켠 V LIVE로 1박 2일 동안 진행.,07.17,  무지개 본 사람~-이나경-,-,08.10,  🍡🍡🍡  🍡🍡🍡🍡-백지헌-,배터리 방전으로 인한 재연결.,08.26,  꽹하🐿️-이채영-,-, Special Single Album Talk & Talk,09.05,  Talk & Talk 1주차 끝☘️  ☘️☘️☘️☘️☘️☘️☘️☘️☘️-전원-,세로 화면 조작로 인한 재연결.,09.11,  톡앤톡 2주차☘️☘️-전원-,-,09.19,  막방☘️☘️☘️-전원-,-,09.29,  오늘 누구 생일이게🎂☘️-송하영-,하영의 25번째 생일 LIVE.,10.02,  자니...?🌧️-노지선-,심야 새벽의 소통 LIVE 및 지원의 찬조 출연.,10.03,  아직 안 자겠지...?-이채영-,하영과 지원의 중간 합류.,10.29,  플로버와 함께 하는 할로윈 파티 🍷🦇🕸🕷-전원-,미리 맞는 할로윈 기념 LIVE. ,11.20,  ✌️✌️-백지헌-,-,11.23,  2021 지선🎂-노지선-,지선의 24번째 생일 LIVE.,12.20,  나 왔다 플로-이나경-,하영의 찬조 출연.,12.24,  노랑즈와 함께 해피 홀리데이🎂-송하영, 박지원-,-,12.27,  규리스마스🍊-장규리-,규리의 25번째 생일 LIVE.,\"),\n",
              "  Document(metadata={'page_url': 'https://namu.wiki/w/프로미스나인', 'artist_info': 'FROMIS_9', 'toc_item': '주요 케미', 'abs_page_toc_item': '멤버/멤버 간 케미//주요 케미', 'parent_paper': '멤버 간 케미'}, page_content='page_content: 아래 목록에는 2017년 부터 쌓여온 수많은 조합들이 서술되어 있지만, 현재까지도 꾸준히 사용되고있는 주요 케미는 다음과 같다. 삐융즈 구칠즈, 구팔즈, 빵빵즈 노랑즈 하꼬롬 안정즈 이 외의 케미들은 더 이상 의미가 없어졌거나(#fn-1; ex.성인즈, 등본즈 등)단순히 1회성 브이앱 제목이었던 경우(#fn-2; ex.카페갬성즈, 선물 등)가 많다.'),\n",
              "  Document(metadata={'page_url': 'https://namu.wiki/w/프로미스나인', 'artist_info': 'FROMIS_9', 'toc_item': '전 멤버', 'abs_page_toc_item': '멤버/전 멤버', 'parent_paper': ''}, page_content='page_content:  이름,생년월일,포지션,탈퇴일,장규리,1997. 12. 27. (26세),리드보컬,2022. 08. 01.,'),\n",
              "  Document(metadata={'page_url': 'https://namu.wiki/w/프로미스나인', 'artist_info': 'FROMIS_9', 'toc_item': '2022년', 'abs_page_toc_item': '활동/Weverse//LIVE/2022년', 'parent_paper': 'Weverse'}, page_content='page_content:   2022년 OFFICIAL Weverse LIVE by fromis_9,날짜,방송명,설명,07.18,  위버스 연습-송하영-,-,07.19,  플로버어-송하영, 박지원-,-,07.19,  🌌-송하영, 박지원, 이채영-,-,07.19,   🌌-박지원-,-,07.21,   자기 전에 잠깐🧡-장규리-,탈퇴 전 마지막 위버스 LIVE.,07.21,  잠깐  잠깐☘️-송하영, 박지원, 백지헌-,-,07.22,  나랑 놀 사람-이서연-,-,08.10,  새롬이와 고함😲  새롬이와 고함😲2-이새롬-,하영의 찬조 출연.,08.18,  하꼬롬의 고민 상담소👀-이새롬, 송하영, 이나경-,-,08.19,  불금-백지헌-,-,09.14,  마라🔫-이채영-,-,09.28,  송피벌스데이🎂-송하영-,하영의 25번째 생일 LIVE. 콘서트 리허설 관계로 미리 켬.,09.29,  <LOVE FROM.> D-1-전원-,-,10.02,  LOVE flover-전원-,첫 단독 콘서트 성료 기념 LIVE.,10.07,  LOVE flover in Japan-전원-,일본 첫 단독 콘서트 성료 기념 LIVE.,10.09,  가보자구🍯🐰🐿️-박지원, 이채영, 백지헌-,일본 일정 중 현지 LIVE.하영 전화연결 후 중간 합류.,10.11,  읭-노지선, 이서연-,일본 일정 중 현지 LIVE.지원, 채영, 지헌 중간 합류.,11.22,  니니플리🎧🎶-박지원, 이서연-,하영, 지헌의 찬조 출연.,11.23,  HBD❤️-노지선-,지선의 25번째 생일 LIVE.,11.30,  송식당-송하영-,-,12.04,  들어오덩가 말덩가😛-송하영, 박지원, 이나경-,-,   추워☃️(지금 내 마음)  ❄️☃️❄️☃️   ❄️☃️❄️☃️  ❄️☃️❄️☃️   ❄️☃️❄️☃️-이채영-,하영, 지원의 찬조 출연 및 통신 장애로 인한 재연결.,12.05,   🍀💕🍀💕-이채영-,12.04 VOICE ONLY의 연장 및 개인 LIVE 중 도합해서 3시간 43분에 달하는 최장 기록을 달성했다.,  월요일 좋아아\\U0001fae4   월요일 냔냐\\U0001fae4   ㅁ..마무리-노지선-,-,  🍀-백지헌-,-,12.06,   ❄️❄️❄️-백지헌-,-,12.07,  그냥그냥그냥😮   그냥그냥그냥🤔-노지선-,통신 장애로 인한 재연결.,  진짜 잠깐🎁-송하영-,-,12.08,   😬-노지선-,-,12.09,   잘자🌙-송하영-,지원의 찬조 출연.,   브이로그 후기🍀-송하영-,지원의 LIVE 중간에 합류.,12.10,   여어 👋   여-이서연-,프로그램 오류로 재연결.,12.11,   자니?-이채영-,-,   🧑🏻\\u200d🎤-노지선-,-,12.13,   잘자🌙-송하영-,지원의 찬조 출연.,12.14,  💃🕺-이채영, 백지헌-,지원, 나경의 찬조 출연.,12.15,  헌챙-이나경, 백지헌-,12.14 LIVE의 연장 및 배터리 소진으로 인한 재연결.,   ㅂㅂㄷㅇ🍮-이나경-,-,12.19,   잘자🌙-송하영-,-,12.21,   🥶-노지선-,-,  머하냥☘️☘️-송하영, 이채영-,다시보기 삭제.,12.22,   ♥️🖤-노지선-,-,12.23,   ☃️🧣🐿-박지원-,-,12.25,  🎄🎄-송하영-,-,12.27,  💤💤  🍒🍒-이채영-,ONLY 전환을 위한 재연결. 하영의 찬조 출연.,12.28,  🍒🍒-이채영-,지원의 찬조 출연.,  !!!!!!!!-전원-,-,  😁😁-백지헌-,-,12.29,   수다 떨 사람🙌-이서연-,-,   🛌💤-박지원-,-,12.31,  ⭐️2022⭐️  🏆2022🏆-백지헌-,ONLY 전환을 위한 재연결.,'),\n",
              "  Document(metadata={'page_url': 'https://namu.wiki/w/프로미스나인', 'artist_info': 'FROMIS_9', 'toc_item': '외국 국적', 'abs_page_toc_item': '팬덤//flover인 유명인/외국 국적', 'parent_paper': '팬덤'}, page_content='page_content: 마시로Kep1er. 콘서트에 찾아와 울기까지 하고 케바케 식당에 프로미스나인 멤버들이 게스트로 나갔을때 번호도 교환했다. #  아사이 나나미AKB48. 최애는 백지헌. 과거 악수회에서 언급도 했으며 2020년 9월 백지헌이 개인 인스타그램 계정을 생성한 이후 팔로우하고 매일 좋아요를 누르고 있다.  와타나베 미유키방송에서 IZ*ONE과 함께 좋아한다고 밝혔다.  코조노 켄타일본 요코하마 DeNA 베이스타즈 소속 선수. 토쿠야마 소마의 영향으로 팬이 된걸로 보이며 인스타그램 스토리에 DM 엠카운트다운 무대를 보고 있는 모습을 올렸다. # 여기서 그치지 않고 자신이 등판할 때 나오는 등장곡으로 아예 Stay This Way를 쓰기까지 한다!# 이후 자신의 SNS 계정에 그룹 홍보까지 하는 정성도 보여주며 팬심을 드러냈다. 최애는 백지헌이고 차애는 이나경을 좋아한다. '),\n",
              "  Document(metadata={'page_url': 'https://namu.wiki/w/프로미스나인', 'artist_info': 'FROMIS_9', 'toc_item': '2020년', 'abs_page_toc_item': '활동/YouTube//타 채널/2020년', 'parent_paper': 'YouTube'}, page_content=\"page_content:   2020년 YouTube by fromis_9,날짜,채널,콘텐츠,출연,07.27,,  [#사이코지만괜찮아\\xa0세로직캠] 인간레모나 장규리의 모닝댄스 Full ver. 귤죽이의 아이돌 바이브 뿜뿜이라서 살려왔습니다,, ,장규리,09.18,,  [4K] 이 노래 듣고 시원해서 가을인가 했더니 진짜 가을이네요 🌀🍂🌀ㅣ프로미스나인ㅣLOVE BOMB → FUN! → Feel Good (SECRET CODE)ㅣ낰낰낰,이서연 외 전원,09.21,,  BTS, 슈퍼주니어, 영탁까지 커버하는 춤신춤왕!! 어나더클라쓰~ 프로미스나인! ㅋㅋㅋ [아이돌챌린지] - fromis_9,이서연 외 전원,09.22,,  [릴레이댄스] 프로미스나인 (fromis_9) - Feel Good (4K),이서연 외 전원,09.24,,  (Ep.6-1) 美친 예능감 폭발! 프로미스나인~~ BTS, 슈주 댄스 따라잡기 ^^,이서연 외 전원,09.24,,  [썸썸썸] 프로미스나인, Feel Good 썸네일 차지하려고 불도저 빙의하다? | fromis_9 - Feel Good | 썸네일 쟁탈전,이서연 외 전원,09.25,,  [팅글인터뷰] ASMR로 듣는 '지선&새롬이 최근 가장 Feel Good 했던 순간은?' | 프로미스나인 노지선&이새롬 편,이새롬, 노지선,09.26,,  [퇴근길 LIVE] Feel Good! Menu Good! 이 구역 맛.잘.알은 나야👍 프로미스나인의 퇴근길 현장❤,이서연 외 전원,09.28,STAR PLUS,  프로미스나인이 직접 풀어본 '필 굿' 스피드 퀴즈 EP.1 (fromis_9 'Feel Good' Speed Quiz) [K-POP PLUS],이서연 외 전원,09.29,,  [Broken Karaoke] fromis_9 - Feel Good (SECRET CODE) 노래가 잘 안들려서 안경을 썼더니 프로미스나인 넘나 필쏘굿 [고장난노래방/통통TV],이서연 외 전원,09.29,,  Ear Massage with Make Up Tools 👂 ASMR Full Ver. | 프로미스나인 노지선&이새롬 | [팅글인터뷰],이새롬, 노지선,10.01,,  (Ep.6-2) 이것이 찐이다! ㅋㅋㅋ BTS, 슈주, 영탁까지...커버댄스 접수!! 프로미스나인의 예능 정복기 [Idol Challenge- fromis_9],이서연 외 전원,10.02,,  역대급 고생에 인부 세명 투입?! 말 많은 형 KCM도 침묵하게 했다는 고생 대풍년🍎 사과농장 알바 리뷰(ft. 장규리 & KCM) | 워크맨 ep.70,장규리,10.03,STAR PLUS,  프로미스나인이 직접 쓴 입덕 프로필 EP.2 (fromis_9 NEW Profile) [K-POP PLUS],이서연 외 전원,10.03,,  [릴레이댄스 어게인] 프로미스나인(fromis_9) - So Hot (Original song by. Wonder Girls) (4K),이서연 외 전원,10.06,STAR PLUS,  프로미스나인 음식 ASMR 퀴즈하다가 단체로 강아지 된 사연 (Feat. 고통받는 지선) EP.3 (fromis_9 ASMR Quiz) [K-POP PLUS],이서연 외 전원,10.10,,  [짜릿한인터뷰] Fromis_9 멤버를 너무 사랑해서 가만둘 수 없는 극딜장인 프나 궁금하다면 follow~ [통통TV],장규리, 이채영, 이나경,10.14,,  [엠카 댄스 챌린지 풀버전] 프로미스나인(fromis_9) - Growl ♬,이서연 외 전원,10.14,,  [수고했어, 오늘도] 프로미스나인와 함께하는 쇼챔피언 퇴근길♥ㅣ프로미스나인(fromis_9) l #쇼챔피언 l EP.374,이서연 외 전원,10.15,,  [짜릿한 인터뷰] Fromis_9 마! 프나가! 어! 랩도 하고! 어! ASMR도 하고 어! 다 했어! [Thrilling Interview/통통TV],송하영, 박지원, 노지선,10.21,,  [엠카 댄스 챌린지 풀버전] 프로미스나인(fromis_9) - 캔디(Candy) ♬,이서연 외 전원,11.12,,  [2020 MAMA] Star Countdown D-24 by fromis_9,이서연 외 전원,11.12,,  😭진짜 울어?! 프로미스나인이 밥 먹다가 난데없이 눈물파티 한 사연ㅠㅠㅠㅣ새롬 지선 하영 [보라다방] EP15,이새롬, 송하영, 노지선,11.24,,  시청률 하락의 9시뉴스를 살려라💥프로미스나인과 보도국기자님들의 대결👊[인생주식회사2] EP.2,이서연 외 전원,12.05,,  [라면의 神] 스페셜 [찐경규],장규리,12.21,,  [코요일상] 요즘 가장 핫하다는 유튜브 대세 들을 만났습니다 - (초보 유튜버 김종민 참교육 받고 온 날...),장규리, 노지선,12.24,,  슈퍼주니어, 신동 vs 동해가 노래방에서 만났다? 저 세상 텐션 UP![Idol_Challenge ep.1],송하영, 박지원,이채영, 백지헌,12.31,,  슈퍼주니어 15주년, 프로미들의 헌정공연(?) 이것이 진정 칼군무입니까? ㅋㅋㅋ [Idol_Challenge SuperJunior ep.1-2],송하영, 박지원,이채영, 백지헌,\"),\n",
              "  Document(metadata={'page_url': 'https://namu.wiki/w/프로미스나인', 'artist_info': 'FROMIS_9', 'toc_item': 'PROFILE', 'abs_page_toc_item': '활동/Weverse//PROFILE', 'parent_paper': 'Weverse'}, page_content='page_content: 프로미스나인/Weverse,,입점일,2021년 9월 6일 (+1069일),첫 LIVE,2022년 7월 18일 (+754일),가입자 수,54.8만 명(#fn-%ea%b8%b0%ec%a4%80; 2024년 8월 9일 (KST))링크,,'),\n",
              "  Document(metadata={'page_url': 'https://namu.wiki/w/프로미스나인', 'artist_info': 'FROMIS_9', 'toc_item': '콘텐츠', 'abs_page_toc_item': '활동/V LIVE//콘텐츠', 'parent_paper': 'V LIVE'}, page_content='page_content: 다음 문서로 대체 설명: https://namu.wiki/w/%ED%94%84%EB%A1%9C%EB%AF%B8%EC%8A%A4%EB%82%98%EC%9D%B8/%EC%BD%98%ED%85%90%EC%B8%A0'),\n",
              "  Document(metadata={'page_url': 'https://namu.wiki/w/프로미스나인', 'artist_info': 'FROMIS_9', 'toc_item': '2022년', 'abs_page_toc_item': '활동/광고 및 화보//화보/2022년', 'parent_paper': '광고 및 화보'}, page_content='page_content: ,,,,이새롬,,,,,송하영,,,,,장규리,,,,,박지원,,,,,노지선,,,,,이서연,,,,,이채영,,,,,이나경,,,,,백지헌, ,,,,백지헌, ,,,송하영,장규리,노지선,,,,이서연,이채영,이나경,'),\n",
              "  Document(metadata={'page_url': 'https://namu.wiki/w/프로미스나인', 'artist_info': 'FROMIS_9', 'toc_item': '4인 이상', 'abs_page_toc_item': '멤버/멤버 간 케미//목록/4인 이상', 'parent_paper': '멤버 간 케미'}, page_content=\"page_content: 향기즈 (♥) - 이새롬 & 노지선 & 이서연 & 이나경2021년 기준 옛 숙소의 2층 4인실 룸메이트 조합이다. 네 명 모두 비슷한 분위기에 디퓨저, 향초같은 방향 제품를 애정하는지라 채널나인 In The HOUSE '룸메이트와 산다 Part.3에서 채영이 2층에만 올라가면 항상 냄새가 난다며 지어줬다.  성인즈 - 이새롬 & 송하영 & 박지원 & 노지선2018년에 성인이었던 4명을 일컫는 말이다. 2019년에는 이서연, 이채영, 이나경, 2022년부터는 백지헌이 성인이 되면서 해당 케미 역시 사라졌다. 90년대즈라고 부르자 20세기 소녀들 \"),\n",
              "  Document(metadata={'page_url': 'https://namu.wiki/w/프로미스나인', 'artist_info': 'FROMIS_9', 'toc_item': '자체 콘텐츠', 'abs_page_toc_item': '활동//자체 콘텐츠', 'parent_paper': '활동'}, page_content='page_content: 다음 문서로 대체 설명: https://namu.wiki/w/%ED%94%84%EB%A1%9C%EB%AF%B8%EC%8A%A4%EB%82%98%EC%9D%B8/%EC%BD%98%ED%85%90%EC%B8%A0'),\n",
              "  Document(metadata={'page_url': 'https://namu.wiki/w/프로미스나인', 'artist_info': 'FROMIS_9', 'toc_item': 'Talk & Talk', 'abs_page_toc_item': '팬덤/응원법//스페셜 싱글 《Talk & Talk》/Talk & Talk', 'parent_paper': '응원법'}, page_content='page_content: '),\n",
              "  Document(metadata={'page_url': 'https://namu.wiki/w/프로미스나인', 'artist_info': 'FROMIS_9', 'toc_item': 'DM', 'abs_page_toc_item': '팬덤/응원법//미니 4집 《Midnight Guest》/DM', 'parent_paper': '응원법'}, page_content='page_content: '),\n",
              "  Document(metadata={'page_url': 'https://namu.wiki/w/프로미스나인', 'artist_info': 'FROMIS_9', 'toc_item': '두근두근(DKDK)', 'abs_page_toc_item': '팬덤/응원법//미니 2집 《To. Day》/두근두근(DKDK)', 'parent_paper': '응원법'}, page_content='page_content: '),\n",
              "  Document(metadata={'page_url': 'https://namu.wiki/w/프로미스나인', 'artist_info': 'FROMIS_9', 'toc_item': '상세 이미지', 'abs_page_toc_item': '팬덤/굿즈//응원봉/상세 이미지', 'parent_paper': '굿즈'}, page_content='page_content: '),\n",
              "  Document(metadata={'page_url': 'https://namu.wiki/w/프로미스나인', 'artist_info': 'FROMIS_9', 'toc_item': 'LOVE BOMB', 'abs_page_toc_item': '팬덤/응원법//스페셜 싱글 《From.9》/LOVE BOMB', 'parent_paper': '응원법'}, page_content='page_content: '),\n",
              "  Document(metadata={'page_url': 'https://namu.wiki/w/프로미스나인', 'artist_info': 'FROMIS_9', 'toc_item': 'To Heart', 'abs_page_toc_item': '팬덤/응원법//미니 1집 《To. Heart》/To Heart', 'parent_paper': '응원법'}, page_content='page_content: '),\n",
              "  Document(metadata={'page_url': 'https://namu.wiki/w/프로미스나인', 'artist_info': 'FROMIS_9', 'toc_item': 'FOOTNOTES', 'abs_page_toc_item': '활동/광고 및 화보//FOOTNOTES', 'parent_paper': '광고 및 화보'}, page_content='page_content: '),\n",
              "  Document(metadata={'page_url': 'https://namu.wiki/w/프로미스나인', 'artist_info': 'FROMIS_9', 'toc_item': '22세기 소녀', 'abs_page_toc_item': '팬덤/응원법//미니 2집 《To. Day》/22세기 소녀', 'parent_paper': '응원법'}, page_content='page_content: '),\n",
              "  Document(metadata={'page_url': 'https://namu.wiki/w/프로미스나인', 'artist_info': 'FROMIS_9', 'toc_item': 'FUN!', 'abs_page_toc_item': '팬덤/응원법//싱글 1집 《FUN FACTORY》/FUN!', 'parent_paper': '응원법'}, page_content='page_content: '),\n",
              "  Document(metadata={'page_url': 'https://namu.wiki/w/프로미스나인', 'artist_info': 'FROMIS_9', 'toc_item': '환상속의 그대', 'abs_page_toc_item': '팬덤/응원법//미니 1집 《To. Heart》/환상속의 그대', 'parent_paper': '응원법'}, page_content='page_content: '),\n",
              "  Document(metadata={'page_url': 'https://namu.wiki/w/프로미스나인', 'artist_info': 'FROMIS_9', 'toc_item': 'FOOTNOTES', 'abs_page_toc_item': '활동/음악 방송/무대 의상//FOOTNOTES', 'parent_paper': '무대 의상'}, page_content='page_content: '),\n",
              "  Document(metadata={'page_url': 'https://namu.wiki/w/프로미스나인', 'artist_info': 'FROMIS_9', 'toc_item': 'LOVE RUMPUMPUM', 'abs_page_toc_item': '팬덤/응원법//싱글 1집 《FUN FACTORY》/LOVE RUMPUMPUM', 'parent_paper': '응원법'}, page_content='page_content: '),\n",
              "  Document(metadata={'page_url': 'https://namu.wiki/w/프로미스나인', 'artist_info': 'FROMIS_9', 'toc_item': 'Stay This Way', 'abs_page_toc_item': '팬덤/응원법//미니 5집 《from our Memento Box》/Stay This Way', 'parent_paper': '응원법'}, page_content='page_content: '),\n",
              "  Document(metadata={'page_url': 'https://namu.wiki/w/프로미스나인', 'artist_info': 'FROMIS_9', 'toc_item': 'FOOTNOTES', 'abs_page_toc_item': '논란 및 사건 사고//FOOTNOTES', 'parent_paper': '논란 및 사건 사고'}, page_content='page_content: '),\n",
              "  Document(metadata={'page_url': 'https://namu.wiki/w/프로미스나인', 'artist_info': 'FROMIS_9', 'toc_item': 'FOOTNOTES', 'abs_page_toc_item': '팬덤/응원법//FOOTNOTES', 'parent_paper': '응원법'}, page_content='page_content: '),\n",
              "  Document(metadata={'page_url': 'https://namu.wiki/w/프로미스나인', 'artist_info': 'FROMIS_9', 'toc_item': '#menow', 'abs_page_toc_item': '팬덤/응원법//정규 1집 《Unlock My World》/#menow', 'parent_paper': '응원법'}, page_content='page_content: '),\n",
              "  Document(metadata={'page_url': 'https://namu.wiki/w/프로미스나인', 'artist_info': 'FROMIS_9', 'toc_item': '방송 직캠', 'abs_page_toc_item': '활동/음악 방송/방송 직캠', 'parent_paper': ''}, page_content='page_content: '),\n",
              "  Document(metadata={'page_url': 'https://namu.wiki/w/프로미스나인', 'artist_info': 'FROMIS_9', 'toc_item': 'WE GO', 'abs_page_toc_item': '팬덤/응원법//싱글 2집 《9 WAY TICKET》/WE GO', 'parent_paper': '응원법'}, page_content='page_content: '),\n",
              "  Document(metadata={'page_url': 'https://namu.wiki/w/프로미스나인', 'artist_info': 'FROMIS_9', 'toc_item': '상세 이미지', 'abs_page_toc_item': '팬덤/굿즈//HAPPY DAY - Birthday/상세 이미지', 'parent_paper': '굿즈'}, page_content='page_content: '),\n",
              "  Document(metadata={'page_url': 'https://namu.wiki/w/프로미스나인', 'artist_info': 'FROMIS_9', 'toc_item': '유리구두', 'abs_page_toc_item': '팬덤/응원법//선공개 싱글 《유리구두》/유리구두', 'parent_paper': '응원법'}, page_content='page_content: '),\n",
              "  Document(metadata={'page_url': 'https://namu.wiki/w/프로미스나인', 'artist_info': 'FROMIS_9', 'toc_item': '상세 이미지', 'abs_page_toc_item': '팬덤//응원봉/상세 이미지', 'parent_paper': '팬덤'}, page_content='page_content: '),\n",
              "  Document(metadata={'page_url': 'https://namu.wiki/w/프로미스나인', 'artist_info': 'FROMIS_9', 'toc_item': 'Feel Good (SECRET CODE)', 'abs_page_toc_item': '팬덤/응원법//미니 3집 《My Little Society》/Feel Good (SECRET CODE)', 'parent_paper': '응원법'}, page_content='page_content: '),\n",
              "  Document(metadata={'page_url': 'https://namu.wiki/w/프로미스나인', 'artist_info': 'FROMIS_9', 'toc_item': '현장 판매 전용', 'abs_page_toc_item': '팬덤/굿즈//콘서트/2022 fromis_9 Concert <LOVE FROM.> IN JAPAN/현장 판매 전용', 'parent_paper': '굿즈'}, page_content='page_content:  ,'),\n",
              "  Document(metadata={'page_url': 'https://namu.wiki/w/프로미스나인', 'artist_info': 'FROMIS_9', 'toc_item': 'grn+', 'abs_page_toc_item': '활동/광고 및 화보//광고/grn+', 'parent_paper': '광고 및 화보'}, page_content='page_content:  ,'),\n",
              "  Document(metadata={'page_url': 'https://namu.wiki/w/프로미스나인', 'artist_info': 'FROMIS_9', 'toc_item': '음악 방송 1위', 'abs_page_toc_item': '수상 경력//음악 방송 1위', 'parent_paper': '수상 경력'}, page_content='page_content: 해당 섹션에 대한 설명이 없거나 하위 문서로 대체됩니다.'),\n",
              "  Document(metadata={'page_url': 'https://namu.wiki/w/프로미스나인', 'artist_info': 'FROMIS_9', 'toc_item': '2021년', 'abs_page_toc_item': '활동/음악 방송//2021년', 'parent_paper': '음악 방송'}, page_content='page_content: 해당 섹션에 대한 설명이 없거나 하위 문서로 대체됩니다.'),\n",
              "  Document(metadata={'page_url': 'https://namu.wiki/w/프로미스나인', 'artist_info': 'FROMIS_9', 'toc_item': '싱글', 'abs_page_toc_item': '음반//해외 음반/싱글', 'parent_paper': '음반'}, page_content='page_content: 해당 섹션에 대한 설명이 없거나 하위 문서로 대체됩니다.'),\n",
              "  Document(metadata={'page_url': 'https://namu.wiki/w/프로미스나인', 'artist_info': 'FROMIS_9', 'toc_item': '미니 5집 《from our Memento Box》', 'abs_page_toc_item': '팬덤/응원법//미니 5집 《from our Memento Box》', 'parent_paper': '응원법'}, page_content='page_content: 해당 섹션에 대한 설명이 없거나 하위 문서로 대체됩니다.'),\n",
              "  Document(metadata={'page_url': 'https://namu.wiki/w/프로미스나인', 'artist_info': 'FROMIS_9', 'toc_item': '2022 fromis_9 Concert <LOVE FROM.> IN JAPAN', 'abs_page_toc_item': '팬덤/굿즈//콘서트/2022 fromis_9 Concert <LOVE FROM.> IN JAPAN', 'parent_paper': '굿즈'}, page_content='page_content: 해당 섹션에 대한 설명이 없거나 하위 문서로 대체됩니다.'),\n",
              "  Document(metadata={'page_url': 'https://namu.wiki/w/프로미스나인', 'artist_info': 'FROMIS_9', 'toc_item': '그룹', 'abs_page_toc_item': '논란 및 사건 사고//그룹', 'parent_paper': '논란 및 사건 사고'}, page_content='page_content: 해당 섹션에 대한 설명이 없거나 하위 문서로 대체됩니다.'),\n",
              "  Document(metadata={'page_url': 'https://namu.wiki/w/프로미스나인', 'artist_info': 'FROMIS_9', 'toc_item': '前 멤버', 'abs_page_toc_item': '논란 및 사건 사고//前 멤버', 'parent_paper': '논란 및 사건 사고'}, page_content='page_content: 해당 섹션에 대한 설명이 없거나 하위 문서로 대체됩니다.'),\n",
              "  Document(metadata={'page_url': 'https://namu.wiki/w/프로미스나인', 'artist_info': 'FROMIS_9', 'toc_item': '시즌 그리팅', 'abs_page_toc_item': '팬덤/굿즈//시즌 그리팅', 'parent_paper': '굿즈'}, page_content='page_content: 해당 섹션에 대한 설명이 없거나 하위 문서로 대체됩니다.'),\n",
              "  Document(metadata={'page_url': 'https://namu.wiki/w/프로미스나인', 'artist_info': 'FROMIS_9', 'toc_item': '2017년', 'abs_page_toc_item': '활동/음악 방송//2017년', 'parent_paper': '음악 방송'}, page_content='page_content: 해당 섹션에 대한 설명이 없거나 하위 문서로 대체됩니다.'),\n",
              "  Document(metadata={'page_url': 'https://namu.wiki/w/프로미스나인', 'artist_info': 'FROMIS_9', 'toc_item': '개인', 'abs_page_toc_item': '논란 및 사건 사고//개인', 'parent_paper': '논란 및 사건 사고'}, page_content='page_content: 해당 섹션에 대한 설명이 없거나 하위 문서로 대체됩니다.'),\n",
              "  Document(metadata={'page_url': 'https://namu.wiki/w/프로미스나인', 'artist_info': 'FROMIS_9', 'toc_item': '무대 의상', 'abs_page_toc_item': '활동/음악 방송/무대 의상//무대 의상', 'parent_paper': '무대 의상'}, page_content='page_content: 해당 섹션에 대한 설명이 없거나 하위 문서로 대체됩니다.'),\n",
              "  Document(metadata={'page_url': 'https://namu.wiki/w/프로미스나인', 'artist_info': 'FROMIS_9', 'toc_item': '싱글', 'abs_page_toc_item': '음반//국내 음반/싱글', 'parent_paper': '음반'}, page_content='page_content: 해당 섹션에 대한 설명이 없거나 하위 문서로 대체됩니다.'),\n",
              "  Document(metadata={'page_url': 'https://namu.wiki/w/프로미스나인', 'artist_info': 'FROMIS_9', 'toc_item': '약속회', 'abs_page_toc_item': '팬덤/굿즈//약속회', 'parent_paper': '굿즈'}, page_content='page_content: 해당 섹션에 대한 설명이 없거나 하위 문서로 대체됩니다.'),\n",
              "  Document(metadata={'page_url': 'https://namu.wiki/w/프로미스나인', 'artist_info': 'FROMIS_9', 'toc_item': '방송 활동', 'abs_page_toc_item': '활동//방송 활동', 'parent_paper': '활동'}, page_content='page_content: 해당 섹션에 대한 설명이 없거나 하위 문서로 대체됩니다.'),\n",
              "  Document(metadata={'page_url': 'https://namu.wiki/w/프로미스나인', 'artist_info': 'FROMIS_9', 'toc_item': '미니 4집 《Midnight Guest》', 'abs_page_toc_item': '팬덤/응원법//미니 4집 《Midnight Guest》', 'parent_paper': '응원법'}, page_content='page_content: 해당 섹션에 대한 설명이 없거나 하위 문서로 대체됩니다.'),\n",
              "  Document(metadata={'page_url': 'https://namu.wiki/w/프로미스나인', 'artist_info': 'FROMIS_9', 'toc_item': 'flover인 유명인', 'abs_page_toc_item': '팬덤//flover인 유명인', 'parent_paper': '팬덤'}, page_content='page_content: 해당 섹션에 대한 설명이 없거나 하위 문서로 대체됩니다.'),\n",
              "  Document(metadata={'page_url': 'https://namu.wiki/w/프로미스나인', 'artist_info': 'FROMIS_9', 'toc_item': '팬미팅', 'abs_page_toc_item': '팬덤/굿즈//팬미팅', 'parent_paper': '굿즈'}, page_content='page_content: 해당 섹션에 대한 설명이 없거나 하위 문서로 대체됩니다.'),\n",
              "  Document(metadata={'page_url': 'https://namu.wiki/w/프로미스나인', 'artist_info': 'FROMIS_9', 'toc_item': '싱글 1집 《FUN FACTORY》', 'abs_page_toc_item': '팬덤/응원법//싱글 1집 《FUN FACTORY》', 'parent_paper': '응원법'}, page_content='page_content: 해당 섹션에 대한 설명이 없거나 하위 문서로 대체됩니다.'),\n",
              "  Document(metadata={'page_url': 'https://namu.wiki/w/프로미스나인', 'artist_info': 'FROMIS_9', 'toc_item': '2018년', 'abs_page_toc_item': '활동/음악 방송//2018년', 'parent_paper': '음악 방송'}, page_content='page_content: 해당 섹션에 대한 설명이 없거나 하위 문서로 대체됩니다.'),\n",
              "  Document(metadata={'page_url': 'https://namu.wiki/w/프로미스나인', 'artist_info': 'FROMIS_9', 'toc_item': '2019년', 'abs_page_toc_item': '활동/음악 방송//2019년', 'parent_paper': '음악 방송'}, page_content='page_content: 해당 섹션에 대한 설명이 없거나 하위 문서로 대체됩니다.'),\n",
              "  Document(metadata={'page_url': 'https://namu.wiki/w/프로미스나인', 'artist_info': 'FROMIS_9', 'toc_item': '스페셜 싱글 《Talk & Talk》', 'abs_page_toc_item': '팬덤/응원법//스페셜 싱글 《Talk & Talk》', 'parent_paper': '응원법'}, page_content='page_content: 해당 섹션에 대한 설명이 없거나 하위 문서로 대체됩니다.'),\n",
              "  Document(metadata={'page_url': 'https://namu.wiki/w/프로미스나인', 'artist_info': 'FROMIS_9', 'toc_item': '여담', 'abs_page_toc_item': '활동/음악 방송/무대 의상//여담', 'parent_paper': '무대 의상'}, page_content='page_content: 해당 섹션에 대한 설명이 없거나 하위 문서로 대체됩니다.'),\n",
              "  Document(metadata={'page_url': 'https://namu.wiki/w/프로미스나인', 'artist_info': 'FROMIS_9', 'toc_item': '정규', 'abs_page_toc_item': '음반//국내 음반/정규', 'parent_paper': '음반'}, page_content='page_content: 해당 섹션에 대한 설명이 없거나 하위 문서로 대체됩니다.'),\n",
              "  Document(metadata={'page_url': 'https://namu.wiki/w/프로미스나인', 'artist_info': 'FROMIS_9', 'toc_item': '특징', 'abs_page_toc_item': '특징', 'parent_paper': ''}, page_content='page_content: 해당 섹션에 대한 설명이 없거나 하위 문서로 대체됩니다.'),\n",
              "  Document(metadata={'page_url': 'https://namu.wiki/w/프로미스나인', 'artist_info': 'FROMIS_9', 'toc_item': '2024', 'abs_page_toc_item': '팬덤/굿즈//시즌 그리팅/2024', 'parent_paper': '굿즈'}, page_content='page_content: 해당 섹션에 대한 설명이 없거나 하위 문서로 대체됩니다.'),\n",
              "  Document(metadata={'page_url': 'https://namu.wiki/w/프로미스나인', 'artist_info': 'FROMIS_9', 'toc_item': '해외 음반', 'abs_page_toc_item': '음반//해외 음반', 'parent_paper': '음반'}, page_content='page_content: 해당 섹션에 대한 설명이 없거나 하위 문서로 대체됩니다.'),\n",
              "  Document(metadata={'page_url': 'https://namu.wiki/w/프로미스나인', 'artist_info': 'FROMIS_9', 'toc_item': '2023년', 'abs_page_toc_item': '활동/음악 방송//2023년', 'parent_paper': '음악 방송'}, page_content='page_content: 해당 섹션에 대한 설명이 없거나 하위 문서로 대체됩니다.'),\n",
              "  Document(metadata={'page_url': 'https://namu.wiki/w/프로미스나인', 'artist_info': 'FROMIS_9', 'toc_item': '국내 음반', 'abs_page_toc_item': '음반//국내 음반', 'parent_paper': '음반'}, page_content='page_content: 해당 섹션에 대한 설명이 없거나 하위 문서로 대체됩니다.'),\n",
              "  Document(metadata={'page_url': 'https://namu.wiki/w/프로미스나인', 'artist_info': 'FROMIS_9', 'toc_item': '타 채널', 'abs_page_toc_item': '활동/YouTube//타 채널', 'parent_paper': 'YouTube'}, page_content='page_content: 해당 섹션에 대한 설명이 없거나 하위 문서로 대체됩니다.'),\n",
              "  Document(metadata={'page_url': 'https://namu.wiki/w/프로미스나인', 'artist_info': 'FROMIS_9', 'toc_item': '선공개 싱글 《유리구두》', 'abs_page_toc_item': '팬덤/응원법//선공개 싱글 《유리구두》', 'parent_paper': '응원법'}, page_content='page_content: 해당 섹션에 대한 설명이 없거나 하위 문서로 대체됩니다.'),\n",
              "  Document(metadata={'page_url': 'https://namu.wiki/w/프로미스나인', 'artist_info': 'FROMIS_9', 'toc_item': 'LIVE', 'abs_page_toc_item': '활동/V LIVE//LIVE', 'parent_paper': 'V LIVE'}, page_content='page_content: 해당 섹션에 대한 설명이 없거나 하위 문서로 대체됩니다.'),\n",
              "  Document(metadata={'page_url': 'https://namu.wiki/w/프로미스나인', 'artist_info': 'FROMIS_9', 'toc_item': '미니 3집 《My Little Society》', 'abs_page_toc_item': '팬덤/응원법//미니 3집 《My Little Society》', 'parent_paper': '응원법'}, page_content='page_content: 해당 섹션에 대한 설명이 없거나 하위 문서로 대체됩니다.'),\n",
              "  Document(metadata={'page_url': 'https://namu.wiki/w/프로미스나인', 'artist_info': 'FROMIS_9', 'toc_item': '2020년', 'abs_page_toc_item': '활동/음악 방송//2020년', 'parent_paper': '음악 방송'}, page_content='page_content: 해당 섹션에 대한 설명이 없거나 하위 문서로 대체됩니다.'),\n",
              "  Document(metadata={'page_url': 'https://namu.wiki/w/프로미스나인', 'artist_info': 'FROMIS_9', 'toc_item': '이새롬', 'abs_page_toc_item': '논란 및 사건 사고//개인/이새롬', 'parent_paper': '논란 및 사건 사고'}, page_content='page_content: 해당 섹션에 대한 설명이 없거나 하위 문서로 대체됩니다.'),\n",
              "  Document(metadata={'page_url': 'https://namu.wiki/w/프로미스나인', 'artist_info': 'FROMIS_9', 'toc_item': '미니 2집 《To. Day》', 'abs_page_toc_item': '팬덤/응원법//미니 2집 《To. Day》', 'parent_paper': '응원법'}, page_content='page_content: 해당 섹션에 대한 설명이 없거나 하위 문서로 대체됩니다.'),\n",
              "  Document(metadata={'page_url': 'https://namu.wiki/w/프로미스나인', 'artist_info': 'FROMIS_9', 'toc_item': 'flover MEMBERSHIP', 'abs_page_toc_item': '팬덤//flover MEMBERSHIP', 'parent_paper': '팬덤'}, page_content='page_content: 해당 섹션에 대한 설명이 없거나 하위 문서로 대체됩니다.'),\n",
              "  Document(metadata={'page_url': 'https://namu.wiki/w/프로미스나인', 'artist_info': 'FROMIS_9', 'toc_item': '서든어택', 'abs_page_toc_item': '활동/광고 및 화보//광고/서든어택', 'parent_paper': '광고 및 화보'}, page_content='page_content: 해당 섹션에 대한 설명이 없거나 하위 문서로 대체됩니다.'),\n",
              "  Document(metadata={'page_url': 'https://namu.wiki/w/프로미스나인', 'artist_info': 'FROMIS_9', 'toc_item': '정규 1집 《Unlock My World》', 'abs_page_toc_item': '팬덤/응원법//정규 1집 《Unlock My World》', 'parent_paper': '응원법'}, page_content='page_content: 해당 섹션에 대한 설명이 없거나 하위 문서로 대체됩니다.'),\n",
              "  Document(metadata={'page_url': 'https://namu.wiki/w/프로미스나인', 'artist_info': 'FROMIS_9', 'toc_item': '2023', 'abs_page_toc_item': '팬덤/굿즈//시즌 그리팅/2023', 'parent_paper': '굿즈'}, page_content='page_content: 해당 섹션에 대한 설명이 없거나 하위 문서로 대체됩니다.'),\n",
              "  Document(metadata={'page_url': 'https://namu.wiki/w/프로미스나인', 'artist_info': 'FROMIS_9', 'toc_item': '이채영', 'abs_page_toc_item': '논란 및 사건 사고//개인/이채영', 'parent_paper': '논란 및 사건 사고'}, page_content='page_content: 해당 섹션에 대한 설명이 없거나 하위 문서로 대체됩니다.'),\n",
              "  Document(metadata={'page_url': 'https://namu.wiki/w/프로미스나인', 'artist_info': 'FROMIS_9', 'toc_item': 'SNS 활동', 'abs_page_toc_item': '활동//SNS 활동', 'parent_paper': '활동'}, page_content='page_content: 해당 섹션에 대한 설명이 없거나 하위 문서로 대체됩니다.'),\n",
              "  Document(metadata={'page_url': 'https://namu.wiki/w/프로미스나인', 'artist_info': 'FROMIS_9', 'toc_item': 'HAPPY DAY - Birthday', 'abs_page_toc_item': '팬덤/굿즈//HAPPY DAY - Birthday', 'parent_paper': '굿즈'}, page_content='page_content: 해당 섹션에 대한 설명이 없거나 하위 문서로 대체됩니다.'),\n",
              "  Document(metadata={'page_url': 'https://namu.wiki/w/프로미스나인', 'artist_info': 'FROMIS_9', 'toc_item': 'EP', 'abs_page_toc_item': '음반//국내 음반/EP', 'parent_paper': '음반'}, page_content='page_content: 해당 섹션에 대한 설명이 없거나 하위 문서로 대체됩니다.'),\n",
              "  Document(metadata={'page_url': 'https://namu.wiki/w/프로미스나인', 'artist_info': 'FROMIS_9', 'toc_item': 'LIVE', 'abs_page_toc_item': '활동/Weverse//LIVE', 'parent_paper': 'Weverse'}, page_content='page_content: 해당 섹션에 대한 설명이 없거나 하위 문서로 대체됩니다.'),\n",
              "  Document(metadata={'page_url': 'https://namu.wiki/w/프로미스나인', 'artist_info': 'FROMIS_9', 'toc_item': '스페셜 싱글 《From.9》', 'abs_page_toc_item': '팬덤/응원법//스페셜 싱글 《From.9》', 'parent_paper': '응원법'}, page_content='page_content: 해당 섹션에 대한 설명이 없거나 하위 문서로 대체됩니다.'),\n",
              "  Document(metadata={'page_url': 'https://namu.wiki/w/프로미스나인', 'artist_info': 'FROMIS_9', 'toc_item': '콘서트', 'abs_page_toc_item': '팬덤/굿즈//콘서트', 'parent_paper': '굿즈'}, page_content='page_content: 해당 섹션에 대한 설명이 없거나 하위 문서로 대체됩니다.'),\n",
              "  Document(metadata={'page_url': 'https://namu.wiki/w/프로미스나인', 'artist_info': 'FROMIS_9', 'toc_item': '앨범 관련 굿즈', 'abs_page_toc_item': '팬덤/굿즈//앨범 관련 굿즈', 'parent_paper': '굿즈'}, page_content='page_content: 해당 섹션에 대한 설명이 없거나 하위 문서로 대체됩니다.'),\n",
              "  Document(metadata={'page_url': 'https://namu.wiki/w/프로미스나인', 'artist_info': 'FROMIS_9', 'toc_item': '미니 1집 《To. Heart》', 'abs_page_toc_item': '팬덤/응원법//미니 1집 《To. Heart》', 'parent_paper': '응원법'}, page_content='page_content: 해당 섹션에 대한 설명이 없거나 하위 문서로 대체됩니다.'),\n",
              "  Document(metadata={'page_url': 'https://namu.wiki/w/프로미스나인', 'artist_info': 'FROMIS_9', 'toc_item': '싱글 2집 《9 WAY TICKET》', 'abs_page_toc_item': '팬덤/응원법//싱글 2집 《9 WAY TICKET》', 'parent_paper': '응원법'}, page_content='page_content: 해당 섹션에 대한 설명이 없거나 하위 문서로 대체됩니다.'),\n",
              "  Document(metadata={'page_url': 'https://namu.wiki/w/프로미스나인', 'artist_info': 'FROMIS_9', 'toc_item': '2022년', 'abs_page_toc_item': '활동/음악 방송//2022년', 'parent_paper': '음악 방송'}, page_content='page_content: 해당 섹션에 대한 설명이 없거나 하위 문서로 대체됩니다.'),\n",
              "  Document(metadata={'page_url': 'https://namu.wiki/w/프로미스나인', 'artist_info': 'FROMIS_9', 'toc_item': '연혁', 'abs_page_toc_item': '활동//연혁', 'parent_paper': '활동'}, page_content='page_content: 해당 섹션에 대한 설명이 없거나 하위 문서로 대체됩니다.')],\n",
              " 'pages': ['PROFILE', '개요', '멤버', '팬덤', '덕질'],\n",
              " 'metadatas': []}"
            ]
          },
          "execution_count": 76,
          "metadata": {},
          "output_type": "execute_result"
        }
      ],
      "source": [
        "graph.invoke({\"questions\":singer_queries, \"documents\":documents})"
      ]
    },
    {
      "cell_type": "code",
      "execution_count": null,
      "id": "O63S9gh1jxqs",
      "metadata": {
        "id": "O63S9gh1jxqs"
      },
      "outputs": [],
      "source": [
        "from langchain_core.messages import get_buffer_string\n",
        "\n",
        "import re\n",
        "import pandas as pd\n",
        "\n",
        "\n",
        "# 컬럼명 & 컬럼용 질문 Dict 생성\n",
        "singer_queries = {\n",
        "    \"ctry\":{\n",
        "        \"question\":\"활동 국가는?\",\n",
        "        \"format\":JsonOutputParser(pydantic_object=Ctry),\n",
        "      }, #???\n",
        "    \"gender\":{\"question\":\"인물의 성별을 유추하세요. (힌트: 보이그룹, 걸그룹, 혼성듀오, 형, 누나, 오빠)\",\n",
        "              \"format\":JsonOutputParser(pydantic_object=Gender),\n",
        "              \"loc\":\"개요\" #(솔로)PROFILE > 가족 or (그룹)개요\n",
        "    },\n",
        "    \"genre\": {\"question\":\"음악 장르는?\",\n",
        "              # \"format\":\"가장 관련성이 큰 장르 2개로 정리해줘. [장르 A, 장르 B]와 같이 쉼표로 구분된 한 줄로 출력하세요.\",\n",
        "              \"format\":JsonOutputParser(pydantic_object=Genre),\n",
        "              \"loc\":\"PROFILE\" #PROFILE > 장르\n",
        "    },\n",
        "    \"label_name\": {\"question\":\"엔터테인먼트 회사명은?\",\n",
        "                   \"format\":JsonOutputParser(pydantic_object=Label),\n",
        "                   \"loc\":\"PROFILE\" #PROFILE > 소속사\n",
        "    },\n",
        "    \"debut_date\": {\"question\":\"데뷔일자는?\",\n",
        "                   \"format\":JsonOutputParser(pydantic_object=Debut),\n",
        "                   \"loc\":\"PROFILE\" #PROFILE > 데뷔일\n",
        "    },\n",
        "    \"member_list\": {\"question\":\"문서에서 사람 이름을 모두 나열해주세요\",\n",
        "                    \"format\":JsonOutputParser(pydantic_object=MemberInfo),\n",
        "                    \"loc\":\"멤버\" #멤버\n",
        "    },\n",
        "    \"member_num\": {\"question\":\"문서에서 사람은 총 몇 명인가요?\",\n",
        "                   \"format\":JsonOutputParser(pydantic_object=MemberNumber),\n",
        "                   \"loc\":\"멤버\" #멤버\n",
        "    },\n",
        "    \"fandom_name\": {\"question\":\"팬덤명은?\",\n",
        "                    \"format\":JsonOutputParser(pydantic_object=Fandom),\n",
        "                    \"loc\":\"PROFILE\" #PROFILE > 팬덤\n",
        "    }\n",
        "}\n",
        "\n",
        "\n",
        "\n",
        "# Search query writing\n",
        "search_instructions = SystemMessage(content=f\"\"\"You will be given a conversation between an analyst and an expert.\n",
        "\n",
        "Your goal is to generate a well-structured query for use in retrieval and / or web-search related to the conversation.\n",
        "\n",
        "First, analyze the full conversation.\n",
        "\n",
        "Pay particular attention to the final question posed by the analyst.\n",
        "\n",
        "Convert this final question into a well-structured web search query\"\"\")\n",
        "\n",
        "def search_web(state: InterviewState):\n",
        "\n",
        "    \"\"\" Retrieve docs from web search \"\"\"\n",
        "\n",
        "    # Search query\n",
        "    structured_llm = llm.with_structured_output(SearchQuery)\n",
        "    search_query = structured_llm.invoke([search_instructions]+state['messages'])\n",
        "\n",
        "    # Search\n",
        "    search_docs = tavily_search.invoke(search_query.search_query)\n",
        "\n",
        "     # Format\n",
        "    formatted_search_docs = \"\\n\\n---\\n\\n\".join(\n",
        "        [\n",
        "            f'<Document href=\"{doc[\"url\"]}\"/>\\n{doc[\"content\"]}\\n</Document>'\n",
        "            for doc in search_docs\n",
        "        ]\n",
        "    )\n",
        "\n",
        "    return {\"context\": [formatted_search_docs]}\n",
        "\n",
        "def search_wikipedia(state: InterviewState):\n",
        "\n",
        "    \"\"\" Retrieve docs from wikipedia \"\"\"\n",
        "\n",
        "    # Search query\n",
        "    structured_llm = llm.with_structured_output(SearchQuery)\n",
        "    search_query = structured_llm.invoke([search_instructions]+state['messages'])\n",
        "\n",
        "    # Search\n",
        "    search_docs = WikipediaLoader(query=search_query.search_query,\n",
        "                                  load_max_docs=2).load()\n",
        "\n",
        "     # Format\n",
        "    formatted_search_docs = \"\\n\\n---\\n\\n\".join(\n",
        "        [\n",
        "            f'<Document source=\"{doc.metadata[\"source\"]}\" page=\"{doc.metadata.get(\"page\", \"\")}\"/>\\n{doc.page_content}\\n</Document>'\n",
        "            for doc in search_docs\n",
        "        ]\n",
        "    )\n",
        "\n",
        "    return {\"context\": [formatted_search_docs]}\n",
        "\n",
        "answer_instructions = \"\"\"You are an expert being interviewed by an analyst.\n",
        "\n",
        "Here is analyst area of focus: {goals}.\n",
        "\n",
        "You goal is to answer a question posed by the interviewer.\n",
        "\n",
        "To answer question, use this context:\n",
        "\n",
        "{context}\n",
        "\n",
        "When answering questions, follow these guidelines:\n",
        "\n",
        "1. Use only the information provided in the context.\n",
        "\n",
        "2. Do not introduce external information or make assumptions beyond what is explicitly stated in the context.\n",
        "\n",
        "3. The context contain sources at the topic of each individual document.\n",
        "\n",
        "4. Include these sources your answer next to any relevant statements. For example, for source # 1 use [1].\n",
        "\n",
        "5. List your sources in order at the bottom of your answer. [1] Source 1, [2] Source 2, etc\n",
        "\n",
        "6. If the source is: <Document source=\"assistant/docs/llama3_1.pdf\" page=\"7\"/>' then just list:\n",
        "\n",
        "[1] assistant/docs/llama3_1.pdf, page 7\n",
        "\n",
        "And skip the addition of the brackets as well as the Document source preamble in your citation.\"\"\"\n",
        "\n",
        "def generate_answer(state: InterviewState):\n",
        "\n",
        "    \"\"\" Node to answer a question \"\"\"\n",
        "\n",
        "    # Get state\n",
        "    analyst = state[\"analyst\"]\n",
        "    messages = state[\"messages\"]\n",
        "    context = state[\"context\"]\n",
        "\n",
        "    # Answer question\n",
        "    system_message = answer_instructions.format(goals=analyst.persona, context=context)\n",
        "    answer = llm.invoke([SystemMessage(content=system_message)]+messages)\n",
        "\n",
        "    # Name the message as coming from the expert\n",
        "    answer.name = \"expert\"\n",
        "\n",
        "    # Append it to state\n",
        "    return {\"messages\": [answer]}\n",
        "\n",
        "def save_interview(state: InterviewState):\n",
        "\n",
        "    \"\"\" Save interviews \"\"\"\n",
        "\n",
        "    # Get messages\n",
        "    messages = state[\"messages\"]\n",
        "\n",
        "    # Convert interview to a string\n",
        "    interview = get_buffer_string(messages)\n",
        "\n",
        "    # Save to interviews key\n",
        "    return {\"interview\": interview}\n",
        "\n",
        "def route_messages(state: InterviewState,\n",
        "                   name: str = \"expert\"):\n",
        "\n",
        "    \"\"\" Route between question and answer \"\"\"\n",
        "\n",
        "    # Get messages\n",
        "    messages = state[\"messages\"]\n",
        "    max_num_turns = state.get('max_num_turns',2)\n",
        "\n",
        "    # Check the number of expert answers\n",
        "    num_responses = len(\n",
        "        [m for m in messages if isinstance(m, AIMessage) and m.name == name]\n",
        "    )\n",
        "\n",
        "    # End if expert has answered more than the max turns\n",
        "    if num_responses >= max_num_turns:\n",
        "        return 'save_interview'\n",
        "\n",
        "    # This router is run after each question - answer pair\n",
        "    # Get the last question asked to check if it signals the end of discussion\n",
        "    last_question = messages[-2]\n",
        "\n",
        "    if \"Thank you so much for your help\" in last_question.content:\n",
        "        return 'save_interview'\n",
        "    return \"ask_question\"\n",
        "\n",
        "section_writer_instructions = \"\"\"You are an expert technical writer.\n",
        "\n",
        "Your task is to create a short, easily digestible section of a report based on a set of source documents.\n",
        "\n",
        "1. Analyze the content of the source documents:\n",
        "- The name of each source document is at the start of the document, with the <Document tag.\n",
        "\n",
        "2. Create a report structure using markdown formatting:\n",
        "- Use ## for the section title\n",
        "- Use ### for sub-section headers\n",
        "\n",
        "3. Write the report following this structure:\n",
        "a. Title (## header)\n",
        "b. Summary (### header)\n",
        "c. Sources (### header)\n",
        "\n",
        "4. Make your title engaging based upon the focus area of the analyst:\n",
        "{focus}\n",
        "\n",
        "5. For the summary section:\n",
        "- Set up summary with general background / context related to the focus area of the analyst\n",
        "- Emphasize what is novel, interesting, or surprising about insights gathered from the interview\n",
        "- Create a numbered list of source documents, as you use them\n",
        "- Do not mention the names of interviewers or experts\n",
        "- Aim for approximately 400 words maximum\n",
        "- Use numbered sources in your report (e.g., [1], [2]) based on information from source documents\n",
        "\n",
        "6. In the Sources section:\n",
        "- Include all sources used in your report\n",
        "- Provide full links to relevant websites or specific document paths\n",
        "- Separate each source by a newline. Use two spaces at the end of each line to create a newline in Markdown.\n",
        "- It will look like:\n",
        "\n",
        "### Sources\n",
        "[1] Link or Document name\n",
        "[2] Link or Document name\n",
        "\n",
        "7. Be sure to combine sources. For example this is not correct:\n",
        "\n",
        "[3] https://ai.meta.com/blog/meta-llama-3-1/\n",
        "[4] https://ai.meta.com/blog/meta-llama-3-1/\n",
        "\n",
        "There should be no redundant sources. It should simply be:\n",
        "\n",
        "[3] https://ai.meta.com/blog/meta-llama-3-1/\n",
        "\n",
        "8. Final review:\n",
        "- Ensure the report follows the required structure\n",
        "- Include no preamble before the title of the report\n",
        "- Check that all guidelines have been followed\"\"\"\n",
        "\n",
        "def write_section(state: InterviewState):\n",
        "\n",
        "    \"\"\" Node to answer a question \"\"\"\n",
        "\n",
        "    # Get state\n",
        "    interview = state[\"interview\"]\n",
        "    context = state[\"context\"]\n",
        "    analyst = state[\"analyst\"]\n",
        "\n",
        "    # Write section using either the gathered source docs from interview (context) or the interview itself (interview)\n",
        "    system_message = section_writer_instructions.format(focus=analyst.description)\n",
        "    section = llm.invoke([SystemMessage(content=system_message)]+[HumanMessage(content=f\"Use this source to write your section: {context}\")])\n",
        "\n",
        "    # Append it to state\n",
        "    return {\"sections\": [section.content]}\n",
        "\n",
        "# Add nodes and edges\n",
        "interview_builder = StateGraph(InterviewState)\n",
        "interview_builder.add_node(\"ask_question\", generate_question)\n",
        "interview_builder.add_node(\"search_web\", search_web)\n",
        "interview_builder.add_node(\"search_wikipedia\", search_wikipedia)\n",
        "interview_builder.add_node(\"answer_question\", generate_answer)\n",
        "interview_builder.add_node(\"save_interview\", save_interview)\n",
        "interview_builder.add_node(\"write_section\", write_section)\n",
        "\n",
        "# Flow\n",
        "interview_builder.add_edge(START, \"ask_question\")\n",
        "interview_builder.add_edge(\"ask_question\", \"search_web\")\n",
        "interview_builder.add_edge(\"ask_question\", \"search_wikipedia\")\n",
        "interview_builder.add_edge(\"search_web\", \"answer_question\")\n",
        "interview_builder.add_edge(\"search_wikipedia\", \"answer_question\")\n",
        "interview_builder.add_conditional_edges(\"answer_question\", route_messages,['ask_question','save_interview'])\n",
        "interview_builder.add_edge(\"save_interview\", \"write_section\")\n",
        "interview_builder.add_edge(\"write_section\", END)\n",
        "\n",
        "# Interview\n",
        "memory = MemorySaver()\n",
        "interview_graph = interview_builder.compile(checkpointer=memory).with_config(run_name=\"Conduct Interviews\")\n",
        "\n",
        "# View\n",
        "display(Image(interview_graph.get_graph().draw_mermaid_png()))"
      ]
    },
    {
      "cell_type": "code",
      "execution_count": null,
      "id": "PqpcNTrpjmA6",
      "metadata": {
        "id": "PqpcNTrpjmA6"
      },
      "outputs": [],
      "source": [
        "from langgraph.constants import Send\n",
        "\n",
        "def initiate_all_interviews(state: ResearchGraphState):\n",
        "    \"\"\" This is the \"map\" step where we run each interview sub-graph using Send API \"\"\"\n",
        "\n",
        "    # Check if human feedback\n",
        "    human_analyst_feedback=state.get('human_analyst_feedback')\n",
        "    if human_analyst_feedback:\n",
        "        # Return to create_analysts\n",
        "        return \"create_analysts\"\n",
        "\n",
        "    # Otherwise kick off interviews in parallel via Send() API\n",
        "    else:\n",
        "        topic = state[\"topic\"]\n",
        "        return [Send(\"conduct_interview\", {\"analyst\": analyst,\n",
        "                                           \"messages\": [HumanMessage(\n",
        "                                               content=f\"So you said you were writing an article on {topic}?\"\n",
        "                                           )\n",
        "                                                       ]}) for analyst in state[\"analysts\"]]\n",
        "\n",
        "report_writer_instructions = \"\"\"You are a technical writer creating a report on this overall topic:\n",
        "\n",
        "{topic}\n",
        "\n",
        "You have a team of analysts. Each analyst has done two things:\n",
        "\n",
        "1. They conducted an interview with an expert on a specific sub-topic.\n",
        "2. They write up their finding into a memo.\n",
        "\n",
        "Your task:\n",
        "\n",
        "1. You will be given a collection of memos from your analysts.\n",
        "2. Think carefully about the insights from each memo.\n",
        "3. Consolidate these into a crisp overall summary that ties together the central ideas from all of the memos.\n",
        "4. Summarize the central points in each memo into a cohesive single narrative.\n",
        "\n",
        "To format your report:\n",
        "\n",
        "1. Use markdown formatting.\n",
        "2. Include no pre-amble for the report.\n",
        "3. Use no sub-heading.\n",
        "4. Start your report with a single title header: ## Insights\n",
        "5. Do not mention any analyst names in your report.\n",
        "6. Preserve any citations in the memos, which will be annotated in brackets, for example [1] or [2].\n",
        "7. Create a final, consolidated list of sources and add to a Sources section with the `## Sources` header.\n",
        "8. List your sources in order and do not repeat.\n",
        "\n",
        "[1] Source 1\n",
        "[2] Source 2\n",
        "\n",
        "Here are the memos from your analysts to build your report from:\n",
        "\n",
        "{context}\"\"\"\n",
        "\n",
        "def write_report(state: ResearchGraphState):\n",
        "    # Full set of sections\n",
        "    sections = state[\"sections\"]\n",
        "    topic = state[\"topic\"]\n",
        "\n",
        "    # Concat all sections together\n",
        "    formatted_str_sections = \"\\n\\n\".join([f\"{section}\" for section in sections])\n",
        "\n",
        "    # Summarize the sections into a final report\n",
        "    system_message = report_writer_instructions.format(topic=topic, context=formatted_str_sections)\n",
        "    report = llm.invoke([SystemMessage(content=system_message)]+[HumanMessage(content=f\"Write a report based upon these memos.\")])\n",
        "    return {\"content\": report.content}\n",
        "\n",
        "intro_conclusion_instructions = \"\"\"You are a technical writer finishing a report on {topic}\n",
        "\n",
        "You will be given all of the sections of the report.\n",
        "\n",
        "You job is to write a crisp and compelling introduction or conclusion section.\n",
        "\n",
        "The user will instruct you whether to write the introduction or conclusion.\n",
        "\n",
        "Include no pre-amble for either section.\n",
        "\n",
        "Target around 100 words, crisply previewing (for introduction) or recapping (for conclusion) all of the sections of the report.\n",
        "\n",
        "Use markdown formatting.\n",
        "\n",
        "For your introduction, create a compelling title and use the # header for the title.\n",
        "\n",
        "For your introduction, use ## Introduction as the section header.\n",
        "\n",
        "For your conclusion, use ## Conclusion as the section header.\n",
        "\n",
        "Here are the sections to reflect on for writing: {formatted_str_sections}\"\"\"\n",
        "\n",
        "def write_introduction(state: ResearchGraphState):\n",
        "    # Full set of sections\n",
        "    sections = state[\"sections\"]\n",
        "    topic = state[\"topic\"]\n",
        "\n",
        "    # Concat all sections together\n",
        "    formatted_str_sections = \"\\n\\n\".join([f\"{section}\" for section in sections])\n",
        "\n",
        "    # Summarize the sections into a final report\n",
        "\n",
        "    instructions = intro_conclusion_instructions.format(topic=topic, formatted_str_sections=formatted_str_sections)\n",
        "    intro = llm.invoke([instructions]+[HumanMessage(content=f\"Write the report introduction\")])\n",
        "    return {\"introduction\": intro.content}\n",
        "\n",
        "def write_conclusion(state: ResearchGraphState):\n",
        "    # Full set of sections\n",
        "    sections = state[\"sections\"]\n",
        "    topic = state[\"topic\"]\n",
        "\n",
        "    # Concat all sections together\n",
        "    formatted_str_sections = \"\\n\\n\".join([f\"{section}\" for section in sections])\n",
        "\n",
        "    # Summarize the sections into a final report\n",
        "\n",
        "    instructions = intro_conclusion_instructions.format(topic=topic, formatted_str_sections=formatted_str_sections)\n",
        "    conclusion = llm.invoke([instructions]+[HumanMessage(content=f\"Write the report conclusion\")])\n",
        "    return {\"conclusion\": conclusion.content}\n",
        "\n",
        "def finalize_report(state: ResearchGraphState):\n",
        "    \"\"\" The is the \"reduce\" step where we gather all the sections, combine them, and reflect on them to write the intro/conclusion \"\"\"\n",
        "    # Save full final report\n",
        "    content = state[\"content\"]\n",
        "    if content.startswith(\"## Insights\"):\n",
        "        content = content.strip(\"## Insights\")\n",
        "    if \"## Sources\" in content:\n",
        "        try:\n",
        "            content, sources = content.split(\"\\n## Sources\\n\")\n",
        "        except:\n",
        "            sources = None\n",
        "    else:\n",
        "        sources = None\n",
        "\n",
        "    final_report = state[\"introduction\"] + \"\\n\\n---\\n\\n\" + content + \"\\n\\n---\\n\\n\" + state[\"conclusion\"]\n",
        "    if sources is not None:\n",
        "        final_report += \"\\n\\n## Sources\\n\" + sources\n",
        "    return {\"final_report\": final_report}\n",
        "\n",
        "# Add nodes and edges\n",
        "builder = StateGraph(ResearchGraphState)\n",
        "builder.add_node(\"create_analysts\", create_analysts)\n",
        "builder.add_node(\"human_feedback\", human_feedback)\n",
        "builder.add_node(\"conduct_interview\", interview_builder.compile())\n",
        "builder.add_node(\"write_introduction\",write_introduction)\n",
        "builder.add_node(\"write_conclusion\",write_conclusion)\n",
        "builder.add_node(\"write_report\",write_report)\n",
        "builder.add_node(\"finalize_report\",finalize_report)\n",
        "\n",
        "# Logic\n",
        "builder.add_edge(START, \"create_analysts\")\n",
        "builder.add_edge(\"create_analysts\", \"human_feedback\")\n",
        "builder.add_conditional_edges(\"human_feedback\", initiate_all_interviews, [\"create_analysts\", \"conduct_interview\"])\n",
        "builder.add_edge(\"conduct_interview\", \"write_introduction\")\n",
        "builder.add_edge(\"conduct_interview\", \"write_conclusion\")\n",
        "builder.add_edge(\"conduct_interview\", \"write_report\")\n",
        "builder.add_edge([\"write_conclusion\", \"write_report\", \"write_introduction\"], \"finalize_report\")\n",
        "builder.add_edge(\"finalize_report\", END)\n",
        "\n",
        "# Compile\n",
        "memory = MemorySaver()\n",
        "graph = builder.compile(interrupt_before=['human_feedback'], checkpointer=memory)\n",
        "display(Image(graph.get_graph(xray=1).draw_mermaid_png()))"
      ]
    },
    {
      "cell_type": "markdown",
      "id": "CQRq8KSiXBxZ",
      "metadata": {
        "id": "CQRq8KSiXBxZ"
      },
      "source": [
        "# 프롬프트 최적화"
      ]
    },
    {
      "cell_type": "code",
      "execution_count": null,
      "id": "_95A18LPXDMO",
      "metadata": {
        "colab": {
          "base_uri": "https://localhost:8080/"
        },
        "executionInfo": {
          "elapsed": 2336,
          "status": "ok",
          "timestamp": 1728869416144,
          "user": {
            "displayName": "",
            "userId": ""
          },
          "user_tz": -540
        },
        "id": "_95A18LPXDMO",
        "outputId": "bc28a507-274f-4fe9-f73b-34a164d47df8"
      },
      "outputs": [],
      "source": [
        "# 컬럼명 & 컬럼용 질문 Dict 생성\n",
        "qq = singer_queries['member_list']['question']\n",
        "loc = '멤버'\n",
        "\n",
        "# 시스템 프롬프트 설정\n",
        "system_prompt = SystemMessagePromptTemplate.from_template(\n",
        "    \"\"\"\n",
        "    You are a biographical dictionary agent. Provide only factual information based solely on the provided Context.\n",
        "    Be friendly and helpful without being overly chatty. Do not use any prior knowledge beyond the Context.\n",
        "    If the answer is not found in the Context, respond with \"None\" Follow the specified Output Format below.\n",
        "\n",
        "    The input will be provided using the following tags:\n",
        "    <Context>...</Context>\n",
        "    <Question>...</Question>\n",
        "\n",
        "    Please extract the Context, Question, and Format from these tags and answer the query accordingly.\n",
        "    \"\"\"\n",
        ")\n",
        "\n",
        "human_prompt = HumanMessagePromptTemplate.from_template(\n",
        "    \"\"\"<Context>n{context}</Context>\\n\\n\n",
        "    <Question>{question}</Question>\\n\\n\n",
        "    \"\"\"\n",
        ")\n",
        "prompt = ChatPromptTemplate.from_messages([system_prompt, human_prompt])\n",
        "chain = {\n",
        "      'context': itemgetter('context') | RunnablePassthrough()\n",
        "    , 'question': itemgetter('question') | RunnablePassthrough()\n",
        "} | prompt | llm | StrOutputParser()\n",
        "\n",
        "result = chain.with_config(configurable={\n",
        "            #   \"llm\": 'gpt4o_mini',\n",
        "            \"llm\":\"gemini_flash\",\n",
        "              \"temparature\": 0,\n",
        "              \"max_tokens\": None #max_tokens\n",
        "          }).invoke({\"question\": qq, 'context': \"\\n\\n\".join([doc.page_content for doc in documents if doc.metadata['abs_page_toc_item'] == loc])})\n",
        "\n",
        "print(result)"
      ]
    },
    {
      "cell_type": "code",
      "execution_count": null,
      "id": "tzrRXy2ipdAI",
      "metadata": {
        "colab": {
          "base_uri": "https://localhost:8080/"
        },
        "executionInfo": {
          "elapsed": 3,
          "status": "ok",
          "timestamp": 1728869423989,
          "user": {
            "displayName": "",
            "userId": ""
          },
          "user_tz": -540
        },
        "id": "tzrRXy2ipdAI",
        "outputId": "6af5e8b7-381b-43a8-c923-0f65dcf24678"
      },
      "outputs": [],
      "source": [
        "type(chain)"
      ]
    },
    {
      "cell_type": "code",
      "execution_count": null,
      "id": "CeJtAxVBX_29",
      "metadata": {
        "colab": {
          "base_uri": "https://localhost:8080/",
          "height": 35
        },
        "executionInfo": {
          "elapsed": 308,
          "status": "ok",
          "timestamp": 1727741146613,
          "user": {
            "displayName": "",
            "userId": ""
          },
          "user_tz": -540
        },
        "id": "CeJtAxVBX_29",
        "outputId": "1ad9b47f-d05a-4100-cfbd-6a2b4aa99ded"
      },
      "outputs": [],
      "source": [
        "qq"
      ]
    },
    {
      "cell_type": "code",
      "execution_count": null,
      "id": "0D6SuYEHXvMm",
      "metadata": {
        "colab": {
          "base_uri": "https://localhost:8080/",
          "height": 182
        },
        "executionInfo": {
          "elapsed": 8,
          "status": "ok",
          "timestamp": 1727742503065,
          "user": {
            "displayName": "",
            "userId": ""
          },
          "user_tz": -540
        },
        "id": "0D6SuYEHXvMm",
        "outputId": "a53cd354-da67-402c-f9d3-e3de87e6627d"
      },
      "outputs": [],
      "source": [
        "\"\\n\\n\".join([doc.page_content for doc in documents if doc.metadata['parent_paper'] == '팬덤'])"
      ]
    }
  ],
  "metadata": {
    "colab": {
      "name": "art_meta_parse_agent",
      "provenance": [],
      "toc_visible": true
    },
    "kernelspec": {
      "display_name": "venv",
      "language": "python",
      "name": "python3"
    },
    "language_info": {
      "codemirror_mode": {
        "name": "ipython",
        "version": 3
      },
      "file_extension": ".py",
      "mimetype": "text/x-python",
      "name": "python",
      "nbconvert_exporter": "python",
      "pygments_lexer": "ipython3",
      "version": "3.10.0rc2"
    }
  },
  "nbformat": 4,
  "nbformat_minor": 5
}
