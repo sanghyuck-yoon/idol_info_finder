{
  "cells": [
    {
      "cell_type": "markdown",
      "id": "KCTIISFU7B0T",
      "metadata": {
        "id": "KCTIISFU7B0T"
      },
      "source": [
        "# TODO\n"
      ]
    },
    {
      "cell_type": "code",
      "execution_count": 2,
      "id": "0Uc8Kx6vMXen",
      "metadata": {
        "id": "0Uc8Kx6vMXen"
      },
      "outputs": [],
      "source": [
        "#위키문서 전처리\n",
        "#PROFILE에서 참조 문장 모두 제거, 원문만 남아있는 것이 필요함\n",
        "\n",
        "#쿼리 최적화 \n",
        "#multi query retriever 참조"
      ]
    },
    {
      "cell_type": "markdown",
      "id": "ggvlsBi9TuGI",
      "metadata": {
        "id": "ggvlsBi9TuGI"
      },
      "source": [
        "# Settings"
      ]
    },
    {
      "cell_type": "code",
      "execution_count": 6,
      "id": "7FfaZbbFZi2jJtGUiVXTnszn",
      "metadata": {
        "id": "7FfaZbbFZi2jJtGUiVXTnszn",
        "tags": []
      },
      "outputs": [
        {
          "name": "stdout",
          "output_type": "stream",
          "text": [
            "Note: you may need to restart the kernel to use updated packages.\n"
          ]
        },
        {
          "name": "stderr",
          "output_type": "stream",
          "text": [
            "\n",
            "[notice] A new release of pip is available: 24.1.2 -> 24.2\n",
            "[notice] To update, run: python.exe -m pip install --upgrade pip\n"
          ]
        }
      ],
      "source": [
        "# %pip install -q -U langchain langchain_community langchain_core langchain_openai faiss-cpu langchain_anthropic langgraph langchain_google_community langchain_google_vertexai langchain-google-genai"
      ]
    },
    {
      "cell_type": "code",
      "execution_count": 160,
      "id": "ylmPnNdGUEMo",
      "metadata": {
        "id": "ylmPnNdGUEMo"
      },
      "outputs": [],
      "source": [
        "#수집할 아티스트 데이터\n",
        "we_art_name = 'QWER'"
      ]
    },
    {
      "cell_type": "markdown",
      "id": "sclt1-zoC38A",
      "metadata": {
        "id": "sclt1-zoC38A"
      },
      "source": [
        "## LLM 생성"
      ]
    },
    {
      "cell_type": "code",
      "execution_count": 108,
      "id": "01cea84c",
      "metadata": {},
      "outputs": [],
      "source": [
        "from langchain_text_splitters import RecursiveCharacterTextSplitter\n",
        "import re\n",
        "\n",
        "from langchain_openai import ChatOpenAI\n",
        "from langchain_core.prompts import ChatPromptTemplate\n",
        "from langchain_core.runnables import RunnablePassthrough\n",
        "from langchain_core.output_parsers import StrOutputParser\n",
        "\n",
        "import faiss\n",
        "from langchain_openai import OpenAIEmbeddings\n",
        "from langchain_google_vertexai import VertexAIEmbeddings\n",
        "from langchain_google_community import BigQueryVectorStore\n",
        "from langchain_google_community.bigquery import BigQueryLoader\n",
        "from langchain_community.vectorstores import FAISS\n",
        "from langchain_community.docstore.in_memory import InMemoryDocstore\n",
        "\n",
        "import vertexai"
      ]
    },
    {
      "cell_type": "code",
      "execution_count": 109,
      "id": "0cefca77",
      "metadata": {},
      "outputs": [],
      "source": [
        "from langchain_anthropic import ChatAnthropic\n",
        "from langchain_google_vertexai import ChatVertexAI\n",
        "from langchain_openai import ChatOpenAI\n",
        "from langchain_core.runnables import ConfigurableField\n",
        "import os"
      ]
    },
    {
      "cell_type": "code",
      "execution_count": 110,
      "id": "544a83ad",
      "metadata": {},
      "outputs": [],
      "source": [
        "from langchain_core.prompts import ChatPromptTemplate\n",
        "from langchain_core.runnables import RunnablePassthrough\n",
        "from langchain_core.output_parsers import StrOutputParser\n",
        "from langchain.prompts import ChatPromptTemplate, SystemMessagePromptTemplate, HumanMessagePromptTemplate\n",
        "from langchain.schema import SystemMessage, HumanMessage, AIMessage\n",
        "from langchain_core.output_parsers import JsonOutputParser\n",
        "from pydantic  import BaseModel, Field\n",
        "from operator import itemgetter\n",
        "\n",
        "from time import time"
      ]
    },
    {
      "cell_type": "code",
      "execution_count": 111,
      "id": "cd395954",
      "metadata": {},
      "outputs": [],
      "source": [
        "from langchain_core.prompts import ChatPromptTemplate\n",
        "from langchain_core.output_parsers import JsonOutputParser\n",
        "from pydantic import BaseModel, Field"
      ]
    },
    {
      "cell_type": "code",
      "execution_count": 117,
      "id": "mGPMuFVDC6vL",
      "metadata": {
        "id": "mGPMuFVDC6vL"
      },
      "outputs": [],
      "source": [
        "#API KEY 셋팅\n",
        "if not os.environ.get(\"OPENAI_API_KEY\"):\n",
        "    os.environ[\"OPENAI_API_KEY\"] = os.getenv(\"OPENAI_API_KEY\")\n",
        "\n",
        "if not os.environ.get(\"GOOGLE_API_KEY\"):\n",
        "    os.environ[\"GOOGLE_API_KEY\"] = os.getenv(\"GOOGLE_API_KEY\")\n",
        "\n",
        "#LLM 모델 생성 with Config\n",
        "\n",
        "llm = (\n",
        "    ChatAnthropic(model_name='claude-3-5-sonnet-20240620')\n",
        "    .configurable_alternatives(\n",
        "        ConfigurableField(\n",
        "            id = 'llm',\n",
        "            name=\"LLM Model\",\n",
        "            description=\"The base LLM model\",\n",
        "        ),\n",
        "        default_key=\"claude3_5_sonnet\",\n",
        "        claude3_haiku=ChatAnthropic(model_name='claude-3-haiku-20240307'),\n",
        "        gpt4o_mini = ChatOpenAI(model = 'gpt-4o-mini'),\n",
        "        gpt3_5 = ChatOpenAI(model = 'gpt-3.5-turbo'),\n",
        "        gemini_flash = ChatVertexAI(model=\"gemini-1.5-flash-001\")\n",
        "    )\n",
        "    .configurable_fields(\n",
        "        temperature=ConfigurableField(\n",
        "            id=\"temperature\",\n",
        "            name=\"LLM Temperature\",\n",
        "            description=\"The temperature of the LLM\",\n",
        "        ),\n",
        "        max_tokens = ConfigurableField(\n",
        "            id=\"max_token\",\n",
        "            name=\"Maximum input Tokens\",\n",
        "            description=\"Maximum limit of input Tokens\",\n",
        "        ),\n",
        "    )\n",
        ")"
      ]
    },
    {
      "cell_type": "markdown",
      "id": "dpf38aBvDfbP",
      "metadata": {
        "id": "dpf38aBvDfbP"
      },
      "source": [
        "## LangSmith 셋팅"
      ]
    },
    {
      "cell_type": "code",
      "execution_count": 118,
      "id": "4KkDwYiVDfK_",
      "metadata": {
        "id": "4KkDwYiVDfK_"
      },
      "outputs": [],
      "source": [
        "os.environ['LANGCHAIN_API_KEY'] = os.getenv(\"LANGCHAIN_API_KEY\")\n",
        "os.environ[\"LANGCHAIN_TRACING_V2\"] = \"true\"\n",
        "os.environ[\"LANGCHAIN_PROJECT\"] = \"langchain-academy\""
      ]
    },
    {
      "cell_type": "markdown",
      "id": "r6SLLG3m5d-x",
      "metadata": {
        "id": "r6SLLG3m5d-x"
      },
      "source": [
        "# 위키문서 로드 & 벡터스토어 생성"
      ]
    },
    {
      "cell_type": "code",
      "execution_count": 161,
      "id": "h1jiItnS5daq",
      "metadata": {
        "colab": {
          "base_uri": "https://localhost:8080/"
        },
        "executionInfo": {
          "elapsed": 11395,
          "status": "ok",
          "timestamp": 1728996073804,
          "user": {
            "displayName": "",
            "userId": ""
          },
          "user_tz": -540
        },
        "id": "h1jiItnS5daq",
        "outputId": "a97f6eef-c3ff-4ac6-fa37-cc60aec2e076"
      },
      "outputs": [],
      "source": [
        "#저장된 문서 불러오기\n",
        "PROJECT_ID = \"wev-dev-analytics\"\n",
        "REGION = \"asia-northeast3\"\n",
        "DATASET_ID = \"namu_wiki\"\n",
        "TABLE_ID = \"artists\"\n",
        "\n",
        "vertexai.init(project=PROJECT_ID, location=REGION)\n",
        "\n",
        "# OpenAI의 \"text-embedding-3-large\" 모델을 사용하여 1024차원의 임베딩을 생성하는 객체를 초기화합니다.\n",
        "embeddings_docs = OpenAIEmbeddings(model=\"text-embedding-3-small\", dimensions=1024, api_key = os.environ[\"OPENAI_API_KEY\"])\n",
        "# embeddings_docs = VertexAIEmbeddings(model_name=\"text-multilingual-embedding-002\")\n",
        "\n",
        "\n",
        "#임베딩할 문서 로더\n",
        "bigquery_loader = BigQueryLoader(\n",
        "    query=f\"\"\"\n",
        "        SELECT *\n",
        "             , json_value(metadata, '$.parent_page_toc_item') as parent_paper\n",
        "        FROM `{PROJECT_ID}.{DATASET_ID}.{TABLE_ID}`\n",
        "        WHERE artist_info = \"{we_art_name}\"\n",
        "    \"\"\",\n",
        "    project=PROJECT_ID,\n",
        "    page_content_columns = \"page_content\", #벡터화할 텍스트 지정\n",
        "    metadata_columns  = [\"artist_info\",\"toc_item\",\"abs_page_toc_item\",\"parent_paper\",\"page_url\"] #메타데이터 지정\n",
        ")\n",
        "\n",
        "documents = bigquery_loader.load()\n",
        "\n",
        "#Splitter 생성\n",
        "text_splitter = RecursiveCharacterTextSplitter(\n",
        "  # 나무위키 한 문단에 적절하다고 판단하는 청크 사이즈\n",
        "  chunk_size=700,\n",
        "  # 적절하다고 생각하는 overlap\n",
        "  chunk_overlap=150,\n",
        "  # 문자열 길이를 계산하는 함수를 지정합니다.\n",
        "  length_function=len,\n",
        "  # 구분자로 정규식을 사용할지 여부를 설정합니다.\n",
        "  is_separator_regex=False,\n",
        ")\n",
        "\n",
        "book = []\n",
        "\n",
        "# metadata를 page_content에 포함시키는 함수\n",
        "def concatenate_metadata_into_content(doc):\n",
        "    doc.page_content = f\"{doc.metadata['abs_page_toc_item']}\\n\\n\"+re.sub('page_content:', '', f\"{doc.page_content}\")\n",
        "    return doc\n",
        "\n",
        "#Chunking with abs_page_toc_item\n",
        "for element in documents:\n",
        "  # text_splitter를 사용하여 텍스트를 문서로 분할합니다.\n",
        "  papers = text_splitter.create_documents(texts = [element.page_content], metadatas = [element.metadata])\n",
        "  #papers.page_content 앞에 element.metadata[abs_page_toc_item] concat하기\n",
        "  book.extend(list(map(concatenate_metadata_into_content, papers)))\n",
        "\n",
        "\n",
        "#FAISS 벡터스토어 생성\n",
        "index = faiss.IndexFlatL2(len(embeddings_docs.embed_query(\"Hello world\")))\n",
        "# index = faiss.IndexFlatL2(len(embeddings_docs.embed(texts = [\"hello world\"], embeddings_task_type = 'RETRIEVAL_DOCUMENT')))\n",
        "\n",
        "##Sementic Search를 위한 Chunking 문서 임베딩\n",
        "vstr = FAISS(\n",
        "    embedding_function=embeddings_docs,\n",
        "    index=index,\n",
        "    docstore= InMemoryDocstore(),\n",
        "    index_to_docstore_id={}\n",
        ")\n",
        "\n",
        "# Convert documents to embeddings and store them\n",
        "# vstr.add_documents(documents=book)"
      ]
    },
    {
      "cell_type": "code",
      "execution_count": 119,
      "id": "Xx9gZ3VvAd9D",
      "metadata": {
        "id": "Xx9gZ3VvAd9D"
      },
      "outputs": [],
      "source": [
        "def get_chain(model, retriever = None, parser = StrOutputParser()):\n",
        "    # 시스템 프롬프트 설정\n",
        "    system_prompt = SystemMessagePromptTemplate.from_template(\n",
        "        \"\"\"\n",
        "        You are a biographical dictionary agent. Your sole purpose is to provide factual information based strictly on the provided <Context>.\n",
        "\n",
        "        - **Behavior:**\n",
        "          - Be friendly and helpful without being overly chatty.\n",
        "          - Do not use any prior knowledge beyond the <Context>.\n",
        "          - If the answer cannot be found within the <Context>, respond with \"None\"\n",
        "\n",
        "        - **Input Structure:**\n",
        "          - The input will be provided using the following tags:\n",
        "            ```\n",
        "            <Context>\n",
        "            ...\n",
        "            </Context>\n",
        "            <Question>\n",
        "            ...\n",
        "            </Question>\n",
        "            <Format>\n",
        "            ...\n",
        "            </Format>\n",
        "            ```\n",
        "\n",
        "        - **Response Guidelines:**\n",
        "          - **Do not** include the `<Context>`, `<Question>`, or `<Format>` tags in your response.\n",
        "          - **Only** provide the answer as specified in the `<Format>` section.\n",
        "          - Ensure the response strictly adheres to the format provided.\n",
        "        \"\"\"\n",
        "    )\n",
        "\n",
        "    # Runnable로 채워질 부분\n",
        "    human_prompt = HumanMessagePromptTemplate.from_template(\n",
        "        \"\"\"<Context>{context}</Context>\\n\\n\n",
        "        <Question>{question}</Question>\\n\\n\n",
        "        <Format>{format_instructions}</Format>\"\"\"\n",
        "    )\n",
        "    prompt = ChatPromptTemplate.from_messages([system_prompt, human_prompt])\n",
        "    if isinstance(parser, JsonOutputParser):\n",
        "      prompt = prompt.partial(format_instructions=parser.get_format_instructions())\n",
        "\n",
        "    def concat_docs(docs) -> str: # retriever가 반환한 모든 Document들의 page_content를 하나의 단일 string으로 붙여주는 함수\n",
        "        return \"\".join(doc.page_content for doc in docs)\n",
        "\n",
        "    chain = {}\n",
        "\n",
        "    # 기본 메타데이터는 리트리버 사용하지 않고 지정된 문서를 Context로 전달\n",
        "    if retriever is None:\n",
        "      chain = {\n",
        "            'context': itemgetter('context') | RunnablePassthrough()\n",
        "          , 'question': itemgetter('question') | RunnablePassthrough()\n",
        "      } | prompt | model | parser\n",
        "    else:\n",
        "      chain = {\n",
        "            \"context\" : itemgetter('question') | retriever | concat_docs\n",
        "          , \"question\" : itemgetter('question') | RunnablePassthrough()\n",
        "      } | prompt| model | parser\n",
        "\n",
        "    return chain"
      ]
    },
    {
      "cell_type": "markdown",
      "id": "v3mMFcXhBbHk",
      "metadata": {
        "id": "v3mMFcXhBbHk"
      },
      "source": [
        "# 질문 Set"
      ]
    },
    {
      "cell_type": "code",
      "execution_count": 164,
      "id": "fxBKMjr9BdS4",
      "metadata": {
        "id": "fxBKMjr9BdS4"
      },
      "outputs": [],
      "source": [
        "# 지시: Answer the question\n",
        "# 형식: JsonOutputParser\n",
        "# 맥락: context (documents or retriever)\n",
        "# 역할: SystemPrompt\n",
        "\n",
        "# 원하는 데이터 구조를 정의합니다.\n",
        "class Ctry(BaseModel):\n",
        "    ctry: list = Field(description=\"ISO 3166-1 alpha-2 형식, 최소 1개 이상\")\n",
        "\n",
        "class Gender(BaseModel):\n",
        "    gender: str = Field(description=\"남성과 관련된 이름이나 단어가 나오면 '남성'으로, 여성과 관련된 이름이나 단어가 나오면 '여성'으로 출력\")\n",
        "\n",
        "class Genre(BaseModel):\n",
        "    genre: list = Field(description=\"문서 내 순서를 따르고, 모든 장르를 출력\")\n",
        "\n",
        "class Label(BaseModel):\n",
        "    label_name: list = Field(description=\"고유명사만 출력하고 **괄호와 괄호 안의 내용은 반드시 제거**, 2개 이상인 경우 솔로 활동을 앞 순서에, 그룹 활동은 뒷 순서에 배치해주세요.\")\n",
        "\n",
        "class Debut(BaseModel):\n",
        "    debut_date: str = Field(description=\"'yyyy-MM-dd' 형식으로 출력\")\n",
        "\n",
        "class MemberInfo(BaseModel):\n",
        "    member_list: list = Field(description=\"문서 내 순서를 따른다.\")\n",
        "\n",
        "class MemberNumber(BaseModel):\n",
        "    member_cnt: int = Field(description=\"숫자로만 출력하세요.\")\n",
        "\n",
        "class Fandom(BaseModel):\n",
        "    fandom_name: str = Field(description=\"고유명사만 출력하고, 반복 문자열은 중복을 제거하고 출력합니다.\")\n",
        "\n",
        "\n",
        "# 컬럼명 & 컬럼용 질문 Dict 생성\n",
        "singer_queries = {\n",
        "    \"ctry\":{\n",
        "        \"question\":\"활동 국가는?\",\n",
        "        \"format\":JsonOutputParser(pydantic_object=Ctry),\n",
        "      }, #???\n",
        "    \"gender\":{\"question\":\"인물의 성별을 유추하세요. (힌트: 보이그룹, 걸그룹, 혼성듀오, 형, 누나, 오빠)\",\n",
        "              \"format\":JsonOutputParser(pydantic_object=Gender),\n",
        "              \"loc\":\"개요\" #(솔로)PROFILE > 가족 or (그룹)개요\n",
        "    },\n",
        "    \"genre\": {\"question\":\"음악 장르는?\",\n",
        "              # \"format\":\"가장 관련성이 큰 장르 2개로 정리해줘. [장르 A, 장르 B]와 같이 쉼표로 구분된 한 줄로 출력하세요.\",\n",
        "              \"format\":JsonOutputParser(pydantic_object=Genre),\n",
        "              \"loc\":\"PROFILE\" #PROFILE > 장르\n",
        "    },\n",
        "    \"label_name\": {\"question\":\"엔터테인먼트 회사명은?\",\n",
        "                   \"format\":JsonOutputParser(pydantic_object=Label),\n",
        "                   \"loc\":\"PROFILE\" #PROFILE > 소속사\n",
        "    },\n",
        "    \"debut_date\": {\"question\":\"데뷔일자는?\",\n",
        "                   \"format\":JsonOutputParser(pydantic_object=Debut),\n",
        "                   \"loc\":\"PROFILE\" #PROFILE > 데뷔일\n",
        "    },\n",
        "    \"member_list\": {\"question\":\"주어진 문서에서 등장하는 사람의 이름을 모두 나열하세요\",\n",
        "                    \"format\":JsonOutputParser(pydantic_object=MemberInfo),\n",
        "                    \"loc\":\"멤버\" #멤버\n",
        "    },\n",
        "    \"member_num\": {\"question\":\"주어진 문서에서 등장하는 사람의 이름을 카운트하세요\",\n",
        "                   \"format\":JsonOutputParser(pydantic_object=MemberNumber),\n",
        "                   \"loc\":\"멤버\" #멤버\n",
        "    },\n",
        "    \"fandom_name\": {\"question\":\"팬덤명은?\",\n",
        "                    \"format\":JsonOutputParser(pydantic_object=Fandom),\n",
        "                    \"loc\":\"PROFILE\" #PROFILE > 팬덤\n",
        "    }\n",
        "}"
      ]
    },
    {
      "cell_type": "markdown",
      "id": "8xr42eJQT-QL",
      "metadata": {
        "id": "8xr42eJQT-QL"
      },
      "source": [
        "# Tool 정의"
      ]
    },
    {
      "cell_type": "code",
      "execution_count": 11,
      "id": "gqt-h-kX8LbL",
      "metadata": {
        "id": "gqt-h-kX8LbL"
      },
      "outputs": [],
      "source": [
        "#툴은 크게 4개\n",
        "#0. 전달받은 문서에서 메타데이터를 생성하는 툴\n",
        "#1. 프로필에서 메타데이터 생성\n",
        "## 1.1. 0.에 프로필을 전달\n",
        "#2. 개요/멤버/팬덤 문서에서 메타데이터 생성\n",
        "## 2.1. 0.에 개요/멤버/팬덤을 각각 전달\n",
        "## 2.2. 2.1.에서 생성한 3개의 df를 머지\n",
        "#3. 리트리버에서 메타데이터 생성\n",
        "## 3.1. 흠...\n",
        "#4. 1~3의 결과를 종합해서 최종 데이터를 만드는 툴\n",
        "\n",
        "#나중에는...\n",
        "#아티스트명을 입력받아서 이 아티스트가 가수/배우/그 외에 따라서 질문 set을 다르게 가져와야함."
      ]
    },
    {
      "cell_type": "markdown",
      "id": "uZS9rQIRA4t_",
      "metadata": {
        "id": "uZS9rQIRA4t_"
      },
      "source": [
        "## 전달받은 문서에서 메타데이터를 생성하는 툴"
      ]
    },
    {
      "cell_type": "code",
      "execution_count": 12,
      "id": "6E2Hrqz_A7VY",
      "metadata": {
        "id": "6E2Hrqz_A7VY"
      },
      "outputs": [],
      "source": [
        "import re\n",
        "import pandas as pd\n",
        "\n",
        "def answer_to_df(q_dict, docs):\n",
        "\n",
        "    answer_list = []\n",
        "\n",
        "    for key, val in q_dict.items():\n",
        "        #Chain 생성\n",
        "        rag_chain = get_chain(model = llm, parser = val['format'])\n",
        "        rag_chain = rag_chain.with_config(configurable={\n",
        "            # \"llm\": \"gpt4o_mini\", #model_name,\n",
        "            \"llm\":\"gemini_flash\",\n",
        "            \"temparature\": 0, #temp,\n",
        "            \"max_tokens\": None #max_tokens\n",
        "        })\n",
        "\n",
        "        answer = rag_chain.invoke({\"question\": val['question'], \"context\":docs})\n",
        "        answer_list.append(answer)\n",
        "\n",
        "    # 각 딕셔너리 병합\n",
        "    merged_dict = {}\n",
        "    for item in answer_list:\n",
        "        merged_dict.update(item)\n",
        "\n",
        "    # 병합된 딕셔너리를 DataFrame으로 변환\n",
        "    result = pd.DataFrame([merged_dict])\n",
        "    # print(result)\n",
        "\n",
        "    return result"
      ]
    },
    {
      "cell_type": "markdown",
      "id": "IVp-RbIDA0OL",
      "metadata": {
        "id": "IVp-RbIDA0OL"
      },
      "source": [
        "## 지정된 문서 원문에서 메타데이터를 생성하는 Tool"
      ]
    },
    {
      "cell_type": "code",
      "execution_count": 13,
      "id": "VngUDoqtLUt6",
      "metadata": {
        "id": "VngUDoqtLUt6"
      },
      "outputs": [],
      "source": [
        "def df_from_origin(q_dict, origin):\n",
        "    try:\n",
        "      #RunnableParellel로 변경할 부분\n",
        "      df = answer_to_df(q_dict, \"\\n\\n\".join([doc.page_content for doc in documents if doc.metadata['abs_page_toc_item'] == origin]))\n",
        "    except Exception as e:\n",
        "      #에러가 발생하는 경우 빈 데이터프레임을 반환\n",
        "      print(e)\n",
        "      df = pd.DataFrame(columns = ['ctry','gender','genre','label_name','debut_date','member_list','member_num','fandom_name'])\n",
        "    finally:\n",
        "      return df"
      ]
    },
    {
      "cell_type": "markdown",
      "id": "mbJxc3wXb-Dt",
      "metadata": {
        "id": "mbJxc3wXb-Dt"
      },
      "source": [
        "## 리트리빙해서 메타데이터를 생성하는 Tool"
      ]
    },
    {
      "cell_type": "code",
      "execution_count": 24,
      "id": "PvWEi3HUn8JB",
      "metadata": {
        "id": "PvWEi3HUn8JB"
      },
      "outputs": [
        {
          "name": "stdout",
          "output_type": "stream",
          "text": [
            "Note: you may need to restart the kernel to use updated packages.\n"
          ]
        },
        {
          "name": "stderr",
          "output_type": "stream",
          "text": [
            "  error: subprocess-exited-with-error\n",
            "  \n",
            "  × python setup.py egg_info did not run successfully.\n",
            "  │ exit code: 1\n",
            "  ╰─> [1 lines of output]\n",
            "      ERROR: Can not execute `setup.py` since setuptools is not available in the build environment.\n",
            "      [end of output]\n",
            "  \n",
            "  note: This error originates from a subprocess, and is likely not a problem with pip.\n",
            "error: metadata-generation-failed\n",
            "\n",
            "× Encountered error while generating package metadata.\n",
            "╰─> See above for output.\n",
            "\n",
            "note: This is an issue with the package mentioned above, not pip.\n",
            "hint: See above for details.\n",
            "\n",
            "[notice] A new release of pip is available: 24.1.2 -> 24.2\n",
            "[notice] To update, run: python.exe -m pip install --upgrade pip\n"
          ]
        }
      ],
      "source": [
        "# 패키지 업데이트\n",
        "# %pip install -qU langchain-teddynote"
      ]
    },
    {
      "cell_type": "code",
      "execution_count": 23,
      "id": "eLnwgvXOhZ6B",
      "metadata": {
        "id": "eLnwgvXOhZ6B"
      },
      "outputs": [],
      "source": [
        "#단순 리트리빙이 아니라, 요약을 하던지, 리랭크를 하던지 해야함"
      ]
    },
    {
      "cell_type": "code",
      "execution_count": null,
      "id": "iYGLvMpImQSV",
      "metadata": {
        "id": "iYGLvMpImQSV"
      },
      "outputs": [],
      "source": [
        "# 문서를 예쁘게 출력하기 위한 도우미 함수\n",
        "def pretty_print_docs(docs):\n",
        "    print(\n",
        "        f\"\\n{'-' * 100}\\n\".join(\n",
        "            [f\"문서 {i+1}:\\n\\n\" + d.page_content for i, d in enumerate(docs)]\n",
        "        )\n",
        "    )"
      ]
    },
    {
      "cell_type": "code",
      "execution_count": 30,
      "id": "9jj2bPbzdKX-",
      "metadata": {
        "id": "9jj2bPbzdKX-"
      },
      "outputs": [],
      "source": [
        "ret = vstr.as_retriever()"
      ]
    },
    {
      "cell_type": "code",
      "execution_count": null,
      "id": "reMJxayrmXcw",
      "metadata": {
        "colab": {
          "base_uri": "https://localhost:8080/"
        },
        "executionInfo": {
          "elapsed": 335,
          "status": "ok",
          "timestamp": 1728996078516,
          "user": {
            "displayName": "",
            "userId": ""
          },
          "user_tz": -540
        },
        "id": "reMJxayrmXcw",
        "outputId": "d5cce494-3a7a-4207-fdc6-522b45dac3e7"
      },
      "outputs": [],
      "source": [
        "# 쿼리에 질문을 정의하고 관련 문서를 검색합니다.\n",
        "docs = ret.invoke(\"노지선의 나이는?\")\n",
        "\n",
        "# 검색된 문서를 예쁘게 출력합니다.\n",
        "pretty_print_docs(docs)"
      ]
    },
    {
      "cell_type": "code",
      "execution_count": null,
      "id": "eCTKmZKhmwh5",
      "metadata": {
        "colab": {
          "base_uri": "https://localhost:8080/"
        },
        "executionInfo": {
          "elapsed": 6597,
          "status": "ok",
          "timestamp": 1728865646717,
          "user": {
            "displayName": "",
            "userId": ""
          },
          "user_tz": -540
        },
        "id": "eCTKmZKhmwh5",
        "outputId": "1d9d68f7-3c26-4554-e08f-a7bd62f32ad5"
      },
      "outputs": [],
      "source": [
        "from langchain_teddynote.document_compressors import LLMChainExtractor\n",
        "from langchain.retrievers import ContextualCompressionRetriever\n",
        "\n",
        "# from langchain.retrievers.document_compressors import LLMChainExtractor\n",
        "from langchain_openai import ChatOpenAI\n",
        "\n",
        "llm = ChatOpenAI(temperature=0, model=\"gpt-4o-mini\")  # OpenAI 언어 모델 초기화\n",
        "\n",
        "# LLM을 사용하여 문서 압축기 생성\n",
        "compressor = LLMChainExtractor.from_llm(llm)\n",
        "compression_retriever = ContextualCompressionRetriever(\n",
        "    # 문서 압축기와 리트리버를 사용하여 컨텍스트 압축 리트리버 생성\n",
        "    base_compressor=compressor,\n",
        "    base_retriever=ret,\n",
        ")\n",
        "\n",
        "pretty_print_docs(ret.invoke(\"노지선의 나이는?\"))\n",
        "\n",
        "print(\"=========================================================\")\n",
        "print(\"============== LLMChainExtractor 적용 후 ==================\")\n",
        "\n",
        "compressed_docs = (\n",
        "    compression_retriever.invoke(  # 컨텍스트 압축 리트리버를 사용하여 관련 문서 검색\n",
        "        \"노지선의 나이는?\"\n",
        "    )\n",
        ")\n",
        "pretty_print_docs(compressed_docs)  # 검색된 문서를 예쁘게 출력\n"
      ]
    },
    {
      "cell_type": "code",
      "execution_count": null,
      "id": "IzzpEPS4o44W",
      "metadata": {
        "colab": {
          "base_uri": "https://localhost:8080/"
        },
        "executionInfo": {
          "elapsed": 4046,
          "status": "ok",
          "timestamp": 1728865729892,
          "user": {
            "displayName": "",
            "userId": ""
          },
          "user_tz": -540
        },
        "id": "IzzpEPS4o44W",
        "outputId": "9ba1a03d-e5d9-48a4-8d71-e33320eb4bca"
      },
      "outputs": [],
      "source": [
        "from langchain_teddynote.document_compressors import LLMChainFilter\n",
        "\n",
        "# LLM을 사용하여 LLMChainFilter 객체를 생성합니다.\n",
        "_filter = LLMChainFilter.from_llm(llm)\n",
        "\n",
        "compression_retriever = ContextualCompressionRetriever(\n",
        "    # LLMChainFilter와 retriever를 사용하여 ContextualCompressionRetriever 객체를 생성합니다.\n",
        "    base_compressor=_filter,\n",
        "    base_retriever=ret,\n",
        ")\n",
        "\n",
        "compressed_docs = compression_retriever.invoke(\n",
        "    # 쿼리\n",
        "    \"노지선의 나이는?\"\n",
        ")\n",
        "pretty_print_docs(compressed_docs)  # 압축된 문서를 예쁘게 출력합니다.\n"
      ]
    },
    {
      "cell_type": "code",
      "execution_count": null,
      "id": "opHVo5YMd7rX",
      "metadata": {
        "colab": {
          "base_uri": "https://localhost:8080/"
        },
        "executionInfo": {
          "elapsed": 1181,
          "status": "ok",
          "timestamp": 1728866522574,
          "user": {
            "displayName": "",
            "userId": ""
          },
          "user_tz": -540
        },
        "id": "opHVo5YMd7rX",
        "outputId": "cd9c0f2e-94da-4587-f435-70532c2e5f09"
      },
      "outputs": [],
      "source": [
        "from langchain.retrievers.document_compressors import EmbeddingsFilter\n",
        "from langchain_openai import OpenAIEmbeddings\n",
        "\n",
        "# 유사도 임계값이 0.76인 EmbeddingsFilter 객체를 생성합니다.\n",
        "embeddings_filter = EmbeddingsFilter(embeddings=embeddings_docs, similarity_threshold=0.3)\n",
        "\n",
        "# 기본 압축기로 embeddings_filter를, 기본 검색기로 retriever를 사용하여 ContextualCompressionRetriever 객체를 생성합니다.\n",
        "compression_retriever = ContextualCompressionRetriever(\n",
        "    base_compressor=embeddings_filter, base_retriever=ret\n",
        ")\n",
        "\n",
        "# ContextualCompressionRetriever 객체를 사용하여 관련 문서를 검색합니다.\n",
        "compressed_docs = compression_retriever.invoke(\n",
        "    # 쿼리\n",
        "    \"노지선의 나이는?\"\n",
        ")\n",
        "# 압축된 문서를 예쁘게 출력합니다.\n",
        "pretty_print_docs(compressed_docs)\n"
      ]
    },
    {
      "cell_type": "code",
      "execution_count": null,
      "id": "wBBsQzpXrChs",
      "metadata": {
        "colab": {
          "base_uri": "https://localhost:8080/"
        },
        "executionInfo": {
          "elapsed": 4159,
          "status": "ok",
          "timestamp": 1728866621610,
          "user": {
            "displayName": "",
            "userId": ""
          },
          "user_tz": -540
        },
        "id": "wBBsQzpXrChs",
        "outputId": "4de0dcdd-2d3f-4cc1-eb6d-dc7e8a9bd715"
      },
      "outputs": [],
      "source": [
        "from langchain.retrievers.document_compressors import DocumentCompressorPipeline, EmbeddingsFilter\n",
        "from langchain_community.document_transformers import EmbeddingsRedundantFilter\n",
        "from langchain_text_splitters import CharacterTextSplitter\n",
        "\n",
        "# 문자 기반 텍스트 분할기를 생성하고, 청크 크기를 300으로, 청크 간 중복을 0으로 설정합니다.\n",
        "splitter = CharacterTextSplitter(chunk_size=300, chunk_overlap=0)\n",
        "\n",
        "# 임베딩을 사용하여 중복 필터를 생성합니다.\n",
        "redundant_filter = EmbeddingsRedundantFilter(embeddings=embeddings_docs)\n",
        "\n",
        "# 임베딩을 사용하여 관련성 필터를 생성하고, 유사도 임계값을 0.86으로 설정합니다.\n",
        "relevant_filter = EmbeddingsFilter(embeddings=embeddings_docs, similarity_threshold=0.3)\n",
        "\n",
        "pipeline_compressor = DocumentCompressorPipeline(\n",
        "    # 문서 압축 파이프라인을 생성하고, 분할기, 중복 필터, 관련성 필터, LLMChainExtractor를 변환기로 설정합니다.\n",
        "    transformers=[\n",
        "        splitter,\n",
        "        redundant_filter,\n",
        "        relevant_filter,\n",
        "        LLMChainExtractor.from_llm(llm),\n",
        "    ]\n",
        ")\n",
        "compression_retriever = ContextualCompressionRetriever(\n",
        "    # 기본 압축기로 pipeline_compressor를 사용하고, 기본 검색기로 retriever를 사용하여 ContextualCompressionRetriever를 초기화합니다.\n",
        "    base_compressor=pipeline_compressor,\n",
        "    base_retriever=ret,\n",
        ")\n",
        "\n",
        "compressed_docs = compression_retriever.invoke(\n",
        "    # 쿼리\n",
        "    \"노지선의 나이는?\"\n",
        ")\n",
        "# 압축된 문서를 예쁘게 출력합니다.\n",
        "pretty_print_docs(compressed_docs)\n"
      ]
    },
    {
      "cell_type": "code",
      "execution_count": null,
      "id": "sqBnMqezfmfz",
      "metadata": {
        "id": "sqBnMqezfmfz"
      },
      "outputs": [],
      "source": [
        "chain = itemgetter('question') | ret | concat_docs"
      ]
    },
    {
      "cell_type": "code",
      "execution_count": null,
      "id": "K-QVHKIBfw6m",
      "metadata": {
        "colab": {
          "base_uri": "https://localhost:8080/",
          "height": 164
        },
        "executionInfo": {
          "elapsed": 633,
          "status": "ok",
          "timestamp": 1727742980645,
          "user": {
            "displayName": "",
            "userId": ""
          },
          "user_tz": -540
        },
        "id": "K-QVHKIBfw6m",
        "outputId": "eeea8075-88ca-4dfe-de64-c0d88536a216"
      },
      "outputs": [],
      "source": [
        "chain.invoke({'question':'음악 장르는?'})"
      ]
    },
    {
      "cell_type": "code",
      "execution_count": null,
      "id": "MinImK5cfFkL",
      "metadata": {
        "colab": {
          "base_uri": "https://localhost:8080/"
        },
        "executionInfo": {
          "elapsed": 3,
          "status": "ok",
          "timestamp": 1727742851407,
          "user": {
            "displayName": "",
            "userId": ""
          },
          "user_tz": -540
        },
        "id": "MinImK5cfFkL",
        "outputId": "967722af-65fe-4c7a-cbf2-4cf4bb68147c"
      },
      "outputs": [],
      "source": [
        "result"
      ]
    },
    {
      "cell_type": "code",
      "execution_count": null,
      "id": "vU8k0YThe96A",
      "metadata": {
        "colab": {
          "base_uri": "https://localhost:8080/"
        },
        "executionInfo": {
          "elapsed": 305,
          "status": "ok",
          "timestamp": 1727742613988,
          "user": {
            "displayName": "",
            "userId": ""
          },
          "user_tz": -540
        },
        "id": "vU8k0YThe96A",
        "outputId": "b0923bc4-6da8-4f6a-d576-71c631399a0a"
      },
      "outputs": [],
      "source": [
        "type(result)"
      ]
    },
    {
      "cell_type": "code",
      "execution_count": null,
      "id": "eedd00UZcJwR",
      "metadata": {
        "colab": {
          "base_uri": "https://localhost:8080/"
        },
        "executionInfo": {
          "elapsed": 5,
          "status": "ok",
          "timestamp": 1727741903148,
          "user": {
            "displayName": "",
            "userId": ""
          },
          "user_tz": -540
        },
        "id": "eedd00UZcJwR",
        "outputId": "b60776d6-bff4-4976-f2ba-271f8cc59b4e"
      },
      "outputs": [],
      "source": [
        "def df_from_retriever(q_dict):\n",
        "  ret = vstr.as_retriever()"
      ]
    },
    {
      "cell_type": "code",
      "execution_count": null,
      "id": "js7vmRb5Hm6t",
      "metadata": {
        "id": "js7vmRb5Hm6t"
      },
      "outputs": [],
      "source": [
        "df = df_from_origin(singer_queries, '개요')"
      ]
    },
    {
      "cell_type": "code",
      "execution_count": null,
      "id": "MV_4PXi5UkFc",
      "metadata": {
        "colab": {
          "base_uri": "https://localhost:8080/",
          "height": 81
        },
        "executionInfo": {
          "elapsed": 3,
          "status": "ok",
          "timestamp": 1727740827064,
          "user": {
            "displayName": "",
            "userId": ""
          },
          "user_tz": -540
        },
        "id": "MV_4PXi5UkFc",
        "outputId": "52e1eb58-70bb-4153-d6fc-88638dcd2e5a"
      },
      "outputs": [],
      "source": [
        "df"
      ]
    },
    {
      "cell_type": "markdown",
      "id": "5o1-xNxx8GOT",
      "metadata": {
        "id": "5o1-xNxx8GOT"
      },
      "source": [
        "# Agent 생성"
      ]
    },
    {
      "cell_type": "code",
      "execution_count": 11,
      "id": "p14hr2HZ7Qb2",
      "metadata": {
        "id": "p14hr2HZ7Qb2"
      },
      "outputs": [],
      "source": [
        "#Workflow\n",
        "##1. (미구현) 아티스트의 성격 분류 / 가수(현재 구현 ver), 배우, 셀럽\n",
        "##2. 총 5개 (프로필 / 개요 / 멤버 / 팬덤 + 전체 문서 리트리빙)의 툴을 실행\n",
        "##2.1. 각 결과값으로 pandas dataframe을 생성\n",
        "##2.2. 프로필 / 개요 / 멤버 / 팬덤은 Map-reduce 적용 검토\n",
        "##3. 5개 문서 결과값에 대해 가중치를 적용해서 dataframe merge"
      ]
    },
    {
      "cell_type": "code",
      "execution_count": 122,
      "id": "4FP9FZkVzIcH",
      "metadata": {
        "id": "4FP9FZkVzIcH"
      },
      "outputs": [],
      "source": [
        "llm = llm.with_config(configurable={\n",
        "            # \"llm\": \"gpt4o_mini\", #model_name,\n",
        "            \"llm\":\"gemini_flash\",\n",
        "            \"temparature\": 0, #temp,\n",
        "            \"max_tokens\": None #max_tokens\n",
        "        })"
      ]
    },
    {
      "cell_type": "code",
      "execution_count": 123,
      "id": "3ThxdYlDiYKN",
      "metadata": {
        "id": "3ThxdYlDiYKN"
      },
      "outputs": [],
      "source": [
        "from typing import List\n",
        "from typing_extensions import TypedDict\n",
        "from pydantic import BaseModel, Field\n",
        "import operator\n",
        "from typing import Annotated\n",
        "from langgraph.graph import MessagesState\n",
        "\n",
        "class ArtistMeta(TypedDict):\n",
        "    ctry: list #= Field(description=\"ISO 3166-1 alpha-2 형식, 최소 1개 이상\")\n",
        "    gender: str #= Field(description=\"남성과 관련된 단어가 나오면 '남성'으로, 여성과 관련된 단어가 나오면 '여성'으로 출력\")\n",
        "    genre: list #= Field(description=\"문서 내 순서를 따르고, 모든 장르를 출력\")\n",
        "    label_name: list #= Field(description=\"고유명사만 출력하고 **괄호와 괄호 안의 내용은 반드시 제거**, 2개 이상인 경우 솔로 활동을 앞 순서에, 그룹 활동은 뒷 순서에 배치해주세요.\")\n",
        "    debut_date: str #= Field(description=\"'yyyy-MM-dd' 형식으로 출력\")\n",
        "    member_list: list #= Field(description=\"문서 내 순서를 따른다.\")\n",
        "    member_cnt: int #= Field(description=\"숫자로만 출력하세요.\")\n",
        "    fandom_name: str #= Field(description=\"고유명사만 출력하고, 반복되는 문자열은 하나로 합쳐주세요.\")\n",
        "\n",
        "class OneMetaState(TypedDict):\n",
        "    questions: dict #= Field(description=\"아티스트에 대한 특정 질문\")\n",
        "    doc: str #= Field(description=\"아티스트 데이터를 찾아볼 문서\")\n",
        "    page: str\n",
        "    answers: Annotated[List[dict], operator.add]\n",
        "    metadatas: Annotated[List[dict], operator.add]"
      ]
    },
    {
      "cell_type": "code",
      "execution_count": 124,
      "id": "h6_nn4Vq0QND",
      "metadata": {
        "id": "h6_nn4Vq0QND"
      },
      "outputs": [],
      "source": [
        "from langchain_core.messages import AIMessage, HumanMessage, SystemMessage\n",
        "\n",
        "def answer_from_origin(state: OneMetaState):\n",
        "\n",
        "  question = state['qnf']['question']\n",
        "  format = state['qnf']['format']\n",
        "  doc = state['doc']\n",
        "  answers = state['answers']\n",
        "\n",
        "  # 시스템 프롬프트 설정\n",
        "  system_prompt = SystemMessagePromptTemplate.from_template(\n",
        "      \"\"\"\n",
        "      You are a biographical dictionary agent. Your sole purpose is to provide factual information based strictly on the provided <Context>.\n",
        "\n",
        "      - **Behavior:**\n",
        "        - Be friendly and helpful without being overly chatty.\n",
        "        - Do not use any prior knowledge beyond the <Context>.\n",
        "        - If the answer cannot be found within the <Context>, respond with \"None\"\n",
        "\n",
        "      - **Input Structure:**\n",
        "        - The input will be provided using the following tags:\n",
        "          ```\n",
        "          <Context>\n",
        "          ...\n",
        "          </Context>\n",
        "          <Question>\n",
        "          ...\n",
        "          </Question>\n",
        "          <Format>\n",
        "          ...\n",
        "          </Format>\n",
        "          ```\n",
        "\n",
        "      - **Response Guidelines:**\n",
        "        - **Do not** include the `<Context>`, `<Question>`, or `<Format>` tags in your response.\n",
        "        - **Only** provide the answer as specified in the `<Format>` section.\n",
        "        - Ensure the response strictly adheres to the format provided.\n",
        "      \"\"\"\n",
        "  )\n",
        "\n",
        "  human_prompt = HumanMessagePromptTemplate.from_template(\n",
        "      \"\"\"<Context>{context}</Context>\\n\\n\n",
        "      <Question>{question}</Question>\\n\\n\n",
        "      <Format>{format_instructions}</Format>\"\"\"\n",
        "  )\n",
        "  prompt = ChatPromptTemplate.from_messages([system_prompt, human_prompt])\n",
        "  if isinstance(format, JsonOutputParser):\n",
        "    prompt = prompt.partial(format_instructions=format.get_format_instructions())\n",
        "\n",
        "  chain = {\n",
        "          'context': itemgetter('context') | RunnablePassthrough()\n",
        "        , 'question': itemgetter('question') | RunnablePassthrough()\n",
        "    } | prompt | llm | format\n",
        "\n",
        "  answer = chain.invoke({\"question\": question, \"context\":doc})\n",
        "  # print(answer)\n",
        "\n",
        "  # meta.update(answer)\n",
        "  return {\"answers\":[answer]}"
      ]
    },
    {
      "cell_type": "code",
      "execution_count": 125,
      "id": "r0ltNvoXA0_m",
      "metadata": {
        "id": "r0ltNvoXA0_m"
      },
      "outputs": [],
      "source": [
        "from langgraph.constants import Send\n",
        "\n",
        "def init_graph(state:OneMetaState):\n",
        "  pass\n",
        "\n",
        "def split_question(state:OneMetaState):\n",
        "  qnf = state['questions']\n",
        "  doc = state['doc']\n",
        "  return [Send(\"answer_from_origin\", {\"qnf\":qnf[key], \"doc\":doc, \"answers\": []}) for key, value in qnf.items()]\n",
        "\n",
        "def merge_answers(state:OneMetaState):\n",
        "  answers = state['answers']\n",
        "  meta = {}\n",
        "  for answer in answers:\n",
        "    meta.update(answer)\n",
        "  meta.update({\"page\":state['page']})\n",
        "  # print('meta:', meta)\n",
        "  return {\"metadatas\":[meta]}"
      ]
    },
    {
      "cell_type": "code",
      "execution_count": 126,
      "id": "ZgloiWZQPqOB",
      "metadata": {
        "id": "ZgloiWZQPqOB"
      },
      "outputs": [],
      "source": [
        "#질문Set과 특정 페이지 원문이 input\n",
        "#원문에 대해 질문Set의 각각을 별도로 질문\n",
        "#meta에 list로 merge한 것이 output"
      ]
    },
    {
      "cell_type": "code",
      "execution_count": 127,
      "id": "u0vyVGMdB1Ht",
      "metadata": {
        "colab": {
          "base_uri": "https://localhost:8080/",
          "height": 350
        },
        "executionInfo": {
          "elapsed": 378,
          "status": "ok",
          "timestamp": 1728996098726,
          "user": {
            "displayName": "",
            "userId": ""
          },
          "user_tz": -540
        },
        "id": "u0vyVGMdB1Ht",
        "outputId": "73f29bf8-4992-44ba-dc88-b298b4953f8b"
      },
      "outputs": [
        {
          "data": {
            "image/jpeg": "[encoded data removed]",
            "text/plain": [
              "<IPython.core.display.Image object>"
            ]
          },
          "metadata": {},
          "output_type": "display_data"
        }
      ],
      "source": [
        "from IPython.display import Image, display\n",
        "from langgraph.graph import START, END, StateGraph\n",
        "from langgraph.checkpoint.memory import MemorySaver\n",
        "\n",
        "# Add nodes and edges\n",
        "onemeta_builder = StateGraph(OneMetaState)\n",
        "\n",
        "#node\n",
        "onemeta_builder.add_node(\"init_extract\", init_graph)\n",
        "onemeta_builder.add_node(\"answer_from_origin\", answer_from_origin)\n",
        "onemeta_builder.add_node(\"merge_answers\", merge_answers)\n",
        "\n",
        "#edge\n",
        "onemeta_builder.add_edge(START, \"init_extract\")\n",
        "onemeta_builder.add_conditional_edges(\"init_extract\", split_question, [\"answer_from_origin\"])\n",
        "onemeta_builder.add_edge(\"answer_from_origin\", \"merge_answers\")\n",
        "onemeta_builder.add_edge(\"merge_answers\", END)\n",
        "\n",
        "# Compile\n",
        "graph = onemeta_builder.compile()\n",
        "\n",
        "# View\n",
        "display(Image(graph.get_graph(xray=1).draw_mermaid_png()))"
      ]
    },
    {
      "cell_type": "code",
      "execution_count": 128,
      "id": "uVUE6rwtB2Ti",
      "metadata": {
        "id": "uVUE6rwtB2Ti"
      },
      "outputs": [],
      "source": [
        "#전체 그래프\n",
        "#질문Set과 documents가 input\n",
        "#List[Dict]가 output / 또는 pd.Dataframe이 output"
      ]
    },
    {
      "cell_type": "code",
      "execution_count": 129,
      "id": "4Nxkj3emB2YW",
      "metadata": {
        "id": "4Nxkj3emB2YW"
      },
      "outputs": [],
      "source": [
        "import pandas as pd\n",
        "\n",
        "class OverallGraphState(TypedDict):\n",
        "    questions: dict\n",
        "    documents: list\n",
        "    pages: list\n",
        "    metadatas: Annotated[List[dict], operator.add]\n",
        "    mergeset: pd.DataFrame"
      ]
    },
    {
      "cell_type": "code",
      "execution_count": 130,
      "id": "46d62296",
      "metadata": {},
      "outputs": [],
      "source": [
        "from langgraph.constants import Send\n",
        "\n",
        "def get_origins(state:OverallGraphState):\n",
        "    return {\"pages\":state['pages'], \"questions\":singer_queries, \"documents\":documents}\n",
        "\n",
        "def check_empty_origins(state:OverallGraphState):\n",
        "    pages = state['pages']\n",
        "    \n",
        "    if len(pages) == 0:\n",
        "        return \"merge_metas\"\n",
        "    else:\n",
        "        doc = \"\\n\\n\".join([doc.page_content for doc in documents if doc.metadata['abs_page_toc_item'] == pages[0]])\n",
        "        if doc == \"\":\n",
        "            return \"empty_meta\"\n",
        "        else:\n",
        "            return Send(\"make_meta\", {\"questions\":state['questions'], \"doc\":doc, \"page\":pages[0]})\n",
        "\n",
        "def remove_finish_origin(state:OverallGraphState):\n",
        "    # print(state['pages'])\n",
        "    # print(state['metadatas'])\n",
        "    return {\"pages\":state['pages'][1:]}\n",
        "\n",
        "def empty_meta(state:OverallGraphState):\n",
        "    return {\"pages\":state['pages'][1:]}\n",
        "\n",
        "def merge_metas(state:OverallGraphState):\n",
        "    #가중치 (순위로)\n",
        "    ##page|ctry|gender|genre|label|debut|member_info|member_number|fandom_name\n",
        "    ##PROFILE|?|2|1|1|1|3|3|1|\n",
        "    ##개요|?|1|2|2|2|2|2|\n",
        "    ##멤버|?|3|2|3|1|1|2|\n",
        "    ##팬덤|?|4|2|3|3|3|1|\n",
        "    metadatas = state['metadatas']\n",
        "\n",
        "    # 각 컬럼별 우선순위를 저장하는 딕셔너리\n",
        "    priority_dict = {\n",
        "        'ctry': ['PROFILE', '개요', '멤버', '팬덤'],\n",
        "        'gender': ['개요', 'PROFILE', '멤버', '팬덤'],\n",
        "        'genre': ['PROFILE', '개요', '멤버', '팬덤'],\n",
        "        'label_name': ['PROFIEL', '개요', '멤버', '팬덤'],\n",
        "        'debut_date': ['PROFILE', '개요', '멤버', '팬덤'],\n",
        "        'member_list': ['멤버', 'PROFILE', '개요', '팬덤'],\n",
        "        'member_cnt': ['멤버', 'PROFILE', '개요', '팬덤'],\n",
        "        'fandom_name': ['PROFILE', '팬덤', '멤버', '개요']\n",
        "    }\n",
        "\n",
        "    # 병합된 딕셔너리를 초기화\n",
        "    merged_data = {}\n",
        "\n",
        "    # 컬럼별 우선순위에 따라 값을 선택하여 병합\n",
        "    for key, priority_list in priority_dict.items():\n",
        "        for page in priority_list:\n",
        "            for meta in metadatas:\n",
        "                if meta['page'] == page and key in meta and meta[key] != 'None' and meta[key] != []:\n",
        "                    merged_data[key] = meta[key]\n",
        "                    break  # 첫 번째로 발견한 유효한 값 사용 후 중단\n",
        "            if key in merged_data:\n",
        "                break # key 값이 할당된 경우 루프 중단\n",
        "\n",
        "    # 병합 결과를 데이터프레임으로 변환\n",
        "    df = pd.DataFrame([merged_data])\n",
        "\n",
        "    print(df)\n",
        "    # print(\"merge metas!\")\n",
        "    \n",
        "    return {\"mergeset\":df}"
      ]
    },
    {
      "cell_type": "code",
      "execution_count": 131,
      "id": "jtALB4HauD68",
      "metadata": {
        "colab": {
          "base_uri": "https://localhost:8080/",
          "height": 251
        },
        "executionInfo": {
          "elapsed": 3,
          "status": "ok",
          "timestamp": 1728989618027,
          "user": {
            "displayName": "",
            "userId": ""
          },
          "user_tz": -540
        },
        "id": "jtALB4HauD68",
        "outputId": "418fe27b-8c6d-4652-ff90-8cd93356bb61"
      },
      "outputs": [
        {
          "data": {
            "image/jpeg": "[encoded data removed]",
            "text/plain": [
              "<IPython.core.display.Image object>"
            ]
          },
          "metadata": {},
          "output_type": "display_data"
        }
      ],
      "source": [
        "from IPython.display import Image, display\n",
        "from langgraph.graph import START, END, StateGraph\n",
        "from langgraph.checkpoint.memory import MemorySaver\n",
        "\n",
        "# Add nodes and edges\n",
        "builder = StateGraph(OverallGraphState)\n",
        "builder.add_node(\"get_origins\", get_origins)\n",
        "builder.add_node(\"make_meta\", onemeta_builder.compile())\n",
        "builder.add_node(\"empty_meta\", empty_meta)\n",
        "builder.add_node(\"merge_metas\", merge_metas)\n",
        "builder.add_node(\"remove_finish_origin\", remove_finish_origin)\n",
        "builder.add_edge(START, \"get_origins\")\n",
        "builder.add_conditional_edges(\"get_origins\", check_empty_origins, [\"merge_metas\",\"empty_meta\",\"make_meta\"])\n",
        "builder.add_edge(\"make_meta\", \"remove_finish_origin\")\n",
        "builder.add_edge(\"remove_finish_origin\", \"get_origins\")\n",
        "builder.add_edge(\"empty_meta\", \"get_origins\")\n",
        "builder.add_edge(\"merge_metas\", END)\n",
        "\n",
        "# Compile\n",
        "memory = MemorySaver()\n",
        "# graph = builder.compile(checkpointer=memory)\n",
        "graph = builder.compile()\n",
        "\n",
        "# View\n",
        "display(Image(graph.get_graph(xray=1).draw_mermaid_png()))"
      ]
    },
    {
      "cell_type": "markdown",
      "id": "629feba0",
      "metadata": {},
      "source": [
        "## Run"
      ]
    },
    {
      "cell_type": "code",
      "execution_count": 165,
      "id": "PzJ0U9UvbzPW",
      "metadata": {
        "colab": {
          "base_uri": "https://localhost:8080/"
        },
        "executionInfo": {
          "elapsed": 3,
          "status": "ok",
          "timestamp": 1728989619401,
          "user": {
            "displayName": "",
            "userId": ""
          },
          "user_tz": -540
        },
        "id": "PzJ0U9UvbzPW",
        "outputId": "f9b0140e-c92b-4577-c8ba-5dba8a1e0dab"
      },
      "outputs": [
        {
          "ename": "OutputParserException",
          "evalue": "Invalid json output: \nFor troubleshooting, visit: https://python.langchain.com/docs/troubleshooting/errors/OUTPUT_PARSING_FAILURE",
          "output_type": "error",
          "traceback": [
            "\u001b[1;31m---------------------------------------------------------------------------\u001b[0m",
            "\u001b[1;31mJSONDecodeError\u001b[0m                           Traceback (most recent call last)",
            "File \u001b[1;32mc:\\Users\\sanghyoon\\Documents\\Github\\idol_info_finder\\idol_info_finder-2\\venv\\lib\\site-packages\\langchain_core\\output_parsers\\json.py:83\u001b[0m, in \u001b[0;36mJsonOutputParser.parse_result\u001b[1;34m(self, result, partial)\u001b[0m\n\u001b[0;32m     82\u001b[0m \u001b[38;5;28;01mtry\u001b[39;00m:\n\u001b[1;32m---> 83\u001b[0m     \u001b[38;5;28;01mreturn\u001b[39;00m \u001b[43mparse_json_markdown\u001b[49m\u001b[43m(\u001b[49m\u001b[43mtext\u001b[49m\u001b[43m)\u001b[49m\n\u001b[0;32m     84\u001b[0m \u001b[38;5;28;01mexcept\u001b[39;00m JSONDecodeError \u001b[38;5;28;01mas\u001b[39;00m e:\n",
            "File \u001b[1;32mc:\\Users\\sanghyoon\\Documents\\Github\\idol_info_finder\\idol_info_finder-2\\venv\\lib\\site-packages\\langchain_core\\utils\\json.py:144\u001b[0m, in \u001b[0;36mparse_json_markdown\u001b[1;34m(json_string, parser)\u001b[0m\n\u001b[0;32m    143\u001b[0m     json_str \u001b[38;5;241m=\u001b[39m json_string \u001b[38;5;28;01mif\u001b[39;00m match \u001b[38;5;129;01mis\u001b[39;00m \u001b[38;5;28;01mNone\u001b[39;00m \u001b[38;5;28;01melse\u001b[39;00m match\u001b[38;5;241m.\u001b[39mgroup(\u001b[38;5;241m2\u001b[39m)\n\u001b[1;32m--> 144\u001b[0m \u001b[38;5;28;01mreturn\u001b[39;00m \u001b[43m_parse_json\u001b[49m\u001b[43m(\u001b[49m\u001b[43mjson_str\u001b[49m\u001b[43m,\u001b[49m\u001b[43m \u001b[49m\u001b[43mparser\u001b[49m\u001b[38;5;241;43m=\u001b[39;49m\u001b[43mparser\u001b[49m\u001b[43m)\u001b[49m\n",
            "File \u001b[1;32mc:\\Users\\sanghyoon\\Documents\\Github\\idol_info_finder\\idol_info_finder-2\\venv\\lib\\site-packages\\langchain_core\\utils\\json.py:160\u001b[0m, in \u001b[0;36m_parse_json\u001b[1;34m(json_str, parser)\u001b[0m\n\u001b[0;32m    159\u001b[0m \u001b[38;5;66;03m# Parse the JSON string into a Python dictionary\u001b[39;00m\n\u001b[1;32m--> 160\u001b[0m \u001b[38;5;28;01mreturn\u001b[39;00m \u001b[43mparser\u001b[49m\u001b[43m(\u001b[49m\u001b[43mjson_str\u001b[49m\u001b[43m)\u001b[49m\n",
            "File \u001b[1;32mc:\\Users\\sanghyoon\\Documents\\Github\\idol_info_finder\\idol_info_finder-2\\venv\\lib\\site-packages\\langchain_core\\utils\\json.py:118\u001b[0m, in \u001b[0;36mparse_partial_json\u001b[1;34m(s, strict)\u001b[0m\n\u001b[0;32m    115\u001b[0m \u001b[38;5;66;03m# If we got here, we ran out of characters to remove\u001b[39;00m\n\u001b[0;32m    116\u001b[0m \u001b[38;5;66;03m# and still couldn't parse the string as JSON, so return the parse error\u001b[39;00m\n\u001b[0;32m    117\u001b[0m \u001b[38;5;66;03m# for the original string.\u001b[39;00m\n\u001b[1;32m--> 118\u001b[0m \u001b[38;5;28;01mreturn\u001b[39;00m \u001b[43mjson\u001b[49m\u001b[38;5;241;43m.\u001b[39;49m\u001b[43mloads\u001b[49m\u001b[43m(\u001b[49m\u001b[43ms\u001b[49m\u001b[43m,\u001b[49m\u001b[43m \u001b[49m\u001b[43mstrict\u001b[49m\u001b[38;5;241;43m=\u001b[39;49m\u001b[43mstrict\u001b[49m\u001b[43m)\u001b[49m\n",
            "File \u001b[1;32mc:\\Python\\lib\\json\\__init__.py:359\u001b[0m, in \u001b[0;36mloads\u001b[1;34m(s, cls, object_hook, parse_float, parse_int, parse_constant, object_pairs_hook, **kw)\u001b[0m\n\u001b[0;32m    358\u001b[0m     kw[\u001b[38;5;124m'\u001b[39m\u001b[38;5;124mparse_constant\u001b[39m\u001b[38;5;124m'\u001b[39m] \u001b[38;5;241m=\u001b[39m parse_constant\n\u001b[1;32m--> 359\u001b[0m \u001b[38;5;28;01mreturn\u001b[39;00m \u001b[38;5;28;43mcls\u001b[39;49m\u001b[43m(\u001b[49m\u001b[38;5;241;43m*\u001b[39;49m\u001b[38;5;241;43m*\u001b[39;49m\u001b[43mkw\u001b[49m\u001b[43m)\u001b[49m\u001b[38;5;241;43m.\u001b[39;49m\u001b[43mdecode\u001b[49m\u001b[43m(\u001b[49m\u001b[43ms\u001b[49m\u001b[43m)\u001b[49m\n",
            "File \u001b[1;32mc:\\Python\\lib\\json\\decoder.py:337\u001b[0m, in \u001b[0;36mJSONDecoder.decode\u001b[1;34m(self, s, _w)\u001b[0m\n\u001b[0;32m    333\u001b[0m \u001b[38;5;250m\u001b[39m\u001b[38;5;124;03m\"\"\"Return the Python representation of ``s`` (a ``str`` instance\u001b[39;00m\n\u001b[0;32m    334\u001b[0m \u001b[38;5;124;03mcontaining a JSON document).\u001b[39;00m\n\u001b[0;32m    335\u001b[0m \n\u001b[0;32m    336\u001b[0m \u001b[38;5;124;03m\"\"\"\u001b[39;00m\n\u001b[1;32m--> 337\u001b[0m obj, end \u001b[38;5;241m=\u001b[39m \u001b[38;5;28;43mself\u001b[39;49m\u001b[38;5;241;43m.\u001b[39;49m\u001b[43mraw_decode\u001b[49m\u001b[43m(\u001b[49m\u001b[43ms\u001b[49m\u001b[43m,\u001b[49m\u001b[43m \u001b[49m\u001b[43midx\u001b[49m\u001b[38;5;241;43m=\u001b[39;49m\u001b[43m_w\u001b[49m\u001b[43m(\u001b[49m\u001b[43ms\u001b[49m\u001b[43m,\u001b[49m\u001b[43m \u001b[49m\u001b[38;5;241;43m0\u001b[39;49m\u001b[43m)\u001b[49m\u001b[38;5;241;43m.\u001b[39;49m\u001b[43mend\u001b[49m\u001b[43m(\u001b[49m\u001b[43m)\u001b[49m\u001b[43m)\u001b[49m\n\u001b[0;32m    338\u001b[0m end \u001b[38;5;241m=\u001b[39m _w(s, end)\u001b[38;5;241m.\u001b[39mend()\n",
            "File \u001b[1;32mc:\\Python\\lib\\json\\decoder.py:355\u001b[0m, in \u001b[0;36mJSONDecoder.raw_decode\u001b[1;34m(self, s, idx)\u001b[0m\n\u001b[0;32m    354\u001b[0m \u001b[38;5;28;01mexcept\u001b[39;00m \u001b[38;5;167;01mStopIteration\u001b[39;00m \u001b[38;5;28;01mas\u001b[39;00m err:\n\u001b[1;32m--> 355\u001b[0m     \u001b[38;5;28;01mraise\u001b[39;00m JSONDecodeError(\u001b[38;5;124m\"\u001b[39m\u001b[38;5;124mExpecting value\u001b[39m\u001b[38;5;124m\"\u001b[39m, s, err\u001b[38;5;241m.\u001b[39mvalue) \u001b[38;5;28;01mfrom\u001b[39;00m \u001b[38;5;28;01mNone\u001b[39;00m\n\u001b[0;32m    356\u001b[0m \u001b[38;5;28;01mreturn\u001b[39;00m obj, end\n",
            "\u001b[1;31mJSONDecodeError\u001b[0m: Expecting value: line 1 column 1 (char 0)",
            "\nThe above exception was the direct cause of the following exception:\n",
            "\u001b[1;31mOutputParserException\u001b[0m                     Traceback (most recent call last)",
            "Cell \u001b[1;32mIn[165], line 1\u001b[0m\n\u001b[1;32m----> 1\u001b[0m event \u001b[38;5;241m=\u001b[39m \u001b[43mgraph\u001b[49m\u001b[38;5;241;43m.\u001b[39;49m\u001b[43minvoke\u001b[49m\u001b[43m(\u001b[49m\u001b[43m{\u001b[49m\u001b[38;5;124;43m\"\u001b[39;49m\u001b[38;5;124;43mpages\u001b[39;49m\u001b[38;5;124;43m\"\u001b[39;49m\u001b[43m:\u001b[49m\u001b[43m[\u001b[49m\u001b[38;5;124;43m\"\u001b[39;49m\u001b[38;5;124;43mPROFILE\u001b[39;49m\u001b[38;5;124;43m\"\u001b[39;49m\u001b[43m,\u001b[49m\u001b[38;5;124;43m\"\u001b[39;49m\u001b[38;5;124;43m개요\u001b[39;49m\u001b[38;5;124;43m\"\u001b[39;49m\u001b[43m,\u001b[49m\u001b[38;5;124;43m\"\u001b[39;49m\u001b[38;5;124;43m멤버\u001b[39;49m\u001b[38;5;124;43m\"\u001b[39;49m\u001b[43m,\u001b[49m\u001b[38;5;124;43m\"\u001b[39;49m\u001b[38;5;124;43m팬덤\u001b[39;49m\u001b[38;5;124;43m\"\u001b[39;49m\u001b[43m]\u001b[49m\u001b[43m}\u001b[49m\u001b[43m)\u001b[49m\n",
            "File \u001b[1;32mc:\\Users\\sanghyoon\\Documents\\Github\\idol_info_finder\\idol_info_finder-2\\venv\\lib\\site-packages\\langgraph\\pregel\\__init__.py:1586\u001b[0m, in \u001b[0;36mPregel.invoke\u001b[1;34m(self, input, config, stream_mode, output_keys, interrupt_before, interrupt_after, debug, **kwargs)\u001b[0m\n\u001b[0;32m   1584\u001b[0m \u001b[38;5;28;01melse\u001b[39;00m:\n\u001b[0;32m   1585\u001b[0m     chunks \u001b[38;5;241m=\u001b[39m []\n\u001b[1;32m-> 1586\u001b[0m \u001b[38;5;28;01mfor\u001b[39;00m chunk \u001b[38;5;129;01min\u001b[39;00m \u001b[38;5;28mself\u001b[39m\u001b[38;5;241m.\u001b[39mstream(\n\u001b[0;32m   1587\u001b[0m     \u001b[38;5;28minput\u001b[39m,\n\u001b[0;32m   1588\u001b[0m     config,\n\u001b[0;32m   1589\u001b[0m     stream_mode\u001b[38;5;241m=\u001b[39mstream_mode,\n\u001b[0;32m   1590\u001b[0m     output_keys\u001b[38;5;241m=\u001b[39moutput_keys,\n\u001b[0;32m   1591\u001b[0m     interrupt_before\u001b[38;5;241m=\u001b[39minterrupt_before,\n\u001b[0;32m   1592\u001b[0m     interrupt_after\u001b[38;5;241m=\u001b[39minterrupt_after,\n\u001b[0;32m   1593\u001b[0m     debug\u001b[38;5;241m=\u001b[39mdebug,\n\u001b[0;32m   1594\u001b[0m     \u001b[38;5;241m*\u001b[39m\u001b[38;5;241m*\u001b[39mkwargs,\n\u001b[0;32m   1595\u001b[0m ):\n\u001b[0;32m   1596\u001b[0m     \u001b[38;5;28;01mif\u001b[39;00m stream_mode \u001b[38;5;241m==\u001b[39m \u001b[38;5;124m\"\u001b[39m\u001b[38;5;124mvalues\u001b[39m\u001b[38;5;124m\"\u001b[39m:\n\u001b[0;32m   1597\u001b[0m         latest \u001b[38;5;241m=\u001b[39m chunk\n",
            "File \u001b[1;32mc:\\Users\\sanghyoon\\Documents\\Github\\idol_info_finder\\idol_info_finder-2\\venv\\lib\\site-packages\\langgraph\\pregel\\__init__.py:1315\u001b[0m, in \u001b[0;36mPregel.stream\u001b[1;34m(self, input, config, stream_mode, output_keys, interrupt_before, interrupt_after, debug, subgraphs)\u001b[0m\n\u001b[0;32m   1304\u001b[0m     \u001b[38;5;66;03m# Similarly to Bulk Synchronous Parallel / Pregel model\u001b[39;00m\n\u001b[0;32m   1305\u001b[0m     \u001b[38;5;66;03m# computation proceeds in steps, while there are channel updates\u001b[39;00m\n\u001b[0;32m   1306\u001b[0m     \u001b[38;5;66;03m# channel updates from step N are only visible in step N+1\u001b[39;00m\n\u001b[0;32m   1307\u001b[0m     \u001b[38;5;66;03m# channels are guaranteed to be immutable for the duration of the step,\u001b[39;00m\n\u001b[0;32m   1308\u001b[0m     \u001b[38;5;66;03m# with channel updates applied only at the transition between steps\u001b[39;00m\n\u001b[0;32m   1309\u001b[0m     \u001b[38;5;28;01mwhile\u001b[39;00m loop\u001b[38;5;241m.\u001b[39mtick(\n\u001b[0;32m   1310\u001b[0m         input_keys\u001b[38;5;241m=\u001b[39m\u001b[38;5;28mself\u001b[39m\u001b[38;5;241m.\u001b[39minput_channels,\n\u001b[0;32m   1311\u001b[0m         interrupt_before\u001b[38;5;241m=\u001b[39minterrupt_before_,\n\u001b[0;32m   1312\u001b[0m         interrupt_after\u001b[38;5;241m=\u001b[39minterrupt_after_,\n\u001b[0;32m   1313\u001b[0m         manager\u001b[38;5;241m=\u001b[39mrun_manager,\n\u001b[0;32m   1314\u001b[0m     ):\n\u001b[1;32m-> 1315\u001b[0m         \u001b[38;5;28;01mfor\u001b[39;00m _ \u001b[38;5;129;01min\u001b[39;00m runner\u001b[38;5;241m.\u001b[39mtick(\n\u001b[0;32m   1316\u001b[0m             loop\u001b[38;5;241m.\u001b[39mtasks\u001b[38;5;241m.\u001b[39mvalues(),\n\u001b[0;32m   1317\u001b[0m             timeout\u001b[38;5;241m=\u001b[39m\u001b[38;5;28mself\u001b[39m\u001b[38;5;241m.\u001b[39mstep_timeout,\n\u001b[0;32m   1318\u001b[0m             retry_policy\u001b[38;5;241m=\u001b[39m\u001b[38;5;28mself\u001b[39m\u001b[38;5;241m.\u001b[39mretry_policy,\n\u001b[0;32m   1319\u001b[0m             get_waiter\u001b[38;5;241m=\u001b[39mget_waiter,\n\u001b[0;32m   1320\u001b[0m         ):\n\u001b[0;32m   1321\u001b[0m             \u001b[38;5;66;03m# emit output\u001b[39;00m\n\u001b[0;32m   1322\u001b[0m             \u001b[38;5;28;01myield from\u001b[39;00m output()\n\u001b[0;32m   1323\u001b[0m \u001b[38;5;66;03m# emit output\u001b[39;00m\n",
            "File \u001b[1;32mc:\\Users\\sanghyoon\\Documents\\Github\\idol_info_finder\\idol_info_finder-2\\venv\\lib\\site-packages\\langgraph\\pregel\\runner.py:56\u001b[0m, in \u001b[0;36mPregelRunner.tick\u001b[1;34m(self, tasks, reraise, timeout, retry_policy, get_waiter)\u001b[0m\n\u001b[0;32m     54\u001b[0m t \u001b[38;5;241m=\u001b[39m tasks[\u001b[38;5;241m0\u001b[39m]\n\u001b[0;32m     55\u001b[0m \u001b[38;5;28;01mtry\u001b[39;00m:\n\u001b[1;32m---> 56\u001b[0m     \u001b[43mrun_with_retry\u001b[49m\u001b[43m(\u001b[49m\u001b[43mt\u001b[49m\u001b[43m,\u001b[49m\u001b[43m \u001b[49m\u001b[43mretry_policy\u001b[49m\u001b[43m)\u001b[49m\n\u001b[0;32m     57\u001b[0m     \u001b[38;5;28mself\u001b[39m\u001b[38;5;241m.\u001b[39mcommit(t, \u001b[38;5;28;01mNone\u001b[39;00m)\n\u001b[0;32m     58\u001b[0m \u001b[38;5;28;01mexcept\u001b[39;00m \u001b[38;5;167;01mException\u001b[39;00m \u001b[38;5;28;01mas\u001b[39;00m exc:\n",
            "File \u001b[1;32mc:\\Users\\sanghyoon\\Documents\\Github\\idol_info_finder\\idol_info_finder-2\\venv\\lib\\site-packages\\langgraph\\pregel\\retry.py:29\u001b[0m, in \u001b[0;36mrun_with_retry\u001b[1;34m(task, retry_policy)\u001b[0m\n\u001b[0;32m     27\u001b[0m task\u001b[38;5;241m.\u001b[39mwrites\u001b[38;5;241m.\u001b[39mclear()\n\u001b[0;32m     28\u001b[0m \u001b[38;5;66;03m# run the task\u001b[39;00m\n\u001b[1;32m---> 29\u001b[0m \u001b[43mtask\u001b[49m\u001b[38;5;241;43m.\u001b[39;49m\u001b[43mproc\u001b[49m\u001b[38;5;241;43m.\u001b[39;49m\u001b[43minvoke\u001b[49m\u001b[43m(\u001b[49m\u001b[43mtask\u001b[49m\u001b[38;5;241;43m.\u001b[39;49m\u001b[43minput\u001b[49m\u001b[43m,\u001b[49m\u001b[43m \u001b[49m\u001b[43mconfig\u001b[49m\u001b[43m)\u001b[49m\n\u001b[0;32m     30\u001b[0m \u001b[38;5;66;03m# if successful, end\u001b[39;00m\n\u001b[0;32m     31\u001b[0m \u001b[38;5;28;01mbreak\u001b[39;00m\n",
            "File \u001b[1;32mc:\\Users\\sanghyoon\\Documents\\Github\\idol_info_finder\\idol_info_finder-2\\venv\\lib\\site-packages\\langgraph\\utils\\runnable.py:410\u001b[0m, in \u001b[0;36mRunnableSeq.invoke\u001b[1;34m(self, input, config, **kwargs)\u001b[0m\n\u001b[0;32m    408\u001b[0m context\u001b[38;5;241m.\u001b[39mrun(_set_config_context, config)\n\u001b[0;32m    409\u001b[0m \u001b[38;5;28;01mif\u001b[39;00m i \u001b[38;5;241m==\u001b[39m \u001b[38;5;241m0\u001b[39m:\n\u001b[1;32m--> 410\u001b[0m     \u001b[38;5;28minput\u001b[39m \u001b[38;5;241m=\u001b[39m context\u001b[38;5;241m.\u001b[39mrun(step\u001b[38;5;241m.\u001b[39minvoke, \u001b[38;5;28minput\u001b[39m, config, \u001b[38;5;241m*\u001b[39m\u001b[38;5;241m*\u001b[39mkwargs)\n\u001b[0;32m    411\u001b[0m \u001b[38;5;28;01melse\u001b[39;00m:\n\u001b[0;32m    412\u001b[0m     \u001b[38;5;28minput\u001b[39m \u001b[38;5;241m=\u001b[39m context\u001b[38;5;241m.\u001b[39mrun(step\u001b[38;5;241m.\u001b[39minvoke, \u001b[38;5;28minput\u001b[39m, config)\n",
            "File \u001b[1;32mc:\\Users\\sanghyoon\\Documents\\Github\\idol_info_finder\\idol_info_finder-2\\venv\\lib\\site-packages\\langgraph\\pregel\\__init__.py:1586\u001b[0m, in \u001b[0;36mPregel.invoke\u001b[1;34m(self, input, config, stream_mode, output_keys, interrupt_before, interrupt_after, debug, **kwargs)\u001b[0m\n\u001b[0;32m   1584\u001b[0m \u001b[38;5;28;01melse\u001b[39;00m:\n\u001b[0;32m   1585\u001b[0m     chunks \u001b[38;5;241m=\u001b[39m []\n\u001b[1;32m-> 1586\u001b[0m \u001b[38;5;28;01mfor\u001b[39;00m chunk \u001b[38;5;129;01min\u001b[39;00m \u001b[38;5;28mself\u001b[39m\u001b[38;5;241m.\u001b[39mstream(\n\u001b[0;32m   1587\u001b[0m     \u001b[38;5;28minput\u001b[39m,\n\u001b[0;32m   1588\u001b[0m     config,\n\u001b[0;32m   1589\u001b[0m     stream_mode\u001b[38;5;241m=\u001b[39mstream_mode,\n\u001b[0;32m   1590\u001b[0m     output_keys\u001b[38;5;241m=\u001b[39moutput_keys,\n\u001b[0;32m   1591\u001b[0m     interrupt_before\u001b[38;5;241m=\u001b[39minterrupt_before,\n\u001b[0;32m   1592\u001b[0m     interrupt_after\u001b[38;5;241m=\u001b[39minterrupt_after,\n\u001b[0;32m   1593\u001b[0m     debug\u001b[38;5;241m=\u001b[39mdebug,\n\u001b[0;32m   1594\u001b[0m     \u001b[38;5;241m*\u001b[39m\u001b[38;5;241m*\u001b[39mkwargs,\n\u001b[0;32m   1595\u001b[0m ):\n\u001b[0;32m   1596\u001b[0m     \u001b[38;5;28;01mif\u001b[39;00m stream_mode \u001b[38;5;241m==\u001b[39m \u001b[38;5;124m\"\u001b[39m\u001b[38;5;124mvalues\u001b[39m\u001b[38;5;124m\"\u001b[39m:\n\u001b[0;32m   1597\u001b[0m         latest \u001b[38;5;241m=\u001b[39m chunk\n",
            "File \u001b[1;32mc:\\Users\\sanghyoon\\Documents\\Github\\idol_info_finder\\idol_info_finder-2\\venv\\lib\\site-packages\\langgraph\\pregel\\__init__.py:1315\u001b[0m, in \u001b[0;36mPregel.stream\u001b[1;34m(self, input, config, stream_mode, output_keys, interrupt_before, interrupt_after, debug, subgraphs)\u001b[0m\n\u001b[0;32m   1304\u001b[0m     \u001b[38;5;66;03m# Similarly to Bulk Synchronous Parallel / Pregel model\u001b[39;00m\n\u001b[0;32m   1305\u001b[0m     \u001b[38;5;66;03m# computation proceeds in steps, while there are channel updates\u001b[39;00m\n\u001b[0;32m   1306\u001b[0m     \u001b[38;5;66;03m# channel updates from step N are only visible in step N+1\u001b[39;00m\n\u001b[0;32m   1307\u001b[0m     \u001b[38;5;66;03m# channels are guaranteed to be immutable for the duration of the step,\u001b[39;00m\n\u001b[0;32m   1308\u001b[0m     \u001b[38;5;66;03m# with channel updates applied only at the transition between steps\u001b[39;00m\n\u001b[0;32m   1309\u001b[0m     \u001b[38;5;28;01mwhile\u001b[39;00m loop\u001b[38;5;241m.\u001b[39mtick(\n\u001b[0;32m   1310\u001b[0m         input_keys\u001b[38;5;241m=\u001b[39m\u001b[38;5;28mself\u001b[39m\u001b[38;5;241m.\u001b[39minput_channels,\n\u001b[0;32m   1311\u001b[0m         interrupt_before\u001b[38;5;241m=\u001b[39minterrupt_before_,\n\u001b[0;32m   1312\u001b[0m         interrupt_after\u001b[38;5;241m=\u001b[39minterrupt_after_,\n\u001b[0;32m   1313\u001b[0m         manager\u001b[38;5;241m=\u001b[39mrun_manager,\n\u001b[0;32m   1314\u001b[0m     ):\n\u001b[1;32m-> 1315\u001b[0m         \u001b[38;5;28;01mfor\u001b[39;00m _ \u001b[38;5;129;01min\u001b[39;00m runner\u001b[38;5;241m.\u001b[39mtick(\n\u001b[0;32m   1316\u001b[0m             loop\u001b[38;5;241m.\u001b[39mtasks\u001b[38;5;241m.\u001b[39mvalues(),\n\u001b[0;32m   1317\u001b[0m             timeout\u001b[38;5;241m=\u001b[39m\u001b[38;5;28mself\u001b[39m\u001b[38;5;241m.\u001b[39mstep_timeout,\n\u001b[0;32m   1318\u001b[0m             retry_policy\u001b[38;5;241m=\u001b[39m\u001b[38;5;28mself\u001b[39m\u001b[38;5;241m.\u001b[39mretry_policy,\n\u001b[0;32m   1319\u001b[0m             get_waiter\u001b[38;5;241m=\u001b[39mget_waiter,\n\u001b[0;32m   1320\u001b[0m         ):\n\u001b[0;32m   1321\u001b[0m             \u001b[38;5;66;03m# emit output\u001b[39;00m\n\u001b[0;32m   1322\u001b[0m             \u001b[38;5;28;01myield from\u001b[39;00m output()\n\u001b[0;32m   1323\u001b[0m \u001b[38;5;66;03m# emit output\u001b[39;00m\n",
            "File \u001b[1;32mc:\\Users\\sanghyoon\\Documents\\Github\\idol_info_finder\\idol_info_finder-2\\venv\\lib\\site-packages\\langgraph\\pregel\\runner.py:111\u001b[0m, in \u001b[0;36mPregelRunner.tick\u001b[1;34m(self, tasks, reraise, timeout, retry_policy, get_waiter)\u001b[0m\n\u001b[0;32m    109\u001b[0m     \u001b[38;5;28;01myield\u001b[39;00m\n\u001b[0;32m    110\u001b[0m \u001b[38;5;66;03m# panic on failure or timeout\u001b[39;00m\n\u001b[1;32m--> 111\u001b[0m \u001b[43m_panic_or_proceed\u001b[49m\u001b[43m(\u001b[49m\u001b[43mall_futures\u001b[49m\u001b[43m,\u001b[49m\u001b[43m \u001b[49m\u001b[43mpanic\u001b[49m\u001b[38;5;241;43m=\u001b[39;49m\u001b[43mreraise\u001b[49m\u001b[43m)\u001b[49m\n",
            "File \u001b[1;32mc:\\Users\\sanghyoon\\Documents\\Github\\idol_info_finder\\idol_info_finder-2\\venv\\lib\\site-packages\\langgraph\\pregel\\runner.py:273\u001b[0m, in \u001b[0;36m_panic_or_proceed\u001b[1;34m(futs, timeout_exc_cls, panic)\u001b[0m\n\u001b[0;32m    271\u001b[0m \u001b[38;5;66;03m# raise the exception\u001b[39;00m\n\u001b[0;32m    272\u001b[0m \u001b[38;5;28;01mif\u001b[39;00m panic:\n\u001b[1;32m--> 273\u001b[0m     \u001b[38;5;28;01mraise\u001b[39;00m exc\n\u001b[0;32m    274\u001b[0m \u001b[38;5;28;01melse\u001b[39;00m:\n\u001b[0;32m    275\u001b[0m     \u001b[38;5;28;01mreturn\u001b[39;00m\n",
            "File \u001b[1;32mc:\\Users\\sanghyoon\\Documents\\Github\\idol_info_finder\\idol_info_finder-2\\venv\\lib\\site-packages\\langgraph\\pregel\\executor.py:70\u001b[0m, in \u001b[0;36mBackgroundExecutor.done\u001b[1;34m(self, task)\u001b[0m\n\u001b[0;32m     68\u001b[0m \u001b[38;5;28;01mdef\u001b[39;00m \u001b[38;5;21mdone\u001b[39m(\u001b[38;5;28mself\u001b[39m, task: concurrent\u001b[38;5;241m.\u001b[39mfutures\u001b[38;5;241m.\u001b[39mFuture) \u001b[38;5;241m-\u001b[39m\u001b[38;5;241m>\u001b[39m \u001b[38;5;28;01mNone\u001b[39;00m:\n\u001b[0;32m     69\u001b[0m     \u001b[38;5;28;01mtry\u001b[39;00m:\n\u001b[1;32m---> 70\u001b[0m         \u001b[43mtask\u001b[49m\u001b[38;5;241;43m.\u001b[39;49m\u001b[43mresult\u001b[49m\u001b[43m(\u001b[49m\u001b[43m)\u001b[49m\n\u001b[0;32m     71\u001b[0m     \u001b[38;5;28;01mexcept\u001b[39;00m GraphInterrupt:\n\u001b[0;32m     72\u001b[0m         \u001b[38;5;66;03m# This exception is an interruption signal, not an error\u001b[39;00m\n\u001b[0;32m     73\u001b[0m         \u001b[38;5;66;03m# so we don't want to re-raise it on exit\u001b[39;00m\n\u001b[0;32m     74\u001b[0m         \u001b[38;5;28mself\u001b[39m\u001b[38;5;241m.\u001b[39mtasks\u001b[38;5;241m.\u001b[39mpop(task)\n",
            "File \u001b[1;32mc:\\Python\\lib\\concurrent\\futures\\_base.py:438\u001b[0m, in \u001b[0;36mFuture.result\u001b[1;34m(self, timeout)\u001b[0m\n\u001b[0;32m    436\u001b[0m     \u001b[38;5;28;01mraise\u001b[39;00m CancelledError()\n\u001b[0;32m    437\u001b[0m \u001b[38;5;28;01melif\u001b[39;00m \u001b[38;5;28mself\u001b[39m\u001b[38;5;241m.\u001b[39m_state \u001b[38;5;241m==\u001b[39m FINISHED:\n\u001b[1;32m--> 438\u001b[0m     \u001b[38;5;28;01mreturn\u001b[39;00m \u001b[38;5;28;43mself\u001b[39;49m\u001b[38;5;241;43m.\u001b[39;49m\u001b[43m__get_result\u001b[49m\u001b[43m(\u001b[49m\u001b[43m)\u001b[49m\n\u001b[0;32m    440\u001b[0m \u001b[38;5;28mself\u001b[39m\u001b[38;5;241m.\u001b[39m_condition\u001b[38;5;241m.\u001b[39mwait(timeout)\n\u001b[0;32m    442\u001b[0m \u001b[38;5;28;01mif\u001b[39;00m \u001b[38;5;28mself\u001b[39m\u001b[38;5;241m.\u001b[39m_state \u001b[38;5;129;01min\u001b[39;00m [CANCELLED, CANCELLED_AND_NOTIFIED]:\n",
            "File \u001b[1;32mc:\\Python\\lib\\concurrent\\futures\\_base.py:390\u001b[0m, in \u001b[0;36mFuture.__get_result\u001b[1;34m(self)\u001b[0m\n\u001b[0;32m    388\u001b[0m \u001b[38;5;28;01mif\u001b[39;00m \u001b[38;5;28mself\u001b[39m\u001b[38;5;241m.\u001b[39m_exception:\n\u001b[0;32m    389\u001b[0m     \u001b[38;5;28;01mtry\u001b[39;00m:\n\u001b[1;32m--> 390\u001b[0m         \u001b[38;5;28;01mraise\u001b[39;00m \u001b[38;5;28mself\u001b[39m\u001b[38;5;241m.\u001b[39m_exception\n\u001b[0;32m    391\u001b[0m     \u001b[38;5;28;01mfinally\u001b[39;00m:\n\u001b[0;32m    392\u001b[0m         \u001b[38;5;66;03m# Break a reference cycle with the exception in self._exception\u001b[39;00m\n\u001b[0;32m    393\u001b[0m         \u001b[38;5;28mself\u001b[39m \u001b[38;5;241m=\u001b[39m \u001b[38;5;28;01mNone\u001b[39;00m\n",
            "File \u001b[1;32mc:\\Python\\lib\\concurrent\\futures\\thread.py:52\u001b[0m, in \u001b[0;36m_WorkItem.run\u001b[1;34m(self)\u001b[0m\n\u001b[0;32m     49\u001b[0m     \u001b[38;5;28;01mreturn\u001b[39;00m\n\u001b[0;32m     51\u001b[0m \u001b[38;5;28;01mtry\u001b[39;00m:\n\u001b[1;32m---> 52\u001b[0m     result \u001b[38;5;241m=\u001b[39m \u001b[38;5;28mself\u001b[39m\u001b[38;5;241m.\u001b[39mfn(\u001b[38;5;241m*\u001b[39m\u001b[38;5;28mself\u001b[39m\u001b[38;5;241m.\u001b[39margs, \u001b[38;5;241m*\u001b[39m\u001b[38;5;241m*\u001b[39m\u001b[38;5;28mself\u001b[39m\u001b[38;5;241m.\u001b[39mkwargs)\n\u001b[0;32m     53\u001b[0m \u001b[38;5;28;01mexcept\u001b[39;00m \u001b[38;5;167;01mBaseException\u001b[39;00m \u001b[38;5;28;01mas\u001b[39;00m exc:\n\u001b[0;32m     54\u001b[0m     \u001b[38;5;28mself\u001b[39m\u001b[38;5;241m.\u001b[39mfuture\u001b[38;5;241m.\u001b[39mset_exception(exc)\n",
            "File \u001b[1;32mc:\\Users\\sanghyoon\\Documents\\Github\\idol_info_finder\\idol_info_finder-2\\venv\\lib\\site-packages\\langgraph\\pregel\\retry.py:29\u001b[0m, in \u001b[0;36mrun_with_retry\u001b[1;34m(task, retry_policy)\u001b[0m\n\u001b[0;32m     27\u001b[0m task\u001b[38;5;241m.\u001b[39mwrites\u001b[38;5;241m.\u001b[39mclear()\n\u001b[0;32m     28\u001b[0m \u001b[38;5;66;03m# run the task\u001b[39;00m\n\u001b[1;32m---> 29\u001b[0m \u001b[43mtask\u001b[49m\u001b[38;5;241;43m.\u001b[39;49m\u001b[43mproc\u001b[49m\u001b[38;5;241;43m.\u001b[39;49m\u001b[43minvoke\u001b[49m\u001b[43m(\u001b[49m\u001b[43mtask\u001b[49m\u001b[38;5;241;43m.\u001b[39;49m\u001b[43minput\u001b[49m\u001b[43m,\u001b[49m\u001b[43m \u001b[49m\u001b[43mconfig\u001b[49m\u001b[43m)\u001b[49m\n\u001b[0;32m     30\u001b[0m \u001b[38;5;66;03m# if successful, end\u001b[39;00m\n\u001b[0;32m     31\u001b[0m \u001b[38;5;28;01mbreak\u001b[39;00m\n",
            "File \u001b[1;32mc:\\Users\\sanghyoon\\Documents\\Github\\idol_info_finder\\idol_info_finder-2\\venv\\lib\\site-packages\\langgraph\\utils\\runnable.py:410\u001b[0m, in \u001b[0;36mRunnableSeq.invoke\u001b[1;34m(self, input, config, **kwargs)\u001b[0m\n\u001b[0;32m    408\u001b[0m context\u001b[38;5;241m.\u001b[39mrun(_set_config_context, config)\n\u001b[0;32m    409\u001b[0m \u001b[38;5;28;01mif\u001b[39;00m i \u001b[38;5;241m==\u001b[39m \u001b[38;5;241m0\u001b[39m:\n\u001b[1;32m--> 410\u001b[0m     \u001b[38;5;28minput\u001b[39m \u001b[38;5;241m=\u001b[39m context\u001b[38;5;241m.\u001b[39mrun(step\u001b[38;5;241m.\u001b[39minvoke, \u001b[38;5;28minput\u001b[39m, config, \u001b[38;5;241m*\u001b[39m\u001b[38;5;241m*\u001b[39mkwargs)\n\u001b[0;32m    411\u001b[0m \u001b[38;5;28;01melse\u001b[39;00m:\n\u001b[0;32m    412\u001b[0m     \u001b[38;5;28minput\u001b[39m \u001b[38;5;241m=\u001b[39m context\u001b[38;5;241m.\u001b[39mrun(step\u001b[38;5;241m.\u001b[39minvoke, \u001b[38;5;28minput\u001b[39m, config)\n",
            "File \u001b[1;32mc:\\Users\\sanghyoon\\Documents\\Github\\idol_info_finder\\idol_info_finder-2\\venv\\lib\\site-packages\\langgraph\\utils\\runnable.py:184\u001b[0m, in \u001b[0;36mRunnableCallable.invoke\u001b[1;34m(self, input, config, **kwargs)\u001b[0m\n\u001b[0;32m    182\u001b[0m \u001b[38;5;28;01melse\u001b[39;00m:\n\u001b[0;32m    183\u001b[0m     context\u001b[38;5;241m.\u001b[39mrun(_set_config_context, config)\n\u001b[1;32m--> 184\u001b[0m     ret \u001b[38;5;241m=\u001b[39m context\u001b[38;5;241m.\u001b[39mrun(\u001b[38;5;28mself\u001b[39m\u001b[38;5;241m.\u001b[39mfunc, \u001b[38;5;28minput\u001b[39m, \u001b[38;5;241m*\u001b[39m\u001b[38;5;241m*\u001b[39mkwargs)\n\u001b[0;32m    185\u001b[0m \u001b[38;5;28;01mif\u001b[39;00m \u001b[38;5;28misinstance\u001b[39m(ret, Runnable) \u001b[38;5;129;01mand\u001b[39;00m \u001b[38;5;28mself\u001b[39m\u001b[38;5;241m.\u001b[39mrecurse:\n\u001b[0;32m    186\u001b[0m     \u001b[38;5;28;01mreturn\u001b[39;00m ret\u001b[38;5;241m.\u001b[39minvoke(\u001b[38;5;28minput\u001b[39m, config)\n",
            "Cell \u001b[1;32mIn[124], line 55\u001b[0m, in \u001b[0;36manswer_from_origin\u001b[1;34m(state)\u001b[0m\n\u001b[0;32m     48\u001b[0m   prompt \u001b[38;5;241m=\u001b[39m prompt\u001b[38;5;241m.\u001b[39mpartial(format_instructions\u001b[38;5;241m=\u001b[39m\u001b[38;5;28mformat\u001b[39m\u001b[38;5;241m.\u001b[39mget_format_instructions())\n\u001b[0;32m     50\u001b[0m chain \u001b[38;5;241m=\u001b[39m {\n\u001b[0;32m     51\u001b[0m         \u001b[38;5;124m'\u001b[39m\u001b[38;5;124mcontext\u001b[39m\u001b[38;5;124m'\u001b[39m: itemgetter(\u001b[38;5;124m'\u001b[39m\u001b[38;5;124mcontext\u001b[39m\u001b[38;5;124m'\u001b[39m) \u001b[38;5;241m|\u001b[39m RunnablePassthrough()\n\u001b[0;32m     52\u001b[0m       , \u001b[38;5;124m'\u001b[39m\u001b[38;5;124mquestion\u001b[39m\u001b[38;5;124m'\u001b[39m: itemgetter(\u001b[38;5;124m'\u001b[39m\u001b[38;5;124mquestion\u001b[39m\u001b[38;5;124m'\u001b[39m) \u001b[38;5;241m|\u001b[39m RunnablePassthrough()\n\u001b[0;32m     53\u001b[0m   } \u001b[38;5;241m|\u001b[39m prompt \u001b[38;5;241m|\u001b[39m llm \u001b[38;5;241m|\u001b[39m \u001b[38;5;28mformat\u001b[39m\n\u001b[1;32m---> 55\u001b[0m answer \u001b[38;5;241m=\u001b[39m \u001b[43mchain\u001b[49m\u001b[38;5;241;43m.\u001b[39;49m\u001b[43minvoke\u001b[49m\u001b[43m(\u001b[49m\u001b[43m{\u001b[49m\u001b[38;5;124;43m\"\u001b[39;49m\u001b[38;5;124;43mquestion\u001b[39;49m\u001b[38;5;124;43m\"\u001b[39;49m\u001b[43m:\u001b[49m\u001b[43m \u001b[49m\u001b[43mquestion\u001b[49m\u001b[43m,\u001b[49m\u001b[43m \u001b[49m\u001b[38;5;124;43m\"\u001b[39;49m\u001b[38;5;124;43mcontext\u001b[39;49m\u001b[38;5;124;43m\"\u001b[39;49m\u001b[43m:\u001b[49m\u001b[43mdoc\u001b[49m\u001b[43m}\u001b[49m\u001b[43m)\u001b[49m\n\u001b[0;32m     56\u001b[0m \u001b[38;5;66;03m# print(answer)\u001b[39;00m\n\u001b[0;32m     57\u001b[0m \n\u001b[0;32m     58\u001b[0m \u001b[38;5;66;03m# meta.update(answer)\u001b[39;00m\n\u001b[0;32m     59\u001b[0m \u001b[38;5;28;01mreturn\u001b[39;00m {\u001b[38;5;124m\"\u001b[39m\u001b[38;5;124manswers\u001b[39m\u001b[38;5;124m\"\u001b[39m:[answer]}\n",
            "File \u001b[1;32mc:\\Users\\sanghyoon\\Documents\\Github\\idol_info_finder\\idol_info_finder-2\\venv\\lib\\site-packages\\langchain_core\\runnables\\base.py:3024\u001b[0m, in \u001b[0;36mRunnableSequence.invoke\u001b[1;34m(self, input, config, **kwargs)\u001b[0m\n\u001b[0;32m   3022\u001b[0m             \u001b[38;5;28minput\u001b[39m \u001b[38;5;241m=\u001b[39m context\u001b[38;5;241m.\u001b[39mrun(step\u001b[38;5;241m.\u001b[39minvoke, \u001b[38;5;28minput\u001b[39m, config, \u001b[38;5;241m*\u001b[39m\u001b[38;5;241m*\u001b[39mkwargs)\n\u001b[0;32m   3023\u001b[0m         \u001b[38;5;28;01melse\u001b[39;00m:\n\u001b[1;32m-> 3024\u001b[0m             \u001b[38;5;28minput\u001b[39m \u001b[38;5;241m=\u001b[39m \u001b[43mcontext\u001b[49m\u001b[38;5;241;43m.\u001b[39;49m\u001b[43mrun\u001b[49m\u001b[43m(\u001b[49m\u001b[43mstep\u001b[49m\u001b[38;5;241;43m.\u001b[39;49m\u001b[43minvoke\u001b[49m\u001b[43m,\u001b[49m\u001b[43m \u001b[49m\u001b[38;5;28;43minput\u001b[39;49m\u001b[43m,\u001b[49m\u001b[43m \u001b[49m\u001b[43mconfig\u001b[49m\u001b[43m)\u001b[49m\n\u001b[0;32m   3025\u001b[0m \u001b[38;5;66;03m# finish the root run\u001b[39;00m\n\u001b[0;32m   3026\u001b[0m \u001b[38;5;28;01mexcept\u001b[39;00m \u001b[38;5;167;01mBaseException\u001b[39;00m \u001b[38;5;28;01mas\u001b[39;00m e:\n",
            "File \u001b[1;32mc:\\Users\\sanghyoon\\Documents\\Github\\idol_info_finder\\idol_info_finder-2\\venv\\lib\\site-packages\\langchain_core\\output_parsers\\base.py:193\u001b[0m, in \u001b[0;36mBaseOutputParser.invoke\u001b[1;34m(self, input, config, **kwargs)\u001b[0m\n\u001b[0;32m    186\u001b[0m \u001b[38;5;28;01mdef\u001b[39;00m \u001b[38;5;21minvoke\u001b[39m(\n\u001b[0;32m    187\u001b[0m     \u001b[38;5;28mself\u001b[39m,\n\u001b[0;32m    188\u001b[0m     \u001b[38;5;28minput\u001b[39m: Union[\u001b[38;5;28mstr\u001b[39m, BaseMessage],\n\u001b[0;32m    189\u001b[0m     config: Optional[RunnableConfig] \u001b[38;5;241m=\u001b[39m \u001b[38;5;28;01mNone\u001b[39;00m,\n\u001b[0;32m    190\u001b[0m     \u001b[38;5;241m*\u001b[39m\u001b[38;5;241m*\u001b[39mkwargs: Any,\n\u001b[0;32m    191\u001b[0m ) \u001b[38;5;241m-\u001b[39m\u001b[38;5;241m>\u001b[39m T:\n\u001b[0;32m    192\u001b[0m     \u001b[38;5;28;01mif\u001b[39;00m \u001b[38;5;28misinstance\u001b[39m(\u001b[38;5;28minput\u001b[39m, BaseMessage):\n\u001b[1;32m--> 193\u001b[0m         \u001b[38;5;28;01mreturn\u001b[39;00m \u001b[38;5;28;43mself\u001b[39;49m\u001b[38;5;241;43m.\u001b[39;49m\u001b[43m_call_with_config\u001b[49m\u001b[43m(\u001b[49m\n\u001b[0;32m    194\u001b[0m \u001b[43m            \u001b[49m\u001b[38;5;28;43;01mlambda\u001b[39;49;00m\u001b[43m \u001b[49m\u001b[43minner_input\u001b[49m\u001b[43m:\u001b[49m\u001b[43m \u001b[49m\u001b[38;5;28;43mself\u001b[39;49m\u001b[38;5;241;43m.\u001b[39;49m\u001b[43mparse_result\u001b[49m\u001b[43m(\u001b[49m\n\u001b[0;32m    195\u001b[0m \u001b[43m                \u001b[49m\u001b[43m[\u001b[49m\u001b[43mChatGeneration\u001b[49m\u001b[43m(\u001b[49m\u001b[43mmessage\u001b[49m\u001b[38;5;241;43m=\u001b[39;49m\u001b[43minner_input\u001b[49m\u001b[43m)\u001b[49m\u001b[43m]\u001b[49m\n\u001b[0;32m    196\u001b[0m \u001b[43m            \u001b[49m\u001b[43m)\u001b[49m\u001b[43m,\u001b[49m\n\u001b[0;32m    197\u001b[0m \u001b[43m            \u001b[49m\u001b[38;5;28;43minput\u001b[39;49m\u001b[43m,\u001b[49m\n\u001b[0;32m    198\u001b[0m \u001b[43m            \u001b[49m\u001b[43mconfig\u001b[49m\u001b[43m,\u001b[49m\n\u001b[0;32m    199\u001b[0m \u001b[43m            \u001b[49m\u001b[43mrun_type\u001b[49m\u001b[38;5;241;43m=\u001b[39;49m\u001b[38;5;124;43m\"\u001b[39;49m\u001b[38;5;124;43mparser\u001b[39;49m\u001b[38;5;124;43m\"\u001b[39;49m\u001b[43m,\u001b[49m\n\u001b[0;32m    200\u001b[0m \u001b[43m        \u001b[49m\u001b[43m)\u001b[49m\n\u001b[0;32m    201\u001b[0m     \u001b[38;5;28;01melse\u001b[39;00m:\n\u001b[0;32m    202\u001b[0m         \u001b[38;5;28;01mreturn\u001b[39;00m \u001b[38;5;28mself\u001b[39m\u001b[38;5;241m.\u001b[39m_call_with_config(\n\u001b[0;32m    203\u001b[0m             \u001b[38;5;28;01mlambda\u001b[39;00m inner_input: \u001b[38;5;28mself\u001b[39m\u001b[38;5;241m.\u001b[39mparse_result([Generation(text\u001b[38;5;241m=\u001b[39minner_input)]),\n\u001b[0;32m    204\u001b[0m             \u001b[38;5;28minput\u001b[39m,\n\u001b[0;32m    205\u001b[0m             config,\n\u001b[0;32m    206\u001b[0m             run_type\u001b[38;5;241m=\u001b[39m\u001b[38;5;124m\"\u001b[39m\u001b[38;5;124mparser\u001b[39m\u001b[38;5;124m\"\u001b[39m,\n\u001b[0;32m    207\u001b[0m         )\n",
            "File \u001b[1;32mc:\\Users\\sanghyoon\\Documents\\Github\\idol_info_finder\\idol_info_finder-2\\venv\\lib\\site-packages\\langchain_core\\runnables\\base.py:1927\u001b[0m, in \u001b[0;36mRunnable._call_with_config\u001b[1;34m(self, func, input, config, run_type, serialized, **kwargs)\u001b[0m\n\u001b[0;32m   1923\u001b[0m     context \u001b[38;5;241m=\u001b[39m copy_context()\n\u001b[0;32m   1924\u001b[0m     context\u001b[38;5;241m.\u001b[39mrun(_set_config_context, child_config)\n\u001b[0;32m   1925\u001b[0m     output \u001b[38;5;241m=\u001b[39m cast(\n\u001b[0;32m   1926\u001b[0m         Output,\n\u001b[1;32m-> 1927\u001b[0m         context\u001b[38;5;241m.\u001b[39mrun(\n\u001b[0;32m   1928\u001b[0m             call_func_with_variable_args,  \u001b[38;5;66;03m# type: ignore[arg-type]\u001b[39;00m\n\u001b[0;32m   1929\u001b[0m             func,  \u001b[38;5;66;03m# type: ignore[arg-type]\u001b[39;00m\n\u001b[0;32m   1930\u001b[0m             \u001b[38;5;28minput\u001b[39m,  \u001b[38;5;66;03m# type: ignore[arg-type]\u001b[39;00m\n\u001b[0;32m   1931\u001b[0m             config,\n\u001b[0;32m   1932\u001b[0m             run_manager,\n\u001b[0;32m   1933\u001b[0m             \u001b[38;5;241m*\u001b[39m\u001b[38;5;241m*\u001b[39mkwargs,\n\u001b[0;32m   1934\u001b[0m         ),\n\u001b[0;32m   1935\u001b[0m     )\n\u001b[0;32m   1936\u001b[0m \u001b[38;5;28;01mexcept\u001b[39;00m \u001b[38;5;167;01mBaseException\u001b[39;00m \u001b[38;5;28;01mas\u001b[39;00m e:\n\u001b[0;32m   1937\u001b[0m     run_manager\u001b[38;5;241m.\u001b[39mon_chain_error(e)\n",
            "File \u001b[1;32mc:\\Users\\sanghyoon\\Documents\\Github\\idol_info_finder\\idol_info_finder-2\\venv\\lib\\site-packages\\langchain_core\\runnables\\config.py:396\u001b[0m, in \u001b[0;36mcall_func_with_variable_args\u001b[1;34m(func, input, config, run_manager, **kwargs)\u001b[0m\n\u001b[0;32m    394\u001b[0m \u001b[38;5;28;01mif\u001b[39;00m run_manager \u001b[38;5;129;01mis\u001b[39;00m \u001b[38;5;129;01mnot\u001b[39;00m \u001b[38;5;28;01mNone\u001b[39;00m \u001b[38;5;129;01mand\u001b[39;00m accepts_run_manager(func):\n\u001b[0;32m    395\u001b[0m     kwargs[\u001b[38;5;124m\"\u001b[39m\u001b[38;5;124mrun_manager\u001b[39m\u001b[38;5;124m\"\u001b[39m] \u001b[38;5;241m=\u001b[39m run_manager\n\u001b[1;32m--> 396\u001b[0m \u001b[38;5;28;01mreturn\u001b[39;00m func(\u001b[38;5;28minput\u001b[39m, \u001b[38;5;241m*\u001b[39m\u001b[38;5;241m*\u001b[39mkwargs)\n",
            "File \u001b[1;32mc:\\Users\\sanghyoon\\Documents\\Github\\idol_info_finder\\idol_info_finder-2\\venv\\lib\\site-packages\\langchain_core\\output_parsers\\base.py:194\u001b[0m, in \u001b[0;36mBaseOutputParser.invoke.<locals>.<lambda>\u001b[1;34m(inner_input)\u001b[0m\n\u001b[0;32m    186\u001b[0m \u001b[38;5;28;01mdef\u001b[39;00m \u001b[38;5;21minvoke\u001b[39m(\n\u001b[0;32m    187\u001b[0m     \u001b[38;5;28mself\u001b[39m,\n\u001b[0;32m    188\u001b[0m     \u001b[38;5;28minput\u001b[39m: Union[\u001b[38;5;28mstr\u001b[39m, BaseMessage],\n\u001b[0;32m    189\u001b[0m     config: Optional[RunnableConfig] \u001b[38;5;241m=\u001b[39m \u001b[38;5;28;01mNone\u001b[39;00m,\n\u001b[0;32m    190\u001b[0m     \u001b[38;5;241m*\u001b[39m\u001b[38;5;241m*\u001b[39mkwargs: Any,\n\u001b[0;32m    191\u001b[0m ) \u001b[38;5;241m-\u001b[39m\u001b[38;5;241m>\u001b[39m T:\n\u001b[0;32m    192\u001b[0m     \u001b[38;5;28;01mif\u001b[39;00m \u001b[38;5;28misinstance\u001b[39m(\u001b[38;5;28minput\u001b[39m, BaseMessage):\n\u001b[0;32m    193\u001b[0m         \u001b[38;5;28;01mreturn\u001b[39;00m \u001b[38;5;28mself\u001b[39m\u001b[38;5;241m.\u001b[39m_call_with_config(\n\u001b[1;32m--> 194\u001b[0m             \u001b[38;5;28;01mlambda\u001b[39;00m inner_input: \u001b[38;5;28;43mself\u001b[39;49m\u001b[38;5;241;43m.\u001b[39;49m\u001b[43mparse_result\u001b[49m\u001b[43m(\u001b[49m\n\u001b[0;32m    195\u001b[0m \u001b[43m                \u001b[49m\u001b[43m[\u001b[49m\u001b[43mChatGeneration\u001b[49m\u001b[43m(\u001b[49m\u001b[43mmessage\u001b[49m\u001b[38;5;241;43m=\u001b[39;49m\u001b[43minner_input\u001b[49m\u001b[43m)\u001b[49m\u001b[43m]\u001b[49m\n\u001b[0;32m    196\u001b[0m \u001b[43m            \u001b[49m\u001b[43m)\u001b[49m,\n\u001b[0;32m    197\u001b[0m             \u001b[38;5;28minput\u001b[39m,\n\u001b[0;32m    198\u001b[0m             config,\n\u001b[0;32m    199\u001b[0m             run_type\u001b[38;5;241m=\u001b[39m\u001b[38;5;124m\"\u001b[39m\u001b[38;5;124mparser\u001b[39m\u001b[38;5;124m\"\u001b[39m,\n\u001b[0;32m    200\u001b[0m         )\n\u001b[0;32m    201\u001b[0m     \u001b[38;5;28;01melse\u001b[39;00m:\n\u001b[0;32m    202\u001b[0m         \u001b[38;5;28;01mreturn\u001b[39;00m \u001b[38;5;28mself\u001b[39m\u001b[38;5;241m.\u001b[39m_call_with_config(\n\u001b[0;32m    203\u001b[0m             \u001b[38;5;28;01mlambda\u001b[39;00m inner_input: \u001b[38;5;28mself\u001b[39m\u001b[38;5;241m.\u001b[39mparse_result([Generation(text\u001b[38;5;241m=\u001b[39minner_input)]),\n\u001b[0;32m    204\u001b[0m             \u001b[38;5;28minput\u001b[39m,\n\u001b[0;32m    205\u001b[0m             config,\n\u001b[0;32m    206\u001b[0m             run_type\u001b[38;5;241m=\u001b[39m\u001b[38;5;124m\"\u001b[39m\u001b[38;5;124mparser\u001b[39m\u001b[38;5;124m\"\u001b[39m,\n\u001b[0;32m    207\u001b[0m         )\n",
            "File \u001b[1;32mc:\\Users\\sanghyoon\\Documents\\Github\\idol_info_finder\\idol_info_finder-2\\venv\\lib\\site-packages\\langchain_core\\output_parsers\\json.py:86\u001b[0m, in \u001b[0;36mJsonOutputParser.parse_result\u001b[1;34m(self, result, partial)\u001b[0m\n\u001b[0;32m     84\u001b[0m \u001b[38;5;28;01mexcept\u001b[39;00m JSONDecodeError \u001b[38;5;28;01mas\u001b[39;00m e:\n\u001b[0;32m     85\u001b[0m     msg \u001b[38;5;241m=\u001b[39m \u001b[38;5;124mf\u001b[39m\u001b[38;5;124m\"\u001b[39m\u001b[38;5;124mInvalid json output: \u001b[39m\u001b[38;5;132;01m{\u001b[39;00mtext\u001b[38;5;132;01m}\u001b[39;00m\u001b[38;5;124m\"\u001b[39m\n\u001b[1;32m---> 86\u001b[0m     \u001b[38;5;28;01mraise\u001b[39;00m OutputParserException(msg, llm_output\u001b[38;5;241m=\u001b[39mtext) \u001b[38;5;28;01mfrom\u001b[39;00m \u001b[38;5;21;01me\u001b[39;00m\n",
            "\u001b[1;31mOutputParserException\u001b[0m: Invalid json output: \nFor troubleshooting, visit: https://python.langchain.com/docs/troubleshooting/errors/OUTPUT_PARSING_FAILURE"
          ]
        }
      ],
      "source": [
        "event = graph.invoke({\"pages\":[\"PROFILE\",\"개요\",\"멤버\",\"팬덤\"]})"
      ]
    },
    {
      "cell_type": "code",
      "execution_count": 159,
      "id": "9c83a738",
      "metadata": {},
      "outputs": [
        {
          "data": {
            "text/html": [
              "<div>\n",
              "<style scoped>\n",
              "    .dataframe tbody tr th:only-of-type {\n",
              "        vertical-align: middle;\n",
              "    }\n",
              "\n",
              "    .dataframe tbody tr th {\n",
              "        vertical-align: top;\n",
              "    }\n",
              "\n",
              "    .dataframe thead th {\n",
              "        text-align: right;\n",
              "    }\n",
              "</style>\n",
              "<table border=\"1\" class=\"dataframe\">\n",
              "  <thead>\n",
              "    <tr style=\"text-align: right;\">\n",
              "      <th></th>\n",
              "      <th>ctry</th>\n",
              "      <th>gender</th>\n",
              "      <th>genre</th>\n",
              "      <th>label_name</th>\n",
              "      <th>debut_date</th>\n",
              "      <th>member_list</th>\n",
              "      <th>member_cnt</th>\n",
              "      <th>fandom_name</th>\n",
              "    </tr>\n",
              "  </thead>\n",
              "  <tbody>\n",
              "    <tr>\n",
              "      <th>0</th>\n",
              "      <td>[JP, KR]</td>\n",
              "      <td>남성</td>\n",
              "      <td>[K-POP, J-POP]</td>\n",
              "      <td>[HYBE LABELS JAPAN]</td>\n",
              "      <td>2022-12-07</td>\n",
              "      <td>[케이, 후마, 니콜라스, 의주, 유마, 조, 하루아, 타키, 마키]</td>\n",
              "      <td>8</td>\n",
              "      <td>LUNÉ (루네)</td>\n",
              "    </tr>\n",
              "  </tbody>\n",
              "</table>\n",
              "</div>"
            ],
            "text/plain": [
              "       ctry gender           genre           label_name  debut_date  \\\n",
              "0  [JP, KR]     남성  [K-POP, J-POP]  [HYBE LABELS JAPAN]  2022-12-07   \n",
              "\n",
              "                              member_list  member_cnt fandom_name  \n",
              "0  [케이, 후마, 니콜라스, 의주, 유마, 조, 하루아, 타키, 마키]           8   LUNÉ (루네)  "
            ]
          },
          "execution_count": 159,
          "metadata": {},
          "output_type": "execute_result"
        }
      ],
      "source": [
        "event.get(\"mergeset\",\"\")"
      ]
    },
    {
      "cell_type": "markdown",
      "id": "CQRq8KSiXBxZ",
      "metadata": {
        "id": "CQRq8KSiXBxZ"
      },
      "source": [
        "# 프롬프트 최적화"
      ]
    },
    {
      "cell_type": "code",
      "execution_count": null,
      "id": "_95A18LPXDMO",
      "metadata": {
        "colab": {
          "base_uri": "https://localhost:8080/"
        },
        "executionInfo": {
          "elapsed": 2336,
          "status": "ok",
          "timestamp": 1728869416144,
          "user": {
            "displayName": "",
            "userId": ""
          },
          "user_tz": -540
        },
        "id": "_95A18LPXDMO",
        "outputId": "bc28a507-274f-4fe9-f73b-34a164d47df8"
      },
      "outputs": [],
      "source": [
        "# 컬럼명 & 컬럼용 질문 Dict 생성\n",
        "qq = singer_queries['member_list']['question']\n",
        "loc = '멤버'\n",
        "\n",
        "# 시스템 프롬프트 설정\n",
        "system_prompt = SystemMessagePromptTemplate.from_template(\n",
        "    \"\"\"\n",
        "    You are a biographical dictionary agent. Provide only factual information based solely on the provided Context.\n",
        "    Be friendly and helpful without being overly chatty. Do not use any prior knowledge beyond the Context.\n",
        "    If the answer is not found in the Context, respond with \"None\" Follow the specified Output Format below.\n",
        "\n",
        "    The input will be provided using the following tags:\n",
        "    <Context>...</Context>\n",
        "    <Question>...</Question>\n",
        "\n",
        "    Please extract the Context, Question, and Format from these tags and answer the query accordingly.\n",
        "    \"\"\"\n",
        ")\n",
        "\n",
        "human_prompt = HumanMessagePromptTemplate.from_template(\n",
        "    \"\"\"<Context>n{context}</Context>\\n\\n\n",
        "    <Question>{question}</Question>\\n\\n\n",
        "    \"\"\"\n",
        ")\n",
        "prompt = ChatPromptTemplate.from_messages([system_prompt, human_prompt])\n",
        "chain = {\n",
        "      'context': itemgetter('context') | RunnablePassthrough()\n",
        "    , 'question': itemgetter('question') | RunnablePassthrough()\n",
        "} | prompt | llm | StrOutputParser()\n",
        "\n",
        "result = chain.with_config(configurable={\n",
        "            #   \"llm\": 'gpt4o_mini',\n",
        "            \"llm\":\"gemini_flash\",\n",
        "              \"temparature\": 0,\n",
        "              \"max_tokens\": None #max_tokens\n",
        "          }).invoke({\"question\": qq, 'context': \"\\n\\n\".join([doc.page_content for doc in documents if doc.metadata['abs_page_toc_item'] == loc])})\n",
        "\n",
        "print(result)"
      ]
    },
    {
      "cell_type": "code",
      "execution_count": null,
      "id": "tzrRXy2ipdAI",
      "metadata": {
        "colab": {
          "base_uri": "https://localhost:8080/"
        },
        "executionInfo": {
          "elapsed": 3,
          "status": "ok",
          "timestamp": 1728869423989,
          "user": {
            "displayName": "",
            "userId": ""
          },
          "user_tz": -540
        },
        "id": "tzrRXy2ipdAI",
        "outputId": "6af5e8b7-381b-43a8-c923-0f65dcf24678"
      },
      "outputs": [],
      "source": [
        "type(chain)"
      ]
    },
    {
      "cell_type": "code",
      "execution_count": null,
      "id": "CeJtAxVBX_29",
      "metadata": {
        "colab": {
          "base_uri": "https://localhost:8080/",
          "height": 35
        },
        "executionInfo": {
          "elapsed": 308,
          "status": "ok",
          "timestamp": 1727741146613,
          "user": {
            "displayName": "",
            "userId": ""
          },
          "user_tz": -540
        },
        "id": "CeJtAxVBX_29",
        "outputId": "1ad9b47f-d05a-4100-cfbd-6a2b4aa99ded"
      },
      "outputs": [],
      "source": [
        "qq"
      ]
    },
    {
      "cell_type": "code",
      "execution_count": null,
      "id": "0D6SuYEHXvMm",
      "metadata": {
        "colab": {
          "base_uri": "https://localhost:8080/",
          "height": 182
        },
        "executionInfo": {
          "elapsed": 8,
          "status": "ok",
          "timestamp": 1727742503065,
          "user": {
            "displayName": "",
            "userId": ""
          },
          "user_tz": -540
        },
        "id": "0D6SuYEHXvMm",
        "outputId": "a53cd354-da67-402c-f9d3-e3de87e6627d"
      },
      "outputs": [],
      "source": [
        "\"\\n\\n\".join([doc.page_content for doc in documents if doc.metadata['parent_paper'] == '팬덤'])"
      ]
    }
  ],
  "metadata": {
    "colab": {
      "name": "art_meta_parse_agent",
      "provenance": [],
      "toc_visible": true
    },
    "kernelspec": {
      "display_name": "venv",
      "language": "python",
      "name": "python3"
    },
    "language_info": {
      "codemirror_mode": {
        "name": "ipython",
        "version": 3
      },
      "file_extension": ".py",
      "mimetype": "text/x-python",
      "name": "python",
      "nbconvert_exporter": "python",
      "pygments_lexer": "ipython3",
      "version": "3.10.0rc2"
    }
  },
  "nbformat": 4,
  "nbformat_minor": 5
}
