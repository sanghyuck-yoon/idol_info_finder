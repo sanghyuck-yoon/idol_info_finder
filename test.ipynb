{
 "cells": [
  {
   "cell_type": "markdown",
   "metadata": {},
   "source": [
    "# 패키지 설치"
   ]
  },
  {
   "cell_type": "code",
   "execution_count": 3,
   "metadata": {},
   "outputs": [],
   "source": [
    "import os\n",
    "from dotenv import load_dotenv\n",
    "\n",
    "load_dotenv()  # .env 파일에서 환경 변수를 불러옵니다.\n",
    "\n",
    "# api_key = os.getenv(\"OPENAI_API_KEY\")\n",
    "# print(f\"API Key: {api_key}\")\n",
    "os.environ['OPENAI_API_KEY'] = os.getenv(\"OPENAI_API_KEY\")"
   ]
  },
  {
   "cell_type": "code",
   "execution_count": 4,
   "metadata": {},
   "outputs": [
    {
     "name": "stderr",
     "output_type": "stream",
     "text": [
      "USER_AGENT environment variable not set, consider setting it to identify your requests.\n"
     ]
    }
   ],
   "source": [
    "# print('hello world')\n",
    "from langchain_openai import ChatOpenAI, OpenAIEmbeddings\n",
    "from langchain_anthropic import ChatAnthropic\n",
    "from langchain_core.output_parsers import StrOutputParser\n",
    "from langchain.prompts import ChatPromptTemplate\n",
    "from langchain_community.document_loaders import WebBaseLoader\n",
    "from langchain_text_splitters import RecursiveCharacterTextSplitter\n",
    "from langchain_core.runnables import ConfigurableField\n",
    "from langchain_community.vectorstores.faiss import FAISS"
   ]
  },
  {
   "cell_type": "code",
   "execution_count": 5,
   "metadata": {},
   "outputs": [],
   "source": [
    "from langchain_openai import ChatOpenAI\n",
    "from langchain_core.prompts import PromptTemplate\n",
    "\n",
    "llm = ChatOpenAI(model=\"gpt-3.5-turbo\", temperature=0.0)\n",
    "\n",
    "prompt = PromptTemplate.from_template(\"Question: {question}\\nAnswer:\")\n",
    "\n",
    "Question = '당신은 누구십니까?'\n",
    "\n",
    "response = llm.invoke(prompt.format(question=Question))"
   ]
  },
  {
   "cell_type": "code",
   "execution_count": 6,
   "metadata": {},
   "outputs": [
    {
     "data": {
      "text/plain": [
       "AIMessage(content='저는 인공지능 챗봇입니다.', response_metadata={'token_usage': {'completion_tokens': 15, 'prompt_tokens': 25, 'total_tokens': 40}, 'model_name': 'gpt-3.5-turbo-0125', 'system_fingerprint': None, 'finish_reason': 'stop', 'logprobs': None}, id='run-9debeaa5-75c2-45bb-8ed4-09040f587873-0', usage_metadata={'input_tokens': 25, 'output_tokens': 15, 'total_tokens': 40})"
      ]
     },
     "execution_count": 6,
     "metadata": {},
     "output_type": "execute_result"
    }
   ],
   "source": [
    "response"
   ]
  },
  {
   "cell_type": "code",
   "execution_count": 1,
   "metadata": {},
   "outputs": [],
   "source": [
    "import requests\n",
    "\n",
    "urls = {\n",
    "    \"namu_crawler.py\":\"https://raw.githubusercontent.com/lymanstudio/proj_artist_info_gen/main/namu_crawler.py\",\n",
    "    \"namu_loader.py\":\"https://raw.githubusercontent.com/lymanstudio/proj_artist_info_gen/main/namu_loader.py\"\n",
    "}\n",
    "\n",
    "for key, val in urls.items():    \n",
    "    r = requests.get(val)\n",
    "\n",
    "    # 다운로드한 파일을 현재 디렉토리에 저장\n",
    "    with open(key, \"w\", encoding='utf-8') as file:\n",
    "        file.write(r.text)\n",
    "\n",
    "# downloaded_module에서 클래스를 임포트\n",
    "from namu_crawler import NamuCrawler\n",
    "\n",
    "# MyClass의 인스턴스를 생성하고 메서드를 호출\n",
    "my_instance = NamuCrawler(\"https://namu.wiki/w/%ED%94%84%EB%A1%9C%EB%AF%B8%EC%8A%A4%EB%82%98%EC%9D%B8\", 3)\n"
   ]
  },
  {
   "cell_type": "code",
   "execution_count": 4,
   "metadata": {},
   "outputs": [
    {
     "data": {
      "text/plain": [
       "'프로미스나인'"
      ]
     },
     "execution_count": 4,
     "metadata": {},
     "output_type": "execute_result"
    }
   ],
   "source": [
    "my_instance.get_doc_title()"
   ]
  },
  {
   "cell_type": "code",
   "execution_count": 6,
   "metadata": {},
   "outputs": [
    {
     "name": "stdout",
     "output_type": "stream",
     "text": [
      "\n",
      "Document of 프로미스나인\n",
      "\n",
      "\n",
      "================== Table of Contents  ==================\n",
      "\n",
      "0. PROFILE\n",
      "1. 개요\n",
      "2. 멤버\n",
      "\t2.1. 멤버 간 케미\n",
      "\t2.2. 전 멤버\n",
      "3. 특징\n",
      "\t3.1. 로고\n",
      "\t3.2. 그룹명\n",
      "\t3.3. 콘셉트\n",
      "\t3.4. 비주얼\n",
      "4. 음반\n",
      "5. 뮤직비디오\n",
      "6. 활동\n",
      "\t6.1. YouTube\n",
      "\t6.2. V LIVE\n",
      "\t6.3. Weverse\n",
      "\t6.4. 음악 방송\n",
      "\t\t6.4.1. 방송 직캠\n",
      "\t\t6.4.2. 무대 의상\n",
      "\t6.5. 광고 및 화보\n",
      "\t6.6. 공연 및 행사\n",
      "7. 수상 경력\n",
      "8. 팬덤\n",
      "\t8.1. 응원법\n",
      "\t8.2. 굿즈\n",
      "9. 여담\n",
      "\t9.1. 숙소 현황\n",
      "10. 논란 및 사건 사고\n",
      "11. 역대 프로필 사진\n",
      "EOD. FOOTNOTES\n"
     ]
    }
   ],
   "source": [
    "my_instance.construct_toc()\n",
    "my_instance.print_toc()"
   ]
  }
 ],
 "metadata": {
  "kernelspec": {
   "display_name": "Python 3",
   "language": "python",
   "name": "python3"
  },
  "language_info": {
   "codemirror_mode": {
    "name": "ipython",
    "version": 3
   },
   "file_extension": ".py",
   "mimetype": "text/x-python",
   "name": "python",
   "nbconvert_exporter": "python",
   "pygments_lexer": "ipython3",
   "version": "3.10.0rc2"
  }
 },
 "nbformat": 4,
 "nbformat_minor": 2
}
