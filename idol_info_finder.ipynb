{
 "cells": [
  {
   "cell_type": "markdown",
   "metadata": {},
   "source": [
    "#Settings"
   ]
  },
  {
   "cell_type": "code",
   "execution_count": null,
   "metadata": {},
   "outputs": [],
   "source": [
    "import os\n",
    "from dotenv import load_dotenv\n",
    "\n",
    "load_dotenv()  # .env 파일에서 환경 변수를 불러옵니다.\n",
    "\n",
    "# api_key = os.getenv(\"OPENAI_API_KEY\")\n",
    "# print(f\"API Key: {api_key}\")\n",
    "google_api_key = os.getenv(\"GOOGLE_API_KEY\")\n",
    "search_engine_key = os.getenv(\"GOOGLE_SEARCH_ENGINE\")"
   ]
  },
  {
   "cell_type": "code",
   "execution_count": null,
   "metadata": {},
   "outputs": [],
   "source": [
    "import requests\n",
    "\n",
    "urls = {\n",
    "    \"namu_crawler.py\":\"https://raw.githubusercontent.com/lymanstudio/proj_artist_info_gen/main/namu_crawler.py\",\n",
    "    \"namu_loader.py\":\"https://raw.githubusercontent.com/lymanstudio/proj_artist_info_gen/main/namu_loader.py\"\n",
    "}\n",
    "\n",
    "for key, val in urls.items():    \n",
    "    r = requests.get(val)\n",
    "\n",
    "    # 다운로드한 파일을 현재 디렉토리에 저장\n",
    "    with open(key, \"w\", encoding='utf-8') as file:\n",
    "        file.write(r.text)\n"
   ]
  },
  {
   "cell_type": "code",
   "execution_count": null,
   "metadata": {},
   "outputs": [],
   "source": []
  }
 ],
 "metadata": {
  "language_info": {
   "name": "python"
  }
 },
 "nbformat": 4,
 "nbformat_minor": 2
}
